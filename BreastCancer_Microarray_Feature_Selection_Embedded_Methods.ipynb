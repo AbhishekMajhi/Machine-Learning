{
  "cells": [
    {
      "cell_type": "markdown",
      "metadata": {
        "id": "C_192xMPD6hE"
      },
      "source": [
        "# Imports"
      ]
    },
    {
      "cell_type": "code",
      "execution_count": null,
      "metadata": {
        "colab": {
          "base_uri": "https://localhost:8080/"
        },
        "id": "5W_jxyAxD3N4",
        "outputId": "fdf287c2-a82b-4de2-a6aa-9e1100046540"
      },
      "outputs": [
        {
          "name": "stdout",
          "output_type": "stream",
          "text": [
            "Drive already mounted at /content/drive; to attempt to forcibly remount, call drive.mount(\"/content/drive\", force_remount=True).\n"
          ]
        }
      ],
      "source": [
        "from google.colab import drive\n",
        "drive.mount('/content/drive')"
      ]
    },
    {
      "cell_type": "code",
      "execution_count": null,
      "metadata": {
        "id": "hpr_JL6aDTUB"
      },
      "outputs": [],
      "source": [
        "#imports\n",
        "import numpy as np\n",
        "import pandas as pd\n",
        "import matplotlib.pyplot as plt\n",
        "import seaborn as sns\n",
        "from sklearn.preprocessing import StandardScaler\n",
        "from sklearn.model_selection import train_test_split, cross_val_score\n",
        "from sklearn.metrics import classification_report, confusion_matrix\n",
        "from sklearn.metrics import ConfusionMatrixDisplay\n",
        "from sklearn.svm import SVC\n",
        "from sklearn.discriminant_analysis import LinearDiscriminantAnalysis\n",
        "from sklearn.linear_model import LogisticRegression\n",
        "from sklearn.ensemble import RandomForestClassifier\n",
        "from sklearn.naive_bayes import GaussianNB\n",
        "from sklearn.tree import DecisionTreeClassifier\n",
        "from sklearn import metrics\n",
        "sc = StandardScaler()"
      ]
    },
    {
      "cell_type": "markdown",
      "metadata": {
        "id": "Er_C0qCLEAiV"
      },
      "source": [
        "# Load & Prepare Data"
      ]
    },
    {
      "cell_type": "code",
      "execution_count": null,
      "metadata": {
        "id": "Wi5UgcigDhRT"
      },
      "outputs": [],
      "source": [
        "from scipy.io import arff\n",
        "import pandas as pd"
      ]
    },
    {
      "cell_type": "code",
      "execution_count": null,
      "metadata": {
        "colab": {
          "base_uri": "https://localhost:8080/",
          "height": 341
        },
        "id": "ni9wwRRnEFav",
        "outputId": "89b785f3-8100-4008-bf12-8e8856d7a38b"
      },
      "outputs": [
        {
          "data": {
            "text/html": [
              "\n",
              "  <div id=\"df-5b0c414d-2edf-47d2-a8c4-562ff345fc9d\">\n",
              "    <div class=\"colab-df-container\">\n",
              "      <div>\n",
              "<style scoped>\n",
              "    .dataframe tbody tr th:only-of-type {\n",
              "        vertical-align: middle;\n",
              "    }\n",
              "\n",
              "    .dataframe tbody tr th {\n",
              "        vertical-align: top;\n",
              "    }\n",
              "\n",
              "    .dataframe thead th {\n",
              "        text-align: right;\n",
              "    }\n",
              "</style>\n",
              "<table border=\"1\" class=\"dataframe\">\n",
              "  <thead>\n",
              "    <tr style=\"text-align: right;\">\n",
              "      <th></th>\n",
              "      <th>Contig45645_RC</th>\n",
              "      <th>Contig44916_RC</th>\n",
              "      <th>D25272</th>\n",
              "      <th>J00129</th>\n",
              "      <th>Contig29982_RC</th>\n",
              "      <th>Contig26811</th>\n",
              "      <th>D25274</th>\n",
              "      <th>Contig36292</th>\n",
              "      <th>Contig42854</th>\n",
              "      <th>Contig34839</th>\n",
              "      <th>...</th>\n",
              "      <th>NM_000898</th>\n",
              "      <th>NM_000899</th>\n",
              "      <th>Contig20164_RC</th>\n",
              "      <th>Contig8985_RC</th>\n",
              "      <th>Contig36062_RC</th>\n",
              "      <th>Contig35333_RC</th>\n",
              "      <th>Contig62037_RC</th>\n",
              "      <th>AF067420</th>\n",
              "      <th>Contig15167_RC</th>\n",
              "      <th>Class</th>\n",
              "    </tr>\n",
              "  </thead>\n",
              "  <tbody>\n",
              "    <tr>\n",
              "      <th>0</th>\n",
              "      <td>-0.299</td>\n",
              "      <td>0.093</td>\n",
              "      <td>-0.215</td>\n",
              "      <td>-0.566</td>\n",
              "      <td>-0.596</td>\n",
              "      <td>-0.195</td>\n",
              "      <td>0.039</td>\n",
              "      <td>-0.409</td>\n",
              "      <td>-0.352</td>\n",
              "      <td>0.066</td>\n",
              "      <td>...</td>\n",
              "      <td>-0.960</td>\n",
              "      <td>-0.211</td>\n",
              "      <td>0.155</td>\n",
              "      <td>-0.095</td>\n",
              "      <td>-0.025</td>\n",
              "      <td>-0.037</td>\n",
              "      <td>0.215</td>\n",
              "      <td>0.307</td>\n",
              "      <td>0.321</td>\n",
              "      <td>b'relapse'</td>\n",
              "    </tr>\n",
              "    <tr>\n",
              "      <th>1</th>\n",
              "      <td>-0.081</td>\n",
              "      <td>0.009</td>\n",
              "      <td>-0.091</td>\n",
              "      <td>-0.518</td>\n",
              "      <td>-0.502</td>\n",
              "      <td>-0.149</td>\n",
              "      <td>0.098</td>\n",
              "      <td>-0.090</td>\n",
              "      <td>0.138</td>\n",
              "      <td>0.061</td>\n",
              "      <td>...</td>\n",
              "      <td>-0.531</td>\n",
              "      <td>-0.020</td>\n",
              "      <td>0.014</td>\n",
              "      <td>-0.123</td>\n",
              "      <td>0.148</td>\n",
              "      <td>0.024</td>\n",
              "      <td>-0.070</td>\n",
              "      <td>-0.209</td>\n",
              "      <td>0.105</td>\n",
              "      <td>b'relapse'</td>\n",
              "    </tr>\n",
              "    <tr>\n",
              "      <th>2</th>\n",
              "      <td>-0.125</td>\n",
              "      <td>0.070</td>\n",
              "      <td>-0.006</td>\n",
              "      <td>-0.575</td>\n",
              "      <td>-0.585</td>\n",
              "      <td>-0.183</td>\n",
              "      <td>0.102</td>\n",
              "      <td>0.023</td>\n",
              "      <td>-0.350</td>\n",
              "      <td>-0.005</td>\n",
              "      <td>...</td>\n",
              "      <td>-0.883</td>\n",
              "      <td>-0.159</td>\n",
              "      <td>0.022</td>\n",
              "      <td>0.006</td>\n",
              "      <td>-0.086</td>\n",
              "      <td>0.019</td>\n",
              "      <td>0.026</td>\n",
              "      <td>-0.822</td>\n",
              "      <td>0.199</td>\n",
              "      <td>b'relapse'</td>\n",
              "    </tr>\n",
              "    <tr>\n",
              "      <th>3</th>\n",
              "      <td>-0.270</td>\n",
              "      <td>0.123</td>\n",
              "      <td>0.056</td>\n",
              "      <td>-0.499</td>\n",
              "      <td>-0.402</td>\n",
              "      <td>-0.099</td>\n",
              "      <td>-0.145</td>\n",
              "      <td>-0.103</td>\n",
              "      <td>0.181</td>\n",
              "      <td>0.236</td>\n",
              "      <td>...</td>\n",
              "      <td>-0.044</td>\n",
              "      <td>-0.096</td>\n",
              "      <td>0.018</td>\n",
              "      <td>0.000</td>\n",
              "      <td>0.076</td>\n",
              "      <td>0.057</td>\n",
              "      <td>-0.016</td>\n",
              "      <td>-0.360</td>\n",
              "      <td>-0.038</td>\n",
              "      <td>b'relapse'</td>\n",
              "    </tr>\n",
              "    <tr>\n",
              "      <th>4</th>\n",
              "      <td>-0.141</td>\n",
              "      <td>0.025</td>\n",
              "      <td>-0.031</td>\n",
              "      <td>-0.465</td>\n",
              "      <td>-0.533</td>\n",
              "      <td>-0.065</td>\n",
              "      <td>0.101</td>\n",
              "      <td>-0.008</td>\n",
              "      <td>-0.019</td>\n",
              "      <td>0.026</td>\n",
              "      <td>...</td>\n",
              "      <td>0.280</td>\n",
              "      <td>-0.088</td>\n",
              "      <td>0.043</td>\n",
              "      <td>0.207</td>\n",
              "      <td>-0.124</td>\n",
              "      <td>-0.041</td>\n",
              "      <td>-0.077</td>\n",
              "      <td>-0.432</td>\n",
              "      <td>-0.015</td>\n",
              "      <td>b'relapse'</td>\n",
              "    </tr>\n",
              "  </tbody>\n",
              "</table>\n",
              "<p>5 rows × 24482 columns</p>\n",
              "</div>\n",
              "      <button class=\"colab-df-convert\" onclick=\"convertToInteractive('df-5b0c414d-2edf-47d2-a8c4-562ff345fc9d')\"\n",
              "              title=\"Convert this dataframe to an interactive table.\"\n",
              "              style=\"display:none;\">\n",
              "        \n",
              "  <svg xmlns=\"http://www.w3.org/2000/svg\" height=\"24px\"viewBox=\"0 0 24 24\"\n",
              "       width=\"24px\">\n",
              "    <path d=\"M0 0h24v24H0V0z\" fill=\"none\"/>\n",
              "    <path d=\"M18.56 5.44l.94 2.06.94-2.06 2.06-.94-2.06-.94-.94-2.06-.94 2.06-2.06.94zm-11 1L8.5 8.5l.94-2.06 2.06-.94-2.06-.94L8.5 2.5l-.94 2.06-2.06.94zm10 10l.94 2.06.94-2.06 2.06-.94-2.06-.94-.94-2.06-.94 2.06-2.06.94z\"/><path d=\"M17.41 7.96l-1.37-1.37c-.4-.4-.92-.59-1.43-.59-.52 0-1.04.2-1.43.59L10.3 9.45l-7.72 7.72c-.78.78-.78 2.05 0 2.83L4 21.41c.39.39.9.59 1.41.59.51 0 1.02-.2 1.41-.59l7.78-7.78 2.81-2.81c.8-.78.8-2.07 0-2.86zM5.41 20L4 18.59l7.72-7.72 1.47 1.35L5.41 20z\"/>\n",
              "  </svg>\n",
              "      </button>\n",
              "      \n",
              "  <style>\n",
              "    .colab-df-container {\n",
              "      display:flex;\n",
              "      flex-wrap:wrap;\n",
              "      gap: 12px;\n",
              "    }\n",
              "\n",
              "    .colab-df-convert {\n",
              "      background-color: #E8F0FE;\n",
              "      border: none;\n",
              "      border-radius: 50%;\n",
              "      cursor: pointer;\n",
              "      display: none;\n",
              "      fill: #1967D2;\n",
              "      height: 32px;\n",
              "      padding: 0 0 0 0;\n",
              "      width: 32px;\n",
              "    }\n",
              "\n",
              "    .colab-df-convert:hover {\n",
              "      background-color: #E2EBFA;\n",
              "      box-shadow: 0px 1px 2px rgba(60, 64, 67, 0.3), 0px 1px 3px 1px rgba(60, 64, 67, 0.15);\n",
              "      fill: #174EA6;\n",
              "    }\n",
              "\n",
              "    [theme=dark] .colab-df-convert {\n",
              "      background-color: #3B4455;\n",
              "      fill: #D2E3FC;\n",
              "    }\n",
              "\n",
              "    [theme=dark] .colab-df-convert:hover {\n",
              "      background-color: #434B5C;\n",
              "      box-shadow: 0px 1px 3px 1px rgba(0, 0, 0, 0.15);\n",
              "      filter: drop-shadow(0px 1px 2px rgba(0, 0, 0, 0.3));\n",
              "      fill: #FFFFFF;\n",
              "    }\n",
              "  </style>\n",
              "\n",
              "      <script>\n",
              "        const buttonEl =\n",
              "          document.querySelector('#df-5b0c414d-2edf-47d2-a8c4-562ff345fc9d button.colab-df-convert');\n",
              "        buttonEl.style.display =\n",
              "          google.colab.kernel.accessAllowed ? 'block' : 'none';\n",
              "\n",
              "        async function convertToInteractive(key) {\n",
              "          const element = document.querySelector('#df-5b0c414d-2edf-47d2-a8c4-562ff345fc9d');\n",
              "          const dataTable =\n",
              "            await google.colab.kernel.invokeFunction('convertToInteractive',\n",
              "                                                     [key], {});\n",
              "          if (!dataTable) return;\n",
              "\n",
              "          const docLinkHtml = 'Like what you see? Visit the ' +\n",
              "            '<a target=\"_blank\" href=https://colab.research.google.com/notebooks/data_table.ipynb>data table notebook</a>'\n",
              "            + ' to learn more about interactive tables.';\n",
              "          element.innerHTML = '';\n",
              "          dataTable['output_type'] = 'display_data';\n",
              "          await google.colab.output.renderOutput(dataTable, element);\n",
              "          const docLink = document.createElement('div');\n",
              "          docLink.innerHTML = docLinkHtml;\n",
              "          element.appendChild(docLink);\n",
              "        }\n",
              "      </script>\n",
              "    </div>\n",
              "  </div>\n",
              "  "
            ],
            "text/plain": [
              "   Contig45645_RC  Contig44916_RC  D25272  J00129  Contig29982_RC  \\\n",
              "0          -0.299           0.093  -0.215  -0.566          -0.596   \n",
              "1          -0.081           0.009  -0.091  -0.518          -0.502   \n",
              "2          -0.125           0.070  -0.006  -0.575          -0.585   \n",
              "3          -0.270           0.123   0.056  -0.499          -0.402   \n",
              "4          -0.141           0.025  -0.031  -0.465          -0.533   \n",
              "\n",
              "   Contig26811  D25274  Contig36292  Contig42854  Contig34839  ...  NM_000898  \\\n",
              "0       -0.195   0.039       -0.409       -0.352        0.066  ...     -0.960   \n",
              "1       -0.149   0.098       -0.090        0.138        0.061  ...     -0.531   \n",
              "2       -0.183   0.102        0.023       -0.350       -0.005  ...     -0.883   \n",
              "3       -0.099  -0.145       -0.103        0.181        0.236  ...     -0.044   \n",
              "4       -0.065   0.101       -0.008       -0.019        0.026  ...      0.280   \n",
              "\n",
              "   NM_000899  Contig20164_RC  Contig8985_RC  Contig36062_RC  Contig35333_RC  \\\n",
              "0     -0.211           0.155         -0.095          -0.025          -0.037   \n",
              "1     -0.020           0.014         -0.123           0.148           0.024   \n",
              "2     -0.159           0.022          0.006          -0.086           0.019   \n",
              "3     -0.096           0.018          0.000           0.076           0.057   \n",
              "4     -0.088           0.043          0.207          -0.124          -0.041   \n",
              "\n",
              "   Contig62037_RC  AF067420  Contig15167_RC       Class  \n",
              "0           0.215     0.307           0.321  b'relapse'  \n",
              "1          -0.070    -0.209           0.105  b'relapse'  \n",
              "2           0.026    -0.822           0.199  b'relapse'  \n",
              "3          -0.016    -0.360          -0.038  b'relapse'  \n",
              "4          -0.077    -0.432          -0.015  b'relapse'  \n",
              "\n",
              "[5 rows x 24482 columns]"
            ]
          },
          "execution_count": 4,
          "metadata": {},
          "output_type": "execute_result"
        }
      ],
      "source": [
        "data1 = arff.loadarff('/content/drive/MyDrive/Work Space/Breast.arff')\n",
        "data1 = pd.DataFrame(data1[0])\n",
        "data1.head()"
      ]
    },
    {
      "cell_type": "code",
      "execution_count": null,
      "metadata": {
        "colab": {
          "base_uri": "https://localhost:8080/"
        },
        "id": "dfwSqE4JEHCd",
        "outputId": "7ff9c824-d0d9-4415-b023-8e8228c527b0"
      },
      "outputs": [
        {
          "name": "stdout",
          "output_type": "stream",
          "text": [
            "Dataset lenght: 97\n",
            "Column List:\n"
          ]
        },
        {
          "data": {
            "text/plain": [
              "Index(['Contig45645_RC', 'Contig44916_RC', 'D25272', 'J00129',\n",
              "       'Contig29982_RC', 'Contig26811', 'D25274', 'Contig36292', 'Contig42854',\n",
              "       'Contig34839',\n",
              "       ...\n",
              "       'NM_000898', 'NM_000899', 'Contig20164_RC', 'Contig8985_RC',\n",
              "       'Contig36062_RC', 'Contig35333_RC', 'Contig62037_RC', 'AF067420',\n",
              "       'Contig15167_RC', 'Class'],\n",
              "      dtype='object', length=24482)"
            ]
          },
          "execution_count": 5,
          "metadata": {},
          "output_type": "execute_result"
        }
      ],
      "source": [
        "print(\"Dataset lenght:\", len(data1))\n",
        "print(\"Column List:\")\n",
        "data1.columns"
      ]
    },
    {
      "cell_type": "code",
      "execution_count": null,
      "metadata": {
        "colab": {
          "base_uri": "https://localhost:8080/"
        },
        "id": "WIKI0SOGEMsI",
        "outputId": "258336b7-c1ea-4b6f-c00e-157315a40fd5"
      },
      "outputs": [
        {
          "data": {
            "text/plain": [
              "Contig45645_RC    0\n",
              "Contig44916_RC    0\n",
              "D25272            0\n",
              "J00129            0\n",
              "Contig29982_RC    0\n",
              "                 ..\n",
              "Contig35333_RC    0\n",
              "Contig62037_RC    0\n",
              "AF067420          0\n",
              "Contig15167_RC    0\n",
              "Class             0\n",
              "Length: 24482, dtype: int64"
            ]
          },
          "execution_count": 6,
          "metadata": {},
          "output_type": "execute_result"
        }
      ],
      "source": [
        "# check for any null values\n",
        "data1.isnull().sum()"
      ]
    },
    {
      "cell_type": "code",
      "execution_count": null,
      "metadata": {
        "colab": {
          "base_uri": "https://localhost:8080/",
          "height": 552
        },
        "id": "RduWhDAvEnH5",
        "outputId": "f8f9219b-fd37-4c76-f4d6-1876694f79b4"
      },
      "outputs": [
        {
          "data": {
            "text/plain": [
              "<Axes: >"
            ]
          },
          "execution_count": 7,
          "metadata": {},
          "output_type": "execute_result"
        },
        {
          "data": {
            "image/png": "[encoded data removed]",
            "text/plain": [
              "<Figure size 640x480 with 1 Axes>"
            ]
          },
          "metadata": {},
          "output_type": "display_data"
        }
      ],
      "source": [
        "# Lets see it visually.\n",
        "sns.heatmap(data1.isnull(),yticklabels=False,cbar=False,cmap='viridis')"
      ]
    },
    {
      "cell_type": "markdown",
      "metadata": {
        "id": "1HojYXCrFTno"
      },
      "source": [
        "There are no missing data here.."
      ]
    },
    {
      "cell_type": "code",
      "execution_count": null,
      "metadata": {
        "colab": {
          "base_uri": "https://localhost:8080/",
          "height": 470
        },
        "id": "gRk-Mob0Erbw",
        "outputId": "c6295a15-9bca-48ef-ff23-0a4175e3a86b"
      },
      "outputs": [
        {
          "data": {
            "text/plain": [
              "<Axes: xlabel='Class', ylabel='count'>"
            ]
          },
          "execution_count": 22,
          "metadata": {},
          "output_type": "execute_result"
        },
        {
          "data": {
            "image/png": "[encoded data removed]",
            "text/plain": [
              "<Figure size 640x480 with 1 Axes>"
            ]
          },
          "metadata": {},
          "output_type": "display_data"
        }
      ],
      "source": [
        "sns.set_style('whitegrid')\n",
        "sns.countplot(x = 'Class', data= data1,palette = 'RdBu_r')"
      ]
    },
    {
      "cell_type": "markdown",
      "metadata": {
        "id": "pHXD6WGSFcX5"
      },
      "source": [
        "We have around 46-47 classes belongs to 'relapse' class and rest 52 belongs to 'non-relapse' class."
      ]
    },
    {
      "cell_type": "code",
      "execution_count": null,
      "metadata": {
        "colab": {
          "base_uri": "https://localhost:8080/"
        },
        "id": "4PyCGcdHFaQF",
        "outputId": "8070b372-a980-429b-891b-864da4a810d7"
      },
      "outputs": [
        {
          "name": "stderr",
          "output_type": "stream",
          "text": [
            "<ipython-input-8-6d71f590a003>:8: SettingWithCopyWarning: \n",
            "A value is trying to be set on a copy of a slice from a DataFrame\n",
            "\n",
            "See the caveats in the documentation: https://pandas.pydata.org/pandas-docs/stable/user_guide/indexing.html#returning-a-view-versus-a-copy\n",
            "  y[st] = cvt(y[st])\n"
          ]
        }
      ],
      "source": [
        "# class values are in byte string format but we need them in integer format\n",
        "# Converting them into string first\n",
        "y = data1.Class  # label\n",
        "def cvt(str):\n",
        "  return str.decode(\"utf-8\")\n",
        "\n",
        "for st in range(len(y)):\n",
        "  y[st] = cvt(y[st])"
      ]
    },
    {
      "cell_type": "code",
      "execution_count": null,
      "metadata": {
        "id": "5a7QGBMkFxZq"
      },
      "outputs": [],
      "source": [
        "# Then convert them into integer\n",
        "y.replace({\"non-relapse\": 0, \"relapse\": 1}, inplace= True)"
      ]
    },
    {
      "cell_type": "code",
      "execution_count": null,
      "metadata": {
        "id": "AWdPaUCRF14i"
      },
      "outputs": [],
      "source": [
        "y = y.astype(float) # changing type of lable to float"
      ]
    },
    {
      "cell_type": "code",
      "execution_count": null,
      "metadata": {
        "id": "5raDghBiF7FM"
      },
      "outputs": [],
      "source": [
        "# Fetching our features columns\n",
        "x = data1.drop(['Class'], axis=1)"
      ]
    },
    {
      "cell_type": "markdown",
      "metadata": {
        "id": "wy9QGZ8bGH9p"
      },
      "source": [
        "**Though we gonna use kfold to split the data, because we have only 97 data points so it may cause overfitting issue, But we will also check with normal spliting first.**"
      ]
    },
    {
      "cell_type": "code",
      "execution_count": null,
      "metadata": {
        "colab": {
          "base_uri": "https://localhost:8080/"
        },
        "id": "anvE-q48F_t5",
        "outputId": "16cc224d-03de-431a-eeed-c0db99a1cf5d"
      },
      "outputs": [
        {
          "name": "stdout",
          "output_type": "stream",
          "text": [
            "x_train shape:  (77, 24481)\n",
            "y_train shape:  (77,)\n",
            "x_text:  (20, 24481)\n",
            "y_test:  (20,)\n"
          ]
        }
      ],
      "source": [
        "# Train Test Split\n",
        "from sklearn.model_selection import train_test_split\n",
        "x_train, x_test, y_train, y_test = train_test_split(x, y, test_size = 0.2, random_state = 101)\n",
        "print(\"x_train shape: \", x_train.shape)\n",
        "print(\"y_train shape: \", y_train.shape)\n",
        "print(\"x_text: \",x_test.shape)\n",
        "print(\"y_test: \",y_test.shape)"
      ]
    },
    {
      "cell_type": "code",
      "execution_count": null,
      "metadata": {
        "id": "2ynokO1VGHBd"
      },
      "outputs": [],
      "source": [
        "# Scale the training data if needed.\n",
        "from sklearn.preprocessing import StandardScaler\n",
        "sc = StandardScaler()\n",
        "X_train = sc.fit_transform(x_train)\n",
        "X_test = sc.transform(x_test)"
      ]
    },
    {
      "cell_type": "markdown",
      "metadata": {
        "id": "48IMY4FzdTkp"
      },
      "source": [
        "# Normal LR"
      ]
    },
    {
      "cell_type": "code",
      "execution_count": null,
      "metadata": {
        "id": "_JC-HECQdRss"
      },
      "outputs": [],
      "source": [
        "\n",
        "lr = LogisticRegression().fit(X_train, y_train)"
      ]
    },
    {
      "cell_type": "code",
      "execution_count": null,
      "metadata": {
        "colab": {
          "base_uri": "https://localhost:8080/"
        },
        "id": "-HjV7ZG3duRq",
        "outputId": "4c71a4d9-6668-4b53-f8d7-b963a113e2de"
      },
      "outputs": [
        {
          "data": {
            "text/plain": [
              "0.5"
            ]
          },
          "execution_count": 14,
          "metadata": {},
          "output_type": "execute_result"
        }
      ],
      "source": [
        "pred = lr.predict(X_test)\n",
        "metrics.accuracy_score(y_test, pred)"
      ]
    },
    {
      "cell_type": "markdown",
      "metadata": {
        "id": "nVxEgy_Vecxx"
      },
      "source": [
        "We got 50 percent accuracy without feature selection"
      ]
    },
    {
      "cell_type": "markdown",
      "metadata": {
        "id": "xVWdsOD7QS9f"
      },
      "source": [
        "# Logitic Regression with L1 Regularization"
      ]
    },
    {
      "cell_type": "code",
      "execution_count": null,
      "metadata": {
        "id": "6xvZUlDFQXL_"
      },
      "outputs": [],
      "source": [
        "from sklearn.feature_selection import SelectFromModel\n",
        "lre = SelectFromModel(LogisticRegression(C=0.1, penalty='l1', solver='liblinear', random_state=101)).fit(X_train, y_train)"
      ]
    },
    {
      "cell_type": "markdown",
      "metadata": {
        "id": "cdUrVq-bgu1A"
      },
      "source": [
        "Change the penlty (C) to see different results."
      ]
    },
    {
      "cell_type": "code",
      "execution_count": null,
      "metadata": {
        "colab": {
          "base_uri": "https://localhost:8080/"
        },
        "id": "7rOrXXnjfIPF",
        "outputId": "3388298d-71c8-4bd5-f47c-9188c037a8ce"
      },
      "outputs": [
        {
          "data": {
            "text/plain": [
              "array([False, False, False, ..., False, False, False])"
            ]
          },
          "execution_count": 16,
          "metadata": {},
          "output_type": "execute_result"
        }
      ],
      "source": [
        "lre.get_support()"
      ]
    },
    {
      "cell_type": "code",
      "execution_count": null,
      "metadata": {
        "colab": {
          "base_uri": "https://localhost:8080/"
        },
        "id": "2CtKPaeSfl_I",
        "outputId": "cd5b0ad9-312f-4bb6-f044-7e7db2a654e5"
      },
      "outputs": [
        {
          "name": "stdout",
          "output_type": "stream",
          "text": [
            "total features: 24481\n",
            "selected features: 12\n"
          ]
        }
      ],
      "source": [
        "# Now make a list with the selected features\n",
        "selected_feat = x_train.columns[(lre.get_support())]\n",
        "\n",
        "print('total features: {}'.format((x_train.shape[1])))\n",
        "print('selected features: {}'.format(len(selected_feat)))"
      ]
    },
    {
      "cell_type": "code",
      "execution_count": null,
      "metadata": {
        "colab": {
          "base_uri": "https://localhost:8080/"
        },
        "id": "r902WdbQf-Dm",
        "outputId": "022cf610-b533-4d1e-832a-9d8ecabcaf09"
      },
      "outputs": [
        {
          "data": {
            "text/plain": [
              "24469"
            ]
          },
          "execution_count": 18,
          "metadata": {},
          "output_type": "execute_result"
        }
      ],
      "source": [
        "# the number of features which coefficient was shrank to zero:\n",
        "\n",
        "np.sum(lre.estimator_.coef_ == 0)\n"
      ]
    },
    {
      "cell_type": "code",
      "execution_count": null,
      "metadata": {
        "colab": {
          "base_uri": "https://localhost:8080/"
        },
        "id": "My3P4jmRgEs6",
        "outputId": "8f0251b1-cae9-4e1d-da08-1dbb30455bf7"
      },
      "outputs": [
        {
          "data": {
            "text/plain": [
              "Index(['Contig45645_RC', 'Contig44916_RC', 'D25272', 'J00129',\n",
              "       'Contig29982_RC', 'Contig26811', 'D25274', 'Contig36292', 'Contig42854',\n",
              "       'Contig34839',\n",
              "       ...\n",
              "       'NM_000895', 'NM_000898', 'NM_000899', 'Contig20164_RC',\n",
              "       'Contig8985_RC', 'Contig36062_RC', 'Contig35333_RC', 'Contig62037_RC',\n",
              "       'AF067420', 'Contig15167_RC'],\n",
              "      dtype='object', length=24469)"
            ]
          },
          "execution_count": 19,
          "metadata": {},
          "output_type": "execute_result"
        }
      ],
      "source": [
        "# we can identify the removed features like this:\n",
        "\n",
        "removed_feats = x_train.columns[(lre.estimator_.coef_ == 0).ravel().tolist()]\n",
        "removed_feats"
      ]
    },
    {
      "cell_type": "code",
      "execution_count": null,
      "metadata": {
        "colab": {
          "base_uri": "https://localhost:8080/"
        },
        "id": "cYeWoGmggMjm",
        "outputId": "6bd76ce6-34a0-41be-96ae-a984f925d22c"
      },
      "outputs": [
        {
          "name": "stderr",
          "output_type": "stream",
          "text": [
            "/usr/local/lib/python3.10/dist-packages/sklearn/base.py:432: UserWarning: X has feature names, but StandardScaler was fitted without feature names\n",
            "  warnings.warn(\n"
          ]
        },
        {
          "data": {
            "text/plain": [
              "((77, 12), (20, 12))"
            ]
          },
          "execution_count": 20,
          "metadata": {},
          "output_type": "execute_result"
        }
      ],
      "source": [
        "# we can then remove the features from the training and testing set\n",
        "# like this:\n",
        "\n",
        "X_train_selected = lre.transform(sc.fit_transform(X_train))\n",
        "X_test_selected = lre.transform(sc.transform(x_test))\n",
        "\n",
        "X_train_selected.shape, X_test_selected.shape"
      ]
    },
    {
      "cell_type": "markdown",
      "metadata": {
        "id": "Q-wCrYgPjI_p"
      },
      "source": [
        "Classifiers"
      ]
    },
    {
      "cell_type": "code",
      "execution_count": null,
      "metadata": {
        "colab": {
          "base_uri": "https://localhost:8080/"
        },
        "id": "QpyfhYfegrTA",
        "outputId": "d61e325b-3136-4629-a23d-ae970685f70a"
      },
      "outputs": [
        {
          "name": "stdout",
          "output_type": "stream",
          "text": [
            "              precision    recall  f1-score   support\n",
            "\n",
            "         0.0       0.73      0.92      0.81        12\n",
            "         1.0       0.80      0.50      0.62         8\n",
            "\n",
            "    accuracy                           0.75        20\n",
            "   macro avg       0.77      0.71      0.72        20\n",
            "weighted avg       0.76      0.75      0.74        20\n",
            "\n"
          ]
        }
      ],
      "source": [
        "# Now checking with classifier\n",
        "# from sklearn.linear_model import\n",
        "# lr = LogisticRegression().fit(X_train_selected, y_train)\n",
        "dt = DecisionTreeClassifier(criterion='entropy', random_state=0)\n",
        "dt.fit(X_train_selected,y_train)\n",
        "dt_pred = dt.predict(X_test_selected)\n",
        "\n",
        "print(classification_report(y_test,dt_pred))"
      ]
    },
    {
      "cell_type": "code",
      "execution_count": null,
      "metadata": {
        "colab": {
          "base_uri": "https://localhost:8080/"
        },
        "id": "5mREcjuJikle",
        "outputId": "38221f19-52ac-464a-ff0e-132f53f054c9"
      },
      "outputs": [
        {
          "name": "stdout",
          "output_type": "stream",
          "text": [
            "              precision    recall  f1-score   support\n",
            "\n",
            "         0.0       0.73      0.67      0.70        12\n",
            "         1.0       0.56      0.62      0.59         8\n",
            "\n",
            "    accuracy                           0.65        20\n",
            "   macro avg       0.64      0.65      0.64        20\n",
            "weighted avg       0.66      0.65      0.65        20\n",
            "\n"
          ]
        }
      ],
      "source": [
        "lda = LinearDiscriminantAnalysis()\n",
        "lda.fit(X_train_selected,y_train)\n",
        "lda_pred = lda.predict(X_test_selected)\n",
        "\n",
        "print(classification_report(y_test,lda_pred))"
      ]
    },
    {
      "cell_type": "code",
      "execution_count": null,
      "metadata": {
        "colab": {
          "base_uri": "https://localhost:8080/"
        },
        "id": "0YGx_JQaikw3",
        "outputId": "29596aff-e003-456d-f12d-422ff3530b78"
      },
      "outputs": [
        {
          "name": "stdout",
          "output_type": "stream",
          "text": [
            "              precision    recall  f1-score   support\n",
            "\n",
            "         0.0       0.64      0.75      0.69        12\n",
            "         1.0       0.50      0.38      0.43         8\n",
            "\n",
            "    accuracy                           0.60        20\n",
            "   macro avg       0.57      0.56      0.56        20\n",
            "weighted avg       0.59      0.60      0.59        20\n",
            "\n"
          ]
        }
      ],
      "source": [
        "gnb = GaussianNB()\n",
        "gnb.fit(X_train_selected, y_train)\n",
        "gnb_pred = gnb.predict(X_test_selected)\n",
        "\n",
        "print(classification_report(y_test,gnb_pred))"
      ]
    },
    {
      "cell_type": "code",
      "execution_count": null,
      "metadata": {
        "colab": {
          "base_uri": "https://localhost:8080/"
        },
        "id": "rUfnjuSyik4Y",
        "outputId": "e9327883-d1e6-44ff-f32d-9b6ff751f274"
      },
      "outputs": [
        {
          "name": "stdout",
          "output_type": "stream",
          "text": [
            "              precision    recall  f1-score   support\n",
            "\n",
            "         0.0       0.67      0.83      0.74        12\n",
            "         1.0       0.60      0.38      0.46         8\n",
            "\n",
            "    accuracy                           0.65        20\n",
            "   macro avg       0.63      0.60      0.60        20\n",
            "weighted avg       0.64      0.65      0.63        20\n",
            "\n"
          ]
        }
      ],
      "source": [
        "model_SVC= SVC()\n",
        "model_SVC.fit(X_train_selected,y_train)\n",
        "svc_pred = model_SVC.predict(X_test_selected)\n",
        "\n",
        "print(classification_report(y_test,svc_pred))"
      ]
    },
    {
      "cell_type": "markdown",
      "metadata": {
        "id": "7wblb12ZPYAx"
      },
      "source": [
        "Logitic Regression with L2 Regularization"
      ]
    },
    {
      "cell_type": "code",
      "execution_count": null,
      "metadata": {
        "id": "rL0wnfL9ik9j"
      },
      "outputs": [],
      "source": []
    },
    {
      "cell_type": "code",
      "execution_count": null,
      "metadata": {
        "id": "xQftos3uilCW"
      },
      "outputs": [],
      "source": []
    },
    {
      "cell_type": "code",
      "execution_count": null,
      "metadata": {
        "id": "lj3zLCU3ilG-"
      },
      "outputs": [],
      "source": []
    },
    {
      "cell_type": "code",
      "execution_count": null,
      "metadata": {
        "id": "BidxlP-ThBsd"
      },
      "outputs": [],
      "source": [
        "# pred = lr.predict(X_test_selected)\n",
        "# metrics.accuracy_score(y_test, pred)\n",
        "# # classification_report()\n",
        "# lr.score(X_test_selected, y_test)"
      ]
    },
    {
      "cell_type": "code",
      "execution_count": null,
      "metadata": {
        "id": "XdBSywBVhB03"
      },
      "outputs": [],
      "source": []
    },
    {
      "cell_type": "code",
      "execution_count": null,
      "metadata": {
        "id": "RnOJccUCQXTY"
      },
      "outputs": [],
      "source": [
        "# predictions = lr.predict(X_test)\n",
        "\n",
        "# train_score_lr = lr.score(X_train, y_train)\n",
        "# test_score_lr = lr.score(X_test, y_test)\n",
        "\n",
        "# print(\"The train score for lr model is {}\".format(train_score_lr))\n",
        "# print(\"The test score for lr model is {}\".format(test_score_lr))\n"
      ]
    },
    {
      "cell_type": "markdown",
      "metadata": {
        "id": "2jOAzCR0QxgG"
      },
      "source": [
        "You can we got highest accuracy of 1 or 99.99 in trainig set and only 50% accuracy for test set. So we can see some serious overfitting issue here."
      ]
    },
    {
      "cell_type": "markdown",
      "metadata": {
        "id": "pAhrL41PMMgf"
      },
      "source": [
        "# REF"
      ]
    },
    {
      "cell_type": "code",
      "execution_count": null,
      "metadata": {
        "colab": {
          "base_uri": "https://localhost:8080/"
        },
        "id": "GBh24Kp-MPnI",
        "outputId": "adbcb7e2-09fc-41aa-8225-99f2ab20d04e"
      },
      "outputs": [
        {
          "name": "stdout",
          "output_type": "stream",
          "text": [
            "x_train shape:  (77, 24481)\n",
            "y_train shape:  (77,)\n",
            "x_text:  (20, 24481)\n",
            "y_test:  (20,)\n"
          ]
        }
      ],
      "source": [
        "# Train Test Split\n",
        "from sklearn.model_selection import train_test_split\n",
        "x_train, x_test, y_train, y_test = train_test_split(x, y, test_size = 0.2, random_state = 101)\n",
        "print(\"x_train shape: \", x_train.shape)\n",
        "print(\"y_train shape: \", y_train.shape)\n",
        "print(\"x_text: \",x_test.shape)\n",
        "print(\"y_test: \",y_test.shape)\n",
        "\n",
        "X_train = sc.fit_transform(x_train)\n",
        "X_test = sc.transform(x_test)"
      ]
    },
    {
      "cell_type": "code",
      "execution_count": null,
      "metadata": {
        "colab": {
          "background_save": true
        },
        "id": "FAfwu0HDMPsI",
        "outputId": "93084f9b-1299-40b9-e994-9602774fb721"
      },
      "outputs": [
        {
          "name": "stdout",
          "output_type": "stream",
          "text": [
            "[False False False ... False False False]\n",
            "[23488 23123 23112 ... 15571  2396  1266]\n"
          ]
        }
      ],
      "source": [
        "from sklearn.feature_selection import RFE\n",
        "\n",
        "lr = LogisticRegression()\n",
        "#rank all features, i.e continue the elimination until the last one\n",
        "rfe = RFE(estimator = lr, n_features_to_select=50, step=1)\n",
        "rfe.fit_transform(X_train,y_train)\n",
        "print(rfe.get_support())\n",
        "print(rfe.ranking_)"
      ]
    },
    {
      "cell_type": "code",
      "execution_count": null,
      "metadata": {
        "colab": {
          "base_uri": "https://localhost:8080/",
          "height": 214
        },
        "id": "h0O6XoNsMPwt",
        "outputId": "97e826ba-2ac8-4931-84bd-656c5695a8dd"
      },
      "outputs": [
        {
          "output_type": "error",
          "ename": "NameError",
          "evalue": "ignored",
          "traceback": [
            "\u001b[0;31m---------------------------------------------------------------------------\u001b[0m",
            "\u001b[0;31mNameError\u001b[0m                                 Traceback (most recent call last)",
            "\u001b[0;32m<ipython-input-1-9698f7c744e8>\u001b[0m in \u001b[0;36m<cell line: 1>\u001b[0;34m()\u001b[0m\n\u001b[0;32m----> 1\u001b[0;31m \u001b[0my_pred_rfe\u001b[0m \u001b[0;34m=\u001b[0m \u001b[0mrfe\u001b[0m\u001b[0;34m.\u001b[0m\u001b[0mpredict\u001b[0m\u001b[0;34m(\u001b[0m\u001b[0mX_test\u001b[0m\u001b[0;34m)\u001b[0m\u001b[0;34m\u001b[0m\u001b[0;34m\u001b[0m\u001b[0m\n\u001b[0m\u001b[1;32m      2\u001b[0m \u001b[0mmetrics\u001b[0m\u001b[0;34m.\u001b[0m\u001b[0maccuracy_score\u001b[0m\u001b[0;34m(\u001b[0m\u001b[0my_test\u001b[0m\u001b[0;34m,\u001b[0m \u001b[0my_pred_rfe\u001b[0m\u001b[0;34m)\u001b[0m\u001b[0;34m\u001b[0m\u001b[0;34m\u001b[0m\u001b[0m\n",
            "\u001b[0;31mNameError\u001b[0m: name 'rfe' is not defined"
          ]
        }
      ],
      "source": [
        "y_pred_rfe = rfe.predict(X_test)\n",
        "metrics.accuracy_score(y_test, y_pred_rfe)"
      ]
    },
    {
      "cell_type": "code",
      "execution_count": null,
      "metadata": {
        "id": "k_CPA9-FMP1K"
      },
      "outputs": [],
      "source": []
    },
    {
      "cell_type": "markdown",
      "metadata": {
        "id": "DVS462goGwyg"
      },
      "source": [
        "# Feature Selection With Embedded Methods\n",
        "\n",
        "These methods provides both the benifits of wrapper methods and filters while maintaining resonable computation cost.<br>\n",
        "Embedded methods are iterative in the sense that takes care of each iteration of the model training process and carefully extract those features which contribute the most to the training for a particular iteration."
      ]
    },
    {
      "cell_type": "markdown",
      "metadata": {
        "id": "2AirvG87HSNE"
      },
      "source": [
        "## LASSO Regularization (L1)\n",
        "Regularization consists of adding a penalty to the different parameters of the machine learning model to reduce the overfitting issue.<br>\n",
        "Lasso or L1 has the property that can shrink some of the coefficients to zero. Therefore, that feature can be removed from the model."
      ]
    },
    {
      "cell_type": "code",
      "execution_count": null,
      "metadata": {
        "id": "RQbJTGmDGufm"
      },
      "outputs": [],
      "source": [
        "from sklearn.feature_selection import SelectFromModel\n",
        "from sklearn.linear_model import LogisticRegression\n",
        "from sklearn.linear_model import LinearRegression, Ridge, Lasso\n",
        "from statistics import mean"
      ]
    },
    {
      "cell_type": "code",
      "execution_count": null,
      "metadata": {
        "id": "B4_MHSlQH5XE"
      },
      "outputs": [],
      "source": [
        "# lr = LogisticRegression(C=1, penalty='l1', solver='liblinear', random_state=101).fit(x_train, y_train)\n",
        "# model = SelectFromModel(lr, prefit=True)\n",
        "\n",
        "\n",
        "# X_new = model.transform(x_train)\n",
        "# # Drop columns which have value of all 0s.\n",
        "# sel_cols = x_train.columns[X_new.var() != 0]\n",
        "# print(len(sel_cols))\n"
      ]
    },
    {
      "cell_type": "code",
      "execution_count": null,
      "metadata": {
        "id": "3sLHzA7GJJHG"
      },
      "outputs": [],
      "source": [
        "# # List to maintain the cross-validation scores\n",
        "# cross_val_scores_lasso = []\n",
        "\n",
        "# # List to maintain the different values of Lambda\n",
        "# Lambda = []\n",
        "\n",
        "# # Loop to compute the cross-validation scores\n",
        "# for i in range(1, 9):\n",
        "#     lassoModel = Lasso(alpha = i * 0.25, tol = 0.0925)\n",
        "#     lassoModel.fit(X_train, y_train)\n",
        "#     scores = cross_val_score(lassoModel, x, y, cv = 10)\n",
        "#     avg_cross_val_score = mean(scores)*100\n",
        "#     cross_val_scores_lasso.append(avg_cross_val_score)\n",
        "#     Lambda.append(i * 0.25)\n",
        "\n",
        "# # Loop to print the different values of cross-validation scores\n",
        "# for i in range(0, len(Lambda)):\n",
        "#     print(str(Lambda[i])+' : '+str(cross_val_scores_lasso[i]))"
      ]
    },
    {
      "cell_type": "code",
      "execution_count": null,
      "metadata": {
        "colab": {
          "base_uri": "https://localhost:8080/",
          "height": 86
        },
        "id": "to5dTqoaKWpU",
        "outputId": "fff29a50-f7fb-45d7-9387-4e38cee57338"
      },
      "outputs": [
        {
          "data": {
            "text/html": [
              "<style>#sk-container-id-1 {color: black;background-color: white;}#sk-container-id-1 pre{padding: 0;}#sk-container-id-1 div.sk-toggleable {background-color: white;}#sk-container-id-1 label.sk-toggleable__label {cursor: pointer;display: block;width: 100%;margin-bottom: 0;padding: 0.3em;box-sizing: border-box;text-align: center;}#sk-container-id-1 label.sk-toggleable__label-arrow:before {content: \"▸\";float: left;margin-right: 0.25em;color: #696969;}#sk-container-id-1 label.sk-toggleable__label-arrow:hover:before {color: black;}#sk-container-id-1 div.sk-estimator:hover label.sk-toggleable__label-arrow:before {color: black;}#sk-container-id-1 div.sk-toggleable__content {max-height: 0;max-width: 0;overflow: hidden;text-align: left;background-color: #f0f8ff;}#sk-container-id-1 div.sk-toggleable__content pre {margin: 0.2em;color: black;border-radius: 0.25em;background-color: #f0f8ff;}#sk-container-id-1 input.sk-toggleable__control:checked~div.sk-toggleable__content {max-height: 200px;max-width: 100%;overflow: auto;}#sk-container-id-1 input.sk-toggleable__control:checked~label.sk-toggleable__label-arrow:before {content: \"▾\";}#sk-container-id-1 div.sk-estimator input.sk-toggleable__control:checked~label.sk-toggleable__label {background-color: #d4ebff;}#sk-container-id-1 div.sk-label input.sk-toggleable__control:checked~label.sk-toggleable__label {background-color: #d4ebff;}#sk-container-id-1 input.sk-hidden--visually {border: 0;clip: rect(1px 1px 1px 1px);clip: rect(1px, 1px, 1px, 1px);height: 1px;margin: -1px;overflow: hidden;padding: 0;position: absolute;width: 1px;}#sk-container-id-1 div.sk-estimator {font-family: monospace;background-color: #f0f8ff;border: 1px dotted black;border-radius: 0.25em;box-sizing: border-box;margin-bottom: 0.5em;}#sk-container-id-1 div.sk-estimator:hover {background-color: #d4ebff;}#sk-container-id-1 div.sk-parallel-item::after {content: \"\";width: 100%;border-bottom: 1px solid gray;flex-grow: 1;}#sk-container-id-1 div.sk-label:hover label.sk-toggleable__label {background-color: #d4ebff;}#sk-container-id-1 div.sk-serial::before {content: \"\";position: absolute;border-left: 1px solid gray;box-sizing: border-box;top: 0;bottom: 0;left: 50%;z-index: 0;}#sk-container-id-1 div.sk-serial {display: flex;flex-direction: column;align-items: center;background-color: white;padding-right: 0.2em;padding-left: 0.2em;position: relative;}#sk-container-id-1 div.sk-item {position: relative;z-index: 1;}#sk-container-id-1 div.sk-parallel {display: flex;align-items: stretch;justify-content: center;background-color: white;position: relative;}#sk-container-id-1 div.sk-item::before, #sk-container-id-1 div.sk-parallel-item::before {content: \"\";position: absolute;border-left: 1px solid gray;box-sizing: border-box;top: 0;bottom: 0;left: 50%;z-index: -1;}#sk-container-id-1 div.sk-parallel-item {display: flex;flex-direction: column;z-index: 1;position: relative;background-color: white;}#sk-container-id-1 div.sk-parallel-item:first-child::after {align-self: flex-end;width: 50%;}#sk-container-id-1 div.sk-parallel-item:last-child::after {align-self: flex-start;width: 50%;}#sk-container-id-1 div.sk-parallel-item:only-child::after {width: 0;}#sk-container-id-1 div.sk-dashed-wrapped {border: 1px dashed gray;margin: 0 0.4em 0.5em 0.4em;box-sizing: border-box;padding-bottom: 0.4em;background-color: white;}#sk-container-id-1 div.sk-label label {font-family: monospace;font-weight: bold;display: inline-block;line-height: 1.2em;}#sk-container-id-1 div.sk-label-container {text-align: center;}#sk-container-id-1 div.sk-container {/* jupyter's `normalize.less` sets `[hidden] { display: none; }` but bootstrap.min.css set `[hidden] { display: none !important; }` so we also need the `!important` here to be able to override the default hidden behavior on the sphinx rendered scikit-learn.org. See: https://github.com/scikit-learn/scikit-learn/issues/21755 */display: inline-block !important;position: relative;}#sk-container-id-1 div.sk-text-repr-fallback {display: none;}</style><div id=\"sk-container-id-1\" class=\"sk-top-container\"><div class=\"sk-text-repr-fallback\"><pre>Lasso(alpha=0.1)</pre><b>In a Jupyter environment, please rerun this cell to show the HTML representation or trust the notebook. <br />On GitHub, the HTML representation is unable to render, please try loading this page with nbviewer.org.</b></div><div class=\"sk-container\" hidden><div class=\"sk-item\"><div class=\"sk-estimator sk-toggleable\"><input class=\"sk-toggleable__control sk-hidden--visually\" id=\"sk-estimator-id-1\" type=\"checkbox\" checked><label for=\"sk-estimator-id-1\" class=\"sk-toggleable__label sk-toggleable__label-arrow\">Lasso</label><div class=\"sk-toggleable__content\"><pre>Lasso(alpha=0.1)</pre></div></div></div></div></div>"
            ],
            "text/plain": [
              "Lasso(alpha=0.1)"
            ]
          },
          "execution_count": 42,
          "metadata": {},
          "output_type": "execute_result"
        }
      ],
      "source": [
        "# Fit Lasso regression model\n",
        "lasso = Lasso(alpha=0.1)\n",
        "lasso.fit(X_train, y_train)"
      ]
    },
    {
      "cell_type": "code",
      "execution_count": null,
      "metadata": {
        "colab": {
          "base_uri": "https://localhost:8080/"
        },
        "id": "4KWagrrIR3VN",
        "outputId": "8d14c26e-df4e-47dc-87da-3621226f2c51"
      },
      "outputs": [
        {
          "name": "stdout",
          "output_type": "stream",
          "text": [
            "Model Score:  -0.05949720203371456\n"
          ]
        },
        {
          "data": {
            "text/plain": [
              "array([ 0.,  0.,  0., ...,  0., -0.,  0.])"
            ]
          },
          "execution_count": 43,
          "metadata": {},
          "output_type": "execute_result"
        }
      ],
      "source": [
        "# Evaluate model performance on test set\n",
        "y_pred = lasso.predict(X_test)\n",
        "\n",
        "# Model Score\n",
        "print(\"Model Score: \", lasso.score(X_test, y_test))\n",
        "\n",
        "# Lasso Coefficient\n",
        "lasso.coef_"
      ]
    },
    {
      "cell_type": "markdown",
      "metadata": {
        "id": "HSbEKqIYSnc7"
      },
      "source": [
        "Lasso Regression Cross-validation"
      ]
    },
    {
      "cell_type": "code",
      "execution_count": null,
      "metadata": {
        "id": "3bC331_2R9Qp"
      },
      "outputs": [],
      "source": [
        "from sklearn.linear_model import LassoCV\n",
        "# Create an instance of Lasso Regression implementation\n",
        "#\n",
        "lasso_cv = LassoCV(cv=5)\n",
        "#\n",
        "# Fit the Lasso model\n",
        "#\n",
        "lasso_cv.fit(x, y)\n",
        "#\n",
        "# Create the model score\n",
        "#\n",
        "lasso_cv.score(x, y)"
      ]
    },
    {
      "cell_type": "code",
      "execution_count": null,
      "metadata": {
        "colab": {
          "base_uri": "https://localhost:8080/"
        },
        "id": "SIAFNGtaS6yc",
        "outputId": "8e14b19e-8e62-4758-ccfc-91d454108828"
      },
      "outputs": [
        {
          "name": "stderr",
          "output_type": "stream",
          "text": [
            "/usr/local/lib/python3.10/dist-packages/sklearn/linear_model/_coordinate_descent.py:631: ConvergenceWarning: Objective did not converge. You might want to increase the number of iterations, check the scale of the features or consider increasing regularisation. Duality gap: 5.160e-03, tolerance: 1.492e-03\n",
            "  model = cd_fast.enet_coordinate_descent(\n",
            "/usr/local/lib/python3.10/dist-packages/sklearn/linear_model/_coordinate_descent.py:631: ConvergenceWarning: Objective did not converge. You might want to increase the number of iterations, check the scale of the features or consider increasing regularisation. Duality gap: 4.104e-03, tolerance: 1.521e-03\n",
            "  model = cd_fast.enet_coordinate_descent(\n",
            "/usr/local/lib/python3.10/dist-packages/sklearn/linear_model/_coordinate_descent.py:631: ConvergenceWarning: Objective did not converge. You might want to increase the number of iterations, check the scale of the features or consider increasing regularisation. Duality gap: 5.805e-03, tolerance: 1.548e-03\n",
            "  model = cd_fast.enet_coordinate_descent(\n",
            "/usr/local/lib/python3.10/dist-packages/sklearn/linear_model/_coordinate_descent.py:631: ConvergenceWarning: Objective did not converge. You might want to increase the number of iterations, check the scale of the features or consider increasing regularisation. Duality gap: 3.769e-03, tolerance: 1.544e-03\n",
            "  model = cd_fast.enet_coordinate_descent(\n",
            "/usr/local/lib/python3.10/dist-packages/sklearn/linear_model/_coordinate_descent.py:631: ConvergenceWarning: Objective did not converge. You might want to increase the number of iterations, check the scale of the features or consider increasing regularisation. Duality gap: 8.030e-03, tolerance: 1.544e-03\n",
            "  model = cd_fast.enet_coordinate_descent(\n"
          ]
        },
        {
          "name": "stdout",
          "output_type": "stream",
          "text": [
            "Best Parameters: {'alpha': 0.1}\n",
            "Best Score: 0.11907259352256164\n"
          ]
        }
      ],
      "source": [
        "from sklearn.model_selection import GridSearchCV\n",
        "\n",
        "# Define parameter grid\n",
        "param_grid = {'alpha': [0.001, 0.01, 0.1, 1, 10]}\n",
        "\n",
        "# Perform grid search with cross-validation\n",
        "lasso_cv = GridSearchCV(Lasso(), param_grid, cv=5)\n",
        "lasso_cv.fit(X_train, y_train)\n",
        "\n",
        "# Print best parameter values and score\n",
        "print(\"Best Parameters:\", lasso_cv.best_params_)\n",
        "print(\"Best Score:\", lasso_cv.best_score_)"
      ]
    },
    {
      "cell_type": "code",
      "execution_count": null,
      "metadata": {
        "id": "ssMgep1-Stf3"
      },
      "outputs": [],
      "source": []
    }
  ],
  "metadata": {
    "colab": {
      "collapsed_sections": [
        "48IMY4FzdTkp",
        "xVWdsOD7QS9f",
        "DVS462goGwyg"
      ],
      "provenance": []
    },
    "gpuClass": "standard",
    "kernelspec": {
      "display_name": "Python 3",
      "name": "python3"
    },
    "language_info": {
      "name": "python"
    }
  },
  "nbformat": 4,
  "nbformat_minor": 0
}