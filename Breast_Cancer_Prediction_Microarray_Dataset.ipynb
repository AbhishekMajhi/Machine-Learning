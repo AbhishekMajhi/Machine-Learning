{
  "nbformat": 4,
  "nbformat_minor": 0,
  "metadata": {
    "colab": {
      "provenance": [],
      "collapsed_sections": [
        "oG57b8TCUFBB",
        "DjJptH8wH7dZ",
        "VK4RGdjPf3Jw",
        "_KnXFx6Oe4BO",
        "YLMzHGgofVtx",
        "gLvbTZXzOQPP",
        "ZOprfL4VOqFQ",
        "GaN4wyhPyl6P",
        "3rxdRnhkI7Ut",
        "io40omzuupCu",
        "x4aLd56HinWe",
        "AUvx8GBzc0ZM",
        "g1j85uPRiKAc",
        "J2WFQqouisUL",
        "TadaBg2k47BH",
        "osZjESNJNB6h"
      ]
    },
    "kernelspec": {
      "name": "python3",
      "display_name": "Python 3"
    },
    "language_info": {
      "name": "python"
    }
  },
  "cells": [
    {
      "cell_type": "markdown",
      "source": [
        "# Cancer Classification with Feature Selection"
      ],
      "metadata": {
        "id": "jnK77Xu5ULkw"
      }
    },
    {
      "cell_type": "markdown",
      "source": [
        "## Imports"
      ],
      "metadata": {
        "id": "oG57b8TCUFBB"
      }
    },
    {
      "cell_type": "code",
      "execution_count": null,
      "metadata": {
        "id": "wUDP6c1ZTpJH"
      },
      "outputs": [],
      "source": [
        "#imports\n",
        "import numpy as np\n",
        "import pandas as pd\n",
        "import matplotlib.pyplot as plt\n",
        "import seaborn as sns\n",
        "from sklearn.preprocessing import StandardScaler\n",
        "from sklearn.model_selection import train_test_split\n",
        "from sklearn.metrics import classification_report, confusion_matrix\n",
        "from sklearn.metrics import plot_confusion_matrix,plot_roc_curve\n",
        "from sklearn.svm import SVC\n",
        "from sklearn.discriminant_analysis import LinearDiscriminantAnalysis\n",
        "from sklearn.naive_bayes import GaussianNB\n",
        "from sklearn.tree import DecisionTreeClassifier\n",
        "sc = StandardScaler()"
      ]
    },
    {
      "cell_type": "code",
      "source": [
        "from google.colab import drive\n",
        "drive.mount('/content/drive')"
      ],
      "metadata": {
        "colab": {
          "base_uri": "https://localhost:8080/"
        },
        "id": "uatnmx7HJ7a6",
        "outputId": "53efe5f8-52aa-4714-89d8-9373ef414fe5"
      },
      "execution_count": null,
      "outputs": [
        {
          "output_type": "stream",
          "name": "stdout",
          "text": [
            "Mounted at /content/drive\n"
          ]
        }
      ]
    },
    {
      "cell_type": "markdown",
      "source": [
        "### For Model Evaluation"
      ],
      "metadata": {
        "id": "DjJptH8wH7dZ"
      }
    },
    {
      "cell_type": "code",
      "source": [
        "def evaluate_fn(Y_test,model_pred):\n",
        "    # cm = confusion_matrix(Y_test.argmax(), model_pred.argmax())\n",
        "    cm = confusion_matrix(Y_test.astype(int).tolist(), model_pred)\n",
        "\n",
        "    True_Positives = cm[0][0]\n",
        "    False_Positives = cm[0][1]\n",
        "\n",
        "    True_Negetives = cm[1][1]\n",
        "    False_Negetives = cm[1][0]\n",
        "\n",
        "    # return True_Positives,False_Positives,False_Negetives,True_Negetives\n",
        "\n",
        "    precision =  True_Positives / (True_Positives + False_Positives)\n",
        "    recall = True_Positives / (True_Positives + False_Negetives)\n",
        "    f1_score = 2*(precision * recall) / (precision + recall)\n",
        "\n",
        "    return precision,recall,f1_score"
      ],
      "metadata": {
        "id": "T94FahK5H2Vb"
      },
      "execution_count": null,
      "outputs": []
    },
    {
      "cell_type": "markdown",
      "source": [
        "## Working with Microarray Dataset"
      ],
      "metadata": {
        "id": "SfmQhb-Fc2mW"
      }
    },
    {
      "cell_type": "markdown",
      "source": [
        "### Data Preparation For Microarray Dataset"
      ],
      "metadata": {
        "id": "VK4RGdjPf3Jw"
      }
    },
    {
      "cell_type": "code",
      "source": [
        "from scipy.io import arff\n",
        "import pandas as pd"
      ],
      "metadata": {
        "id": "GdIk2U1bcRq-"
      },
      "execution_count": null,
      "outputs": []
    },
    {
      "cell_type": "code",
      "source": [
        "data1 = arff.loadarff('/content/drive/MyDrive/Work Space/Breast.arff')\n",
        "data1 = pd.DataFrame(data1[0])\n",
        "data1.head()"
      ],
      "metadata": {
        "id": "I2ecXyQndH_8"
      },
      "execution_count": null,
      "outputs": []
    },
    {
      "cell_type": "markdown",
      "source": [
        "As you can see here we have too many features i.e 24482"
      ],
      "metadata": {
        "id": "EGTBMuBddXGZ"
      }
    },
    {
      "cell_type": "code",
      "source": [
        "data1.columns"
      ],
      "metadata": {
        "id": "4je44Ky3dK00",
        "colab": {
          "base_uri": "https://localhost:8080/"
        },
        "outputId": "2263d71b-cae0-4009-9dcf-097d7bbf17ad"
      },
      "execution_count": null,
      "outputs": [
        {
          "output_type": "execute_result",
          "data": {
            "text/plain": [
              "Index(['Contig45645_RC', 'Contig44916_RC', 'D25272', 'J00129',\n",
              "       'Contig29982_RC', 'Contig26811', 'D25274', 'Contig36292', 'Contig42854',\n",
              "       'Contig34839',\n",
              "       ...\n",
              "       'NM_000898', 'NM_000899', 'Contig20164_RC', 'Contig8985_RC',\n",
              "       'Contig36062_RC', 'Contig35333_RC', 'Contig62037_RC', 'AF067420',\n",
              "       'Contig15167_RC', 'Class'],\n",
              "      dtype='object', length=24482)"
            ]
          },
          "metadata": {},
          "execution_count": 6
        }
      ]
    },
    {
      "cell_type": "code",
      "source": [
        "# check for any null values\n",
        "data1.isnull().sum()"
      ],
      "metadata": {
        "id": "Ph5k9NPmdfkm",
        "colab": {
          "base_uri": "https://localhost:8080/"
        },
        "outputId": "2f5e970c-40ae-4b0b-c447-c9bc7ceca1d6"
      },
      "execution_count": null,
      "outputs": [
        {
          "output_type": "execute_result",
          "data": {
            "text/plain": [
              "Contig45645_RC    0\n",
              "Contig44916_RC    0\n",
              "D25272            0\n",
              "J00129            0\n",
              "Contig29982_RC    0\n",
              "                 ..\n",
              "Contig35333_RC    0\n",
              "Contig62037_RC    0\n",
              "AF067420          0\n",
              "Contig15167_RC    0\n",
              "Class             0\n",
              "Length: 24482, dtype: int64"
            ]
          },
          "metadata": {},
          "execution_count": 5
        }
      ]
    },
    {
      "cell_type": "code",
      "source": [
        "# Check for unique classes\n",
        "data1.Class.unique()"
      ],
      "metadata": {
        "id": "pIervo5xdkBw",
        "colab": {
          "base_uri": "https://localhost:8080/"
        },
        "outputId": "8b726c97-72bc-4648-a9b8-3d6970f7be23"
      },
      "execution_count": null,
      "outputs": [
        {
          "output_type": "execute_result",
          "data": {
            "text/plain": [
              "array([b'relapse', b'non-relapse'], dtype=object)"
            ]
          },
          "metadata": {},
          "execution_count": 6
        }
      ]
    },
    {
      "cell_type": "code",
      "source": [
        "sns.set_style('whitegrid')\n",
        "sns.countplot(x = 'Class', data= data1,palette = 'RdBu_r')"
      ],
      "metadata": {
        "id": "2UQDAG0Rdo-k",
        "colab": {
          "base_uri": "https://localhost:8080/",
          "height": 297
        },
        "outputId": "9c453c66-c286-46b3-fd7d-9cb986869b5c"
      },
      "execution_count": null,
      "outputs": [
        {
          "output_type": "execute_result",
          "data": {
            "text/plain": [
              "<matplotlib.axes._subplots.AxesSubplot at 0x7fa9ad314110>"
            ]
          },
          "metadata": {},
          "execution_count": 7
        },
        {
          "output_type": "display_data",
          "data": {
            "text/plain": [
              "<Figure size 432x288 with 1 Axes>"
            ],
            "image/png": "[encoded data removed]"
          },
          "metadata": {}
        }
      ]
    },
    {
      "cell_type": "code",
      "source": [
        "# class values are in byte string format but we need them in integer format\n",
        "# Converting them into string first\n",
        "y = data1.Class  # label\n",
        "# len(y)\n",
        "# y[0]\n",
        "def cvt(str):\n",
        "  return str.decode(\"utf-8\")\n",
        "\n",
        "for st in range(len(y)):\n",
        "  y[st] = cvt(y[st])\n",
        "# print(y)"
      ],
      "metadata": {
        "id": "KQ7gIbFHdtBA",
        "colab": {
          "base_uri": "https://localhost:8080/"
        },
        "outputId": "7ff034e3-8319-4e03-ef21-8618d259e2ba"
      },
      "execution_count": null,
      "outputs": [
        {
          "output_type": "stream",
          "name": "stderr",
          "text": [
            "/usr/local/lib/python3.7/dist-packages/ipykernel_launcher.py:10: SettingWithCopyWarning: \n",
            "A value is trying to be set on a copy of a slice from a DataFrame\n",
            "\n",
            "See the caveats in the documentation: https://pandas.pydata.org/pandas-docs/stable/user_guide/indexing.html#returning-a-view-versus-a-copy\n",
            "  # Remove the CWD from sys.path while we load stuff.\n"
          ]
        }
      ]
    },
    {
      "cell_type": "code",
      "source": [
        "# Then convert them into integer\n",
        "y.replace({\"non-relapse\": 0, \"relapse\": 1}, inplace= True)"
      ],
      "metadata": {
        "id": "V8T7dbBcd3CK"
      },
      "execution_count": null,
      "outputs": []
    },
    {
      "cell_type": "code",
      "source": [
        "y = y.astype(float)"
      ],
      "metadata": {
        "id": "BIZAK5IMujUV"
      },
      "execution_count": null,
      "outputs": []
    },
    {
      "cell_type": "code",
      "source": [
        "# grab our features\n",
        "x = data1.drop(['Class'], axis=1)"
      ],
      "metadata": {
        "id": "z5wyx_ydeBtE"
      },
      "execution_count": null,
      "outputs": []
    },
    {
      "cell_type": "markdown",
      "source": [
        "**Train test split**"
      ],
      "metadata": {
        "id": "hACmOOAgeTcd"
      }
    },
    {
      "cell_type": "code",
      "source": [
        "from sklearn.model_selection import train_test_split\n",
        "x_train, x_test, y_train, y_test = train_test_split(x, y, test_size = 0.2, random_state = 101)\n",
        "print(\"x_train shape: \", x_train.shape)\n",
        "print(\"y_train shape: \", y_train.shape)\n",
        "print(\"x_text: \",x_test.shape)\n",
        "print(\"y_test: \",y_test.shape)"
      ],
      "metadata": {
        "id": "EYsO-nKOeRme",
        "colab": {
          "base_uri": "https://localhost:8080/"
        },
        "outputId": "2a1aadac-b380-4eda-a9d4-8091efe94ad5"
      },
      "execution_count": null,
      "outputs": [
        {
          "output_type": "stream",
          "name": "stdout",
          "text": [
            "x_train shape:  (77, 24481)\n",
            "y_train shape:  (77,)\n",
            "x_text:  (20, 24481)\n",
            "y_test:  (20,)\n"
          ]
        }
      ]
    },
    {
      "cell_type": "code",
      "source": [
        "x_train.shape"
      ],
      "metadata": {
        "id": "Fkv7KuZjhXG1",
        "colab": {
          "base_uri": "https://localhost:8080/"
        },
        "outputId": "7247ee07-de41-489b-92b1-bdc159a69fb2"
      },
      "execution_count": null,
      "outputs": [
        {
          "output_type": "execute_result",
          "data": {
            "text/plain": [
              "(77, 24481)"
            ]
          },
          "metadata": {},
          "execution_count": 10
        }
      ]
    },
    {
      "cell_type": "markdown",
      "source": [
        "**Scale the data**"
      ],
      "metadata": {
        "id": "OxxPMHEPepdI"
      }
    },
    {
      "cell_type": "code",
      "source": [
        "from sklearn.preprocessing import StandardScaler\n",
        "sc = StandardScaler()\n",
        "x_train = sc.fit_transform(x_train)\n",
        "x_test = sc.transform(x_test)"
      ],
      "metadata": {
        "id": "ttMOfkECemF8"
      },
      "execution_count": null,
      "outputs": []
    },
    {
      "cell_type": "code",
      "source": [
        "# x_train = pd.Series(x_train)"
      ],
      "metadata": {
        "id": "QqYrhARTin1S"
      },
      "execution_count": null,
      "outputs": []
    },
    {
      "cell_type": "markdown",
      "source": [
        "### Noramal Classification Methods"
      ],
      "metadata": {
        "id": "c_l4JiliVQpj"
      }
    },
    {
      "cell_type": "markdown",
      "source": [
        "#### Classification using SVM"
      ],
      "metadata": {
        "id": "_KnXFx6Oe4BO"
      }
    },
    {
      "cell_type": "code",
      "source": [
        "from sklearn.svm import SVC\n",
        "model_SVC= SVC()\n",
        "model_SVC.fit(x_train,y_train)"
      ],
      "metadata": {
        "id": "I8Lz52eye1Jr",
        "colab": {
          "base_uri": "https://localhost:8080/"
        },
        "outputId": "396fb909-5d9e-462a-aa2c-cf77b6b77fd8"
      },
      "execution_count": null,
      "outputs": [
        {
          "output_type": "execute_result",
          "data": {
            "text/plain": [
              "SVC()"
            ]
          },
          "metadata": {},
          "execution_count": 14
        }
      ]
    },
    {
      "cell_type": "code",
      "source": [
        "from sklearn.metrics import classification_report, confusion_matrix\n",
        "from sklearn.metrics import plot_confusion_matrix\n",
        "model_pred = model_SVC.predict(x_test)\n",
        "print(confusion_matrix(y_test,model_pred))\n",
        "print('\\n')\n",
        "print(classification_report(y_test,model_pred))\n",
        "plot_confusion_matrix(model_SVC, x_test, y_test)"
      ],
      "metadata": {
        "id": "YaIyJgdie--c",
        "colab": {
          "base_uri": "https://localhost:8080/",
          "height": 586
        },
        "outputId": "7f2249dd-1230-44fe-deb2-e27293191941"
      },
      "execution_count": null,
      "outputs": [
        {
          "output_type": "stream",
          "name": "stdout",
          "text": [
            "[[6 6]\n",
            " [3 5]]\n",
            "\n",
            "\n",
            "              precision    recall  f1-score   support\n",
            "\n",
            "         0.0       0.67      0.50      0.57        12\n",
            "         1.0       0.45      0.62      0.53         8\n",
            "\n",
            "    accuracy                           0.55        20\n",
            "   macro avg       0.56      0.56      0.55        20\n",
            "weighted avg       0.58      0.55      0.55        20\n",
            "\n"
          ]
        },
        {
          "output_type": "stream",
          "name": "stderr",
          "text": [
            "/usr/local/lib/python3.7/dist-packages/sklearn/utils/deprecation.py:87: FutureWarning: Function plot_confusion_matrix is deprecated; Function `plot_confusion_matrix` is deprecated in 1.0 and will be removed in 1.2. Use one of the class methods: ConfusionMatrixDisplay.from_predictions or ConfusionMatrixDisplay.from_estimator.\n",
            "  warnings.warn(msg, category=FutureWarning)\n"
          ]
        },
        {
          "output_type": "execute_result",
          "data": {
            "text/plain": [
              "<sklearn.metrics._plot.confusion_matrix.ConfusionMatrixDisplay at 0x7f8d6539c490>"
            ]
          },
          "metadata": {},
          "execution_count": 15
        },
        {
          "output_type": "display_data",
          "data": {
            "text/plain": [
              "<Figure size 432x288 with 2 Axes>"
            ],
            "image/png": "[encoded data removed]"
          },
          "metadata": {}
        }
      ]
    },
    {
      "cell_type": "code",
      "source": [
        "# Calculate all\n",
        "precision,recall,f1_score = evaluate_fn(y_test, model_pred)  # takes y_test and model pred\n",
        "print(\"precision : \",precision,'\\n',\"recall :\",recall,'\\n',\"f1_score :\",f1_score)"
      ],
      "metadata": {
        "colab": {
          "base_uri": "https://localhost:8080/"
        },
        "id": "045Y7wGAO2kc",
        "outputId": "0fef9fbc-d8ed-4983-fae4-7fb29d99845d"
      },
      "execution_count": null,
      "outputs": [
        {
          "output_type": "stream",
          "name": "stdout",
          "text": [
            "precision :  0.5 \n",
            " recall : 0.6666666666666666 \n",
            " f1_score : 0.5714285714285715\n"
          ]
        }
      ]
    },
    {
      "cell_type": "markdown",
      "source": [
        "poor performance because of the too many features and little lenght(only 97 rows) of the dataset."
      ],
      "metadata": {
        "id": "gVmcbejsN10t"
      }
    },
    {
      "cell_type": "code",
      "source": [
        "from sklearn.metrics import plot_roc_curve\n",
        "plot_roc_curve(model_SVC, x_test, y_test)"
      ],
      "metadata": {
        "colab": {
          "base_uri": "https://localhost:8080/",
          "height": 352
        },
        "id": "orfnCGNGNgvi",
        "outputId": "ae9a37f1-9bbb-4887-c2c8-6a031170b7c1"
      },
      "execution_count": null,
      "outputs": [
        {
          "output_type": "stream",
          "name": "stderr",
          "text": [
            "/usr/local/lib/python3.7/dist-packages/sklearn/utils/deprecation.py:87: FutureWarning: Function plot_roc_curve is deprecated; Function :func:`plot_roc_curve` is deprecated in 1.0 and will be removed in 1.2. Use one of the class methods: :meth:`sklearn.metric.RocCurveDisplay.from_predictions` or :meth:`sklearn.metric.RocCurveDisplay.from_estimator`.\n",
            "  warnings.warn(msg, category=FutureWarning)\n"
          ]
        },
        {
          "output_type": "execute_result",
          "data": {
            "text/plain": [
              "<sklearn.metrics._plot.roc_curve.RocCurveDisplay at 0x7f8d653da5d0>"
            ]
          },
          "metadata": {},
          "execution_count": 16
        },
        {
          "output_type": "display_data",
          "data": {
            "text/plain": [
              "<Figure size 432x288 with 1 Axes>"
            ],
            "image/png": "[encoded data removed]"
          },
          "metadata": {}
        }
      ]
    },
    {
      "cell_type": "markdown",
      "source": [
        "As we can see we got very poor performance because of those excess features"
      ],
      "metadata": {
        "id": "Fl21Ei5MfMHA"
      }
    },
    {
      "cell_type": "markdown",
      "source": [
        "#### With Naive Bayes"
      ],
      "metadata": {
        "id": "YLMzHGgofVtx"
      }
    },
    {
      "cell_type": "code",
      "source": [
        "from sklearn.naive_bayes import GaussianNB\n",
        "gnb = GaussianNB()\n",
        "gnb.fit(x_train, y_train)"
      ],
      "metadata": {
        "id": "G6wj-8kkfJ8X",
        "colab": {
          "base_uri": "https://localhost:8080/"
        },
        "outputId": "82880505-dd26-4197-a4f3-a02f283f88c6"
      },
      "execution_count": null,
      "outputs": [
        {
          "output_type": "execute_result",
          "data": {
            "text/plain": [
              "GaussianNB()"
            ]
          },
          "metadata": {},
          "execution_count": 17
        }
      ]
    },
    {
      "cell_type": "code",
      "source": [
        "y_pred = gnb.predict(x_test)\n",
        "print(confusion_matrix(y_test,y_pred))\n",
        "print('\\n')\n",
        "print(classification_report(y_test,y_pred))\n",
        "plot_confusion_matrix(gnb, x_test, y_test)"
      ],
      "metadata": {
        "id": "xrV6i3WZfbEP",
        "colab": {
          "base_uri": "https://localhost:8080/",
          "height": 586
        },
        "outputId": "f87f7a6a-4e76-4941-eedc-527b54898270"
      },
      "execution_count": null,
      "outputs": [
        {
          "output_type": "stream",
          "name": "stdout",
          "text": [
            "[[8 4]\n",
            " [7 1]]\n",
            "\n",
            "\n",
            "              precision    recall  f1-score   support\n",
            "\n",
            "         0.0       0.53      0.67      0.59        12\n",
            "         1.0       0.20      0.12      0.15         8\n",
            "\n",
            "    accuracy                           0.45        20\n",
            "   macro avg       0.37      0.40      0.37        20\n",
            "weighted avg       0.40      0.45      0.42        20\n",
            "\n"
          ]
        },
        {
          "output_type": "stream",
          "name": "stderr",
          "text": [
            "/usr/local/lib/python3.7/dist-packages/sklearn/utils/deprecation.py:87: FutureWarning: Function plot_confusion_matrix is deprecated; Function `plot_confusion_matrix` is deprecated in 1.0 and will be removed in 1.2. Use one of the class methods: ConfusionMatrixDisplay.from_predictions or ConfusionMatrixDisplay.from_estimator.\n",
            "  warnings.warn(msg, category=FutureWarning)\n"
          ]
        },
        {
          "output_type": "execute_result",
          "data": {
            "text/plain": [
              "<sklearn.metrics._plot.confusion_matrix.ConfusionMatrixDisplay at 0x7f8d65494b10>"
            ]
          },
          "metadata": {},
          "execution_count": 18
        },
        {
          "output_type": "display_data",
          "data": {
            "text/plain": [
              "<Figure size 432x288 with 2 Axes>"
            ],
            "image/png": "[encoded data removed]"
          },
          "metadata": {}
        }
      ]
    },
    {
      "cell_type": "code",
      "source": [
        "from sklearn.metrics import plot_roc_curve\n",
        "plot_roc_curve(gnb, x_test, y_test)"
      ],
      "metadata": {
        "colab": {
          "base_uri": "https://localhost:8080/",
          "height": 352
        },
        "id": "WrOvCbd8NvF6",
        "outputId": "ed921f7a-a6e2-4e8d-cce0-cbb84c2efa62"
      },
      "execution_count": null,
      "outputs": [
        {
          "output_type": "stream",
          "name": "stderr",
          "text": [
            "/usr/local/lib/python3.7/dist-packages/sklearn/utils/deprecation.py:87: FutureWarning: Function plot_roc_curve is deprecated; Function :func:`plot_roc_curve` is deprecated in 1.0 and will be removed in 1.2. Use one of the class methods: :meth:`sklearn.metric.RocCurveDisplay.from_predictions` or :meth:`sklearn.metric.RocCurveDisplay.from_estimator`.\n",
            "  warnings.warn(msg, category=FutureWarning)\n"
          ]
        },
        {
          "output_type": "execute_result",
          "data": {
            "text/plain": [
              "<sklearn.metrics._plot.roc_curve.RocCurveDisplay at 0x7f8d6549f690>"
            ]
          },
          "metadata": {},
          "execution_count": 19
        },
        {
          "output_type": "display_data",
          "data": {
            "text/plain": [
              "<Figure size 432x288 with 1 Axes>"
            ],
            "image/png": "[encoded data removed]"
          },
          "metadata": {}
        }
      ]
    },
    {
      "cell_type": "code",
      "source": [
        "# Calculate all\n",
        "precision,recall,f1_score = evaluate_fn(y_test, y_pred)  # takes y_test and model pred\n",
        "print(\"precision : \",precision,'\\n',\"recall :\",recall,'\\n',\"f1_score :\",f1_score)"
      ],
      "metadata": {
        "colab": {
          "base_uri": "https://localhost:8080/"
        },
        "id": "Uue1X1lLOuAY",
        "outputId": "de3131b5-8a91-4f25-e5b7-be79852de830"
      },
      "execution_count": null,
      "outputs": [
        {
          "output_type": "stream",
          "name": "stdout",
          "text": [
            "precision :  0.6666666666666666 \n",
            " recall : 0.5333333333333333 \n",
            " f1_score : 0.5925925925925926\n"
          ]
        }
      ]
    },
    {
      "cell_type": "markdown",
      "source": [
        "#### Decision Tree"
      ],
      "metadata": {
        "id": "gLvbTZXzOQPP"
      }
    },
    {
      "cell_type": "code",
      "source": [
        "dt = DecisionTreeClassifier(criterion='entropy', random_state=0)\n",
        "dt.fit(x_train,y_train)\n",
        "dt_pred = dt.predict(x_test)"
      ],
      "metadata": {
        "id": "C3gw4loYOT5h"
      },
      "execution_count": null,
      "outputs": []
    },
    {
      "cell_type": "code",
      "source": [
        "print(confusion_matrix(y_test,dt_pred))\n",
        "print('\\n')\n",
        "print(classification_report(y_test,dt_pred))\n",
        "\n",
        "plot_confusion_matrix(dt, x_test, y_test)"
      ],
      "metadata": {
        "colab": {
          "base_uri": "https://localhost:8080/",
          "height": 586
        },
        "id": "DgOoqBqVOT_f",
        "outputId": "9c060547-1e47-4b72-8fa1-b09a3e467af8"
      },
      "execution_count": null,
      "outputs": [
        {
          "output_type": "stream",
          "name": "stdout",
          "text": [
            "[[5 7]\n",
            " [2 6]]\n",
            "\n",
            "\n",
            "              precision    recall  f1-score   support\n",
            "\n",
            "         0.0       0.71      0.42      0.53        12\n",
            "         1.0       0.46      0.75      0.57         8\n",
            "\n",
            "    accuracy                           0.55        20\n",
            "   macro avg       0.59      0.58      0.55        20\n",
            "weighted avg       0.61      0.55      0.54        20\n",
            "\n"
          ]
        },
        {
          "output_type": "stream",
          "name": "stderr",
          "text": [
            "/usr/local/lib/python3.7/dist-packages/sklearn/utils/deprecation.py:87: FutureWarning: Function plot_confusion_matrix is deprecated; Function `plot_confusion_matrix` is deprecated in 1.0 and will be removed in 1.2. Use one of the class methods: ConfusionMatrixDisplay.from_predictions or ConfusionMatrixDisplay.from_estimator.\n",
            "  warnings.warn(msg, category=FutureWarning)\n"
          ]
        },
        {
          "output_type": "execute_result",
          "data": {
            "text/plain": [
              "<sklearn.metrics._plot.confusion_matrix.ConfusionMatrixDisplay at 0x7f8d65494d10>"
            ]
          },
          "metadata": {},
          "execution_count": 23
        },
        {
          "output_type": "display_data",
          "data": {
            "text/plain": [
              "<Figure size 432x288 with 2 Axes>"
            ],
            "image/png": "[encoded data removed]"
          },
          "metadata": {}
        }
      ]
    },
    {
      "cell_type": "code",
      "source": [
        "# ROC curve\n",
        "plot_roc_curve(dt, x_test, y_test)"
      ],
      "metadata": {
        "colab": {
          "base_uri": "https://localhost:8080/",
          "height": 352
        },
        "id": "hbi7boSeOhIU",
        "outputId": "3082595f-3593-43b8-bcd1-a8b1748a6512"
      },
      "execution_count": null,
      "outputs": [
        {
          "output_type": "stream",
          "name": "stderr",
          "text": [
            "/usr/local/lib/python3.7/dist-packages/sklearn/utils/deprecation.py:87: FutureWarning: Function plot_roc_curve is deprecated; Function :func:`plot_roc_curve` is deprecated in 1.0 and will be removed in 1.2. Use one of the class methods: :meth:`sklearn.metric.RocCurveDisplay.from_predictions` or :meth:`sklearn.metric.RocCurveDisplay.from_estimator`.\n",
            "  warnings.warn(msg, category=FutureWarning)\n"
          ]
        },
        {
          "output_type": "execute_result",
          "data": {
            "text/plain": [
              "<sklearn.metrics._plot.roc_curve.RocCurveDisplay at 0x7f8d6551f290>"
            ]
          },
          "metadata": {},
          "execution_count": 25
        },
        {
          "output_type": "display_data",
          "data": {
            "text/plain": [
              "<Figure size 432x288 with 1 Axes>"
            ],
            "image/png": "[encoded data removed]"
          },
          "metadata": {}
        }
      ]
    },
    {
      "cell_type": "code",
      "source": [
        "# Calculate all\n",
        "precision,recall,f1_score = evaluate_fn(y_test, dt_pred)  # takes y_test and model pred\n",
        "print(\"precision : \",precision,'\\n',\"recall :\",recall,'\\n',\"f1_score :\",f1_score)"
      ],
      "metadata": {
        "colab": {
          "base_uri": "https://localhost:8080/"
        },
        "id": "XFg0xCAiOmF8",
        "outputId": "dd9da106-1572-439e-bb87-bc20f9a7c669"
      },
      "execution_count": null,
      "outputs": [
        {
          "output_type": "stream",
          "name": "stdout",
          "text": [
            "precision :  0.4166666666666667 \n",
            " recall : 0.7142857142857143 \n",
            " f1_score : 0.5263157894736842\n"
          ]
        }
      ]
    },
    {
      "cell_type": "markdown",
      "source": [
        "#### LDA"
      ],
      "metadata": {
        "id": "ZOprfL4VOqFQ"
      }
    },
    {
      "cell_type": "code",
      "source": [
        "lda = LinearDiscriminantAnalysis()\n",
        "lda.fit(x_train,y_train)\n",
        "lda_pred = lda.predict(x_test)"
      ],
      "metadata": {
        "id": "7HVMOlUeOsGe"
      },
      "execution_count": null,
      "outputs": []
    },
    {
      "cell_type": "code",
      "source": [
        "print(confusion_matrix(y_test,lda_pred))\n",
        "print('\\n')\n",
        "print(classification_report(y_test,lda_pred))\n",
        "plot_confusion_matrix(lda, x_test, y_test)"
      ],
      "metadata": {
        "colab": {
          "base_uri": "https://localhost:8080/",
          "height": 586
        },
        "id": "z41e1dMhOsLd",
        "outputId": "9e99e56b-8d7b-4360-c2fa-9a31dfedd3f8"
      },
      "execution_count": null,
      "outputs": [
        {
          "output_type": "stream",
          "name": "stdout",
          "text": [
            "[[6 6]\n",
            " [2 6]]\n",
            "\n",
            "\n",
            "              precision    recall  f1-score   support\n",
            "\n",
            "         0.0       0.75      0.50      0.60        12\n",
            "         1.0       0.50      0.75      0.60         8\n",
            "\n",
            "    accuracy                           0.60        20\n",
            "   macro avg       0.62      0.62      0.60        20\n",
            "weighted avg       0.65      0.60      0.60        20\n",
            "\n"
          ]
        },
        {
          "output_type": "stream",
          "name": "stderr",
          "text": [
            "/usr/local/lib/python3.7/dist-packages/sklearn/utils/deprecation.py:87: FutureWarning: Function plot_confusion_matrix is deprecated; Function `plot_confusion_matrix` is deprecated in 1.0 and will be removed in 1.2. Use one of the class methods: ConfusionMatrixDisplay.from_predictions or ConfusionMatrixDisplay.from_estimator.\n",
            "  warnings.warn(msg, category=FutureWarning)\n"
          ]
        },
        {
          "output_type": "execute_result",
          "data": {
            "text/plain": [
              "<sklearn.metrics._plot.confusion_matrix.ConfusionMatrixDisplay at 0x7f8d655b6c10>"
            ]
          },
          "metadata": {},
          "execution_count": 31
        },
        {
          "output_type": "display_data",
          "data": {
            "text/plain": [
              "<Figure size 432x288 with 2 Axes>"
            ],
            "image/png": "[encoded data removed]"
          },
          "metadata": {}
        }
      ]
    },
    {
      "cell_type": "code",
      "source": [
        "# ROC curve\n",
        "plot_roc_curve(lda, x_test, y_test)"
      ],
      "metadata": {
        "colab": {
          "base_uri": "https://localhost:8080/",
          "height": 352
        },
        "id": "fbrn25u2OsPs",
        "outputId": "86f0bc2f-ce5e-47ed-bd3c-93f074b330ea"
      },
      "execution_count": null,
      "outputs": [
        {
          "output_type": "stream",
          "name": "stderr",
          "text": [
            "/usr/local/lib/python3.7/dist-packages/sklearn/utils/deprecation.py:87: FutureWarning: Function plot_roc_curve is deprecated; Function :func:`plot_roc_curve` is deprecated in 1.0 and will be removed in 1.2. Use one of the class methods: :meth:`sklearn.metric.RocCurveDisplay.from_predictions` or :meth:`sklearn.metric.RocCurveDisplay.from_estimator`.\n",
            "  warnings.warn(msg, category=FutureWarning)\n"
          ]
        },
        {
          "output_type": "execute_result",
          "data": {
            "text/plain": [
              "<sklearn.metrics._plot.roc_curve.RocCurveDisplay at 0x7f8d65624e50>"
            ]
          },
          "metadata": {},
          "execution_count": 33
        },
        {
          "output_type": "display_data",
          "data": {
            "text/plain": [
              "<Figure size 432x288 with 1 Axes>"
            ],
            "image/png": "[encoded data removed]"
          },
          "metadata": {}
        }
      ]
    },
    {
      "cell_type": "code",
      "source": [
        "# Calculate all\n",
        "precision,recall,f1_score = evaluate_fn(y_test, lda_pred)  # takes y_test and model pred\n",
        "print(\"precision : \",precision,'\\n',\"recall :\",recall,'\\n',\"f1_score :\",f1_score)"
      ],
      "metadata": {
        "colab": {
          "base_uri": "https://localhost:8080/"
        },
        "id": "IK89uZEXOsTx",
        "outputId": "d249fca6-942a-4f1a-dc76-41cb878da0c6"
      },
      "execution_count": null,
      "outputs": [
        {
          "output_type": "stream",
          "name": "stdout",
          "text": [
            "precision :  0.5 \n",
            " recall : 0.75 \n",
            " f1_score : 0.6\n"
          ]
        }
      ]
    },
    {
      "cell_type": "markdown",
      "source": [
        "### Wrapper Methods"
      ],
      "metadata": {
        "id": "ipMZTuIfT0Bf"
      }
    },
    {
      "cell_type": "markdown",
      "source": [
        "#### Using sklearn GA"
      ],
      "metadata": {
        "id": "GaN4wyhPyl6P"
      }
    },
    {
      "cell_type": "code",
      "source": [
        "!pip install sklearn-genetic"
      ],
      "metadata": {
        "id": "enawSDAitfe8",
        "colab": {
          "base_uri": "https://localhost:8080/"
        },
        "outputId": "29b2d1eb-4efc-41d0-d46f-45a9f655cf82"
      },
      "execution_count": null,
      "outputs": [
        {
          "output_type": "stream",
          "name": "stdout",
          "text": [
            "Installing collected packages: deap, sklearn-genetic\n",
            "Successfully installed deap-1.3.1 sklearn-genetic-0.5.1\n"
          ]
        }
      ]
    },
    {
      "cell_type": "code",
      "source": [
        "from sklearn.tree import DecisionTreeClassifier\n",
        "from genetic_selection import GeneticSelectionCV\n",
        "from sklearn.svm import SVC"
      ],
      "metadata": {
        "id": "6GRaGlkc62iR"
      },
      "execution_count": null,
      "outputs": []
    },
    {
      "cell_type": "code",
      "source": [
        "estimators = DecisionTreeClassifier()\n",
        "models = GeneticSelectionCV(\n",
        "    estimators, cv=5, verbose=0,\n",
        "    scoring=\"accuracy\", max_features=30,\n",
        "    n_population=100, crossover_proba=0.5,\n",
        "    mutation_proba=0.2, n_generations=50,\n",
        "    crossover_independent_proba=0.5,\n",
        "    mutation_independent_proba=0.04,\n",
        "    tournament_size=3, n_gen_no_change=10,\n",
        "    caching=True, n_jobs=-1)\n",
        "models = models.fit(x, y)\n",
        "print('Feature Selection:', x.columns[models.support_])"
      ],
      "metadata": {
        "id": "Lv9dVSrbngDl",
        "colab": {
          "base_uri": "https://localhost:8080/"
        },
        "outputId": "bb3f5b5a-1114-49e3-dfad-bf7a3736723d"
      },
      "execution_count": null,
      "outputs": [
        {
          "output_type": "stream",
          "name": "stdout",
          "text": [
            "Feature Selection: Index(['Contig24903_RC', 'NM_005409', 'NM_004775', 'AL353933',\n",
            "       'Contig52720_RC', 'Contig37852_RC', 'NM_000633'],\n",
            "      dtype='object')\n"
          ]
        }
      ]
    },
    {
      "cell_type": "code",
      "source": [
        "new_fea =  x.columns[models.support_]\n",
        "new_fea"
      ],
      "metadata": {
        "id": "zJxsGeOJxWUB",
        "colab": {
          "base_uri": "https://localhost:8080/"
        },
        "outputId": "681f7926-455e-4c2e-b02c-ed670d86a78c"
      },
      "execution_count": null,
      "outputs": [
        {
          "output_type": "execute_result",
          "data": {
            "text/plain": [
              "Index(['Contig24903_RC', 'NM_005409', 'NM_004775', 'AL353933',\n",
              "       'Contig52720_RC', 'Contig37852_RC', 'NM_000633'],\n",
              "      dtype='object')"
            ]
          },
          "metadata": {},
          "execution_count": 38
        }
      ]
    },
    {
      "cell_type": "code",
      "source": [
        "# scaler_df = sc.fit_transform(x[new_fea])\n",
        "# df = pd.DataFrame(scaler_df, columns=new_fea.columns)\n",
        "new_x = x[new_fea]\n",
        "x_train, x_test, y_train, y_test = train_test_split(new_x, y, test_size=0.10, random_state=101)\n",
        "sc = StandardScaler()\n",
        "x_train = sc.fit_transform(x_train)\n",
        "x_test = sc.transform(x_test)"
      ],
      "metadata": {
        "id": "FIxQLasixwKy"
      },
      "execution_count": null,
      "outputs": []
    },
    {
      "cell_type": "markdown",
      "source": [
        "**Using SVM**"
      ],
      "metadata": {
        "id": "xJrdAuCHOg_B"
      }
    },
    {
      "cell_type": "code",
      "source": [
        "model = SVC()\n",
        "model.fit(x_train, y_train)\n",
        "model_pred = model.predict(x_test)"
      ],
      "metadata": {
        "id": "3HbyjLb6xWbB"
      },
      "execution_count": null,
      "outputs": []
    },
    {
      "cell_type": "code",
      "source": [
        "from sklearn.metrics import classification_report, confusion_matrix\n",
        "from sklearn.metrics import plot_confusion_matrix\n",
        "print(confusion_matrix(y_test,model_pred))\n",
        "print('\\n')\n",
        "print(classification_report(y_test,model_pred))\n",
        "plot_confusion_matrix(model, x_test, y_test)"
      ],
      "metadata": {
        "id": "k9YVYDLtxWiQ",
        "colab": {
          "base_uri": "https://localhost:8080/",
          "height": 586
        },
        "outputId": "d695ec47-3504-46fd-fee4-2bc7795881b2"
      },
      "execution_count": null,
      "outputs": [
        {
          "output_type": "stream",
          "name": "stdout",
          "text": [
            "[[3 3]\n",
            " [3 1]]\n",
            "\n",
            "\n",
            "              precision    recall  f1-score   support\n",
            "\n",
            "         0.0       0.50      0.50      0.50         6\n",
            "         1.0       0.25      0.25      0.25         4\n",
            "\n",
            "    accuracy                           0.40        10\n",
            "   macro avg       0.38      0.38      0.38        10\n",
            "weighted avg       0.40      0.40      0.40        10\n",
            "\n"
          ]
        },
        {
          "output_type": "stream",
          "name": "stderr",
          "text": [
            "/usr/local/lib/python3.7/dist-packages/sklearn/utils/deprecation.py:87: FutureWarning: Function plot_confusion_matrix is deprecated; Function `plot_confusion_matrix` is deprecated in 1.0 and will be removed in 1.2. Use one of the class methods: ConfusionMatrixDisplay.from_predictions or ConfusionMatrixDisplay.from_estimator.\n",
            "  warnings.warn(msg, category=FutureWarning)\n"
          ]
        },
        {
          "output_type": "execute_result",
          "data": {
            "text/plain": [
              "<sklearn.metrics._plot.confusion_matrix.ConfusionMatrixDisplay at 0x7f8d65785210>"
            ]
          },
          "metadata": {},
          "execution_count": 41
        },
        {
          "output_type": "display_data",
          "data": {
            "text/plain": [
              "<Figure size 432x288 with 2 Axes>"
            ],
            "image/png": "[encoded data removed]"
          },
          "metadata": {}
        }
      ]
    },
    {
      "cell_type": "code",
      "source": [
        "# ROC curve\n",
        "plot_roc_curve(model, x_test, y_test)"
      ],
      "metadata": {
        "colab": {
          "base_uri": "https://localhost:8080/",
          "height": 352
        },
        "id": "DP9_N5-vcL7t",
        "outputId": "43373b66-6535-4958-b053-1de3a2b18679"
      },
      "execution_count": null,
      "outputs": [
        {
          "output_type": "stream",
          "name": "stderr",
          "text": [
            "/usr/local/lib/python3.7/dist-packages/sklearn/utils/deprecation.py:87: FutureWarning: Function plot_roc_curve is deprecated; Function :func:`plot_roc_curve` is deprecated in 1.0 and will be removed in 1.2. Use one of the class methods: :meth:`sklearn.metric.RocCurveDisplay.from_predictions` or :meth:`sklearn.metric.RocCurveDisplay.from_estimator`.\n",
            "  warnings.warn(msg, category=FutureWarning)\n"
          ]
        },
        {
          "output_type": "execute_result",
          "data": {
            "text/plain": [
              "<sklearn.metrics._plot.roc_curve.RocCurveDisplay at 0x7f8d657344d0>"
            ]
          },
          "metadata": {},
          "execution_count": 42
        },
        {
          "output_type": "display_data",
          "data": {
            "text/plain": [
              "<Figure size 432x288 with 1 Axes>"
            ],
            "image/png": "[encoded data removed]"
          },
          "metadata": {}
        }
      ]
    },
    {
      "cell_type": "code",
      "source": [
        "# Calculate all\n",
        "precision,recall,f1_score = evaluate_fn(y_test, model_pred)  # takes y_test and model pred\n",
        "print(\"precision : \",precision,'\\n',\"recall :\",recall,'\\n',\"f1_score :\",f1_score)"
      ],
      "metadata": {
        "colab": {
          "base_uri": "https://localhost:8080/"
        },
        "id": "O6m3C0HY_Fw8",
        "outputId": "f011a22d-e21f-4487-ccd5-d95fcaf6ceb4"
      },
      "execution_count": null,
      "outputs": [
        {
          "output_type": "stream",
          "name": "stdout",
          "text": [
            "precision :  0.5 \n",
            " recall : 0.5 \n",
            " f1_score : 0.5\n"
          ]
        }
      ]
    },
    {
      "cell_type": "markdown",
      "source": [
        "**Using Decision Tree**"
      ],
      "metadata": {
        "id": "wWix4D98Ossj"
      }
    },
    {
      "cell_type": "code",
      "source": [
        "from sklearn.tree import DecisionTreeClassifier\n",
        "dt = DecisionTreeClassifier(criterion='entropy', random_state=0)\n",
        "dt.fit(x_train,y_train)\n",
        "dt_pred = dt.predict(x_test)"
      ],
      "metadata": {
        "id": "-AdYZKemOwzl"
      },
      "execution_count": null,
      "outputs": []
    },
    {
      "cell_type": "code",
      "source": [
        "print(confusion_matrix(y_test,dt_pred))\n",
        "print('\\n')\n",
        "print(classification_report(y_test,dt_pred))\n",
        "\n",
        "plot_confusion_matrix(dt, x_test, y_test)"
      ],
      "metadata": {
        "colab": {
          "base_uri": "https://localhost:8080/",
          "height": 586
        },
        "id": "SSw7NU5COw4s",
        "outputId": "02de9eee-4da1-4b75-f2ac-db44305b01fa"
      },
      "execution_count": null,
      "outputs": [
        {
          "output_type": "stream",
          "name": "stdout",
          "text": [
            "[[3 3]\n",
            " [0 4]]\n",
            "\n",
            "\n",
            "              precision    recall  f1-score   support\n",
            "\n",
            "         0.0       1.00      0.50      0.67         6\n",
            "         1.0       0.57      1.00      0.73         4\n",
            "\n",
            "    accuracy                           0.70        10\n",
            "   macro avg       0.79      0.75      0.70        10\n",
            "weighted avg       0.83      0.70      0.69        10\n",
            "\n"
          ]
        },
        {
          "output_type": "stream",
          "name": "stderr",
          "text": [
            "/usr/local/lib/python3.7/dist-packages/sklearn/utils/deprecation.py:87: FutureWarning: Function plot_confusion_matrix is deprecated; Function `plot_confusion_matrix` is deprecated in 1.0 and will be removed in 1.2. Use one of the class methods: ConfusionMatrixDisplay.from_predictions or ConfusionMatrixDisplay.from_estimator.\n",
            "  warnings.warn(msg, category=FutureWarning)\n"
          ]
        },
        {
          "output_type": "execute_result",
          "data": {
            "text/plain": [
              "<sklearn.metrics._plot.confusion_matrix.ConfusionMatrixDisplay at 0x7f8d657acbd0>"
            ]
          },
          "metadata": {},
          "execution_count": 45
        },
        {
          "output_type": "display_data",
          "data": {
            "text/plain": [
              "<Figure size 432x288 with 2 Axes>"
            ],
            "image/png": "[encoded data removed]"
          },
          "metadata": {}
        }
      ]
    },
    {
      "cell_type": "code",
      "source": [
        "# ROC curve\n",
        "plot_roc_curve(dt, x_test, y_test)"
      ],
      "metadata": {
        "colab": {
          "base_uri": "https://localhost:8080/",
          "height": 352
        },
        "id": "VbDxY61WcWWk",
        "outputId": "23fa2f16-e767-4e57-8845-e7aa9ce62207"
      },
      "execution_count": null,
      "outputs": [
        {
          "output_type": "stream",
          "name": "stderr",
          "text": [
            "/usr/local/lib/python3.7/dist-packages/sklearn/utils/deprecation.py:87: FutureWarning: Function plot_roc_curve is deprecated; Function :func:`plot_roc_curve` is deprecated in 1.0 and will be removed in 1.2. Use one of the class methods: :meth:`sklearn.metric.RocCurveDisplay.from_predictions` or :meth:`sklearn.metric.RocCurveDisplay.from_estimator`.\n",
            "  warnings.warn(msg, category=FutureWarning)\n"
          ]
        },
        {
          "output_type": "execute_result",
          "data": {
            "text/plain": [
              "<sklearn.metrics._plot.roc_curve.RocCurveDisplay at 0x7f8d657ef150>"
            ]
          },
          "metadata": {},
          "execution_count": 46
        },
        {
          "output_type": "display_data",
          "data": {
            "text/plain": [
              "<Figure size 432x288 with 1 Axes>"
            ],
            "image/png": "[encoded data removed]"
          },
          "metadata": {}
        }
      ]
    },
    {
      "cell_type": "code",
      "source": [
        "# Calculate all\n",
        "precision,recall,f1_score = evaluate_fn(y_test, dt_pred)  # takes y_test and model pred\n",
        "print(\"precision : \",precision,'\\n',\"recall :\",recall,'\\n',\"f1_score :\",f1_score)"
      ],
      "metadata": {
        "colab": {
          "base_uri": "https://localhost:8080/"
        },
        "id": "NLvQVAp9OxEk",
        "outputId": "541d6cda-c48b-4c17-82d1-90cde0909d49"
      },
      "execution_count": null,
      "outputs": [
        {
          "output_type": "stream",
          "name": "stdout",
          "text": [
            "precision :  0.5 \n",
            " recall : 1.0 \n",
            " f1_score : 0.6666666666666666\n"
          ]
        }
      ]
    },
    {
      "cell_type": "markdown",
      "source": [
        "**Naive Bayes**"
      ],
      "metadata": {
        "id": "kgooyZqJPZin"
      }
    },
    {
      "cell_type": "code",
      "source": [
        "from sklearn.naive_bayes import GaussianNB\n",
        "gnb = GaussianNB()\n",
        "gnb.fit(x_train, y_train)\n",
        "y_pred = gnb.predict(x_test)\n",
        "print(confusion_matrix(y_test,y_pred))\n",
        "print('\\n')\n",
        "print(classification_report(y_test,y_pred))"
      ],
      "metadata": {
        "colab": {
          "base_uri": "https://localhost:8080/"
        },
        "id": "doTfdu8aOxOp",
        "outputId": "7cbb8275-ff84-4b04-f9b3-784ceba6e5b0"
      },
      "execution_count": null,
      "outputs": [
        {
          "output_type": "stream",
          "name": "stdout",
          "text": [
            "[[6 0]\n",
            " [4 0]]\n",
            "\n",
            "\n",
            "              precision    recall  f1-score   support\n",
            "\n",
            "         0.0       0.60      1.00      0.75         6\n",
            "         1.0       0.00      0.00      0.00         4\n",
            "\n",
            "    accuracy                           0.60        10\n",
            "   macro avg       0.30      0.50      0.37        10\n",
            "weighted avg       0.36      0.60      0.45        10\n",
            "\n"
          ]
        },
        {
          "output_type": "stream",
          "name": "stderr",
          "text": [
            "/usr/local/lib/python3.7/dist-packages/sklearn/metrics/_classification.py:1318: UndefinedMetricWarning: Precision and F-score are ill-defined and being set to 0.0 in labels with no predicted samples. Use `zero_division` parameter to control this behavior.\n",
            "  _warn_prf(average, modifier, msg_start, len(result))\n",
            "/usr/local/lib/python3.7/dist-packages/sklearn/metrics/_classification.py:1318: UndefinedMetricWarning: Precision and F-score are ill-defined and being set to 0.0 in labels with no predicted samples. Use `zero_division` parameter to control this behavior.\n",
            "  _warn_prf(average, modifier, msg_start, len(result))\n",
            "/usr/local/lib/python3.7/dist-packages/sklearn/metrics/_classification.py:1318: UndefinedMetricWarning: Precision and F-score are ill-defined and being set to 0.0 in labels with no predicted samples. Use `zero_division` parameter to control this behavior.\n",
            "  _warn_prf(average, modifier, msg_start, len(result))\n"
          ]
        }
      ]
    },
    {
      "cell_type": "code",
      "source": [
        "# Plot the confusion matrix\n",
        "from sklearn.metrics import plot_confusion_matrix\n",
        "plot_confusion_matrix(gnb, x_test, y_test)"
      ],
      "metadata": {
        "colab": {
          "base_uri": "https://localhost:8080/",
          "height": 356
        },
        "id": "rtJjpyC5Pvq1",
        "outputId": "bc1f8209-111a-4097-b41b-3c5a6288c938"
      },
      "execution_count": null,
      "outputs": [
        {
          "output_type": "stream",
          "name": "stderr",
          "text": [
            "/usr/local/lib/python3.7/dist-packages/sklearn/utils/deprecation.py:87: FutureWarning: Function plot_confusion_matrix is deprecated; Function `plot_confusion_matrix` is deprecated in 1.0 and will be removed in 1.2. Use one of the class methods: ConfusionMatrixDisplay.from_predictions or ConfusionMatrixDisplay.from_estimator.\n",
            "  warnings.warn(msg, category=FutureWarning)\n"
          ]
        },
        {
          "output_type": "execute_result",
          "data": {
            "text/plain": [
              "<sklearn.metrics._plot.confusion_matrix.ConfusionMatrixDisplay at 0x7f8d6583de10>"
            ]
          },
          "metadata": {},
          "execution_count": 49
        },
        {
          "output_type": "display_data",
          "data": {
            "text/plain": [
              "<Figure size 432x288 with 2 Axes>"
            ],
            "image/png": "[encoded data removed]"
          },
          "metadata": {}
        }
      ]
    },
    {
      "cell_type": "code",
      "source": [
        "# ROC curve\n",
        "plot_roc_curve(gnb, x_test, y_test)"
      ],
      "metadata": {
        "colab": {
          "base_uri": "https://localhost:8080/",
          "height": 352
        },
        "id": "Wed-U5kRcgUl",
        "outputId": "1d321cc5-c07f-4b89-df12-52c101300507"
      },
      "execution_count": null,
      "outputs": [
        {
          "output_type": "stream",
          "name": "stderr",
          "text": [
            "/usr/local/lib/python3.7/dist-packages/sklearn/utils/deprecation.py:87: FutureWarning: Function plot_roc_curve is deprecated; Function :func:`plot_roc_curve` is deprecated in 1.0 and will be removed in 1.2. Use one of the class methods: :meth:`sklearn.metric.RocCurveDisplay.from_predictions` or :meth:`sklearn.metric.RocCurveDisplay.from_estimator`.\n",
            "  warnings.warn(msg, category=FutureWarning)\n"
          ]
        },
        {
          "output_type": "execute_result",
          "data": {
            "text/plain": [
              "<sklearn.metrics._plot.roc_curve.RocCurveDisplay at 0x7f8d65444390>"
            ]
          },
          "metadata": {},
          "execution_count": 50
        },
        {
          "output_type": "display_data",
          "data": {
            "text/plain": [
              "<Figure size 432x288 with 1 Axes>"
            ],
            "image/png": "[encoded data removed]"
          },
          "metadata": {}
        }
      ]
    },
    {
      "cell_type": "code",
      "source": [
        "# Calculate all\n",
        "precision,recall,f1_score = evaluate_fn(y_test, y_pred)  # takes y_test and model pred\n",
        "print(\"precision : \",precision,'\\n',\"recall :\",recall,'\\n',\"f1_score :\",f1_score)"
      ],
      "metadata": {
        "colab": {
          "base_uri": "https://localhost:8080/"
        },
        "id": "2W4WUiwKPv1a",
        "outputId": "4efa42fd-4574-474d-cd74-6d1ff1955610"
      },
      "execution_count": null,
      "outputs": [
        {
          "output_type": "stream",
          "name": "stdout",
          "text": [
            "precision :  1.0 \n",
            " recall : 0.6 \n",
            " f1_score : 0.7499999999999999\n"
          ]
        }
      ]
    },
    {
      "cell_type": "markdown",
      "source": [
        "**Using LDA**"
      ],
      "metadata": {
        "id": "eooNzf6NQAxU"
      }
    },
    {
      "cell_type": "code",
      "source": [
        "from sklearn.discriminant_analysis import LinearDiscriminantAnalysis\n",
        "lda = LinearDiscriminantAnalysis()\n",
        "lda.fit(x_train,y_train)\n",
        "lda_pred = lda.predict(x_test)\n",
        "\n",
        "print(confusion_matrix(y_test,lda_pred))\n",
        "print('\\n')\n",
        "print(classification_report(y_test,lda_pred))\n",
        "plot_confusion_matrix(lda, x_test, y_test)\n",
        "\n",
        "\n",
        "# Calculate all\n",
        "precision,recall,f1_score = evaluate_fn(y_test, lda_pred)  # takes y_test and model pred\n",
        "print(\"precision : \",precision,'\\n',\"recall :\",recall,'\\n',\"f1_score :\",f1_score)\n",
        "print('\\n')"
      ],
      "metadata": {
        "colab": {
          "base_uri": "https://localhost:8080/",
          "height": 657
        },
        "id": "oenL2NM6QElT",
        "outputId": "4cb823bc-03e3-490c-adbd-3c5fbad9ea0c"
      },
      "execution_count": null,
      "outputs": [
        {
          "output_type": "stream",
          "name": "stdout",
          "text": [
            "[[3 3]\n",
            " [3 1]]\n",
            "\n",
            "\n",
            "              precision    recall  f1-score   support\n",
            "\n",
            "         0.0       0.50      0.50      0.50         6\n",
            "         1.0       0.25      0.25      0.25         4\n",
            "\n",
            "    accuracy                           0.40        10\n",
            "   macro avg       0.38      0.38      0.38        10\n",
            "weighted avg       0.40      0.40      0.40        10\n",
            "\n",
            "precision :  0.5 \n",
            " recall : 0.5 \n",
            " f1_score : 0.5\n",
            "\n",
            "\n"
          ]
        },
        {
          "output_type": "stream",
          "name": "stderr",
          "text": [
            "/usr/local/lib/python3.7/dist-packages/sklearn/utils/deprecation.py:87: FutureWarning: Function plot_confusion_matrix is deprecated; Function `plot_confusion_matrix` is deprecated in 1.0 and will be removed in 1.2. Use one of the class methods: ConfusionMatrixDisplay.from_predictions or ConfusionMatrixDisplay.from_estimator.\n",
            "  warnings.warn(msg, category=FutureWarning)\n"
          ]
        },
        {
          "output_type": "display_data",
          "data": {
            "text/plain": [
              "<Figure size 432x288 with 2 Axes>"
            ],
            "image/png": "[encoded data removed]"
          },
          "metadata": {}
        }
      ]
    },
    {
      "cell_type": "code",
      "source": [
        "# ROC curve\n",
        "plot_roc_curve(lda, x_test, y_test)"
      ],
      "metadata": {
        "id": "oKARc_MeQEs_",
        "colab": {
          "base_uri": "https://localhost:8080/",
          "height": 352
        },
        "outputId": "fdacb7cf-1853-4080-f98b-7ae25f22422c"
      },
      "execution_count": null,
      "outputs": [
        {
          "output_type": "stream",
          "name": "stderr",
          "text": [
            "/usr/local/lib/python3.7/dist-packages/sklearn/utils/deprecation.py:87: FutureWarning: Function plot_roc_curve is deprecated; Function :func:`plot_roc_curve` is deprecated in 1.0 and will be removed in 1.2. Use one of the class methods: :meth:`sklearn.metric.RocCurveDisplay.from_predictions` or :meth:`sklearn.metric.RocCurveDisplay.from_estimator`.\n",
            "  warnings.warn(msg, category=FutureWarning)\n"
          ]
        },
        {
          "output_type": "execute_result",
          "data": {
            "text/plain": [
              "<sklearn.metrics._plot.roc_curve.RocCurveDisplay at 0x7f8d655e47d0>"
            ]
          },
          "metadata": {},
          "execution_count": 53
        },
        {
          "output_type": "display_data",
          "data": {
            "text/plain": [
              "<Figure size 432x288 with 1 Axes>"
            ],
            "image/png": "[encoded data removed]"
          },
          "metadata": {}
        }
      ]
    },
    {
      "cell_type": "markdown",
      "source": [
        "#### Using PSO (Particle Swarm Optimization)"
      ],
      "metadata": {
        "id": "3rxdRnhkI7Ut"
      }
    },
    {
      "cell_type": "code",
      "source": [
        "!pip install niapy --pre\n",
        "!pip install scikit-learn"
      ],
      "metadata": {
        "id": "dNgziBOAJALm"
      },
      "execution_count": null,
      "outputs": []
    },
    {
      "cell_type": "code",
      "source": [
        "from sklearn.model_selection import train_test_split, cross_val_score\n",
        "from sklearn.svm import SVC\n",
        "from sklearn.datasets import load_breast_cancer\n",
        "from niapy.problems import Problem\n",
        "from niapy.task import Task\n",
        "from niapy.algorithms.basic import ParticleSwarmOptimization\n",
        "\n",
        "import numpy as np\n",
        "import pandas as pd\n",
        "import matplotlib.pyplot as plt\n",
        "import seaborn as sns"
      ],
      "metadata": {
        "id": "-gZHMkYyLb4f"
      },
      "execution_count": null,
      "outputs": []
    },
    {
      "cell_type": "code",
      "source": [
        "class SVMFeatureSelection(Problem):\n",
        "    def __init__(self, X_train, y_train, alpha=0.99):\n",
        "        super().__init__(dimension=X_train.shape[1], lower=0, upper=1)\n",
        "        self.X_train = X_train\n",
        "        self.y_train = y_train\n",
        "        self.alpha = alpha\n",
        "\n",
        "    def _evaluate(self, x):\n",
        "        selected = x > 0.5\n",
        "        num_selected = selected.sum()\n",
        "        if num_selected == 0:\n",
        "            return 1.0\n",
        "        accuracy = cross_val_score(SVC(), self.X_train[:, selected], self.y_train, cv=2, n_jobs=-1).mean()\n",
        "        score = 1 - accuracy\n",
        "        num_features = self.X_train.shape[1]\n",
        "        return self.alpha * score + (1 - self.alpha) * (num_selected / num_features)"
      ],
      "metadata": {
        "id": "KL6IKNCHN4w2"
      },
      "execution_count": null,
      "outputs": []
    },
    {
      "cell_type": "markdown",
      "source": [
        "**With sklearn Data**"
      ],
      "metadata": {
        "id": "oitld--uTgvh"
      }
    },
    {
      "cell_type": "code",
      "source": [
        "# dataset = load_breast_cancer()\n",
        "# X = dataset.data\n",
        "# y = dataset.target\n",
        "# feature_names = dataset.feature_names\n",
        "# X_train, X_test, y_train, y_test = train_test_split(X, y, test_size=0.2, stratify=y, random_state=1234)\n",
        "# feature_names"
      ],
      "metadata": {
        "id": "D5oR4vsJOVCv"
      },
      "execution_count": null,
      "outputs": []
    },
    {
      "cell_type": "markdown",
      "source": [
        "**With Custom Data**"
      ],
      "metadata": {
        "id": "qLlPnuLDTb6W"
      }
    },
    {
      "cell_type": "code",
      "source": [
        "from sklearn.model_selection import train_test_split\n",
        "X_train, X_test, y_train, y_test = train_test_split(x, y, test_size = 0.2, random_state = 101)\n",
        "X_train = X_train.to_numpy()\n",
        "X_test = X_test.to_numpy()\n",
        "\n",
        "print(\"x_train shape: \", X_train.shape)\n",
        "print(\"y_train shape: \", y_train.shape)\n",
        "feature_names = x.columns\n",
        "feature_names"
      ],
      "metadata": {
        "id": "cuq5HODXOjf1",
        "colab": {
          "base_uri": "https://localhost:8080/"
        },
        "outputId": "3225d6be-41b8-4d71-91ad-d8fc09e2c166"
      },
      "execution_count": null,
      "outputs": [
        {
          "output_type": "stream",
          "name": "stdout",
          "text": [
            "x_train shape:  (77, 24481)\n",
            "y_train shape:  (77,)\n"
          ]
        },
        {
          "output_type": "execute_result",
          "data": {
            "text/plain": [
              "Index(['Contig45645_RC', 'Contig44916_RC', 'D25272', 'J00129',\n",
              "       'Contig29982_RC', 'Contig26811', 'D25274', 'Contig36292', 'Contig42854',\n",
              "       'Contig34839',\n",
              "       ...\n",
              "       'NM_000895', 'NM_000898', 'NM_000899', 'Contig20164_RC',\n",
              "       'Contig8985_RC', 'Contig36062_RC', 'Contig35333_RC', 'Contig62037_RC',\n",
              "       'AF067420', 'Contig15167_RC'],\n",
              "      dtype='object', length=24481)"
            ]
          },
          "metadata": {},
          "execution_count": 57
        }
      ]
    },
    {
      "cell_type": "code",
      "source": [
        "problem = SVMFeatureSelection(X_train, y_train)\n",
        "task = Task(problem, max_iters=100)\n",
        "algorithm = ParticleSwarmOptimization(population_size=10, seed=1234)\n",
        "best_features, best_fitness = algorithm.run(task)"
      ],
      "metadata": {
        "id": "2zB0zb_MO96W"
      },
      "execution_count": null,
      "outputs": []
    },
    {
      "cell_type": "code",
      "source": [
        "selected_features = best_features > 0.5\n",
        "print('Number of selected features:', selected_features.sum())\n",
        "print('Selected features:', ', '.join(feature_names[selected_features].tolist()))"
      ],
      "metadata": {
        "id": "fsrb3DGuPXuv",
        "colab": {
          "base_uri": "https://localhost:8080/"
        },
        "outputId": "2b6b77eb-a08c-4787-8e69-f0edbb7949d2"
      },
      "execution_count": null,
      "outputs": [
        {
          "output_type": "stream",
          "name": "stdout",
          "text": [
            "Number of selected features: 11751\n",
            "Selected features: D25272, J00129, Contig26811, Contig42854, Contig8376_RC, D49958, Contig40179_RC, Contig27915_RC, Contig44682_RC, Contig35934_RC, Contig46975_RC, AJ236885, Contig42867, Contig25013_RC, Contig20156_RC, AF155652, Contig19662_RC, AF155654, Contig46366_RC, zero_barcode, Contig56678_RC, Contig26832, AF026004, Contig732_RC, Contig26343_RC, Contig53047_RC, Contig51964_RC, Contig19551, Contig27572, Contig21020_RC, Contig42893, Contig47230_RC, Contig21478_RC, Contig45395_RC, X98307, AL157505, D31885, D31886, D31887, AB033006, AB033007, Contig40681_RC, AB033011, AB033015, AB033019, Contig10429_RC, Contig47222_RC, Contig58263_RC, Contig37368_RC, Contig29349_RC, Contig49890_RC, AB033024, AB033025, AB033026, AB033027, AB033028, AF114263, Contig64215_RC, Contig49281_RC, Contig48552_RC, Contig34947_RC, AB033030, AB033031, AB033032, AB033035, Contig27800_RC, Contig46860_RC, Contig38841_RC, AB033040, AB033041, AB033046, Contig42500_RC, AB033049, Contig31082_RC, Contig14690_RC, Contig49273_RC, Contig67229_RC, Contig16983_RC, Contig50977_RC, AB033055, AB033058, Contig20642_RC, AB033059, Contig24018_RC, Contig7147, Contig32037_RC, Contig28521_RC, Contig16374_RC, Contig42349_RC, AB033060, AB033061, AB033065, Contig50511_RC, Contig43221_RC, AB033067, AB033068, Contig26077_RC, Contig32638_RC, U45975, AB033070, AB033073, AB033076, Contig52570_RC, Contig44551_RC, Contig29242_RC, Contig16366_RC, Contig39554_RC, Contig58239_RC, Contig25949_RC, Contig7282_RC, AB033080, AB033083, AB033086, AB033088, AB033091, AB033092, Contig41521_RC, Contig34231_RC, AB033094, AB033096, AB033097, Contig7187, Contig45272_RC, NM_003000, NM_003002, Contig48294_RC, Contig47565_RC, NM_003008, NM_003009, X89657, Contig7192, Contig27542_RC, NM_003012, NM_003014, NM_003016, D84140, NM_003018, Contig32997_RC, D84143, Contig9710_RC, Contig34223_RC, U12597, Contig43806_RC, NM_003021, NM_003022, NM_003024, Contig54847_RC, NM_003027, Contig33260_RC, Contig34824_RC, Contig54238_RC, NM_002300, NM_002301, Contig14658_RC, Contig13929_RC, Contig15387_RC, NM_003031, NM_002303, Contig53884_RC, NM_002306, NM_002308, NM_003038, NM_003039, Contig15530_RC, Contig37237_RC, Contig52546_RC, Contig6498, NM_002310, NM_002311, NM_003040, NM_002312, NM_003042, NM_002314, Contig29593_RC, NM_002315, Contig54839_RC, NM_002316, NM_003046, NM_003048, Contig6529_RC, Contig7258_RC, Contig13086_RC, Contig34816_RC, Contig19507_RC, Contig28255_RC, NM_003051, NM_003053, NM_003054, Contig1815_RC, NM_003057, NM_003058, Contig38710_RC, U03886, Contig44519_RC, Contig20977_RC, NM_003060, NM_003063, NM_001605, NM_003064, NM_002335, NM_002336, NM_001607, NM_001608, NM_002337, NM_003066, NM_002339, M17733, Contig53410_RC, Contig17206_RC, AJ245600, Contig36266_RC, Contig35537_RC, Contig44285_RC, NM_001610, NM_002340, NM_001613, NM_002342, NM_003072, NM_003073, NM_001615, NM_001616, NM_002345, NM_003075, NM_001617, NM_002347, NM_001618, NM_001619, NM_003078, Contig5558_RC, Contig42593_RC, Contig49743_RC, NM_002350, NM_002351, NM_001622, NM_003081, Contig44886_RC, NM_002354, NM_003083, NM_001626, NM_003084, NM_002356, NM_003085, NM_001628, NM_003086, NM_002357, NM_002358, NM_001629, NM_003088, NM_002359, Contig15280_RC, Contig13822_RC, AF180425, Contig32882_RC, Contig52296_RC, D42043, D42044, NM_000900, D42045, D42046, D42047, NM_000903, Contig37027, NM_002363, NM_002365, NM_000908, NM_001638, NM_003096, NM_002368, NM_001639, NM_003097, Contig40292_RC, Contig42585_RC, D42055, NM_000910, D26018, Contig44324, NM_002370, NM_001641, NM_000914, NM_002374, NM_002375, NM_001646, NM_000918, NM_001649, Contig327_RC, Contig49126_RC, Contig16836_RC, Contig37040, NM_001650, NM_000921, Contig35896_RC, NM_002382, NM_000924, NM_001654, NM_000925, NM_000926, NM_002385, NM_001656, NM_002386, NM_001657, NM_002387, D25303, Contig58475_RC, NM_000930, Contig44343, NM_002390, NM_002391, NM_001663, NM_000935, NM_002395, NM_002396, NM_001667, NM_000938, NM_000939, NM_002397, NM_001669, Contig42720_RC, Contig30573_RC, Contig65156_RC, Contig18286_RC, Contig40885_RC, Contig48764_RC, D42084, NM_001671, NM_001672, NM_001673, NM_000944, NM_000946, NM_000947, NM_001677, Contig45133_RC, Contig40276_RC, NM_000950, Contig37073, NM_000951, NM_001681, NM_000952, Contig44366, NM_001683, NM_000954, NM_000956, NM_001685, NM_001687, NM_001688, NM_000959, Contig38444_RC, Contig46463_RC, Contig45734_RC, Contig40877_RC, Contig26297_RC, Contig48756_RC, Contig56775_RC, Contig5443_RC, NM_001690, D26069, NM_001691, NM_001692, NM_001694, NM_001697, NM_000969, NM_001698, Contig42103_RC, NM_001699, Contig25711_RC, Contig45125_RC, AF238083, Contig44771_RC, Contig15857_RC, D26070, Contig47793_RC, Contig34904, NM_000970, NM_000975, NM_000976, NM_000977, Contig52181_RC, Contig14519_RC, Contig678_RC, Contig33579_RC, Contig6164_RC, NM_000983, NM_000986, NM_000988, NM_000989, Contig35180_RC, Contig25703_RC, Y00978, NM_000993, NM_000994, NM_000996, Contig12593_RC, Contig39157_RC, Contig56759_RC, AF034102, Contig8449_RC, Contig31421_RC, Contig18780_RC, Contig21710_RC, U22029, Contig33480_RC, Contig28483_RC, Contig34952, AJ001017, Contig16104_RC, Contig26416_RC, Contig61139_RC, Contig26791_RC, Contig36728_RC, Contig3727_RC, Contig571_RC, X81005, X81006, Contig48641_RC, AF090895, AF068298, Contig38787_RC, Contig48032_RC, Contig15742_RC, Contig50465_RC, AB033102, Contig3719_RC, AB033103, AB033108, Contig22423_RC, Contig45611_RC, Contig38321_RC, AF050198, X98411, Contig47904_RC, Contig5320_RC, Contig51795_RC, AA490225_RC, AB033113, AB033117, AB033118, AA926862_RC, U46752, Contig36020_RC, Contig28001_RC, Contig30434_RC, X73029, Contig17418_RC, Contig40746_RC, Contig6041_RC, Contig44497_RC, Contig44640_RC, AF034187, Contig11598_RC, Contig10869_RC, Contig26767_RC, Contig6505, Contig43302_RC, AF025441, Contig33448_RC, Contig25429_RC, Contig45970_RC, Contig38680_RC, AF017433, Contig48008_RC, Contig25195_RC, Contig16447_RC, Contig3612_RC, AA868506_RC, Contig23128_RC, AF018171, X57025, Contig47045_RC, AF113675, Contig15484_RC, AL035307, Contig65376_RC, Contig1168_RC, Contig34312_RC, Contig42331_RC, Contig21436_RC, Contig30184_RC, Contig40496_RC, Contig36980_RC, Contig24601_RC, AF113694, Contig29916_RC, Contig32011_RC, Contig8685_RC, Contig27014_RC, AI476318_RC, Z24724, Contig44616_RC, Contig45345_RC, Contig53364_RC, Z24725, NM_003104, NM_003105, Contig29682_RC, Contig46909_RC, Contig40631_RC, Contig36363_RC, Contig55048_RC, Contig22758_RC, NM_003115, Contig39385_RC, Contig53965_RC, Contig37927_RC, NM_003118, Contig32003_RC, Contig40022_RC, Contig22901_RC, Contig15611_RC, Contig50334_RC, Contig35025_RC, Contig60646_RC, NM_003120, NM_003122, NM_003129, Contig43645_RC, NM_003133, M59979, NM_003134, Contig46667_RC, NM_002406, AL035369, NM_002408, NM_003138, NM_003139, Contig24351_RC, Contig25080_RC, NM_002410, NM_003140, NM_002411, Contig58580_RC, NM_002413, NM_002414, Contig52994_RC, NM_002417, NM_002419, Contig9541_RC, Contig39978_RC, Contig21930_RC, Contig45095_RC, Contig29057_RC, NM_002421, NM_003152, NM_003154, NM_002426, Contig60419, NM_003156, NM_003158, NM_002429, Contig5639_RC, Contig25072_RC, Contig33091_RC, Contig48260_RC, Contig39512_RC, Contig2008_RC, NM_002431, NM_003160, NM_001703, NM_003161, NM_001704, NM_002434, NM_001705, NM_001707, NM_003165, NM_002437, NM_003166, NM_003167, NM_001709, NM_002439, NM_003169, Contig14632_RC, Contig26027_RC, Contig32963_RC, Contig33692_RC, Contig49590_RC, NM_001711, NM_003171, NM_001713, NM_003172, NM_002443, NM_001715, NM_002444, NM_003174, NM_001716, NM_003175, NM_002447, NM_003177, NM_002448, Contig8570_RC, NM_002449, Contig52520_RC, Contig33083_RC, Contig55542_RC, Contig16691_RC, Contig42666_RC, NM_001721, NM_001722, NM_003180, Contig45135, NM_002452, NM_003181, AF199364, Contig37117, Contig38398_RC, NM_003182, NM_002453, NM_002454, NM_002455, NM_001726, NM_003185, NM_002456, NM_001728, NM_003186, NM_003189, NM_019843, Contig31016_RC, NM_019845, NM_019846, NM_019848, Contig57226_RC, Contig33684_RC, Contig40974_RC, NM_001730, NM_002460, Contig44415, NM_003190, NM_002461, NM_001732, NM_002465, NM_003194, NM_001738, NM_002468, NM_003197, NM_002469, NM_019853, NM_019857, Contig14390_RC, Contig41094_RC, AF181265, Contig34639_RC, Contig27349_RC, Contig58556_RC, Contig52443, NM_001743, NM_001744, NM_001746, NM_002475, NM_001747, NM_002477, NM_002478, NM_002479, NM_019862, U64205, Contig45823_RC, NM_001750, NM_001751, Contig43988_RC, NM_002481, NM_001753, NM_001756, NM_002488, NM_002489, AF237413, AF077036, AF181286, Contig50669_RC, Contig47882_RC, NM_002490, NM_002491, NM_001762, NM_002492, NM_002493, NM_001764, NM_002494, NM_002495, NM_001768, Contig44251_RC, NM_019887, Contig30646_RC, Contig54563_RC, Contig37160, Contig35702, NM_001770, NM_001771, NM_001773, NM_001774, NM_001779, NM_019893, Contig18502_RC, AF077051, NM_019896, Contig41078_RC, Contig29543_RC, Contig36440, Contig26979_RC, Contig34998_RC, NM_001780, NM_001781, NM_001783, Contig51757, NM_001784, NM_001788, AF090913, Contig38517_RC, NM_001791, NM_001792, NM_001793, NM_001794, NM_001795, NM_001796, NM_001797, NM_001798, NM_001799, Contig30029_RC, Contig35261_RC, AF228704, Contig53592_RC, Contig28572_RC, Contig35862_RC, Contig54547_RC, Contig32231_RC, Contig51291_RC, AF090944, AF090946, AF090947, Contig35752, Contig5274_RC, Contig10373_RC, Contig41580_RC, Contig20685_RC, Contig40099_RC, Contig55268_RC, Contig15688_RC, Contig43781, Contig35765, Contig67181_RC, Contig37538_RC, Contig28486, Contig25534_RC, Contig13387_RC, Contig20677_RC, Contig1281_RC, Contig30989_RC, Contig6596_RC, Contig24571_RC, Contig23842_RC, Contig35237_RC, Contig45549_RC, Contig2236_RC, AL133011, Contig11086_RC, AL133015, Contig33545_RC, AL133018, Contig20669_RC, Contig29277_RC, Contig54898_RC, AL133021, AL133022, AL133023, AL133024, AL133026, Contig23834_RC, Contig35229_RC, Contig50538_RC, Contig11687_RC, Contig48480_RC, Contig39732_RC, Contig6731_RC, AJ000414, Contig31244_RC, AL133030, AL133035, Contig40827_RC, Contig34266_RC, Contig32808_RC, AL133041, Contig52740_RC, Contig36702_RC, Contig45450_RC, Contig48472_RC, Contig35596_RC, Contig31236_RC, AL133052, AF201947, AL133055, Contig34258_RC, U39573, Contig38761_RC, Contig39490_RC, Contig6114_RC, Contig9136_RC, Contig27111_RC, AF201950, AL133063, AL133064, Contig40585_RC, AL133066, AL133068, Contig35588_RC, Contig28298_RC, Contig17400_RC, Contig20562_RC, Contig28441_RC, Contig43750_RC, Contig54416_RC, Contig63164_RC, AL133073, AL133074, Contig50288_RC, AL133076, Contig57438_RC, Contig65600_RC, AJ271216, Contig32558_RC, AL133087, Contig49185_RC, AL133088, Contig43599_RC, M27318, Contig25411_RC, Contig43742_RC, Contig28433_RC, Contig52490_RC, AL133092, AL133096, Contig47493_RC, AL133099, Contig33888_RC, Contig26741_RC, Z34282, Contig46155_RC, Contig33279_RC, U12767, Contig35715_RC, Contig45418_RC, U12779, NM_003201, NM_003204, NM_003205, Contig29755_RC, NM_003206, Contig49169_RC, Contig25770_RC, Contig44455_RC, NM_003212, NM_003213, NM_003219, Contig24432_RC, NM_003220, NM_003223, NM_003224, Contig38495_RC, NM_003226, Contig42154_RC, Contig50173_RC, Contig17743_RC, Contig28409_RC, Contig37157_RC, NM_002500, NM_002505, NM_003234, NM_003235, NM_002506, NM_003236, Contig271_RC, Contig25153_RC, Contig48341_RC, NM_002510, NM_002511, NM_002514, Contig37758_RC, NM_002515, NM_003245, NM_003246, NM_003247, NM_002518, NM_002519, NM_003249, Contig48799_RC, Contig55022_RC, Contig42146_RC, Contig38630_RC, NM_002520, NM_002521, NM_003251, NM_003252, NM_002525, NM_002527, NM_003256, NM_003258, NM_002529, Contig55623_RC, Contig24791_RC, Contig35457_RC, Contig43476_RC, Contig51495_RC, Contig53230, NM_002530, NM_002532, NM_001804, NM_003262, Contig38479_RC, NM_002534, NM_003264, NM_001806, NM_002535, NM_001807, NM_003265, NM_001808, NM_003266, Contig5478_RC, Contig28310_RC, Contig30743_RC, Contig18456_RC, Contig25746_RC, Contig20889_RC, Contig56953_RC, Contig48934_RC, NM_001813, Contig29497_RC, NM_001814, NM_002543, NM_003273, NM_002545, NM_003274, NM_003275, NM_003276, NM_002548, NM_001819, NM_003278, Contig60612_RC, Contig45303_RC, Contig40446_RC, AB007857, AJ238520, AB007859, Contig36178_RC, Contig42739_RC, Contig57908_RC, NM_003280, NM_001824, NM_003282, NM_001825, NM_003283, NM_003284, NM_001826, NM_002556, NM_003285, NM_001827, NM_001829, NM_003287, Contig50901_RC, Contig36321_RC, AB007861, Contig30735_RC, Contig22716_RC, AB007863, AB007866, AB007867, AB007869, Contig51800, NM_002560, Contig60553, NM_002562, NM_002565, NM_001836, NM_003295, NM_001838, NM_003297, NM_003298, NM_003299, Contig26610_RC, AB007871, Contig41167_RC, Contig49046_RC, AB007877, Contig16756_RC, NM_002570, Contig27797_RC, NM_002572, NM_001843, NM_001844, NM_001845, NM_002575, L11645, NM_002578, NM_002579, Contig53080_RC, AB007880, AB007881, X14356, Contig32185_RC, Contig848_RC, AB007883, AB007888, Contig48918_RC, NM_002581, NM_001853, Contig45266, NM_001854, NM_002586, NM_002588, U71601, X05610, Contig49038_RC, Contig47955_RC, NM_001860, Contig36525, NM_001861, NM_002591, NM_002592, NM_001863, NM_001865, NM_002595, NM_001868, NM_002598, Contig41302_RC, NM_002599, Contig57200_RC, Contig53072_RC, Contig31448_RC, Contig43970_RC, Contig43823, Contig51843, NM_001870, NM_001873, NM_001875, NM_001876, NM_001878, Contig58530_RC, Contig48676_RC, Contig55966_RC, NM_001882, NM_001883, NM_001884, NM_001885, NM_001886, NM_001887, NM_001888, NM_001889, Contig32921_RC, Contig12755_RC, Contig51981_RC, Contig7047_RC, NM_001890, NM_001891, NM_001896, NM_001897, NM_001899, Contig43353_RC, Contig34605_RC, Contig23187_RC, Contig598_RC, Contig34980_RC, Contig54394_RC, Contig39085_RC, X06389, Contig22601_RC, Contig34371_RC, Contig42390_RC, Contig53056_RC, Contig20766_RC, Contig28645_RC, Contig27307_RC, Contig35326_RC, Contig42616_RC, Contig58514_RC, Contig27682_RC, Contig47096_RC, D16816, Contig32070_RC, Contig11175_RC, Contig27073_RC, Contig52319_RC, Contig53048_RC, Contig14197_RC, Contig25990_RC, Contig27908_RC, Contig31799_RC, Contig39678_RC, Contig38949_RC, Contig20901_RC, Contig24652_RC, Contig17362_RC, Contig42608_RC, Contig28028_RC, U49089, Contig31333_RC, Contig40081_RC, Contig15670_RC, Contig40916_RC, Contig33626_RC, Contig23080_RC, Contig41036_RC, AL133103, AL133104, Contig37520_RC, Contig56205_RC, AL133108, Contig47832_RC, Contig35685_RC, AL133112, AL133116, Contig42366_RC, Contig50385_RC, Contig41637_RC, Contig44659_RC, Contig28996_RC, AI701905_RC, Contig41028_RC, Contig37512_RC, Contig53550_RC, Contig32655_RC, Contig34948_RC, Contig14925_RC, Contig31692_RC, U47671, Contig50377_RC, Contig50520_RC, Contig475_RC, Contig13962_RC, S79281, AF034374, AF121856, Contig30955_RC, Contig24394_RC, Contig14917_RC, Contig38834_RC, Contig2811_RC, Contig25958_RC, Contig6562_RC, AB026048, Contig15037_RC, Contig59120_RC, Contig33368_RC, Contig37871_RC, G26403, Contig20635_RC, Contig7437, AF019083, Contig28514_RC, Contig16367_RC, Contig39555_RC, Contig38826_RC, Contig12007_RC, AF016903, AF040964, Contig41379_RC, Contig48529_RC, AJ009936, Contig24987_RC, NM_020038, Contig26213_RC, Contig34232_RC, Contig44544_RC, Contig45273_RC, NM_020041, AJ272057, NM_004004, Contig49859_RC, Contig32540_RC, Contig12374_RC, Contig43581_RC, M68874, Contig46228_RC, Contig10307_RC, Contig14810_RC, Contig30096_RC, Contig33870_RC, Contig26580_RC, Contig51826_RC, Contig43807_RC, M28170, Contig10073_RC, Y11306, Contig41280_RC, Contig27535_RC, NM_003301, NM_003303, NM_004032, NM_003304, NM_004033, NM_004034, NM_004035, NM_003307, Contig5575_RC, Y11312, Contig8597_RC, Contig55111_RC, Contig30840_RC, Contig50254_RC, Contig10674_RC, NM_004040, NM_003311, NM_003312, NM_004042, NM_004043, NM_012062, NM_003315, Contig56298_RC, NM_003316, X89960, NM_003317, NM_004046, NM_004047, NM_004048, NM_012067, NM_004049, Contig25234_RC, Contig56441_RC, Contig50855_RC, NM_003320, Contig30689_RC, Contig23399_RC, NM_012070, NM_004052, Contig46007, NM_004053, NM_003325, NM_003326, NM_012076, NM_003329, NM_004058, NM_004059, AB007902, Contig55103_RC, Contig31561_RC, Y11339, Contig27293_RC, NM_002600, Contig13688_RC, NM_002601, NM_004060, NM_003332, Contig5710_RC, NM_012081, NM_004062, Contig36876_RC, Contig28857_RC, NM_012082, NM_012084, NM_002608, NM_012086, NM_003339, NM_012089, Contig38102_RC, Contig53411_RC, Contig25226_RC, Contig21098_RC, Contig36267_RC, Contig44286_RC, NM_002610, Contig46023, NM_004070, NM_003341, NM_002613, NM_003343, NM_002614, NM_004073, NM_002615, NM_003345, NM_012093, NM_002616, NM_002617, NM_012094, NM_012095, NM_002618, NM_002619, NM_004077, NM_012097, NM_012098, Contig20512_RC, Contig23534_RC, Contig32282_RC, AB007925, AB007928, Contig39432_RC, AB007929, Contig25827_RC, NM_002620, Contig53323, NM_002622, Contig5702_RC, NM_002623, NM_004082, NM_002625, NM_004083, NM_003355, NM_004084, NM_002628, NM_004086, NM_004088, AB007930, AB007933, Contig15281_RC, Contig40527_RC, AB007936, Contig48406_RC, NM_001900, NM_001901, NM_003360, NM_002631, NM_003361, NM_001903, NM_004090, NM_004091, NM_002633, NM_001904, NM_001905, NM_003363, NM_004093, NM_002635, NM_002636, NM_003365, NM_004094, NM_001908, NM_002637, NM_002638, NM_002639, NM_003369, AB007941, Contig23526_RC, Contig31545_RC, AB007948, Contig42586_RC, Contig46050, Contig45321, NM_003370, NM_001912, NM_002642, NM_003372, Contig52617, NM_001917, NM_002647, NM_002648, NM_001919, NM_003378, NM_002649, Contig13815_RC, Contig14544_RC, AB007953, Contig46480_RC, AB007958, NM_001920, NM_001921, NM_002650, NM_003380, NM_002651, NM_002652, NM_002653, NM_001925, NM_003383, NM_001926, NM_002655, NM_003385, NM_001927, NM_002658, NM_003388, NM_002659, D83782, NM_003389, Contig44413_RC, Contig29104_RC, AB007961, AB007962, AB007965, AB007969, R91401_RC, NM_001930, NM_002660, R70506_RC, NM_001932, NM_002661, NM_001933, NM_003391, Contig37327, NM_001935, NM_003393, NM_002665, NM_003394, NM_001936, NM_002666, NM_001938, NM_002667, NM_003399, Contig35431_RC, AB007975, Contig54491_RC, Contig25577_RC, NM_001943, NM_001944, NM_002673, NM_001945, NM_002674, Contig37490_RC, Contig55446_RC, Contig48156_RC, Contig57739_RC, NM_001950, NM_001951, NM_001957, NM_001958, NM_001959, NM_002689, Contig52190_RC, Contig31295_RC, Contig36621, Contig44644, NM_001962, NM_002691, NM_001963, NM_002692, NM_002693, NM_001964, NM_001965, NM_002694, NM_002696, NM_002697, NM_001969, Contig41750_RC, Contig48900_RC, NM_001974, NM_001977, NM_001979, Contig52182_RC, Contig51453_RC, Contig35790_RC, Contig39166_RC, Contig53746_RC, Contig56768_RC, Contig45390, NM_001985, Contig8458_RC, Contig30701_RC, NM_001988, Contig27901, Contig28631, NM_001993, NM_001994, NM_001995, NM_001996, NM_001997, NM_001999, Contig49012_RC, Contig16722_RC, Contig52174_RC, Contig39158_RC, Contig35935, AF204231, Contig39301_RC, AI393246_RC, Contig59090_RC, Contig3736_RC, Contig44692, Contig14421_RC, Contig580_RC, Contig57023_RC, Contig43793_RC, Contig35774_RC, Contig55188_RC, Contig43973, AF035121, Contig36688, Contig43184_RC, Contig41726_RC, Contig18773_RC, Contig37601_RC, Contig45011_RC, Contig20740_RC, Contig32135_RC, Contig47304_RC, Contig46950_RC, Contig9681_RC, Contig28010_RC, Contig31172_RC, Contig46341_RC, Contig14780_RC, Contig32736_RC, Contig34194_RC, Contig43777_RC, R41227_RC, Contig53022_RC, U31099, Contig54961_RC, Contig46942_RC, Contig28002_RC, Contig31164_RC, Contig30435_RC, Contig45604_RC, Contig53623_RC, Contig39043_RC, Contig1185_RC, Contig26310_RC, Contig44641_RC, Contig56036_RC, Contig55307_RC, Contig32494_RC, Contig48392_RC, Contig46934_RC, Contig58329_RC, Contig43303_RC, Contig22408_RC, Contig26911_RC, Contig53615_RC, Contig38681_RC, Contig48618_RC, Contig55908_RC, Contig8327_RC, Contig19012_RC, Contig36614_RC, Contig29324_RC, Contig1320_RC, Contig62964_RC, Contig55674_RC, NM_020107, Contig1778_RC, Contig47046_RC, NM_020111, Contig22775_RC, NM_020117, Contig20708_RC, Contig25940_RC, NM_012100, NM_020120, NM_012102, NM_020122, NM_020123, NM_012105, Contig48376_RC, Contig46918_RC, NM_012109, Contig10162_RC, Contig26060_RC, Contig47038_RC, NM_020130, Contig15477_RC, NM_020131, NM_020132, NM_012114, NM_020133, NM_012115, NM_020134, Contig38665_RC, Contig37936_RC, NM_012116, NM_012117, Contig27015_RC, Contig298_RC, Contig33951_RC, Contig52636_RC, NM_012121, NM_004102, NM_012122, NM_004103, NM_020143, NM_012124, Contig36973_RC, NM_020144, NM_020145, NM_004109, NM_012128, NM_012129, NM_020149, Contig15011_RC, Contig10154_RC, Contig25323_RC, AF025771, Contig36364_RC, Contig35635_RC, NM_012131, NM_004113, NM_020151, NM_004114, NM_020153, NM_012135, NM_020155, NM_004117, NM_020156, NM_004119, NM_012138, NM_012139, NM_020158, Contig51064_RC, Contig35026_RC, Contig58214_RC, Contig45338_RC, NM_004120, NM_004122, NM_004123, NM_020161, NM_020162, NM_004125, NM_020163, NM_012144, Contig49089_RC, NM_012145, NM_020164, NM_012147, NM_012148, NM_004129, NM_020168, NM_020169, Contig49232_RC, X57352, Contig27608_RC, NM_003400, NM_003401, NM_004130, NM_004132, NM_012151, NM_003403, NM_003405, Contig39378_RC, NM_003406, NM_003407, NM_003408, NM_003409, Contig40015_RC, Contig35018_RC, Contig42683_RC, Contig34664_RC, Contig41954_RC, Contig54078_RC, NM_003411, NM_012160, NM_004142, NM_003414, Contig28938_RC, NM_012164, NM_003416, NM_004145, NM_020185, NM_003419, NM_020187, Contig31033_RC, Contig23014_RC, Contig34055_RC, NM_003420, Contig46104, NM_003422, NM_003423, Contig19956_RC, NM_004153, NM_003425, NM_004155, NM_004156, NM_020194, NM_003427, NM_003428, NM_004157, NM_020196, NM_012177, NM_003429, NM_004159, NM_020197, NM_012179, Contig30070_RC, Contig29201_RC, Contig24344_RC, Contig16325_RC, Contig17054_RC, Contig23990_RC, D50406, NM_004161, NM_003433, NM_012181, NM_003435, NM_002706, NM_004164, NM_003436, NM_002707, NM_002708, NM_012185, NM_003437, NM_004169, NM_012189, Contig31025_RC, Contig29802_RC, Contig25674_RC, Contig52378_RC, Contig61432, NM_002711, NM_002712, NM_003441, NM_002713, Contig28696_RC, Contig27967_RC, NM_004172, NM_012191, NM_003443, NM_002714, NM_004173, NM_012192, NM_002715, NM_004174, NM_002717, NM_003446, NM_003447, NM_004176, NM_004177, NM_012197, NM_004179, X07203, Contig40374_RC, Contig59294_RC, X63966, NM_002722, NM_003451, NM_003452, NM_004182, NM_004183, NM_003455, NM_004185, NM_002727, NM_003457, NM_002729, NM_003458, NM_004188, Contig13061_RC, Contig15354_RC, Contig784_RC, Contig38542_RC, Contig26395_RC, NM_003460, NM_002731, Contig6270_RC, Contig28688_RC, NM_002733, NM_003463, Contig38129, NM_003465, NM_004194, NM_002736, NM_002737, NM_002738, NM_003468, NM_004197, NM_003469, NM_004199, Contig42201_RC, Contig30054_RC, M26880, Contig53242_RC, AJ133115, Contig31993_RC, Contig50678_RC, Contig28079_RC, X56692, Contig39872_RC, NM_002742, NM_003472, NM_003473, NM_002745, NM_003474, NM_003475, NM_003476, NM_002747, NM_002748, Contig9518_RC, NM_002749, Contig24094_RC, Contig40967_RC, NM_002750, NM_002751, NM_002752, NM_003482, Contig45437, NM_002754, NM_002755, L13283, NM_002758, NM_003488, NM_003489, Contig37571_RC, Contig58549_RC, NM_002760, Contig19698_RC, NM_002762, NM_003491, NM_002763, NM_003492, NM_003493, NM_002765, NM_003494, NM_002766, NM_002769, NM_003498, U72514, Contig36233_RC, Contig44252_RC, Contig45816_RC, Contig41688_RC, Contig33669_RC, Contig40959_RC, Contig19089_RC, Contig6254_RC, NM_002770, NM_002773, NM_002775, Contig8547_RC, Contig14375_RC, Contig22394_RC, Contig41079_RC, Contig52872_RC, Contig1540_RC, NM_002780, NM_002781, Contig44736, NM_002783, NM_002784, NM_002785, Contig53488, NM_002787, Contig1998_RC, Contig49101_RC, NM_002790, NM_002795, NM_002796, Contig27243_RC, Contig28807_RC, Contig55886_RC, Contig10007_RC, Contig21800_RC, Contig13029_RC, Contig14968_RC, Contig15697_RC, AA644150_RC, S70004, Contig40251_RC, Contig19216_RC, Contig61229_RC, Contig36818_RC, Contig48588_RC, Contig26272_RC, Contig40852_RC, AF083930, Contig20686_RC, AF157562, Contig35855_RC, Contig45100_RC, Contig32224_RC, Contig12058_RC, Contig8898_RC, Contig59163_RC, Contig44829_RC, Contig9770_RC, D26488, Contig41573_RC, Contig40844_RC, Contig56742_RC, Contig51885_RC, Contig39598_RC, S62027, AF027205, Contig28700_RC, AF130728, Contig15824_RC, Contig27594_RC, Contig2237_RC, Contig29887_RC, AF108138, Contig48715_RC, Contig44587_RC, Contig35839_RC, Contig37297_RC, Contig32583_RC, Contig55771_RC, Contig23226_RC, Contig46414_RC, Contig39124_RC, Contig48707_RC, Contig8791_RC, AF019225, Contig36703_RC, Contig51403_RC, Contig39116_RC, Contig50297_RC, Contig42278_RC, Contig57447_RC, AL079275, AL079277, AL079279, Contig42421_RC, Contig34402_RC, AF035281, Contig46172_RC, Contig60752_RC, Contig33296_RC, Contig16529_RC, AF035288, Contig29780_RC, Contig35589_RC, AL079281, AL079289, AF035290, AF035291, Contig29171_RC, Contig39108_RC, Contig15566_RC, Contig14837_RC, Contig38754_RC, AL079294, Contig40120_RC, AL079298, Contig10852_RC, Contig46164_RC, NM_020200, NM_020202, Contig8166_RC, Contig26141_RC, Contig29163_RC, Contig38746_RC, Contig56010_RC, Contig26742_RC, Contig53446_RC, NM_012200, Contig13866_RC, R11316_RC, NM_012203, NM_012205, L22005, NM_012206, Contig50190_RC, Contig20547_RC, Contig64630_RC, Contig51754_RC, NM_020230, NM_012211, Contig16279_RC, NM_020231, NM_020232, NM_020233, NM_020234, NM_020238, Contig8759_RC, Contig23712_RC, Contig16422_RC, AB018256, AB018258, Contig42772_RC, NM_004204, NM_020242, NM_020243, NM_004205, NM_020244, NM_004206, NM_004207, NM_020245, NM_004209, NM_020249, Contig31122_RC, AB018260, AB018261, Contig39001_RC, Contig14730_RC, Contig21268_RC, Contig18481_RC, Contig28418_RC, NM_004213, AJ272267, NM_004214, Contig55497_RC, NM_004216, NM_004217, NM_004218, NM_012237, NM_012238, NM_004219, NM_012239, AB018272, Contig31723_RC, AB018274, Contig48350_RC, Contig54159_RC, Contig22598_RC, NM_012240, NM_004222, NM_004223, NM_004224, Contig29748_RC, NM_004225, NM_004229, NM_012248, NM_012249, AB040881, AB018283, Contig42155_RC, Contig41426_RC, AB040886, AB018288, AB018289, Contig26492_RC, AB040889, Contig36429_RC, NM_003500, NM_004230, NM_004232, NM_012257, NM_004239, NM_012259, Contig45320_RC, AB040891, AB018292, AB040892, Contig12278_RC, AB040895, Contig62922_RC, Contig57090_RC, AB040896, AB018297, AB040897, Contig16781_RC, Contig49906_RC, NM_012261, NM_003513, NM_003514, NM_012262, NM_003516, NM_012264, NM_004246, AL117398, NM_012266, NM_003518, NM_012268, Contig13150_RC, Contig14714_RC, Contig23462_RC, Contig873_RC, Contig46201, NM_004250, NM_004251, NM_003522, NM_003523, NM_004252, NM_003524, NM_003525, NM_003526, NM_003527, NM_004256, NM_004257, NM_003529, NM_020298, NM_012279, Contig45312_RC, Contig39961_RC, NM_003530, NM_002802, NM_003531, NM_004261, Contig53506, NM_012281, NM_004263, NM_012282, NM_004264, NM_003535, NM_002807, NM_003536, NM_003537, NM_002808, NM_012285, NM_004267, NM_002809, NM_012286, NM_003539, NM_004269, Contig43620_RC, Contig28311_RC, Contig30744_RC, Contig865_RC, Contig54661_RC, NM_002810, Contig49664_RC, NM_003540, NM_002812, NM_004271, NM_012290, NM_004272, NM_002815, NM_003544, NM_003545, NM_004274, NM_012294, NM_002818, NM_012295, NM_003547, NM_004277, NM_002819, NM_003548, NM_004278, NM_012297, Contig45304_RC, Contig22491_RC, Contig17119_RC, Contig25138_RC, Contig43469_RC, D50525, Contig46232, Contig39953_RC, NM_002821, NM_003550, NM_002822, NM_003551, NM_002823, NM_002824, NM_004282, NM_004285, NM_002829, NM_004288, AA669593_RC, Contig38615_RC, Contig27197_RC, NM_002830, NM_002831, NM_004290, NM_003561, NM_003562, NM_004292, NM_003563, X56789, NM_002836, NM_004294, NM_004295, NM_004297, NM_004299, Contig36923_RC, Contig52961_RC, NM_002840, NM_003570, NM_003571, NM_002845, NM_003576, NM_003577, NM_003578, NM_003579, Contig36314_RC, Contig15419_RC, Contig48084_RC, Contig41769_RC, NM_002850, NM_002852, NM_003582, L11924, NM_002854, NM_002855, NM_002856, NM_003585, Contig28061_RC, U66047, Contig30494_RC, Contig46392_RC, NM_002861, NM_003591, NM_002863, Contig52837, NM_002864, NM_003595, NM_002866, NM_003596, NM_002867, NM_002868, NM_002869, L20688, NM_003599, Contig57201_RC, U58033, Contig32930_RC, Contig44325_RC, Contig29016_RC, Contig31449_RC, Contig3305_RC, Contig75_RC, NM_002871, NM_002872, NM_002873, NM_002874, NM_002875, NM_002876, Contig40340_RC, Contig51006_RC, Contig19305_RC, Contig53674_RC, Contig37540, Contig39929_RC, NM_002880, NM_002881, NM_002882, NM_002883, NM_002884, NM_002886, NM_002889, Contig24903_RC, Contig52336_RC, Contig61084_RC, Contig45046_RC, Contig44317_RC, AF078164, Contig29383_RC, Contig47339_RC, AF174394, Contig15778_RC, Contig38966_RC, NM_002890, Contig45574, NM_002892, NM_002893, NM_002894, NM_002895, NM_002896, NM_002898, Contig20166_RC, Contig28045_RC, Contig23188_RC, U73377, Contig46376_RC, Contig16041_RC, Contig742_RC, Contig38500_RC, Contig44309_RC, Contig48812_RC, Contig35936_RC, Contig52884, Contig6686_RC, Contig40324_RC, Contig41053_RC, Contig42617_RC, Contig53658_RC, Contig5348_RC, Contig36853, Contig9851_RC, Contig40090_RC, Contig42008_RC, Contig14950_RC, Contig27074_RC, Contig41654_RC, Contig18326_RC, Contig51966_RC, Contig125_RC, AF043324, M94547, Contig40691_RC, Contig51500_RC, Contig726_RC, AJ010228, AF035318, AF116238, AF052087, U64675, Contig45397_RC, AI668686_RC, Contig36880, AF052091, AF220492, Contig52830_RC, AF052094, AF052095, AF203728, Contig44059_RC, Contig9835_RC, Contig23307_RC, Contig40074_RC, Contig32055_RC, Contig41638_RC, Contig8872_RC, Contig45532_RC, Contig53551_RC, Contig37513_RC, Contig63863_RC, Contig39806_RC, Contig55844_RC, AB027013, Contig52213_RC, Contig31318_RC, Contig35821_RC, Contig15655_RC, Contig2068_RC, Contig28989_RC, Contig52814_RC, Contig50979_RC, Contig3398_RC, X82240, Contig45290_RC, Contig31685_RC, Contig15647_RC, Contig16376_RC, AL133426, AL133427, NM_021007, Contig57895_RC, Contig43223_RC, Contig11662_RC, X73502, AL133430, Contig18812_RC, NM_021010, Contig26079_RC, NM_021013, Contig55828_RC, NM_021018, NM_021019, Contig19999_RC, AB040901, AB040903, AB018305, AB040907, Contig44553_RC, AL117404, NM_021020, Contig1240_RC, AL117406, Contig15639_RC, AL117407, NM_021026, NM_021029, AB018310, AB018313, Contig8848_RC, AB040914, Contig16511_RC, AB018317, AB040918, AB018319, Contig50880_RC, AL117415, NM_021033, NM_020309, NM_021038, NM_021039, Contig31211_RC, Contig11045_RC, AB040923, AB018324, AB040924, Contig34233_RC, X80822, Contig45274_RC, Contig44545_RC, NM_005000, NM_005002, AL117425, Contig17089_RC, Contig31669_RC, AL117427, NM_020313, AL117428, NM_020314, Contig28882_RC, NM_005006, AL117429, Contig55586_RC, Contig46838_RC, NM_020317, NM_005008, NM_005009, NM_021047, AB040936, AB040938, AB018339, NM_005010, NM_005012, AL117435, NM_012302, NM_005014, AL117437, NM_020323, NM_005015, Contig45875_RC, NM_012307, NM_020327, NM_021057, NM_021058, AB040942, AB018345, Contig41515_RC, AB040945, AB018347, Contig30097_RC, AL117440, Contig29228_RC, NM_012310, NM_005021, AL117444, NM_012312, Z26649, NM_005024, NM_020334, NM_005026, NM_021064, NM_012318, NM_012319, NM_021069, AB018350, AB040954, AB040955, Contig63740_RC, Contig43574_RC, Contig34826_RC, Contig35555_RC, NM_004300, Contig59472_RC, NM_005032, NM_021070, AL117457, Contig46596_RC, NM_021073, AL117458, NM_005035, NM_012326, NM_005036, NM_020345, Contig2554_RC, NM_020346, NM_021075, NM_012328, NM_004309, NM_005038, NM_020347, NM_020348, NM_012329, NM_021078, AF000560, AB040960, AB040961, AB040962, Contig14803_RC, Contig34217_RC, AB040966, AB032948, AB040969, Contig33863_RC, Contig53277_RC, NM_004310, NM_012330, NM_005040, NM_004312, NM_005041, NM_012331, NM_005042, NM_004313, NM_021080, Contig62306, NM_005043, Contig63036, Contig28866_RC, NM_005044, NM_004315, Contig56299_RC, NM_005045, NM_005046, NM_005047, NM_020357, NM_012339, NM_005049, NM_020358, AB040971, AB032953, Contig17216_RC, AB040976, AB032957, AB032959, Contig16862_RC, NM_004320, NM_004321, NM_005051, AL117474, NM_012341, NM_021090, NM_004323, NM_005053, NM_020362, Contig39298_RC, Contig45859_RC, NM_012344, AL117477, NM_005055, NM_005056, NM_004327, NM_012347, NM_021095, NM_020366, NM_012348, NM_004329, NM_020368, NM_021097, NM_021098, AB032960, Contig55104_RC, AB032961, Contig24272_RC, Contig16253_RC, M27749, AB032964, AB032965, AB032966, AB032967, Contig33855_RC, Contig34584_RC, NM_004330, NM_005060, NM_005061, NM_003603, NM_012351, NM_020371, NM_004334, NM_004336, NM_003607, NM_020374, NM_004337, NM_003608, NM_005066, NM_004338, NM_003609, NM_005069, Contig3876_RC, Contig17208_RC, AB032973, AB032976, AB032977, Contig43558_RC, AL117490, NM_003610, Contig48790_RC, NM_003611, NM_012360, NM_003613, NM_020381, NM_004343, NM_003615, NM_020382, NM_004345, NM_004346, NM_003617, NM_004347, NM_020385, AL117499, NM_003619, NM_005077, NM_020386, NM_012368, NM_005079, NM_020389, Contig37140_RC, Contig43701_RC, AB032981, Contig23535_RC, Contig24264_RC, Contig30825_RC, AB032985, Contig54742_RC, AB032986, NM_004350, NM_004351, NM_004352, NM_005081, NM_020390, NM_020391, NM_004353, NM_003624, Contig46308, NM_005083, NM_020392, NM_005084, NM_020393, NM_003627, NM_005085, NM_012375, NM_004357, Contig63079, NM_005087, NM_003629, NM_005089, Contig51111_RC, AB032990, Contig40528_RC, Contig32509_RC, AB032993, Contig56426_RC, AB032997, NM_003630, NM_002901, NM_002902, NM_003631, NM_003632, NM_005090, NM_004361, NM_002903, NM_002904, NM_005091, NM_012381, NM_005092, NM_012382, NM_012383, NM_002906, NM_004364, NM_003635, Contig3259_RC, NM_003636, NM_012384, NM_004365, NM_002907, NM_005095, NM_004367, NM_012386, NM_004368, NM_004369, NM_012388, Contig53170_RC, R10311_RC, NM_002910, NM_002911, NM_004370, NM_002912, NM_002913, NM_003642, NM_004371, NM_003643, NM_012391, NM_004373, NM_002915, NM_002916, NM_003645, NM_004374, NM_012394, NM_004376, NM_012395, NM_002918, NM_012396, NM_004377, Contig9446_RC, NM_012397, NM_012399, Contig51103_RC, Contig61415_RC, Contig17567_RC, Contig45600, Contig48774_RC, NM_003650, NM_003651, NM_004380, NM_002922, NM_002923, NM_004381, NM_004382, NM_003653, Contig38318, NM_004384, NM_002928, NM_003657, NM_004387, NM_003658, NM_002929, NM_003659, Contig52433_RC, Contig29105_RC, Contig15875_RC, Contig49729_RC, NM_002932, NM_003661, NM_004393, NM_003665, NM_002936, NM_002937, NM_004395, NM_003667, NM_004396, NM_003668, NM_004397, NM_004398, NM_003669, Contig44180_RC, Contig38454_RC, Contig40887_RC, NM_002940, NM_003674, NM_003675, NM_003678, NM_003679, U65404, Y11681, Contig32259_RC, Contig16596_RC, NM_002950, NM_003681, Contig38346, NM_002953, NM_002956, NM_003686, NM_003688, NM_002959, Contig33131_RC, Contig28134_RC, Contig31296_RC, Contig56777_RC, Contig49487_RC, NM_003690, NM_002961, NM_002962, NM_002963, NM_003692, NM_003693, NM_002964, AF052100, NM_002965, NM_002966, NM_002969, Contig831_RC, AF052107, AF052109, Contig41751_RC, Contig35190_RC, U80736, Contig52792_RC, NM_002970, NM_002973, Contig45657, NM_002978, Contig41142_RC, NM_002979, AF052116, AF052119, Contig35416_RC, Contig42706_RC, U58146, Contig45728_RC, NM_002982, NM_002983, NM_002984, NM_002985, AF052121, Contig30702_RC, NM_002989, Contig42472_RC, Contig26434_RC, U80756, Contig24599_RC, R96610_RC, NM_002991, NM_002993, AF052130, Contig54010_RC, NM_002996, NM_002997, Contig20239_RC, U80761, Contig24742_RC, Contig60194_RC, Contig47930_RC, Contig66615_RC, Contig5429_RC, AF052140, AF052141, Contig23404_RC, AF060169, AF149724, Contig55798_RC, AF052150, AF052155, AF052159, U56725, Contig56670_RC, Contig55189_RC, Contig45020_RC, AF052160, AJ010306, AF052162, Contig16481_RC, Contig33708_RC, Contig57625_RC, Contig37693, Contig28949, Contig31181_RC, Contig30452_RC, Contig573_RC, AF052176, AF052177, AF052178, Contig27748_RC, Contig3495_RC, Contig31407_RC, AF052181, AF052183, AF052185, Contig51196_RC, Contig47680_RC, Contig57617_RC, Contig1428_RC, Contig29696, Contig29699, Contig45613_RC, Contig47071_RC, Contig17428_RC, Contig49364_RC, Contig51797_RC, Contig45004_RC, Contig53023_RC, Contig44650_RC, Contig46943_RC, AF149785, Contig49965_RC, Contig45605_RC, AF123659, Contig11142_RC, Contig34330_RC, Contig27040_RC, Contig33601_RC, Contig22183_RC, Contig9229, Contig28604_RC, Contig15728_RC, Contig48393_RC, Contig65995_RC, Contig54345_RC, Contig38682_RC, Contig5681_RC, Contig35051_RC, Contig27032_RC, Contig41612_RC, Contig53007_RC, Contig43905_RC, NM_021100, NM_021104, NM_021106, Contig42942_RC, Contig50961_RC, Contig36381_RC, NM_021114, NM_021115, Contig38674_RC, Contig57359_RC, AL117502, Contig46084_RC, NM_021120, X81636, Contig39629_RC, NM_021127, Contig65979_RC, Contig450_RC, AB026436, Contig11727_RC, Contig35644_RC, AL117513, NM_020400, NM_021130, NM_020401, NM_020402, NM_021131, NM_020403, NM_020404, NM_021134, NM_020406, NM_021136, NM_020408, NM_020409, Contig55201_RC, Contig16350_RC, Contig35035_RC, Contig27391_RC, AL117522, NM_020410, Contig13786_RC, Contig2034_RC, NM_020412, NM_021141, NM_020414, Contig29684_RC, NM_020415, NM_005107, NM_021145, AL133569, NM_005109, AL117530, Contig43655_RC, Contig34907_RC, NM_005110, NM_005111, NM_020421, NM_005112, NM_012403, AL117536, NM_012404, NM_005114, NM_020423, AL133576, Contig46677_RC, AL117539, NM_012406, NM_012407, NM_005117, NM_012409, NM_005119, NM_021159, Contig33944_RC, Contig52629_RC, NM_005120, NM_005121, NM_012411, AL117544, AL117546, NM_012413, NM_012414, AL133585, NM_012415, NM_020435, NM_020436, NM_012418, AL133589, NM_012419, NM_005129, NM_021167, Contig30313_RC, M29273, Contig25316_RC, Contig32606_RC, Contig49233_RC, Contig48504_RC, AB033768, Contig1063_RC, NM_012420, AL133591, AL133592, NM_012421, NM_005131, NM_004402, AL117555, NM_004403, NM_021170, NM_004404, NM_005134, NM_004405, NM_012424, NM_005135, NM_004406, NM_021174, NM_004407, AL117559, NM_004408, NM_004409, NM_021177, NM_021178, Contig42309_RC, Contig33936_RC, Contig54079_RC, NM_004411, NM_012430, NM_012432, NM_004413, NM_012433, NM_004414, NM_005143, Contig28939_RC, Contig36958_RC, NM_012434, NM_021183, NM_005145, AL117568, NM_004417, NM_004418, NM_012437, NM_004419, NM_005148, NM_021186, NM_005149, Contig21932_RC, Contig16935_RC, Contig40992_RC, Contig24954_RC, NM_004420, NM_005151, NM_004423, NM_021191, NM_012444, AL117577, NM_021192, NM_005154, NM_005155, NM_012446, AL117579, NM_004428, NM_020466, NM_005157, NM_005158, NM_020467, NM_021197, NM_020469, Contig33093_RC, AL117580, NM_012450, NM_004431, NM_003702, NM_020470, NM_005161, NM_012451, NM_003704, NM_005162, NM_012452, AL117586, NM_004434, NM_012453, NM_003706, NM_003707, NM_020474, NM_012456, NM_003708, NM_005166, NM_020475, NM_012457, NM_005167, NM_005168, NM_012459, NM_020478, Contig31026_RC, Contig30672_RC, Contig33694_RC, NM_003711, NM_003712, X58397, NM_003713, Contig28697_RC, NM_020481, NM_003714, NM_004443, NM_005173, NM_004444, NM_003715, NM_003716, NM_004445, NM_003717, NM_020484, NM_004446, NM_012466, NM_004448, NM_005178, NM_012469, Contig42210_RC, Contig2986_RC, Contig44503_RC, Contig45232_RC, Contig15964_RC, Contig50687_RC, NM_003720, Contig49818_RC, NM_005180, Contig54425, NM_003723, NM_004452, NM_012472, NM_005183, NM_012474, NM_004455, NM_003726, NM_005184, NM_012476, NM_004457, NM_004458, NM_003729, NM_005187, Contig9527_RC, NM_004459, NM_012479, Contig11604_RC, Contig31018_RC, L38935, Contig54206_RC, Contig22645_RC, Contig42059_RC, Contig54581_RC, Contig37814_RC, Contig16919_RC, NM_003730, NM_004460, NM_012480, NM_005190, NM_004461, NM_003732, NM_004462, NM_003735, NM_004464, NM_005193, NM_012484, NM_005194, NM_012485, NM_005195, NM_004466, NM_004467, NM_005197, NM_004468, Contig20953_RC, Contig28832_RC, Contig47892_RC, NM_003740, NM_004474, NM_003745, NM_003746, NM_003748, NM_004477, Contig50822_RC, Contig31385_RC, Contig19098_RC, NM_003750, NM_004480, NM_003752, NM_004481, NM_003753, NM_003754, NM_004485, NM_004487, AF222023, Contig30047_RC, Contig45591_RC, Contig36843_RC, NM_004490, NM_003764, NM_004494, NM_004495, NM_004497, NM_003769, Contig50814_RC, Contig28590_RC, Contig2504_RC, Contig41689_RC, Contig37700, NM_003770, NM_003772, NM_003773, NM_003774, NM_003778, NM_003779, X16281, Contig35271_RC, X16282, Contig49711_RC, Contig28816_RC, Contig3834_RC, NM_003784, NM_003785, Contig39179, NM_003787, Contig20328_RC, Contig24079_RC, Contig19834_RC, AJ133439, Contig47267_RC, Contig29707, Contig37728, NM_003794, NM_003798, Contig36827_RC, Contig48597_RC, Contig20695_RC, Contig62568_RC, Contig10984_RC, Contig22379_RC, Contig26882_RC, Contig29529_RC, Contig38420_RC, Contig32834_RC, Contig24815_RC, Contig52248_RC, Contig51519_RC, Contig12350, Contig57480_RC, Contig20830_RC, Contig15833_RC, Contig24581_RC, Contig19209_RC, AI885575_RC, Contig46288_RC, Contig40845_RC, Contig36577_RC, J03077, Contig29764, Contig53112_RC, Contig12803_RC, AF124432, Contig29430_RC, U16126, Contig30525_RC, Contig15216_RC, Contig39133_RC, Contig15591_RC, Contig42295_RC, U72882, Contig48716_RC, Contig56735_RC, Contig5403_RC, Contig6132_RC, Contig37298_RC, Contig29279_RC, Contig40228_RC, Contig38170_RC, Contig24565_RC, AF131748, Contig27587_RC, Contig37899_RC, AF131750, AF131753, AF131756, AF131757, Contig49437_RC, AI418514_RC, Contig41701_RC, Contig42430_RC, AF131762, AF131763, Contig53471_RC, AF131764, Contig9310, Contig17410_RC, Contig27722_RC, AF131773, AF131774, AF131776, Contig50298_RC, AF131777, Contig38763_RC, Contig39492_RC, S87759, AL133603, Contig60753_RC, Contig31839_RC, AF131786, AF131787, AL133609, AF131788, Contig29781_RC, Contig55756_RC, Contig47737_RC, Contig29172_RC, AL133614, AL133617, AF131796, AL133618, AF131798, AL133619, AF131799, Contig65459_RC, Contig3461_RC, Contig40121_RC, U06711, Contig48000_RC, Contig30267_RC, Contig54184_RC, Contig60745_RC, AL133623, NM_021208, AB035266, Contig36454_RC, AL133632, AL133636, Contig38747_RC, Contig47495_RC, Contig24450_RC, Contig31740_RC, AL117601, Contig26743_RC, AL133641, Contig54176_RC, AL117605, Contig21886_RC, AL133644, AL117606, NM_021221, AL117609, AL133649, AL117612, AL133650, Contig36446_RC, AL117613, X66436, NM_021230, AL133654, AL117617, AL133656, Contig38739_RC, AL133658, NM_021238, AB026542, Contig17152_RC, Contig31732_RC, Contig35108_RC, Contig51146_RC, Contig42773_RC, Contig27464_RC, Contig34754_RC, Contig53439_RC, AL117623, Contig14588_RC, NM_005203, NM_005204, Contig6610_RC, AL133666, AL117629, NM_021245, AL117630, Contig28419_RC, AL117634, AL117635, NM_013231, Contig66916_RC, NM_005213, NM_021251, NM_005214, AL117638, NM_021253, NM_005216, NM_013235, NM_013236, NM_013237, NM_020527, NM_013238, NM_020528, NM_013239, D87077, D87078, Contig30160_RC, Contig16415_RC, Contig51138_RC, Contig39603_RC, Contig35475_RC, Contig22599_RC, NM_013241, NM_013242, NM_005223, NM_020533, NM_013244, NM_005226, NM_005228, NM_005229, NM_013248, NM_013249, NM_021268, AI536092_RC, Contig16181_RC, Contig45930_RC, Contig49306_RC, NM_004500, NM_004501, NM_005230, NM_005231, NM_013250, NM_004502, NM_005232, NM_021270, NM_005233, NM_004504, NM_013253, AL117657, NM_004506, NM_004507, NM_013256, NM_004508, NM_020547, NM_004509, NM_005239, NM_013259, Contig30152_RC, AF176012, Contig13760_RC, Contig62923_RC, Contig57091_RC, Contig43486_RC, NM_004510, Contig39970_RC, NM_020550, NM_013260, NM_004513, AL117665, NM_005242, NM_013262, NM_004514, AL117666, NM_005244, NM_013263, NM_020554, NM_004516, NM_005245, NM_005246, NM_013265, NM_004518, NM_013266, NM_005247, NM_013268, NM_005249, NM_013269, Contig20441_RC, Contig47005_RC, Contig14715_RC, Contig31482_RC, Contig50167_RC, Contig37903_RC, Z34893, NM_005253, L07033, NM_005254, NM_004525, NM_004526, NM_005255, NM_013274, NM_013275, NM_004527, NM_004528, NM_005257, NM_005258, NM_013279, Contig30144_RC, Contig52603_RC, NM_003800, Contig39962_RC, NM_003801, NM_005260, NM_003803, AL109666, NM_005262, NM_004533, NM_013282, NM_003805, NM_005263, NM_013285, NM_005266, NM_003808, NM_013286, NM_003809, NM_013287, NM_005269, NM_013288, Contig43621_RC, Contig53933_RC, Contig33767_RC, Contig47220, AL109671, NM_003810, NM_004540, NM_003812, NM_005270, NM_004541, NM_005271, Contig29499_RC, NM_013291, NM_003814, NM_005273, NM_004544, NM_003816, NM_004545, NM_005274, NM_013294, NM_005275, NM_004546, NM_004548, NM_013296, NM_013298, NM_005279, NM_013299, Contig50302_RC, Contig3788_RC, X16323, Contig45305_RC, Contig53324_RC, Contig52970_RC, Contig56346_RC, AL109681, Contig39954_RC, NM_003820, NM_004552, NM_005281, NM_004553, NM_005282, NM_005284, NM_005285, NM_003829, NM_005288, Contig26011_RC, Contig36323_RC, Contig32195_RC, Contig23447_RC, AF174604, Contig46635_RC, Contig55383_RC, Contig47364_RC, AF263547, Contig19179_RC, Contig41778_RC, AL109690, AL109691, NM_003830, NM_003831, AL109693, Contig6344_RC, NM_003832, NM_005290, NM_004562, AL109695, AL109696, NM_004564, NM_005293, NM_003835, NM_003836, NM_005295, NM_005296, NM_003838, NM_004567, NM_004569, Contig21755_RC, Contig49800_RC, Contig39231, Contig55984_RC, NM_003840, Contig39234, NM_003841, NM_003842, Contig31000_RC, NM_004575, NM_003846, NM_003847, NM_004578, Contig42041_RC, Contig17630_RC, Contig36315_RC, AI695056_RC, AF182645, Contig55375_RC, Contig38983_RC, Contig47261, Contig5607_RC, NM_003851, NM_004580, NM_003852, NM_003853, NM_004582, NM_003854, NM_004583, Contig53829, NM_003856, NM_004585, NM_003858, NM_004588, NM_003859, Contig24311_RC, NM_004589, Contig51015_RC, Contig50661_RC, Contig36081_RC, X07618, Contig58540_RC, Contig52954_RC, NM_003860, NM_004590, NM_004592, NM_003863, NM_004593, NM_003864, NM_004594, NM_003866, NM_004595, Contig8395_RC, NM_003867, NM_004596, NM_003868, NM_004597, NM_004598, Contig36307_RC, Contig27934_RC, Contig15787_RC, NM_003871, NM_003874, NM_003876, NM_003877, Contig32322_RC, Contig33051_RC, NM_003879, Contig48220_RC, Contig54029_RC, Contig57803_RC, Contig36908_RC, Contig39095_RC, AF175387, Contig61872, NM_003880, NM_003882, Contig46567, NM_003885, NM_003886, NM_003887, Contig37028_RC, Contig56840_RC, AL355092, NM_003890, Contig37826, Contig30021_RC, NM_003893, NM_003895, Contig32314_RC, NM_003899, Contig17380_RC, Contig34607_RC, Contig26963_RC, Contig44919_RC, Contig39087_RC, Contig56689_RC, Contig46586, AJ132820, Contig19064_RC, Contig61077_RC, Contig46590, Contig16643_RC, Contig44076_RC, Contig28038_RC, Contig32072_RC, Contig15680_RC, Contig25617_RC, Contig35094_RC, Contig11320_RC, AF124512, AF131803, AF131805, AF131808, AF117229, Contig36049_RC, Contig44068_RC, Contig26947_RC, Contig21023_RC, AF117230, AF131811, AF131812, AF131818, Contig38860_RC, AF238870, AF131821, Contig14334_RC, Contig493_RC, AF131823, AL037737_RC, Contig17356_RC, Contig21015_RC, Contig52222_RC, AF131830, AF131831, Contig719_RC, AF131834, AF131835, AF131838, Contig49518_RC, Contig12033_RC, Contig23074_RC, Contig31093_RC, AF131841, Contig46262_RC, Contig26096_RC, Contig17348_RC, Contig28389_RC, Contig29893, Contig14092_RC, Contig30356_RC, Contig46254_RC, Contig14693_RC, AF010236, Contig9411, Contig14919_RC, Contig15648_RC, Contig19399_RC, AB036063, Contig50514_RC, Contig55829_RC, Contig26223_RC, Contig57430_RC, NM_014003, Z29067, NM_014008, NM_014009, D87119, Contig51235_RC, Contig39700_RC, AF019633, NM_014015, Contig41524_RC, Contig26215_RC, Contig26590_RC, Contig52565_RC, Contig29237_RC, NM_014020, NM_006002, NM_006005, NM_006008, NM_014028, Contig26816_RC, Contig28274_RC, NM_006010, NM_013301, NM_013302, NM_006013, NM_006016, NM_013307, NM_006017, NM_013308, NM_006018, NM_014037, Contig15541_RC, Contig14812_RC, Contig22831_RC, Contig30098_RC, Contig25853_RC, Contig53286_RC, Contig45267_RC, Contig44538_RC, NM_014041, NM_014042, NM_013313, Contig28875_RC, NM_013316, NM_006026, NM_013317, NM_014046, NM_013318, NM_014049, AB000509, AJ001873, AL109700, AL109702, Contig36285_RC, AL109705, NM_006030, NM_005301, NM_013320, NM_006031, NM_014051, NM_014053, NM_005305, Contig46597_RC, NM_006035, NM_005306, NM_013325, NM_014055, Contig1826_RC, NM_006037, NM_014057, NM_006038, NM_013329, NM_014059, Contig12511_RC, Contig23552_RC, Contig16262_RC, Contig41883_RC, AL109714, NM_013330, Contig63304, NM_006041, AL109716, NM_014060, NM_005313, NM_013332, NM_006042, Contig5720_RC, NM_006043, NM_014062, Contig36886_RC, NM_006044, NM_014063, NM_014064, NM_006048, NM_013339, NM_006049, NM_014069, Contig57172_RC, NM_005320, NM_005321, AL109726, NM_014070, NM_006051, NM_005322, X57819, NM_005323, NM_020632, NM_006052, NM_005324, Contig53879_RC, NM_006054, NM_005325, NM_020634, NM_014074, NM_006055, NM_005327, NM_014075, NM_014076, NM_006057, NM_005328, NM_020639, NM_014079, Contig36420_RC, Contig54751_RC, Contig55302, NM_013351, NM_004604, NM_013352, NM_004605, NM_005334, NM_013353, NM_006064, NM_013354, NM_004606, Contig1584_RC, NM_004607, NM_005336, NM_006066, NM_004608, NM_006067, NM_005338, NM_020648, NM_005339, Contig51120_RC, Contig25228_RC, Contig33247_RC, NM_005340, NM_006070, NM_005341, NM_020650, NM_020651, NM_005342, NM_004613, NM_006071, Contig48026, NM_020652, NM_006072, NM_014092, NM_013363, NM_004615, NM_004616, NM_020654, NM_014093, NM_013364, Contig2539_RC, NM_014094, NM_004617, NM_013365, NM_013366, NM_020657, NM_014096, NM_013367, NM_006078, NM_013368, NM_020659, NM_013369, NM_006079, NM_014098, Contig26100_RC, Contig21243_RC, Contig44431_RC, Contig37141_RC, Contig36412_RC, Contig41867_RC, Contig27287_RC, Contig26558_RC, NM_004621, NM_004622, NM_013370, NM_006080, NM_020661, NM_004623, NM_013371, Contig44889_RC, NM_006084, NM_005356, NM_006085, NM_006086, NM_004628, NM_005357, NM_020667, NM_006087, Contig8726_RC, NM_005359, NM_020669, NM_006089, Contig338_RC, AF263613, Contig25595_RC, NM_003901, NM_003902, NM_004632, NM_005361, NM_003903, NM_013380, NM_006090, NM_004633, NM_005362, NM_020672, NM_013382, NM_004635, NM_020673, NM_013384, NM_003908, NM_020675, NM_003909, NM_013386, NM_005367, NM_004639, NM_005369, NM_006099, NM_020679, Contig44423_RC, Contig28760_RC, NM_004640, NM_004641, NM_005370, NM_003912, NM_003913, NM_013390, Contig47326, NM_004643, NM_020681, NM_003914, NM_020682, NM_005373, NM_020683, NM_004646, NM_005375, NM_003918, NM_013395, NM_020685, NM_020686, NM_005377, NM_003919, Contig8718_RC, NM_005378, NM_005379, NM_020689, NM_013399, Contig30209_RC, Contig34712_RC, Contig46482_RC, AF094508, Contig16839_RC, AL109781, NM_003920, NM_003921, NM_004651, NM_005380, NM_003922, NM_004652, NM_005381, NM_005382, NM_003924, NM_003925, NM_004655, NM_003926, AL109788, NM_004656, NM_003928, Contig7755_RC, NM_005389, Contig34103_RC, Contig31539_RC, NM_004660, NM_003931, NM_004662, NM_003933, NM_005391, NM_004663, NM_004664, NM_003935, Contig56096, NM_005394, NM_004665, NM_004666, NM_003939, NM_004668, NM_005397, NM_004669, Contig17102_RC, Contig33140_RC, NM_005399, Contig15267_RC, Contig19770_RC, D50911, NM_003940, D50918, NM_004672, NM_004676, NM_003947, Contig55379, NM_004677, NM_004679, Contig21219_RC, Contig25722_RC, Contig33741_RC, Contig47429_RC, D50926, NM_003950, Contig46634, NM_003952, NM_003953, Contig55385, NM_003954, NM_003955, NM_004686, NM_004687, NM_003958, Contig25113_RC, NM_004689, Contig66632_RC, Contig48759_RC, NM_004690, NM_003963, NM_004692, NM_004694, NM_003966, NM_004696, NM_003967, NM_004697, Contig23421_RC, NM_003969, NM_004698, Contig11274_RC, Contig64940_RC, Contig56921_RC, Contig36755_RC, Contig56169_RC, Contig16589_RC, AF095288, Contig47796_RC, NM_003970, NM_003974, NM_003976, NM_003978, Contig57041_RC, Contig43436_RC, Contig54477_RC, Contig45934, NM_003981, NM_003982, NM_003984, NM_003986, Contig31432_RC, Contig24142_RC, NM_003988, Contig11266_RC, Contig46601_RC, AF126028, Contig27164_RC, Contig25706_RC, Contig45943, NM_003992, Contig39387, NM_003994, NM_003995, Contig40406_RC, NM_003999, Contig44157_RC, Contig55950_RC, Contig47179_RC, Contig50109_RC, Contig54612_RC, Contig57634_RC, Contig52777_RC, Contig38197_RC, Contig36739_RC, AF262992, Contig2174_RC, Contig4467_RC, Contig45969, Contig15152_RC, Contig39904_RC, Contig43795_RC, Contig52311_RC, Contig27900_RC, Contig49607_RC, J03250, Contig42600_RC, Contig39061_RC, Contig53641_RC, Contig57017_RC, Contig40765_RC, Contig32746_RC, Contig10430_RC, Contig16474_RC, Contig24493_RC, Contig57993_RC, AF118072, Contig46343_RC, Contig47907_RC, X83301, Contig28613_RC, Contig51941_RC, Contig47673_RC, Contig30437_RC, Contig67230_RC, Contig49500_RC, X91348, AF052497, AF116649, Contig49958_RC, Contig41012_RC, Contig24620_RC, AI869951_RC, Contig45973_RC, Contig9810_RC, Contig32030_RC, Contig25198_RC, Contig39638_RC, Contig38909_RC, Contig17322_RC, Contig36007_RC, Contig67214_RC, AF109385, Contig48987_RC, Contig21439_RC, Contig34690_RC, AF116682, NM_014102, NM_014106, Contig48378_RC, NM_014107, Contig3607_RC, X68060, Contig49250_RC, Contig44393_RC, Contig29084_RC, NM_014110, NM_014111, NM_014112, NM_014113, Contig8230_RC, NM_014116, NM_014117, Contig2644_RC, NM_014118, AI001780_RC, Contig17915_RC, Contig54096_RC, NM_014120, NM_006102, Contig49851_RC, NM_014122, NM_014124, NM_006105, Contig36975_RC, NM_006107, NM_014126, NM_014128, NM_006109, Contig8831_RC, Contig53510_RC, AI336528_RC, Contig41363_RC, Contig21197_RC, Contig55803_RC, Contig51675_RC, NM_013400, NM_014131, NM_006112, NM_013403, NM_014132, NM_006114, NM_014134, NM_013406, NM_014139, Contig14050_RC, Contig32006_RC, Contig50337_RC, Contig35028_RC, Contig25926_RC, NM_013410, NM_006120, NM_013411, NM_014141, NM_013412, NM_006123, NM_014143, Contig37696_RC, NM_014145, NM_013416, NM_014146, NM_014147, NM_014149, M29540, AI215186_RC, AI381472_RC, Contig41355_RC, Contig43648_RC, Contig29068_RC, Contig28339_RC, Contig42919_RC, NM_006130, NM_005401, NM_014150, NM_013421, NM_013423, NM_005405, NM_014153, NM_006134, NM_005406, NM_014154, NM_014155, Contig2628_RC, NM_014156, NM_005408, NM_005409, NM_014157, NM_006139, NM_014158, M28825, Contig29211_RC, Contig51058_RC, Contig11478_RC, Contig55561_RC, Contig42685_RC, X82693, NM_013430, NM_006140, NM_014160, NM_013431, NM_006141, NM_005412, NM_014161, NM_014162, NM_006143, NM_014164, NM_013437, NM_014166, NM_014167, NM_005419, NM_013439, NM_014168, NM_014169, Contig23391_RC, Contig42076_RC, Contig1056_RC, NM_005420, NM_013440, NM_005421, NM_013441, NM_014171, NM_005423, NM_006152, Contig27977_RC, NM_013443, NM_014173, NM_013444, NM_005426, NM_013445, NM_014174, NM_014175, NM_013446, NM_006156, NM_013447, NM_005428, Contig11012_RC, NM_006158, NM_013448, NM_013449, NM_006159, NM_014178, Contig30072_RC, Contig44512_RC, Contig12951_RC, Contig25075_RC, Contig48263_RC, Contig66219_RC, Contig42677_RC, NM_004700, NM_005430, NM_004702, NM_006160, NM_004703, NM_005432, NM_014180, NM_006162, NM_004704, NM_005433, NM_004705, NM_014182, NM_006163, NM_005436, NM_004707, NM_006166, NM_004709, NM_006167, NM_005439, Contig20361_RC, NM_004710, NM_005440, NM_004712, NM_006170, NM_014190, NM_004713, NM_014191, NM_006173, NM_006174, NM_005446, NM_006176, NM_004718, NM_006177, NM_005449, Contig29570_RC, X65962, Contig63441, NM_004721, NM_005450, NM_006180, NM_004722, NM_004723, NM_006181, NM_004724, NM_006183, NM_005454, NM_004725, NM_005455, NM_006184, NM_004729, NM_005459, NM_006188, Contig50831_RC, AF000986, Contig45834_RC, Contig3250_RC, NM_004730, NM_005460, NM_005461, NM_006192, NM_005463, NM_006193, NM_004735, NM_004736, NM_006194, NM_006195, NM_004738, AF231023, L48692, AF000990, Contig25811_RC, AF000993, Contig40368_RC, Contig41097_RC, NM_004740, NM_005470, NM_004742, NM_004744, NM_004745, NM_004746, NM_005475, NM_005476, NM_004749, NM_005479, Contig36243_RC, Contig28224_RC, Contig778_RC, AF182814, NM_004750, NM_004751, NM_005480, NM_004753, NM_005483, NM_004755, NM_004756, NM_005485, NM_004757, NM_005486, NM_004759, NM_005488, Contig12092_RC, Contig13656_RC, Contig12927_RC, Contig29554_RC, NM_005490, NM_004762, NM_005492, NM_005493, NM_004766, Contig63488, NM_005496, NM_005498, Contig41232_RC, NM_005499, Contig16821_RC, Contig28216_RC, Contig44254_RC, Contig24088_RC, Contig45818_RC, NM_004770, NM_004771, NM_004772, NM_004774, NM_004775, Contig50206_RC, Contig42562_RC, Contig33814_RC, NM_004780, NM_004781, NM_004783, NM_004784, NM_004785, NM_004786, Contig14520_RC, NM_004788, Contig32099_RC, NM_004791, NM_004792, NM_004795, NM_004797, Contig32242_RC, NM_004799, Contig2263_RC, Contig24824_RC, AF248481, AF248483, Contig12669_RC, Contig56752_RC, Contig28567_RC, Contig28710_RC, AF045229, U66561, Contig23853_RC, X15880, Contig47770_RC, Contig43410_RC, Contig36120_RC, Contig45703_RC, X92110, Contig6599_RC, Contig21552_RC, Contig40237_RC, AF126163, Contig28702_RC, Contig26867_RC, Contig6742_RC, AJ011414, U25147, Contig22507_RC, AF132734, Contig41567_RC, Contig51879_RC, Contig37299_RC, AI401061_RC, Contig38171_RC, U49835, Contig26859_RC, AF077965, Contig51413_RC, AF116715, Contig46416_RC, Contig38772_RC, Contig34412_RC, Contig46182_RC, AF052577, Contig17411_RC, Contig52134_RC, Contig31239_RC, Contig38155_RC, Contig1403_RC, Contig33298_RC, Contig29782_RC, Contig40731_RC, Contig33441_RC, Contig14839_RC, Contig33899_RC, Contig32103_RC, Contig16440_RC, Contig27106_RC, L40027, Contig8920_RC, Contig63302_RC, Contig15703_RC, Contig46910_RC, X59405, NM_014204, NM_014205, NM_014206, NM_014207, Contig46301_RC, NM_014211, NM_014212, NM_014213, Contig54778_RC, NM_014218, Contig34755_RC, Contig54169_RC, Contig2108_RC, NM_014221, NM_014222, NM_014223, NM_014225, NM_006207, NM_014229, Contig16190_RC, Contig29901_RC, NM_006211, NM_006213, NM_006214, NM_014235, NM_006219, NM_014239, Contig23706_RC, Contig12288_RC, Contig35476_RC, Contig27457_RC, NM_014240, NM_006221, NM_014242, NM_006224, NM_020806, NM_006227, NM_014248, NM_006229, Contig38641_RC, Contig45931_RC, Contig25765_RC, Contig52469_RC, Contig53198_RC, NM_005500, NM_006230, NM_014252, NM_006233, NM_005505, NM_005506, NM_014254, NM_005507, NM_005508, NM_006239, NM_014258, Contig14115_RC, Contig32446_RC, Contig41194_RC, NM_005510, NM_006242, NM_005513, NM_006243, NM_005514, NM_014263, NM_006244, NM_005515, NM_005516, NM_014265, NM_006246, AB001451, NM_006249, NM_014268, NM_014269, Contig52003_RC, Contig35611_RC, Contig29050_RC, Contig50920_RC, AB019571, Contig47381_RC, NM_005521, NM_014270, NM_005522, NM_006251, NM_014271, Contig36798_RC, NM_005524, NM_014272, NM_005525, NM_014274, NM_005526, Contig56229, NM_014275, NM_005527, NM_006258, NM_006259, AF169017, Contig51498_RC, Contig50769_RC, Contig47982_RC, NM_005530, X74794, NM_004802, NM_006260, NM_021570, NM_014280, NM_004803, NM_005532, NM_006262, NM_006263, NM_004805, NM_005535, NM_004807, NM_005537, NM_004809, NM_014287, NM_014288, NM_006269, Contig40600_RC, Contig45080_RC, Contig19940_RC, Contig46644_RC, Contig34497_RC, NM_004810, NM_006270, NM_004812, NM_004813, NM_014291, NM_004815, NM_006273, NM_006274, NM_005546, NM_004817, NM_006276, NM_005547, NM_004818, NM_014296, NM_014297, NM_014298, NM_006279, Contig13745_RC, Contig22493_RC, Contig41178_RC, Contig44952_RC, Contig57076_RC, NM_004820, NM_004821, NM_005550, NM_006280, NM_004822, Contig55525, NM_004825, NM_006283, NM_005554, NM_005555, NM_006285, NM_005556, NM_006286, NM_005558, NM_006289, Contig42050_RC, Contig33302_RC, Contig16910_RC, Contig1030_RC, Contig48929_RC, Contig49658_RC, NM_004831, NM_006290, NM_006291, NM_005562, NM_005563, NM_004834, NM_004835, NM_005565, NM_004836, NM_004837, Contig56269, NM_006296, NM_004838, NM_005568, NM_006297, NM_006298, NM_006299, Contig45673_RC, Contig28906_RC, Contig52963_RC, Contig16759_RC, Contig47966_RC, NM_004841, NM_005572, NM_005573, L21934, NM_005577, NM_004848, Contig51625_RC, Contig52354_RC, AJ224162, Contig1022_RC, Contig36691_RC, Contig2961_RC, Contig54824, NM_004855, NM_005585, NM_005586, NM_005587, NM_004858, NM_004859, NM_005588, Contig25041_RC, Contig42643_RC, Contig30496_RC, NM_005591, NM_005593, NM_005594, NM_004866, NM_004867, NM_005596, NM_005597, NM_004868, Contig50053_RC, NM_005599, U74612, Contig26371_RC, Contig37037_RC, Contig48830_RC, AL354615, NM_004870, NM_004871, L21961, NM_004872, NM_004873, NM_004878, Contig41071_RC, NM_004879, Contig44093_RC, Contig36074_RC, Contig27326_RC, Contig23198_RC, Contig30179, Contig29994_RC, NM_004882, NM_004887, Contig23341_RC, NM_004888, NM_004889, Contig34382_RC, Contig33653_RC, Contig44694_RC, Contig51984_RC, NM_004890, NM_004891, NM_004892, NM_004894, NM_004895, NM_004896, NM_004897, Contig31961_RC, Contig1982_RC, Contig46853, Contig16043_RC, Contig32081_RC, Contig27084_RC, Contig34374_RC, Contig53059_RC, Contig57562_RC, Contig17982_RC, Contig5501_RC, Contig27919_RC, Contig14172, Contig34975_RC, Contig19666_RC, AL353933, AL353934, AL160131, AL160132, Contig11178_RC, Contig26347_RC, Contig43949_RC, Contig29369_RC, AL353944, AL353946, AL353948, Contig40318_RC, Contig45550_RC, Contig16636_RC, Contig48572_RC, Contig35696_RC, Contig37989_RC, Contig51502_RC, Contig23317_RC, Contig31336_RC, Contig27820_RC, Contig57546_RC, U58658, Contig61580_RC, Contig54290_RC, Contig13981_RC, Contig47835_RC, AF086790, M96577, Contig16394_RC, Contig22955_RC, Contig50388_RC, Contig35079_RC, Contig39582_RC, Contig38853_RC, AB029000, AB029001, AB029009, Contig22346_RC, AF029325, Contig44805_RC, Contig48556_RC, AB029010, AB029012, AB029013, AB029015, Contig46864_RC, Contig25969_RC, AB029020, Contig15800_RC, AB029029, Contig31086_RC, Contig46255_RC, Contig54274_RC, Contig33379_RC, N51075_RC, Contig55838_RC, Contig16987_RC, AB029031, AB029034, Contig42270_RC, Contig16378_RC, AB029041, Contig31830_RC, Contig17250_RC, Contig26833_RC, AF052692, Contig53537_RC, Contig13957_RC, AI261505_RC, Contig23202_RC, Contig31221_RC, Contig39100_RC, Contig33514_RC, Contig41533_RC, Contig64721_RC, Contig25870_RC, Contig35807_RC, Contig43826_RC, Contig31679_RC, Contig23803_RC, Contig34844_RC, Contig54258_RC, Contig15550_RC, Contig50273_RC, Contig43818_RC, NM_007000, NM_007002, NM_007005, NM_007006, Contig55588_RC, NM_007007, NM_007008, M37712, Contig21502_RC, Contig41291_RC, NM_014300, NM_007011, NM_014303, NM_007015, NM_007016, NM_014306, NM_007017, NM_007018, NM_007019, Contig30851_RC, Contig26208_RC, Contig30099_RC, NM_014310, NM_007020, NM_014312, NM_007022, NM_014313, NM_007024, NM_015044, NM_014316, NM_007026, NM_014317, NM_015046, NM_007028, NM_014318, Contig12369_RC, Contig51595_RC, X90872, NM_014320, NM_006301, NM_006302, NM_006303, NM_007032, NM_006304, NM_014323, Contig38579_RC, NM_014325, NM_006307, NM_007036, NM_014326, NM_007037, NM_015057, NM_006309, NM_014328, D87438, Contig30843_RC, Contig47470_RC, Contig54760_RC, NM_006310, NM_007040, NM_006312, NM_007042, NM_007044, NM_014335, NM_007045, NM_006316, NM_007046, NM_006317, NM_006319, NM_007048, NM_014339, NM_007049, D87446, Contig41275_RC, Contig48425_RC, Contig17593_RC, NM_006320, NM_014341, NM_007051, NM_007052, NM_006323, NM_007053, NM_020904, NM_006324, NM_007054, NM_014344, NM_006326, NM_007055, NM_007056, NM_014347, D87452, NM_006329, D87454, D87455, D87458, Contig36421_RC, Contig15526_RC, Contig54752_RC, Contig38714_RC, Contig27296_RC, Contig33857_RC, NM_006330, NM_005601, NM_014350, NM_005602, NM_014351, NM_007061, NM_005604, NM_007062, NM_014352, Contig36879_RC, Contig56307, NM_006334, NM_014353, NM_006335, NM_014354, NM_007065, NM_014356, NM_014357, NM_007068, NM_014358, NM_007069, D87466, Contig29732_RC, Contig24875_RC, NM_005610, NM_005611, NM_006342, NM_014361, NM_006343, NM_005614, NM_005615, NM_014363, NM_006345, NM_014365, NM_005617, NM_014366, NM_014368, NM_014369, Contig43703_RC, Contig53180_RC, Contig23537_RC, Contig27288_RC, Contig42597_RC, Contig26559_RC, NM_014370, NM_007080, NM_006351, NM_005622, NM_014371, NM_006352, NM_005624, NM_007082, NM_006353, NM_014373, NM_014374, NM_014375, NM_006356, NM_005627, NM_005628, NM_006358, NM_007088, AB002297, Contig30593_RC, Contig14555_RC, Contig38472_RC, Contig37743_RC, NM_004900, NM_005630, NM_006360, NM_005631, Contig5471_RC, NM_006362, NM_014381, NM_005634, NM_014382, NM_005635, NM_014383, NM_006364, NM_005636, NM_014384, NM_005637, NM_004908, NM_007096, NM_014386, NM_006367, NM_014387, NM_007097, NM_006369, NM_007098, Contig34112_RC, Contig29115_RC, Contig13592_RC, Contig1111_RC, Contig30819_RC, Contig47446_RC, NM_004912, NM_006370, NM_004913, NM_004914, NM_006372, NM_005644, NM_004916, NM_014393, NM_004917, NM_014394, NM_005646, NM_006375, NM_014395, NM_004918, NM_005648, NM_014396, NM_006378, NM_014398, NM_014399, Contig36171_RC, Contig15276_RC, Contig14547_RC, Contig39193_RC, Contig40897_RC, Contig32878_RC, NM_004921, NM_004922, NM_006382, NM_006384, NM_004926, Contig55629, NM_004927, AK000004, NM_004929, NM_005658, AK000006, NM_006389, Contig33750_RC, Contig29482_RC, Contig48167_RC, Contig23896_RC, NM_006390, NM_005662, NM_006392, NM_005663, NM_004935, NM_006394, NM_005666, NM_006395, NM_006396, NM_004938, NM_006398, Contig17103_RC, NM_006399, Contig28144_RC, Contig21829_RC, Contig15268_RC, Contig40889_RC, AF169159, NM_004940, NM_004942, NM_020981, NM_004944, NM_004945, NM_005678, Contig27181_RC, Contig20866_RC, AF167706, NM_004950, NM_004951, Contig49093, NM_004952, NM_020994, NM_020995, NM_020996, NM_004958, NM_005687, NM_005688, NM_005689, Contig42716_RC, Contig23279_RC, Contig47196_RC, Contig54930, NM_004960, NM_004961, NM_005691, NM_004962, NM_004963, NM_005693, NM_004965, NM_004966, NM_004967, NM_004968, NM_005697, NM_005698, Contig11275_RC, Contig10546_RC, Contig65670_RC, Contig49632_RC, Contig31899_RC, Contig30103_RC, Contig47657, NM_004977, U66702, Contig32771_RC, Contig21121_RC, NM_004981, NM_004982, NM_004985, NM_004986, Contig32162_RC, Contig50118_RC, Contig52786_RC, Contig29458_RC, Contig39652, D43948, NM_004991, NM_004993, Contig54012_RC, NM_004995, NM_004996, Contig30470_RC, Contig44158_RC, Contig49390_RC, D43950, D43951, Contig32154_RC, Contig54613_RC, AK000089, Contig43195_RC, Contig44759_RC, Contig49991_RC, AK000095, Contig16717_RC, Contig52169_RC, Contig48653_RC, Contig59694_RC, Contig45022_RC, Contig37003_RC, Contig32146_RC, Contig55334_RC, Contig41729_RC, Contig42458_RC, Contig575_RC, Contig47081_RC, Contig46352_RC, Contig54371_RC, AF221846, Contig14791_RC, Contig53033_RC, Contig45014_RC, Contig20743_RC, Contig32138_RC, Contig23765_RC, Contig15746_RC, AL096727, Contig43322_RC, Contig39054_RC, AL080072, AL080075, AL080077, Contig49366_RC, AL096732, Contig12855, AL096734, AL096738, U17327, Contig21464_RC, U41387, AL080080, Contig43923_RC, Contig36633_RC, Contig45381_RC, AL080086, AL096740, AL096745, Contig6654_RC, AL096747, Contig52062_RC, Contig43314_RC, AF038174, Contig47065_RC, AL080092, AF116909, AL080094, Contig1940_RC, AL096751, Contig12874, Contig33603_RC, Contig50370_RC, Contig27042_RC, Contig34332_RC, X76302, Contig14166_RC, AF038181, AF038182, Contig37354_RC, Contig43915_RC, Contig51934_RC, AF038186, Contig54956_RC, Contig39647_RC, Contig38918_RC, Contig46937_RC, Contig16602_RC, Contig12474_RC, AF038193, Contig39038_RC, Contig22786_RC, AF038196, AF038199, Contig3390_RC, Contig1932_RC, Contig50362_RC, AF020089, X84340, Contig36617_RC, Contig41005_RC, AL110126, Contig34090_RC, Contig47801_RC, Contig67215_RC, Contig54339_RC, Contig53985_RC, Contig1924_RC, Contig48988_RC, Contig5675_RC, N57936_RC, AL110133, AL110135, Contig23650_RC, AL110139, BE549953_RC, Contig41981_RC, Contig52647_RC, Contig61395_RC, Contig13796_RC, AJ290445, M61855, AL110145, AL110147, Contig57270_RC, Contig51684_RC, Contig36375_RC, AB002301, AB002304, AB002308, AL110150, Contig15623_RC, AL110155, Contig61387_RC, Contig52639_RC, Contig38059_RC, NM_007102, NM_007104, NM_007105, NM_007107, AB002313, AB002314, AB002316, AB002318, AB002319, AI270084_RC, Contig38202_RC, AL110163, AL110164, Contig41364_RC, Contig40635_RC, Contig57262_RC, AL110169, Contig35638_RC, NM_014400, Contig1073_RC, NM_007111, NM_007112, NM_014402, NM_014403, NM_014404, NM_014405, NM_007115, Contig54698_RC, Contig53969_RC, Contig39389_RC, NM_014407, AB002321, NM_014408, NM_014409, AB002324, Contig40026_RC, AL110171, Contig16344_RC, Contig24363_RC, AL110175, Contig38803_RC, Contig65507_RC, Contig26656_RC, Contig57863_RC, NM_007122, NM_007124, NM_007125, NM_014415, NM_007128, NM_007129, NM_015148, AB002336, AB002337, AB002338, AB011087, Contig54232_RC, Contig15381_RC, Contig33337_RC, Contig48506_RC, AL110188, AL110189, Contig25693_RC, NM_006400, NM_014420, NM_014423, NM_006405, NM_006406, NM_014425, NM_014426, NM_006407, Contig2629_RC, NM_015156, NM_006408, AB011093, AB011095, AB002348, Contig40018_RC, Contig29212_RC, Contig55562_RC, Contig56291_RC, Contig26648_RC, NM_006417, NM_007146, Contig65139, NM_007147, NM_014438, AB002351, NM_014439, AB002354, Contig51202_RC, Contig20370_RC, AB002359, Contig53870_RC, Contig40994_RC, NM_007150, NM_014440, NM_006423, NM_014443, NM_006425, NM_014444, AB002360, NM_014447, NM_015176, AB002361, NM_006429, NM_007159, NM_014449, AB002364, Contig34201_RC, AB002369, Contig40385_RC, Contig39516_RC, Contig23993_RC, Contig34659_RC, Contig39891_RC, NM_006430, NM_014450, NM_007160, NM_006431, NM_007161, NM_014452, NM_006433, NM_007163, NM_005705, NM_014453, NM_006434, NM_006435, NM_007165, NM_007166, NM_015185, NM_006438, NM_007169, Contig50840_RC, AF097021, AJ225028, NM_005710, NM_006440, NM_005711, NM_006441, NM_005713, NM_014461, NM_007171, NM_006442, Contig35989_RC, NM_006443, NM_007172, NM_007173, NM_014463, NM_006445, NM_005717, NM_007176, NM_014467, NM_007177, NM_014468, NM_007179, Contig53253_RC, Contig39508_RC, Contig48256_RC, Contig54817_RC, Contig15966_RC, Contig50689_RC, NM_005720, NM_006450, NM_005721, NM_007180, NM_014470, NM_005722, NM_005723, NM_014473, NM_006454, NM_007184, NM_007185, NM_006456, NM_005727, NM_014477, NM_007187, NM_006458, NM_007188, Contig44271_RC, Contig42813_RC, M29874, Contig45835_RC, NM_005733, NM_007191, NM_007192, NM_006464, NM_014483, NM_014484, NM_007194, NM_005736, NM_006466, L08246, NM_005737, NM_014485, NM_006467, NM_007196, NM_006468, NM_014487, NM_005739, NM_007198, Contig15500_RC, Contig42204_RC, Contig30057_RC, AF151109, Contig33831_RC, Contig45226_RC, Contig20955_RC, Contig52891_RC, Contig47519_RC, Contig23977_RC, NM_005741, NM_006471, NM_005744, NM_006474, NM_006475, NM_005746, NM_014495, NM_014496, NM_014499, Contig51553_RC, Contig28225_RC, Contig42805_RC, Contig31045, Y14488, Contig38537_RC, Contig14995_RC, Contig57181, NM_005750, NM_006480, NM_006481, NM_006482, AK000103, NM_005755, Contig64477, NM_005757, NM_006486, NM_006487, NM_005759, Contig29555_RC, Contig56259_RC, NM_005761, NM_006491, NM_005763, NM_006493, NM_005766, NM_006495, NM_005767, NM_006499, AK000119, Contig24089_RC, Contig55296_RC, NM_005771, D38169, NM_005774, NM_005776, NM_005777, AK000125, Contig66105_RC, Contig42563_RC, AJ225092, Contig22397_RC, Contig13649_RC, AJ225093, Contig29547_RC, NM_005780, NM_005783, U90842, Contig25562_RC, Contig26291_RC, Contig43518_RC, Contig50808_RC, Contig59416_RC, AF177291, Contig54559_RC, H59736_RC, Contig38896_RC, Contig39728, L06845, NM_005796, Contig31514_RC, NM_005799, Contig41826_RC, Contig48481, AF142421, AF134404, Z70218, Contig35866_RC, AK000160, AK000168, Contig27238_RC, AL080109, Contig26884_RC, J05046, Contig30388, Contig41209_RC, Contig38422_RC, AK000179, Contig14880_RC, AF216077, Contig25546_RC, Contig51896_RC, Contig2857_RC, Contig5879_RC, Contig22290_RC, AK000183, Contig24208_RC, AL080123, Contig28711_RC, AK000189, Contig39143_RC, Contig33557_RC, Contig34286_RC, Contig26267_RC, AL080137, Contig56745_RC, Contig51888_RC, AL080141, AL080144, NC_001807, Contig39744_RC, Contig27597_RC, Contig44132_RC, Contig31256_RC, AL080151, AL080153, AL080156, AL080157, AL080159, Contig8427_RC, Contig34421_RC, Contig35150_RC, AL080160, AL080161, Contig36714_RC, AL080167, AW190932_RC, Contig55774_RC, AL080169, Contig67169_RC, U66879, Contig21697, AF101051, Contig36105_RC, Contig30519_RC, AL080170, AL080172, Contig14856_RC, Contig42289_RC, Contig57458_RC, AL080179, Contig30285_RC, Contig46183_RC, AL080182, Contig2141_RC, Contig55766_RC, AL080188, Contig58788_RC, Contig20989, Contig33450_RC, Contig35743_RC, AL080190, Contig46409_RC, AL080191, AL080192, Contig15577_RC, Contig15720_RC, Contig398_RC, X69115, Contig52736_RC, Contig49197_RC, AB011104, AB011105, AB011106, Contig6719_RC, AL110200, AL110201, AL110204, AL110207, Contig33442_RC, Contig29174_RC, Contig16298_RC, AB011112, AB011113, AB011114, AB011115, AB011117, AB011118, AL110210, Contig32104_RC, AL110212, AL110214, Contig8778_RC, Contig16441_RC, AJ275213, Contig16899_RC, AB011123, AB011125, AL096883, AB011128, AL110224, Contig26144_RC, Contig41453_RC, AL110227, Contig12539_RC, Contig48603_RC, Contig49332_RC, AB011131, AB011132, AB011133, AB011137, AB011138, AB011139, AL110235, Contig46911_RC, Contig31133_RC, Contig39012_RC, AL110245, Contig34155_RC, Contig18492_RC, Contig52486_RC, NM_015216, AB011152, Contig24444_RC, AL110255, Contig43129_RC, AL110257, Contig55651_RC, NM_007202, NM_007204, Contig6612_RC, Contig1755_RC, AB011163, AB011166, Contig12440_RC, AB011168, AL110261, Contig23481_RC, Contig16191_RC, Contig58064_RC, NM_014501, NM_014502, Contig65205, NM_014503, NM_014504, NM_007214, NM_014505, NM_007215, NM_007217, NM_015239, AB011178, AB011179, Contig52621_RC, AL110272, Contig23707_RC, Contig24436_RC, Contig16417_RC, AL110274, Contig48353_RC, Contig34748_RC, NM_007220, NM_014512, NM_007222, NM_007223, NM_014513, NM_014515, NM_014517, NM_014519, AB011180, Contig12432_RC, Contig21180_RC, Contig28330_RC, AL110280, AL110283, Contig45932_RC, Contig37913_RC, Contig18476_RC, NM_006500, NM_007230, NM_014522, NM_015251, NM_006503, NM_007233, NM_007234, NM_006505, NM_006506, NM_006507, NM_007236, NM_007237, NM_006508, AB002445, Contig21406_RC, Contig30154_RC, Contig22135_RC, Contig46052_RC, Contig2010_RC, Contig17138_RC, Contig5032_RC, Contig16784_RC, Contig43488_RC, Contig35469_RC, NM_006511, NM_007241, NM_007242, NM_006514, NM_006517, NM_007247, NM_007248, NM_007249, Contig50921_RC, Contig42902_RC, Contig43631_RC, Contig15446_RC, Contig37905_RC, Contig45924_RC, Contig3340_RC, NM_006520, NM_006521, NM_015270, NM_006523, Contig36799_RC, Contig40000_RC, NM_006526, NM_007259, Contig30146_RC, Contig19340_RC, Contig18611_RC, Contig61353_RC, Contig46044_RC, Contig32439_RC, Contig28923_RC, Contig49066_RC, G11572, NM_006530, NM_005801, NM_006531, NM_005803, NM_006533, L25080, NM_005804, NM_006534, NM_014553, NM_007264, L40391, NM_014554, NM_005807, NM_007265, NM_005808, NM_006537, NM_006539, L40396, Contig34040_RC, Contig40601_RC, Contig28314_RC, Contig31476_RC, Contig31106, Contig54664_RC, Contig34498_RC, NM_005811, NM_006540, NM_006541, NM_006543, NM_005815, NM_007273, Contig1497_RC, NM_007274, NM_006545, NM_007275, NM_014565, NM_006546, NM_006547, NM_007276, NM_006548, NM_005819, NM_014567, NM_007278, NM_007279, Contig16310_RC, Contig34641_RC, Contig26622_RC, Contig45307_RC, Contig49810_RC, Contig44953_RC, Contig49058_RC, Contig24787_RC, Contig47975_RC, NM_005821, NM_006550, NM_014570, NM_014571, NM_005823, NM_007281, NM_007282, NM_006553, Contig31010_RC, NM_007283, NM_005825, NM_006555, NM_005827, NM_006556, NM_014576, NM_007286, NM_005829, NM_014578, NM_006559, D87682, NM_014579, NM_007289, Contig41322_RC, D87684, D86957, Contig20427_RC, Contig24930_RC, Contig28306_RC, Contig12783_RC, Contig35971_RC, Contig62675_RC, NM_005830, NM_006561, Contig1489_RC, NM_006564, NM_014583, NM_006565, NM_014584, NM_014585, NM_014586, NM_006567, NM_005838, D86961, NM_006568, NM_006569, D86964, NM_014589, Contig42652_RC, Contig15196_RC, AF265555, AW573085_RC, NM_005842, NM_005843, NM_006573, NM_005845, NM_006575, NM_005847, NM_006577, NM_014597, NM_005849, D86973, D86974, U90902, D86979, Contig26380_RC, U90908, U90909, NM_006580, NM_006581, NM_005853, NM_005854, NM_006584, NM_005855, D86980, NM_006587, D86982, AK000208, NM_006589, D86984, D86985, Contig11437_RC, U90916, U90918, U90919, Contig31153, Contig30424, NM_005860, NM_005863, AK000212, NM_005865, NM_006594, AF063020, NM_006595, NM_006596, NM_005867, NM_006597, AK000216, NM_005868, NM_005869, AF055006, NM_006599, AF055007, Contig33662_RC, Contig12767_RC, Contig43974_RC, AF176646, Contig7811_RC, Contig47822, AK000220, NM_005875, AF055012, NM_005877, AF055016, AK000229, Contig15932_RC, Contig36075_RC, Contig50655_RC, Contig66553_RC, Contig37639_RC, Contig29995_RC, Contig56699_RC, Contig1991_RC, NM_005880, AF055020, NM_005884, AF047002, NM_005885, NM_005886, AF055023, Contig32090_RC, NM_005888, AF055027, Contig53820_RC, AF055029, Contig64861_RC, Contig28657_RC, Contig36676_RC, Contig35947_RC, AI306503_RC, NM_005890, NM_005892, Contig53211_RC, NM_005896, AI252663_RC, AF055033, AK000246, Contig43357_RC, J05125, Contig43500_RC, Contig32082_RC, Contig37397_RC, Contig35939_RC, Contig54999_RC, Contig10601_RC, Contig47865, AL080200, AL080201, Contig3058_RC, Contig6832_RC, AK000270, Contig44221_RC, AK000271, AL080210, Contig32074_RC, AL080213, Contig53804_RC, AL080215, Contig26348_RC, Contig25619_RC, Contig35096_RC, AL080218, U68382, AL080219, Contig1366_RC, Contig3659_RC, Contig4388_RC, Contig30007_RC, Contig22363_RC, AL080222, Contig29513_RC, Contig56217_RC, Contig16637_RC, Contig3802_RC, D11466, Contig39875, Contig31337_RC, Contig35840_RC, AL080233, Contig46506_RC, AL080235, Contig35088_RC, AJ012504, Contig29505_RC, Contig32667_RC, Contig29880_RC, Contig7545_RC, Contig24039_RC, M96843, Contig27813_RC, Contig43851_RC, Contig47227_RC, AF119256, Contig2012, M63438, Contig35824_RC, Contig2823_RC, Contig40212_RC, Contig15801_RC, Contig30358_RC, Contig37508_RC, Contig23211_RC, Contig40813_RC, S80491, Contig51245_RC, AJ005273, Contig34853_RC, Contig2206_RC, Contig34244_RC, Contig28518_RC, NM_016000, NM_016001, NM_016002, NM_016003, NM_016006, Contig47578_RC, NM_016007, NM_016008, Contig23804_RC, Contig31823_RC, Contig35574_RC, Contig50883_RC, NM_016010, NM_016011, Contig14679_RC, NM_016013, NM_016014, NM_016015, NM_016017, NM_016019, Contig33507_RC, Contig49405_RC, Contig33882_RC, Contig25863_RC, Contig45277_RC, Contig53296_RC, NM_016027, AI076473_RC, Contig17235_RC, Contig49171_RC, Contig35566_RC, Contig26818_RC, NM_016030, NM_016031, NM_016032, NM_016033, NM_016034, NM_016035, NM_016038, NM_016039, Contig12521_RC, Contig973_RC, Contig10686_RC, Contig58145_RC, Contig26584_RC, U09579, AW673036_RC, NM_016040, AF117899, NM_016047, NM_016049, AF011573, Contig13851_RC, Contig31807_RC, Contig57182_RC, NM_016053, Contig1828_RC, NM_007309, NM_016059, Contig36430_RC, Contig23554_RC, Contig54761_RC, NM_016061, Contig5722_RC, NM_016062, NM_007314, NM_007315, NM_007316, NM_016064, NM_016065, NM_007317, NM_007318, NM_016066, Contig8744_RC, Contig11550_RC, Contig53423_RC, X68560, NM_014610, NM_016070, NM_014612, NM_016071, NM_007324, NM_007325, NM_015344, NM_016075, NM_016076, NM_016078, Contig12505_RC, Contig55107_RC, AI339981_RC, Contig47463_RC, Contig39444_RC, Contig58129_RC, Contig41877_RC, Contig25839_RC, NM_006600, NM_007332, NM_006603, NM_016081, NM_007333, NM_006604, NM_007334, NM_014624, NM_016082, NM_006605, NM_016083, NM_006606, NM_014626, NM_006607, NM_016084, NM_014627, NM_016085, NM_016086, NM_006609, NM_014629, Contig15293_RC, Contig40539_RC, Contig38481_RC, NM_006610, NM_014630, NM_006612, NM_014631, NM_007341, NM_007342, NM_006614, NM_014634, NM_015364, NM_007345, NM_015366, NM_006618, NM_016096, NM_014638, D87742, NM_016097, NM_015368, NM_015369, NM_016099, Contig30828_RC, Contig54745_RC, NM_014640, Contig66072, NM_015370, NM_007351, NM_014641, NM_007352, NM_014643, NM_006625, NM_007354, NM_006626, NM_007355, NM_014646, NM_015377, NM_007359, Contig42741_RC, Contig49139_RC, Contig2450_RC, NM_005901, NM_006632, NM_007361, NM_005904, NM_014653, NM_015383, NM_014654, NM_007364, NM_006636, NM_006637, NM_015385, NM_005908, NM_005909, NM_006638, NM_015387, NM_014658, NM_014659, Contig44425_RC, AI928427_RC, Contig24259_RC, NM_006640, Contig65362, NM_005911, NM_014660, NM_007370, NM_005913, NM_006643, NM_014662, NM_005915, NM_006644, NM_014663, NM_014664, NM_015393, NM_007375, NM_006646, NM_015396, NM_013939, Contig40440_RC, Contig44191_RC, Contig36172_RC, Contig13819_RC, Contig19780_RC, Contig37736_RC, NM_005920, NM_013941, NM_014670, Contig58084, NM_006653, NM_005924, NM_013943, NM_006654, NM_005925, NM_005926, NM_013945, NM_005927, NM_006658, NM_014679, Contig29108_RC, Contig53165_RC, AF176701, AF176703, AF176707, NM_005931, NM_013951, NM_014680, NM_005933, NM_013953, AK001011, NM_006663, NM_005935, AK001012, NM_014684, NM_013955, AF071111, NM_005937, NM_013956, NM_005938, NM_013957, NM_006668, U93181, Contig16750_RC, Contig43454_RC, Contig11893_RC, Contig27791_RC, NM_005940, Contig6185_RC, NM_006670, NM_013961, NM_014690, NM_006672, NM_013962, NM_006674, NM_014693, NM_014694, AK001025, NM_006679, Contig842_RC, NM_014698, Contig45138_RC, Contig36765_RC, Contig48631, NM_005950, NM_006680, NM_006682, NM_006683, AK001031, NM_013974, NM_005956, NM_005957, NM_006687, NM_005958, AK001036, Contig41153_RC, AK001037, NM_013979, Contig56322_RC, Contig44175_RC, Contig51465_RC, Contig21130_RC, NM_006690, NM_013981, NM_006691, NM_005962, NM_013982, Contig56666, AK000311, NM_006693, NM_005965, NM_005966, NM_006695, AK001043, Contig64688, NM_005967, NM_013986, Contig24152_RC, NM_006697, NM_006698, NM_005969, NM_013989, NM_006699, Contig42483_RC, Contig53149_RC, Contig21588_RC, NM_005974, AK001052, NM_013994, AK000325, Contig25107_RC, NM_005978, NM_005979, AF144054, AK001058, Contig50728_RC, Contig35794_RC, Contig3147_RC, NM_005980, NM_005982, Contig16125_RC, AK001064, NM_005988, NM_005989, Contig55351_RC, AL355730, AL355735, Contig48673, NM_005993, AK000345, NM_005997, NM_005998, NM_005999, AK001077, AF224266, Contig51449_RC, Contig56681_RC, D29641, Contig52321_RC, AK001083, AK000357, Contig54614_RC, Contig50486_RC, Contig35177_RC, Contig23280, Contig1447_RC, Contig30577, Contig11403_RC, Contig27301_RC, Contig28030_RC, AK001092, Contig22444_RC, Contig30463_RC, AK000365, Contig45632_RC, AK000368, Contig16718_RC, Contig30582, Contig58966_RC, Contig50020_RC, Contig29360_RC, Contig42459_RC, Contig38943_RC, Contig49984_RC, Contig45624_RC, Contig39063_RC, U68494, Contig5333_RC, Contig50012_RC, Contig52305_RC, U50383, Contig40158_RC, Contig37371_RC, Contig47308_RC, Contig55327_RC, AF222857, Contig38935_RC, Contig47683_RC, J03817, Contig8956_RC, Contig15138_RC, Contig53635_RC, Contig37972_RC, U67784, Contig8347_RC, Contig50004_RC, Contig27051_RC, Contig21465_RC, Contig22194_RC, Contig52672_RC, Contig51943_RC, Contig54965_RC, Contig34942_RC, Contig26923_RC, Contig55085_RC, AF141968, Contig42352_RC, Contig57521_RC, Contig25960_RC, Contig28607_RC, Contig52664_RC, Contig17189_RC, Contig17332_RC, Contig32641_RC, S71824, AL137241, Contig26915_RC, Contig35663_RC, Contig53619_RC, AF039196, Contig31303_RC, Contig11137_RC, Contig34325_RC, Contig22178_RC, Contig41990_RC, AL137255, AL137257, M30134, AL137259, Contig41006_RC, Contig31904_RC, Contig25343_RC, Contig51318_RC, Contig27636_RC, Contig55069_RC, AL137262, AL137266, AL137268, AA676713_RC, Contig23651_RC, Contig34317_RC, Contig50355_RC, Contig30189_RC, AL137270, Contig52648_RC, Contig45358_RC, NM_016100, NM_016101, NM_016104, AL136549, AL137279, Contig55813_RC, AL137281, NM_016111, NM_016112, AL137284, AL137286, NM_016116, NM_016119, AF005082, AJ250014, Contig32391_RC, Contig15624_RC, Contig58226_RC, Contig41974_RC, Contig25936_RC, NM_016120, AL137292, NM_016122, NM_016123, NM_016124, Contig36977_RC, NM_016125, AL137298, NM_016127, Contig43200_RC, Contig38203_RC, Contig25327_RC, Contig16954_RC, Contig43658_RC, Contig28349_RC, Contig29078_RC, NM_015400, NM_016131, NM_016132, NM_016135, NM_016138, Contig29221_RC, Contig36511_RC, Contig38804_RC, Contig34676_RC, Contig25928_RC, Contig27386_RC, Contig57864_RC, Contig29679_RC, NM_016143, NM_016147, Contig25319_RC, Contig173, Contig52398_RC, NM_016150, NM_015421, NM_016155, Contig41500_RC, Contig20980_RC, Contig13690_RC, M54886, Contig23627_RC, Contig16337_RC, Contig15608_RC, NM_014700, Contig65404, NM_016161, NM_016162, NM_014704, NM_016164, NM_014706, NM_014707, NM_015437, NM_016166, NM_016169, Contig34811_RC, Contig30683_RC, Contig56518_RC, Contig57247_RC, Contig40995_RC, NM_014710, NM_014711, NM_014713, NM_014714, NM_014715, NM_016173, NM_014716, NM_014718, Contig42221_RC, Contig14036_RC, Contig30909_RC, Contig16329_RC, Contig46807_RC, NM_006700, NM_014720, NM_014721, NM_006703, Contig6516_RC, X68679, NM_014725, NM_006706, NM_016184, NM_014726, NM_014727, NM_016185, NM_015456, NM_016186, NM_015458, NM_014729, NM_016188, Contig36261_RC, Contig13908_RC, Contig37825_RC, Contig33697_RC, Contig25678_RC, NM_014730, NM_014731, NM_016191, NM_016192, NM_006716, NM_016194, NM_016195, NM_006719, NM_014739, Contig42213_RC, Contig56276_RC, NM_006721, NM_014740, L25270, NM_006725, NM_006727, NM_014746, NM_014747, NM_006729, NM_014748, NM_015478, M12758, Contig48400_RC, Contig27505_RC, Contig15358_RC, Contig38546_RC, NM_006731, NM_006732, Contig57435, NM_014752, Contig49418, NM_006734, NM_014754, NM_006735, NM_014755, NM_015484, NM_006737, NM_015485, L09247, NM_006739, NM_014759, Contig55539_RC, Contig23978_RC, Contig47895_RC, NM_014761, NM_006744, NM_014763, NM_014764, NM_014765, NM_006748, NM_014769, Contig28226_RC, Contig14996_RC, NM_006751, NM_006754, NM_014776, NM_006757, NM_006759, NM_014778, AK001109, Contig46700_RC, Contig34553_RC, U92544, Contig21677_RC, Contig23305, Contig37575_RC, AF266479, Contig3845_RC, Contig4574_RC, NM_006760, NM_014780, NM_014781, NM_014782, NM_006764, NM_006765, NM_014784, NM_006767, AK001118, Contig44256_RC, Contig11966_RC, Contig3236_RC, AK001120, NM_006774, NM_014797, Contig32252_RC, X00437, AK001127, NM_014799, Contig42564_RC, Contig41835_RC, Contig37567_RC, Contig45586_RC, Contig47879_RC, Contig57482, AK000401, NM_006782, NM_006783, NM_006785, AK001134, Contig21812_RC, Contig33207_RC, NM_006788, NM_006789, Contig33582_RC, AF095910, D21064, Contig31355, Contig3228_RC, NM_006791, AK001142, AK001143, NM_006795, NM_006796, X00457, NM_006798, Contig48142_RC, AL162007, Contig34537_RC, Contig33808_RC, Contig57725_RC, Contig53597_RC, Contig38288_RC, AL162010, Contig30552_RC, AK000425, AL162013, AF070525, Contig37702_RC, Contig41593_RC, Contig17536_RC, Contig40864_RC, Contig19829_RC, Contig52402_RC, Contig13551_RC, Contig32236_RC, AK001166, Contig47405_RC, AF070538, Contig16573_RC, Contig58446_RC, Contig18866_RC, Contig23368, Contig9782_RC, Contig23254_RC, Contig22525_RC, AF135422, AF070541, AK000445, AF222904, Contig10378_RC, AA485939_RC, AL162033, Contig47171_RC, Contig41585_RC, Contig40856_RC, AF070549, AL162039, AL355841, Contig2858_RC, AK000451, Contig45104_RC, AF070554, AL162042, AL162044, AF070557, Contig23855_RC, Contig43269_RC, Contig51288_RC, AF070559, AL162047, Contig12205_RC, Contig28103_RC, Contig22517_RC, AF070564, AL162052, AL162056, Contig38790_RC, AK000470, Contig12806_RC, Contig40239_RC, AF070571, AF070574, Contig16557_RC, AF070578, Contig36114_RC, Contig44133_RC, AK000482, AF070580, AF070581, AF070585, AF070586, AL162074, Contig38782_RC, Contig1278_RC, Contig27132_RC, AF070596, Contig25440_RC, AL137304, Contig30895_RC, Contig2204, AL137310, AL137311, Contig45455_RC, Contig37436_RC, Contig36707_RC, AL137315, AL137316, Contig55767_RC, Contig48477_RC, Contig17413_RC, Contig13285_RC, Contig20575_RC, Contig27725_RC, AL137323, AL137325, AF054589, Contig6119_RC, Contig2224, Contig56030_RC, Contig16450_RC, AL137330, Contig46176_RC, Contig38157_RC, Contig29409_RC, AF038554, AL137332, AL137333, AL137334, AL137337, Contig8930_RC, Contig31150_RC, Contig40733_RC, AL137340, AL137342, AL137343, AL137345, AL137347, AL137349, Contig32105_RC, Contig48003_RC, U25750, Contig25190_RC, Contig38901_RC, AJ012755, Contig54187_RC, AL137352, Contig31142_RC, M55643, Contig33435_RC, Contig36457_RC, AL137362, AL137363, M14200, AL137368, M54927, Contig24453_RC, Contig40491_RC, Contig35119_RC, NM_016200, NM_016202, NM_016205, AL137376, NM_016207, AL137379, NM_016209, Contig526_RC, Contig57344_RC, Contig18493_RC, Contig25783_RC, Contig45197_RC, AL137381, NM_016210, AL137382, NM_016211, AL137383, NM_016212, NM_016213, AL137385, NM_016216, NM_016217, NM_016218, AL137389, NM_016219, Contig37321_RC, Contig42776_RC, AL137391, NM_016221, NM_016222, AL137393, NM_016224, NM_016229, Contig1562, AF003738, Contig50186_RC, AF011757, Contig257, Contig12899_RC, NM_016230, NM_015507, NM_016236, NM_016237, NM_016238, Contig64392_RC, Contig54915_RC, Contig16793_RC, Contig50787_RC, NM_015510, NM_016241, NM_015513, NM_016243, NM_015515, NM_016245, Contig11704_RC, Contig36350_RC, Contig47016_RC, Contig31493_RC, Contig14726_RC, Contig23474_RC, Contig22745_RC, Contig42159_RC, Contig53952_RC, Contig49309_RC, X68742, Contig49684_RC, NM_015523, Contig9018_RC, NM_016252, NM_015524, Contig8664_RC, Contig21407_RC, Contig40467_RC, Contig25158_RC, X76770, NM_014801, NM_016260, NM_014803, NM_014804, NM_016265, NM_014808, NM_014809, NM_016269, Contig33320_RC, Contig29052_RC, Contig45090_RC, Contig43632_RC, Contig23466_RC, Contig40105, Contig38635_RC, Contig39364_RC, Contig2612_RC, Contig41797_RC, NM_014812, NM_014813, NM_016272, NM_014815, NM_015544, L17325, NM_014817, NM_016275, NM_016276, NM_014819, NM_016279, Contig52981_RC, Contig16777_RC, NM_006801, NM_014820, NM_014821, NM_006803, NM_016281, NM_006805, NM_016282, NM_014827, NM_006809, NM_016287, Contig42060_RC, Contig26022_RC, Contig12417_RC, Contig50914_RC, Contig1040_RC, Contig35980_RC, Contig46646_RC, Contig47375_RC, Contig38627_RC, Contig49668_RC, NM_006810, NM_014830, NM_006814, NM_016291, NM_016293, NM_006816, NM_016295, NM_016299, Contig26623_RC, Contig42661_RC, Contig46037_RC, NM_006820, NM_014840, Contig5392_RC, Contig49505, NM_006822, NM_014841, NM_006823, NM_015571, NM_006825, NM_014845, NM_006827, NM_014848, NM_006829, Contig34033_RC, Contig33304_RC, Contig20428_RC, Contig32950_RC, Contig36326_RC, Contig32198_RC, Contig40146, Contig39348_RC, NM_006831, NM_014851, NM_006833, NM_015582, NM_015583, NM_006835, NM_014857, NM_014859, Contig51026_RC, Contig54800_RC, Contig27344_RC, Contig34634_RC, Contig54048_RC, Contig14468_RC, Contig57822_RC, D38500, D38501, D38502, Contig5009_RC, Contig5384_RC, NM_006840, NM_006841, NM_014862, NM_015592, NM_006845, NM_006847, NM_014868, NM_006849, Contig26381_RC, Contig4046_RC, NM_006850, NM_006851, NM_014871, NM_014872, NM_006853, NM_014873, NM_006854, NM_014874, NM_006855, NM_006856, NM_014877, NM_014878, Contig33062_RC, Contig17024_RC, Contig32333_RC, NM_014879, Contig51393_RC, Contig52957_RC, Contig55979_RC, NM_006860, NM_006862, NM_006863, NM_014882, NM_014883, NM_006865, NM_006867, NM_014888, NM_014889, NM_006870, NM_006871, NM_014890, NM_014891, NM_006872, NM_014892, Contig45201_RC, NM_014894, NM_006875, AK001223, NM_014895, Contig57579, NM_014896, NM_014898, NM_014899, AK001228, Contig56242_RC, Contig24681_RC, Contig34993_RC, AK000500, D38549, NM_006882, NM_006883, NM_006884, NM_006885, AF070602, NM_006886, Contig23343_RC, D79991, NM_006888, AF144233, AF070605, AF070606, D79994, D79998, Contig24907_RC, Contig33655_RC, Contig60359_RC, Contig30722, Contig51986_RC, D38552, Contig46989_RC, NM_006891, NM_006892, NM_006894, AF070610, NM_006895, Contig28801_RC, AF070617, Contig58527_RC, Contig32192, Contig29988_RC, Contig6089_RC, AF070620, AF070621, Contig11940_RC, AK000525, Contig50039_RC, AK001256, Contig47252_RC, AF070628, Contig42395_RC, Contig27086_RC, Contig34376_RC, AF097495, Contig30016_RC, Contig137_RC, Contig19210_RC, Contig40328_RC, AF070633, AK000539, AF070637, Contig16646_RC, Contig32684_RC, Contig51369_RC, Contig41200_RC, U50531, AF070643, Contig61824_RC, Contig54534_RC, Contig22973_RC, Contig27078_RC, Contig40929_RC, Contig33639_RC, Contig46890_RC, Contig22749, Contig27221_RC, AK000552, Contig40695_RC, Contig17367_RC, Contig39826_RC, Contig35698_RC, Contig27679_RC, AF169693, Contig27822_RC, Contig39217_RC, AK000569, Contig25987_RC, U75968, AK000572, Contig23085_RC, Contig37525_RC, Contig17359_RC, Contig39818_RC, Contig47837_RC, Contig63875_RC, D12485, Contig65101_RC, Contig33540_RC, Contig40830_RC, AK000580, Contig27814_RC, Contig54518_RC, Contig23686_RC, Contig40221_RC, Contig21619_RC, Contig54284_RC, Contig53555_RC, Contig64596_RC, Contig11073_RC, U25801, Contig40822_RC, AL137400, AL137403, S82198, AL137407, Contig16531_RC, Contig42506_RC, Contig51254_RC, AL137411, Contig53547_RC, Contig56569_RC, Contig11065_RC, Contig52209_RC, AL137423, AL049215, Contig31689_RC, Contig56103_RC, Contig23813_RC, Contig25271_RC, AF029900, Contig11666_RC, Contig39711_RC, D80004, D80007, AL137435, D80008, AL049227, AL137438, Contig3068, Contig14831_RC, Contig57433_RC, Contig37267_RC, Contig51847_RC, AL049233, AL137446, AL137448, AL137449, Contig1617, Contig16890_RC, Contig42865_RC, Contig43594_RC, Contig28285_RC, AL049242, AL137452, AL137457, Contig22842_RC, Contig50275_RC, Contig319, AL137466, Contig9115_RC, AL049259, X60155, Contig16507_RC, Contig43586_RC, Contig27548_RC, AL137470, AL049263, NM_016302, Contig58755_RC, AL137473, AL137475, NM_016304, NM_016305, Contig38589_RC, AL137477, Contig13251_RC, Contig12522_RC, Contig28420_RC, Contig54770_RC, U09848, AL137480, NM_016310, NM_016311, AL137483, AL049274, NM_016313, NM_016315, AL049277, AL137489, Contig46142_RC, Contig14581_RC, AL049282, AL137493, Contig7415_RC, NM_016325, NM_016326, NM_016327, AL137498, NM_016329, AB011538, Contig29141_RC, Contig51740_RC, X60188, AL049291, NM_015601, NM_016331, NM_016334, NM_016336, NM_016337, AL049299, AB011542, Contig40548_RC, Contig41277_RC, Contig16866_RC, NM_016340, NM_016341, NM_016343, X77588, NM_016345, NM_016348, Contig41420_RC, Contig51732_RC, AB028943, AB028944, AB028945, Contig3422_RC, AB028949, Contig33859_RC, Contig49757_RC, NM_016350, NM_016351, NM_016352, NM_015623, NM_016355, NM_015629, NM_016359, Contig35460_RC, Contig26712_RC, AB028950, AB028953, AB028955, Contig45772_RC, Contig55709_RC, Contig16858_RC, NM_016360, NM_016361, NM_014903, NM_016362, NM_016363, NM_014905, NM_016366, NM_014909, NM_016368, NM_016369, Contig34122_RC, AB028962, AB028963, AB028966, Contig54746_RC, Contig47456_RC, Contig48185_RC, NM_014910, NM_014911, NM_015640, NM_015641, NM_016370, NM_014913, NM_016371, NM_016372, NM_016373, NM_014917, NM_014918, NM_016379, Contig11535_RC, AB028978, NM_006901, Contig58333, NM_014921, NM_014922, NM_006904, NM_014924, NM_016382, NM_015654, NM_014925, NM_016384, NM_006908, NM_014927, NM_014929, NM_016387, NM_016388, Contig18451_RC, AB028980, Contig40298_RC, AB028985, Contig15887_RC, X68880, NM_006912, NM_014931, NM_016390, NM_006913, NM_014932, NM_014933, NM_006914, NM_016391, NM_014935, NM_014936, NM_016395, NM_006919, NM_014939, NM_016397, NM_015669, NM_016398, AB028991, AB028992, AB028998, AB028999, Contig59080, NM_014940, NM_015670, NM_006923, NM_006927, NM_014946, NM_014947, NM_006928, NM_006929, NM_014949, M13686, Contig22711_RC, NM_015678, Contig34106_RC, Contig33752_RC, NM_006930, NM_006931, NM_015680, NM_014951, NM_014952, NM_006933, Contig22102_RC, NM_015681, NM_014953, NM_006934, NM_014954, NM_015684, NM_015685, NM_015686, NM_006938, AK002016, NM_014959, Contig27792_RC, Contig46477_RC, Contig53767_RC, Contig3164_RC, Contig57640, NM_006941, NM_014960, NM_006944, NM_014963, NM_014964, NM_015696, AK002025, Contig24161_RC, NM_014968, NM_015697, NM_015698, AK002028, Contig27183_RC, K02403, NM_006951, NM_014970, NM_006952, NM_006953, AK002032, Contig61320_RC, Contig41154_RC, AK002039, NM_006963, Contig55360_RC, Contig25717_RC, Contig41755_RC, AK002051, Contig54022_RC, NM_006977, NM_006978, NM_014999, AK001329, Contig44168_RC, Contig47942_RC, NM_006980, NM_006983, Contig37021_RC, AK000604, Contig12750_RC, NM_006987, AF072164, Contig35186_RC, Contig57645_RC, NM_006992, NM_006994, Contig46370_RC, AK002078, Contig57036_RC, Contig16727_RC, Contig52179_RC, Contig12599_RC, Contig49392_RC, Contig58975_RC, AI537510_RC, AK001351, Contig45032_RC, AF208502, X01394, Contig819_RC, AK002088, Contig42468_RC, AK001362, AK000637, Contig45633_RC, Contig47926_RC, AJ224875, Contig8364_RC, Contig10441_RC, U43342, Contig25610_RC, Contig45024_RC, AK000643, Contig38944_RC, Contig36042_RC, AK001380, Contig31185_RC, Contig49376_RC, Contig50013_RC, D29954, Contig27060_RC, U28055, Contig54974_RC, U43374, Contig23158_RC, Contig67241_RC, Contig569_RC, AK000674, AF143676, AK000679, Contig34199_RC, Contig29954_RC, Contig30890, Contig31320_RC, Contig33613_RC, Contig56801_RC, AK000684, AK000689, Contig28991_RC, Contig47676_RC, AK000691, Contig39048_RC, Contig31312_RC, Contig32041_RC, Contig33605_RC, Contig20729_RC, Contig45375_RC, Contig39649_RC, Contig26081_RC, Contig17333_RC, Contig52056_RC, AL049300, AL137512, Contig42954_RC, AL137514, AL137515, AL049309, AL137518, Contig23660_RC, AL137522, AF119663, Contig45367_RC, Contig37348_RC, AL049313, AL137524, AF119666, Contig41007_RC, M65292, Contig31905_RC, U26662, AL049321, AL049325, AL137535, AL049328, AL137538, Contig37949_RC, Contig46697_RC, AL049329, Contig17091_RC, Contig24381_RC, Contig34318_RC, AB037719, Contig19384_RC, Contig25945_RC, Contig26674_RC, AL137544, Contig5820_RC, AL137547, Contig31062_RC, Contig22314_RC, Contig15024_RC, AB037721, AB037723, AB037724, Contig17317_RC, AB037725, AB037726, Contig404, AB037728, Contig57272_RC, Contig24982_RC, AL137550, AL137551, AL049342, AL137554, AL049346, AL049348, AL137559, Contig6398_RC, Contig32017_RC, Contig32392_RC, AB037737, AL137560, AL137562, AL137563, AJ276429, AL137566, M30448, Contig13933_RC, Contig33347_RC, Contig29831_RC, AB037749, Contig36369_RC, Contig51678_RC, AL137571, NM_016400, NM_016402, AL049365, AL137575, M23161, AL137578, NM_016407, Contig2639_RC, NM_016408, Contig11031_RC, Contig26200_RC, Contig37241_RC, Contig36512_RC, Contig51821_RC, AB037751, AB037752, Contig22907_RC, Contig15617_RC, AB037753, Contig38805_RC, AB037758, Contig33948_RC, AL137580, NM_016410, NM_016411, X69637, NM_016412, NM_016415, NM_016416, NM_016418, AL137589, AI681039_RC, AB037760, Z14093, Contig440, AB037763, AB037766, AB037769, AL137590, AL049381, NM_016424, AL137596, AL049387, NM_016426, NM_016427, NM_016429, Contig22064_RC, AB037770, Contig17067_RC, AB037776, Contig46816_RC, Contig41959_RC, NM_016430, NM_016431, NM_015702, NM_016434, AL049397, NM_016436, NM_016437, M15178, Contig20372_RC, Contig42831_RC, AB037782, AI493593_RC, Contig37834_RC, AB037786, Contig40996_RC, AB037789, Contig1059_RC, NM_016440, NM_015711, Contig35999_RC, NM_016442, NM_016444, NM_016445, NM_015716, NM_016446, NM_016447, Contig8584_RC, Contig25830_RC, AB037792, AB037795, AB037799, NM_015720, NM_015721, NM_016451, NM_016452, NM_015725, NM_015726, NM_016456, Contig33240_RC, Contig28243_RC, Contig23386_RC, Contig13909_RC, NM_016460, Contig4825_RC, Contig67163, NM_016464, Contig11007_RC, NM_016467, Contig50233_RC, Contig10653_RC, Contig11382_RC, Contig25822_RC, Contig52526_RC, Contig40304, Contig41035, Contig15968_RC, NM_016470, NM_016474, NM_016475, NM_016477, NM_016478, NM_016479, Contig50834_RC, Contig31397_RC, Contig39276_RC, Contig49588_RC, NM_016482, NM_016483, NM_016484, NM_016489, AI280509_RC, Contig32300, Contig42581_RC, Contig36855_RC, Contig40329, AA043429_RC, Contig57715, Contig57716, NM_016492, NM_016496, NM_016497, NM_016498, NM_016499, Contig51555_RC, Contig53848_RC, Contig14997_RC, K03208, AK002105, AK002107, Contig31532_RC, Contig23513_RC, Contig16223_RC, Contig924_RC, Contig46701_RC, Contig33825_RC, Contig34554_RC, Contig21678_RC, Contig58471_RC, D63480, Contig22550_RC, Contig36238_RC, Contig62588_RC, Contig2883_RC, AF064200, Contig10629_RC, Contig15861_RC, Contig50584_RC, Contig42565_RC, Contig40364, Contig25057, Contig32348, Contig33078, Contig3838_RC, Contig21813_RC, Contig33208_RC, AK002138, Contig25564_RC, Contig43895_RC, AF097645, Contig31516_RC, Contig40264_RC, AK002146, Contig20098_RC, Contig16582_RC, Contig41828_RC, Contig39770_RC, Contig49707_RC, Contig57726_RC, Contig53598_RC, AK002152, AK001423, Contig22534_RC, Contig10387_RC, Contig14890_RC, Contig32846_RC, Contig49473_RC, Contig27849_RC, AK002160, AK001432, Contig53132_RC, AK002162, AK001433, Contig24218_RC, AK002166, AK001439, Contig42549_RC, Contig43421_RC, AK002171, AK000715, AK002174, AK000717, AK002177, Contig55191_RC, Contig46443_RC, Contig39153_RC, AF064255, Contig17529_RC, Contig33567_RC, AK000724, Contig44751_RC, Contig24585_RC, Contig4460_RC, Contig1896_RC, U43431, AK000730, Contig36123_RC, Contig27750_RC, Contig45706_RC, AF071569, Contig38791_RC, Contig35160_RC, AK001470, AK000745, AF152492, Contig52762_RC, Contig29434_RC, AK001478, AF215924, AK000757, Contig56739_RC, Contig32130_RC, Contig45464_RC, Contig1422_RC, AK001499, Contig48486_RC, Contig30981, Contig60164_RC, AK000770, Contig47900_RC, AK000774, Contig19715_RC, AK000776, Contig53709_RC, AK000777, U02032, Contig40141_RC, Contig32122_RC, X86400, Contig10873_RC, AK000781, Contig44727_RC, Contig36708_RC, Contig2143_RC, Contig40599_RC, Contig48478_RC, Contig34181_RC, Contig52137_RC, AK000791, Contig35745_RC, Contig28455_RC, AK000798, Contig38767_RC, Contig39496_RC, Contig14977, Contig27117_RC, AL137605, AL137606, M31212, Contig8179_RC, Contig17406_RC, Contig48613_RC, Contig49342_RC, AF127771, AL137612, Contig51775_RC, Contig27718_RC, Contig29176_RC, AL137615, AL137616, Contig39488_RC, AL137619, Contig48004_RC, Contig17172_RC, Contig32481_RC, Contig15714_RC, Contig42418_RC, Contig10857_RC, AF110399, Contig39631_RC, AL137620, Contig42793_RC, Contig54188_RC, Contig13879_RC, Contig49943_RC, Contig1773_RC, M55914, AB037800, AB037801, AB037805, Contig32707_RC, AB037808, AB037809, AL137639, AB037812, AB037815, Contig51158_RC, Contig46913_RC, Contig34766_RC, AL049435, AL137646, AL049437, Contig51301_RC, Contig2544, AF004711, AB037820, AB037821, Contig46304_RC, Contig23491_RC, Contig25409_RC, Contig37931_RC, AJ276510, AB037829, AL049442, AL137651, AL137653, AL049445, AL137656, AL137657, AL137658, AL049449, Contig30172_RC, Contig40109_RC, Contig46070_RC, AB037831, Contig56007_RC, AB037832, Contig42777_RC, AL137662, AL137669, Contig21190_RC, Contig23108_RC, Contig55044_RC, AB037845, Contig38652_RC, Contig54690_RC, AB037848, NM_016500, AL137672, G05506, NM_016503, NM_016504, NM_016506, Contig11104_RC, Contig7944_RC, Contig10750_RC, U95006, AB037850, Contig38043_RC, Contig52623_RC, Contig54081_RC, Contig46062_RC, AB037851, AB037852, Contig23709_RC, AB037854, Contig48355_RC, AB037858, AL049470, AL137680, AL137681, NM_016510, Contig39982_RC, NM_016511, NM_016512, NM_016513, Contig51660_RC, AB037861, AB037862, AB037863, AB037864, Contig53953_RC, AL137690, NM_016520, AL137692, NM_016523, NM_016526, AL137698, Contig10742_RC, Contig37306_RC, Contig16786_RC, NM_016532, NM_016534, NM_016535, NM_016538, NM_016539, Y16521, Contig37072_RC, Contig51652_RC, Contig878_RC, Contig45926_RC, Contig41798_RC, NM_016540, NM_016541, Contig5635_RC, NM_016542, NM_016547, NM_016548, Y15801, Contig52607_RC, Contig44963_RC, NM_016553, Contig412_RC, NM_016557, L19067, NM_016559, Contig57230_RC, Contig29045_RC, Contig38628_RC, Contig39357_RC, Contig49669_RC, Contig56959_RC, NM_015832, NM_016561, NM_015833, NM_016564, NM_016565, NM_016567, NM_016568, Contig23602_RC, Contig51035_RC, Contig26624_RC, Contig24789_RC, NM_015842, NM_016571, NM_016572, NM_015845, NM_016576, NM_015847, M14584, NM_015848, NM_016577, NM_015849, NM_016578, Contig33305_RC, Contig57222_RC, Contig16913_RC, Contig51636_RC, AJ250475, Contig48097_RC, Contig55387_RC, NM_015850, NM_016580, NM_016581, NM_016582, NM_015854, NM_015855, NM_016585, NM_015858, NM_015859, Contig43008_RC, NM_016589, Contig36093_RC, Contig50673_RC, Contig28074_RC, Contig28909_RC, NM_015864, NM_016593, NM_016596, NM_015869, NM_016598, Contig26007_RC, Contig16905_RC, Contig1025_RC, Contig20796_RC, Contig17104, Contig28675_RC, AL359053, Contig4047_RC, AL359055, T83642_RC, NM_015871, AK002202, AK002203, NM_015877, NM_015878, Contig31605_RC, NM_015879, Contig31980_RC, Contig28066_RC, Contig19693_RC, Contig44939_RC, AL359062, NM_015880, AF152500, NM_015885, AF152502, NM_015887, Contig15333_RC, Contig40954_RC, Contig12769_RC, Contig49562_RC, Contig48833_RC, Contig29396_RC, Contig4039_RC, Contig8542_RC, NM_015890, NM_015891, Contig61240_RC, NM_015895, NM_015896, Contig28810_RC, Contig24682_RC, Contig26975_RC, Contig39099_RC, AK001500, AK001503, Contig22615_RC, Contig15325_RC, Contig11197_RC, Contig53822_RC, Contig6241_RC, Contig44697_RC, Contig36678_RC, Contig21652_RC, Contig55506_RC, Contig17384_RC, Contig36069_RC, Contig39843_RC, Contig3820_RC, Contig40481, Contig34986_RC, Contig31736, AF098485, Contig2339_RC, Contig49855, Contig57875, Contig43502_RC, Contig32084_RC, Contig53814_RC, Contig41667_RC, Contig37399_RC, Contig1376_RC, Contig49861, Contig33039_RC, AK001536, AK001539, Contig48208_RC, Contig52099_RC, Contig3812_RC, Contig42997_RC, AK001546, Contig28560_RC, Contig55264_RC, Contig53806_RC, Contig30993_RC, Contig48809_RC, AK000821, Contig35241_RC, AK001551, AK000823, Contig15075_RC, Contig20907_RC, AK001555, AK000827, Contig37534_RC, Contig40696_RC, Contig29890_RC, U92992, Contig11925_RC, Contig51880_RC, Contig46508_RC, AK000838, Contig65568_RC, Contig31788, Contig8885_RC, Contig13609_RC, AK001574, Contig26251_RC, Contig41560_RC, AK000852, Contig35834_RC, Contig43853_RC, Contig39585_RC, Contig8877_RC, Contig16540_RC, U28252, Contig27206_RC, Contig42515_RC, AI198570_RC, Contig30368_RC, Contig34871_RC, Contig13976_RC, AK000878, Contig49889_RC, Contig40214_RC, Contig32570_RC, Contig42882_RC, AK000885, Contig41544_RC, Contig60229_RC, Contig25881_RC, Contig37276_RC, AK000895, Contig61101_RC, Contig40206_RC, Contig39712_RC, Contig21979_RC, AL137708, M16006, Contig2608, M80783, Contig30870_RC, Contig41536_RC, Contig25873_RC, AL137711, Contig37268_RC, NM_018001, AL137715, NM_018002, AL137717, AL137718, NM_018005, NM_018006, NM_018007, NM_018009, Contig52720_RC, Contig40573_RC, Contig49181_RC, Contig35576_RC, AL137723, AL137724, NM_018012, Contig8161_RC, AL137727, NM_018015, Contig37869_RC, AL137728, AL137729, Contig1846_RC, NM_018019, Contig50276_RC, Contig12989_RC, AL137734, NM_018022, NM_018023, AF054996, NM_018024, AL137739, NM_018027, AB005216, Contig13861_RC, S65761, Contig41294_RC, Contig20399_RC, Contig55734_RC, Contig56463_RC, Contig16883_RC, Contig35568_RC, NM_018032, NM_018033, NM_018035, Contig1838_RC, NM_018038, Contig21271_RC, Contig31208_RC, S40369, Contig47106_RC, Contig2710_RC, Contig41895_RC, AJ005866, AL137751, AL137752, NM_018040, NM_018042, AF119896, NM_018044, AL137758, NM_018048, NM_018049, Contig54162_RC, Contig32538_RC, X61177, NM_018050, AL137764, Z46967, NM_018053, NM_018054, NM_018055, NM_018058, NM_018059, Contig9709_RC, Contig44451_RC, Contig36432_RC, Contig16266_RC, NM_016601, NM_016602, NM_018062, NM_016605, NM_018063, NM_018065, NM_016609, NM_018068, NM_018069, Contig51132_RC, Contig30237_RC, Contig53425_RC, AF004849, Contig37762_RC, NM_016610, NM_016612, NM_016613, NM_018071, NM_016614, NM_018073, NM_018074, NM_018076, NM_018077, NM_018079, Contig33402_RC, Contig41421_RC, Contig1951, Contig20526_RC, Contig63128_RC, Contig15529_RC, Contig59612_RC, Contig39446_RC, NM_016620, NM_016621, NM_018080, Contig5716_RC, NM_016622, NM_018082, NM_018084, NM_016626, NM_018085, NM_016627, NM_018087, NM_016629, NM_018089, Contig35461_RC, Contig42751_RC, Contig27442_RC, Contig36190_RC, Contig34732_RC, NM_016630, NM_015901, NM_016631, NM_015902, NM_016632, NM_015904, Contig31101_RC, NM_018092, NM_015906, NM_015907, NM_015908, NM_016637, NM_018095, NM_018096, NM_018098, Contig42142_RC, NM_018099, Contig37145_RC, Contig29126_RC, Contig53183_RC, NM_015910, NM_015911, NM_016640, NM_015913, NM_016642, NM_016643, NM_015915, NM_016644, NM_015916, NM_015918, NM_016648, NM_015919, NM_016649, Contig31702_RC, AF250226, X52486, Contig48787_RC, NM_016650, NM_015923, NM_016655, NM_015927, NM_016657, Contig22720_RC, Contig50153_RC, Contig45156_RC, Contig65900, Contig58613, NM_015930, Contig30130_RC, NM_015933, NM_015935, NM_015936, Contig12257_RC, Contig51483_RC, Contig62149_RC, AJ242549, Contig59353, NM_015940, AJ275978, NM_015945, NM_015946, NM_015947, NM_015949, NM_015950, NM_015952, NM_015953, Contig58639, NM_015955, NM_015956, Contig6796_RC, NM_015958, Contig40434_RC, NM_015959, Contig27793_RC, AW451097_RC, NM_015960, NM_015962, NM_015963, NM_015964, NM_015965, NM_015966, Contig32181_RC, Contig16143_RC, Contig30723_RC, NM_015969, Contig50137_RC, Contig844_RC, Contig39331_RC, AF161337, Contig27184_RC, Contig57662_RC, Contig49643_RC, Contig6330_RC, Contig10700_RC, NM_015972, NM_015974, Contig59388, NM_015976, Contig13722_RC, NM_015978, Contig41155_RC, AF161343, Contig3157_RC, NM_015980, Contig44320_RC, Contig51610_RC, NM_015984, NM_015985, X03084, AF161351, NM_015987, AF161353, NM_015989, AF161354, AF161355, Contig26447_RC, NM_015990, NM_015991, NM_015993, Contig54023_RC, NM_015994, Contig30481_RC, NM_015997, Contig40418_RC, NM_015998, AF161364, AF161365, Contig16736_RC, AF161368, AK001603, Contig53060_RC, Contig45041_RC, Contig13480_RC, AF161370, Contig24146_RC, AF161371, AK001607, Contig56082_RC, Contig54624_RC, Contig55353_RC, AF217508, Contig27168_RC, Contig39690_RC, AF186780, Contig52789_RC, Contig27311_RC, Contig15164_RC, Contig13706_RC, AF161380, Contig52932_RC, AF161383, Contig55954_RC, Contig8373_RC, Contig42011_RC, Contig21116_RC, AK001627, AF217525, Contig28641_RC, Contig16494_RC, Contig56909_RC, Contig2930_RC, Contig32573, Contig40598, AK001630, U43604, Contig28032_RC, Contig36051_RC, AK000903, AK000908, AK000909, Contig52924_RC, AK001638, Contig32758_RC, Contig42003_RC, Contig45025_RC, AF049140, AK000915, Contig32149_RC, Z49105, Contig29362_RC, AF063725, Contig56066_RC, Contig55337_RC, Contig38945_RC, Contig4380_RC, Contig51352_RC, Contig31186_RC, AK000926, Contig47084_RC, Contig2313_RC, AK000930, Contig33622_RC, Contig26332_RC, Contig12727_RC, AK000933, Contig49520_RC, AK000939, Contig15749_RC, Contig31787_RC, Contig4372_RC, Contig17350_RC, Contig44054_RC, AK001672, Contig45618_RC, Contig32050_RC, Contig41633_RC, Contig50381_RC, Contig40904_RC, Contig49512_RC, Contig58260_RC, AK000954, AK000957, Contig33005_RC, Contig40670_RC, Contig28008_RC, AK000962, S67247, AF119904, Contig35673_RC, Contig28383_RC, Contig53629_RC, AK000967, R91034_RC, AA708112_RC, Contig6048_RC, Contig5694_RC, AF015041, Contig32042_RC, Contig705_RC, Contig43083_RC, Contig26691_RC, Contig16605_RC, Contig40662_RC, Contig49270_RC, AF135960, Contig15499_RC, AK000988, Contig40053_RC, Contig14913_RC, Contig42346_RC, U27655, AJ278110, Contig46097_RC, Contig28976_RC, Contig15033_RC, Contig45511_RC, Contig41383_RC, Contig31906_RC, Contig48533_RC, Contig49262_RC, Contig16972_RC, Contig26909_RC, Contig4949_RC, AF013620, Contig35048_RC, Contig50357_RC, S58544, Contig54860_RC, Contig58236_RC, X93921, NM_018102, NM_018107, Contig1693_RC, NM_018108, NM_018109, Contig14671_RC, Contig32627_RC, M80899, Contig56544_RC, Contig51687_RC, NM_018110, NM_018113, NM_018114, NM_018116, NM_018117, NM_018118, NM_018119, Contig21352_RC, Contig17084_RC, Contig51078_RC, Contig17919_RC, NM_018122, NM_018123, Contig29689_RC, NM_018126, Contig43202_RC, AB020627, Contig31055_RC, Contig46224_RC, Contig54243_RC, NM_000015, Contig38580_RC, Contig37851_RC, NM_000016, Contig55807_RC, NM_000017, NM_000018, NM_018131, NM_018134, NM_018136, AB020630, NM_017409, Contig11032_RC, AB020632, Contig41510_RC, AB020637, Contig20615_RC, Contig51822_RC, NM_000021, Contig16347_RC, Contig25095_RC, Contig31656_RC, NM_000024, NM_000025, NM_000026, NM_000027, NM_000028, NM_018140, NM_017411, NM_017412, NM_018141, NM_017414, NM_017415, NM_018146, NM_017417, NM_018147, NM_018148, AB020643, AB020648, AB020649, Contig19512_RC, Contig15384_RC, Contig41359_RC, NM_000032, NM_000033, Contig45862_RC, NM_000035, NM_000036, NM_000037, NM_000039, NM_018150, NM_017423, NM_017424, NM_018153, NM_018154, NM_018155, NM_018158, NM_017429, AB020654, Contig52543_RC, Contig25087_RC, Contig32377_RC, Contig46817_RC, Contig48275_RC, NM_000044, NM_000048, NM_018162, AL049667, AL049669, NM_018165, NM_018166, NM_018167, NM_018168, AB020663, Contig24501_RC, AB020668, Contig42832_RC, Contig35542_RC, Contig14647_RC, Contig13918_RC, NM_000051, Contig64539_RC, NM_000054, Contig1812_RC, Contig40997_RC, AL049674, NM_018171, NM_017443, NM_018175, NM_018179, AB020673, AB020676, AB020677, Contig33850_RC, Contig29207_RC, NM_000060, NM_000062, Contig36872_RC, NM_000063, Contig48267_RC, Contig39519_RC, NM_000064, NM_000065, NM_000066, NM_000069, NM_017450, NM_018180, NM_017451, AL049685, NM_018182, AL049687, NM_017455, Y00052, NM_018184, NM_018185, M30773, NM_017457, NM_018186, NM_018187, NM_017458, AB020682, AB020684, Contig13075_RC, AB020689, NM_000070, Contig29808_RC, Contig39285_RC, NM_000073, NM_000074, Contig40989_RC, NM_000076, NM_000077, NM_000078, NM_016732, NM_018191, NM_018192, NM_018194, AB020690, NM_018197, NM_018198, Contig15511_RC, AB020691, AB020694, AB020698, Contig44508_RC, Contig41301, Contig37593_RC, Contig64297_RC, NM_000085, NM_000087, NM_000089, Contig31398_RC, NM_000090, Contig773, NM_000093, NM_000095, NM_000096, Contig63102_RC, NM_017487, NM_017488, Contig35292_RC, Contig33834_RC, Contig21687_RC, Contig41328, AF283769, NM_017491, Contig30203_RC, NM_017492, NM_017493, Contig10037_RC, Contig40515_RC, Contig57142_RC, Contig46559_RC, AF283776, Contig29100_RC, AF161410, AF154121, Contig46702_RC, Contig35284_RC, Contig21679_RC, Contig44867_RC, Contig33327, Contig50094, Contig11510_RC, AF161420, Contig54112_RC, Contig22551_RC, Contig29701_RC, U79241, AF161427, U79242, Contig32863_RC, Contig51548_RC, Contig36239_RC, U79246, Contig48761_RC, Contig31525_RC, U79256, U79257, Contig5297_RC, AF161441, Contig31291_RC, AF161442, Contig53750_RC, Contig39170_RC, U79265, Contig24603, Contig40648, Contig45122_RC, Contig16208_RC, U79271, Contig34539_RC, U79275, Contig36140_RC, Contig31283_RC, Contig15245_RC, U61167, Contig10388_RC, Contig46452_RC, Contig53742_RC, U79280, Contig6161_RC, Contig35869_RC, Contig3597_RC, Contig10531_RC, Contig25700_RC, Contig31509_RC, Contig28722_RC, Contig24594_RC, U79290, U79293, Contig39763_RC, U79295, U79298, Contig51441_RC, Contig667_RC, Contig54463_RC, Contig41587_RC, Contig34297_RC, Contig26278_RC, Contig40858_RC, Contig26421_RC, Contig56147_RC, Contig17296_RC, AF080577, Contig31949, Contig49000_RC, AK001731, AI243595_RC, Contig659_RC, Contig55184_RC, Contig14875_RC, D13642, D13643, Contig16101_RC, Contig50470_RC, Contig10890_RC, Contig39747_RC, Contig31968, Contig57011_RC, BE671663_RC, Contig28472_RC, Contig15596_RC, Contig34424_RC, Contig58341_RC, Contig45465_RC, AK001768, AK001769, Contig51417_RC, Contig55920_RC, Contig32123_RC, AF015124, Contig48021_RC, AF031166, Contig23750_RC, Contig35145_RC, S81916, X95425, Contig45457_RC, Contig55769_RC, Contig29185_RC, Contig28456_RC, AK001796, AK001797, Contig8331_RC, Contig2745_RC, Contig3474_RC, Contig8789_RC, AF007128, Contig23742_RC, Contig46178_RC, AF007131, Contig15114_RC, Z15114, Contig44486_RC, Contig36467_RC, Contig21441_RC, AA993127_RC, AF007143, AF007147, U28480, AF007149, AF007152, AF007153, Contig54332_RC, Contig26147_RC, Contig40727_RC, Contig29921_RC, U27768, Contig43749_RC, Contig36459_RC, AL161960, AL161968, Contig15707_RC, Contig55662_RC, X78712, NM_018200, NM_018201, NM_018203, NM_018204, Contig6623_RC, NM_018206, AB020703, Contig3546, Contig67200_RC, Contig39015_RC, Contig33429_RC, Contig41448_RC, Contig39390_RC, Contig25785_RC, NM_018210, AL161983, NM_018215, NM_018216, AB020711, NM_018219, NM_000100, NM_000101, NM_000102, NM_000106, NM_000107, NM_000108, AL161991, Contig65966_RC, AL161994, NM_018225, NM_018226, NM_018228, Contig10150_RC, NM_018229, AF007192, NM_000110, AF007194, NM_000111, Contig23484_RC, NM_000113, Contig49319_RC, NM_000119, NM_018230, NM_017503, NM_017506, NM_018239, U00946, Contig44605_RC, Contig46063_RC, NM_000121, NM_000122, NM_000123, NM_000124, NM_000127, NM_000129, Contig39983_RC, Contig57939_RC, L42621, NM_018242, NM_018244, NM_018245, NM_018246, NM_018248, U00951, L36069, U00952, U00954, U00956, Contig50101, NM_000130, NM_000131, NM_000139, NM_017521, NM_017522, NM_017523, NM_018253, NM_018257, NM_018259, Contig21409_RC, NM_000140, Contig41198_RC, NM_000141, NM_000142, NM_000143, NM_000144, NM_000146, NM_000147, NM_018260, NM_018261, NM_017532, NM_018263, Contig30300_RC, NM_018264, Contig421_RC, NM_017535, NM_018268, NM_018269, Contig33322_RC, Contig34051_RC, NM_000150, NM_000151, NM_000153, NM_000154, Contig4072_RC, NM_000156, NM_000157, NM_000159, NM_017540, Contig5636_RC, NM_017542, NM_016815, NM_018274, NM_016816, NM_017546, NM_017547, NM_017548, NM_018279, Contig23611_RC, Contig51044_RC, Contig50315_RC, Contig42671_RC, Contig45318_RC, Contig46047_RC, Contig57840_RC, NM_000161, Contig42116, NM_000162, NM_000163, Contig63649_RC, NM_000164, Contig24798_RC, NM_000166, NM_000167, NM_000168, NM_016820, NM_018281, NM_018282, NM_016826, NM_016827, NM_016828, NM_018287, NM_016829, NM_018288, NM_018289, Contig33314_RC, Contig12419_RC, Contig57231_RC, Contig35607_RC, NM_000170, NM_000171, Contig47377_RC, NM_000173, NM_000174, NM_000176, NM_000177, NM_000178, NM_000179, NM_018291, NM_016835, NM_016836, NM_017566, NM_018296, NM_018297, Contig31622_RC, NM_017569, Contig26625_RC, Contig46039_RC, Contig41404, NM_000181, NM_000182, NM_000183, Contig42139, NM_000185, NM_000186, NM_000187, Contig39959_RC, Contig59522, Contig55997_RC, NM_000189, NM_017572, NM_017575, NM_017579, Contig41325_RC, U79300, U79301, Contig44347_RC, Contig1034_RC, NM_000190, Contig35974_RC, Contig43993_RC, NM_000193, NM_000196, NM_000198, NM_000199, NM_017581, Contig33072_RC, Contig31614_RC, Contig28075_RC, Contig15199_RC, Contig53696_RC, Contig9514_RC, AF161500, NM_017595, Contig42046_RC, Contig50065_RC, Contig26383_RC, Contig40963_RC, Contig16906_RC, Contig48842_RC, AI223310_RC, Contig52501_RC, NM_009585, NM_009586, NM_009589, Contig16672_RC, Contig15943_RC, Contig42647_RC, Contig50666_RC, Contig27338_RC, Contig42174, Contig41445, Contig28210_RC, Contig42038_RC, Contig34019_RC, Contig48834_RC, Contig57582_RC, Contig28668_RC, Contig29397_RC, Contig8543_RC, Contig41075_RC, Contig28811_RC, Contig15935_RC, Contig1619_RC, Contig31364_RC, Contig15326_RC, Contig756_RC, Contig53823_RC, Contig32928_RC, Contig34386_RC, Contig5513_RC, Contig29389_RC, Contig44841_RC, Contig48217_RC, Contig39844_RC, Contig27697_RC, Contig19678_RC, Contig31356_RC, Contig748_RC, Contig27840_RC, AF064606, Contig38881_RC, Contig26502_RC, Contig53581_RC, Contig32757, AI252801_RC, Contig36205_RC, AK001814, AK001816, Contig19813_RC, Contig43870_RC, Contig55265_RC, AF146277, Contig42532_RC, AK001825, Contig37535_RC, AK001829, Contig1512_RC, AF200348, AK001838, Contig21629_RC, AK001846, Contig54294_RC, AF129536, Contig56587_RC, Contig40832_RC, Contig12647_RC, Contig35835_RC, AF063936, Contig16398_RC, Contig49289_RC, Contig8269_RC, Contig11075_RC, Contig27808_RC, Contig31699_RC, Contig24552_RC, AK001880, Contig27574_RC, Contig18826_RC, Contig21988_RC, AF007217, Contig40816_RC, AL122038, Contig49424_RC, Contig1254_RC, AF217798, AA017147_RC, Contig5054, Contig22251_RC, AL122040, AL122044, U27831, Contig32563_RC, Contig17254_RC, AL122046, AF103458, AL122047, AL122049, Contig59127_RC, Contig37878_RC, Contig12540_RC, AL122051, AL122053, AL122054, Contig23581_RC, NM_019002, NM_019003, NM_019005, Contig25265_RC, AJ006835, Contig16892_RC, Contig27558_RC, NM_019012, Contig45889_RC, NM_019018, Contig52112_RC, Contig31217_RC, AL122070, Contig27701_RC, AL122071, AL122072, Contig16283_RC, AL122074, AL122077, AL122079, Contig26595_RC, NM_019020, NM_019025, Contig22235_RC, Contig375_RC, Contig13862_RC, AL122083, AL122085, Contig63754_RC, AL049801, NM_018300, X78817, NM_019033, NM_019034, NM_018307, NM_019038, NM_019039, AL122090, AL122091, Contig57419_RC, Contig18568_RC, Contig25858_RC, NM_019040, NM_018313, Contig36899_RC, NM_018314, R41639_RC, Contig40100_RC, NM_018318, NM_018319, Contig19440_RC, NM_000201, NM_000202, NM_000203, NM_000204, Contig45790_RC, S59494, Contig47708_RC, Contig55727_RC, NM_000209, NM_018320, NM_018322, NM_019052, NM_019057, NM_019058, NM_019059, Contig20535_RC, Contig12516_RC, Contig2938, Contig35704_RC, Contig44452_RC, NM_000212, NM_000214, Contig55493_RC, NM_000217, NM_000218, NM_017601, NM_019060, NM_019061, NM_019063, NM_017606, NM_018335, NM_018336, NM_018337, Contig16410_RC, M31659, Y19052, Contig42760_RC, Contig27451_RC, Contig26722_RC, Contig38117_RC, Contig13846_RC, Contig21865_RC, Contig49910_RC, Contig16868_RC, NM_000227, NM_000228, NM_018340, NM_018342, NM_019071, NM_018344, NM_017615, NM_018346, NM_017617, NM_019076, NM_018347, Contig33403_RC, Contig28406_RC, Contig45173_RC, NM_000230, Contig24278_RC, NM_000232, Contig9010_RC, NM_000234, Contig48195_RC, NM_000236, NM_000237, Contig6446_RC, NM_018353, NM_018354, NM_018355, NM_017627, NM_018356, NM_019086, NM_018357, NM_019087, NM_017629, NM_018359, NM_019088, Contig16402_RC, Contig61437_RC, NM_000240, Contig45774_RC, Contig57169_RC, NM_000245, NM_000249, NM_018360, NM_017632, NM_017633, NM_019091, NM_017634, NM_018363, NM_017636, NM_019094, NM_018365, NM_018366, NM_017639, NM_018368, Contig33770_RC, Contig51726_RC, Contig32289_RC, NM_000251, Contig63496_RC, NM_000255, NM_017640, NM_018370, NM_018371, NM_018372, NM_018374, NM_017645, NM_018375, NM_017647, NM_018376, NM_017648, NM_017649, NM_018379, Contig25142_RC, Contig51117_RC, AF090116, AF090117, Contig34725_RC, Contig28164_RC, Contig21849_RC, NM_000260, Contig38476_RC, NM_000262, NM_000265, NM_000266, NM_000267, NM_000268, NM_017650, NM_017652, NM_017653, NM_017655, NM_018387, NM_016929, NM_017659, NM_018389, Contig42135_RC, Contig33762_RC, Contig25743_RC, Contig19182_RC, Contig36409_RC, Contig20886_RC, NM_000272, Contig42227, Contig50246, NM_000273, NM_000278, NM_017660, NM_016932, Contig30131_RC, Contig252_RC, NM_017664, NM_016936, NM_016937, NM_016938, NM_018396, NM_017667, NM_017669, Contig24780_RC, Contig50755_RC, Contig23299_RC, Contig53777_RC, NM_000282, NM_000284, NM_000287, NM_000288, Contig6196_RC, NM_016941, NM_016943, NM_017673, NM_016944, NM_016945, NM_017674, NM_017675, NM_016947, NM_016948, NM_017678, Contig31461_RC, Contig15423_RC, Contig34108_RC, U88153, Contig41773_RC, Contig34483_RC, U96173, NM_000290, NM_000291, NM_000293, NM_000294, NM_000295, NM_000297, NM_016951, NM_017681, NM_017682, NM_016953, NM_017684, Contig6797_RC, Contig13731_RC, Contig33145_RC, Contig16753_RC, Contig44186_RC, Contig42728_RC, Contig47960_RC, Contig8023_RC, Contig53769_RC, Contig21141_RC, NM_017690, NM_017691, Contig36310_RC, NM_017694, NM_017696, Contig15415_RC, NM_017697, Contig61931_RC, Contig25727_RC, Contig26456_RC, Contig19166_RC, AJ251595, AF195764, Contig50287, Contig10701_RC, Contig21742_RC, Contig13723_RC, Contig33137_RC, Contig36911_RC, Contig43449_RC, Contig39933_RC, Contig55971_RC, Contig2429_RC, Contig48907_RC, Contig49636_RC, Contig40824, AF188492, M91211, Contig46005_RC, Contig30482_RC, AF234532, Contig29613_RC, Contig39090_RC, Contig40794_RC, Contig32810, U79457, Contig3902_RC, U79458, Contig29004_RC, Contig23793_RC, Contig38962_RC, Contig5961_RC, Contig21726_RC, Contig30474_RC, Contig54391_RC, Contig9938_RC, Contig37015_RC, Contig50489_RC, Contig43199_RC, Contig58368_RC, Contig41590, Contig2179_RC, AF112201, Contig42613_RC, AK001903, Contig58988, Contig26950_RC, Contig61673_RC, Contig32759_RC, Contig37991_RC, AF112219, AK001911, Contig45026_RC, AK001913, Contig48800_RC, Contig35924_RC, Contig51962_RC, Contig28634_RC, Contig15758_RC, Contig31796_RC, Contig54984_RC, Contig23920_RC, Contig50624_RC, Contig28025_RC, Contig42605_RC, Contig51353_RC, Contig31187_RC, U60665, AF073482, AK001928, Contig53646_RC, Contig56668_RC, Contig48649_RC, Contig57397_RC, Contig30601_RC, Contig31330_RC, AK001937, Contig39667_RC, Contig41033_RC, Contig23912_RC, AK001942, Contig28392_RC, Contig21010_RC, Contig32051_RC, Contig31322_RC, Contig14930_RC, Contig52675_RC, Contig35908_RC, Contig28993_RC, Contig4365_RC, AL122101, Contig40671_RC, AL122107, AL122109, Contig12486_RC, AB031038, Contig24024_RC, Contig32043_RC, Contig706_RC, AL122113, Contig16380_RC, AK001971, Contig57524_RC, Contig45377_RC, Contig59817_RC, AF103530, AL122120, AL122122, Contig37501_RC, Contig41392_RC, AK001980, Contig45978_RC, Contig9815_RC, Contig31681_RC, Contig51095_RC, Contig26684_RC, Contig52659_RC, Contig30343_RC, Contig54260_RC, Contig46241_RC, Contig17327_RC, Contig20489_RC, Contig16973_RC, Contig32027_RC, Contig36530_RC, Contig16364_RC, Contig51087_RC, Contig25947_RC, NM_019102, NM_019103, Contig5822_RC, NM_019108, Contig50501_RC, Contig15026_RC, AF103574, Contig34086_RC, Contig24609_RC, Contig25338_RC, Contig49255_RC, X95660, Contig43669_RC, NM_019110, NM_019113, NM_019116, Contig21353_RC, Contig32019_RC, NM_001001, Contig23646_RC, NM_001002, NM_001003, NM_001005, Contig48292_RC, NM_001008, Contig41977_RC, Contig448_RC, AF103591, NM_001010, Contig14664_RC, Contig15393_RC, NM_001012, Contig26059_RC, NM_001013, NM_001014, Contig29833_RC, Contig48518_RC, NM_001017, NM_001018, NM_018400, NM_018403, NM_018404, NM_018407, Contig34221_RC, NM_001020, NM_001021, Contig16348_RC, Contig17077_RC, Contig47555_RC, NM_001025, Contig15994_RC, Contig41969_RC, Contig42698_RC, NM_018410, X78926, NM_018412, AB021641, Contig50860_RC, Contig46217_RC, NM_000300, NM_001032, NM_000303, NM_001033, NM_000305, Contig38573_RC, NM_000306, X78931, NM_000307, NM_001037, X78932, NM_001038, NM_000309, AL049925, NM_018423, NM_018428, Contig11025_RC, NM_000311, NM_000314, NM_001044, Contig56295_RC, NM_001046, NM_000317, NM_000319, AL049932, AL049935, NM_017705, AL049938, NM_018434, NM_017706, NM_017707, NM_017708, NM_018438, Contig43562_RC, NM_000322, NM_001051, NM_000323, NM_000324, Contig53874_RC, NM_000325, NM_001054, Contig32979_RC, NM_000327, NM_000328, NM_001057, NM_001058, NM_001059, AL049942, NM_018440, NM_017711, NM_017712, NM_017713, NM_018442, AL049946, M24470, NM_018444, NM_017715, NM_018445, AL049949, NM_018448, Contig7857_RC, NM_018449, Contig14039_RC, Contig60555_RC, NM_000330, NM_001060, NM_000332, Contig54829_RC, Contig55558_RC, NM_001064, NM_000335, NM_001065, NM_000339, NM_001069, NM_017720, NM_018450, AL049955, NM_018451, NM_017723, AL049957, NM_018454, NM_017726, NM_018455, NM_018456, NM_017729, NM_018459, Contig33242_RC, Contig15369_RC, Contig16098_RC, NM_000340, NM_000341, NM_000342, NM_000343, Contig37828_RC, NM_001074, Contig1805_RC, NM_001075, NM_000346, NM_000347, NM_001077, NM_000349, NM_017730, Contig5556_RC, NM_018461, NM_017732, NM_018462, NM_018464, AL049969, NM_017737, Contig34572_RC, Contig13677_RC, NM_000351, Contig36865_RC, NM_000353, NM_000355, NM_001084, NM_000356, Contig8721_RC, NM_000359, NM_001089, NM_017740, NM_018470, NM_017741, AL049975, NM_017743, NM_017744, NM_017745, NM_018474, NM_017746, NM_018476, NM_018477, NM_018478, NM_017749, NM_018479, Contig33234_RC, Contig56422_RC, Contig50836_RC, NM_000360, NM_000361, Contig39278_RC, AI677876_RC, NM_001093, NM_000367, NM_001096, NM_001097, NM_001098, NM_017751, NM_017752, NM_018481, Contig20501_RC, AL049987, NM_018484, AF155100, NM_017756, NM_018485, NM_018486, AF155103, NM_018488, Contig24252_RC, Contig23523_RC, NM_018489, NM_000370, NM_000371, NM_000374, NM_000375, NM_000377, AL049990, NM_017760, NM_017761, L27560, NM_018490, Contig325_RC, NM_018492, NM_018495, NM_017768, NM_018497, NM_018498, Contig29710_RC, Contig21079_RC, Contig42809_RC, AF187813, Contig8104_RC, NM_000381, NM_000382, NM_000385, NM_000386, NM_000388, NM_017770, NM_017772, L35592, AF155120, NM_017777, NM_017778, Contig39413_RC, Contig47432_RC, Contig54722_RC, Contig26537_RC, Contig49725_RC, Contig36849_RC, Contig29559_RC, NM_000394, NM_000396, NM_000397, NM_017782, NM_017785, Contig29702_RC, Contig44259_RC, Contig56781_RC, NM_017790, NM_017791, NM_017797, U96291, Contig26529_RC, D30612, Contig684_RC, Contig5441_RC, Contig35878_RC, Contig43897_RC, Contig27859_RC, Contig8463_RC, Contig42101_RC, AF073519, Contig42559_RC, Contig40920, Contig41652, AF195883, U46120, Contig9793_RC, Contig3140_RC, Contig40867_RC, Contig57494_RC, Contig5433_RC, Contig34375, Contig45115_RC, Contig20844_RC, Contig14283_RC, Contig32239_RC, BE739817_RC, Contig15847_RC, Contig32920, Contig12216_RC, AF113018, Contig51442_RC, Contig44152_RC, Contig55193_RC, Contig45716_RC, AF113020, Contig42460_RC, Contig34441_RC, Contig45107_RC, Contig53126_RC, Contig41122_RC, Contig43415_RC, Contig1289_RC, Contig33704_RC, Contig28707_RC, Contig29436_RC, Contig48496_RC, Contig32962, Contig21700_RC, Contig16703_RC, Contig33470_RC, AF049524, Contig53719_RC, Contig14868_RC, AF064839, AL050003, M90657, AL050007, AL050008, AF064843, AL050015, Contig52147_RC, Contig35755_RC, AF064854, Contig32994, Contig32995, AL050022, Contig46187_RC, Contig31161_RC, AL050034, AL050035, Contig40744_RC, Contig25435_RC, Contig8332_RC, Contig39498_RC, Contig16453_RC, Contig51176_RC, U36759, Contig20112_RC, Contig14761_RC, Contig54799_RC, AB023136, AB023139, Contig32108_RC, AL050060, AL050061, Contig48006_RC, X70326, AL050069, AB023142, Contig9654_RC, AB023144, Contig31145_RC, Contig30416_RC, Contig41457_RC, Contig37941_RC, Contig48607_RC, Contig25794_RC, AB023151, AB023152, Contig7962_RC, Contig4539, Contig53370_RC, Contig52641_RC, Contig44622_RC, Contig45351_RC, Contig56017_RC, Contig16437_RC, AL050084, Contig34768_RC, AB023160, AB023163, Contig52032_RC, AB023166, Contig11723_RC, Contig31137_RC, Contig30408_RC, Contig529_RC, Contig27621_RC, Contig34911_RC, Contig54325_RC, AL050090, Contig39391_RC, Contig25786_RC, AB023173, Contig34302_RC, AB023175, AB023177, AB023179, Contig45343_RC, NM_001101, NM_001103, NM_001104, NM_001105, Contig54926_RC, NM_001107, NM_001108, NM_001109, Contig6616_RC, Contig8909_RC, AB023182, Contig13173_RC, Contig35632_RC, Contig39008_RC, Contig55046_RC, NM_001111, Contig30775_RC, Contig14737_RC, NM_001114, Contig39383_RC, Contig45944_RC, Contig38654_RC, NM_001116, NM_001117, AA782020_RC, NM_018502, NM_018503, Contig40020_RC, NM_018507, NM_018509, Contig11106_RC, AB006423, AB023195, AB023197, AB023198, NM_001122, Contig44981_RC, AF022789, NM_001126, NM_001128, NM_018514, Contig10143_RC, NM_018519, Contig12436_RC, Contig37082_RC, Contig55038_RC, Contig23477_RC, NM_000401, NM_001131, NM_000404, NM_001133, NM_001136, NM_000407, NM_000408, NM_001139, NM_018521, NM_018528, NM_018529, Contig50324_RC, Contig4595, Contig26642_RC, NM_000410, NM_000411, NM_001142, NM_000414, NM_000416, Contig16788_RC, NM_001147, NM_001148, NM_000419, NM_018530, NM_018531, NM_018533, NM_018534, NM_017805, NM_017808, NM_017809, NM_018538, NM_018539, Contig63801_RC, Contig16931_RC, Contig51654_RC, Contig42906_RC, Contig45093_RC, NM_001150, NM_000422, NM_001153, NM_000424, Contig46657_RC, NM_000425, NM_001154, NM_000426, NM_001156, NM_001157, NM_000429, X79782, NM_001159, NM_018540, NM_018541, NM_017812, NM_017813, Contig13300_RC, NM_017815, NM_018544, NM_018545, NM_018546, NM_017818, NM_018547, NM_018548, Contig43026_RC, Contig50316_RC, Contig41943_RC, Contig26634_RC, Contig38029_RC, NM_000432, NM_001161, NM_000434, NM_001165, NM_000436, NM_000437, NM_000438, NM_000439, Contig47987_RC, Contig39968_RC, NM_001169, NM_017821, Contig31022_RC, NM_017824, NM_017825, NM_018554, NM_017826, NM_018556, NM_017828, NM_017829, NM_018558, NM_018559, Contig57232_RC, Contig56503_RC, Contig40980_RC, Contig35608_RC, Contig29047_RC, Contig50410, NM_000441, NM_000442, NM_000444, NM_000445, NM_001174, NM_000447, NM_001177, NM_000448, NM_000449, NM_001179, NM_017830, NM_018560, NM_017834, NM_018563, NM_017835, Y00433, NM_018565, NM_018567, NM_018568, NM_018569, Contig40371_RC, Contig25062_RC, Contig43393_RC, Contig44957_RC, NM_000452, NM_001184, NM_000455, NM_001187, NM_001189, NM_017841, NM_018571, NM_018573, NM_017844, NM_018574, NM_018575, NM_017847, NM_018577, NM_017849, NM_018579, Contig18373_RC, Contig52367_RC, Contig48851_RC, NM_000460, NM_000462, NM_000465, Contig98_RC, NM_000466, NM_001196, NM_001197, NM_001198, NM_001199, NM_017850, NM_017851, NM_018580, NM_017852, NM_017853, NM_017854, NM_018584, Contig37201_RC, NM_018586, NM_017858, Contig32344_RC, Contig41092_RC, NM_018588, NM_017859, NM_018589, Contig56261_RC, AF090327, Contig57825_RC, AJ251759, NM_000475, NM_000476, NM_000479, NM_017864, NM_018594, NM_018597, Contig25655_RC, Contig26384_RC, Contig59509_RC, Contig36696_RC, NM_000483, NM_000485, L10284, NM_000486, Contig3695_RC, NM_000489, NM_017871, NM_017873, NM_017876, Contig33065_RC, NM_017878, Contig56253_RC, Contig16673_RC, Contig46399_RC, NM_000495, NM_000496, NM_017880, NM_017882, Contig28211_RC, NM_017886, NM_017887, NM_017888, Contig14981_RC, Contig34395_RC, Contig50471, Contig43183, NM_017890, NM_017892, NM_017893, NM_017894, AF075050, NM_017896, Contig13643_RC, NM_017897, NM_017898, Contig55516_RC, Contig17394_RC, U96394, Contig50483, AF188679, X02812, Contig50802_RC, Contig14973_RC, Contig32929_RC, Contig25639_RC, Contig1386_RC, Contig40339_RC, Contig52861_RC, Contig48218_RC, Contig31966_RC, Contig39845_RC, Contig16800_RC, Contig749_RC, Contig41669_RC, Contig41762, Contig30019_RC, Contig30394_RC, Contig20917_RC, Contig13627_RC, Contig17378_RC, Contig32687_RC, Contig40097_RC, AF242771, Contig30995_RC, Contig58288_RC, Contig2099_RC, AF202063, Contig41804_RC, Contig19205_RC, Contig60864_RC, Contig5264_RC, AF113132, Contig22510_RC, Contig32822_RC, Contig41570_RC, Contig33551_RC, Contig51882_RC, Contig55258_RC, Contig38866_RC, Contig39595_RC, Contig32213_RC, Contig40232_RC, Contig35235_RC, Contig43254_RC, Contig30378_RC, Contig58423_RC, AF049615, Contig29509_RC, Contig46276_RC, Contig1505_RC, Contig34272_RC, Contig25524_RC, Contig20667_RC, Contig39587_RC, AL050100, AL050107, Contig43246_RC, Contig39730_RC, Contig2226_RC, Contig37895_RC, Contig30513_RC, Contig31242_RC, AL050114, Contig32806_RC, AL050119, Contig21388_RC, Contig14098_RC, Contig61111_RC, Contig40216_RC, AL050122, Contig40591_RC, AL050129, Contig39722_RC, Contig47741_RC, U20180, Contig51400_RC, AL050130, AI478105_RC, Contig39113_RC, AL050136, AL050138, Contig49425_RC, Contig44568_RC, Contig8405_RC, AB023210, AB023211, AB023212, AB023215, AB023217, Contig40208_RC, Contig392_RC, AL050141, Contig45440_RC, U28831, AL050148, AB023222, Contig11812_RC, Contig20560_RC, Contig12541_RC, Contig27710_RC, AL050153, Contig41538_RC, H24256_RC, AB023230, Contig21515_RC, Contig44703_RC, AL050163, AF016267, Contig55744_RC, Contig16893_RC, Contig27559_RC, Contig20552_RC, AL050170, AL050171, AL050173, Contig1239_RC, Contig42402_RC, AF111782, AF111783, Contig40567_RC, AL050187, Contig49175_RC, AB014511, AB014513, AB014514, Z31560, Contig51751_RC, Contig35713_RC, Contig45190_RC, Contig33878_RC, M17323, AB014522, AB014526, Contig52706_RC, AI634099_RC, NM_001204, NM_001205, NM_001208, AB014530, AB014531, Contig12517_RC, AB014538, Contig43724_RC, Contig31577_RC, Contig16268_RC, NM_001215, NM_001217, NM_001219, D82345, NM_018603, NM_018606, NM_018607, NM_018608, AB014542, Contig23701_RC, Contig30239_RC, AB014548, Contig27452_RC, Contig26723_RC, Contig42761_RC, AF015592, NM_001223, Contig38493_RC, NM_001224, NM_001227, NM_018610, NM_018612, NM_018613, NM_018614, NM_018618, AB014550, AB014554, AB014557, AB014559, NM_000500, NM_001230, NM_000501, Contig66904_RC, NM_000503, Contig62776_RC, Contig51208, Contig54757_RC, NM_000506, NM_000508, NM_001237, NM_018621, NM_018622, NM_018623, NM_018624, NM_018628, AB014564, AB014568, Contig27444_RC, NM_000510, NM_000511, Contig57922_RC, NM_000512, NM_001242, NM_000513, NM_000514, NM_000515, NM_001245, Contig5109_RC, NM_001246, NM_000519, NM_001248, NM_001249, NM_018631, NM_017902, NM_017904, NM_018634, NM_017907, NM_018637, NM_017908, NM_017909, Contig58042_RC, AB014578, Contig33771_RC, Contig19191_RC, AB014579, Contig43708_RC, Contig51727_RC, Contig20895_RC, NM_000520, NM_000522, NM_001251, Contig28774_RC, Contig62768_RC, NM_000524, NM_000525, Contig15898_RC, NM_000526, NM_001256, NM_001257, NM_018640, NM_017911, NM_017915, NM_018647, NM_017919, AB014581, AB014586, Contig47602_RC, Contig55621_RC, AB014589, Contig35455_RC, Contig42745_RC, Contig43213, NM_000531, L10333, NM_001264, Contig2454_RC, NM_001266, NM_000537, NM_000539, NM_001269, NM_017923, NM_017924, NM_017925, NM_018655, NM_017927, NM_018657, Contig16161_RC, NM_018659, AB014594, AB014595, AB014597, Contig25744_RC, Contig53177_RC, Y18643, Contig35202, NM_000540, NM_000541, NM_000542, Contig43226, NM_000543, NM_001272, NM_001274, NM_000546, NM_001275, NM_001276, Contig9370_RC, NM_000548, NM_000549, NM_017932, NM_017934, NM_018663, NM_017935, NM_018664, NM_017936, NM_017937, NM_018668, AF260261, NM_018669, Contig51485_RC, Contig43466_RC, Contig39950_RC, NM_000551, Contig51256, NM_001282, Contig2446_RC, NM_001283, Contig50529, NM_000557, NM_000558, NM_000559, NM_017941, NM_017942, NM_017944, NM_017947, NM_017948, NM_018678, NM_017949, NM_018679, Contig46631_RC, Contig54650_RC, Contig35225, NM_000561, NM_000562, NM_001291, NM_001292, NM_000564, NM_000565, NM_001294, NM_001295, NM_000566, NM_001297, NM_001298, NM_000569, NM_017952, Contig30124_RC, NM_017953, NM_018684, NM_018685, Contig54041_RC, Contig53312_RC, NM_018686, NM_018687, Contig14461_RC, Contig21751_RC, NM_018688, Contig56334_RC, AB013897, Contig28149_RC, Contig44187_RC, Contig39942_RC, Contig47961_RC, NM_000572, NM_000573, NM_000576, NM_000578, L10378, NM_017961, Contig9963_RC, NM_018691, NM_018693, Contig43601_RC, NM_017965, NM_017966, NM_018695, NM_017967, Contig32183_RC, Contig38604_RC, Contig42495_RC, Contig41766_RC, Contig56935_RC, NM_000587, NM_000589, Contig30116_RC, Contig237_RC, NM_017975, NM_017976, NM_017977, NM_017979, Contig51290, Contig19768_RC, NM_000590, NM_000591, Contig35256, NM_000593, NM_000595, NM_000598, NM_000599, NM_017980, NM_017982, U62325, Contig45051_RC, NM_017985, Contig20780_RC, NM_017986, NM_017987, NM_017988, Contig27930_RC, Contig46615_RC, Contig33739_RC, Contig26515, NM_017992, Contig13716_RC, L19778, NM_017998, Contig33812, Contig31438_RC, Contig30709_RC, Contig29380_RC, Contig39317_RC, Contig50592, D49676, Contig36061_RC, Contig15166_RC, Contig52934_RC, Contig49395_RC, Contig33833, Contig41852, Contig42582, Contig40930_RC, Contig37016_RC, Contig21493_RC, Contig28643_RC, Contig5954_RC, Contig43343_RC, Contig28034_RC, Contig58512_RC, Contig2323_RC, Contig42005_RC, Contig52317_RC, Contig13466_RC, Contig56820_RC, Contig43944_RC, Contig55339_RC, Contig30001_RC, Contig23169_RC, AI026789_RC, Contig34962_RC, Contig37609_RC, Contig56669_RC, Contig41893, Contig50391_RC, Contig20748_RC, Contig13458_RC, Contig49522_RC, Contig1352_RC, Contig23913_RC, Contig47078_RC, Contig45995_RC, Contig11157_RC, Contig54511_RC, Contig43093_RC, Contig41635_RC, Contig17953_RC, Contig25972_RC, Contig37367_RC, Contig35909_RC, AL050201, AL050202, Contig51338_RC, Contig26927_RC, Contig9824_RC, Contig25894, Contig16006_RC, Contig8861_RC, Contig21604_RC, Contig15043_RC, AL050220, AF103804, Contig48543_RC, Contig47814_RC, Contig21370_RC, Contig40055_RC, S69272, Contig35058_RC, Contig34329_RC, Contig26685_RC, Contig33975_RC, AW083946_RC, Contig14306_RC, Contig30344_RC, Contig46242_RC, Contig52803_RC, AF111849, Contig43678_RC, Contig35659_RC, U37689, Contig60213_RC, Contig22091_RC, M82882, Contig35802_RC, Contig15636_RC, Contig23655_RC, Contig39553_RC, Contig33967_RC, Contig23046_RC, Contig59110_RC, AL050263, AL050268, Contig48527_RC, Contig36523_RC, Contig52561_RC, NM_002000, NM_002001, Contig15628_RC, NM_002002, NM_002004, Contig55583_RC, NM_002006, NM_002007, NM_002009, AB014600, AB015330, AB014601, AB014604, Contig16500_RC, Contig31057_RC, NM_002010, NM_002011, NM_002012, NM_002014, NM_002017, X89399, AB015343, AB015345, Contig42241_RC, Contig20617_RC, Contig52553_RC, NM_002022, NM_002024, NM_002025, AL050297, NM_002028, NM_002029, Contig49849_RC, X87949, Contig34823_RC, Contig21947_RC, NM_002031, NM_001303, NM_002032, NM_002034, Contig38574_RC, NM_001305, NM_001306, NM_002037, Contig25698_RC, NM_002039, Contig41504_RC, Contig14048_RC, Contig29217_RC, Contig37236_RC, NM_002040, NM_001312, NM_002042, Contig29592_RC, Contig39529_RC, Contig48277_RC, NM_001316, NM_002046, NM_001319, NM_002048, NM_002049, NM_018700, NM_018705, AB006624, AB006625, Contig33251_RC, AB006627, NM_001322, NM_002052, NM_002053, NM_001324, NM_002054, NM_001326, NM_002055, NM_002056, AB006630, AB006631, Contig16250_RC, Contig30830_RC, Contig33852_RC, Contig51808_RC, NM_000600, NM_001330, NM_001331, NM_002060, NM_002061, NM_002062, NM_001333, NM_002063, NM_000606, NM_001335, NM_002065, NM_000607, NM_001336, NM_001337, NM_002068, NM_002069, NM_018722, NM_018723, Contig30221_RC, NM_018725, Contig20367_RC, NM_000611, NM_002070, NM_000612, NM_002071, Contig39287_RC, Contig54596_RC, NM_000615, NM_000617, NM_002075, NM_002078, NM_002079, Contig42592_RC, Contig45239_RC, Contig13678_RC, NM_001350, NM_002080, NM_001351, NM_000625, NM_002083, NM_001355, NM_002084, NM_002085, NM_000627, NM_001356, NM_001357, NM_002089, Contig30213_RC, Contig17572_RC, Contig51566_RC, NM_000631, Contig27884_RC, Contig19865_RC, NM_002090, NM_002091, NM_001362, NM_002092, NM_002093, NM_000635, NM_002094, NM_001365, NM_000637, NM_000638, NM_000639, NM_002097, NM_002098, Contig5549_RC, Contig47441_RC, Contig58107_RC, Contig35294_RC, Contig27275_RC, NM_000640, NM_001375, NM_000646, NM_000648, NM_001379, Contig13813_RC, Contig57144_RC, Contig25583_RC, Contig16835_RC, Contig18293_RC, Contig44268_RC, NM_001382, NM_001383, NM_000655, NM_000657, NM_001387, Contig37121_RC, Contig29102_RC, Contig52430_RC, Contig19248_RC, Contig42576_RC, NM_000660, NM_001390, NM_001391, NM_000663, NM_001392, NM_001394, NM_000667, NM_001397, NM_000669, NM_001399, Contig30572_RC, Contig33219_RC, Contig693_RC, Contig39180_RC, Contig32865_RC, AJ243936, NM_000670, NM_000671, NM_000672, NM_000673, NM_000675, NM_000678, NM_000679, Contig13571_RC, Contig12842_RC, Contig31527_RC, Contig66485_RC, NM_000683, NM_000685, NM_000686, NM_000687, NM_000688, NM_000689, U47101, Contig50730_RC, Contig42711_RC, Contig27402_RC, Contig21816_RC, Contig43898_RC, NM_000690, NM_000691, NM_000695, NM_000696, NM_000697, Contig53143_RC, Contig50675, Contig28123_RC, Contig42703_RC, Contig14893_RC, Contig45491_RC, Contig41131_RC, Contig60191_RC, Contig31277_RC, Contig45717_RC, Contig46446_RC, Contig49468_RC, Contig26641, Contig6155_RC, Contig25915, Contig33937, Contig35397, Contig36735_RC, Contig23859_RC, Contig3734_RC, AJ000008, Contig39900_RC, Contig43791_RC, Contig21100_RC, Contig34687, Contig31412_RC, Contig32141_RC, Contig19125_RC, Contig61138_RC, Contig29437_RC, Contig48497_RC, Contig15140_RC, M69043, Contig16704_RC, Contig48640_RC, AF146759, AF146760, Contig1425_RC, Contig9304_RC, V00522, Contig38320_RC, Contig55313_RC, Contig31771_RC, Contig43166_RC, Contig42437_RC, Contig39650_RC, S77356, Contig38169_RC, Contig13898_RC, Contig554_RC, Contig17417_RC, Contig25436_RC, S68616, Contig49353_RC, Contig5311_RC, Contig46789_RC, Contig25991, Contig6641_RC, Contig65008_RC, Contig40737_RC, Contig37198_RC, Contig29179_RC, V00573, Contig30191_RC, Contig14153_RC, Contig44631_RC, Contig48007_RC, Contig18739_RC, Contig27487_RC, Contig57965_RC, Contig20105_RC, Contig8926_RC, Contig36003_RC, Contig23127_RC, Contig19611_RC, Contig29923_RC, Contig25795_RC, Contig52499_RC, AB023420, Contig14145_RC, Contig21435_RC, Contig36604_RC, Contig44623_RC, Contig39626_RC, Contig47645_RC, Contig63683_RC, Contig35498_RC, Contig49938_RC, Contig57957_RC, Contig8083_RC, Contig24600_RC, Contig44014_RC, Contig50950_RC, Contig36370_RC, Contig46307_RC, Contig45953_RC, Contig38663_RC, Contig51070_RC, Contig14137_RC, Contig22156_RC, NM_002100, AL050371, Contig31739_RC, Contig17159_RC, NM_002103, NM_002104, Contig28952_RC, Contig39618_RC, NM_002107, Contig4324_RC, NM_002109, Contig50799_RC, Contig32611_RC, Contig21193_RC, Contig36362_RC, Contig61608_RC, NM_002110, NM_002111, NM_002112, NM_002114, AL050386, Contig45945_RC, AL050389, M33552, Contig58212_RC, Contig53355_RC, AF016495, NM_002121, Contig48358_RC, Contig63667_RC, Contig47629_RC, AL050397, NM_002127, NM_002128, Contig431_RC, Contig49230_RC, Contig35625_RC, Contig42915_RC, NM_001400, NM_002130, NM_001404, Contig8210_RC, NM_002133, NM_002134, Contig38647_RC, NM_001406, NM_002135, Contig34662_RC, Contig54076_RC, NM_001414, Contig52993_RC, NM_001415, Contig49079_RC, NM_002144, NM_001416, NM_002145, Contig16789_RC, NM_002146, NM_001417, NM_001418, NM_001419, NM_002148, Contig9540_RC, NM_002149, Contig21177_RC, Contig52384_RC, Contig35617_RC, Contig51655_RC, NM_001421, NM_001422, NM_002152, AJ245419, NM_002153, NM_001425, NM_001427, Contig40005_RC, Contig50317_RC, Contig11466_RC, Contig18616_RC, NM_000701, NM_000702, NM_001432, NM_000703, NM_000706, NM_002165, NM_001436, NM_001437, NM_002167, NM_002169, NM_019555, NM_019557, NM_019559, Contig26026_RC, AB006746, Contig29048_RC, Contig28319_RC, NM_000710, Contig52143, NM_002170, NM_001441, Contig35984_RC, NM_000713, NM_000714, NM_002173, NM_001444, NM_002175, NM_000718, NM_002176, NM_001449, NM_018834, NM_018835, NM_018836, NM_018839, Contig43019_RC, Contig10729_RC, Contig34646_RC, Contig41936_RC, NM_000720, Contig49815_RC, NM_000721, NM_001451, NM_000723, NM_000724, NM_001453, NM_000725, NM_001454, AI299888_RC, NM_000727, NM_002186, NM_001458, NM_002187, NM_000729, Contig9524_RC, NM_001459, NM_018840, NM_018842, NM_018843, NM_018845, NM_018846, NM_018848, NM_018849, Contig26393_RC, Contig40973_RC, Contig18374_RC, Contig52160, NM_001461, NM_000732, NM_002191, NM_001462, NM_000734, NM_002192, NM_001463, NM_001464, NM_002194, NM_001465, NM_001466, NM_001467, NM_000738, NM_002197, NM_001469, NM_002198, NM_002199, Contig37202_RC, Contig41093_RC, Contig32345_RC, Contig24326_RC, Contig15953_RC, NM_000740, Contig50715, NM_001470, Contig53698_RC, NM_001472, NM_001473, NM_000744, NM_000745, NM_000746, NM_000749, Contig35510_RC, Contig28220_RC, Contig21905_RC, NM_019599, Contig46551_RC, Contig37803_RC, Contig16908_RC, Contig40965_RC, Contig32946_RC, NM_001480, NM_001483, NM_000754, L11285, NM_000757, NM_001486, NM_001487, NM_000758, Contig22025_RC, Contig23964_RC, Contig18967_RC, NM_000760, NM_000761, NM_001492, NM_000765, NM_000766, NM_001496, NM_001498, Contig12314_RC, Contig57584_RC, NM_000771, NM_000774, NM_000775, NM_000777, NM_000778, NM_000779, NM_018891, Contig33810_RC, NM_018894, NM_018896, NM_018898, Contig36832_RC, NM_000780, NM_000782, NM_000785, NM_000786, NM_000787, NM_000788, Contig33201_RC, NM_000789, Contig758_RC, Contig40949_RC, NM_000792, NM_000793, NM_000796, NM_000797, Contig21655_RC, AF229166, Contig5281_RC, AF203032, Contig59403_RC, Contig42768, Contig42542_RC, Contig41813_RC, Contig61227_RC, Contig39838_RC, Contig25541_RC, Contig44226_RC, Contig41805_RC, Contig21639_RC, Contig15078_RC, Contig37537_RC, Contig47849_RC, Contig7558_RC, M77142, Contig23240_RC, Contig25533_RC, AF073931, Contig44593_RC, Contig29284_RC, D16471, Contig38867_RC, Contig32214_RC, Contig8888_RC, Contig27217_RC, Contig30522_RC, Contig31251_RC, Contig11085_RC, AL157421, AL157425, AL157431, Contig6730_RC, AL157439, Contig15580_RC, Contig58182_RC, AL157440, AF138859, AL157449, Contig30280_RC, Contig17264_RC, Contig48471_RC, Contig26847_RC, AL157453, AL157454, X98258, AL157455, Contig8180_RC, AL157457, Contig37888_RC, Contig19700_RC, Contig63171_RC, X98260, Contig56716_RC, X98261, Contig6113_RC, Contig45298_RC, AL157465, AL157468, AL157469, Contig8781_RC, Contig22253_RC, Contig13505_RC, Contig40209_RC, Contig53460_RC, Contig44712_RC, Contig29403_RC, AL157477, Contig619_RC, Contig55144_RC, Contig39106_RC, Contig14835_RC, Contig38752_RC, Contig30264_RC, Contig52723_RC, Contig64118_RC, Contig21891_RC, Contig29770_RC, AL157490, AL157491, Contig2578_RC, Contig52114_RC, Contig43741_RC, Contig44470_RC, Contig38744_RC, Contig49785_RC, Contig40110_RC, Contig51151_RC, Contig10842_RC, Contig26740_RC, Contig8156_RC, Contig44462_RC, Contig19299_RC, Contig33879_RC, Contig28190_RC, Contig14585_RC, NM_002201, NM_002202, NM_002203, NM_002205, Contig63748_RC, NM_002206, NM_002208, Contig42161_RC, Contig43725_RC, NM_002210, NM_002217, NM_002218, Contig57788_RC, NM_019601, NM_019604, NM_019606, NM_019607, Contig25160_RC, Contig11555_RC, Contig26724_RC, Contig22596_RC, NM_002221, NM_002222, NM_002224, Contig37765_RC, NM_019612, NM_019617, NM_019618, Contig21258_RC, Contig60223, NM_002231, NM_001502, NM_001503, NM_002232, NM_001504, Contig54758_RC, NM_001505, NM_002235, NM_001508, NM_002237, NM_019624, Contig41190_RC, Contig11547_RC, Contig60230, NM_001510, NM_001511, NM_002241, NM_001512, NM_001513, Contig37757_RC, NM_001514, NM_002244, NM_001515, NM_001516, NM_002245, NM_001517, NM_002248, NM_001519, NM_018905, NM_018907, Contig15441_RC, Contig42145_RC, AF007872, Contig49670_RC, NM_002250, NM_001521, NM_002251, NM_001522, NM_001523, NM_002254, NM_001525, NM_002255, NM_001526, NM_002256, NM_001528, NM_002257, NM_002258, NM_002259, NM_018910, Contig33163_RC, Contig17125_RC, Contig57080_RC, Contig49061_RC, Contig42746_RC, Contig27437_RC, Contig30599_RC, NM_001530, Contig65934_RC, NM_001532, AF198444, NM_001533, NM_002262, NM_000804, NM_000805, NM_002264, NM_000807, NM_002265, NM_001537, NM_002267, NM_001538, NM_000809, NM_002268, NM_001539, NM_002269, NM_000810, NM_000811, NM_000812, NM_002271, NM_000813, NM_001544, NM_000815, NM_000816, NM_001545, NM_002277, NM_000819, Contig8642_RC, NM_001549, NM_018931, NM_018934, NM_018936, AF092132, AF092137, Contig56343_RC, Contig24782_RC, Contig16763_RC, Contig34719_RC, Contig51486_RC, Contig39951_RC, NM_000821, Contig36215, NM_001552, NM_002281, NM_001553, NM_002282, NM_002283, NM_000826, NM_001555, NM_000827, NM_001557, NM_000828, NM_000829, NM_018941, NM_018945, Contig50900_RC, Y00816, Contig16154_RC, Contig42129_RC, Contig46632_RC, Contig38613_RC, Contig33756_RC, NM_000831, NM_000832, NM_000833, NM_001563, NM_000835, NM_001564, NM_001565, NM_001566, NM_002295, NM_001568, Contig51020_RC, NM_002299, NM_018950, NM_018951, Contig14462_RC, NM_018958, Contig33147_RC, Contig49045_RC, D25217, NM_000841, NM_000842, NM_000843, Contig43527, NM_001572, Contig2439_RC, NM_000844, NM_000848, NM_000849, Contig21143_RC, NM_018961, NM_018965, Contig29022_RC, NM_018967, Contig23436_RC, Contig33748_RC, Contig34477_RC, NM_000851, Contig28228, NM_000853, NM_000856, NM_000857, NM_000858, NM_000859, NM_018973, Contig27330_RC, Contig41910_RC, Contig46015_RC, NM_018976, NM_018977, Contig36913_RC, Contig57056_RC, Contig39935_RC, Contig55973_RC, Contig47954_RC, Contig27788_RC, NM_000861, NM_000862, NM_000863, NM_000866, NM_000867, NM_018983, Contig52342_RC, AJ131244, NM_018986, Contig30718_RC, Contig32176_RC, NM_018988, Contig35950_RC, Contig46616_RC, Contig42488_RC, Contig46991_RC, Contig57657_RC, NM_000871, NM_000872, NM_000873, NM_000875, NM_000876, NM_000877, NM_000879, Contig30109_RC, U63332, NM_018996, Contig30484_RC, NM_000880, Contig36275, NM_000885, Contig42022_RC, NM_000889, Contig37025_RC, Contig44690_RC, Contig46608_RC, Contig56085_RC, Contig47337_RC, NM_000891, NM_000893, NM_000895, NM_000898, NM_000899, Contig36062_RC, AF067420\n"
          ]
        }
      ]
    },
    {
      "cell_type": "code",
      "source": [
        "print(\"Num of features gonna use here is:\", len(feature_names[selected_features]))\n",
        "X_train[:, selected_features].shape"
      ],
      "metadata": {
        "id": "m_AlUe5mSmg2",
        "colab": {
          "base_uri": "https://localhost:8080/"
        },
        "outputId": "2a527b97-8475-43c1-9e02-0dc358fd4045"
      },
      "execution_count": null,
      "outputs": [
        {
          "output_type": "stream",
          "name": "stdout",
          "text": [
            "Num of features gonna use here is: 11751\n"
          ]
        },
        {
          "output_type": "execute_result",
          "data": {
            "text/plain": [
              "(77, 11751)"
            ]
          },
          "metadata": {},
          "execution_count": 60
        }
      ]
    },
    {
      "cell_type": "markdown",
      "source": [
        "**Using SVM**"
      ],
      "metadata": {
        "id": "gtPfTAMrReR3"
      }
    },
    {
      "cell_type": "code",
      "source": [
        "model_selected = SVC()\n",
        "model_all = SVC()\n",
        "X_train = sc.fit_transform(X_train[:, selected_features])\n",
        "X_test = sc.transform(X_test[:, selected_features])\n",
        "model_selected.fit(X_train, y_train)\n",
        "print('Subset accuracy:', model_selected.score(X_test, y_test))\n",
        "\n",
        "model_all.fit(X_train, y_train)\n",
        "print('All Features Accuracy:', model_all.score(X_test, y_test))"
      ],
      "metadata": {
        "id": "gSUQyMqLPxC2",
        "colab": {
          "base_uri": "https://localhost:8080/"
        },
        "outputId": "06bcf369-37eb-4fff-d137-84bd56dbe7bf"
      },
      "execution_count": null,
      "outputs": [
        {
          "output_type": "stream",
          "name": "stdout",
          "text": [
            "Subset accuracy: 0.55\n",
            "All Features Accuracy: 0.55\n"
          ]
        }
      ]
    },
    {
      "cell_type": "code",
      "source": [
        "# plot confusion matrix\n",
        "model_pred = model_selected.predict(X_test)\n",
        "print(confusion_matrix(y_test,model_pred))\n",
        "print('\\n')\n",
        "print(classification_report(y_test,model_pred))\n",
        "plot_confusion_matrix(model_selected, X_test, y_test)\n",
        "print(\"\\n\")\n",
        "# ROC curve\n",
        "plot_roc_curve(model_selected, X_test, y_test)"
      ],
      "metadata": {
        "colab": {
          "base_uri": "https://localhost:8080/",
          "height": 919
        },
        "id": "immbluvmdUFp",
        "outputId": "8d7ccf48-7386-4a77-92ca-51d6295351c0"
      },
      "execution_count": null,
      "outputs": [
        {
          "output_type": "stream",
          "name": "stdout",
          "text": [
            "[[6 6]\n",
            " [3 5]]\n",
            "\n",
            "\n",
            "              precision    recall  f1-score   support\n",
            "\n",
            "         0.0       0.67      0.50      0.57        12\n",
            "         1.0       0.45      0.62      0.53         8\n",
            "\n",
            "    accuracy                           0.55        20\n",
            "   macro avg       0.56      0.56      0.55        20\n",
            "weighted avg       0.58      0.55      0.55        20\n",
            "\n",
            "\n",
            "\n"
          ]
        },
        {
          "output_type": "stream",
          "name": "stderr",
          "text": [
            "/usr/local/lib/python3.7/dist-packages/sklearn/utils/deprecation.py:87: FutureWarning: Function plot_confusion_matrix is deprecated; Function `plot_confusion_matrix` is deprecated in 1.0 and will be removed in 1.2. Use one of the class methods: ConfusionMatrixDisplay.from_predictions or ConfusionMatrixDisplay.from_estimator.\n",
            "  warnings.warn(msg, category=FutureWarning)\n",
            "/usr/local/lib/python3.7/dist-packages/sklearn/utils/deprecation.py:87: FutureWarning: Function plot_roc_curve is deprecated; Function :func:`plot_roc_curve` is deprecated in 1.0 and will be removed in 1.2. Use one of the class methods: :meth:`sklearn.metric.RocCurveDisplay.from_predictions` or :meth:`sklearn.metric.RocCurveDisplay.from_estimator`.\n",
            "  warnings.warn(msg, category=FutureWarning)\n"
          ]
        },
        {
          "output_type": "execute_result",
          "data": {
            "text/plain": [
              "<sklearn.metrics._plot.roc_curve.RocCurveDisplay at 0x7f8d64342e10>"
            ]
          },
          "metadata": {},
          "execution_count": 62
        },
        {
          "output_type": "display_data",
          "data": {
            "text/plain": [
              "<Figure size 432x288 with 2 Axes>"
            ],
            "image/png": "[encoded data removed]"
          },
          "metadata": {}
        },
        {
          "output_type": "display_data",
          "data": {
            "text/plain": [
              "<Figure size 432x288 with 1 Axes>"
            ],
            "image/png": "[encoded data removed]"
          },
          "metadata": {}
        }
      ]
    },
    {
      "cell_type": "code",
      "source": [
        "# Calculate all\n",
        "model_pred = model_selected.predict(X_test)\n",
        "precision,recall,f1_score = evaluate_fn(y_test, model_pred)  # takes y_test and model pred\n",
        "print(\"precision : \",precision,'\\n',\"recall :\",recall,'\\n',\"f1_score :\",f1_score)"
      ],
      "metadata": {
        "colab": {
          "base_uri": "https://localhost:8080/"
        },
        "id": "5HWEXmGRBSy5",
        "outputId": "e1f823b4-3e69-43ea-9e8a-764d9f9e7db9"
      },
      "execution_count": null,
      "outputs": [
        {
          "output_type": "stream",
          "name": "stdout",
          "text": [
            "precision :  0.5 \n",
            " recall : 0.6666666666666666 \n",
            " f1_score : 0.5714285714285715\n"
          ]
        }
      ]
    },
    {
      "cell_type": "markdown",
      "source": [
        "**Using Decision Tree**"
      ],
      "metadata": {
        "id": "myBBPY-_RlFU"
      }
    },
    {
      "cell_type": "code",
      "source": [
        "from sklearn.tree import DecisionTreeClassifier\n",
        "\n",
        "dt_sel = DecisionTreeClassifier(criterion='entropy', random_state=0)\n",
        "dt_all = DecisionTreeClassifier(criterion='entropy', random_state=0)\n",
        "# X_train = sc.fit_transform(X_train[:, selected_features])\n",
        "# X_test = sc.transform(X_test[:, selected_features])\n",
        "dt_sel.fit(X_train, y_train)\n",
        "print('Subset accuracy:', dt_sel.score(X_test, y_test))\n",
        "\n",
        "dt_all.fit(X_train, y_train)\n",
        "print('All Features Accuracy:', dt_all.score(X_test, y_test))"
      ],
      "metadata": {
        "id": "qymhPgMBBNqX",
        "colab": {
          "base_uri": "https://localhost:8080/"
        },
        "outputId": "54eb5db7-90c8-40de-b220-7c67d4a25207"
      },
      "execution_count": null,
      "outputs": [
        {
          "output_type": "stream",
          "name": "stdout",
          "text": [
            "Subset accuracy: 0.65\n",
            "All Features Accuracy: 0.65\n"
          ]
        }
      ]
    },
    {
      "cell_type": "code",
      "source": [
        "# plot confusion matrix\n",
        "model_pred = dt_sel.predict(X_test)\n",
        "print(confusion_matrix(y_test,model_pred))\n",
        "print('\\n')\n",
        "print(classification_report(y_test,model_pred))\n",
        "plot_confusion_matrix(dt_sel, X_test, y_test)\n",
        "print(\"\\n\")\n",
        "# ROC curve\n",
        "plot_roc_curve(dt_sel, X_test, y_test)"
      ],
      "metadata": {
        "colab": {
          "base_uri": "https://localhost:8080/",
          "height": 919
        },
        "id": "3PnUYDS_eKna",
        "outputId": "aaf35e21-6a2f-4871-9a51-5ddd2e7f811d"
      },
      "execution_count": null,
      "outputs": [
        {
          "output_type": "stream",
          "name": "stdout",
          "text": [
            "[[7 5]\n",
            " [2 6]]\n",
            "\n",
            "\n",
            "              precision    recall  f1-score   support\n",
            "\n",
            "         0.0       0.78      0.58      0.67        12\n",
            "         1.0       0.55      0.75      0.63         8\n",
            "\n",
            "    accuracy                           0.65        20\n",
            "   macro avg       0.66      0.67      0.65        20\n",
            "weighted avg       0.68      0.65      0.65        20\n",
            "\n"
          ]
        },
        {
          "output_type": "stream",
          "name": "stderr",
          "text": [
            "/usr/local/lib/python3.7/dist-packages/sklearn/utils/deprecation.py:87: FutureWarning: Function plot_confusion_matrix is deprecated; Function `plot_confusion_matrix` is deprecated in 1.0 and will be removed in 1.2. Use one of the class methods: ConfusionMatrixDisplay.from_predictions or ConfusionMatrixDisplay.from_estimator.\n",
            "  warnings.warn(msg, category=FutureWarning)\n",
            "/usr/local/lib/python3.7/dist-packages/sklearn/utils/deprecation.py:87: FutureWarning: Function plot_roc_curve is deprecated; Function :func:`plot_roc_curve` is deprecated in 1.0 and will be removed in 1.2. Use one of the class methods: :meth:`sklearn.metric.RocCurveDisplay.from_predictions` or :meth:`sklearn.metric.RocCurveDisplay.from_estimator`.\n",
            "  warnings.warn(msg, category=FutureWarning)\n"
          ]
        },
        {
          "output_type": "stream",
          "name": "stdout",
          "text": [
            "\n",
            "\n"
          ]
        },
        {
          "output_type": "execute_result",
          "data": {
            "text/plain": [
              "<sklearn.metrics._plot.roc_curve.RocCurveDisplay at 0x7f8d61b79a90>"
            ]
          },
          "metadata": {},
          "execution_count": 65
        },
        {
          "output_type": "display_data",
          "data": {
            "text/plain": [
              "<Figure size 432x288 with 2 Axes>"
            ],
            "image/png": "[encoded data removed]"
          },
          "metadata": {}
        },
        {
          "output_type": "display_data",
          "data": {
            "text/plain": [
              "<Figure size 432x288 with 1 Axes>"
            ],
            "image/png": "[encoded data removed]"
          },
          "metadata": {}
        }
      ]
    },
    {
      "cell_type": "code",
      "source": [
        "# Calculate all\n",
        "model_pred = dt_sel.predict(X_test)\n",
        "precision,recall,f1_score = evaluate_fn(y_test, model_pred)  # takes y_test and model pred\n",
        "print(\"precision : \",precision,'\\n',\"recall :\",recall,'\\n',\"f1_score :\",f1_score)"
      ],
      "metadata": {
        "colab": {
          "base_uri": "https://localhost:8080/"
        },
        "id": "RMU7Ix8rGVSl",
        "outputId": "cebc6669-2ef9-476f-df9a-e8c5b464b8d7"
      },
      "execution_count": null,
      "outputs": [
        {
          "output_type": "stream",
          "name": "stdout",
          "text": [
            "precision :  0.5833333333333334 \n",
            " recall : 0.7777777777777778 \n",
            " f1_score : 0.6666666666666666\n"
          ]
        }
      ]
    },
    {
      "cell_type": "markdown",
      "source": [
        "**Using Naive Bayes**"
      ],
      "metadata": {
        "id": "UBIxaWG5Fu9n"
      }
    },
    {
      "cell_type": "code",
      "source": [
        "from sklearn.tree import DecisionTreeClassifier\n",
        "\n",
        "gnb_sel = GaussianNB()\n",
        "gnb_all = GaussianNB()\n",
        "# X_train = sc.fit_transform(X_train[:, selected_features])\n",
        "# X_test = sc.transform(X_test[:, selected_features])\n",
        "gnb_sel.fit(X_train, y_train)\n",
        "print('Subset accuracy:', gnb_sel.score(X_test, y_test))\n",
        "\n",
        "gnb_all.fit(X_train, y_train)\n",
        "print('All Features Accuracy:', gnb_all.score(X_test, y_test))"
      ],
      "metadata": {
        "colab": {
          "base_uri": "https://localhost:8080/"
        },
        "id": "_TXJ_g0KFyx-",
        "outputId": "e65453f5-deea-41d2-abff-f3f2cfb46304"
      },
      "execution_count": null,
      "outputs": [
        {
          "output_type": "stream",
          "name": "stdout",
          "text": [
            "Subset accuracy: 0.4\n",
            "All Features Accuracy: 0.4\n"
          ]
        }
      ]
    },
    {
      "cell_type": "code",
      "source": [
        "# plot confusion matrix\n",
        "model_pred = gnb_sel.predict(X_test)\n",
        "print(confusion_matrix(y_test,model_pred))\n",
        "print('\\n')\n",
        "print(classification_report(y_test,model_pred))\n",
        "plot_confusion_matrix(gnb_sel, X_test, y_test)\n",
        "print(\"\\n\")\n",
        "# ROC curve\n",
        "plot_roc_curve(gnb_sel, X_test, y_test)"
      ],
      "metadata": {
        "colab": {
          "base_uri": "https://localhost:8080/",
          "height": 919
        },
        "id": "0BUTIU5XeUE_",
        "outputId": "d36da662-d7a5-4f44-eb44-872edadcbe87"
      },
      "execution_count": null,
      "outputs": [
        {
          "output_type": "stream",
          "name": "stdout",
          "text": [
            "[[7 5]\n",
            " [7 1]]\n",
            "\n",
            "\n",
            "              precision    recall  f1-score   support\n",
            "\n",
            "         0.0       0.50      0.58      0.54        12\n",
            "         1.0       0.17      0.12      0.14         8\n",
            "\n",
            "    accuracy                           0.40        20\n",
            "   macro avg       0.33      0.35      0.34        20\n",
            "weighted avg       0.37      0.40      0.38        20\n",
            "\n"
          ]
        },
        {
          "output_type": "stream",
          "name": "stderr",
          "text": [
            "/usr/local/lib/python3.7/dist-packages/sklearn/utils/deprecation.py:87: FutureWarning: Function plot_confusion_matrix is deprecated; Function `plot_confusion_matrix` is deprecated in 1.0 and will be removed in 1.2. Use one of the class methods: ConfusionMatrixDisplay.from_predictions or ConfusionMatrixDisplay.from_estimator.\n",
            "  warnings.warn(msg, category=FutureWarning)\n"
          ]
        },
        {
          "output_type": "stream",
          "name": "stdout",
          "text": [
            "\n",
            "\n"
          ]
        },
        {
          "output_type": "stream",
          "name": "stderr",
          "text": [
            "/usr/local/lib/python3.7/dist-packages/sklearn/utils/deprecation.py:87: FutureWarning: Function plot_roc_curve is deprecated; Function :func:`plot_roc_curve` is deprecated in 1.0 and will be removed in 1.2. Use one of the class methods: :meth:`sklearn.metric.RocCurveDisplay.from_predictions` or :meth:`sklearn.metric.RocCurveDisplay.from_estimator`.\n",
            "  warnings.warn(msg, category=FutureWarning)\n"
          ]
        },
        {
          "output_type": "execute_result",
          "data": {
            "text/plain": [
              "<sklearn.metrics._plot.roc_curve.RocCurveDisplay at 0x7f8d61a61110>"
            ]
          },
          "metadata": {},
          "execution_count": 68
        },
        {
          "output_type": "display_data",
          "data": {
            "text/plain": [
              "<Figure size 432x288 with 2 Axes>"
            ],
            "image/png": "[encoded data removed]"
          },
          "metadata": {}
        },
        {
          "output_type": "display_data",
          "data": {
            "text/plain": [
              "<Figure size 432x288 with 1 Axes>"
            ],
            "image/png": "[encoded data removed]"
          },
          "metadata": {}
        }
      ]
    },
    {
      "cell_type": "code",
      "source": [
        "# Calculate all\n",
        "model_pred = gnb_sel.predict(X_test)\n",
        "precision,recall,f1_score = evaluate_fn(y_test, model_pred)  # takes y_test and model pred\n",
        "print(\"precision : \",precision,'\\n',\"recall :\",recall,'\\n',\"f1_score :\",f1_score)"
      ],
      "metadata": {
        "colab": {
          "base_uri": "https://localhost:8080/"
        },
        "id": "79op-A6aFy9B",
        "outputId": "19bf2d64-a47f-41ba-e5bc-83da4a5f574b"
      },
      "execution_count": null,
      "outputs": [
        {
          "output_type": "stream",
          "name": "stdout",
          "text": [
            "precision :  0.5833333333333334 \n",
            " recall : 0.5 \n",
            " f1_score : 0.5384615384615384\n"
          ]
        }
      ]
    },
    {
      "cell_type": "markdown",
      "source": [
        "**Using LDA**"
      ],
      "metadata": {
        "id": "3uUeTdCVFzq5"
      }
    },
    {
      "cell_type": "code",
      "source": [
        "lda_sel = LinearDiscriminantAnalysis()\n",
        "lda_all = LinearDiscriminantAnalysis()\n",
        "lda_sel.fit(X_train, y_train)\n",
        "print('Subset accuracy:', lda_sel.score(X_test, y_test))\n",
        "\n",
        "lda_all.fit(X_train, y_train)\n",
        "print('All Features Accuracy:', lda_all.score(X_test, y_test))"
      ],
      "metadata": {
        "colab": {
          "base_uri": "https://localhost:8080/"
        },
        "id": "-C87Bb4zF13W",
        "outputId": "91744100-e5b3-4cdd-c241-22506969bfd0"
      },
      "execution_count": null,
      "outputs": [
        {
          "output_type": "stream",
          "name": "stdout",
          "text": [
            "Subset accuracy: 0.65\n",
            "All Features Accuracy: 0.65\n"
          ]
        }
      ]
    },
    {
      "cell_type": "code",
      "source": [
        "# plot confusion matrix\n",
        "model_pred = lda_sel.predict(X_test)\n",
        "print(confusion_matrix(y_test,model_pred))\n",
        "print('\\n')\n",
        "print(classification_report(y_test,model_pred))\n",
        "plot_confusion_matrix(lda_sel, X_test, y_test)\n",
        "print(\"\\n\")\n",
        "# ROC curve\n",
        "plot_roc_curve(lda_sel, X_test, y_test)"
      ],
      "metadata": {
        "colab": {
          "base_uri": "https://localhost:8080/",
          "height": 919
        },
        "id": "wKTGxpTKecC2",
        "outputId": "1475a0ca-58aa-484a-8708-8299cd79d1cd"
      },
      "execution_count": null,
      "outputs": [
        {
          "output_type": "stream",
          "name": "stdout",
          "text": [
            "[[7 5]\n",
            " [2 6]]\n",
            "\n",
            "\n",
            "              precision    recall  f1-score   support\n",
            "\n",
            "         0.0       0.78      0.58      0.67        12\n",
            "         1.0       0.55      0.75      0.63         8\n",
            "\n",
            "    accuracy                           0.65        20\n",
            "   macro avg       0.66      0.67      0.65        20\n",
            "weighted avg       0.68      0.65      0.65        20\n",
            "\n",
            "\n",
            "\n"
          ]
        },
        {
          "output_type": "stream",
          "name": "stderr",
          "text": [
            "/usr/local/lib/python3.7/dist-packages/sklearn/utils/deprecation.py:87: FutureWarning: Function plot_confusion_matrix is deprecated; Function `plot_confusion_matrix` is deprecated in 1.0 and will be removed in 1.2. Use one of the class methods: ConfusionMatrixDisplay.from_predictions or ConfusionMatrixDisplay.from_estimator.\n",
            "  warnings.warn(msg, category=FutureWarning)\n",
            "/usr/local/lib/python3.7/dist-packages/sklearn/utils/deprecation.py:87: FutureWarning: Function plot_roc_curve is deprecated; Function :func:`plot_roc_curve` is deprecated in 1.0 and will be removed in 1.2. Use one of the class methods: :meth:`sklearn.metric.RocCurveDisplay.from_predictions` or :meth:`sklearn.metric.RocCurveDisplay.from_estimator`.\n",
            "  warnings.warn(msg, category=FutureWarning)\n"
          ]
        },
        {
          "output_type": "execute_result",
          "data": {
            "text/plain": [
              "<sklearn.metrics._plot.roc_curve.RocCurveDisplay at 0x7f8d61b156d0>"
            ]
          },
          "metadata": {},
          "execution_count": 71
        },
        {
          "output_type": "display_data",
          "data": {
            "text/plain": [
              "<Figure size 432x288 with 2 Axes>"
            ],
            "image/png": "[encoded data removed]"
          },
          "metadata": {}
        },
        {
          "output_type": "display_data",
          "data": {
            "text/plain": [
              "<Figure size 432x288 with 1 Axes>"
            ],
            "image/png": "[encoded data removed]"
          },
          "metadata": {}
        }
      ]
    },
    {
      "cell_type": "code",
      "source": [
        "# Calculate all\n",
        "model_pred = lda_sel.predict(X_test)\n",
        "precision,recall,f1_score = evaluate_fn(y_test, model_pred)  # takes y_test and model pred\n",
        "print(\"precision : \",precision,'\\n',\"recall :\",recall,'\\n',\"f1_score :\",f1_score)"
      ],
      "metadata": {
        "colab": {
          "base_uri": "https://localhost:8080/"
        },
        "id": "OCPZ4f32F2BK",
        "outputId": "a8f1f45e-b7a2-4551-d917-074dd920b094"
      },
      "execution_count": null,
      "outputs": [
        {
          "output_type": "stream",
          "name": "stdout",
          "text": [
            "precision :  0.5833333333333334 \n",
            " recall : 0.7777777777777778 \n",
            " f1_score : 0.6666666666666666\n"
          ]
        }
      ]
    },
    {
      "cell_type": "markdown",
      "source": [
        "#### FA-SVM"
      ],
      "metadata": {
        "id": "io40omzuupCu"
      }
    },
    {
      "cell_type": "code",
      "source": [
        "!git clone \"https://github.com/JingweiToo/Wrapper-Feature-Selection-Toolbox-Python.git\""
      ],
      "metadata": {
        "id": "NvFHnselutAC",
        "colab": {
          "base_uri": "https://localhost:8080/"
        },
        "outputId": "eb53bb25-d663-4f55-f4ce-58a853eb8951"
      },
      "execution_count": null,
      "outputs": [
        {
          "output_type": "stream",
          "name": "stdout",
          "text": [
            "Cloning into 'Wrapper-Feature-Selection-Toolbox-Python'...\n",
            "remote: Enumerating objects: 163, done.\u001b[K\n",
            "remote: Counting objects: 100% (61/61), done.\u001b[K\n",
            "remote: Compressing objects: 100% (25/25), done.\u001b[K\n",
            "remote: Total 163 (delta 38), reused 59 (delta 36), pack-reused 102\u001b[K\n",
            "Receiving objects: 100% (163/163), 81.51 KiB | 907.00 KiB/s, done.\n",
            "Resolving deltas: 100% (101/101), done.\n"
          ]
        }
      ]
    },
    {
      "cell_type": "code",
      "source": [
        "%cd \"Wrapper-Feature-Selection-Toolbox-Python\""
      ],
      "metadata": {
        "id": "rUEAUHecutHz",
        "colab": {
          "base_uri": "https://localhost:8080/"
        },
        "outputId": "0c1e9dac-c015-436d-b6fe-e4c32ac08f9f"
      },
      "execution_count": null,
      "outputs": [
        {
          "output_type": "stream",
          "name": "stdout",
          "text": [
            "/content/Wrapper-Feature-Selection-Toolbox-Python\n"
          ]
        }
      ]
    },
    {
      "cell_type": "code",
      "source": [
        "from sklearn.neighbors import KNeighborsClassifier\n",
        "from FS.fa import jfs"
      ],
      "metadata": {
        "id": "NvTCeTmVutPL"
      },
      "execution_count": null,
      "outputs": []
    },
    {
      "cell_type": "code",
      "source": [
        "# grab our features\n",
        "y = data1.Class\n",
        "y = y.values\n",
        "x = data1.drop(['Class'], axis= 1)\n",
        "# x = x.values\n",
        "from sklearn.model_selection import train_test_split\n",
        "x_train, x_test, y_train, y_test = train_test_split(x, y, test_size = 0.2, random_state = 101)\n",
        "print(\"x_train shape: \", x_train.shape)\n",
        "print(\"y_train shape: \", y_train.shape)\n",
        "print(\"x_text: \",x_test.shape)\n",
        "print(\"y_test: \",y_test.shape)"
      ],
      "metadata": {
        "colab": {
          "base_uri": "https://localhost:8080/"
        },
        "id": "5abwbxgEfkNB",
        "outputId": "76b2132a-3716-4d43-df0e-220430c082ad"
      },
      "execution_count": null,
      "outputs": [
        {
          "output_type": "stream",
          "name": "stdout",
          "text": [
            "x_train shape:  (77, 24481)\n",
            "y_train shape:  (77,)\n",
            "x_text:  (20, 24481)\n",
            "y_test:  (20,)\n"
          ]
        }
      ]
    },
    {
      "cell_type": "code",
      "source": [
        "from sklearn.preprocessing import StandardScaler\n",
        "sc = StandardScaler()\n",
        "x_train = sc.fit_transform(x_train)\n",
        "x_test = sc.transform(x_test)"
      ],
      "metadata": {
        "id": "uFnZ3xcwf3ko"
      },
      "execution_count": null,
      "outputs": []
    },
    {
      "cell_type": "code",
      "source": [
        "\n",
        "# x = x.values\n",
        "# y = y.values\n",
        "k = 5\n",
        "alpha  = 1       # constant\n",
        "beta0  = 1       # light amplitude\n",
        "gamma  = 1       # absorbtion coefficient\n",
        "theta  = 0.97    # control alpha\n",
        "\n",
        "N = 10 # number of particles\n",
        "T = 100   # maximum number of iterations\n",
        "fold = {'xt':x_train, 'yt':y_train, 'xv':x_test, 'yv':y_test}\n",
        "x = x.values\n",
        "opts = {'k':k,'fold':fold, 'N':N, 'T':T, 'alpha':alpha, 'beta0':beta0, 'gamma':gamma, 'theta':theta}"
      ],
      "metadata": {
        "id": "J2n2FEODf98p"
      },
      "execution_count": null,
      "outputs": []
    },
    {
      "cell_type": "code",
      "source": [
        "\n",
        "print(type(x))\n",
        "print(type(y))"
      ],
      "metadata": {
        "colab": {
          "base_uri": "https://localhost:8080/"
        },
        "id": "dXTKx45IgQS2",
        "outputId": "4837795a-7319-406e-d4c6-3bfc658bd733"
      },
      "execution_count": null,
      "outputs": [
        {
          "output_type": "stream",
          "name": "stdout",
          "text": [
            "<class 'numpy.ndarray'>\n",
            "<class 'numpy.ndarray'>\n"
          ]
        }
      ]
    },
    {
      "cell_type": "code",
      "source": [
        "# perform feature selection\n",
        "fmdl = jfs(x, y, opts)\n",
        "sf   = fmdl['sf']"
      ],
      "metadata": {
        "id": "BCDr8uU4f-IZ"
      },
      "execution_count": null,
      "outputs": []
    },
    {
      "cell_type": "code",
      "source": [
        "# model with selected features\n",
        "num_train = np.size(x_train, 0)\n",
        "num_valid = np.size(x_test, 0)\n",
        "x_train   = x_train[:, sf]\n",
        "y_train   = y_train.reshape(num_train)  # Solve bug\n",
        "x_valid   = x_test[:, sf]\n",
        "y_valid   = y_test.reshape(num_valid)  # Solve bug"
      ],
      "metadata": {
        "id": "5U3KHQ8Tf-RG"
      },
      "execution_count": null,
      "outputs": []
    },
    {
      "cell_type": "code",
      "source": [
        "# Model\n",
        "model = SVC()\n",
        "model.fit(x_train,y_train)\n",
        "model_pred = model.predict(x_valid)"
      ],
      "metadata": {
        "id": "h3E6nopTiOoz"
      },
      "execution_count": null,
      "outputs": []
    },
    {
      "cell_type": "code",
      "source": [
        "print(confusion_matrix(y_valid,model_pred))\n",
        "print('\\n')\n",
        "print(classification_report(y_valid,model_pred))\n",
        "plot_confusion_matrix(model, x_valid, y_valid)"
      ],
      "metadata": {
        "colab": {
          "base_uri": "https://localhost:8080/",
          "height": 586
        },
        "id": "_X047UrFiRJs",
        "outputId": "538c9db0-fca1-4901-e8bd-17c34ae435ff"
      },
      "execution_count": null,
      "outputs": [
        {
          "output_type": "stream",
          "name": "stdout",
          "text": [
            "[[6 6]\n",
            " [3 5]]\n",
            "\n",
            "\n",
            "              precision    recall  f1-score   support\n",
            "\n",
            "           0       0.67      0.50      0.57        12\n",
            "           1       0.45      0.62      0.53         8\n",
            "\n",
            "    accuracy                           0.55        20\n",
            "   macro avg       0.56      0.56      0.55        20\n",
            "weighted avg       0.58      0.55      0.55        20\n",
            "\n"
          ]
        },
        {
          "output_type": "stream",
          "name": "stderr",
          "text": [
            "/usr/local/lib/python3.7/dist-packages/sklearn/utils/deprecation.py:87: FutureWarning: Function plot_confusion_matrix is deprecated; Function `plot_confusion_matrix` is deprecated in 1.0 and will be removed in 1.2. Use one of the class methods: ConfusionMatrixDisplay.from_predictions or ConfusionMatrixDisplay.from_estimator.\n",
            "  warnings.warn(msg, category=FutureWarning)\n"
          ]
        },
        {
          "output_type": "execute_result",
          "data": {
            "text/plain": [
              "<sklearn.metrics._plot.confusion_matrix.ConfusionMatrixDisplay at 0x7fc46c333c50>"
            ]
          },
          "metadata": {},
          "execution_count": 58
        },
        {
          "output_type": "display_data",
          "data": {
            "text/plain": [
              "<Figure size 432x288 with 2 Axes>"
            ],
            "image/png": "[encoded data removed]"
          },
          "metadata": {
            "needs_background": "light"
          }
        }
      ]
    },
    {
      "cell_type": "code",
      "source": [
        "# ROC curve\n",
        "plot_roc_curve(model, x_valid, y_valid)"
      ],
      "metadata": {
        "colab": {
          "base_uri": "https://localhost:8080/",
          "height": 352
        },
        "id": "CiQbEi4jiRPT",
        "outputId": "97b5062c-0304-419c-d911-a8c82ce6358c"
      },
      "execution_count": null,
      "outputs": [
        {
          "output_type": "stream",
          "name": "stderr",
          "text": [
            "/usr/local/lib/python3.7/dist-packages/sklearn/utils/deprecation.py:87: FutureWarning: Function plot_roc_curve is deprecated; Function :func:`plot_roc_curve` is deprecated in 1.0 and will be removed in 1.2. Use one of the class methods: :meth:`sklearn.metric.RocCurveDisplay.from_predictions` or :meth:`sklearn.metric.RocCurveDisplay.from_estimator`.\n",
            "  warnings.warn(msg, category=FutureWarning)\n"
          ]
        },
        {
          "output_type": "execute_result",
          "data": {
            "text/plain": [
              "<sklearn.metrics._plot.roc_curve.RocCurveDisplay at 0x7fc46c362190>"
            ]
          },
          "metadata": {},
          "execution_count": 59
        },
        {
          "output_type": "display_data",
          "data": {
            "text/plain": [
              "<Figure size 432x288 with 1 Axes>"
            ],
            "image/png": "[encoded data removed]"
          },
          "metadata": {
            "needs_background": "light"
          }
        }
      ]
    },
    {
      "cell_type": "code",
      "source": [
        "# Calculate all\n",
        "precision,recall,f1_score = evaluate_fn(y_valid, model_pred)  # takes y_test and model pred\n",
        "print(\"precision : \",precision,'\\n',\"recall :\",recall,'\\n',\"f1_score :\",f1_score)"
      ],
      "metadata": {
        "colab": {
          "base_uri": "https://localhost:8080/"
        },
        "id": "_54zdUQgiRVP",
        "outputId": "ad0be2e5-4252-4145-db35-feb85d397cee"
      },
      "execution_count": null,
      "outputs": [
        {
          "output_type": "stream",
          "name": "stdout",
          "text": [
            "precision :  0.5 \n",
            " recall : 0.6666666666666666 \n",
            " f1_score : 0.5714285714285715\n"
          ]
        }
      ]
    },
    {
      "cell_type": "code",
      "source": [
        "# Lets see with LDA Classifier\n",
        "lda_sel = LinearDiscriminantAnalysis()\n",
        "lda_all = LinearDiscriminantAnalysis()\n",
        "lda_sel.fit(x_train, y_train)\n",
        "print('Subset accuracy:', lda_sel.score(x_valid, y_valid))\n",
        "\n",
        "lda_all.fit(x_train, y_train)\n",
        "print('All Features Accuracy:', lda_all.score(x_valid, y_valid))"
      ],
      "metadata": {
        "colab": {
          "base_uri": "https://localhost:8080/"
        },
        "id": "pzk0bsLEwR8t",
        "outputId": "e24beed6-fd4d-4729-d6fe-089f14d3d96d"
      },
      "execution_count": null,
      "outputs": [
        {
          "output_type": "stream",
          "name": "stdout",
          "text": [
            "Subset accuracy: 0.65\n",
            "All Features Accuracy: 0.65\n"
          ]
        }
      ]
    },
    {
      "cell_type": "code",
      "source": [
        "lda_pred = lda_sel.predict(x_valid)\n",
        "print(confusion_matrix(y_valid,lda_pred))\n",
        "print('\\n')\n",
        "print(classification_report(y_valid,lda_pred))\n",
        "plot_confusion_matrix(lda_sel, x_valid, y_valid)"
      ],
      "metadata": {
        "colab": {
          "base_uri": "https://localhost:8080/",
          "height": 586
        },
        "id": "Uy_ikyQ6w2de",
        "outputId": "f53e88aa-a89d-41d9-bd43-09cce0246aa6"
      },
      "execution_count": null,
      "outputs": [
        {
          "output_type": "stream",
          "name": "stdout",
          "text": [
            "[[7 5]\n",
            " [2 6]]\n",
            "\n",
            "\n",
            "              precision    recall  f1-score   support\n",
            "\n",
            "           0       0.78      0.58      0.67        12\n",
            "           1       0.55      0.75      0.63         8\n",
            "\n",
            "    accuracy                           0.65        20\n",
            "   macro avg       0.66      0.67      0.65        20\n",
            "weighted avg       0.68      0.65      0.65        20\n",
            "\n"
          ]
        },
        {
          "output_type": "stream",
          "name": "stderr",
          "text": [
            "/usr/local/lib/python3.7/dist-packages/sklearn/utils/deprecation.py:87: FutureWarning: Function plot_confusion_matrix is deprecated; Function `plot_confusion_matrix` is deprecated in 1.0 and will be removed in 1.2. Use one of the class methods: ConfusionMatrixDisplay.from_predictions or ConfusionMatrixDisplay.from_estimator.\n",
            "  warnings.warn(msg, category=FutureWarning)\n"
          ]
        },
        {
          "output_type": "execute_result",
          "data": {
            "text/plain": [
              "<sklearn.metrics._plot.confusion_matrix.ConfusionMatrixDisplay at 0x7fc46c33a490>"
            ]
          },
          "metadata": {},
          "execution_count": 63
        },
        {
          "output_type": "display_data",
          "data": {
            "text/plain": [
              "<Figure size 432x288 with 2 Axes>"
            ],
            "image/png": "[encoded data removed]"
          },
          "metadata": {
            "needs_background": "light"
          }
        }
      ]
    },
    {
      "cell_type": "code",
      "source": [
        "# ROC curve\n",
        "plot_roc_curve(lda_sel, x_valid, y_valid)"
      ],
      "metadata": {
        "colab": {
          "base_uri": "https://localhost:8080/",
          "height": 352
        },
        "id": "N_NIh9DQxCvJ",
        "outputId": "aa21f8e7-0994-4bd1-99ac-cb86182acf28"
      },
      "execution_count": null,
      "outputs": [
        {
          "output_type": "stream",
          "name": "stderr",
          "text": [
            "/usr/local/lib/python3.7/dist-packages/sklearn/utils/deprecation.py:87: FutureWarning: Function plot_roc_curve is deprecated; Function :func:`plot_roc_curve` is deprecated in 1.0 and will be removed in 1.2. Use one of the class methods: :meth:`sklearn.metric.RocCurveDisplay.from_predictions` or :meth:`sklearn.metric.RocCurveDisplay.from_estimator`.\n",
            "  warnings.warn(msg, category=FutureWarning)\n"
          ]
        },
        {
          "output_type": "execute_result",
          "data": {
            "text/plain": [
              "<sklearn.metrics._plot.roc_curve.RocCurveDisplay at 0x7fc46c458750>"
            ]
          },
          "metadata": {},
          "execution_count": 64
        },
        {
          "output_type": "display_data",
          "data": {
            "text/plain": [
              "<Figure size 432x288 with 1 Axes>"
            ],
            "image/png": "[encoded data removed]"
          },
          "metadata": {
            "needs_background": "light"
          }
        }
      ]
    },
    {
      "cell_type": "code",
      "source": [
        "# Calculate all\n",
        "\n",
        "precision,recall,f1_score = evaluate_fn(y_valid, lda_pred)  # takes y_test and model pred\n",
        "print(\"precision : \",precision,'\\n',\"recall :\",recall,'\\n',\"f1_score :\",f1_score)"
      ],
      "metadata": {
        "colab": {
          "base_uri": "https://localhost:8080/"
        },
        "id": "k1G33O5Txy_6",
        "outputId": "a1945e15-9d77-4cbd-fac4-5b4748f4f045"
      },
      "execution_count": null,
      "outputs": [
        {
          "output_type": "stream",
          "name": "stdout",
          "text": [
            "precision :  0.5833333333333334 \n",
            " recall : 0.7777777777777778 \n",
            " f1_score : 0.6666666666666666\n"
          ]
        }
      ]
    },
    {
      "cell_type": "markdown",
      "source": [
        "#### With JAYA Algorithm"
      ],
      "metadata": {
        "id": "x4aLd56HinWe"
      }
    },
    {
      "cell_type": "code",
      "source": [
        "from sklearn.neighbors import KNeighborsClassifier\n",
        "from FS.ja import jfs   # change this to switch algorithm"
      ],
      "metadata": {
        "id": "rqbAaqYEirWw"
      },
      "execution_count": null,
      "outputs": []
    },
    {
      "cell_type": "code",
      "source": [
        "\n",
        "# grab our features\n",
        "# y = data['diagnosis']\n",
        "x = data1.drop(['Class'], axis= 1)\n",
        "from sklearn.model_selection import train_test_split\n",
        "x_train, x_test, y_train, y_test = train_test_split(x, y, test_size = 0.2, random_state = 101)\n",
        "print(\"x_train shape: \", x_train.shape)\n",
        "print(\"y_train shape: \", y_train.shape)\n",
        "print(\"x_text: \",x_test.shape)\n",
        "print(\"y_test: \",y_test.shape)\n",
        "\n",
        "from sklearn.preprocessing import StandardScaler\n",
        "sc = StandardScaler()\n",
        "x_train = sc.fit_transform(x_train)\n",
        "x_test = sc.transform(x_test)"
      ],
      "metadata": {
        "colab": {
          "base_uri": "https://localhost:8080/"
        },
        "id": "1yh-TRZwirbv",
        "outputId": "3812f69b-9328-4b99-a687-9be414703ab4"
      },
      "execution_count": null,
      "outputs": [
        {
          "output_type": "stream",
          "name": "stdout",
          "text": [
            "x_train shape:  (77, 24481)\n",
            "y_train shape:  (77,)\n",
            "x_text:  (20, 24481)\n",
            "y_test:  (20,)\n"
          ]
        }
      ]
    },
    {
      "cell_type": "code",
      "source": [
        "# parameter\n",
        "k    = 5     # k-value in KNN\n",
        "N    = 10    # number of chromosomes\n",
        "T    = 100   # maximum number of generations\n",
        "CR   = 0.8\n",
        "MR   = 0.01\n",
        "fold = {'xt':x_train, 'yt':y_train, 'xv':x_test, 'yv':y_test}\n",
        "x = x.to_numpy()\n",
        "opts = {'k':k, 'fold':fold, 'N':N, 'T':T, 'CR':CR, 'MR':MR}\n"
      ],
      "metadata": {
        "id": "xCiXl0boirg-"
      },
      "execution_count": null,
      "outputs": []
    },
    {
      "cell_type": "code",
      "source": [
        "# y = y.values\n",
        "print(type(x))\n",
        "print(type(y))"
      ],
      "metadata": {
        "id": "5OZjrYLLtEmf"
      },
      "execution_count": null,
      "outputs": []
    },
    {
      "cell_type": "code",
      "source": [
        "# perform feature selection\n",
        "fmdl = jfs(x, y, opts)\n",
        "sf   = fmdl['sf']"
      ],
      "metadata": {
        "colab": {
          "base_uri": "https://localhost:8080/"
        },
        "id": "o3gYC9oHirlr",
        "outputId": "c6a831f3-3c21-45ec-b48e-dd85b2c55743"
      },
      "execution_count": null,
      "outputs": [
        {
          "output_type": "stream",
          "name": "stdout",
          "text": [
            "Generation: 1\n",
            "Best (JA): 0.4504323965524284\n",
            "Generation: 2\n",
            "Best (JA): 0.4009385237531147\n",
            "Generation: 3\n",
            "Best (JA): 0.4009385237531147\n",
            "Generation: 4\n",
            "Best (JA): 0.4009385237531147\n",
            "Generation: 5\n",
            "Best (JA): 0.4009385237531147\n",
            "Generation: 6\n",
            "Best (JA): 0.4009385237531147\n",
            "Generation: 7\n",
            "Best (JA): 0.4009385237531147\n",
            "Generation: 8\n",
            "Best (JA): 0.4009385237531147\n",
            "Generation: 9\n",
            "Best (JA): 0.4009385237531147\n",
            "Generation: 10\n",
            "Best (JA): 0.4009385237531147\n",
            "Generation: 11\n",
            "Best (JA): 0.4009385237531147\n",
            "Generation: 12\n",
            "Best (JA): 0.4009136064703239\n",
            "Generation: 13\n",
            "Best (JA): 0.4009131979902782\n",
            "Generation: 14\n",
            "Best (JA): 0.4009131979902782\n",
            "Generation: 15\n",
            "Best (JA): 0.4009131979902782\n",
            "Generation: 16\n",
            "Best (JA): 0.400907070789592\n",
            "Generation: 17\n",
            "Best (JA): 0.4008919570278992\n",
            "Generation: 18\n",
            "Best (JA): 0.400880928066664\n",
            "Generation: 19\n",
            "Best (JA): 0.400880928066664\n",
            "Generation: 20\n",
            "Best (JA): 0.400880928066664\n",
            "Generation: 21\n",
            "Best (JA): 0.400880928066664\n",
            "Generation: 22\n",
            "Best (JA): 0.40087357542584046\n",
            "Generation: 23\n",
            "Best (JA): 0.40087357542584046\n",
            "Generation: 24\n",
            "Best (JA): 0.40085846166414774\n",
            "Generation: 25\n",
            "Best (JA): 0.40085846166414774\n",
            "Generation: 26\n",
            "Best (JA): 0.4008576447040562\n",
            "Generation: 27\n",
            "Best (JA): 0.4008576447040562\n",
            "Generation: 28\n",
            "Best (JA): 0.4008576447040562\n",
            "Generation: 29\n",
            "Best (JA): 0.4008576447040562\n",
            "Generation: 30\n",
            "Best (JA): 0.4008576447040562\n",
            "Generation: 31\n",
            "Best (JA): 0.40084784118295824\n",
            "Generation: 32\n",
            "Best (JA): 0.4008445733425922\n",
            "Generation: 33\n",
            "Best (JA): 0.4008445733425922\n",
            "Generation: 34\n",
            "Best (JA): 0.4008445733425922\n",
            "Generation: 35\n",
            "Best (JA): 0.4008445733425922\n",
            "Generation: 36\n",
            "Best (JA): 0.4008445733425922\n",
            "Generation: 37\n",
            "Best (JA): 0.4008445733425922\n",
            "Generation: 38\n",
            "Best (JA): 0.4008364037416772\n",
            "Generation: 39\n",
            "Best (JA): 0.4008364037416772\n",
            "Generation: 40\n",
            "Best (JA): 0.4008364037416772\n",
            "Generation: 41\n",
            "Best (JA): 0.4008339528614027\n",
            "Generation: 42\n",
            "Best (JA): 0.4008339528614027\n",
            "Generation: 43\n",
            "Best (JA): 0.4008339528614027\n",
            "Generation: 44\n",
            "Best (JA): 0.4008339528614027\n",
            "Generation: 45\n",
            "Best (JA): 0.4008278256607165\n",
            "Generation: 46\n",
            "Best (JA): 0.4008278256607165\n",
            "Generation: 47\n",
            "Best (JA): 0.4008278256607165\n",
            "Generation: 48\n",
            "Best (JA): 0.4008278256607165\n",
            "Generation: 49\n",
            "Best (JA): 0.4008278256607165\n",
            "Generation: 50\n",
            "Best (JA): 0.4008245578203505\n",
            "Generation: 51\n",
            "Best (JA): 0.4008245578203505\n",
            "Generation: 52\n",
            "Best (JA): 0.4008245578203505\n",
            "Generation: 53\n",
            "Best (JA): 0.4008245578203505\n",
            "Generation: 54\n",
            "Best (JA): 0.40082006453984725\n",
            "Generation: 55\n",
            "Best (JA): 0.400817205179527\n",
            "Generation: 56\n",
            "Best (JA): 0.400817205179527\n",
            "Generation: 57\n",
            "Best (JA): 0.400817205179527\n",
            "Generation: 58\n",
            "Best (JA): 0.400817205179527\n",
            "Generation: 59\n",
            "Best (JA): 0.400817205179527\n",
            "Generation: 60\n",
            "Best (JA): 0.400817205179527\n",
            "Generation: 61\n",
            "Best (JA): 0.400817205179527\n",
            "Generation: 62\n",
            "Best (JA): 0.400817205179527\n",
            "Generation: 63\n",
            "Best (JA): 0.400817205179527\n",
            "Generation: 64\n",
            "Best (JA): 0.400817205179527\n",
            "Generation: 65\n",
            "Best (JA): 0.40080454229810875\n",
            "Generation: 66\n",
            "Best (JA): 0.40080454229810875\n",
            "Generation: 67\n",
            "Best (JA): 0.40080454229810875\n",
            "Generation: 68\n",
            "Best (JA): 0.40080454229810875\n",
            "Generation: 69\n",
            "Best (JA): 0.40080454229810875\n",
            "Generation: 70\n",
            "Best (JA): 0.40080454229810875\n",
            "Generation: 71\n",
            "Best (JA): 0.40080454229810875\n",
            "Generation: 72\n",
            "Best (JA): 0.40080454229810875\n",
            "Generation: 73\n",
            "Best (JA): 0.40080454229810875\n",
            "Generation: 74\n",
            "Best (JA): 0.40080454229810875\n",
            "Generation: 75\n",
            "Best (JA): 0.40080454229810875\n",
            "Generation: 76\n",
            "Best (JA): 0.40080454229810875\n",
            "Generation: 77\n",
            "Best (JA): 0.40080290837792576\n",
            "Generation: 78\n",
            "Best (JA): 0.40080290837792576\n",
            "Generation: 79\n",
            "Best (JA): 0.4007996405375598\n",
            "Generation: 80\n",
            "Best (JA): 0.4007996405375598\n",
            "Generation: 81\n",
            "Best (JA): 0.4007996405375598\n",
            "Generation: 82\n",
            "Best (JA): 0.4007996405375598\n",
            "Generation: 83\n",
            "Best (JA): 0.4007996405375598\n",
            "Generation: 84\n",
            "Best (JA): 0.4007931048568278\n",
            "Generation: 85\n",
            "Best (JA): 0.4007931048568278\n",
            "Generation: 86\n",
            "Best (JA): 0.4007931048568278\n",
            "Generation: 87\n",
            "Best (JA): 0.40079187941669053\n",
            "Generation: 88\n",
            "Best (JA): 0.4007906539765533\n",
            "Generation: 89\n",
            "Best (JA): 0.40078575221600427\n",
            "Generation: 90\n",
            "Best (JA): 0.40078575221600427\n",
            "Generation: 91\n",
            "Best (JA): 0.40078575221600427\n",
            "Generation: 92\n",
            "Best (JA): 0.40078575221600427\n",
            "Generation: 93\n",
            "Best (JA): 0.40078575221600427\n",
            "Generation: 94\n",
            "Best (JA): 0.40078575221600427\n",
            "Generation: 95\n",
            "Best (JA): 0.4007841182958213\n",
            "Generation: 96\n",
            "Best (JA): 0.40078330133572976\n",
            "Generation: 97\n",
            "Best (JA): 0.40078330133572976\n",
            "Generation: 98\n",
            "Best (JA): 0.40078330133572976\n",
            "Generation: 99\n",
            "Best (JA): 0.4007783995751808\n",
            "Generation: 100\n",
            "Best (JA): 0.4007783995751808\n"
          ]
        }
      ]
    },
    {
      "cell_type": "code",
      "source": [
        "# model with selected features\n",
        "num_train = np.size(x_train, 0)\n",
        "num_valid = np.size(x_test, 0)\n",
        "x_train   = x_train[:, sf]\n",
        "y_train   = y_train.reshape(num_train)  # Solve bug\n",
        "x_valid   = x_test[:, sf]\n",
        "y_valid   = y_test.reshape(num_valid)  # Solve bug"
      ],
      "metadata": {
        "id": "QFR3efA0jEHF"
      },
      "execution_count": null,
      "outputs": []
    },
    {
      "cell_type": "code",
      "source": [
        "# Model\n",
        "model = SVC()\n",
        "model.fit(x_train,y_train)\n",
        "model_pred = model.predict(x_valid)"
      ],
      "metadata": {
        "id": "jcdBEXRWjETG"
      },
      "execution_count": null,
      "outputs": []
    },
    {
      "cell_type": "code",
      "source": [
        "print(confusion_matrix(y_valid,model_pred))\n",
        "print('\\n')\n",
        "print(classification_report(y_valid,model_pred))\n",
        "plot_confusion_matrix(model, x_valid, y_valid)"
      ],
      "metadata": {
        "colab": {
          "base_uri": "https://localhost:8080/",
          "height": 586
        },
        "id": "iM4NRhT1jKFY",
        "outputId": "389f6276-833f-4c69-fe4e-aae913ba57c9"
      },
      "execution_count": null,
      "outputs": [
        {
          "output_type": "stream",
          "name": "stdout",
          "text": [
            "[[6 6]\n",
            " [3 5]]\n",
            "\n",
            "\n",
            "              precision    recall  f1-score   support\n",
            "\n",
            "           0       0.67      0.50      0.57        12\n",
            "           1       0.45      0.62      0.53         8\n",
            "\n",
            "    accuracy                           0.55        20\n",
            "   macro avg       0.56      0.56      0.55        20\n",
            "weighted avg       0.58      0.55      0.55        20\n",
            "\n"
          ]
        },
        {
          "output_type": "stream",
          "name": "stderr",
          "text": [
            "/usr/local/lib/python3.7/dist-packages/sklearn/utils/deprecation.py:87: FutureWarning: Function plot_confusion_matrix is deprecated; Function `plot_confusion_matrix` is deprecated in 1.0 and will be removed in 1.2. Use one of the class methods: ConfusionMatrixDisplay.from_predictions or ConfusionMatrixDisplay.from_estimator.\n",
            "  warnings.warn(msg, category=FutureWarning)\n"
          ]
        },
        {
          "output_type": "execute_result",
          "data": {
            "text/plain": [
              "<sklearn.metrics._plot.confusion_matrix.ConfusionMatrixDisplay at 0x7fc46c211f90>"
            ]
          },
          "metadata": {},
          "execution_count": 47
        },
        {
          "output_type": "display_data",
          "data": {
            "text/plain": [
              "<Figure size 432x288 with 2 Axes>"
            ],
            "image/png": "[encoded data removed]"
          },
          "metadata": {
            "needs_background": "light"
          }
        }
      ]
    },
    {
      "cell_type": "code",
      "source": [
        "# ROC curve\n",
        "plot_roc_curve(model, x_valid, y_valid)"
      ],
      "metadata": {
        "colab": {
          "base_uri": "https://localhost:8080/",
          "height": 352
        },
        "id": "aNUBW7bYjKKU",
        "outputId": "8cb4183f-6122-45dd-b767-a5db69d67a75"
      },
      "execution_count": null,
      "outputs": [
        {
          "output_type": "stream",
          "name": "stderr",
          "text": [
            "/usr/local/lib/python3.7/dist-packages/sklearn/utils/deprecation.py:87: FutureWarning: Function plot_roc_curve is deprecated; Function :func:`plot_roc_curve` is deprecated in 1.0 and will be removed in 1.2. Use one of the class methods: :meth:`sklearn.metric.RocCurveDisplay.from_predictions` or :meth:`sklearn.metric.RocCurveDisplay.from_estimator`.\n",
            "  warnings.warn(msg, category=FutureWarning)\n"
          ]
        },
        {
          "output_type": "execute_result",
          "data": {
            "text/plain": [
              "<sklearn.metrics._plot.roc_curve.RocCurveDisplay at 0x7fc46c2846d0>"
            ]
          },
          "metadata": {},
          "execution_count": 50
        },
        {
          "output_type": "display_data",
          "data": {
            "text/plain": [
              "<Figure size 432x288 with 1 Axes>"
            ],
            "image/png": "[encoded data removed]"
          },
          "metadata": {
            "needs_background": "light"
          }
        }
      ]
    },
    {
      "cell_type": "code",
      "source": [
        "# Calculate all\n",
        "precision,recall,f1_score = evaluate_fn(y_valid, model_pred)  # takes y_test and model pred\n",
        "print(\"precision : \",precision,'\\n',\"recall :\",recall,'\\n',\"f1_score :\",f1_score)"
      ],
      "metadata": {
        "colab": {
          "base_uri": "https://localhost:8080/"
        },
        "id": "qIYUyNAQjKQJ",
        "outputId": "0e4987fe-6814-4cb0-99cc-7836097ee68b"
      },
      "execution_count": null,
      "outputs": [
        {
          "output_type": "stream",
          "name": "stdout",
          "text": [
            "precision :  0.5 \n",
            " recall : 0.6666666666666666 \n",
            " f1_score : 0.5714285714285715\n"
          ]
        }
      ]
    },
    {
      "cell_type": "code",
      "source": [
        "%cd .."
      ],
      "metadata": {
        "colab": {
          "base_uri": "https://localhost:8080/"
        },
        "id": "5YHtvaYzjZDo",
        "outputId": "068ad927-ae35-499c-f0a0-a26a6f1be104"
      },
      "execution_count": null,
      "outputs": [
        {
          "output_type": "stream",
          "name": "stdout",
          "text": [
            "/content\n"
          ]
        }
      ]
    },
    {
      "cell_type": "markdown",
      "source": [
        "### With Filters\n",
        "\n",
        "* IG - Information Gain\n",
        "* Chi2\n",
        "* MRMR\n",
        "* Relieff"
      ],
      "metadata": {
        "id": "f8PDdoJpccY3"
      }
    },
    {
      "cell_type": "markdown",
      "source": [
        "#### Information Gain"
      ],
      "metadata": {
        "id": "AUvx8GBzc0ZM"
      }
    },
    {
      "cell_type": "code",
      "source": [
        "from sklearn.datasets import fetch_20newsgroups\n",
        "from sklearn.feature_selection import mutual_info_classif\n",
        "from sklearn.feature_extraction.text import CountVectorizer"
      ],
      "metadata": {
        "id": "iB_CZQq0tEzg"
      },
      "execution_count": null,
      "outputs": []
    },
    {
      "cell_type": "code",
      "source": [
        "x = data1.drop(['Class'], axis = 1)"
      ],
      "metadata": {
        "id": "fsnByHvOjwUw"
      },
      "execution_count": null,
      "outputs": []
    },
    {
      "cell_type": "code",
      "source": [
        "mf = mutual_info_classif(x,y)\n",
        "mf.shape\n",
        "print(mf)"
      ],
      "metadata": {
        "colab": {
          "base_uri": "https://localhost:8080/"
        },
        "id": "02ZL73oFtG9X",
        "outputId": "79b209e5-1a36-45cb-9276-46e58a71b8fb"
      },
      "execution_count": null,
      "outputs": [
        {
          "output_type": "stream",
          "name": "stdout",
          "text": [
            "[0.0046985  0.04246188 0.00458257 ... 0.03413324 0.02545283 0.        ]\n"
          ]
        }
      ]
    },
    {
      "cell_type": "code",
      "source": [
        "mf = pd.Series(mf)\n",
        "mf.index = x.columns"
      ],
      "metadata": {
        "id": "1hvKpApVuFnx"
      },
      "execution_count": null,
      "outputs": []
    },
    {
      "cell_type": "code",
      "source": [
        "mf.sort_values(ascending=False)"
      ],
      "metadata": {
        "colab": {
          "base_uri": "https://localhost:8080/"
        },
        "id": "5y17GyuBuFyM",
        "outputId": "4e596753-4f89-434a-bc89-ccfddf62d87c"
      },
      "execution_count": null,
      "outputs": [
        {
          "output_type": "execute_result",
          "data": {
            "text/plain": [
              "Contig15778_RC    0.273300\n",
              "NM_005333         0.235289\n",
              "NM_013955         0.233981\n",
              "Contig31033_RC    0.233560\n",
              "Contig24311_RC    0.220196\n",
              "                    ...   \n",
              "NM_005360         0.000000\n",
              "Contig51775_RC    0.000000\n",
              "NM_004630         0.000000\n",
              "NM_003901         0.000000\n",
              "Contig15167_RC    0.000000\n",
              "Length: 24481, dtype: float64"
            ]
          },
          "metadata": {},
          "execution_count": 83
        }
      ]
    },
    {
      "cell_type": "code",
      "source": [
        "# !pip install ITMO-FS\n",
        "# !pip install ibmdbpy\n",
        "from sklearn.feature_selection import SelectKBest\n",
        "sub_cols = SelectKBest(mutual_info_classif, k=100)\n",
        "sub_cols.fit(x,y)\n",
        "x.columns[sub_cols.get_support()]"
      ],
      "metadata": {
        "colab": {
          "base_uri": "https://localhost:8080/"
        },
        "id": "ZZiORxUGhAhW",
        "outputId": "eb2793ba-de08-46a2-9e60-797972d5a222"
      },
      "execution_count": null,
      "outputs": [
        {
          "output_type": "execute_result",
          "data": {
            "text/plain": [
              "Index(['Contig25013_RC', 'Contig35692_RC', 'AB033024', 'AB033031', 'AB033032',\n",
              "       'Contig24026_RC', 'Contig46860_RC', 'AB033053', 'Contig28521_RC',\n",
              "       'AB033062',\n",
              "       ...\n",
              "       'Contig50900_RC', 'NM_018958', 'NM_000841', 'NM_000842', 'NM_018964',\n",
              "       'Contig38980_RC', 'NM_000850', 'Contig27788_RC', 'NM_000875',\n",
              "       'Contig30109_RC'],\n",
              "      dtype='object', length=1000)"
            ]
          },
          "metadata": {},
          "execution_count": 85
        }
      ]
    },
    {
      "cell_type": "code",
      "source": [
        "# Our features selected by IG\n",
        "ig_features = x.columns[sub_cols.get_support()]\n",
        "len(ig_features)"
      ],
      "metadata": {
        "colab": {
          "base_uri": "https://localhost:8080/"
        },
        "id": "o8l5BFmhClW_",
        "outputId": "cc49af0f-cdfa-41c1-afbe-6cdbd9d2ecc8"
      },
      "execution_count": null,
      "outputs": [
        {
          "output_type": "execute_result",
          "data": {
            "text/plain": [
              "1000"
            ]
          },
          "metadata": {},
          "execution_count": 86
        }
      ]
    },
    {
      "cell_type": "code",
      "source": [
        "new_x = x[x.columns[sub_cols.get_support()]]\n",
        "print(new_x.shape)\n",
        "print(y.shape)"
      ],
      "metadata": {
        "colab": {
          "base_uri": "https://localhost:8080/"
        },
        "id": "gJL_XjxHwR7x",
        "outputId": "3340f038-5161-48b7-d950-5e9edf77e79f"
      },
      "execution_count": null,
      "outputs": [
        {
          "output_type": "stream",
          "name": "stdout",
          "text": [
            "(97, 1000)\n",
            "(97,)\n"
          ]
        }
      ]
    },
    {
      "cell_type": "code",
      "source": [
        "from sklearn.model_selection import train_test_split\n",
        "x_train, x_test, y_train, y_test = train_test_split(new_x, y, test_size = 0.2, random_state = 101)\n",
        "print(\"x_train shape: \", x_train.shape)\n",
        "print(\"y_train shape: \", y_train.shape)"
      ],
      "metadata": {
        "colab": {
          "base_uri": "https://localhost:8080/"
        },
        "id": "wsVK5Y2fwq1o",
        "outputId": "e864be51-af6a-467e-b706-76829dd84a6f"
      },
      "execution_count": null,
      "outputs": [
        {
          "output_type": "stream",
          "name": "stdout",
          "text": [
            "x_train shape:  (77, 1000)\n",
            "y_train shape:  (77,)\n"
          ]
        }
      ]
    },
    {
      "cell_type": "code",
      "source": [
        "# Data scalling\n",
        "from sklearn.preprocessing import StandardScaler\n",
        "sc = StandardScaler()\n",
        "X_train = sc.fit_transform(x_train)\n",
        "X_test = sc.transform(x_test)"
      ],
      "metadata": {
        "id": "XBekkiT5w3Qn"
      },
      "execution_count": null,
      "outputs": []
    },
    {
      "cell_type": "code",
      "source": [
        "from sklearn.svm import SVC\n",
        "model_SVC= SVC()\n",
        "model_SVC.fit(X_train,y_train)\n",
        "model_pred = model_SVC.predict(X_test)"
      ],
      "metadata": {
        "id": "hKbS9PZuw91r"
      },
      "execution_count": null,
      "outputs": []
    },
    {
      "cell_type": "code",
      "source": [
        "from sklearn.metrics import classification_report, confusion_matrix\n",
        "print(confusion_matrix(y_test,model_pred))\n",
        "print('\\n')\n",
        "print(classification_report(y_test,model_pred))\n",
        "plot_confusion_matrix(model_SVC, X_test, y_test)"
      ],
      "metadata": {
        "colab": {
          "base_uri": "https://localhost:8080/",
          "height": 586
        },
        "id": "rYniMW9qxGg6",
        "outputId": "d953bb74-2095-497c-8815-6adf344f342e"
      },
      "execution_count": null,
      "outputs": [
        {
          "output_type": "stream",
          "name": "stdout",
          "text": [
            "[[6 6]\n",
            " [1 7]]\n",
            "\n",
            "\n",
            "              precision    recall  f1-score   support\n",
            "\n",
            "           0       0.86      0.50      0.63        12\n",
            "           1       0.54      0.88      0.67         8\n",
            "\n",
            "    accuracy                           0.65        20\n",
            "   macro avg       0.70      0.69      0.65        20\n",
            "weighted avg       0.73      0.65      0.65        20\n",
            "\n"
          ]
        },
        {
          "output_type": "stream",
          "name": "stderr",
          "text": [
            "/usr/local/lib/python3.7/dist-packages/sklearn/utils/deprecation.py:87: FutureWarning: Function plot_confusion_matrix is deprecated; Function `plot_confusion_matrix` is deprecated in 1.0 and will be removed in 1.2. Use one of the class methods: ConfusionMatrixDisplay.from_predictions or ConfusionMatrixDisplay.from_estimator.\n",
            "  warnings.warn(msg, category=FutureWarning)\n"
          ]
        },
        {
          "output_type": "execute_result",
          "data": {
            "text/plain": [
              "<sklearn.metrics._plot.confusion_matrix.ConfusionMatrixDisplay at 0x7fc46c521810>"
            ]
          },
          "metadata": {},
          "execution_count": 91
        },
        {
          "output_type": "display_data",
          "data": {
            "text/plain": [
              "<Figure size 432x288 with 2 Axes>"
            ],
            "image/png": "[encoded data removed]"
          },
          "metadata": {
            "needs_background": "light"
          }
        }
      ]
    },
    {
      "cell_type": "code",
      "source": [
        "plot_roc_curve(model_SVC, X_test, y_test)"
      ],
      "metadata": {
        "colab": {
          "base_uri": "https://localhost:8080/",
          "height": 352
        },
        "id": "Ot8qYQGhkCqw",
        "outputId": "b559f08a-f919-432e-f1ff-e4aea813baac"
      },
      "execution_count": null,
      "outputs": [
        {
          "output_type": "stream",
          "name": "stderr",
          "text": [
            "/usr/local/lib/python3.7/dist-packages/sklearn/utils/deprecation.py:87: FutureWarning: Function plot_roc_curve is deprecated; Function :func:`plot_roc_curve` is deprecated in 1.0 and will be removed in 1.2. Use one of the class methods: :meth:`sklearn.metric.RocCurveDisplay.from_predictions` or :meth:`sklearn.metric.RocCurveDisplay.from_estimator`.\n",
            "  warnings.warn(msg, category=FutureWarning)\n"
          ]
        },
        {
          "output_type": "execute_result",
          "data": {
            "text/plain": [
              "<sklearn.metrics._plot.roc_curve.RocCurveDisplay at 0x7fc46c5ad510>"
            ]
          },
          "metadata": {},
          "execution_count": 92
        },
        {
          "output_type": "display_data",
          "data": {
            "text/plain": [
              "<Figure size 432x288 with 1 Axes>"
            ],
            "image/png": "[encoded data removed]"
          },
          "metadata": {
            "needs_background": "light"
          }
        }
      ]
    },
    {
      "cell_type": "code",
      "source": [
        "# Calculate all\n",
        "precision,recall,f1_score = evaluate_fn(y_test, model_pred)  # takes y_test and model pred\n",
        "print(\"precision : \",precision,'\\n',\"recall :\",recall,'\\n',\"f1_score :\",f1_score)"
      ],
      "metadata": {
        "colab": {
          "base_uri": "https://localhost:8080/"
        },
        "id": "AHG1Gm-BC62Z",
        "outputId": "c6a411f6-d1dd-4d1a-b71c-6f7b0ad96898"
      },
      "execution_count": null,
      "outputs": [
        {
          "output_type": "stream",
          "name": "stdout",
          "text": [
            "precision :  0.5 \n",
            " recall : 0.8571428571428571 \n",
            " f1_score : 0.631578947368421\n"
          ]
        }
      ]
    },
    {
      "cell_type": "markdown",
      "source": [
        "#### Chi2 Squre"
      ],
      "metadata": {
        "id": "g1j85uPRiKAc"
      }
    },
    {
      "cell_type": "code",
      "source": [
        "from sklearn.feature_selection import chi2\n",
        "from sklearn.feature_selection import SelectKBest"
      ],
      "metadata": {
        "id": "IEKM2wCo_xp1"
      },
      "execution_count": null,
      "outputs": []
    },
    {
      "cell_type": "code",
      "source": [
        "x = data1.drop(['Class'], axis=1)\n",
        "from sklearn.preprocessing import MinMaxScaler\n",
        "sc = MinMaxScaler()\n",
        "new_x = sc.fit_transform(x)"
      ],
      "metadata": {
        "id": "nt-vn64jAuFN"
      },
      "execution_count": null,
      "outputs": []
    },
    {
      "cell_type": "code",
      "source": [
        "k = 100 #tells ten top features to be selected\n",
        "# Score function Chi2 tells the feature to be selected using Chi Square\n",
        "test = SelectKBest(score_func=chi2, k=k)\n",
        "test.fit(new_x, y)\n",
        "chi2_features = x.columns[test.get_support()]\n",
        "chi2_features"
      ],
      "metadata": {
        "colab": {
          "base_uri": "https://localhost:8080/"
        },
        "id": "1jH94OMt_xuk",
        "outputId": "bba0858d-3b85-4389-be7e-7cbe7b33839b"
      },
      "execution_count": null,
      "outputs": [
        {
          "output_type": "execute_result",
          "data": {
            "text/plain": [
              "Index(['Contig35026_RC', 'Contig36064_RC', 'AB032960', 'Contig42942_RC',\n",
              "       'AL117508', 'AL133575', 'Contig42059_RC', 'Contig13663_RC', 'AL133616',\n",
              "       'Contig39970_RC', 'Contig8629_RC', 'NM_005323', 'NM_013345',\n",
              "       'NM_014095', 'NM_020676', 'NM_005383', 'Contig35903_RC',\n",
              "       'Contig5690_RC', 'Contig39638_RC', 'NM_006105', 'NM_014155',\n",
              "       'NM_005420', 'NM_005425', 'NM_006174', 'Contig39150_RC',\n",
              "       'Contig33441_RC', 'Contig29165_RC', 'NM_006217', 'Contig16416_RC',\n",
              "       'Contig20176_RC', 'Contig27326_RC', 'Contig32073_RC', 'AB029029',\n",
              "       'Contig26232_RC', 'Contig36887_RC', 'NM_020974', 'AK000053',\n",
              "       'NM_004985', 'AL080059', 'Contig25693_RC', 'Contig26291_RC',\n",
              "       'Contig18492_RC', 'Contig12440_RC', 'Contig45932_RC', 'Contig6362_RC',\n",
              "       'NM_007252', 'NM_014565', 'Contig30402', 'Contig34367_RC',\n",
              "       'Contig2087_RC', 'Contig37508_RC', 'Contig23211_RC', 'Contig44564_RC',\n",
              "       'NM_014625', 'NM_006658', 'Contig39984', 'Contig26915_RC',\n",
              "       'Contig8224_RC', 'NM_006794', 'Contig15219_RC', 'L17325',\n",
              "       'Contig20436_RC', 'NM_016298', 'AK000564', 'Contig39217_RC',\n",
              "       'Contig38855_RC', 'Contig14581_RC', 'Contig55725_RC', 'AL049280',\n",
              "       'NM_014926', 'AB028982', 'Contig23158_RC', 'Contig9813_RC',\n",
              "       'Contig34181_RC', 'NM_016529', 'NM_015832', 'Contig36093_RC',\n",
              "       'Contig14701_RC', 'Contig61194_RC', 'Contig42719_RC', 'Contig41633_RC',\n",
              "       'AF119904', 'Contig45376_RC', 'Contig45870_RC', 'Contig33834_RC',\n",
              "       'Contig28472_RC', 'Contig47635_RC', 'Contig42046_RC', 'NM_018308',\n",
              "       'Contig21865_RC', 'NM_017627', 'NM_017658', 'NM_018432', 'NM_017762',\n",
              "       'NM_018580', 'Contig17394_RC', 'Contig43226', 'Contig35256',\n",
              "       'Contig15628_RC', 'Contig43019_RC'],\n",
              "      dtype='object')"
            ]
          },
          "metadata": {},
          "execution_count": 20
        }
      ]
    },
    {
      "cell_type": "code",
      "source": [
        "fit = x[chi2_features]"
      ],
      "metadata": {
        "id": "_eNvMkn0MzV0"
      },
      "execution_count": null,
      "outputs": []
    },
    {
      "cell_type": "code",
      "source": [
        "x_train, x_test, y_train, y_test = train_test_split(fit, y, test_size = 0.2, random_state = 101)\n",
        "print(\"x_train shape: \", x_train.shape)\n",
        "print(\"y_train shape: \", y_train.shape)\n",
        "sc = StandardScaler()\n",
        "X_train = sc.fit_transform(x_train)\n",
        "X_test = sc.transform(x_test)"
      ],
      "metadata": {
        "colab": {
          "base_uri": "https://localhost:8080/"
        },
        "id": "SCrx0B_mAgbP",
        "outputId": "73ae567a-e6ec-45bf-c88c-06cf7ee30197"
      },
      "execution_count": null,
      "outputs": [
        {
          "output_type": "stream",
          "name": "stdout",
          "text": [
            "x_train shape:  (77, 100)\n",
            "y_train shape:  (77,)\n"
          ]
        }
      ]
    },
    {
      "cell_type": "code",
      "source": [
        "from sklearn.svm import SVC\n",
        "from sklearn.metrics import classification_report, confusion_matrix\n",
        "from sklearn.metrics import plot_confusion_matrix\n",
        "\n",
        "\n",
        "model_SVC= SVC()\n",
        "model_SVC.fit(X_train,y_train)\n",
        "\n",
        "model_pred = model_SVC.predict(X_test)\n",
        "print(confusion_matrix(y_test,model_pred))\n",
        "print('\\n')\n",
        "print(classification_report(y_test,model_pred))\n",
        "plot_confusion_matrix(model_SVC, X_test, y_test)"
      ],
      "metadata": {
        "colab": {
          "base_uri": "https://localhost:8080/",
          "height": 586
        },
        "id": "rxbZ6LWjAgo6",
        "outputId": "c1382e2f-4264-4b82-bb73-f61b8eaa35d4"
      },
      "execution_count": null,
      "outputs": [
        {
          "output_type": "stream",
          "name": "stdout",
          "text": [
            "[[8 4]\n",
            " [2 6]]\n",
            "\n",
            "\n",
            "              precision    recall  f1-score   support\n",
            "\n",
            "         0.0       0.80      0.67      0.73        12\n",
            "         1.0       0.60      0.75      0.67         8\n",
            "\n",
            "    accuracy                           0.70        20\n",
            "   macro avg       0.70      0.71      0.70        20\n",
            "weighted avg       0.72      0.70      0.70        20\n",
            "\n"
          ]
        },
        {
          "output_type": "stream",
          "name": "stderr",
          "text": [
            "/usr/local/lib/python3.7/dist-packages/sklearn/utils/deprecation.py:87: FutureWarning: Function plot_confusion_matrix is deprecated; Function `plot_confusion_matrix` is deprecated in 1.0 and will be removed in 1.2. Use one of the class methods: ConfusionMatrixDisplay.from_predictions or ConfusionMatrixDisplay.from_estimator.\n",
            "  warnings.warn(msg, category=FutureWarning)\n"
          ]
        },
        {
          "output_type": "execute_result",
          "data": {
            "text/plain": [
              "<sklearn.metrics._plot.confusion_matrix.ConfusionMatrixDisplay at 0x7fa9ad38a7d0>"
            ]
          },
          "metadata": {},
          "execution_count": 23
        },
        {
          "output_type": "display_data",
          "data": {
            "text/plain": [
              "<Figure size 432x288 with 2 Axes>"
            ],
            "image/png": "[encoded data removed]"
          },
          "metadata": {}
        }
      ]
    },
    {
      "cell_type": "code",
      "source": [
        "plot_roc_curve(model_SVC, X_test, y_test)"
      ],
      "metadata": {
        "colab": {
          "base_uri": "https://localhost:8080/",
          "height": 352
        },
        "id": "2ZFavjw1kPpu",
        "outputId": "ea053d61-e5d5-43d9-ec42-e2e88774d8aa"
      },
      "execution_count": null,
      "outputs": [
        {
          "output_type": "stream",
          "name": "stderr",
          "text": [
            "/usr/local/lib/python3.7/dist-packages/sklearn/utils/deprecation.py:87: FutureWarning: Function plot_roc_curve is deprecated; Function :func:`plot_roc_curve` is deprecated in 1.0 and will be removed in 1.2. Use one of the class methods: :meth:`sklearn.metric.RocCurveDisplay.from_predictions` or :meth:`sklearn.metric.RocCurveDisplay.from_estimator`.\n",
            "  warnings.warn(msg, category=FutureWarning)\n"
          ]
        },
        {
          "output_type": "execute_result",
          "data": {
            "text/plain": [
              "<sklearn.metrics._plot.roc_curve.RocCurveDisplay at 0x7fa9ad37e6d0>"
            ]
          },
          "metadata": {},
          "execution_count": 24
        },
        {
          "output_type": "display_data",
          "data": {
            "text/plain": [
              "<Figure size 432x288 with 1 Axes>"
            ],
            "image/png": "[encoded data removed]"
          },
          "metadata": {}
        }
      ]
    },
    {
      "cell_type": "code",
      "source": [
        "# Calculate all\n",
        "precision,recall,f1_score = evaluate_fn(y_test, model_pred)  # takes y_test and model pred\n",
        "print(\"precision : \",precision,'\\n',\"recall :\",recall,'\\n',\"f1_score :\",f1_score)"
      ],
      "metadata": {
        "colab": {
          "base_uri": "https://localhost:8080/"
        },
        "id": "GwcYaUabDefd",
        "outputId": "561d928f-8aa0-4082-93b4-17fd0c6fe27e"
      },
      "execution_count": null,
      "outputs": [
        {
          "output_type": "stream",
          "name": "stdout",
          "text": [
            "precision :  0.6666666666666666 \n",
            " recall : 0.8 \n",
            " f1_score : 0.7272727272727272\n"
          ]
        }
      ]
    },
    {
      "cell_type": "markdown",
      "source": [
        "#### MRMR"
      ],
      "metadata": {
        "id": "J2WFQqouisUL"
      }
    },
    {
      "cell_type": "code",
      "source": [
        "!pip install pymrmr"
      ],
      "metadata": {
        "id": "wVrBPetmivVO",
        "colab": {
          "base_uri": "https://localhost:8080/"
        },
        "outputId": "08b019c0-76db-4921-96b2-612fcc501da0"
      },
      "execution_count": null,
      "outputs": [
        {
          "output_type": "stream",
          "name": "stdout",
          "text": [
            "Looking in indexes: https://pypi.org/simple, https://us-python.pkg.dev/colab-wheels/public/simple/\n",
            "Collecting pymrmr\n",
            "  Downloading pymrmr-0.1.11.tar.gz (69 kB)\n",
            "\u001b[K     |████████████████████████████████| 69 kB 5.1 MB/s \n",
            "\u001b[?25hRequirement already satisfied: numpy>=1.19.5 in /usr/local/lib/python3.7/dist-packages (from pymrmr) (1.21.6)\n",
            "Building wheels for collected packages: pymrmr\n",
            "  Building wheel for pymrmr (setup.py) ... \u001b[?25l\u001b[?25hdone\n",
            "  Created wheel for pymrmr: filename=pymrmr-0.1.11-cp37-cp37m-linux_x86_64.whl size=276663 sha256=b3646743139b8794ea96aa2d52df5f28daecb67a9cf2a6afa95d8e48b6e95753\n",
            "  Stored in directory: /root/.cache/pip/wheels/81/95/66/05731ac334bc74a1251a727af18eb28dc027217ee817a0cab6\n",
            "Successfully built pymrmr\n",
            "Installing collected packages: pymrmr\n",
            "Successfully installed pymrmr-0.1.11\n"
          ]
        }
      ]
    },
    {
      "cell_type": "code",
      "source": [
        "import pymrmr\n",
        "mrmr_features = pymrmr.mRMR(x, 'MIQ', 100)"
      ],
      "metadata": {
        "id": "_D1ixQSu_1tl"
      },
      "execution_count": null,
      "outputs": []
    },
    {
      "cell_type": "code",
      "source": [
        "new_x = x[mrmr_features]\n",
        "new_x.head()"
      ],
      "metadata": {
        "id": "GHfPj4W3_35C"
      },
      "execution_count": null,
      "outputs": []
    },
    {
      "cell_type": "code",
      "source": [
        "x_train, x_test, y_train, y_test = train_test_split(new_x, y, test_size = 0.2, random_state = 101)\n",
        "print(\"x_train shape: \", x_train.shape)\n",
        "print(\"y_train shape: \", y_train.shape)"
      ],
      "metadata": {
        "colab": {
          "base_uri": "https://localhost:8080/"
        },
        "id": "MoQklKbp-vTH",
        "outputId": "d467f65d-df1b-485b-8a12-d471fbbce71d"
      },
      "execution_count": null,
      "outputs": [
        {
          "output_type": "stream",
          "name": "stdout",
          "text": [
            "x_train shape:  (455, 10)\n",
            "y_train shape:  (455,)\n"
          ]
        }
      ]
    },
    {
      "cell_type": "code",
      "source": [
        "from sklearn.svm import SVC\n",
        "model_SVC= SVC()\n",
        "model_SVC.fit(x_train,y_train)"
      ],
      "metadata": {
        "colab": {
          "base_uri": "https://localhost:8080/"
        },
        "id": "ZeGAlhsG-vXF",
        "outputId": "3cca46ff-1572-4905-a279-d6a42731f96e"
      },
      "execution_count": null,
      "outputs": [
        {
          "output_type": "execute_result",
          "data": {
            "text/plain": [
              "SVC()"
            ]
          },
          "metadata": {},
          "execution_count": 182
        }
      ]
    },
    {
      "cell_type": "code",
      "source": [
        "from sklearn.metrics import classification_report, confusion_matrix\n",
        "from sklearn.metrics import plot_confusion_matrix\n",
        "model_pred = model_SVC.predict(x_test)\n",
        "print(confusion_matrix(y_test,model_pred))\n",
        "print('\\n')\n",
        "print(classification_report(y_test,model_pred))\n",
        "plot_confusion_matrix(model_SVC, x_test, y_test)"
      ],
      "metadata": {
        "colab": {
          "base_uri": "https://localhost:8080/",
          "height": 582
        },
        "id": "xwRMq6QW_BNJ",
        "outputId": "b3b194b9-0fe6-462d-df58-7de25e2d286e"
      },
      "execution_count": null,
      "outputs": [
        {
          "output_type": "stream",
          "name": "stdout",
          "text": [
            "[[72  0]\n",
            " [ 6 36]]\n",
            "\n",
            "\n",
            "              precision    recall  f1-score   support\n",
            "\n",
            "           0       0.92      1.00      0.96        72\n",
            "           1       1.00      0.86      0.92        42\n",
            "\n",
            "    accuracy                           0.95       114\n",
            "   macro avg       0.96      0.93      0.94       114\n",
            "weighted avg       0.95      0.95      0.95       114\n",
            "\n"
          ]
        },
        {
          "output_type": "stream",
          "name": "stderr",
          "text": [
            "/usr/local/lib/python3.7/dist-packages/sklearn/utils/deprecation.py:87: FutureWarning: Function plot_confusion_matrix is deprecated; Function `plot_confusion_matrix` is deprecated in 1.0 and will be removed in 1.2. Use one of the class methods: ConfusionMatrixDisplay.from_predictions or ConfusionMatrixDisplay.from_estimator.\n",
            "  warnings.warn(msg, category=FutureWarning)\n"
          ]
        },
        {
          "output_type": "execute_result",
          "data": {
            "text/plain": [
              "<sklearn.metrics._plot.confusion_matrix.ConfusionMatrixDisplay at 0x7f3b15dfa810>"
            ]
          },
          "metadata": {},
          "execution_count": 183
        },
        {
          "output_type": "display_data",
          "data": {
            "text/plain": [
              "<Figure size 432x288 with 2 Axes>"
            ],
            "image/png": "[encoded data removed]"
          },
          "metadata": {
            "needs_background": "light"
          }
        }
      ]
    },
    {
      "cell_type": "code",
      "source": [
        "plot_roc_curve(model_SVC, x_test, y_test)"
      ],
      "metadata": {
        "colab": {
          "base_uri": "https://localhost:8080/",
          "height": 352
        },
        "id": "DEUizSgAnki4",
        "outputId": "010a4b84-4992-4c49-d736-4b5bc5ed4056"
      },
      "execution_count": null,
      "outputs": [
        {
          "output_type": "stream",
          "name": "stderr",
          "text": [
            "/usr/local/lib/python3.7/dist-packages/sklearn/utils/deprecation.py:87: FutureWarning: Function plot_roc_curve is deprecated; Function :func:`plot_roc_curve` is deprecated in 1.0 and will be removed in 1.2. Use one of the class methods: :meth:`sklearn.metric.RocCurveDisplay.from_predictions` or :meth:`sklearn.metric.RocCurveDisplay.from_estimator`.\n",
            "  warnings.warn(msg, category=FutureWarning)\n"
          ]
        },
        {
          "output_type": "execute_result",
          "data": {
            "text/plain": [
              "<sklearn.metrics._plot.roc_curve.RocCurveDisplay at 0x7f3b15cd1150>"
            ]
          },
          "metadata": {},
          "execution_count": 184
        },
        {
          "output_type": "display_data",
          "data": {
            "text/plain": [
              "<Figure size 432x288 with 1 Axes>"
            ],
            "image/png": "[encoded data removed]"
          },
          "metadata": {
            "needs_background": "light"
          }
        }
      ]
    },
    {
      "cell_type": "code",
      "source": [
        "# Calculate all\n",
        "precision,recall,f1_score = evaluate_fn(y_test, model_pred)  # takes y_test and model pred\n",
        "print(\"precision : \",precision,'\\n',\"recall :\",recall,'\\n',\"f1_score :\",f1_score)"
      ],
      "metadata": {
        "colab": {
          "base_uri": "https://localhost:8080/"
        },
        "id": "C7QCaZH0FugJ",
        "outputId": "04ce94b1-56ed-41ee-e86f-43ac951303ae"
      },
      "execution_count": null,
      "outputs": [
        {
          "output_type": "stream",
          "name": "stdout",
          "text": [
            "precision :  1.0 \n",
            " recall : 0.9230769230769231 \n",
            " f1_score : 0.9600000000000001\n"
          ]
        }
      ]
    },
    {
      "cell_type": "markdown",
      "source": [
        "#### ReliefF"
      ],
      "metadata": {
        "id": "TadaBg2k47BH"
      }
    },
    {
      "cell_type": "code",
      "source": [
        "import numpy as np\n",
        "from sklearn.metrics.pairwise import pairwise_distances\n"
      ],
      "metadata": {
        "id": "Vtn0k53D49kA"
      },
      "execution_count": null,
      "outputs": []
    },
    {
      "cell_type": "code",
      "source": [
        "def reliefF(X, y, **kwargs):\n",
        "    \"\"\"\n",
        "    This function implements the reliefF feature selection\n",
        "    Input\n",
        "    -----\n",
        "    X: {numpy array}, shape (n_samples, n_features)\n",
        "        input data\n",
        "    y: {numpy array}, shape (n_samples,)\n",
        "        input class labels\n",
        "    kwargs: {dictionary}\n",
        "        parameters of reliefF:\n",
        "        k: {int}\n",
        "            choices for the number of neighbors (default k = 5)\n",
        "    Output\n",
        "    ------\n",
        "    score: {numpy array}, shape (n_features,)\n",
        "        reliefF score for each feature\n",
        "    Reference\n",
        "    ---------\n",
        "    Robnik-Sikonja, Marko et al. \"Theoretical and empirical analysis of relieff and rrelieff.\" Machine Learning 2003.\n",
        "    Zhao, Zheng et al. \"On Similarity Preserving Feature Selection.\" TKDE 2013.\n",
        "    \"\"\"\n",
        "\n",
        "    if \"k\" not in kwargs.keys():\n",
        "        k = 5\n",
        "    else:\n",
        "        k = kwargs[\"k\"]\n",
        "    n_samples, n_features = X.shape\n",
        "\n",
        "    # calculate pairwise distances between instances\n",
        "    distance = pairwise_distances(X, metric='manhattan')\n",
        "\n",
        "    score = np.zeros(n_features)\n",
        "\n",
        "    # the number of sampled instances is equal to the number of total instances\n",
        "    for idx in range(n_samples):\n",
        "        near_hit = []\n",
        "        near_miss = dict()\n",
        "\n",
        "        self_fea = X[idx, :]\n",
        "        c = np.unique(y).tolist()\n",
        "\n",
        "        stop_dict = dict()\n",
        "        for label in c:\n",
        "            stop_dict[label] = 0\n",
        "        del c[c.index(y[idx])]\n",
        "\n",
        "        p_dict = dict()\n",
        "        p_label_idx = float(len(y[y == y[idx]]))/float(n_samples)\n",
        "\n",
        "        for label in c:\n",
        "            p_label_c = float(len(y[y == label]))/float(n_samples)\n",
        "            p_dict[label] = p_label_c/(1-p_label_idx)\n",
        "            near_miss[label] = []\n",
        "\n",
        "        distance_sort = []\n",
        "        distance[idx, idx] = np.max(distance[idx, :])\n",
        "\n",
        "        for i in range(n_samples):\n",
        "            distance_sort.append([distance[idx, i], int(i), y[i]])\n",
        "        distance_sort.sort(key=lambda x: x[0])\n",
        "\n",
        "        for i in range(n_samples):\n",
        "            # find k nearest hit points\n",
        "            if distance_sort[i][2] == y[idx]:\n",
        "                if len(near_hit) < k:\n",
        "                    near_hit.append(distance_sort[i][1])\n",
        "                elif len(near_hit) == k:\n",
        "                    stop_dict[y[idx]] = 1\n",
        "            else:\n",
        "                # find k nearest miss points for each label\n",
        "                if len(near_miss[distance_sort[i][2]]) < k:\n",
        "                    near_miss[distance_sort[i][2]].append(distance_sort[i][1])\n",
        "                else:\n",
        "                    if len(near_miss[distance_sort[i][2]]) == k:\n",
        "                        stop_dict[distance_sort[i][2]] = 1\n",
        "            stop = True\n",
        "            for (key, value) in stop_dict.items():\n",
        "                    if value != 1:\n",
        "                        stop = False\n",
        "            if stop:\n",
        "                break\n",
        "\n",
        "        # update reliefF score\n",
        "        near_hit_term = np.zeros(n_features)\n",
        "        for ele in near_hit:\n",
        "            near_hit_term = np.array(abs(self_fea-X[ele, :]))+np.array(near_hit_term)\n",
        "\n",
        "        near_miss_term = dict()\n",
        "        for (label, miss_list) in near_miss.items():\n",
        "            near_miss_term[label] = np.zeros(n_features)\n",
        "            for ele in miss_list:\n",
        "                near_miss_term[label] = np.array(abs(self_fea-X[ele, :]))+np.array(near_miss_term[label])\n",
        "            score += near_miss_term[label]/(k*p_dict[label])\n",
        "        score -= near_hit_term/k\n",
        "    return score\n",
        "\n"
      ],
      "metadata": {
        "id": "aZkF8Oe24_8p"
      },
      "execution_count": null,
      "outputs": []
    },
    {
      "cell_type": "code",
      "source": [
        "def feature_ranking(score):\n",
        "    \"\"\"\n",
        "    Rank features in descending order according to reliefF score, the higher the reliefF score, the more important the\n",
        "    feature is\n",
        "    \"\"\"\n",
        "    idx = np.argsort(score, 0)\n",
        "    return idx[::-1]"
      ],
      "metadata": {
        "id": "TMvGetay5Obx"
      },
      "execution_count": null,
      "outputs": []
    },
    {
      "cell_type": "code",
      "source": [
        "\n",
        "sc = StandardScaler()\n",
        "X = sc.fit_transform(x)\n",
        "score = reliefF(X,y)\n",
        "print(score)\n",
        "features = feature_ranking(score)"
      ],
      "metadata": {
        "id": "TuZe2ML65Soe",
        "colab": {
          "base_uri": "https://localhost:8080/"
        },
        "outputId": "5c380daf-d3c9-4df5-ff86-1f54043a69b4"
      },
      "execution_count": null,
      "outputs": [
        {
          "output_type": "stream",
          "name": "stdout",
          "text": [
            "[254.39032264 200.07750823 252.91087754 247.27037674 100.03014521\n",
            "  77.0800256  180.29322258 223.3336261   56.04344154  91.42809017\n",
            " 175.11461131  77.90516915 148.70352232 174.94286271  90.11665372\n",
            "  39.81815585  59.80770494  66.25009336  89.9879412   55.49833053\n",
            " 327.59209609 298.13115652 315.26838549 302.17682738 163.23767029\n",
            " 103.38411628 188.67706861 254.96556352  93.46339215  56.4312569 ]\n"
          ]
        }
      ]
    },
    {
      "cell_type": "code",
      "source": [
        "print(len(features))\n",
        "print(type(features))\n",
        "print(features)"
      ],
      "metadata": {
        "colab": {
          "base_uri": "https://localhost:8080/"
        },
        "id": "fAdCyfpX6jZL",
        "outputId": "4305d025-ece4-4c74-d79f-232760a04cab"
      },
      "execution_count": null,
      "outputs": [
        {
          "output_type": "stream",
          "name": "stdout",
          "text": [
            "30\n",
            "<class 'numpy.ndarray'>\n",
            "[20 22 23 21 27  0  2  3  7  1 26  6 10 13 24 12 25  4 28  9 14 18 11  5\n",
            " 17 16 29  8 19 15]\n"
          ]
        }
      ]
    },
    {
      "cell_type": "markdown",
      "source": [
        "now we got our score for all features. So lets take 10 of them"
      ],
      "metadata": {
        "id": "VKzR7Pmx6Cws"
      }
    },
    {
      "cell_type": "code",
      "source": [
        "# def filter_where(arr, k):\n",
        "#     return arr[np.where(arr > k)]\n",
        "# def find_top_ten(arr,n):\n",
        "  # sorted array\n",
        "  # sorted_index_array = np.argsort(arr)\n",
        "  # sorted_array = arr[sorted_index_array]\n",
        "  # take n largest value\n",
        "  # rslt = arr.argsort()[-n:][::-1]\n",
        "  # return rslt"
      ],
      "metadata": {
        "id": "Sgn2gd-l5Yms"
      },
      "execution_count": null,
      "outputs": []
    },
    {
      "cell_type": "code",
      "source": [
        "feat_top_thou = features[:100]\n",
        "feat_top_thou"
      ],
      "metadata": {
        "colab": {
          "base_uri": "https://localhost:8080/"
        },
        "id": "meEI3PsR55ep",
        "outputId": "eb97f6a6-bc45-4936-edd0-1489974e0fa9"
      },
      "execution_count": null,
      "outputs": [
        {
          "output_type": "execute_result",
          "data": {
            "text/plain": [
              "array([20, 22, 23, 21, 27,  0,  2,  3,  7,  1])"
            ]
          },
          "metadata": {},
          "execution_count": 170
        }
      ]
    },
    {
      "cell_type": "markdown",
      "source": [
        "got the indexes now we just need to grab the corresponding columns"
      ],
      "metadata": {
        "id": "uscg5YvF-BzZ"
      }
    },
    {
      "cell_type": "code",
      "source": [
        "relieff_features = []\n",
        "for key, val in col_dict.items():\n",
        "  if key in feat_top_thou:\n",
        "    relieff_features.append(col_dict.get(key))"
      ],
      "metadata": {
        "id": "5tze2rdI7TWp"
      },
      "execution_count": null,
      "outputs": []
    },
    {
      "cell_type": "code",
      "source": [
        "# These are the selected features that we gonna use for training\n",
        "relieff_features"
      ],
      "metadata": {
        "colab": {
          "base_uri": "https://localhost:8080/"
        },
        "id": "dfhcsFZfvhWy",
        "outputId": "eb29a1a4-7e6c-4212-9f47-010256fb7422"
      },
      "execution_count": null,
      "outputs": [
        {
          "output_type": "execute_result",
          "data": {
            "text/plain": [
              "['radius_mean',\n",
              " 'texture_mean',\n",
              " 'perimeter_mean',\n",
              " 'area_mean',\n",
              " 'concave points_mean',\n",
              " 'radius_worst',\n",
              " 'texture_worst',\n",
              " 'perimeter_worst',\n",
              " 'area_worst',\n",
              " 'concave points_worst']"
            ]
          },
          "metadata": {},
          "execution_count": 172
        }
      ]
    },
    {
      "cell_type": "code",
      "source": [
        "# grab the train set\n",
        "x = data1.drop(['Class'], axis= 1)\n",
        "# filter out selected features\n",
        "new_x = x[relieff_features]\n",
        "new_x.head()"
      ],
      "metadata": {
        "colab": {
          "base_uri": "https://localhost:8080/",
          "height": 267
        },
        "id": "qs3zLubsxzDw",
        "outputId": "2adca12c-8d1c-4b56-cd4d-2cb78261e402"
      },
      "execution_count": null,
      "outputs": [
        {
          "output_type": "execute_result",
          "data": {
            "text/plain": [
              "   radius_mean  texture_mean  perimeter_mean  area_mean  concave points_mean  \\\n",
              "0        17.99         10.38          122.80     1001.0              0.14710   \n",
              "1        20.57         17.77          132.90     1326.0              0.07017   \n",
              "2        19.69         21.25          130.00     1203.0              0.12790   \n",
              "3        11.42         20.38           77.58      386.1              0.10520   \n",
              "4        20.29         14.34          135.10     1297.0              0.10430   \n",
              "\n",
              "   radius_worst  texture_worst  perimeter_worst  area_worst  \\\n",
              "0         25.38          17.33           184.60      2019.0   \n",
              "1         24.99          23.41           158.80      1956.0   \n",
              "2         23.57          25.53           152.50      1709.0   \n",
              "3         14.91          26.50            98.87       567.7   \n",
              "4         22.54          16.67           152.20      1575.0   \n",
              "\n",
              "   concave points_worst  \n",
              "0                0.2654  \n",
              "1                0.1860  \n",
              "2                0.2430  \n",
              "3                0.2575  \n",
              "4                0.1625  "
            ],
            "text/html": [
              "\n",
              "  <div id=\"df-83800c70-36c6-454e-8134-8df92f1bf897\">\n",
              "    <div class=\"colab-df-container\">\n",
              "      <div>\n",
              "<style scoped>\n",
              "    .dataframe tbody tr th:only-of-type {\n",
              "        vertical-align: middle;\n",
              "    }\n",
              "\n",
              "    .dataframe tbody tr th {\n",
              "        vertical-align: top;\n",
              "    }\n",
              "\n",
              "    .dataframe thead th {\n",
              "        text-align: right;\n",
              "    }\n",
              "</style>\n",
              "<table border=\"1\" class=\"dataframe\">\n",
              "  <thead>\n",
              "    <tr style=\"text-align: right;\">\n",
              "      <th></th>\n",
              "      <th>radius_mean</th>\n",
              "      <th>texture_mean</th>\n",
              "      <th>perimeter_mean</th>\n",
              "      <th>area_mean</th>\n",
              "      <th>concave points_mean</th>\n",
              "      <th>radius_worst</th>\n",
              "      <th>texture_worst</th>\n",
              "      <th>perimeter_worst</th>\n",
              "      <th>area_worst</th>\n",
              "      <th>concave points_worst</th>\n",
              "    </tr>\n",
              "  </thead>\n",
              "  <tbody>\n",
              "    <tr>\n",
              "      <th>0</th>\n",
              "      <td>17.99</td>\n",
              "      <td>10.38</td>\n",
              "      <td>122.80</td>\n",
              "      <td>1001.0</td>\n",
              "      <td>0.14710</td>\n",
              "      <td>25.38</td>\n",
              "      <td>17.33</td>\n",
              "      <td>184.60</td>\n",
              "      <td>2019.0</td>\n",
              "      <td>0.2654</td>\n",
              "    </tr>\n",
              "    <tr>\n",
              "      <th>1</th>\n",
              "      <td>20.57</td>\n",
              "      <td>17.77</td>\n",
              "      <td>132.90</td>\n",
              "      <td>1326.0</td>\n",
              "      <td>0.07017</td>\n",
              "      <td>24.99</td>\n",
              "      <td>23.41</td>\n",
              "      <td>158.80</td>\n",
              "      <td>1956.0</td>\n",
              "      <td>0.1860</td>\n",
              "    </tr>\n",
              "    <tr>\n",
              "      <th>2</th>\n",
              "      <td>19.69</td>\n",
              "      <td>21.25</td>\n",
              "      <td>130.00</td>\n",
              "      <td>1203.0</td>\n",
              "      <td>0.12790</td>\n",
              "      <td>23.57</td>\n",
              "      <td>25.53</td>\n",
              "      <td>152.50</td>\n",
              "      <td>1709.0</td>\n",
              "      <td>0.2430</td>\n",
              "    </tr>\n",
              "    <tr>\n",
              "      <th>3</th>\n",
              "      <td>11.42</td>\n",
              "      <td>20.38</td>\n",
              "      <td>77.58</td>\n",
              "      <td>386.1</td>\n",
              "      <td>0.10520</td>\n",
              "      <td>14.91</td>\n",
              "      <td>26.50</td>\n",
              "      <td>98.87</td>\n",
              "      <td>567.7</td>\n",
              "      <td>0.2575</td>\n",
              "    </tr>\n",
              "    <tr>\n",
              "      <th>4</th>\n",
              "      <td>20.29</td>\n",
              "      <td>14.34</td>\n",
              "      <td>135.10</td>\n",
              "      <td>1297.0</td>\n",
              "      <td>0.10430</td>\n",
              "      <td>22.54</td>\n",
              "      <td>16.67</td>\n",
              "      <td>152.20</td>\n",
              "      <td>1575.0</td>\n",
              "      <td>0.1625</td>\n",
              "    </tr>\n",
              "  </tbody>\n",
              "</table>\n",
              "</div>\n",
              "      <button class=\"colab-df-convert\" onclick=\"convertToInteractive('df-83800c70-36c6-454e-8134-8df92f1bf897')\"\n",
              "              title=\"Convert this dataframe to an interactive table.\"\n",
              "              style=\"display:none;\">\n",
              "        \n",
              "  <svg xmlns=\"http://www.w3.org/2000/svg\" height=\"24px\"viewBox=\"0 0 24 24\"\n",
              "       width=\"24px\">\n",
              "    <path d=\"M0 0h24v24H0V0z\" fill=\"none\"/>\n",
              "    <path d=\"M18.56 5.44l.94 2.06.94-2.06 2.06-.94-2.06-.94-.94-2.06-.94 2.06-2.06.94zm-11 1L8.5 8.5l.94-2.06 2.06-.94-2.06-.94L8.5 2.5l-.94 2.06-2.06.94zm10 10l.94 2.06.94-2.06 2.06-.94-2.06-.94-.94-2.06-.94 2.06-2.06.94z\"/><path d=\"M17.41 7.96l-1.37-1.37c-.4-.4-.92-.59-1.43-.59-.52 0-1.04.2-1.43.59L10.3 9.45l-7.72 7.72c-.78.78-.78 2.05 0 2.83L4 21.41c.39.39.9.59 1.41.59.51 0 1.02-.2 1.41-.59l7.78-7.78 2.81-2.81c.8-.78.8-2.07 0-2.86zM5.41 20L4 18.59l7.72-7.72 1.47 1.35L5.41 20z\"/>\n",
              "  </svg>\n",
              "      </button>\n",
              "      \n",
              "  <style>\n",
              "    .colab-df-container {\n",
              "      display:flex;\n",
              "      flex-wrap:wrap;\n",
              "      gap: 12px;\n",
              "    }\n",
              "\n",
              "    .colab-df-convert {\n",
              "      background-color: #E8F0FE;\n",
              "      border: none;\n",
              "      border-radius: 50%;\n",
              "      cursor: pointer;\n",
              "      display: none;\n",
              "      fill: #1967D2;\n",
              "      height: 32px;\n",
              "      padding: 0 0 0 0;\n",
              "      width: 32px;\n",
              "    }\n",
              "\n",
              "    .colab-df-convert:hover {\n",
              "      background-color: #E2EBFA;\n",
              "      box-shadow: 0px 1px 2px rgba(60, 64, 67, 0.3), 0px 1px 3px 1px rgba(60, 64, 67, 0.15);\n",
              "      fill: #174EA6;\n",
              "    }\n",
              "\n",
              "    [theme=dark] .colab-df-convert {\n",
              "      background-color: #3B4455;\n",
              "      fill: #D2E3FC;\n",
              "    }\n",
              "\n",
              "    [theme=dark] .colab-df-convert:hover {\n",
              "      background-color: #434B5C;\n",
              "      box-shadow: 0px 1px 3px 1px rgba(0, 0, 0, 0.15);\n",
              "      filter: drop-shadow(0px 1px 2px rgba(0, 0, 0, 0.3));\n",
              "      fill: #FFFFFF;\n",
              "    }\n",
              "  </style>\n",
              "\n",
              "      <script>\n",
              "        const buttonEl =\n",
              "          document.querySelector('#df-83800c70-36c6-454e-8134-8df92f1bf897 button.colab-df-convert');\n",
              "        buttonEl.style.display =\n",
              "          google.colab.kernel.accessAllowed ? 'block' : 'none';\n",
              "\n",
              "        async function convertToInteractive(key) {\n",
              "          const element = document.querySelector('#df-83800c70-36c6-454e-8134-8df92f1bf897');\n",
              "          const dataTable =\n",
              "            await google.colab.kernel.invokeFunction('convertToInteractive',\n",
              "                                                     [key], {});\n",
              "          if (!dataTable) return;\n",
              "\n",
              "          const docLinkHtml = 'Like what you see? Visit the ' +\n",
              "            '<a target=\"_blank\" href=https://colab.research.google.com/notebooks/data_table.ipynb>data table notebook</a>'\n",
              "            + ' to learn more about interactive tables.';\n",
              "          element.innerHTML = '';\n",
              "          dataTable['output_type'] = 'display_data';\n",
              "          await google.colab.output.renderOutput(dataTable, element);\n",
              "          const docLink = document.createElement('div');\n",
              "          docLink.innerHTML = docLinkHtml;\n",
              "          element.appendChild(docLink);\n",
              "        }\n",
              "      </script>\n",
              "    </div>\n",
              "  </div>\n",
              "  "
            ]
          },
          "metadata": {},
          "execution_count": 173
        }
      ]
    },
    {
      "cell_type": "code",
      "source": [
        "# Train test split\n",
        "x_train, x_test, y_train, y_test = train_test_split(new_x, y, test_size = 0.2, random_state = 101)\n",
        "print(\"x_train shape: \", x_train.shape)\n",
        "print(\"y_train shape: \", y_train.shape)\n",
        "sc = StandardScaler()\n",
        "x_train = sc.fit_transform(x_train)\n",
        "x_test = sc.transform(x_test)"
      ],
      "metadata": {
        "colab": {
          "base_uri": "https://localhost:8080/"
        },
        "id": "N7vgUFfCyXDl",
        "outputId": "4671652d-bb2a-4b30-87a7-44b21c00fcf8"
      },
      "execution_count": null,
      "outputs": [
        {
          "output_type": "stream",
          "name": "stdout",
          "text": [
            "x_train shape:  (455, 10)\n",
            "y_train shape:  (455,)\n"
          ]
        }
      ]
    },
    {
      "cell_type": "code",
      "source": [
        "from sklearn.svm import SVC\n",
        "model_SVC= SVC()\n",
        "model_SVC.fit(x_train,y_train)"
      ],
      "metadata": {
        "colab": {
          "base_uri": "https://localhost:8080/"
        },
        "id": "ZpSDxlrfzLdc",
        "outputId": "d63b0a9c-a28c-4691-a03b-0d384ce9eeb7"
      },
      "execution_count": null,
      "outputs": [
        {
          "output_type": "execute_result",
          "data": {
            "text/plain": [
              "SVC()"
            ]
          },
          "metadata": {},
          "execution_count": 175
        }
      ]
    },
    {
      "cell_type": "code",
      "source": [
        "from sklearn.metrics import classification_report, confusion_matrix\n",
        "from sklearn.metrics import plot_confusion_matrix\n",
        "model_pred = model_SVC.predict(x_test)\n",
        "print(confusion_matrix(y_test,model_pred))\n",
        "print('\\n')\n",
        "print(classification_report(y_test,model_pred))\n",
        "plot_confusion_matrix(model_SVC, x_test, y_test)"
      ],
      "metadata": {
        "colab": {
          "base_uri": "https://localhost:8080/",
          "height": 583
        },
        "id": "bfQC-ZXEzR15",
        "outputId": "56df6687-21c1-4d0a-bff5-74a406caa671"
      },
      "execution_count": null,
      "outputs": [
        {
          "output_type": "stream",
          "name": "stdout",
          "text": [
            "[[71  1]\n",
            " [ 1 41]]\n",
            "\n",
            "\n",
            "              precision    recall  f1-score   support\n",
            "\n",
            "           0       0.99      0.99      0.99        72\n",
            "           1       0.98      0.98      0.98        42\n",
            "\n",
            "    accuracy                           0.98       114\n",
            "   macro avg       0.98      0.98      0.98       114\n",
            "weighted avg       0.98      0.98      0.98       114\n",
            "\n"
          ]
        },
        {
          "output_type": "stream",
          "name": "stderr",
          "text": [
            "/usr/local/lib/python3.7/dist-packages/sklearn/utils/deprecation.py:87: FutureWarning: Function plot_confusion_matrix is deprecated; Function `plot_confusion_matrix` is deprecated in 1.0 and will be removed in 1.2. Use one of the class methods: ConfusionMatrixDisplay.from_predictions or ConfusionMatrixDisplay.from_estimator.\n",
            "  warnings.warn(msg, category=FutureWarning)\n"
          ]
        },
        {
          "output_type": "execute_result",
          "data": {
            "text/plain": [
              "<sklearn.metrics._plot.confusion_matrix.ConfusionMatrixDisplay at 0x7f3b15b01750>"
            ]
          },
          "metadata": {},
          "execution_count": 176
        },
        {
          "output_type": "display_data",
          "data": {
            "text/plain": [
              "<Figure size 432x288 with 2 Axes>"
            ],
            "image/png": "[encoded data removed]"
          },
          "metadata": {
            "needs_background": "light"
          }
        }
      ]
    },
    {
      "cell_type": "code",
      "source": [
        "plot_roc_curve(model_SVC, x_test, y_test)"
      ],
      "metadata": {
        "colab": {
          "base_uri": "https://localhost:8080/",
          "height": 352
        },
        "id": "89f3cb9PnwF1",
        "outputId": "283f48dd-816d-452b-d0fc-91d1943cdf86"
      },
      "execution_count": null,
      "outputs": [
        {
          "output_type": "stream",
          "name": "stderr",
          "text": [
            "/usr/local/lib/python3.7/dist-packages/sklearn/utils/deprecation.py:87: FutureWarning: Function plot_roc_curve is deprecated; Function :func:`plot_roc_curve` is deprecated in 1.0 and will be removed in 1.2. Use one of the class methods: :meth:`sklearn.metric.RocCurveDisplay.from_predictions` or :meth:`sklearn.metric.RocCurveDisplay.from_estimator`.\n",
            "  warnings.warn(msg, category=FutureWarning)\n"
          ]
        },
        {
          "output_type": "execute_result",
          "data": {
            "text/plain": [
              "<sklearn.metrics._plot.roc_curve.RocCurveDisplay at 0x7f3b15bab190>"
            ]
          },
          "metadata": {},
          "execution_count": 178
        },
        {
          "output_type": "display_data",
          "data": {
            "text/plain": [
              "<Figure size 432x288 with 1 Axes>"
            ],
            "image/png": "[encoded data removed]"
          },
          "metadata": {
            "needs_background": "light"
          }
        }
      ]
    },
    {
      "cell_type": "code",
      "source": [
        "# Calculate all\n",
        "precision,recall,f1_score = evaluate_fn(y_test, model_pred)  # takes y_test and model pred\n",
        "print(\"precision : \",precision,'\\n',\"recall :\",recall,'\\n',\"f1_score :\",f1_score)"
      ],
      "metadata": {
        "id": "CA68OPwJzVZ7",
        "colab": {
          "base_uri": "https://localhost:8080/"
        },
        "outputId": "0908df04-62f1-4a71-f719-30c43640f4a6"
      },
      "execution_count": null,
      "outputs": [
        {
          "output_type": "stream",
          "name": "stdout",
          "text": [
            "precision :  0.9861111111111112 \n",
            " recall : 0.9861111111111112 \n",
            " f1_score : 0.9861111111111112\n"
          ]
        }
      ]
    },
    {
      "cell_type": "code",
      "source": [],
      "metadata": {
        "id": "1rFsGa8AGqUF"
      },
      "execution_count": null,
      "outputs": []
    },
    {
      "cell_type": "markdown",
      "source": [
        "#### Final"
      ],
      "metadata": {
        "id": "osZjESNJNB6h"
      }
    },
    {
      "cell_type": "code",
      "source": [
        "print(\"ig_features:\",ig_features)\n",
        "print(\"chi2_features:\",chi2_features)\n",
        "print(\"mrmr_features:\",mrmr_features)\n",
        "print(\"relieff_features:\",relieff_features)"
      ],
      "metadata": {
        "colab": {
          "base_uri": "https://localhost:8080/"
        },
        "id": "gr7yuHTONA2X",
        "outputId": "b148e061-8016-4bc1-d764-af0ff7fe16ee"
      },
      "execution_count": null,
      "outputs": [
        {
          "output_type": "stream",
          "name": "stdout",
          "text": [
            "ig_features: Index(['radius_mean', 'perimeter_mean', 'area_mean', 'concavity_mean',\n",
            "       'concave points_mean', 'area_se', 'radius_worst', 'perimeter_worst',\n",
            "       'area_worst', 'concave points_worst'],\n",
            "      dtype='object')\n",
            "chi2_features: Index(['radius_mean', 'texture_mean', 'perimeter_mean', 'area_mean',\n",
            "       'perimeter_se', 'area_se', 'radius_worst', 'texture_worst',\n",
            "       'perimeter_worst', 'area_worst'],\n",
            "      dtype='object')\n",
            "mrmr_features: ['area_mean', 'radius_worst', 'perimeter_mean', 'radius_se', 'area_worst', 'perimeter_worst', 'area_se', 'perimeter_se', 'compactness_worst', 'concavity_worst']\n",
            "relieff_features: ['radius_mean', 'texture_mean', 'perimeter_mean', 'area_mean', 'concave points_mean', 'radius_worst', 'texture_worst', 'perimeter_worst', 'area_worst', 'concave points_worst']\n"
          ]
        }
      ]
    },
    {
      "cell_type": "code",
      "source": [
        "# filtered_features = ig_features + chi2_features + mrmr_features + relieff_features\n",
        "# filtered_features = set(filtered_features)\n",
        "filtered_features = []\n",
        "filtered_features.extend(ig_features)\n",
        "filtered_features.extend(chi2_features)\n",
        "filtered_features.extend(mrmr_features)\n",
        "filtered_features.extend(relieff_features)\n",
        "print(\"Before Removing Duplicates:\")\n",
        "print(len(filtered_features))\n",
        "print(filtered_features)\n",
        "print(\"\\nAfter Removing Duplicates:\")\n",
        "filtered_features = set(filtered_features)\n",
        "print(len(filtered_features))\n",
        "print(filtered_features)"
      ],
      "metadata": {
        "colab": {
          "base_uri": "https://localhost:8080/"
        },
        "id": "BpTENhUPNhsa",
        "outputId": "553a679d-3646-446b-a191-a5dd1a56193e"
      },
      "execution_count": null,
      "outputs": [
        {
          "output_type": "stream",
          "name": "stdout",
          "text": [
            "Before Removing Duplicates:\n",
            "40\n",
            "['radius_mean', 'perimeter_mean', 'area_mean', 'concavity_mean', 'concave points_mean', 'area_se', 'radius_worst', 'perimeter_worst', 'area_worst', 'concave points_worst', 'radius_mean', 'texture_mean', 'perimeter_mean', 'area_mean', 'perimeter_se', 'area_se', 'radius_worst', 'texture_worst', 'perimeter_worst', 'area_worst', 'area_mean', 'radius_worst', 'perimeter_mean', 'radius_se', 'area_worst', 'perimeter_worst', 'area_se', 'perimeter_se', 'compactness_worst', 'concavity_worst', 'radius_mean', 'texture_mean', 'perimeter_mean', 'area_mean', 'concave points_mean', 'radius_worst', 'texture_worst', 'perimeter_worst', 'area_worst', 'concave points_worst']\n",
            "\n",
            "After Removing Duplicates:\n",
            "16\n",
            "{'concave points_mean', 'texture_worst', 'radius_mean', 'concave points_worst', 'compactness_worst', 'concavity_worst', 'radius_worst', 'perimeter_worst', 'texture_mean', 'perimeter_se', 'radius_se', 'concavity_mean', 'area_se', 'area_worst', 'area_mean', 'perimeter_mean'}\n"
          ]
        }
      ]
    },
    {
      "cell_type": "code",
      "source": [
        "# Now last classification\n",
        "new_x = x[filtered_features]\n",
        "\n",
        "x_train, x_test, y_train, y_test = train_test_split(new_x, y, test_size = 0.2, random_state = 101)\n",
        "print(\"x_train shape: \", x_train.shape)\n",
        "print(\"y_train shape: \", y_train.shape)\n",
        "sc = StandardScaler()\n",
        "X_train = sc.fit_transform(x_train)\n",
        "X_test = sc.transform(x_test)"
      ],
      "metadata": {
        "colab": {
          "base_uri": "https://localhost:8080/"
        },
        "id": "CkZCvLHJNwqr",
        "outputId": "31d8ac0a-9bec-4a11-b14e-d582c35673b2"
      },
      "execution_count": null,
      "outputs": [
        {
          "output_type": "stream",
          "name": "stdout",
          "text": [
            "x_train shape:  (455, 16)\n",
            "y_train shape:  (455,)\n"
          ]
        }
      ]
    },
    {
      "cell_type": "code",
      "source": [
        "from sklearn.svm import SVC\n",
        "from sklearn.metrics import classification_report, confusion_matrix\n",
        "from sklearn.metrics import plot_confusion_matrix\n",
        "\n",
        "\n",
        "model_SVC= SVC()\n",
        "model_SVC.fit(X_train,y_train)\n",
        "\n",
        "model_pred = model_SVC.predict(X_test)\n",
        "print(confusion_matrix(y_test,model_pred))\n",
        "print('\\n')\n",
        "print(classification_report(y_test,model_pred))\n",
        "plot_confusion_matrix(model_SVC, X_test, y_test)"
      ],
      "metadata": {
        "colab": {
          "base_uri": "https://localhost:8080/",
          "height": 583
        },
        "id": "BE2TGvFmPRXq",
        "outputId": "00996509-0743-437f-e9bd-7acd75c90483"
      },
      "execution_count": null,
      "outputs": [
        {
          "output_type": "stream",
          "name": "stdout",
          "text": [
            "[[71  1]\n",
            " [ 1 41]]\n",
            "\n",
            "\n",
            "              precision    recall  f1-score   support\n",
            "\n",
            "           0       0.99      0.99      0.99        72\n",
            "           1       0.98      0.98      0.98        42\n",
            "\n",
            "    accuracy                           0.98       114\n",
            "   macro avg       0.98      0.98      0.98       114\n",
            "weighted avg       0.98      0.98      0.98       114\n",
            "\n"
          ]
        },
        {
          "output_type": "stream",
          "name": "stderr",
          "text": [
            "/usr/local/lib/python3.7/dist-packages/sklearn/utils/deprecation.py:87: FutureWarning: Function plot_confusion_matrix is deprecated; Function `plot_confusion_matrix` is deprecated in 1.0 and will be removed in 1.2. Use one of the class methods: ConfusionMatrixDisplay.from_predictions or ConfusionMatrixDisplay.from_estimator.\n",
            "  warnings.warn(msg, category=FutureWarning)\n"
          ]
        },
        {
          "output_type": "execute_result",
          "data": {
            "text/plain": [
              "<sklearn.metrics._plot.confusion_matrix.ConfusionMatrixDisplay at 0x7f3b11e5f490>"
            ]
          },
          "metadata": {},
          "execution_count": 189
        },
        {
          "output_type": "display_data",
          "data": {
            "text/plain": [
              "<Figure size 432x288 with 2 Axes>"
            ],
            "image/png": "[encoded data removed]"
          },
          "metadata": {
            "needs_background": "light"
          }
        }
      ]
    },
    {
      "cell_type": "code",
      "source": [
        "plot_roc_curve(model_SVC, X_test, y_test)"
      ],
      "metadata": {
        "colab": {
          "base_uri": "https://localhost:8080/",
          "height": 352
        },
        "id": "Ivp4s6Y7oOtq",
        "outputId": "7279d92b-a201-4476-d6be-bdb2b9e1a248"
      },
      "execution_count": null,
      "outputs": [
        {
          "output_type": "stream",
          "name": "stderr",
          "text": [
            "/usr/local/lib/python3.7/dist-packages/sklearn/utils/deprecation.py:87: FutureWarning: Function plot_roc_curve is deprecated; Function :func:`plot_roc_curve` is deprecated in 1.0 and will be removed in 1.2. Use one of the class methods: :meth:`sklearn.metric.RocCurveDisplay.from_predictions` or :meth:`sklearn.metric.RocCurveDisplay.from_estimator`.\n",
            "  warnings.warn(msg, category=FutureWarning)\n"
          ]
        },
        {
          "output_type": "execute_result",
          "data": {
            "text/plain": [
              "<sklearn.metrics._plot.roc_curve.RocCurveDisplay at 0x7f3b11dcdc50>"
            ]
          },
          "metadata": {},
          "execution_count": 190
        },
        {
          "output_type": "display_data",
          "data": {
            "text/plain": [
              "<Figure size 432x288 with 1 Axes>"
            ],
            "image/png": "[encoded data removed]"
          },
          "metadata": {
            "needs_background": "light"
          }
        }
      ]
    },
    {
      "cell_type": "code",
      "source": [
        "# Calculate all\n",
        "precision,recall,f1_score = evaluate_fn(y_test, model_pred)  # takes y_test and model pred\n",
        "print(\"precision : \",precision,'\\n',\"recall :\",recall,'\\n',\"f1_score :\",f1_score)"
      ],
      "metadata": {
        "colab": {
          "base_uri": "https://localhost:8080/"
        },
        "id": "HT2jieJ1Pl_5",
        "outputId": "9572cc61-ebd6-4ee2-861e-fc3713dc0eac"
      },
      "execution_count": null,
      "outputs": [
        {
          "output_type": "stream",
          "name": "stdout",
          "text": [
            "precision :  0.9861111111111112 \n",
            " recall : 0.9861111111111112 \n",
            " f1_score : 0.9861111111111112\n"
          ]
        }
      ]
    },
    {
      "cell_type": "markdown",
      "source": [
        "# Great Job!!"
      ],
      "metadata": {
        "id": "j8YlxyMpP3Ct"
      }
    }
  ]
}