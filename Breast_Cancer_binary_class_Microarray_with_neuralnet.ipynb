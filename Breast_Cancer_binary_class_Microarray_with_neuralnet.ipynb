{
  "cells": [
    {
      "cell_type": "markdown",
      "metadata": {
        "id": "jnK77Xu5ULkw"
      },
      "source": [
        "# Cancer Classification with Feature Selection"
      ]
    },
    {
      "cell_type": "markdown",
      "metadata": {
        "id": "oG57b8TCUFBB"
      },
      "source": [
        "## Imports"
      ]
    },
    {
      "cell_type": "code",
      "execution_count": null,
      "metadata": {
        "colab": {
          "base_uri": "https://localhost:8080/"
        },
        "id": "uatnmx7HJ7a6",
        "outputId": "dadc22c4-6881-458d-95d3-194f3faf5c72"
      },
      "outputs": [
        {
          "output_type": "stream",
          "name": "stdout",
          "text": [
            "Mounted at /content/drive\n"
          ]
        }
      ],
      "source": [
        "from google.colab import drive\n",
        "drive.mount('/content/drive')"
      ]
    },
    {
      "cell_type": "code",
      "execution_count": null,
      "metadata": {
        "id": "wUDP6c1ZTpJH"
      },
      "outputs": [],
      "source": [
        "#imports\n",
        "import numpy as np\n",
        "import pandas as pd\n",
        "import matplotlib.pyplot as plt\n",
        "import seaborn as sns\n",
        "from numpy import mean\n",
        "from numpy import std\n",
        "from sklearn.model_selection import KFold\n",
        "from sklearn.model_selection import cross_val_score\n",
        "from sklearn.preprocessing import StandardScaler\n",
        "from sklearn.model_selection import train_test_split\n",
        "from sklearn.metrics import classification_report, confusion_matrix\n",
        "# from sklearn.metrics import plot_confusion_matrix,plot_roc_curve\n",
        "from sklearn.svm import SVC\n",
        "from sklearn.discriminant_analysis import LinearDiscriminantAnalysis\n",
        "from sklearn.naive_bayes import GaussianNB\n",
        "from sklearn.tree import DecisionTreeClassifier\n",
        "sc = StandardScaler()"
      ]
    },
    {
      "cell_type": "code",
      "execution_count": null,
      "metadata": {
        "id": "kVBY_i8lMvh8"
      },
      "outputs": [],
      "source": [
        "def evaluate_fn(Y_test,model_pred):\n",
        "    # cm = confusion_matrix(Y_test.argmax(), model_pred.argmax())\n",
        "    cm = confusion_matrix(Y_test.astype(int).tolist(), model_pred)\n",
        "\n",
        "    True_Positives = cm[0][0]\n",
        "    False_Positives = cm[0][1]\n",
        "\n",
        "    True_Negetives = cm[1][1]\n",
        "    False_Negetives = cm[1][0]\n",
        "\n",
        "    # return True_Positives,False_Positives,False_Negetives,True_Negetives\n",
        "\n",
        "    precision =  True_Positives / (True_Positives + False_Positives)\n",
        "    recall = True_Positives / (True_Positives + False_Negetives)\n",
        "    f1_score = 2*(precision * recall) / (precision + recall)\n",
        "\n",
        "    return precision,recall,f1_score"
      ]
    },
    {
      "cell_type": "markdown",
      "metadata": {
        "id": "SfmQhb-Fc2mW"
      },
      "source": [
        "## Working with Microarray Dataset"
      ]
    },
    {
      "cell_type": "markdown",
      "metadata": {
        "id": "VK4RGdjPf3Jw"
      },
      "source": [
        "### Data Preparation For Microarray Dataset"
      ]
    },
    {
      "cell_type": "code",
      "execution_count": null,
      "metadata": {
        "id": "GdIk2U1bcRq-"
      },
      "outputs": [],
      "source": [
        "from scipy.io import arff\n",
        "import pandas as pd"
      ]
    },
    {
      "cell_type": "code",
      "execution_count": null,
      "metadata": {
        "colab": {
          "base_uri": "https://localhost:8080/",
          "height": 320
        },
        "id": "Q3iPhN0hAKHU",
        "outputId": "10ff81df-630c-42fb-9238-944ea8efb7f5"
      },
      "outputs": [
        {
          "output_type": "execute_result",
          "data": {
            "text/plain": [
              "   Contig45645_RC  Contig44916_RC  D25272  J00129  Contig29982_RC  \\\n",
              "0          -0.299           0.093  -0.215  -0.566          -0.596   \n",
              "1          -0.081           0.009  -0.091  -0.518          -0.502   \n",
              "2          -0.125           0.070  -0.006  -0.575          -0.585   \n",
              "3          -0.270           0.123   0.056  -0.499          -0.402   \n",
              "4          -0.141           0.025  -0.031  -0.465          -0.533   \n",
              "\n",
              "   Contig26811  D25274  Contig36292  Contig42854  Contig34839  ...  NM_000898  \\\n",
              "0       -0.195   0.039       -0.409       -0.352        0.066  ...     -0.960   \n",
              "1       -0.149   0.098       -0.090        0.138        0.061  ...     -0.531   \n",
              "2       -0.183   0.102        0.023       -0.350       -0.005  ...     -0.883   \n",
              "3       -0.099  -0.145       -0.103        0.181        0.236  ...     -0.044   \n",
              "4       -0.065   0.101       -0.008       -0.019        0.026  ...      0.280   \n",
              "\n",
              "   NM_000899  Contig20164_RC  Contig8985_RC  Contig36062_RC  Contig35333_RC  \\\n",
              "0     -0.211           0.155         -0.095          -0.025          -0.037   \n",
              "1     -0.020           0.014         -0.123           0.148           0.024   \n",
              "2     -0.159           0.022          0.006          -0.086           0.019   \n",
              "3     -0.096           0.018          0.000           0.076           0.057   \n",
              "4     -0.088           0.043          0.207          -0.124          -0.041   \n",
              "\n",
              "   Contig62037_RC  AF067420  Contig15167_RC       Class  \n",
              "0           0.215     0.307           0.321  b'relapse'  \n",
              "1          -0.070    -0.209           0.105  b'relapse'  \n",
              "2           0.026    -0.822           0.199  b'relapse'  \n",
              "3          -0.016    -0.360          -0.038  b'relapse'  \n",
              "4          -0.077    -0.432          -0.015  b'relapse'  \n",
              "\n",
              "[5 rows x 24482 columns]"
            ],
            "text/html": [
              "\n",
              "  <div id=\"df-97b87358-959f-4ef2-a8db-3164432c4051\">\n",
              "    <div class=\"colab-df-container\">\n",
              "      <div>\n",
              "<style scoped>\n",
              "    .dataframe tbody tr th:only-of-type {\n",
              "        vertical-align: middle;\n",
              "    }\n",
              "\n",
              "    .dataframe tbody tr th {\n",
              "        vertical-align: top;\n",
              "    }\n",
              "\n",
              "    .dataframe thead th {\n",
              "        text-align: right;\n",
              "    }\n",
              "</style>\n",
              "<table border=\"1\" class=\"dataframe\">\n",
              "  <thead>\n",
              "    <tr style=\"text-align: right;\">\n",
              "      <th></th>\n",
              "      <th>Contig45645_RC</th>\n",
              "      <th>Contig44916_RC</th>\n",
              "      <th>D25272</th>\n",
              "      <th>J00129</th>\n",
              "      <th>Contig29982_RC</th>\n",
              "      <th>Contig26811</th>\n",
              "      <th>D25274</th>\n",
              "      <th>Contig36292</th>\n",
              "      <th>Contig42854</th>\n",
              "      <th>Contig34839</th>\n",
              "      <th>...</th>\n",
              "      <th>NM_000898</th>\n",
              "      <th>NM_000899</th>\n",
              "      <th>Contig20164_RC</th>\n",
              "      <th>Contig8985_RC</th>\n",
              "      <th>Contig36062_RC</th>\n",
              "      <th>Contig35333_RC</th>\n",
              "      <th>Contig62037_RC</th>\n",
              "      <th>AF067420</th>\n",
              "      <th>Contig15167_RC</th>\n",
              "      <th>Class</th>\n",
              "    </tr>\n",
              "  </thead>\n",
              "  <tbody>\n",
              "    <tr>\n",
              "      <th>0</th>\n",
              "      <td>-0.299</td>\n",
              "      <td>0.093</td>\n",
              "      <td>-0.215</td>\n",
              "      <td>-0.566</td>\n",
              "      <td>-0.596</td>\n",
              "      <td>-0.195</td>\n",
              "      <td>0.039</td>\n",
              "      <td>-0.409</td>\n",
              "      <td>-0.352</td>\n",
              "      <td>0.066</td>\n",
              "      <td>...</td>\n",
              "      <td>-0.960</td>\n",
              "      <td>-0.211</td>\n",
              "      <td>0.155</td>\n",
              "      <td>-0.095</td>\n",
              "      <td>-0.025</td>\n",
              "      <td>-0.037</td>\n",
              "      <td>0.215</td>\n",
              "      <td>0.307</td>\n",
              "      <td>0.321</td>\n",
              "      <td>b'relapse'</td>\n",
              "    </tr>\n",
              "    <tr>\n",
              "      <th>1</th>\n",
              "      <td>-0.081</td>\n",
              "      <td>0.009</td>\n",
              "      <td>-0.091</td>\n",
              "      <td>-0.518</td>\n",
              "      <td>-0.502</td>\n",
              "      <td>-0.149</td>\n",
              "      <td>0.098</td>\n",
              "      <td>-0.090</td>\n",
              "      <td>0.138</td>\n",
              "      <td>0.061</td>\n",
              "      <td>...</td>\n",
              "      <td>-0.531</td>\n",
              "      <td>-0.020</td>\n",
              "      <td>0.014</td>\n",
              "      <td>-0.123</td>\n",
              "      <td>0.148</td>\n",
              "      <td>0.024</td>\n",
              "      <td>-0.070</td>\n",
              "      <td>-0.209</td>\n",
              "      <td>0.105</td>\n",
              "      <td>b'relapse'</td>\n",
              "    </tr>\n",
              "    <tr>\n",
              "      <th>2</th>\n",
              "      <td>-0.125</td>\n",
              "      <td>0.070</td>\n",
              "      <td>-0.006</td>\n",
              "      <td>-0.575</td>\n",
              "      <td>-0.585</td>\n",
              "      <td>-0.183</td>\n",
              "      <td>0.102</td>\n",
              "      <td>0.023</td>\n",
              "      <td>-0.350</td>\n",
              "      <td>-0.005</td>\n",
              "      <td>...</td>\n",
              "      <td>-0.883</td>\n",
              "      <td>-0.159</td>\n",
              "      <td>0.022</td>\n",
              "      <td>0.006</td>\n",
              "      <td>-0.086</td>\n",
              "      <td>0.019</td>\n",
              "      <td>0.026</td>\n",
              "      <td>-0.822</td>\n",
              "      <td>0.199</td>\n",
              "      <td>b'relapse'</td>\n",
              "    </tr>\n",
              "    <tr>\n",
              "      <th>3</th>\n",
              "      <td>-0.270</td>\n",
              "      <td>0.123</td>\n",
              "      <td>0.056</td>\n",
              "      <td>-0.499</td>\n",
              "      <td>-0.402</td>\n",
              "      <td>-0.099</td>\n",
              "      <td>-0.145</td>\n",
              "      <td>-0.103</td>\n",
              "      <td>0.181</td>\n",
              "      <td>0.236</td>\n",
              "      <td>...</td>\n",
              "      <td>-0.044</td>\n",
              "      <td>-0.096</td>\n",
              "      <td>0.018</td>\n",
              "      <td>0.000</td>\n",
              "      <td>0.076</td>\n",
              "      <td>0.057</td>\n",
              "      <td>-0.016</td>\n",
              "      <td>-0.360</td>\n",
              "      <td>-0.038</td>\n",
              "      <td>b'relapse'</td>\n",
              "    </tr>\n",
              "    <tr>\n",
              "      <th>4</th>\n",
              "      <td>-0.141</td>\n",
              "      <td>0.025</td>\n",
              "      <td>-0.031</td>\n",
              "      <td>-0.465</td>\n",
              "      <td>-0.533</td>\n",
              "      <td>-0.065</td>\n",
              "      <td>0.101</td>\n",
              "      <td>-0.008</td>\n",
              "      <td>-0.019</td>\n",
              "      <td>0.026</td>\n",
              "      <td>...</td>\n",
              "      <td>0.280</td>\n",
              "      <td>-0.088</td>\n",
              "      <td>0.043</td>\n",
              "      <td>0.207</td>\n",
              "      <td>-0.124</td>\n",
              "      <td>-0.041</td>\n",
              "      <td>-0.077</td>\n",
              "      <td>-0.432</td>\n",
              "      <td>-0.015</td>\n",
              "      <td>b'relapse'</td>\n",
              "    </tr>\n",
              "  </tbody>\n",
              "</table>\n",
              "<p>5 rows × 24482 columns</p>\n",
              "</div>\n",
              "      <button class=\"colab-df-convert\" onclick=\"convertToInteractive('df-97b87358-959f-4ef2-a8db-3164432c4051')\"\n",
              "              title=\"Convert this dataframe to an interactive table.\"\n",
              "              style=\"display:none;\">\n",
              "        \n",
              "  <svg xmlns=\"http://www.w3.org/2000/svg\" height=\"24px\"viewBox=\"0 0 24 24\"\n",
              "       width=\"24px\">\n",
              "    <path d=\"M0 0h24v24H0V0z\" fill=\"none\"/>\n",
              "    <path d=\"M18.56 5.44l.94 2.06.94-2.06 2.06-.94-2.06-.94-.94-2.06-.94 2.06-2.06.94zm-11 1L8.5 8.5l.94-2.06 2.06-.94-2.06-.94L8.5 2.5l-.94 2.06-2.06.94zm10 10l.94 2.06.94-2.06 2.06-.94-2.06-.94-.94-2.06-.94 2.06-2.06.94z\"/><path d=\"M17.41 7.96l-1.37-1.37c-.4-.4-.92-.59-1.43-.59-.52 0-1.04.2-1.43.59L10.3 9.45l-7.72 7.72c-.78.78-.78 2.05 0 2.83L4 21.41c.39.39.9.59 1.41.59.51 0 1.02-.2 1.41-.59l7.78-7.78 2.81-2.81c.8-.78.8-2.07 0-2.86zM5.41 20L4 18.59l7.72-7.72 1.47 1.35L5.41 20z\"/>\n",
              "  </svg>\n",
              "      </button>\n",
              "      \n",
              "  <style>\n",
              "    .colab-df-container {\n",
              "      display:flex;\n",
              "      flex-wrap:wrap;\n",
              "      gap: 12px;\n",
              "    }\n",
              "\n",
              "    .colab-df-convert {\n",
              "      background-color: #E8F0FE;\n",
              "      border: none;\n",
              "      border-radius: 50%;\n",
              "      cursor: pointer;\n",
              "      display: none;\n",
              "      fill: #1967D2;\n",
              "      height: 32px;\n",
              "      padding: 0 0 0 0;\n",
              "      width: 32px;\n",
              "    }\n",
              "\n",
              "    .colab-df-convert:hover {\n",
              "      background-color: #E2EBFA;\n",
              "      box-shadow: 0px 1px 2px rgba(60, 64, 67, 0.3), 0px 1px 3px 1px rgba(60, 64, 67, 0.15);\n",
              "      fill: #174EA6;\n",
              "    }\n",
              "\n",
              "    [theme=dark] .colab-df-convert {\n",
              "      background-color: #3B4455;\n",
              "      fill: #D2E3FC;\n",
              "    }\n",
              "\n",
              "    [theme=dark] .colab-df-convert:hover {\n",
              "      background-color: #434B5C;\n",
              "      box-shadow: 0px 1px 3px 1px rgba(0, 0, 0, 0.15);\n",
              "      filter: drop-shadow(0px 1px 2px rgba(0, 0, 0, 0.3));\n",
              "      fill: #FFFFFF;\n",
              "    }\n",
              "  </style>\n",
              "\n",
              "      <script>\n",
              "        const buttonEl =\n",
              "          document.querySelector('#df-97b87358-959f-4ef2-a8db-3164432c4051 button.colab-df-convert');\n",
              "        buttonEl.style.display =\n",
              "          google.colab.kernel.accessAllowed ? 'block' : 'none';\n",
              "\n",
              "        async function convertToInteractive(key) {\n",
              "          const element = document.querySelector('#df-97b87358-959f-4ef2-a8db-3164432c4051');\n",
              "          const dataTable =\n",
              "            await google.colab.kernel.invokeFunction('convertToInteractive',\n",
              "                                                     [key], {});\n",
              "          if (!dataTable) return;\n",
              "\n",
              "          const docLinkHtml = 'Like what you see? Visit the ' +\n",
              "            '<a target=\"_blank\" href=https://colab.research.google.com/notebooks/data_table.ipynb>data table notebook</a>'\n",
              "            + ' to learn more about interactive tables.';\n",
              "          element.innerHTML = '';\n",
              "          dataTable['output_type'] = 'display_data';\n",
              "          await google.colab.output.renderOutput(dataTable, element);\n",
              "          const docLink = document.createElement('div');\n",
              "          docLink.innerHTML = docLinkHtml;\n",
              "          element.appendChild(docLink);\n",
              "        }\n",
              "      </script>\n",
              "    </div>\n",
              "  </div>\n",
              "  "
            ]
          },
          "metadata": {},
          "execution_count": 5
        }
      ],
      "source": [
        "data1 = arff.loadarff('/content/drive/MyDrive/Work Space/Breast.arff')\n",
        "data1 = pd.DataFrame(data1[0])\n",
        "data1.head()"
      ]
    },
    {
      "cell_type": "code",
      "execution_count": null,
      "metadata": {
        "colab": {
          "base_uri": "https://localhost:8080/"
        },
        "id": "An5fQUwJOUEI",
        "outputId": "d80858b1-33ea-4a20-a065-2bcd9933de05"
      },
      "outputs": [
        {
          "output_type": "execute_result",
          "data": {
            "text/plain": [
              "Index(['Contig45645_RC', 'Contig44916_RC', 'D25272', 'J00129',\n",
              "       'Contig29982_RC', 'Contig26811', 'D25274', 'Contig36292', 'Contig42854',\n",
              "       'Contig34839',\n",
              "       ...\n",
              "       'NM_000898', 'NM_000899', 'Contig20164_RC', 'Contig8985_RC',\n",
              "       'Contig36062_RC', 'Contig35333_RC', 'Contig62037_RC', 'AF067420',\n",
              "       'Contig15167_RC', 'Class'],\n",
              "      dtype='object', length=24482)"
            ]
          },
          "metadata": {},
          "execution_count": 6
        }
      ],
      "source": [
        "data1.columns"
      ]
    },
    {
      "cell_type": "code",
      "source": [
        "# check for any null values\n",
        "data1.isnull().sum()"
      ],
      "metadata": {
        "colab": {
          "base_uri": "https://localhost:8080/"
        },
        "id": "ruOWC6UcEQc4",
        "outputId": "100f2bdb-6311-4646-9074-a3a5aaa166ea"
      },
      "execution_count": null,
      "outputs": [
        {
          "output_type": "execute_result",
          "data": {
            "text/plain": [
              "Contig45645_RC    0\n",
              "Contig44916_RC    0\n",
              "D25272            0\n",
              "J00129            0\n",
              "Contig29982_RC    0\n",
              "                 ..\n",
              "Contig35333_RC    0\n",
              "Contig62037_RC    0\n",
              "AF067420          0\n",
              "Contig15167_RC    0\n",
              "Class             0\n",
              "Length: 24482, dtype: int64"
            ]
          },
          "metadata": {},
          "execution_count": 7
        }
      ]
    },
    {
      "cell_type": "code",
      "execution_count": null,
      "metadata": {
        "colab": {
          "base_uri": "https://localhost:8080/"
        },
        "id": "DwsUTUq5y7kL",
        "outputId": "65939d16-fcda-42be-f1a1-1892d0b24591"
      },
      "outputs": [
        {
          "output_type": "execute_result",
          "data": {
            "text/plain": [
              "array([b'relapse', b'non-relapse'], dtype=object)"
            ]
          },
          "metadata": {},
          "execution_count": 8
        }
      ],
      "source": [
        "data1[\"Class\"].unique()"
      ]
    },
    {
      "cell_type": "code",
      "execution_count": null,
      "metadata": {
        "colab": {
          "base_uri": "https://localhost:8080/"
        },
        "id": "sJQmSzDnCZSM",
        "outputId": "b88a044a-7a81-449c-eba2-45a3cc09c121"
      },
      "outputs": [
        {
          "output_type": "stream",
          "name": "stdout",
          "text": [
            "Lenght of Dataset: 97\n",
            "Num of columns: 24482\n"
          ]
        }
      ],
      "source": [
        "print(\"Lenght of Dataset:\", len(data1))\n",
        "print(\"Num of columns:\", len(data1.columns))"
      ]
    },
    {
      "cell_type": "code",
      "execution_count": null,
      "metadata": {
        "colab": {
          "base_uri": "https://localhost:8080/",
          "height": 299
        },
        "id": "2UQDAG0Rdo-k",
        "outputId": "ef980bae-ebf8-4081-8cdf-a1d3ba0f2b34"
      },
      "outputs": [
        {
          "output_type": "execute_result",
          "data": {
            "text/plain": [
              "<AxesSubplot:xlabel='Class', ylabel='count'>"
            ]
          },
          "metadata": {},
          "execution_count": 10
        },
        {
          "output_type": "display_data",
          "data": {
            "text/plain": [
              "<Figure size 432x288 with 1 Axes>"
            ],
            "image/png": "[encoded data removed]"
          },
          "metadata": {}
        }
      ],
      "source": [
        "sns.set_style('whitegrid')\n",
        "sns.countplot(x = 'Class', data= data1,palette = 'RdBu_r')"
      ]
    },
    {
      "cell_type": "code",
      "execution_count": null,
      "metadata": {
        "id": "jHLzBjr_JPm1",
        "colab": {
          "base_uri": "https://localhost:8080/"
        },
        "outputId": "a81d6d3e-a662-4db3-970d-86e15c9f2c21"
      },
      "outputs": [
        {
          "output_type": "stream",
          "name": "stderr",
          "text": [
            "<ipython-input-11-2a7445fa7bd8>:10: SettingWithCopyWarning: \n",
            "A value is trying to be set on a copy of a slice from a DataFrame\n",
            "\n",
            "See the caveats in the documentation: https://pandas.pydata.org/pandas-docs/stable/user_guide/indexing.html#returning-a-view-versus-a-copy\n",
            "  y[st] = cvt(y[st])\n"
          ]
        }
      ],
      "source": [
        "# class values are in byte string format but we need them in integer format\n",
        "# Converting them into string first\n",
        "y = data1.Class  # label\n",
        "# len(y)\n",
        "# y[0]\n",
        "def cvt(str):\n",
        "  return str.decode(\"utf-8\")\n",
        "\n",
        "for st in range(len(y)):\n",
        "  y[st] = cvt(y[st])\n",
        "# print(y)"
      ]
    },
    {
      "cell_type": "code",
      "execution_count": null,
      "metadata": {
        "id": "V8T7dbBcd3CK"
      },
      "outputs": [],
      "source": [
        "# Then convert them into integer\n",
        "y.replace({\"non-relapse\": 0, \"relapse\": 1}, inplace= True)"
      ]
    },
    {
      "cell_type": "code",
      "execution_count": null,
      "metadata": {
        "id": "BIZAK5IMujUV"
      },
      "outputs": [],
      "source": [
        "# y = y.astype(float)"
      ]
    },
    {
      "cell_type": "code",
      "execution_count": null,
      "metadata": {
        "id": "z5wyx_ydeBtE"
      },
      "outputs": [],
      "source": [
        "# grab our features\n",
        "x = data1.drop(['Class'], axis=1)"
      ]
    },
    {
      "cell_type": "code",
      "execution_count": null,
      "metadata": {
        "colab": {
          "base_uri": "https://localhost:8080/"
        },
        "id": "-GloagdGjjjf",
        "outputId": "dda19b00-72f9-4082-a43c-af9f2e5ba766"
      },
      "outputs": [
        {
          "output_type": "execute_result",
          "data": {
            "text/plain": [
              "24482"
            ]
          },
          "metadata": {},
          "execution_count": 15
        }
      ],
      "source": [
        "cols = (data1.columns).to_list()\n",
        "len(cols)"
      ]
    },
    {
      "cell_type": "code",
      "execution_count": null,
      "metadata": {
        "id": "dCjKPlYpx_9V"
      },
      "outputs": [],
      "source": [
        "# convert numpy array to dictionary\n",
        "col_dict = dict(enumerate((x.columns.to_numpy()).flatten(), 0))\n",
        "# col_dict"
      ]
    },
    {
      "cell_type": "code",
      "execution_count": null,
      "metadata": {
        "colab": {
          "base_uri": "https://localhost:8080/"
        },
        "id": "MgBeJENmyKXG",
        "outputId": "d294ba31-52e9-4dc8-c2d1-e24713939926"
      },
      "outputs": [
        {
          "output_type": "execute_result",
          "data": {
            "text/plain": [
              "24481"
            ]
          },
          "metadata": {},
          "execution_count": 17
        }
      ],
      "source": [
        "len(col_dict)"
      ]
    },
    {
      "cell_type": "markdown",
      "metadata": {
        "id": "rF9rz3DRip41"
      },
      "source": [
        "<a name='CorrelationMatrixPlot'></a>\n",
        "#### **Correlation Matrix Plot**"
      ]
    },
    {
      "cell_type": "markdown",
      "metadata": {
        "id": "vl-_kgnei8Td"
      },
      "source": [
        "We have 24482 features and if we try to draw a correlation matrix of it, then it will take us forever and even by doing so we can't able to understand any info from that gaint matrix. So we gonna take a sample(100) of features out of 24482 and draw the matrix. We gonna do the same for rest of the plots."
      ]
    },
    {
      "cell_type": "code",
      "execution_count": null,
      "metadata": {
        "colab": {
          "base_uri": "https://localhost:8080/",
          "height": 76
        },
        "id": "2LfQG1Zqiq3h",
        "outputId": "ffd8e43f-6817-4397-b16d-e9c7cfc9a31a"
      },
      "outputs": [
        {
          "output_type": "execute_result",
          "data": {
            "text/plain": [
              "<AxesSubplot:>"
            ]
          },
          "metadata": {},
          "execution_count": 18
        },
        {
          "output_type": "display_data",
          "data": {
            "text/plain": [
              "<Figure size 1152x1080 with 2 Axes>"
            ],
            "image/png": "[encoded data removed]"
          },
          "metadata": {}
        }
      ],
      "source": [
        "data = data1[cols[:50]]\n",
        "cor = data.corr()\n",
        "plt.figure(figsize=(16,15))\n",
        "sns.heatmap(cor)"
      ]
    },
    {
      "cell_type": "markdown",
      "metadata": {
        "id": "wEwZr-N_k16M"
      },
      "source": [
        "If you gonna perform K-fold cross-validation then train-test split is not needed."
      ]
    },
    {
      "cell_type": "markdown",
      "metadata": {
        "id": "hACmOOAgeTcd"
      },
      "source": [
        "####**Train test split**"
      ]
    },
    {
      "cell_type": "code",
      "execution_count": null,
      "metadata": {
        "colab": {
          "base_uri": "https://localhost:8080/"
        },
        "id": "EYsO-nKOeRme",
        "outputId": "4375b98b-232a-4e9f-c752-c92a7197bba7"
      },
      "outputs": [
        {
          "output_type": "stream",
          "name": "stdout",
          "text": [
            "x_train shape:  (77, 24481)\n",
            "y_train shape:  (77,)\n",
            "x_text:  (20, 24481)\n",
            "y_test:  (20,)\n"
          ]
        }
      ],
      "source": [
        "from sklearn.model_selection import train_test_split\n",
        "x_train, x_test, y_train, y_test = train_test_split(x, y, test_size = 0.2, random_state = 58)\n",
        "print(\"x_train shape: \", x_train.shape)\n",
        "print(\"y_train shape: \", y_train.shape)\n",
        "print(\"x_text: \",x_test.shape)\n",
        "print(\"y_test: \",y_test.shape)"
      ]
    },
    {
      "cell_type": "markdown",
      "metadata": {
        "id": "OxxPMHEPepdI"
      },
      "source": [
        "**Scale the data**"
      ]
    },
    {
      "cell_type": "code",
      "execution_count": null,
      "metadata": {
        "id": "ttMOfkECemF8"
      },
      "outputs": [],
      "source": [
        "from sklearn.preprocessing import StandardScaler\n",
        "sc = StandardScaler()\n",
        "x_train = sc.fit_transform(x_train)\n",
        "x_test = sc.transform(x_test)"
      ]
    },
    {
      "cell_type": "code",
      "execution_count": null,
      "metadata": {
        "id": "QqYrhARTin1S"
      },
      "outputs": [],
      "source": [
        "# x_train = pd.Series(x_train)"
      ]
    },
    {
      "cell_type": "markdown",
      "metadata": {
        "id": "ipMZTuIfT0Bf"
      },
      "source": [
        "### Wrapper Methods"
      ]
    },
    {
      "cell_type": "markdown",
      "metadata": {
        "id": "GaN4wyhPyl6P"
      },
      "source": [
        "### Using sklearn GA"
      ]
    },
    {
      "cell_type": "code",
      "execution_count": null,
      "metadata": {
        "id": "enawSDAitfe8",
        "colab": {
          "base_uri": "https://localhost:8080/"
        },
        "outputId": "c29f8cf4-a6b7-4d79-e20b-9818c3baeb4a"
      },
      "outputs": [
        {
          "output_type": "stream",
          "name": "stdout",
          "text": [
            "Looking in indexes: https://pypi.org/simple, https://us-python.pkg.dev/colab-wheels/public/simple/\n",
            "Collecting sklearn-genetic\n",
            "  Downloading sklearn_genetic-0.5.1-py3-none-any.whl (11 kB)\n",
            "Collecting multiprocess\n",
            "  Downloading multiprocess-0.70.14-py38-none-any.whl (132 kB)\n",
            "\u001b[2K     \u001b[90m━━━━━━━━━━━━━━━━━━━━━━━━━━━━━━━━━━━━━━\u001b[0m \u001b[32m132.0/132.0 KB\u001b[0m \u001b[31m11.8 MB/s\u001b[0m eta \u001b[36m0:00:00\u001b[0m\n",
            "\u001b[?25hCollecting deap>=1.0.2\n",
            "  Downloading deap-1.3.3-cp38-cp38-manylinux_2_5_x86_64.manylinux1_x86_64.manylinux_2_17_x86_64.manylinux2014_x86_64.whl (139 kB)\n",
            "\u001b[2K     \u001b[90m━━━━━━━━━━━━━━━━━━━━━━━━━━━━━━━━━━━━━━\u001b[0m \u001b[32m139.9/139.9 KB\u001b[0m \u001b[31m19.7 MB/s\u001b[0m eta \u001b[36m0:00:00\u001b[0m\n",
            "\u001b[?25hRequirement already satisfied: scikit-learn>=0.23 in /usr/local/lib/python3.8/dist-packages (from sklearn-genetic) (1.2.1)\n",
            "Requirement already satisfied: numpy in /usr/local/lib/python3.8/dist-packages (from sklearn-genetic) (1.22.4)\n",
            "Requirement already satisfied: threadpoolctl>=2.0.0 in /usr/local/lib/python3.8/dist-packages (from scikit-learn>=0.23->sklearn-genetic) (3.1.0)\n",
            "Requirement already satisfied: scipy>=1.3.2 in /usr/local/lib/python3.8/dist-packages (from scikit-learn>=0.23->sklearn-genetic) (1.10.1)\n",
            "Requirement already satisfied: joblib>=1.1.1 in /usr/local/lib/python3.8/dist-packages (from scikit-learn>=0.23->sklearn-genetic) (1.2.0)\n",
            "Collecting dill>=0.3.6\n",
            "  Downloading dill-0.3.6-py3-none-any.whl (110 kB)\n",
            "\u001b[2K     \u001b[90m━━━━━━━━━━━━━━━━━━━━━━━━━━━━━━━━━━━━━━\u001b[0m \u001b[32m110.5/110.5 KB\u001b[0m \u001b[31m15.3 MB/s\u001b[0m eta \u001b[36m0:00:00\u001b[0m\n",
            "\u001b[?25hInstalling collected packages: dill, deap, multiprocess, sklearn-genetic\n",
            "Successfully installed deap-1.3.3 dill-0.3.6 multiprocess-0.70.14 sklearn-genetic-0.5.1\n"
          ]
        }
      ],
      "source": [
        "!pip install sklearn-genetic"
      ]
    },
    {
      "cell_type": "code",
      "execution_count": null,
      "metadata": {
        "id": "6GRaGlkc62iR"
      },
      "outputs": [],
      "source": [
        "from sklearn.tree import DecisionTreeClassifier\n",
        "from genetic_selection import GeneticSelectionCV\n",
        "from sklearn.svm import SVC"
      ]
    },
    {
      "cell_type": "code",
      "execution_count": null,
      "metadata": {
        "id": "Lv9dVSrbngDl"
      },
      "outputs": [],
      "source": [
        "estimators = DecisionTreeClassifier()\n",
        "models = GeneticSelectionCV(\n",
        "    estimators, cv=5, verbose=0,\n",
        "    scoring=\"accuracy\", max_features=1000,\n",
        "    n_population=100, crossover_proba=0.5,\n",
        "    mutation_proba=0.2, n_generations=50,\n",
        "    crossover_independent_proba=0.5,\n",
        "    mutation_independent_proba=0.04,\n",
        "    tournament_size=3, n_gen_no_change=10,\n",
        "    caching=True, n_jobs=-1)\n",
        "models = models.fit(x, y)\n"
      ]
    },
    {
      "cell_type": "code",
      "source": [
        "print('Feature Selection:', x.columns[models.support_])"
      ],
      "metadata": {
        "colab": {
          "base_uri": "https://localhost:8080/"
        },
        "id": "M9t_Cs9oxS0U",
        "outputId": "e058f19e-8d81-4276-a95e-0cc4d23862cd"
      },
      "execution_count": null,
      "outputs": [
        {
          "output_type": "stream",
          "name": "stdout",
          "text": [
            "Feature Selection: Index(['Contig20749_RC', 'Contig14924_RC', 'Contig35067_RC', 'AB033061',\n",
            "       'AB033066', 'U20582', 'Contig33359_RC', 'NM_003009', 'NM_003024',\n",
            "       'Contig15387_RC',\n",
            "       ...\n",
            "       'NM_001569', 'NM_000841', 'NM_000845', 'NM_018964', 'Contig29022_RC',\n",
            "       'NM_001585', 'Contig36251', 'NM_000865', 'NM_000868', 'NM_000877'],\n",
            "      dtype='object', length=680)\n"
          ]
        }
      ]
    },
    {
      "cell_type": "code",
      "execution_count": null,
      "metadata": {
        "id": "zJxsGeOJxWUB",
        "colab": {
          "base_uri": "https://localhost:8080/"
        },
        "outputId": "f26363cc-f0cb-44fe-c040-dad8ed6bf311"
      },
      "outputs": [
        {
          "output_type": "execute_result",
          "data": {
            "text/plain": [
              "680"
            ]
          },
          "metadata": {},
          "execution_count": 97
        }
      ],
      "source": [
        "new_fea =  x.columns[models.support_]\n",
        "len(new_fea)"
      ]
    },
    {
      "cell_type": "code",
      "execution_count": null,
      "metadata": {
        "id": "FIxQLasixwKy",
        "colab": {
          "base_uri": "https://localhost:8080/"
        },
        "outputId": "49f81a9c-5298-45fc-8586-9a99deba7043"
      },
      "outputs": [
        {
          "output_type": "stream",
          "name": "stdout",
          "text": [
            "x_train (77, 680)\n",
            "y_train (77,)\n",
            "x_test (20, 680)\n",
            "y_test (20,)\n"
          ]
        },
        {
          "output_type": "stream",
          "name": "stderr",
          "text": [
            "/usr/local/lib/python3.8/dist-packages/sklearn/base.py:420: UserWarning: X does not have valid feature names, but StandardScaler was fitted with feature names\n",
            "  warnings.warn(\n"
          ]
        }
      ],
      "source": [
        "new_x = x[new_fea]\n",
        "x_train, x_valid, y_train, y_valid = train_test_split(new_x, y, test_size=0.20, random_state=101)\n",
        "print(\"x_train\", x_train.shape)\n",
        "print(\"y_train\", y_train.shape)\n",
        "print(\"x_test\", x_test.shape)\n",
        "print(\"y_test\", y_test.shape)\n",
        "sc = StandardScaler()\n",
        "x_train = sc.fit_transform(x_train)\n",
        "x_test = sc.transform(x_test)"
      ]
    },
    {
      "cell_type": "markdown",
      "metadata": {
        "id": "-DsWr660ofzZ"
      },
      "source": [
        "<a name='cga'></a>\n",
        "##### Correlation Matrix with feature selected by GA"
      ]
    },
    {
      "cell_type": "code",
      "execution_count": null,
      "metadata": {
        "colab": {
          "base_uri": "https://localhost:8080/",
          "height": 688
        },
        "id": "JABmI_X6oh84",
        "outputId": "465ce02e-6e16-45c5-8749-51aa5c70627c"
      },
      "outputs": [
        {
          "output_type": "execute_result",
          "data": {
            "text/plain": [
              "<AxesSubplot:>"
            ]
          },
          "metadata": {},
          "execution_count": 29
        },
        {
          "output_type": "display_data",
          "data": {
            "text/plain": [
              "<Figure size 864x720 with 2 Axes>"
            ],
            "image/png": "[encoded data removed]"
          },
          "metadata": {}
        }
      ],
      "source": [
        "cor = data1[new_fea].corr()\n",
        "plt.figure(figsize=(12,10))\n",
        "sns.heatmap(cor)"
      ]
    },
    {
      "cell_type": "markdown",
      "source": [
        "#### Using ML Classification Techniques"
      ],
      "metadata": {
        "id": "TDQVBQHlIEfi"
      }
    },
    {
      "cell_type": "markdown",
      "metadata": {
        "id": "xJrdAuCHOg_B"
      },
      "source": [
        "#####**Using SVM**"
      ]
    },
    {
      "cell_type": "code",
      "execution_count": null,
      "metadata": {
        "id": "3HbyjLb6xWbB"
      },
      "outputs": [],
      "source": [
        "model = SVC()\n",
        "model.fit(x_train, y_train)\n",
        "model_pred = model.predict(x_test)"
      ]
    },
    {
      "cell_type": "code",
      "execution_count": null,
      "metadata": {
        "colab": {
          "base_uri": "https://localhost:8080/",
          "height": 621
        },
        "id": "k9YVYDLtxWiQ",
        "outputId": "ddf1b5dc-52c0-439f-b944-9a8139d103d2"
      },
      "outputs": [
        {
          "output_type": "stream",
          "name": "stdout",
          "text": [
            "[[7 5]\n",
            " [3 5]]\n",
            "\n",
            "\n",
            "              precision    recall  f1-score   support\n",
            "\n",
            "         0.0       0.70      0.58      0.64        12\n",
            "         1.0       0.50      0.62      0.56         8\n",
            "\n",
            "    accuracy                           0.60        20\n",
            "   macro avg       0.60      0.60      0.60        20\n",
            "weighted avg       0.62      0.60      0.60        20\n",
            "\n"
          ]
        },
        {
          "output_type": "stream",
          "name": "stderr",
          "text": [
            "/usr/local/lib/python3.8/dist-packages/sklearn/utils/deprecation.py:87: FutureWarning: Function plot_confusion_matrix is deprecated; Function `plot_confusion_matrix` is deprecated in 1.0 and will be removed in 1.2. Use one of the class methods: ConfusionMatrixDisplay.from_predictions or ConfusionMatrixDisplay.from_estimator.\n",
            "  warnings.warn(msg, category=FutureWarning)\n"
          ]
        },
        {
          "output_type": "execute_result",
          "data": {
            "text/plain": [
              "<sklearn.metrics._plot.confusion_matrix.ConfusionMatrixDisplay at 0x7fb5ea57f910>"
            ]
          },
          "metadata": {},
          "execution_count": 31
        },
        {
          "output_type": "display_data",
          "data": {
            "text/plain": [
              "<Figure size 432x288 with 2 Axes>"
            ],
            "image/png": "[encoded data removed]"
          },
          "metadata": {}
        }
      ],
      "source": [
        "from sklearn.metrics import classification_report, confusion_matrix\n",
        "from sklearn.metrics import plot_confusion_matrix\n",
        "print(confusion_matrix(y_test,model_pred))\n",
        "print('\\n')\n",
        "print(classification_report(y_test,model_pred))\n",
        "plot_confusion_matrix(model, x_test, y_test)"
      ]
    },
    {
      "cell_type": "code",
      "execution_count": null,
      "metadata": {
        "colab": {
          "base_uri": "https://localhost:8080/",
          "height": 359
        },
        "id": "DP9_N5-vcL7t",
        "outputId": "791b4e38-f940-471a-c9c7-4a47117571c1"
      },
      "outputs": [
        {
          "output_type": "stream",
          "name": "stderr",
          "text": [
            "/usr/local/lib/python3.8/dist-packages/sklearn/utils/deprecation.py:87: FutureWarning: Function plot_roc_curve is deprecated; Function :func:`plot_roc_curve` is deprecated in 1.0 and will be removed in 1.2. Use one of the class methods: :meth:`sklearn.metric.RocCurveDisplay.from_predictions` or :meth:`sklearn.metric.RocCurveDisplay.from_estimator`.\n",
            "  warnings.warn(msg, category=FutureWarning)\n"
          ]
        },
        {
          "output_type": "execute_result",
          "data": {
            "text/plain": [
              "<sklearn.metrics._plot.roc_curve.RocCurveDisplay at 0x7fb5e70d9490>"
            ]
          },
          "metadata": {},
          "execution_count": 33
        },
        {
          "output_type": "display_data",
          "data": {
            "text/plain": [
              "<Figure size 432x288 with 1 Axes>"
            ],
            "image/png": "[encoded data removed]"
          },
          "metadata": {}
        }
      ],
      "source": [
        "# ROC curve\n",
        "plot_roc_curve(model, x_test, y_test)"
      ]
    },
    {
      "cell_type": "code",
      "execution_count": null,
      "metadata": {
        "colab": {
          "base_uri": "https://localhost:8080/"
        },
        "id": "O6m3C0HY_Fw8",
        "outputId": "471ca7dc-55c6-4239-fbb2-f574a657a166"
      },
      "outputs": [
        {
          "output_type": "stream",
          "name": "stdout",
          "text": [
            "precision :  0.5833333333333334 \n",
            " recall : 0.7 \n",
            " f1_score : 0.6363636363636365\n"
          ]
        }
      ],
      "source": [
        "# Calculate all\n",
        "precision,recall,f1_score = evaluate_fn(y_test, model_pred)  # takes y_test and model pred\n",
        "print(\"precision : \",precision,'\\n',\"recall :\",recall,'\\n',\"f1_score :\",f1_score)"
      ]
    },
    {
      "cell_type": "markdown",
      "metadata": {
        "id": "wWix4D98Ossj"
      },
      "source": [
        "#####**Using Decision Tree**"
      ]
    },
    {
      "cell_type": "code",
      "execution_count": null,
      "metadata": {
        "id": "-AdYZKemOwzl"
      },
      "outputs": [],
      "source": [
        "from sklearn.tree import DecisionTreeClassifier\n",
        "dt = DecisionTreeClassifier(criterion='entropy', random_state=0)\n",
        "dt.fit(x_train,y_train)\n",
        "dt_pred = dt.predict(x_test)"
      ]
    },
    {
      "cell_type": "code",
      "execution_count": null,
      "metadata": {
        "colab": {
          "base_uri": "https://localhost:8080/",
          "height": 621
        },
        "id": "SSw7NU5COw4s",
        "outputId": "14aaf74e-a147-4de1-e870-99efa3569879"
      },
      "outputs": [
        {
          "output_type": "stream",
          "name": "stdout",
          "text": [
            "[[9 3]\n",
            " [2 6]]\n",
            "\n",
            "\n",
            "              precision    recall  f1-score   support\n",
            "\n",
            "         0.0       0.82      0.75      0.78        12\n",
            "         1.0       0.67      0.75      0.71         8\n",
            "\n",
            "    accuracy                           0.75        20\n",
            "   macro avg       0.74      0.75      0.74        20\n",
            "weighted avg       0.76      0.75      0.75        20\n",
            "\n"
          ]
        },
        {
          "output_type": "stream",
          "name": "stderr",
          "text": [
            "/usr/local/lib/python3.8/dist-packages/sklearn/utils/deprecation.py:87: FutureWarning: Function plot_confusion_matrix is deprecated; Function `plot_confusion_matrix` is deprecated in 1.0 and will be removed in 1.2. Use one of the class methods: ConfusionMatrixDisplay.from_predictions or ConfusionMatrixDisplay.from_estimator.\n",
            "  warnings.warn(msg, category=FutureWarning)\n"
          ]
        },
        {
          "output_type": "execute_result",
          "data": {
            "text/plain": [
              "<sklearn.metrics._plot.confusion_matrix.ConfusionMatrixDisplay at 0x7fb5e6d25190>"
            ]
          },
          "metadata": {},
          "execution_count": 36
        },
        {
          "output_type": "display_data",
          "data": {
            "text/plain": [
              "<Figure size 432x288 with 2 Axes>"
            ],
            "image/png": "[encoded data removed]"
          },
          "metadata": {}
        }
      ],
      "source": [
        "print(confusion_matrix(y_test,dt_pred))\n",
        "print('\\n')\n",
        "print(classification_report(y_test,dt_pred))\n",
        "\n",
        "plot_confusion_matrix(dt, x_test, y_test)"
      ]
    },
    {
      "cell_type": "code",
      "execution_count": null,
      "metadata": {
        "colab": {
          "base_uri": "https://localhost:8080/",
          "height": 359
        },
        "id": "VbDxY61WcWWk",
        "outputId": "f6aab805-e8e7-4fd7-d0d4-3407ac0aad12"
      },
      "outputs": [
        {
          "output_type": "stream",
          "name": "stderr",
          "text": [
            "/usr/local/lib/python3.8/dist-packages/sklearn/utils/deprecation.py:87: FutureWarning: Function plot_roc_curve is deprecated; Function :func:`plot_roc_curve` is deprecated in 1.0 and will be removed in 1.2. Use one of the class methods: :meth:`sklearn.metric.RocCurveDisplay.from_predictions` or :meth:`sklearn.metric.RocCurveDisplay.from_estimator`.\n",
            "  warnings.warn(msg, category=FutureWarning)\n"
          ]
        },
        {
          "output_type": "execute_result",
          "data": {
            "text/plain": [
              "<sklearn.metrics._plot.roc_curve.RocCurveDisplay at 0x7fb5e6402880>"
            ]
          },
          "metadata": {},
          "execution_count": 37
        },
        {
          "output_type": "display_data",
          "data": {
            "text/plain": [
              "<Figure size 432x288 with 1 Axes>"
            ],
            "image/png": "[encoded data removed]"
          },
          "metadata": {}
        }
      ],
      "source": [
        "# ROC curve\n",
        "plot_roc_curve(dt, x_test, y_test)"
      ]
    },
    {
      "cell_type": "code",
      "execution_count": null,
      "metadata": {
        "colab": {
          "base_uri": "https://localhost:8080/"
        },
        "id": "NLvQVAp9OxEk",
        "outputId": "c9c604c9-cb70-4c32-a0ff-11b078bcf5ef"
      },
      "outputs": [
        {
          "output_type": "stream",
          "name": "stdout",
          "text": [
            "precision :  0.75 \n",
            " recall : 0.8181818181818182 \n",
            " f1_score : 0.7826086956521738\n"
          ]
        }
      ],
      "source": [
        "# Calculate all\n",
        "precision,recall,f1_score = evaluate_fn(y_test, dt_pred)  # takes y_test and model pred\n",
        "print(\"precision : \",precision,'\\n',\"recall :\",recall,'\\n',\"f1_score :\",f1_score)"
      ]
    },
    {
      "cell_type": "markdown",
      "metadata": {
        "id": "kgooyZqJPZin"
      },
      "source": [
        "#####**Naive Bayes**"
      ]
    },
    {
      "cell_type": "code",
      "execution_count": null,
      "metadata": {
        "colab": {
          "base_uri": "https://localhost:8080/"
        },
        "id": "doTfdu8aOxOp",
        "outputId": "0ecf8042-1094-492c-be20-39dbcaf7a4da"
      },
      "outputs": [
        {
          "output_type": "stream",
          "name": "stdout",
          "text": [
            "[[12  0]\n",
            " [ 8  0]]\n",
            "\n",
            "\n",
            "              precision    recall  f1-score   support\n",
            "\n",
            "         0.0       0.60      1.00      0.75        12\n",
            "         1.0       0.00      0.00      0.00         8\n",
            "\n",
            "    accuracy                           0.60        20\n",
            "   macro avg       0.30      0.50      0.37        20\n",
            "weighted avg       0.36      0.60      0.45        20\n",
            "\n"
          ]
        },
        {
          "output_type": "stream",
          "name": "stderr",
          "text": [
            "/usr/local/lib/python3.8/dist-packages/sklearn/metrics/_classification.py:1318: UndefinedMetricWarning: Precision and F-score are ill-defined and being set to 0.0 in labels with no predicted samples. Use `zero_division` parameter to control this behavior.\n",
            "  _warn_prf(average, modifier, msg_start, len(result))\n",
            "/usr/local/lib/python3.8/dist-packages/sklearn/metrics/_classification.py:1318: UndefinedMetricWarning: Precision and F-score are ill-defined and being set to 0.0 in labels with no predicted samples. Use `zero_division` parameter to control this behavior.\n",
            "  _warn_prf(average, modifier, msg_start, len(result))\n",
            "/usr/local/lib/python3.8/dist-packages/sklearn/metrics/_classification.py:1318: UndefinedMetricWarning: Precision and F-score are ill-defined and being set to 0.0 in labels with no predicted samples. Use `zero_division` parameter to control this behavior.\n",
            "  _warn_prf(average, modifier, msg_start, len(result))\n"
          ]
        }
      ],
      "source": [
        "from sklearn.naive_bayes import GaussianNB\n",
        "gnb = GaussianNB()\n",
        "gnb.fit(x_train, y_train)\n",
        "y_pred = gnb.predict(x_test)\n",
        "print(confusion_matrix(y_test,y_pred))\n",
        "print('\\n')\n",
        "print(classification_report(y_test,y_pred))"
      ]
    },
    {
      "cell_type": "code",
      "execution_count": null,
      "metadata": {
        "colab": {
          "base_uri": "https://localhost:8080/",
          "height": 363
        },
        "id": "rtJjpyC5Pvq1",
        "outputId": "eb03fa1b-7829-4208-daab-12c4e61acba3"
      },
      "outputs": [
        {
          "output_type": "stream",
          "name": "stderr",
          "text": [
            "/usr/local/lib/python3.8/dist-packages/sklearn/utils/deprecation.py:87: FutureWarning: Function plot_confusion_matrix is deprecated; Function `plot_confusion_matrix` is deprecated in 1.0 and will be removed in 1.2. Use one of the class methods: ConfusionMatrixDisplay.from_predictions or ConfusionMatrixDisplay.from_estimator.\n",
            "  warnings.warn(msg, category=FutureWarning)\n"
          ]
        },
        {
          "output_type": "execute_result",
          "data": {
            "text/plain": [
              "<sklearn.metrics._plot.confusion_matrix.ConfusionMatrixDisplay at 0x7fb5e6fbd520>"
            ]
          },
          "metadata": {},
          "execution_count": 40
        },
        {
          "output_type": "display_data",
          "data": {
            "text/plain": [
              "<Figure size 432x288 with 2 Axes>"
            ],
            "image/png": "[encoded data removed]"
          },
          "metadata": {}
        }
      ],
      "source": [
        "# Plot the confusion matrix\n",
        "from sklearn.metrics import plot_confusion_matrix\n",
        "plot_confusion_matrix(gnb, x_test, y_test)"
      ]
    },
    {
      "cell_type": "code",
      "execution_count": null,
      "metadata": {
        "colab": {
          "base_uri": "https://localhost:8080/",
          "height": 359
        },
        "id": "Wed-U5kRcgUl",
        "outputId": "e7ce717b-f937-4667-988d-146a5a3bb3c7"
      },
      "outputs": [
        {
          "output_type": "stream",
          "name": "stderr",
          "text": [
            "/usr/local/lib/python3.8/dist-packages/sklearn/utils/deprecation.py:87: FutureWarning: Function plot_roc_curve is deprecated; Function :func:`plot_roc_curve` is deprecated in 1.0 and will be removed in 1.2. Use one of the class methods: :meth:`sklearn.metric.RocCurveDisplay.from_predictions` or :meth:`sklearn.metric.RocCurveDisplay.from_estimator`.\n",
            "  warnings.warn(msg, category=FutureWarning)\n"
          ]
        },
        {
          "output_type": "execute_result",
          "data": {
            "text/plain": [
              "<sklearn.metrics._plot.roc_curve.RocCurveDisplay at 0x7fb5e708c610>"
            ]
          },
          "metadata": {},
          "execution_count": 41
        },
        {
          "output_type": "display_data",
          "data": {
            "text/plain": [
              "<Figure size 432x288 with 1 Axes>"
            ],
            "image/png": "[encoded data removed]"
          },
          "metadata": {}
        }
      ],
      "source": [
        "# ROC curve\n",
        "plot_roc_curve(gnb, x_test, y_test)"
      ]
    },
    {
      "cell_type": "code",
      "execution_count": null,
      "metadata": {
        "colab": {
          "base_uri": "https://localhost:8080/"
        },
        "id": "2W4WUiwKPv1a",
        "outputId": "7251146c-bf41-49de-a1aa-ffc7973ff804"
      },
      "outputs": [
        {
          "output_type": "stream",
          "name": "stdout",
          "text": [
            "precision :  1.0 \n",
            " recall : 0.6 \n",
            " f1_score : 0.7499999999999999\n"
          ]
        }
      ],
      "source": [
        "# Calculate all\n",
        "precision,recall,f1_score = evaluate_fn(y_test, y_pred)  # takes y_test and model pred\n",
        "print(\"precision : \",precision,'\\n',\"recall :\",recall,'\\n',\"f1_score :\",f1_score)"
      ]
    },
    {
      "cell_type": "markdown",
      "metadata": {
        "id": "eooNzf6NQAxU"
      },
      "source": [
        "#####**Using LDA**"
      ]
    },
    {
      "cell_type": "code",
      "execution_count": null,
      "metadata": {
        "colab": {
          "base_uri": "https://localhost:8080/",
          "height": 701
        },
        "id": "oenL2NM6QElT",
        "outputId": "a4a74f4b-3b08-4f81-ab7c-40cd1da024bc"
      },
      "outputs": [
        {
          "output_type": "stream",
          "name": "stdout",
          "text": [
            "[[8 4]\n",
            " [2 6]]\n",
            "\n",
            "\n",
            "              precision    recall  f1-score   support\n",
            "\n",
            "         0.0       0.80      0.67      0.73        12\n",
            "         1.0       0.60      0.75      0.67         8\n",
            "\n",
            "    accuracy                           0.70        20\n",
            "   macro avg       0.70      0.71      0.70        20\n",
            "weighted avg       0.72      0.70      0.70        20\n",
            "\n",
            "precision :  0.6666666666666666 \n",
            " recall : 0.8 \n",
            " f1_score : 0.7272727272727272\n",
            "\n",
            "\n"
          ]
        },
        {
          "output_type": "stream",
          "name": "stderr",
          "text": [
            "/usr/local/lib/python3.8/dist-packages/sklearn/utils/deprecation.py:87: FutureWarning: Function plot_confusion_matrix is deprecated; Function `plot_confusion_matrix` is deprecated in 1.0 and will be removed in 1.2. Use one of the class methods: ConfusionMatrixDisplay.from_predictions or ConfusionMatrixDisplay.from_estimator.\n",
            "  warnings.warn(msg, category=FutureWarning)\n"
          ]
        },
        {
          "output_type": "display_data",
          "data": {
            "text/plain": [
              "<Figure size 432x288 with 2 Axes>"
            ],
            "image/png": "[encoded data removed]"
          },
          "metadata": {}
        }
      ],
      "source": [
        "from sklearn.discriminant_analysis import LinearDiscriminantAnalysis\n",
        "lda = LinearDiscriminantAnalysis()\n",
        "lda.fit(x_train,y_train)\n",
        "lda_pred = lda.predict(x_test)\n",
        "\n",
        "print(confusion_matrix(y_test,lda_pred))\n",
        "print('\\n')\n",
        "print(classification_report(y_test,lda_pred))\n",
        "plot_confusion_matrix(lda, x_test, y_test)\n",
        "\n",
        "\n",
        "# Calculate all\n",
        "precision,recall,f1_score = evaluate_fn(y_test, lda_pred)  # takes y_test and model pred\n",
        "print(\"precision : \",precision,'\\n',\"recall :\",recall,'\\n',\"f1_score :\",f1_score)\n",
        "print('\\n')"
      ]
    },
    {
      "cell_type": "code",
      "execution_count": null,
      "metadata": {
        "colab": {
          "base_uri": "https://localhost:8080/",
          "height": 359
        },
        "id": "oKARc_MeQEs_",
        "outputId": "f498b2ed-61d7-494d-a57a-532d2d5b5c12"
      },
      "outputs": [
        {
          "output_type": "stream",
          "name": "stderr",
          "text": [
            "/usr/local/lib/python3.8/dist-packages/sklearn/utils/deprecation.py:87: FutureWarning: Function plot_roc_curve is deprecated; Function :func:`plot_roc_curve` is deprecated in 1.0 and will be removed in 1.2. Use one of the class methods: :meth:`sklearn.metric.RocCurveDisplay.from_predictions` or :meth:`sklearn.metric.RocCurveDisplay.from_estimator`.\n",
            "  warnings.warn(msg, category=FutureWarning)\n"
          ]
        },
        {
          "output_type": "execute_result",
          "data": {
            "text/plain": [
              "<sklearn.metrics._plot.roc_curve.RocCurveDisplay at 0x7fb5e6f6f2b0>"
            ]
          },
          "metadata": {},
          "execution_count": 45
        },
        {
          "output_type": "display_data",
          "data": {
            "text/plain": [
              "<Figure size 432x288 with 1 Axes>"
            ],
            "image/png": "[encoded data removed]"
          },
          "metadata": {}
        }
      ],
      "source": [
        "# ROC curve\n",
        "plot_roc_curve(lda, x_test, y_test)"
      ]
    },
    {
      "cell_type": "markdown",
      "source": [
        "### Using Hybrid GWO"
      ],
      "metadata": {
        "id": "x66erQjihvW1"
      }
    },
    {
      "cell_type": "code",
      "source": [
        "%cd \"/content/drive/MyDrive/Work Space\""
      ],
      "metadata": {
        "colab": {
          "base_uri": "https://localhost:8080/"
        },
        "id": "9JPsVNL3hygf",
        "outputId": "715e5e80-423b-4df3-9321-e131dad0b875"
      },
      "execution_count": null,
      "outputs": [
        {
          "output_type": "stream",
          "name": "stdout",
          "text": [
            "/content/drive/MyDrive/Work Space\n"
          ]
        }
      ]
    },
    {
      "cell_type": "code",
      "source": [
        "from FS.GWOJA import jfs"
      ],
      "metadata": {
        "id": "qPv3WPnxhynB"
      },
      "execution_count": null,
      "outputs": []
    },
    {
      "cell_type": "code",
      "source": [
        "\n",
        "# grab our features\n",
        "new_y = y.values\n",
        "x = data1.drop(['Class'], axis=1)\n",
        "x = x.to_numpy()\n",
        "from sklearn.model_selection import train_test_split\n",
        "x_train, x_test, y_train, y_test = train_test_split(x, new_y, test_size = 0.2, random_state = 58)\n",
        "print(\"x_train shape: \", x_train.shape)\n",
        "print(\"y_train shape: \", y_train.shape)\n",
        "print(\"x_text: \",x_test.shape)\n",
        "print(\"y_test: \",y_test.shape)\n",
        "\n",
        "from sklearn.preprocessing import StandardScaler\n",
        "sc = StandardScaler()\n",
        "x_train = sc.fit_transform(x_train)\n",
        "x_test = sc.transform(x_test)"
      ],
      "metadata": {
        "colab": {
          "base_uri": "https://localhost:8080/"
        },
        "id": "ytHM7_sPksI7",
        "outputId": "4a1ae9f6-9c7c-48a2-a2b2-f3fbc00e25a7"
      },
      "execution_count": null,
      "outputs": [
        {
          "output_type": "stream",
          "name": "stdout",
          "text": [
            "x_train shape:  (77, 24481)\n",
            "y_train shape:  (77,)\n",
            "x_text:  (20, 24481)\n",
            "y_test:  (20,)\n"
          ]
        }
      ]
    },
    {
      "cell_type": "code",
      "source": [
        "\n",
        "# parameter\n",
        "k    = 5     # k-value in KNN\n",
        "N    = 10    # number of chromosomes\n",
        "T    = 100   # maximum number of generations\n",
        "CR   = 0.8\n",
        "MR   = 0.01\n",
        "fold = {'xt':x_train, 'yt':y_train, 'xv':x_test, 'yv':y_test}\n",
        "opts = {'k':k, 'fold':fold, 'N':N, 'T':T, 'CR':CR, 'MR':MR}"
      ],
      "metadata": {
        "id": "SJJjjLgkksMK"
      },
      "execution_count": null,
      "outputs": []
    },
    {
      "cell_type": "code",
      "source": [
        "# Check for types of x and y wheather they are numpy.ndarray or not\n",
        "\n",
        "print(type(x))\n",
        "print(type(new_y))"
      ],
      "metadata": {
        "id": "SFlwTrjMksQA",
        "colab": {
          "base_uri": "https://localhost:8080/"
        },
        "outputId": "6b9f7b76-4a29-4f2a-ba2c-8b5a604a66a4"
      },
      "execution_count": null,
      "outputs": [
        {
          "output_type": "stream",
          "name": "stdout",
          "text": [
            "<class 'numpy.ndarray'>\n",
            "<class 'numpy.ndarray'>\n"
          ]
        }
      ]
    },
    {
      "cell_type": "code",
      "source": [
        "fmdl = jfs(x, new_y, opts)\n",
        "sf   = fmdl['sf']"
      ],
      "metadata": {
        "colab": {
          "base_uri": "https://localhost:8080/"
        },
        "id": "vK6lxjUxksTE",
        "outputId": "f0c26aa7-ec21-4054-8f84-065325cc00d1"
      },
      "execution_count": null,
      "outputs": [
        {
          "output_type": "stream",
          "name": "stdout",
          "text": [
            "Iteration: 1\n",
            "Best (GWO): 0.25247773783750665\n",
            "Iteration: 2\n",
            "Best (GWOJA): 0.20276900453412847\n",
            "Iteration: 3\n",
            "Best (GWOJA): 0.2025978513949593\n",
            "Iteration: 4\n",
            "Best (GWOJA): 0.20234050896613695\n",
            "Iteration: 5\n",
            "Best (GWOJA): 0.20211666190106609\n",
            "Iteration: 6\n",
            "Best (GWOJA): 0.2019773702054654\n",
            "Iteration: 7\n",
            "Best (GWOJA): 0.2018977165965442\n",
            "Iteration: 8\n",
            "Best (GWOJA): 0.20180989338670802\n",
            "Iteration: 9\n",
            "Best (GWOJA): 0.20171267513581959\n",
            "Iteration: 10\n",
            "Best (GWOJA): 0.20157705976063064\n",
            "Iteration: 11\n",
            "Best (GWOJA): 0.15195369878681428\n",
            "Iteration: 12\n",
            "Best (GWOJA): 0.1518626077366121\n",
            "Iteration: 13\n",
            "Best (GWOJA): 0.1517049344389527\n",
            "Iteration: 14\n",
            "Best (GWOJA): 0.15162405538989424\n",
            "Iteration: 15\n",
            "Best (GWOJA): 0.15152602017891428\n",
            "Iteration: 16\n",
            "Best (GWOJA): 0.15147005841264657\n",
            "Iteration: 17\n",
            "Best (GWOJA): 0.15137324864180388\n",
            "Iteration: 18\n",
            "Best (GWOJA): 0.15132545647645115\n",
            "Iteration: 19\n",
            "Best (GWOJA): 0.15128583391201342\n",
            "Iteration: 20\n",
            "Best (GWOJA): 0.15118820718107923\n",
            "Iteration: 21\n",
            "Best (GWOJA): 0.15109629917078554\n",
            "Iteration: 22\n",
            "Best (GWOJA): 0.15101827948204732\n",
            "Iteration: 23\n",
            "Best (GWOJA): 0.1509047220293289\n",
            "Iteration: 24\n",
            "Best (GWOJA): 0.15086183162452516\n",
            "Iteration: 25\n",
            "Best (GWOJA): 0.1507842204158327\n",
            "Iteration: 26\n",
            "Best (GWOJA): 0.15075358441240147\n",
            "Iteration: 27\n",
            "Best (GWOJA): 0.15068741064499003\n",
            "Iteration: 28\n",
            "Best (GWOJA): 0.15064002695968304\n",
            "Iteration: 29\n",
            "Best (GWOJA): 0.10107957191291203\n",
            "Iteration: 30\n",
            "Best (GWOJA): 0.1010374984681998\n",
            "Iteration: 31\n",
            "Best (GWOJA): 0.10096478902005634\n",
            "Iteration: 32\n",
            "Best (GWOJA): 0.10094191413749436\n",
            "Iteration: 33\n",
            "Best (GWOJA): 0.1008814590907234\n",
            "Iteration: 34\n",
            "Best (GWOJA): 0.10083734324578242\n",
            "Iteration: 35\n",
            "Best (GWOJA): 0.10081610228340343\n",
            "Iteration: 36\n",
            "Best (GWOJA): 0.10078015603937746\n",
            "Iteration: 37\n",
            "Best (GWOJA): 0.10076790163800496\n",
            "Iteration: 38\n",
            "Best (GWOJA): 0.10076014051713572\n",
            "Iteration: 39\n",
            "Best (GWOJA): 0.10072623667333848\n",
            "Iteration: 40\n",
            "Best (GWOJA): 0.10071153139169149\n",
            "Iteration: 41\n",
            "Best (GWOJA): 0.100697643070136\n",
            "Iteration: 42\n",
            "Best (GWOJA): 0.10066006290592702\n",
            "Iteration: 43\n",
            "Best (GWOJA): 0.10066006290592702\n",
            "Iteration: 44\n",
            "Best (GWOJA): 0.10063923042359378\n",
            "Iteration: 45\n",
            "Best (GWOJA): 0.10063596258322778\n",
            "Iteration: 46\n",
            "Best (GWOJA): 0.1006081859401168\n",
            "Iteration: 47\n",
            "Best (GWOJA): 0.1006081859401168\n",
            "Iteration: 48\n",
            "Best (GWOJA): 0.10058326865732607\n",
            "Iteration: 49\n",
            "Best (GWOJA): 0.10058326865732607\n",
            "Iteration: 50\n",
            "Best (GWOJA): 0.10056284465503858\n",
            "Iteration: 51\n",
            "Best (GWOJA): 0.10054854785343734\n",
            "Iteration: 52\n",
            "Best (GWOJA): 0.10051954577018911\n",
            "Iteration: 53\n",
            "Best (GWOJA): 0.1005187288100976\n",
            "Iteration: 54\n",
            "Best (GWOJA): 0.10051423552959436\n",
            "Iteration: 55\n",
            "Best (GWOJA): 0.10048359952616312\n",
            "Iteration: 56\n",
            "Best (GWOJA): 0.10047502144520239\n",
            "Iteration: 57\n",
            "Best (GWOJA): 0.10047297904497363\n",
            "Iteration: 58\n",
            "Best (GWOJA): 0.10046072464360113\n",
            "Iteration: 59\n",
            "Best (GWOJA): 0.1004537804828234\n",
            "Iteration: 60\n",
            "Best (GWOJA): 0.10043703280094765\n",
            "Iteration: 61\n",
            "Best (GWOJA): 0.10043213104039865\n",
            "Iteration: 62\n",
            "Best (GWOJA): 0.10041415791838566\n",
            "Iteration: 63\n",
            "Best (GWOJA): 0.10039700175646417\n",
            "Iteration: 64\n",
            "Best (GWOJA): 0.10039700175646417\n",
            "Iteration: 65\n",
            "Best (GWOJA): 0.10038147951472569\n",
            "Iteration: 66\n",
            "Best (GWOJA): 0.10037821167435969\n",
            "Iteration: 67\n",
            "Best (GWOJA): 0.10036514031289569\n",
            "Iteration: 68\n",
            "Best (GWOJA): 0.1003643233528042\n",
            "Iteration: 69\n",
            "Best (GWOJA): 0.10035492831175195\n",
            "Iteration: 70\n",
            "Best (GWOJA): 0.10035492831175195\n",
            "Iteration: 71\n",
            "Best (GWOJA): 0.10035288591152319\n",
            "Iteration: 72\n",
            "Best (GWOJA): 0.1003463502307912\n",
            "Iteration: 73\n",
            "Best (GWOJA): 0.10034349087047095\n",
            "Iteration: 74\n",
            "Best (GWOJA): 0.1003398145500592\n",
            "Iteration: 75\n",
            "Best (GWOJA): 0.1003398145500592\n",
            "Iteration: 76\n",
            "Best (GWOJA): 0.10033613822964746\n",
            "Iteration: 77\n",
            "Best (GWOJA): 0.10033613822964746\n",
            "Iteration: 78\n",
            "Best (GWOJA): 0.10032306686818347\n",
            "Iteration: 79\n",
            "Best (GWOJA): 0.10032306686818347\n",
            "Iteration: 80\n",
            "Best (GWOJA): 0.10032265838813771\n",
            "Iteration: 81\n",
            "Best (GWOJA): 0.10032265838813771\n",
            "Iteration: 82\n",
            "Best (GWOJA): 0.10032020750786322\n",
            "Iteration: 83\n",
            "Best (GWOJA): 0.10031775662758873\n",
            "Iteration: 84\n",
            "Best (GWOJA): 0.10031775662758873\n",
            "Iteration: 85\n",
            "Best (GWOJA): 0.10030999550671947\n",
            "Iteration: 86\n",
            "Best (GWOJA): 0.10030999550671947\n",
            "Iteration: 87\n",
            "Best (GWOJA): 0.10030754462644498\n",
            "Iteration: 88\n",
            "Best (GWOJA): 0.10030550222621623\n",
            "Iteration: 89\n",
            "Best (GWOJA): 0.10030264286589598\n",
            "Iteration: 90\n",
            "Best (GWOJA): 0.10029937502552998\n",
            "Iteration: 91\n",
            "Best (GWOJA): 0.10029937502552998\n",
            "Iteration: 92\n",
            "Best (GWOJA): 0.10029814958539274\n",
            "Iteration: 93\n",
            "Best (GWOJA): 0.10029610718516398\n",
            "Iteration: 94\n",
            "Best (GWOJA): 0.10029038846452348\n",
            "Iteration: 95\n",
            "Best (GWOJA): 0.10029038846452348\n",
            "Iteration: 96\n",
            "Best (GWOJA): 0.10029038846452348\n",
            "Iteration: 97\n",
            "Best (GWOJA): 0.10029038846452348\n",
            "Iteration: 98\n",
            "Best (GWOJA): 0.10029038846452348\n",
            "Iteration: 99\n",
            "Best (GWOJA): 0.10029038846452348\n",
            "Iteration: 100\n",
            "Best (GWOJA): 0.10029038846452348\n"
          ]
        }
      ]
    },
    {
      "cell_type": "code",
      "source": [
        "# model with selected features\n",
        "num_train = np.size(x_train, 0)\n",
        "num_valid = np.size(x_test, 0)\n",
        "x_train   = x_train[:, sf]\n",
        "y_train   = y_train.reshape(num_train)\n",
        "x_valid   = x_test[:, sf]\n",
        "y_valid   = y_test.reshape(num_valid)"
      ],
      "metadata": {
        "id": "y7D82WgVksWL"
      },
      "execution_count": null,
      "outputs": []
    },
    {
      "cell_type": "code",
      "source": [
        "f = fmdl['sf']\n",
        "print(\"Lenght of features: \", len(f))\n",
        "# featching features\n",
        "features = []\n",
        "for key, val in col_dict.items():\n",
        "  if key in f:\n",
        "    features.append(col_dict.get(key))\n",
        "cor = data1[features].corr()\n",
        "#plt.figure(figsize=(15,16))\n",
        "# uncomment this if you want to plot\n",
        "# sns.heatmap(cor)"
      ],
      "metadata": {
        "id": "8r1ble1-ksZE",
        "colab": {
          "base_uri": "https://localhost:8080/"
        },
        "outputId": "ec06c114-c5e7-4830-c056-58ae73d19c53"
      },
      "execution_count": null,
      "outputs": [
        {
          "output_type": "stream",
          "name": "stdout",
          "text": [
            "Lenght of features:  4070\n"
          ]
        }
      ]
    },
    {
      "cell_type": "markdown",
      "source": [
        "### LSTM model"
      ],
      "metadata": {
        "id": "i2BA12decTgR"
      }
    },
    {
      "cell_type": "code",
      "source": [
        "import tensorflow as tf\n",
        "from tensorflow.keras import Model\n",
        "from tensorflow.keras.optimizers import Adam\n",
        "from tensorflow.keras.layers import LSTM, Activation, Dense, Dropout, Input\n",
        "from tensorflow.keras import regularizers"
      ],
      "metadata": {
        "id": "sRaFTQsOcjVb"
      },
      "execution_count": null,
      "outputs": []
    },
    {
      "cell_type": "code",
      "source": [
        "!pip install keras-self-attention"
      ],
      "metadata": {
        "colab": {
          "base_uri": "https://localhost:8080/"
        },
        "id": "SybfMwQVzrq0",
        "outputId": "31104713-80c7-4541-bb60-ae871abc8520"
      },
      "execution_count": null,
      "outputs": [
        {
          "output_type": "stream",
          "name": "stdout",
          "text": [
            "Looking in indexes: https://pypi.org/simple, https://us-python.pkg.dev/colab-wheels/public/simple/\n",
            "Collecting keras-self-attention\n",
            "  Downloading keras-self-attention-0.51.0.tar.gz (11 kB)\n",
            "  Preparing metadata (setup.py) ... \u001b[?25l\u001b[?25hdone\n",
            "Requirement already satisfied: numpy in /usr/local/lib/python3.9/dist-packages (from keras-self-attention) (1.22.4)\n",
            "Building wheels for collected packages: keras-self-attention\n",
            "  Building wheel for keras-self-attention (setup.py) ... \u001b[?25l\u001b[?25hdone\n",
            "  Created wheel for keras-self-attention: filename=keras_self_attention-0.51.0-py3-none-any.whl size=18913 sha256=175af0665ddab84288d7f5bbc2351abf0d461d3af352ffb8b2c282933e00d0c3\n",
            "  Stored in directory: /root/.cache/pip/wheels/78/c1/84/b83a2fd6f1d63e136cba74bac4126bee3b8705eef6486635fd\n",
            "Successfully built keras-self-attention\n",
            "Installing collected packages: keras-self-attention\n",
            "Successfully installed keras-self-attention-0.51.0\n"
          ]
        }
      ]
    },
    {
      "cell_type": "code",
      "source": [
        "from keras_self_attention import SeqSelfAttention\n",
        "from tensorflow.keras.layers import Bidirectional,Flatten"
      ],
      "metadata": {
        "id": "BaioRviFzvYG"
      },
      "execution_count": null,
      "outputs": []
    },
    {
      "cell_type": "code",
      "source": [
        "# # Model\n",
        "\n",
        "# data = Input((x_train.shape[1],1),dtype= 'float32')\n",
        "\n",
        "# X = LSTM(512,return_sequences =True,activity_regularizer=regularizers.L2(0.001))(data)\n",
        "# X = Dropout(0.5)(X)\n",
        "# X = LSTM(256,return_sequences = True)(X)\n",
        "# X = Dropout(0.5)(X)\n",
        "# X = LSTM(128,return_sequences = True)(X)\n",
        "# X = LSTM(64,return_sequences = True)(X)\n",
        "# X = Dropout(0.2)(X)\n",
        "# X = LSTM(32,return_sequences = True)(X)\n",
        "# X = LSTM(16,return_sequences = False)(X)\n",
        "# X = Dense(units=4)(X)\n",
        "# X = Dense(units=2)(X)\n",
        "# # use sigmoid\n",
        "# X = Activation('sigmoid')(X)   # sigmoid is for binary classification and softmax for multiclass classification.\n",
        "# lstm = Model(data, X)"
      ],
      "metadata": {
        "id": "LCIP8407cmSG"
      },
      "execution_count": null,
      "outputs": []
    },
    {
      "cell_type": "code",
      "source": [
        "data = Input((x_train.shape[1],1),dtype= 'float32')\n",
        "\n",
        "X = Bidirectional(LSTM(64,return_sequences = True, name=\"LSTM_1\"))(data)\n",
        "X = Dropout(0.3)(X)\n",
        "\n",
        "att = SeqSelfAttention(attention_type=SeqSelfAttention.ATTENTION_TYPE_MUL,\n",
        "                       kernel_regularizer=regularizers.l2(1e-6),\n",
        "                       bias_regularizer=regularizers.l1(1e-6),\n",
        "                       attention_regularizer_weight=1e-6,\n",
        "                       name='Attention')(X)\n",
        "X = Dropout(0.7)(X)\n",
        "flat_layer = Flatten()(att)\n",
        "X = Dense(units=12, name=\"Dense_1\")(flat_layer)\n",
        "X = Dense(units=2, name=\"Output_layer\")(X)\n",
        "\n",
        "X = Activation('sigmoid')(X)   # sigmoid is for binary classification and softmax for multiclass classification.\n",
        "lstm = Model(data, X)"
      ],
      "metadata": {
        "id": "bp4etW4wz1lk"
      },
      "execution_count": null,
      "outputs": []
    },
    {
      "cell_type": "code",
      "source": [
        "# lstm.set_weights(\"/content/drive/MyDrive/Work Space/Breast_cancer_varient_selfAttention_weights_R2.h5\")"
      ],
      "metadata": {
        "id": "Py5zKKTp4McU"
      },
      "execution_count": null,
      "outputs": []
    },
    {
      "cell_type": "code",
      "source": [
        "lstm.summary()"
      ],
      "metadata": {
        "colab": {
          "base_uri": "https://localhost:8080/"
        },
        "id": "SkSTS55Nc1nH",
        "outputId": "d90c110e-6433-4230-9f3c-a3d7a8684070"
      },
      "execution_count": null,
      "outputs": [
        {
          "output_type": "stream",
          "name": "stdout",
          "text": [
            "Model: \"model_3\"\n",
            "_________________________________________________________________\n",
            " Layer (type)                Output Shape              Param #   \n",
            "=================================================================\n",
            " input_4 (InputLayer)        [(None, 4070, 1)]         0         \n",
            "                                                                 \n",
            " bidirectional_3 (Bidirectio  (None, 4070, 128)        33792     \n",
            " nal)                                                            \n",
            "                                                                 \n",
            " dropout_6 (Dropout)         (None, 4070, 128)         0         \n",
            "                                                                 \n",
            " Attention (SeqSelfAttention  (None, 4070, 128)        16385     \n",
            " )                                                               \n",
            "                                                                 \n",
            " flatten_3 (Flatten)         (None, 520960)            0         \n",
            "                                                                 \n",
            " Dense_1 (Dense)             (None, 12)                6251532   \n",
            "                                                                 \n",
            " Output_layer (Dense)        (None, 2)                 26        \n",
            "                                                                 \n",
            " activation_3 (Activation)   (None, 2)                 0         \n",
            "                                                                 \n",
            "=================================================================\n",
            "Total params: 6,301,735\n",
            "Trainable params: 6,301,735\n",
            "Non-trainable params: 0\n",
            "_________________________________________________________________\n"
          ]
        }
      ]
    },
    {
      "cell_type": "code",
      "source": [
        "# from tensorflow import keras\n",
        "# lstm = keras.models.load_model('/content/drive/MyDrive/Work Space/breastCancer_lstm_hybrid_gwo.h5')"
      ],
      "metadata": {
        "id": "u1CryJoccRL0"
      },
      "execution_count": null,
      "outputs": []
    },
    {
      "cell_type": "code",
      "source": [
        "optimizer = Adam(learning_rate= 0.0001,clipvalue=0.5)\n",
        "lstm.compile(optimizer=optimizer, loss= 'binary_crossentropy', metrics=['accuracy'])"
      ],
      "metadata": {
        "id": "sFyup7Tnf7rC"
      },
      "execution_count": null,
      "outputs": []
    },
    {
      "cell_type": "code",
      "source": [
        "def scheduler(epoch, lr):\n",
        "  if epoch < 20:\n",
        "    return lr\n",
        "  else:\n",
        "    return lr * tf.math.exp(-0.1)\n",
        "callback = tf.keras.callbacks.LearningRateScheduler(scheduler)"
      ],
      "metadata": {
        "id": "i8J-RZuVYIB4"
      },
      "execution_count": null,
      "outputs": []
    },
    {
      "cell_type": "code",
      "source": [
        "# fun for converting our target to one_hot vectior format.\n",
        "def convert_to_one_hot(Y, C):  # Y - target column and C- is the number of classes(here its is 2).\n",
        "    Y = np.eye(C)[Y.reshape(-1)]\n",
        "    return Y"
      ],
      "metadata": {
        "id": "Mskpx1dBDKO6"
      },
      "execution_count": null,
      "outputs": []
    },
    {
      "cell_type": "code",
      "source": [
        "# While using GA\n",
        "#Y_train = y_train.to_numpy() # Y_train is series here so we converted into numpy array\n",
        "# Y_train_oh = convert_to_one_hot(Y_train.astype(\"int64\"),2)  # one_hot vec format\n",
        "\n",
        "# While using Hybrid GWO\n",
        "Y_train_oh = convert_to_one_hot(y_train.astype(\"int64\"),2)  # one_hot vec format"
      ],
      "metadata": {
        "id": "85fulJC8DQNE"
      },
      "execution_count": null,
      "outputs": []
    },
    {
      "cell_type": "code",
      "source": [
        "# Y_test_oh = tf.one_hot(y_test.to_numpy(), 2)\n",
        "\n",
        "# While using GA\n",
        "# Y_valid = y_valid.to_numpy()\n",
        "# Y_test_oh = convert_to_one_hot(_valid.astype(\"int64\"),2)\n",
        "\n",
        "# WHILE USING HybridGWO\n",
        "Y_test_oh = convert_to_one_hot(y_valid.astype(\"int64\"),2)"
      ],
      "metadata": {
        "id": "a8weZzCQb9IA"
      },
      "execution_count": null,
      "outputs": []
    },
    {
      "cell_type": "code",
      "source": [
        "print(x_train.shape)\n",
        "print(Y_train_oh.shape)"
      ],
      "metadata": {
        "colab": {
          "base_uri": "https://localhost:8080/"
        },
        "id": "54IExanvonJx",
        "outputId": "1430e715-4f89-4721-8fa9-5cec23f1ea7c"
      },
      "execution_count": null,
      "outputs": [
        {
          "output_type": "stream",
          "name": "stdout",
          "text": [
            "(77, 4070)\n",
            "(77, 2)\n"
          ]
        }
      ]
    },
    {
      "cell_type": "code",
      "source": [
        "hist_gwo = lstm.fit(x_train, Y_train_oh, epochs= 100,validation_data=(x_valid,Y_test_oh),\n",
        "                    batch_size = 7,callbacks=[callback], shuffle=True, verbose = 2)"
      ],
      "metadata": {
        "colab": {
          "base_uri": "https://localhost:8080/"
        },
        "id": "IJLw6RGvjf2E",
        "outputId": "df3d9066-2689-4c71-9df1-6ed1aee39bf4"
      },
      "execution_count": null,
      "outputs": [
        {
          "output_type": "stream",
          "name": "stdout",
          "text": [
            "Epoch 1/100\n",
            "11/11 - 23s - loss: 0.0076 - accuracy: 1.0000 - val_loss: 1.5369 - val_accuracy: 0.7500 - lr: 1.0000e-04 - 23s/epoch - 2s/step\n",
            "Epoch 2/100\n",
            "11/11 - 16s - loss: 0.0082 - accuracy: 1.0000 - val_loss: 1.5882 - val_accuracy: 0.7500 - lr: 1.0000e-04 - 16s/epoch - 1s/step\n",
            "Epoch 3/100\n",
            "11/11 - 18s - loss: 0.0090 - accuracy: 1.0000 - val_loss: 1.6287 - val_accuracy: 0.7500 - lr: 1.0000e-04 - 18s/epoch - 2s/step\n",
            "Epoch 4/100\n",
            "11/11 - 17s - loss: 0.0064 - accuracy: 1.0000 - val_loss: 1.6053 - val_accuracy: 0.7500 - lr: 1.0000e-04 - 17s/epoch - 2s/step\n",
            "Epoch 5/100\n",
            "11/11 - 16s - loss: 0.0064 - accuracy: 1.0000 - val_loss: 1.6196 - val_accuracy: 0.7500 - lr: 1.0000e-04 - 16s/epoch - 1s/step\n",
            "Epoch 6/100\n",
            "11/11 - 16s - loss: 0.0068 - accuracy: 1.0000 - val_loss: 1.6807 - val_accuracy: 0.7500 - lr: 1.0000e-04 - 16s/epoch - 1s/step\n",
            "Epoch 7/100\n",
            "11/11 - 17s - loss: 0.0143 - accuracy: 1.0000 - val_loss: 1.7804 - val_accuracy: 0.7500 - lr: 1.0000e-04 - 17s/epoch - 2s/step\n",
            "Epoch 8/100\n",
            "11/11 - 18s - loss: 0.0072 - accuracy: 1.0000 - val_loss: 1.8304 - val_accuracy: 0.7500 - lr: 1.0000e-04 - 18s/epoch - 2s/step\n",
            "Epoch 9/100\n",
            "11/11 - 17s - loss: 0.0063 - accuracy: 1.0000 - val_loss: 1.8751 - val_accuracy: 0.7500 - lr: 1.0000e-04 - 17s/epoch - 2s/step\n",
            "Epoch 10/100\n",
            "11/11 - 18s - loss: 0.0063 - accuracy: 1.0000 - val_loss: 1.8995 - val_accuracy: 0.7500 - lr: 1.0000e-04 - 18s/epoch - 2s/step\n",
            "Epoch 11/100\n",
            "11/11 - 16s - loss: 0.0058 - accuracy: 1.0000 - val_loss: 1.9623 - val_accuracy: 0.7500 - lr: 1.0000e-04 - 16s/epoch - 1s/step\n",
            "Epoch 12/100\n",
            "11/11 - 17s - loss: 0.0055 - accuracy: 1.0000 - val_loss: 2.0001 - val_accuracy: 0.7500 - lr: 1.0000e-04 - 17s/epoch - 2s/step\n",
            "Epoch 13/100\n",
            "11/11 - 18s - loss: 0.0057 - accuracy: 1.0000 - val_loss: 2.0295 - val_accuracy: 0.7500 - lr: 1.0000e-04 - 18s/epoch - 2s/step\n",
            "Epoch 14/100\n",
            "11/11 - 17s - loss: 0.0055 - accuracy: 1.0000 - val_loss: 2.0618 - val_accuracy: 0.7500 - lr: 1.0000e-04 - 17s/epoch - 2s/step\n",
            "Epoch 15/100\n",
            "11/11 - 17s - loss: 0.0055 - accuracy: 1.0000 - val_loss: 2.1033 - val_accuracy: 0.7500 - lr: 1.0000e-04 - 17s/epoch - 2s/step\n",
            "Epoch 16/100\n",
            "11/11 - 18s - loss: 0.0053 - accuracy: 1.0000 - val_loss: 2.1179 - val_accuracy: 0.7500 - lr: 1.0000e-04 - 18s/epoch - 2s/step\n",
            "Epoch 17/100\n",
            "11/11 - 17s - loss: 0.0055 - accuracy: 1.0000 - val_loss: 2.1433 - val_accuracy: 0.7500 - lr: 1.0000e-04 - 17s/epoch - 2s/step\n",
            "Epoch 18/100\n",
            "11/11 - 18s - loss: 0.0054 - accuracy: 1.0000 - val_loss: 2.1823 - val_accuracy: 0.7500 - lr: 1.0000e-04 - 18s/epoch - 2s/step\n",
            "Epoch 19/100\n",
            "11/11 - 17s - loss: 0.0058 - accuracy: 1.0000 - val_loss: 2.2162 - val_accuracy: 0.7500 - lr: 1.0000e-04 - 17s/epoch - 2s/step\n",
            "Epoch 20/100\n",
            "11/11 - 17s - loss: 0.0057 - accuracy: 1.0000 - val_loss: 2.2402 - val_accuracy: 0.7500 - lr: 1.0000e-04 - 17s/epoch - 2s/step\n",
            "Epoch 21/100\n",
            "11/11 - 17s - loss: 0.0049 - accuracy: 1.0000 - val_loss: 2.2596 - val_accuracy: 0.7500 - lr: 9.0484e-05 - 17s/epoch - 2s/step\n",
            "Epoch 22/100\n",
            "11/11 - 18s - loss: 0.0064 - accuracy: 1.0000 - val_loss: 2.2859 - val_accuracy: 0.7500 - lr: 8.1873e-05 - 18s/epoch - 2s/step\n",
            "Epoch 23/100\n",
            "11/11 - 17s - loss: 0.0087 - accuracy: 1.0000 - val_loss: 2.3406 - val_accuracy: 0.7500 - lr: 7.4082e-05 - 17s/epoch - 2s/step\n",
            "Epoch 24/100\n",
            "11/11 - 17s - loss: 0.0056 - accuracy: 1.0000 - val_loss: 2.3661 - val_accuracy: 0.7500 - lr: 6.7032e-05 - 17s/epoch - 2s/step\n",
            "Epoch 25/100\n",
            "11/11 - 18s - loss: 0.0053 - accuracy: 1.0000 - val_loss: 2.3888 - val_accuracy: 0.7500 - lr: 6.0653e-05 - 18s/epoch - 2s/step\n",
            "Epoch 26/100\n",
            "11/11 - 18s - loss: 0.0064 - accuracy: 1.0000 - val_loss: 2.4101 - val_accuracy: 0.7500 - lr: 5.4881e-05 - 18s/epoch - 2s/step\n",
            "Epoch 27/100\n",
            "11/11 - 17s - loss: 0.0071 - accuracy: 1.0000 - val_loss: 2.4576 - val_accuracy: 0.7500 - lr: 4.9659e-05 - 17s/epoch - 2s/step\n",
            "Epoch 28/100\n",
            "11/11 - 17s - loss: 0.0050 - accuracy: 1.0000 - val_loss: 2.4790 - val_accuracy: 0.7500 - lr: 4.4933e-05 - 17s/epoch - 2s/step\n",
            "Epoch 29/100\n",
            "11/11 - 17s - loss: 0.0055 - accuracy: 1.0000 - val_loss: 2.4949 - val_accuracy: 0.7500 - lr: 4.0657e-05 - 17s/epoch - 2s/step\n",
            "Epoch 30/100\n",
            "11/11 - 17s - loss: 0.0056 - accuracy: 1.0000 - val_loss: 2.5101 - val_accuracy: 0.7500 - lr: 3.6788e-05 - 17s/epoch - 2s/step\n",
            "Epoch 31/100\n",
            "11/11 - 18s - loss: 0.0086 - accuracy: 1.0000 - val_loss: 2.5271 - val_accuracy: 0.7500 - lr: 3.3287e-05 - 18s/epoch - 2s/step\n",
            "Epoch 32/100\n",
            "11/11 - 17s - loss: 0.0055 - accuracy: 1.0000 - val_loss: 2.5457 - val_accuracy: 0.7500 - lr: 3.0119e-05 - 17s/epoch - 2s/step\n",
            "Epoch 33/100\n",
            "11/11 - 17s - loss: 0.0049 - accuracy: 1.0000 - val_loss: 2.5550 - val_accuracy: 0.7500 - lr: 2.7253e-05 - 17s/epoch - 2s/step\n",
            "Epoch 34/100\n",
            "11/11 - 18s - loss: 0.0051 - accuracy: 1.0000 - val_loss: 2.5646 - val_accuracy: 0.7500 - lr: 2.4660e-05 - 18s/epoch - 2s/step\n",
            "Epoch 35/100\n",
            "11/11 - 17s - loss: 0.0051 - accuracy: 1.0000 - val_loss: 2.5654 - val_accuracy: 0.7500 - lr: 2.2313e-05 - 17s/epoch - 2s/step\n",
            "Epoch 36/100\n",
            "11/11 - 16s - loss: 0.0052 - accuracy: 1.0000 - val_loss: 2.5718 - val_accuracy: 0.7500 - lr: 2.0190e-05 - 16s/epoch - 1s/step\n",
            "Epoch 37/100\n",
            "11/11 - 18s - loss: 0.0052 - accuracy: 1.0000 - val_loss: 2.5765 - val_accuracy: 0.7500 - lr: 1.8268e-05 - 18s/epoch - 2s/step\n",
            "Epoch 38/100\n",
            "11/11 - 18s - loss: 0.0055 - accuracy: 1.0000 - val_loss: 2.5829 - val_accuracy: 0.7500 - lr: 1.6530e-05 - 18s/epoch - 2s/step\n",
            "Epoch 39/100\n",
            "11/11 - 16s - loss: 0.0049 - accuracy: 1.0000 - val_loss: 2.5900 - val_accuracy: 0.7500 - lr: 1.4957e-05 - 16s/epoch - 1s/step\n",
            "Epoch 40/100\n",
            "11/11 - 18s - loss: 0.0054 - accuracy: 1.0000 - val_loss: 2.5945 - val_accuracy: 0.7500 - lr: 1.3534e-05 - 18s/epoch - 2s/step\n",
            "Epoch 41/100\n",
            "11/11 - 17s - loss: 0.0072 - accuracy: 1.0000 - val_loss: 2.6026 - val_accuracy: 0.7500 - lr: 1.2246e-05 - 17s/epoch - 2s/step\n",
            "Epoch 42/100\n",
            "11/11 - 18s - loss: 0.0050 - accuracy: 1.0000 - val_loss: 2.6085 - val_accuracy: 0.7500 - lr: 1.1080e-05 - 18s/epoch - 2s/step\n",
            "Epoch 43/100\n",
            "11/11 - 18s - loss: 0.0048 - accuracy: 1.0000 - val_loss: 2.6071 - val_accuracy: 0.7500 - lr: 1.0026e-05 - 18s/epoch - 2s/step\n",
            "Epoch 44/100\n",
            "11/11 - 17s - loss: 0.0057 - accuracy: 1.0000 - val_loss: 2.6092 - val_accuracy: 0.7500 - lr: 9.0718e-06 - 17s/epoch - 2s/step\n",
            "Epoch 45/100\n",
            "11/11 - 17s - loss: 0.0051 - accuracy: 1.0000 - val_loss: 2.6136 - val_accuracy: 0.7500 - lr: 8.2085e-06 - 17s/epoch - 2s/step\n",
            "Epoch 46/100\n",
            "11/11 - 17s - loss: 0.0055 - accuracy: 1.0000 - val_loss: 2.6159 - val_accuracy: 0.7500 - lr: 7.4273e-06 - 17s/epoch - 2s/step\n",
            "Epoch 47/100\n",
            "11/11 - 18s - loss: 0.0051 - accuracy: 1.0000 - val_loss: 2.6185 - val_accuracy: 0.7500 - lr: 6.7205e-06 - 18s/epoch - 2s/step\n",
            "Epoch 48/100\n",
            "11/11 - 17s - loss: 0.0049 - accuracy: 1.0000 - val_loss: 2.6198 - val_accuracy: 0.7500 - lr: 6.0810e-06 - 17s/epoch - 2s/step\n",
            "Epoch 49/100\n",
            "11/11 - 17s - loss: 0.0050 - accuracy: 1.0000 - val_loss: 2.6207 - val_accuracy: 0.7500 - lr: 5.5023e-06 - 17s/epoch - 2s/step\n",
            "Epoch 50/100\n",
            "11/11 - 17s - loss: 0.0050 - accuracy: 1.0000 - val_loss: 2.6224 - val_accuracy: 0.7500 - lr: 4.9787e-06 - 17s/epoch - 2s/step\n",
            "Epoch 51/100\n",
            "11/11 - 17s - loss: 0.0061 - accuracy: 1.0000 - val_loss: 2.6251 - val_accuracy: 0.7500 - lr: 4.5049e-06 - 17s/epoch - 2s/step\n",
            "Epoch 52/100\n",
            "11/11 - 17s - loss: 0.0049 - accuracy: 1.0000 - val_loss: 2.6270 - val_accuracy: 0.7500 - lr: 4.0762e-06 - 17s/epoch - 2s/step\n",
            "Epoch 53/100\n",
            "11/11 - 17s - loss: 0.0062 - accuracy: 1.0000 - val_loss: 2.6282 - val_accuracy: 0.7500 - lr: 3.6883e-06 - 17s/epoch - 2s/step\n",
            "Epoch 54/100\n",
            "11/11 - 18s - loss: 0.0054 - accuracy: 1.0000 - val_loss: 2.6306 - val_accuracy: 0.7500 - lr: 3.3373e-06 - 18s/epoch - 2s/step\n",
            "Epoch 55/100\n",
            "11/11 - 18s - loss: 0.0050 - accuracy: 1.0000 - val_loss: 2.6321 - val_accuracy: 0.7500 - lr: 3.0197e-06 - 18s/epoch - 2s/step\n",
            "Epoch 56/100\n",
            "11/11 - 17s - loss: 0.0051 - accuracy: 1.0000 - val_loss: 2.6324 - val_accuracy: 0.7500 - lr: 2.7324e-06 - 17s/epoch - 2s/step\n",
            "Epoch 57/100\n",
            "11/11 - 18s - loss: 0.0060 - accuracy: 1.0000 - val_loss: 2.6328 - val_accuracy: 0.7500 - lr: 2.4723e-06 - 18s/epoch - 2s/step\n",
            "Epoch 58/100\n",
            "11/11 - 16s - loss: 0.0049 - accuracy: 1.0000 - val_loss: 2.6338 - val_accuracy: 0.7500 - lr: 2.2371e-06 - 16s/epoch - 1s/step\n",
            "Epoch 59/100\n",
            "11/11 - 17s - loss: 0.0049 - accuracy: 1.0000 - val_loss: 2.6344 - val_accuracy: 0.7500 - lr: 2.0242e-06 - 17s/epoch - 2s/step\n",
            "Epoch 60/100\n",
            "11/11 - 18s - loss: 0.0050 - accuracy: 1.0000 - val_loss: 2.6351 - val_accuracy: 0.7500 - lr: 1.8316e-06 - 18s/epoch - 2s/step\n",
            "Epoch 61/100\n",
            "11/11 - 17s - loss: 0.0057 - accuracy: 1.0000 - val_loss: 2.6363 - val_accuracy: 0.7500 - lr: 1.6573e-06 - 17s/epoch - 2s/step\n",
            "Epoch 62/100\n",
            "11/11 - 18s - loss: 0.0054 - accuracy: 1.0000 - val_loss: 2.6373 - val_accuracy: 0.7500 - lr: 1.4996e-06 - 18s/epoch - 2s/step\n",
            "Epoch 63/100\n",
            "11/11 - 17s - loss: 0.0053 - accuracy: 1.0000 - val_loss: 2.6379 - val_accuracy: 0.7500 - lr: 1.3569e-06 - 17s/epoch - 2s/step\n",
            "Epoch 64/100\n",
            "11/11 - 17s - loss: 0.0051 - accuracy: 1.0000 - val_loss: 2.6384 - val_accuracy: 0.7500 - lr: 1.2277e-06 - 17s/epoch - 2s/step\n",
            "Epoch 65/100\n",
            "11/11 - 17s - loss: 0.0051 - accuracy: 1.0000 - val_loss: 2.6387 - val_accuracy: 0.7500 - lr: 1.1109e-06 - 17s/epoch - 2s/step\n",
            "Epoch 66/100\n",
            "11/11 - 18s - loss: 0.0051 - accuracy: 1.0000 - val_loss: 2.6392 - val_accuracy: 0.7500 - lr: 1.0052e-06 - 18s/epoch - 2s/step\n",
            "Epoch 67/100\n",
            "11/11 - 17s - loss: 0.0049 - accuracy: 1.0000 - val_loss: 2.6395 - val_accuracy: 0.7500 - lr: 9.0953e-07 - 17s/epoch - 2s/step\n",
            "Epoch 68/100\n",
            "11/11 - 18s - loss: 0.0058 - accuracy: 1.0000 - val_loss: 2.6398 - val_accuracy: 0.7500 - lr: 8.2297e-07 - 18s/epoch - 2s/step\n",
            "Epoch 69/100\n",
            "11/11 - 17s - loss: 0.0050 - accuracy: 1.0000 - val_loss: 2.6400 - val_accuracy: 0.7500 - lr: 7.4466e-07 - 17s/epoch - 2s/step\n",
            "Epoch 70/100\n",
            "11/11 - 18s - loss: 0.0051 - accuracy: 1.0000 - val_loss: 2.6402 - val_accuracy: 0.7500 - lr: 6.7379e-07 - 18s/epoch - 2s/step\n",
            "Epoch 71/100\n",
            "11/11 - 18s - loss: 0.0048 - accuracy: 1.0000 - val_loss: 2.6405 - val_accuracy: 0.7500 - lr: 6.0967e-07 - 18s/epoch - 2s/step\n",
            "Epoch 72/100\n",
            "11/11 - 18s - loss: 0.0048 - accuracy: 1.0000 - val_loss: 2.6406 - val_accuracy: 0.7500 - lr: 5.5165e-07 - 18s/epoch - 2s/step\n",
            "Epoch 73/100\n",
            "11/11 - 18s - loss: 0.0052 - accuracy: 1.0000 - val_loss: 2.6409 - val_accuracy: 0.7500 - lr: 4.9916e-07 - 18s/epoch - 2s/step\n",
            "Epoch 74/100\n",
            "11/11 - 18s - loss: 0.0049 - accuracy: 1.0000 - val_loss: 2.6412 - val_accuracy: 0.7500 - lr: 4.5166e-07 - 18s/epoch - 2s/step\n",
            "Epoch 75/100\n",
            "11/11 - 17s - loss: 0.0051 - accuracy: 1.0000 - val_loss: 2.6412 - val_accuracy: 0.7500 - lr: 4.0868e-07 - 17s/epoch - 2s/step\n",
            "Epoch 76/100\n",
            "11/11 - 18s - loss: 0.0053 - accuracy: 1.0000 - val_loss: 2.6413 - val_accuracy: 0.7500 - lr: 3.6979e-07 - 18s/epoch - 2s/step\n",
            "Epoch 77/100\n",
            "11/11 - 17s - loss: 0.0049 - accuracy: 1.0000 - val_loss: 2.6415 - val_accuracy: 0.7500 - lr: 3.3460e-07 - 17s/epoch - 2s/step\n",
            "Epoch 78/100\n",
            "11/11 - 18s - loss: 0.0057 - accuracy: 1.0000 - val_loss: 2.6416 - val_accuracy: 0.7500 - lr: 3.0275e-07 - 18s/epoch - 2s/step\n",
            "Epoch 79/100\n",
            "11/11 - 17s - loss: 0.0048 - accuracy: 1.0000 - val_loss: 2.6418 - val_accuracy: 0.7500 - lr: 2.7394e-07 - 17s/epoch - 2s/step\n",
            "Epoch 80/100\n",
            "11/11 - 18s - loss: 0.0054 - accuracy: 1.0000 - val_loss: 2.6419 - val_accuracy: 0.7500 - lr: 2.4787e-07 - 18s/epoch - 2s/step\n",
            "Epoch 81/100\n",
            "11/11 - 17s - loss: 0.0050 - accuracy: 1.0000 - val_loss: 2.6420 - val_accuracy: 0.7500 - lr: 2.2429e-07 - 17s/epoch - 2s/step\n",
            "Epoch 82/100\n",
            "11/11 - 17s - loss: 0.0051 - accuracy: 1.0000 - val_loss: 2.6420 - val_accuracy: 0.7500 - lr: 2.0294e-07 - 17s/epoch - 2s/step\n",
            "Epoch 83/100\n",
            "11/11 - 17s - loss: 0.0055 - accuracy: 1.0000 - val_loss: 2.6420 - val_accuracy: 0.7500 - lr: 1.8363e-07 - 17s/epoch - 2s/step\n",
            "Epoch 84/100\n",
            "11/11 - 18s - loss: 0.0068 - accuracy: 1.0000 - val_loss: 2.6422 - val_accuracy: 0.7500 - lr: 1.6616e-07 - 18s/epoch - 2s/step\n",
            "Epoch 85/100\n",
            "11/11 - 17s - loss: 0.0053 - accuracy: 1.0000 - val_loss: 2.6423 - val_accuracy: 0.7500 - lr: 1.5034e-07 - 17s/epoch - 2s/step\n",
            "Epoch 86/100\n",
            "11/11 - 17s - loss: 0.0052 - accuracy: 1.0000 - val_loss: 2.6424 - val_accuracy: 0.7500 - lr: 1.3604e-07 - 17s/epoch - 2s/step\n",
            "Epoch 87/100\n",
            "11/11 - 17s - loss: 0.0048 - accuracy: 1.0000 - val_loss: 2.6424 - val_accuracy: 0.7500 - lr: 1.2309e-07 - 17s/epoch - 2s/step\n",
            "Epoch 88/100\n",
            "11/11 - 18s - loss: 0.0048 - accuracy: 1.0000 - val_loss: 2.6425 - val_accuracy: 0.7500 - lr: 1.1138e-07 - 18s/epoch - 2s/step\n",
            "Epoch 89/100\n",
            "11/11 - 17s - loss: 0.0051 - accuracy: 1.0000 - val_loss: 2.6425 - val_accuracy: 0.7500 - lr: 1.0078e-07 - 17s/epoch - 2s/step\n",
            "Epoch 90/100\n",
            "11/11 - 18s - loss: 0.0056 - accuracy: 1.0000 - val_loss: 2.6425 - val_accuracy: 0.7500 - lr: 9.1188e-08 - 18s/epoch - 2s/step\n",
            "Epoch 91/100\n",
            "11/11 - 17s - loss: 0.0052 - accuracy: 1.0000 - val_loss: 2.6425 - val_accuracy: 0.7500 - lr: 8.2510e-08 - 17s/epoch - 2s/step\n",
            "Epoch 92/100\n",
            "11/11 - 17s - loss: 0.0047 - accuracy: 1.0000 - val_loss: 2.6426 - val_accuracy: 0.7500 - lr: 7.4658e-08 - 17s/epoch - 2s/step\n",
            "Epoch 93/100\n",
            "11/11 - 17s - loss: 0.0051 - accuracy: 1.0000 - val_loss: 2.6426 - val_accuracy: 0.7500 - lr: 6.7554e-08 - 17s/epoch - 2s/step\n",
            "Epoch 94/100\n",
            "11/11 - 17s - loss: 0.0057 - accuracy: 1.0000 - val_loss: 2.6426 - val_accuracy: 0.7500 - lr: 6.1125e-08 - 17s/epoch - 2s/step\n",
            "Epoch 95/100\n",
            "11/11 - 17s - loss: 0.0050 - accuracy: 1.0000 - val_loss: 2.6426 - val_accuracy: 0.7500 - lr: 5.5308e-08 - 17s/epoch - 2s/step\n",
            "Epoch 96/100\n",
            "11/11 - 17s - loss: 0.0051 - accuracy: 1.0000 - val_loss: 2.6427 - val_accuracy: 0.7500 - lr: 5.0045e-08 - 17s/epoch - 2s/step\n",
            "Epoch 97/100\n",
            "11/11 - 17s - loss: 0.0053 - accuracy: 1.0000 - val_loss: 2.6427 - val_accuracy: 0.7500 - lr: 4.5283e-08 - 17s/epoch - 2s/step\n",
            "Epoch 98/100\n",
            "11/11 - 17s - loss: 0.0095 - accuracy: 1.0000 - val_loss: 2.6427 - val_accuracy: 0.7500 - lr: 4.0973e-08 - 17s/epoch - 2s/step\n",
            "Epoch 99/100\n",
            "11/11 - 18s - loss: 0.0059 - accuracy: 1.0000 - val_loss: 2.6428 - val_accuracy: 0.7500 - lr: 3.7074e-08 - 18s/epoch - 2s/step\n",
            "Epoch 100/100\n",
            "11/11 - 18s - loss: 0.0049 - accuracy: 1.0000 - val_loss: 2.6428 - val_accuracy: 0.7500 - lr: 3.3546e-08 - 18s/epoch - 2s/step\n"
          ]
        }
      ]
    },
    {
      "cell_type": "code",
      "source": [
        "lstm.save(\"Breast_cancer_varient_selfAttention_model_R6.h5\")\n",
        "lstm.save_weights(\"Breast_cancer_varient_selfAttention_weights_R6.h5\")"
      ],
      "metadata": {
        "id": "6p--HOyY1obh"
      },
      "execution_count": null,
      "outputs": []
    },
    {
      "cell_type": "code",
      "source": [
        "# Load model for re-training\n",
        "model_path = \"/content/drive/MyDrive/Work Space/Breast_cancer_varient_selfAttention_model_R6.h5\"\n",
        "lstm = tf.keras.models.load_model(model_path, custom_objects=SeqSelfAttention.get_custom_objects())\n",
        "#compile the model\n",
        "optimizer = Adam(learning_rate= 0.0001,clipvalue=0.5)\n",
        "lstm.compile(optimizer=optimizer, loss= 'binary_crossentropy', metrics=['accuracy'])"
      ],
      "metadata": {
        "id": "sdXpzTlO10Lg"
      },
      "execution_count": null,
      "outputs": []
    },
    {
      "cell_type": "code",
      "source": [
        "print(hist_gwo.history.keys())"
      ],
      "metadata": {
        "colab": {
          "base_uri": "https://localhost:8080/"
        },
        "id": "VVdpE5JpLjzR",
        "outputId": "e18a940f-1958-4821-f651-1013782d74ae"
      },
      "execution_count": null,
      "outputs": [
        {
          "output_type": "stream",
          "name": "stdout",
          "text": [
            "dict_keys(['loss', 'accuracy', 'val_loss', 'val_accuracy'])\n"
          ]
        }
      ]
    },
    {
      "cell_type": "code",
      "source": [
        "# summarize history for accuracy\n",
        "plt.plot(hist_gwo.history['accuracy'])\n",
        "plt.plot(hist_gwo.history['val_accuracy'])\n",
        "plt.title('model accuracy')\n",
        "plt.ylabel('accuracy')\n",
        "plt.xlabel('epoch')\n",
        "plt.legend(['train', 'test'], loc='upper left')\n",
        "plt.show()\n",
        "# summarize history for loss\n",
        "plt.plot(hist_gwo.history['loss'])\n",
        "plt.plot(hist_gwo.history['val_loss'])\n",
        "plt.title('model loss')\n",
        "plt.ylabel('loss')\n",
        "plt.xlabel('epoch')\n",
        "plt.legend(['train', 'test'], loc='upper left')\n",
        "plt.show()"
      ],
      "metadata": {
        "colab": {
          "base_uri": "https://localhost:8080/",
          "height": 573
        },
        "id": "lEwnA9oTAoNt",
        "outputId": "7e8c162c-d177-4f27-9c05-a870bd4da38f"
      },
      "execution_count": null,
      "outputs": [
        {
          "output_type": "display_data",
          "data": {
            "text/plain": [
              "<Figure size 432x288 with 1 Axes>"
            ],
            "image/png": "[encoded data removed]"
          },
          "metadata": {}
        },
        {
          "output_type": "display_data",
          "data": {
            "text/plain": [
              "<Figure size 432x288 with 1 Axes>"
            ],
            "image/png": "[encoded data removed]"
          },
          "metadata": {}
        }
      ]
    },
    {
      "cell_type": "code",
      "source": [
        "# Y_test_oh = tf.one_hot(y_test.to_numpy(), 2)\n",
        "# Y_test_oh = convert_to_one_hot(y_valid.astype(\"int64\"),2)"
      ],
      "metadata": {
        "id": "JAVI_ugonnTK"
      },
      "execution_count": null,
      "outputs": []
    },
    {
      "cell_type": "code",
      "source": [
        "lstm.evaluate(x_valid,Y_test_oh,batch_size=7)"
      ],
      "metadata": {
        "colab": {
          "base_uri": "https://localhost:8080/"
        },
        "id": "2FRfi_Z_nHd3",
        "outputId": "ac56abef-2b5d-4301-cc2b-83fd396b9c15"
      },
      "execution_count": null,
      "outputs": [
        {
          "output_type": "stream",
          "name": "stdout",
          "text": [
            "3/3 [==============================] - 1s 467ms/step - loss: 2.6428 - accuracy: 0.7500\n"
          ]
        },
        {
          "output_type": "execute_result",
          "data": {
            "text/plain": [
              "[2.6427886486053467, 0.75]"
            ]
          },
          "metadata": {},
          "execution_count": 80
        }
      ]
    },
    {
      "cell_type": "code",
      "source": [
        "lstm.save(\"/content/drive/MyDrive/Work Space/breastCancer_lstm_hybrid_gwo.h5\")"
      ],
      "metadata": {
        "id": "x-nhGmKdQDV_"
      },
      "execution_count": null,
      "outputs": []
    },
    {
      "cell_type": "markdown",
      "source": [
        "# Graphs"
      ],
      "metadata": {
        "id": "Uxv-K6UQl9u6"
      }
    },
    {
      "cell_type": "code",
      "source": [
        "import numpy as np\n",
        "import pandas as pd\n",
        "import matplotlib.pyplot as plt\n",
        "import seaborn as sns"
      ],
      "metadata": {
        "id": "I9CoBgWlmB7l"
      },
      "execution_count": null,
      "outputs": []
    },
    {
      "cell_type": "code",
      "source": [
        "cls = pd.read_excel(\"Classifier.xlsx\")\n",
        "wrap = pd.read_excel(\"wrapper.xlsx\")\n",
        "filt = pd.read_excel(\"Filters.xlsx\")\n",
        "cls.head()"
      ],
      "metadata": {
        "id": "9O5rx7HxmCAJ",
        "colab": {
          "base_uri": "https://localhost:8080/",
          "height": 175
        },
        "outputId": "ffed9748-df62-4d8e-b9f9-aeaf3d98db0b"
      },
      "execution_count": null,
      "outputs": [
        {
          "output_type": "execute_result",
          "data": {
            "text/plain": [
              "  Classifier  Accuracy\n",
              "0        SVM  1.000000\n",
              "1         DT  1.000000\n",
              "2         NB  0.656863\n",
              "3        LDA  0.903045"
            ],
            "text/html": [
              "\n",
              "  <div id=\"df-3f79dc82-bf89-4988-bca0-a0e625686c2c\">\n",
              "    <div class=\"colab-df-container\">\n",
              "      <div>\n",
              "<style scoped>\n",
              "    .dataframe tbody tr th:only-of-type {\n",
              "        vertical-align: middle;\n",
              "    }\n",
              "\n",
              "    .dataframe tbody tr th {\n",
              "        vertical-align: top;\n",
              "    }\n",
              "\n",
              "    .dataframe thead th {\n",
              "        text-align: right;\n",
              "    }\n",
              "</style>\n",
              "<table border=\"1\" class=\"dataframe\">\n",
              "  <thead>\n",
              "    <tr style=\"text-align: right;\">\n",
              "      <th></th>\n",
              "      <th>Classifier</th>\n",
              "      <th>Accuracy</th>\n",
              "    </tr>\n",
              "  </thead>\n",
              "  <tbody>\n",
              "    <tr>\n",
              "      <th>0</th>\n",
              "      <td>SVM</td>\n",
              "      <td>1.000000</td>\n",
              "    </tr>\n",
              "    <tr>\n",
              "      <th>1</th>\n",
              "      <td>DT</td>\n",
              "      <td>1.000000</td>\n",
              "    </tr>\n",
              "    <tr>\n",
              "      <th>2</th>\n",
              "      <td>NB</td>\n",
              "      <td>0.656863</td>\n",
              "    </tr>\n",
              "    <tr>\n",
              "      <th>3</th>\n",
              "      <td>LDA</td>\n",
              "      <td>0.903045</td>\n",
              "    </tr>\n",
              "  </tbody>\n",
              "</table>\n",
              "</div>\n",
              "      <button class=\"colab-df-convert\" onclick=\"convertToInteractive('df-3f79dc82-bf89-4988-bca0-a0e625686c2c')\"\n",
              "              title=\"Convert this dataframe to an interactive table.\"\n",
              "              style=\"display:none;\">\n",
              "        \n",
              "  <svg xmlns=\"http://www.w3.org/2000/svg\" height=\"24px\"viewBox=\"0 0 24 24\"\n",
              "       width=\"24px\">\n",
              "    <path d=\"M0 0h24v24H0V0z\" fill=\"none\"/>\n",
              "    <path d=\"M18.56 5.44l.94 2.06.94-2.06 2.06-.94-2.06-.94-.94-2.06-.94 2.06-2.06.94zm-11 1L8.5 8.5l.94-2.06 2.06-.94-2.06-.94L8.5 2.5l-.94 2.06-2.06.94zm10 10l.94 2.06.94-2.06 2.06-.94-2.06-.94-.94-2.06-.94 2.06-2.06.94z\"/><path d=\"M17.41 7.96l-1.37-1.37c-.4-.4-.92-.59-1.43-.59-.52 0-1.04.2-1.43.59L10.3 9.45l-7.72 7.72c-.78.78-.78 2.05 0 2.83L4 21.41c.39.39.9.59 1.41.59.51 0 1.02-.2 1.41-.59l7.78-7.78 2.81-2.81c.8-.78.8-2.07 0-2.86zM5.41 20L4 18.59l7.72-7.72 1.47 1.35L5.41 20z\"/>\n",
              "  </svg>\n",
              "      </button>\n",
              "      \n",
              "  <style>\n",
              "    .colab-df-container {\n",
              "      display:flex;\n",
              "      flex-wrap:wrap;\n",
              "      gap: 12px;\n",
              "    }\n",
              "\n",
              "    .colab-df-convert {\n",
              "      background-color: #E8F0FE;\n",
              "      border: none;\n",
              "      border-radius: 50%;\n",
              "      cursor: pointer;\n",
              "      display: none;\n",
              "      fill: #1967D2;\n",
              "      height: 32px;\n",
              "      padding: 0 0 0 0;\n",
              "      width: 32px;\n",
              "    }\n",
              "\n",
              "    .colab-df-convert:hover {\n",
              "      background-color: #E2EBFA;\n",
              "      box-shadow: 0px 1px 2px rgba(60, 64, 67, 0.3), 0px 1px 3px 1px rgba(60, 64, 67, 0.15);\n",
              "      fill: #174EA6;\n",
              "    }\n",
              "\n",
              "    [theme=dark] .colab-df-convert {\n",
              "      background-color: #3B4455;\n",
              "      fill: #D2E3FC;\n",
              "    }\n",
              "\n",
              "    [theme=dark] .colab-df-convert:hover {\n",
              "      background-color: #434B5C;\n",
              "      box-shadow: 0px 1px 3px 1px rgba(0, 0, 0, 0.15);\n",
              "      filter: drop-shadow(0px 1px 2px rgba(0, 0, 0, 0.3));\n",
              "      fill: #FFFFFF;\n",
              "    }\n",
              "  </style>\n",
              "\n",
              "      <script>\n",
              "        const buttonEl =\n",
              "          document.querySelector('#df-3f79dc82-bf89-4988-bca0-a0e625686c2c button.colab-df-convert');\n",
              "        buttonEl.style.display =\n",
              "          google.colab.kernel.accessAllowed ? 'block' : 'none';\n",
              "\n",
              "        async function convertToInteractive(key) {\n",
              "          const element = document.querySelector('#df-3f79dc82-bf89-4988-bca0-a0e625686c2c');\n",
              "          const dataTable =\n",
              "            await google.colab.kernel.invokeFunction('convertToInteractive',\n",
              "                                                     [key], {});\n",
              "          if (!dataTable) return;\n",
              "\n",
              "          const docLinkHtml = 'Like what you see? Visit the ' +\n",
              "            '<a target=\"_blank\" href=https://colab.research.google.com/notebooks/data_table.ipynb>data table notebook</a>'\n",
              "            + ' to learn more about interactive tables.';\n",
              "          element.innerHTML = '';\n",
              "          dataTable['output_type'] = 'display_data';\n",
              "          await google.colab.output.renderOutput(dataTable, element);\n",
              "          const docLink = document.createElement('div');\n",
              "          docLink.innerHTML = docLinkHtml;\n",
              "          element.appendChild(docLink);\n",
              "        }\n",
              "      </script>\n",
              "    </div>\n",
              "  </div>\n",
              "  "
            ]
          },
          "metadata": {},
          "execution_count": 2
        }
      ]
    },
    {
      "cell_type": "code",
      "source": [
        "wrap.drop(['Unnamed: 3', 'Unnamed: 4'], axis= 1, inplace=True)"
      ],
      "metadata": {
        "id": "rNH-3ohneMaI"
      },
      "execution_count": null,
      "outputs": []
    },
    {
      "cell_type": "code",
      "source": [
        "wrap.head()"
      ],
      "metadata": {
        "colab": {
          "base_uri": "https://localhost:8080/",
          "height": 206
        },
        "id": "8D4k0rKkxx9-",
        "outputId": "8b8de5c8-c3b5-4557-fa61-f7d377c2c2bb"
      },
      "execution_count": null,
      "outputs": [
        {
          "output_type": "execute_result",
          "data": {
            "text/plain": [
              "  Classifier  Accuracy Methods\n",
              "0        SVM  0.930556      GA\n",
              "1         DT  0.972222      GA\n",
              "2         NB  0.931169      GA\n",
              "3        LDA  0.875000      GA\n",
              "4        SVM  0.946429     PSO"
            ],
            "text/html": [
              "\n",
              "  <div id=\"df-a9e5278e-4264-4258-a871-bfc842615da7\">\n",
              "    <div class=\"colab-df-container\">\n",
              "      <div>\n",
              "<style scoped>\n",
              "    .dataframe tbody tr th:only-of-type {\n",
              "        vertical-align: middle;\n",
              "    }\n",
              "\n",
              "    .dataframe tbody tr th {\n",
              "        vertical-align: top;\n",
              "    }\n",
              "\n",
              "    .dataframe thead th {\n",
              "        text-align: right;\n",
              "    }\n",
              "</style>\n",
              "<table border=\"1\" class=\"dataframe\">\n",
              "  <thead>\n",
              "    <tr style=\"text-align: right;\">\n",
              "      <th></th>\n",
              "      <th>Classifier</th>\n",
              "      <th>Accuracy</th>\n",
              "      <th>Methods</th>\n",
              "    </tr>\n",
              "  </thead>\n",
              "  <tbody>\n",
              "    <tr>\n",
              "      <th>0</th>\n",
              "      <td>SVM</td>\n",
              "      <td>0.930556</td>\n",
              "      <td>GA</td>\n",
              "    </tr>\n",
              "    <tr>\n",
              "      <th>1</th>\n",
              "      <td>DT</td>\n",
              "      <td>0.972222</td>\n",
              "      <td>GA</td>\n",
              "    </tr>\n",
              "    <tr>\n",
              "      <th>2</th>\n",
              "      <td>NB</td>\n",
              "      <td>0.931169</td>\n",
              "      <td>GA</td>\n",
              "    </tr>\n",
              "    <tr>\n",
              "      <th>3</th>\n",
              "      <td>LDA</td>\n",
              "      <td>0.875000</td>\n",
              "      <td>GA</td>\n",
              "    </tr>\n",
              "    <tr>\n",
              "      <th>4</th>\n",
              "      <td>SVM</td>\n",
              "      <td>0.946429</td>\n",
              "      <td>PSO</td>\n",
              "    </tr>\n",
              "  </tbody>\n",
              "</table>\n",
              "</div>\n",
              "      <button class=\"colab-df-convert\" onclick=\"convertToInteractive('df-a9e5278e-4264-4258-a871-bfc842615da7')\"\n",
              "              title=\"Convert this dataframe to an interactive table.\"\n",
              "              style=\"display:none;\">\n",
              "        \n",
              "  <svg xmlns=\"http://www.w3.org/2000/svg\" height=\"24px\"viewBox=\"0 0 24 24\"\n",
              "       width=\"24px\">\n",
              "    <path d=\"M0 0h24v24H0V0z\" fill=\"none\"/>\n",
              "    <path d=\"M18.56 5.44l.94 2.06.94-2.06 2.06-.94-2.06-.94-.94-2.06-.94 2.06-2.06.94zm-11 1L8.5 8.5l.94-2.06 2.06-.94-2.06-.94L8.5 2.5l-.94 2.06-2.06.94zm10 10l.94 2.06.94-2.06 2.06-.94-2.06-.94-.94-2.06-.94 2.06-2.06.94z\"/><path d=\"M17.41 7.96l-1.37-1.37c-.4-.4-.92-.59-1.43-.59-.52 0-1.04.2-1.43.59L10.3 9.45l-7.72 7.72c-.78.78-.78 2.05 0 2.83L4 21.41c.39.39.9.59 1.41.59.51 0 1.02-.2 1.41-.59l7.78-7.78 2.81-2.81c.8-.78.8-2.07 0-2.86zM5.41 20L4 18.59l7.72-7.72 1.47 1.35L5.41 20z\"/>\n",
              "  </svg>\n",
              "      </button>\n",
              "      \n",
              "  <style>\n",
              "    .colab-df-container {\n",
              "      display:flex;\n",
              "      flex-wrap:wrap;\n",
              "      gap: 12px;\n",
              "    }\n",
              "\n",
              "    .colab-df-convert {\n",
              "      background-color: #E8F0FE;\n",
              "      border: none;\n",
              "      border-radius: 50%;\n",
              "      cursor: pointer;\n",
              "      display: none;\n",
              "      fill: #1967D2;\n",
              "      height: 32px;\n",
              "      padding: 0 0 0 0;\n",
              "      width: 32px;\n",
              "    }\n",
              "\n",
              "    .colab-df-convert:hover {\n",
              "      background-color: #E2EBFA;\n",
              "      box-shadow: 0px 1px 2px rgba(60, 64, 67, 0.3), 0px 1px 3px 1px rgba(60, 64, 67, 0.15);\n",
              "      fill: #174EA6;\n",
              "    }\n",
              "\n",
              "    [theme=dark] .colab-df-convert {\n",
              "      background-color: #3B4455;\n",
              "      fill: #D2E3FC;\n",
              "    }\n",
              "\n",
              "    [theme=dark] .colab-df-convert:hover {\n",
              "      background-color: #434B5C;\n",
              "      box-shadow: 0px 1px 3px 1px rgba(0, 0, 0, 0.15);\n",
              "      filter: drop-shadow(0px 1px 2px rgba(0, 0, 0, 0.3));\n",
              "      fill: #FFFFFF;\n",
              "    }\n",
              "  </style>\n",
              "\n",
              "      <script>\n",
              "        const buttonEl =\n",
              "          document.querySelector('#df-a9e5278e-4264-4258-a871-bfc842615da7 button.colab-df-convert');\n",
              "        buttonEl.style.display =\n",
              "          google.colab.kernel.accessAllowed ? 'block' : 'none';\n",
              "\n",
              "        async function convertToInteractive(key) {\n",
              "          const element = document.querySelector('#df-a9e5278e-4264-4258-a871-bfc842615da7');\n",
              "          const dataTable =\n",
              "            await google.colab.kernel.invokeFunction('convertToInteractive',\n",
              "                                                     [key], {});\n",
              "          if (!dataTable) return;\n",
              "\n",
              "          const docLinkHtml = 'Like what you see? Visit the ' +\n",
              "            '<a target=\"_blank\" href=https://colab.research.google.com/notebooks/data_table.ipynb>data table notebook</a>'\n",
              "            + ' to learn more about interactive tables.';\n",
              "          element.innerHTML = '';\n",
              "          dataTable['output_type'] = 'display_data';\n",
              "          await google.colab.output.renderOutput(dataTable, element);\n",
              "          const docLink = document.createElement('div');\n",
              "          docLink.innerHTML = docLinkHtml;\n",
              "          element.appendChild(docLink);\n",
              "        }\n",
              "      </script>\n",
              "    </div>\n",
              "  </div>\n",
              "  "
            ]
          },
          "metadata": {},
          "execution_count": 12
        }
      ]
    },
    {
      "cell_type": "code",
      "source": [
        "filt.drop(['Unnamed: 3'], axis= 1, inplace=True)\n",
        "filt.head()"
      ],
      "metadata": {
        "colab": {
          "base_uri": "https://localhost:8080/",
          "height": 206
        },
        "id": "4FdsBjOTeQia",
        "outputId": "9fc1767a-8ff5-428d-ae0d-4d811c6cfb0b"
      },
      "execution_count": null,
      "outputs": [
        {
          "output_type": "execute_result",
          "data": {
            "text/plain": [
              "  Classifier  Accuracy Method\n",
              "0        SVM  1.000000   Chi2\n",
              "1         DT  1.000000   Chi2\n",
              "2         NB  0.904882   Chi2\n",
              "3        LDA  0.970385   Chi2\n",
              "4        SVM  1.000000     IG"
            ],
            "text/html": [
              "\n",
              "  <div id=\"df-66234b91-9b72-4d90-8844-30aa4bd340fa\">\n",
              "    <div class=\"colab-df-container\">\n",
              "      <div>\n",
              "<style scoped>\n",
              "    .dataframe tbody tr th:only-of-type {\n",
              "        vertical-align: middle;\n",
              "    }\n",
              "\n",
              "    .dataframe tbody tr th {\n",
              "        vertical-align: top;\n",
              "    }\n",
              "\n",
              "    .dataframe thead th {\n",
              "        text-align: right;\n",
              "    }\n",
              "</style>\n",
              "<table border=\"1\" class=\"dataframe\">\n",
              "  <thead>\n",
              "    <tr style=\"text-align: right;\">\n",
              "      <th></th>\n",
              "      <th>Classifier</th>\n",
              "      <th>Accuracy</th>\n",
              "      <th>Method</th>\n",
              "    </tr>\n",
              "  </thead>\n",
              "  <tbody>\n",
              "    <tr>\n",
              "      <th>0</th>\n",
              "      <td>SVM</td>\n",
              "      <td>1.000000</td>\n",
              "      <td>Chi2</td>\n",
              "    </tr>\n",
              "    <tr>\n",
              "      <th>1</th>\n",
              "      <td>DT</td>\n",
              "      <td>1.000000</td>\n",
              "      <td>Chi2</td>\n",
              "    </tr>\n",
              "    <tr>\n",
              "      <th>2</th>\n",
              "      <td>NB</td>\n",
              "      <td>0.904882</td>\n",
              "      <td>Chi2</td>\n",
              "    </tr>\n",
              "    <tr>\n",
              "      <th>3</th>\n",
              "      <td>LDA</td>\n",
              "      <td>0.970385</td>\n",
              "      <td>Chi2</td>\n",
              "    </tr>\n",
              "    <tr>\n",
              "      <th>4</th>\n",
              "      <td>SVM</td>\n",
              "      <td>1.000000</td>\n",
              "      <td>IG</td>\n",
              "    </tr>\n",
              "  </tbody>\n",
              "</table>\n",
              "</div>\n",
              "      <button class=\"colab-df-convert\" onclick=\"convertToInteractive('df-66234b91-9b72-4d90-8844-30aa4bd340fa')\"\n",
              "              title=\"Convert this dataframe to an interactive table.\"\n",
              "              style=\"display:none;\">\n",
              "        \n",
              "  <svg xmlns=\"http://www.w3.org/2000/svg\" height=\"24px\"viewBox=\"0 0 24 24\"\n",
              "       width=\"24px\">\n",
              "    <path d=\"M0 0h24v24H0V0z\" fill=\"none\"/>\n",
              "    <path d=\"M18.56 5.44l.94 2.06.94-2.06 2.06-.94-2.06-.94-.94-2.06-.94 2.06-2.06.94zm-11 1L8.5 8.5l.94-2.06 2.06-.94-2.06-.94L8.5 2.5l-.94 2.06-2.06.94zm10 10l.94 2.06.94-2.06 2.06-.94-2.06-.94-.94-2.06-.94 2.06-2.06.94z\"/><path d=\"M17.41 7.96l-1.37-1.37c-.4-.4-.92-.59-1.43-.59-.52 0-1.04.2-1.43.59L10.3 9.45l-7.72 7.72c-.78.78-.78 2.05 0 2.83L4 21.41c.39.39.9.59 1.41.59.51 0 1.02-.2 1.41-.59l7.78-7.78 2.81-2.81c.8-.78.8-2.07 0-2.86zM5.41 20L4 18.59l7.72-7.72 1.47 1.35L5.41 20z\"/>\n",
              "  </svg>\n",
              "      </button>\n",
              "      \n",
              "  <style>\n",
              "    .colab-df-container {\n",
              "      display:flex;\n",
              "      flex-wrap:wrap;\n",
              "      gap: 12px;\n",
              "    }\n",
              "\n",
              "    .colab-df-convert {\n",
              "      background-color: #E8F0FE;\n",
              "      border: none;\n",
              "      border-radius: 50%;\n",
              "      cursor: pointer;\n",
              "      display: none;\n",
              "      fill: #1967D2;\n",
              "      height: 32px;\n",
              "      padding: 0 0 0 0;\n",
              "      width: 32px;\n",
              "    }\n",
              "\n",
              "    .colab-df-convert:hover {\n",
              "      background-color: #E2EBFA;\n",
              "      box-shadow: 0px 1px 2px rgba(60, 64, 67, 0.3), 0px 1px 3px 1px rgba(60, 64, 67, 0.15);\n",
              "      fill: #174EA6;\n",
              "    }\n",
              "\n",
              "    [theme=dark] .colab-df-convert {\n",
              "      background-color: #3B4455;\n",
              "      fill: #D2E3FC;\n",
              "    }\n",
              "\n",
              "    [theme=dark] .colab-df-convert:hover {\n",
              "      background-color: #434B5C;\n",
              "      box-shadow: 0px 1px 3px 1px rgba(0, 0, 0, 0.15);\n",
              "      filter: drop-shadow(0px 1px 2px rgba(0, 0, 0, 0.3));\n",
              "      fill: #FFFFFF;\n",
              "    }\n",
              "  </style>\n",
              "\n",
              "      <script>\n",
              "        const buttonEl =\n",
              "          document.querySelector('#df-66234b91-9b72-4d90-8844-30aa4bd340fa button.colab-df-convert');\n",
              "        buttonEl.style.display =\n",
              "          google.colab.kernel.accessAllowed ? 'block' : 'none';\n",
              "\n",
              "        async function convertToInteractive(key) {\n",
              "          const element = document.querySelector('#df-66234b91-9b72-4d90-8844-30aa4bd340fa');\n",
              "          const dataTable =\n",
              "            await google.colab.kernel.invokeFunction('convertToInteractive',\n",
              "                                                     [key], {});\n",
              "          if (!dataTable) return;\n",
              "\n",
              "          const docLinkHtml = 'Like what you see? Visit the ' +\n",
              "            '<a target=\"_blank\" href=https://colab.research.google.com/notebooks/data_table.ipynb>data table notebook</a>'\n",
              "            + ' to learn more about interactive tables.';\n",
              "          element.innerHTML = '';\n",
              "          dataTable['output_type'] = 'display_data';\n",
              "          await google.colab.output.renderOutput(dataTable, element);\n",
              "          const docLink = document.createElement('div');\n",
              "          docLink.innerHTML = docLinkHtml;\n",
              "          element.appendChild(docLink);\n",
              "        }\n",
              "      </script>\n",
              "    </div>\n",
              "  </div>\n",
              "  "
            ]
          },
          "metadata": {},
          "execution_count": 8
        }
      ]
    },
    {
      "cell_type": "markdown",
      "source": [
        "## Finding highest of both(wrapper & Filters)"
      ],
      "metadata": {
        "id": "AjR84lBk24LU"
      }
    },
    {
      "cell_type": "markdown",
      "source": [
        "### Wrapper"
      ],
      "metadata": {
        "id": "ATR5AKJ53SsH"
      }
    },
    {
      "cell_type": "code",
      "source": [
        "# full_wrap = wrap.loc[wrap['Accuracy'] >= 0.98]\n",
        "# full_wrap\n",
        "data = {\n",
        "    \"Classifier\": [\"DT\",\"NB\",\"NB\",\"NB\",\"NB\"],\n",
        "    \"Accuracy\": [0.972222222222222,1,1,0.9875,0.973214285714285],\n",
        "    \"Method\": [\"GA\",\"PSO\",\"JAYA\",\"GWO\",\"GWO+JAYA\"]\n",
        "}\n",
        "\n",
        "res = pd.DataFrame(data)\n",
        "res"
      ],
      "metadata": {
        "colab": {
          "base_uri": "https://localhost:8080/",
          "height": 206
        },
        "id": "5XD1nUQGyVoM",
        "outputId": "e02d3458-7c47-48e8-d0e8-46c660de40b0"
      },
      "execution_count": null,
      "outputs": [
        {
          "output_type": "execute_result",
          "data": {
            "text/plain": [
              "  Classifier  Accuracy    Method\n",
              "0         DT  0.972222        GA\n",
              "1         NB  1.000000       PSO\n",
              "2         NB  1.000000      JAYA\n",
              "3         NB  0.987500       GWO\n",
              "4         NB  0.973214  GWO+JAYA"
            ],
            "text/html": [
              "\n",
              "  <div id=\"df-f6892427-85c7-422b-a78f-0d40e836cc60\">\n",
              "    <div class=\"colab-df-container\">\n",
              "      <div>\n",
              "<style scoped>\n",
              "    .dataframe tbody tr th:only-of-type {\n",
              "        vertical-align: middle;\n",
              "    }\n",
              "\n",
              "    .dataframe tbody tr th {\n",
              "        vertical-align: top;\n",
              "    }\n",
              "\n",
              "    .dataframe thead th {\n",
              "        text-align: right;\n",
              "    }\n",
              "</style>\n",
              "<table border=\"1\" class=\"dataframe\">\n",
              "  <thead>\n",
              "    <tr style=\"text-align: right;\">\n",
              "      <th></th>\n",
              "      <th>Classifier</th>\n",
              "      <th>Accuracy</th>\n",
              "      <th>Method</th>\n",
              "    </tr>\n",
              "  </thead>\n",
              "  <tbody>\n",
              "    <tr>\n",
              "      <th>0</th>\n",
              "      <td>DT</td>\n",
              "      <td>0.972222</td>\n",
              "      <td>GA</td>\n",
              "    </tr>\n",
              "    <tr>\n",
              "      <th>1</th>\n",
              "      <td>NB</td>\n",
              "      <td>1.000000</td>\n",
              "      <td>PSO</td>\n",
              "    </tr>\n",
              "    <tr>\n",
              "      <th>2</th>\n",
              "      <td>NB</td>\n",
              "      <td>1.000000</td>\n",
              "      <td>JAYA</td>\n",
              "    </tr>\n",
              "    <tr>\n",
              "      <th>3</th>\n",
              "      <td>NB</td>\n",
              "      <td>0.987500</td>\n",
              "      <td>GWO</td>\n",
              "    </tr>\n",
              "    <tr>\n",
              "      <th>4</th>\n",
              "      <td>NB</td>\n",
              "      <td>0.973214</td>\n",
              "      <td>GWO+JAYA</td>\n",
              "    </tr>\n",
              "  </tbody>\n",
              "</table>\n",
              "</div>\n",
              "      <button class=\"colab-df-convert\" onclick=\"convertToInteractive('df-f6892427-85c7-422b-a78f-0d40e836cc60')\"\n",
              "              title=\"Convert this dataframe to an interactive table.\"\n",
              "              style=\"display:none;\">\n",
              "        \n",
              "  <svg xmlns=\"http://www.w3.org/2000/svg\" height=\"24px\"viewBox=\"0 0 24 24\"\n",
              "       width=\"24px\">\n",
              "    <path d=\"M0 0h24v24H0V0z\" fill=\"none\"/>\n",
              "    <path d=\"M18.56 5.44l.94 2.06.94-2.06 2.06-.94-2.06-.94-.94-2.06-.94 2.06-2.06.94zm-11 1L8.5 8.5l.94-2.06 2.06-.94-2.06-.94L8.5 2.5l-.94 2.06-2.06.94zm10 10l.94 2.06.94-2.06 2.06-.94-2.06-.94-.94-2.06-.94 2.06-2.06.94z\"/><path d=\"M17.41 7.96l-1.37-1.37c-.4-.4-.92-.59-1.43-.59-.52 0-1.04.2-1.43.59L10.3 9.45l-7.72 7.72c-.78.78-.78 2.05 0 2.83L4 21.41c.39.39.9.59 1.41.59.51 0 1.02-.2 1.41-.59l7.78-7.78 2.81-2.81c.8-.78.8-2.07 0-2.86zM5.41 20L4 18.59l7.72-7.72 1.47 1.35L5.41 20z\"/>\n",
              "  </svg>\n",
              "      </button>\n",
              "      \n",
              "  <style>\n",
              "    .colab-df-container {\n",
              "      display:flex;\n",
              "      flex-wrap:wrap;\n",
              "      gap: 12px;\n",
              "    }\n",
              "\n",
              "    .colab-df-convert {\n",
              "      background-color: #E8F0FE;\n",
              "      border: none;\n",
              "      border-radius: 50%;\n",
              "      cursor: pointer;\n",
              "      display: none;\n",
              "      fill: #1967D2;\n",
              "      height: 32px;\n",
              "      padding: 0 0 0 0;\n",
              "      width: 32px;\n",
              "    }\n",
              "\n",
              "    .colab-df-convert:hover {\n",
              "      background-color: #E2EBFA;\n",
              "      box-shadow: 0px 1px 2px rgba(60, 64, 67, 0.3), 0px 1px 3px 1px rgba(60, 64, 67, 0.15);\n",
              "      fill: #174EA6;\n",
              "    }\n",
              "\n",
              "    [theme=dark] .colab-df-convert {\n",
              "      background-color: #3B4455;\n",
              "      fill: #D2E3FC;\n",
              "    }\n",
              "\n",
              "    [theme=dark] .colab-df-convert:hover {\n",
              "      background-color: #434B5C;\n",
              "      box-shadow: 0px 1px 3px 1px rgba(0, 0, 0, 0.15);\n",
              "      filter: drop-shadow(0px 1px 2px rgba(0, 0, 0, 0.3));\n",
              "      fill: #FFFFFF;\n",
              "    }\n",
              "  </style>\n",
              "\n",
              "      <script>\n",
              "        const buttonEl =\n",
              "          document.querySelector('#df-f6892427-85c7-422b-a78f-0d40e836cc60 button.colab-df-convert');\n",
              "        buttonEl.style.display =\n",
              "          google.colab.kernel.accessAllowed ? 'block' : 'none';\n",
              "\n",
              "        async function convertToInteractive(key) {\n",
              "          const element = document.querySelector('#df-f6892427-85c7-422b-a78f-0d40e836cc60');\n",
              "          const dataTable =\n",
              "            await google.colab.kernel.invokeFunction('convertToInteractive',\n",
              "                                                     [key], {});\n",
              "          if (!dataTable) return;\n",
              "\n",
              "          const docLinkHtml = 'Like what you see? Visit the ' +\n",
              "            '<a target=\"_blank\" href=https://colab.research.google.com/notebooks/data_table.ipynb>data table notebook</a>'\n",
              "            + ' to learn more about interactive tables.';\n",
              "          element.innerHTML = '';\n",
              "          dataTable['output_type'] = 'display_data';\n",
              "          await google.colab.output.renderOutput(dataTable, element);\n",
              "          const docLink = document.createElement('div');\n",
              "          docLink.innerHTML = docLinkHtml;\n",
              "          element.appendChild(docLink);\n",
              "        }\n",
              "      </script>\n",
              "    </div>\n",
              "  </div>\n",
              "  "
            ]
          },
          "metadata": {},
          "execution_count": 26
        }
      ]
    },
    {
      "cell_type": "markdown",
      "source": [
        "### Plots(Wrappers)"
      ],
      "metadata": {
        "id": "OZsCG9vy3ESz"
      }
    },
    {
      "cell_type": "code",
      "source": [
        "sns.barplot(x=\"Method\" , y = \"Accuracy\", data=res)"
      ],
      "metadata": {
        "colab": {
          "base_uri": "https://localhost:8080/",
          "height": 466
        },
        "id": "D6wzmEXz3Dgp",
        "outputId": "7d3c8411-0a4c-4470-f212-ca2e8d801292"
      },
      "execution_count": null,
      "outputs": [
        {
          "output_type": "execute_result",
          "data": {
            "text/plain": [
              "<Axes: xlabel='Method', ylabel='Accuracy'>"
            ]
          },
          "metadata": {},
          "execution_count": 31
        },
        {
          "output_type": "display_data",
          "data": {
            "text/plain": [
              "<Figure size 640x480 with 1 Axes>"
            ],
            "image/png": "[encoded data removed]"
          },
          "metadata": {}
        }
      ]
    },
    {
      "cell_type": "markdown",
      "source": [
        "Jaya and PSO reched highest accuracy. Don't confuse with accuracy 1 because it's may because of overfitting issue."
      ],
      "metadata": {
        "id": "cJdJ6EmY32Su"
      }
    },
    {
      "cell_type": "code",
      "source": [
        "sns.barplot(x=\"Classifier\" , y = \"Accuracy\", data=res, hue=\"Method\")"
      ],
      "metadata": {
        "colab": {
          "base_uri": "https://localhost:8080/",
          "height": 466
        },
        "id": "5cX7ePjw3Do_",
        "outputId": "b45e7dc2-eb2e-47a5-cc05-6be557c15336"
      },
      "execution_count": null,
      "outputs": [
        {
          "output_type": "execute_result",
          "data": {
            "text/plain": [
              "<Axes: xlabel='Classifier', ylabel='Accuracy'>"
            ]
          },
          "metadata": {},
          "execution_count": 33
        },
        {
          "output_type": "display_data",
          "data": {
            "text/plain": [
              "<Figure size 640x480 with 1 Axes>"
            ],
            "image/png": "[encoded data removed]"
          },
          "metadata": {}
        }
      ]
    },
    {
      "cell_type": "markdown",
      "source": [
        "As you can see both POS and Jaya with Naive Bayes classifier have highest accuracy."
      ],
      "metadata": {
        "id": "y8blBfBP4cGk"
      }
    },
    {
      "cell_type": "markdown",
      "source": [
        "### Filter"
      ],
      "metadata": {
        "id": "uRXFTYV_3Xvl"
      }
    },
    {
      "cell_type": "code",
      "source": [
        "data2 = {\n",
        "    \"Classifier\": [\"SVC\",\"LDA\",\"SVC\",\"SVC\",\"LDA\"],\n",
        "    \"Accuracy\": [0.9875, 0.985714285714285, 0.9875, 0.9875, 1],\n",
        "    \"Method\": [\"CHI2\",\"IG\",\"RELIEF\",\"MRMR\",\"COMBINED\"]\n",
        "}\n",
        "\n",
        "res2 = pd.DataFrame(data2)\n",
        "res2"
      ],
      "metadata": {
        "colab": {
          "base_uri": "https://localhost:8080/",
          "height": 206
        },
        "id": "17JqKDOAyL6F",
        "outputId": "8e8116ed-78ce-4716-c6d7-810ab00d3bcf"
      },
      "execution_count": null,
      "outputs": [
        {
          "output_type": "execute_result",
          "data": {
            "text/plain": [
              "  Classifier  Accuracy    Method\n",
              "0        SVC  0.987500      CHI2\n",
              "1        LDA  0.985714        IG\n",
              "2        SVC  0.987500    RELIEF\n",
              "3        SVC  0.987500      MRMR\n",
              "4        LDA  1.000000  COMBINED"
            ],
            "text/html": [
              "\n",
              "  <div id=\"df-d809b175-d0b4-47b3-9c6a-7dfd305a5e69\">\n",
              "    <div class=\"colab-df-container\">\n",
              "      <div>\n",
              "<style scoped>\n",
              "    .dataframe tbody tr th:only-of-type {\n",
              "        vertical-align: middle;\n",
              "    }\n",
              "\n",
              "    .dataframe tbody tr th {\n",
              "        vertical-align: top;\n",
              "    }\n",
              "\n",
              "    .dataframe thead th {\n",
              "        text-align: right;\n",
              "    }\n",
              "</style>\n",
              "<table border=\"1\" class=\"dataframe\">\n",
              "  <thead>\n",
              "    <tr style=\"text-align: right;\">\n",
              "      <th></th>\n",
              "      <th>Classifier</th>\n",
              "      <th>Accuracy</th>\n",
              "      <th>Method</th>\n",
              "    </tr>\n",
              "  </thead>\n",
              "  <tbody>\n",
              "    <tr>\n",
              "      <th>0</th>\n",
              "      <td>SVC</td>\n",
              "      <td>0.987500</td>\n",
              "      <td>CHI2</td>\n",
              "    </tr>\n",
              "    <tr>\n",
              "      <th>1</th>\n",
              "      <td>LDA</td>\n",
              "      <td>0.985714</td>\n",
              "      <td>IG</td>\n",
              "    </tr>\n",
              "    <tr>\n",
              "      <th>2</th>\n",
              "      <td>SVC</td>\n",
              "      <td>0.987500</td>\n",
              "      <td>RELIEF</td>\n",
              "    </tr>\n",
              "    <tr>\n",
              "      <th>3</th>\n",
              "      <td>SVC</td>\n",
              "      <td>0.987500</td>\n",
              "      <td>MRMR</td>\n",
              "    </tr>\n",
              "    <tr>\n",
              "      <th>4</th>\n",
              "      <td>LDA</td>\n",
              "      <td>1.000000</td>\n",
              "      <td>COMBINED</td>\n",
              "    </tr>\n",
              "  </tbody>\n",
              "</table>\n",
              "</div>\n",
              "      <button class=\"colab-df-convert\" onclick=\"convertToInteractive('df-d809b175-d0b4-47b3-9c6a-7dfd305a5e69')\"\n",
              "              title=\"Convert this dataframe to an interactive table.\"\n",
              "              style=\"display:none;\">\n",
              "        \n",
              "  <svg xmlns=\"http://www.w3.org/2000/svg\" height=\"24px\"viewBox=\"0 0 24 24\"\n",
              "       width=\"24px\">\n",
              "    <path d=\"M0 0h24v24H0V0z\" fill=\"none\"/>\n",
              "    <path d=\"M18.56 5.44l.94 2.06.94-2.06 2.06-.94-2.06-.94-.94-2.06-.94 2.06-2.06.94zm-11 1L8.5 8.5l.94-2.06 2.06-.94-2.06-.94L8.5 2.5l-.94 2.06-2.06.94zm10 10l.94 2.06.94-2.06 2.06-.94-2.06-.94-.94-2.06-.94 2.06-2.06.94z\"/><path d=\"M17.41 7.96l-1.37-1.37c-.4-.4-.92-.59-1.43-.59-.52 0-1.04.2-1.43.59L10.3 9.45l-7.72 7.72c-.78.78-.78 2.05 0 2.83L4 21.41c.39.39.9.59 1.41.59.51 0 1.02-.2 1.41-.59l7.78-7.78 2.81-2.81c.8-.78.8-2.07 0-2.86zM5.41 20L4 18.59l7.72-7.72 1.47 1.35L5.41 20z\"/>\n",
              "  </svg>\n",
              "      </button>\n",
              "      \n",
              "  <style>\n",
              "    .colab-df-container {\n",
              "      display:flex;\n",
              "      flex-wrap:wrap;\n",
              "      gap: 12px;\n",
              "    }\n",
              "\n",
              "    .colab-df-convert {\n",
              "      background-color: #E8F0FE;\n",
              "      border: none;\n",
              "      border-radius: 50%;\n",
              "      cursor: pointer;\n",
              "      display: none;\n",
              "      fill: #1967D2;\n",
              "      height: 32px;\n",
              "      padding: 0 0 0 0;\n",
              "      width: 32px;\n",
              "    }\n",
              "\n",
              "    .colab-df-convert:hover {\n",
              "      background-color: #E2EBFA;\n",
              "      box-shadow: 0px 1px 2px rgba(60, 64, 67, 0.3), 0px 1px 3px 1px rgba(60, 64, 67, 0.15);\n",
              "      fill: #174EA6;\n",
              "    }\n",
              "\n",
              "    [theme=dark] .colab-df-convert {\n",
              "      background-color: #3B4455;\n",
              "      fill: #D2E3FC;\n",
              "    }\n",
              "\n",
              "    [theme=dark] .colab-df-convert:hover {\n",
              "      background-color: #434B5C;\n",
              "      box-shadow: 0px 1px 3px 1px rgba(0, 0, 0, 0.15);\n",
              "      filter: drop-shadow(0px 1px 2px rgba(0, 0, 0, 0.3));\n",
              "      fill: #FFFFFF;\n",
              "    }\n",
              "  </style>\n",
              "\n",
              "      <script>\n",
              "        const buttonEl =\n",
              "          document.querySelector('#df-d809b175-d0b4-47b3-9c6a-7dfd305a5e69 button.colab-df-convert');\n",
              "        buttonEl.style.display =\n",
              "          google.colab.kernel.accessAllowed ? 'block' : 'none';\n",
              "\n",
              "        async function convertToInteractive(key) {\n",
              "          const element = document.querySelector('#df-d809b175-d0b4-47b3-9c6a-7dfd305a5e69');\n",
              "          const dataTable =\n",
              "            await google.colab.kernel.invokeFunction('convertToInteractive',\n",
              "                                                     [key], {});\n",
              "          if (!dataTable) return;\n",
              "\n",
              "          const docLinkHtml = 'Like what you see? Visit the ' +\n",
              "            '<a target=\"_blank\" href=https://colab.research.google.com/notebooks/data_table.ipynb>data table notebook</a>'\n",
              "            + ' to learn more about interactive tables.';\n",
              "          element.innerHTML = '';\n",
              "          dataTable['output_type'] = 'display_data';\n",
              "          await google.colab.output.renderOutput(dataTable, element);\n",
              "          const docLink = document.createElement('div');\n",
              "          docLink.innerHTML = docLinkHtml;\n",
              "          element.appendChild(docLink);\n",
              "        }\n",
              "      </script>\n",
              "    </div>\n",
              "  </div>\n",
              "  "
            ]
          },
          "metadata": {},
          "execution_count": 27
        }
      ]
    },
    {
      "cell_type": "markdown",
      "source": [
        "### Plots(Filters)"
      ],
      "metadata": {
        "id": "R2nAIHhz3HEq"
      }
    },
    {
      "cell_type": "code",
      "source": [
        "sns.barplot(x=\"Method\" , y = \"Accuracy\", data=res2)"
      ],
      "metadata": {
        "colab": {
          "base_uri": "https://localhost:8080/",
          "height": 466
        },
        "id": "G9mM6ca73Nlb",
        "outputId": "39dd7f86-dd5f-4337-c302-ed20ffb996de"
      },
      "execution_count": null,
      "outputs": [
        {
          "output_type": "execute_result",
          "data": {
            "text/plain": [
              "<Axes: xlabel='Method', ylabel='Accuracy'>"
            ]
          },
          "metadata": {},
          "execution_count": 35
        },
        {
          "output_type": "display_data",
          "data": {
            "text/plain": [
              "<Figure size 640x480 with 1 Axes>"
            ],
            "image/png": "[encoded data removed]"
          },
          "metadata": {}
        }
      ]
    },
    {
      "cell_type": "markdown",
      "source": [
        "Can see combination of all filters gives a better accuracy here."
      ],
      "metadata": {
        "id": "jtOA8gDe5P1n"
      }
    },
    {
      "cell_type": "code",
      "source": [
        "sns.barplot(x=\"Classifier\" , y = \"Accuracy\", data=res2, hue=\"Method\")"
      ],
      "metadata": {
        "colab": {
          "base_uri": "https://localhost:8080/",
          "height": 466
        },
        "id": "sYeohTo-3Nr_",
        "outputId": "11d9ad83-96dc-45d4-96e2-ad67c9e7855c"
      },
      "execution_count": null,
      "outputs": [
        {
          "output_type": "execute_result",
          "data": {
            "text/plain": [
              "<Axes: xlabel='Classifier', ylabel='Accuracy'>"
            ]
          },
          "metadata": {},
          "execution_count": 36
        },
        {
          "output_type": "display_data",
          "data": {
            "text/plain": [
              "<Figure size 640x480 with 1 Axes>"
            ],
            "image/png": "[encoded data removed]"
          },
          "metadata": {}
        }
      ]
    },
    {
      "cell_type": "markdown",
      "source": [
        "Combination of all filters gives better accuracy with LDA classifier."
      ],
      "metadata": {
        "id": "uawczWUA5akh"
      }
    },
    {
      "cell_type": "markdown",
      "source": [
        "## Filters"
      ],
      "metadata": {
        "id": "lWhnBPJujwqx"
      }
    },
    {
      "cell_type": "code",
      "source": [
        "sns.barplot(x=\"Method\" , y = \"Accuracy\", data=filt)"
      ],
      "metadata": {
        "colab": {
          "base_uri": "https://localhost:8080/",
          "height": 466
        },
        "id": "gxGWPatvgLS_",
        "outputId": "656f7ded-f51e-4c01-dc32-1a96dcfbdba7"
      },
      "execution_count": null,
      "outputs": [
        {
          "output_type": "execute_result",
          "data": {
            "text/plain": [
              "<Axes: xlabel='Method', ylabel='Accuracy'>"
            ]
          },
          "metadata": {},
          "execution_count": 9
        },
        {
          "output_type": "display_data",
          "data": {
            "text/plain": [
              "<Figure size 640x480 with 1 Axes>"
            ],
            "image/png": "[encoded data removed]"
          },
          "metadata": {}
        }
      ]
    },
    {
      "cell_type": "markdown",
      "source": [
        "You can see all the filters reached the higher accuracy.<br>\n",
        "lets see which one of classifiers reached the highest."
      ],
      "metadata": {
        "id": "M0SzN982imJV"
      }
    },
    {
      "cell_type": "code",
      "source": [
        "sns.barplot(x=\"Classifier\" , y = \"Accuracy\", data=filt)"
      ],
      "metadata": {
        "colab": {
          "base_uri": "https://localhost:8080/",
          "height": 466
        },
        "id": "8Nsuv_XZgLcV",
        "outputId": "b4279ed7-5bc0-4124-8ee2-16d503c2a862"
      },
      "execution_count": null,
      "outputs": [
        {
          "output_type": "execute_result",
          "data": {
            "text/plain": [
              "<Axes: xlabel='Classifier', ylabel='Accuracy'>"
            ]
          },
          "metadata": {},
          "execution_count": 10
        },
        {
          "output_type": "display_data",
          "data": {
            "text/plain": [
              "<Figure size 640x480 with 1 Axes>"
            ],
            "image/png": "[encoded data removed]"
          },
          "metadata": {}
        }
      ]
    },
    {
      "cell_type": "markdown",
      "source": [
        "Can see **Decision Tree** and **Support Vactor Classifier** taking the lead followed by **Linear Discriminant Analysis** and **Naive Bayes**."
      ],
      "metadata": {
        "id": "C10tJ2OujKYf"
      }
    },
    {
      "cell_type": "code",
      "source": [
        "sns.boxplot(x= \"Method\", y= \"Accuracy\", data= filt)"
      ],
      "metadata": {
        "colab": {
          "base_uri": "https://localhost:8080/",
          "height": 466
        },
        "id": "4EUpdPuqgLge",
        "outputId": "d403a098-30b3-4746-bb30-f8f8b8fe0b7c"
      },
      "execution_count": null,
      "outputs": [
        {
          "output_type": "execute_result",
          "data": {
            "text/plain": [
              "<Axes: xlabel='Method', ylabel='Accuracy'>"
            ]
          },
          "metadata": {},
          "execution_count": 11
        },
        {
          "output_type": "display_data",
          "data": {
            "text/plain": [
              "<Figure size 640x480 with 1 Axes>"
            ],
            "image/png": "[encoded data removed]"
          },
          "metadata": {}
        }
      ]
    },
    {
      "cell_type": "markdown",
      "source": [
        "Can see here almost every filters reaching highest accuracy talking about minimum IG got a minimum of 0.914141 percent."
      ],
      "metadata": {
        "id": "l8h0_w2FmZGV"
      }
    },
    {
      "cell_type": "code",
      "source": [],
      "metadata": {
        "id": "rHCG6QIhkAXA"
      },
      "execution_count": null,
      "outputs": []
    },
    {
      "cell_type": "markdown",
      "source": [
        "## Normal Classifiers"
      ],
      "metadata": {
        "id": "irFt2jcnkBEL"
      }
    },
    {
      "cell_type": "code",
      "source": [
        "sns.barplot(x = \"Classifier\", y=\"Accuracy\", data=cls)"
      ],
      "metadata": {
        "colab": {
          "base_uri": "https://localhost:8080/",
          "height": 466
        },
        "id": "O3K8CfabkEq_",
        "outputId": "0fe036d4-ebdc-4294-e952-c86983b287bb"
      },
      "execution_count": null,
      "outputs": [
        {
          "output_type": "execute_result",
          "data": {
            "text/plain": [
              "<Axes: xlabel='Classifier', ylabel='Accuracy'>"
            ]
          },
          "metadata": {},
          "execution_count": 20
        },
        {
          "output_type": "display_data",
          "data": {
            "text/plain": [
              "<Figure size 640x480 with 1 Axes>"
            ],
            "image/png": "[encoded data removed]"
          },
          "metadata": {}
        }
      ]
    },
    {
      "cell_type": "markdown",
      "source": [
        "As we can see here both SVC and Decision Tree taking the lead. As the dataset bit short you can see some irregularity and unstablity result."
      ],
      "metadata": {
        "id": "nGLE1RtFkhq3"
      }
    },
    {
      "cell_type": "code",
      "source": [],
      "metadata": {
        "id": "NpHJBvrvkEvf"
      },
      "execution_count": null,
      "outputs": []
    },
    {
      "cell_type": "code",
      "source": [],
      "metadata": {
        "id": "xaorAsCrkz-x"
      },
      "execution_count": null,
      "outputs": []
    },
    {
      "cell_type": "code",
      "source": [],
      "metadata": {
        "id": "lymZ90fck0M3"
      },
      "execution_count": null,
      "outputs": []
    },
    {
      "cell_type": "markdown",
      "source": [
        "## Wrapper Methods"
      ],
      "metadata": {
        "id": "mwBqTOpFk0up"
      }
    },
    {
      "cell_type": "code",
      "source": [
        "sns.barplot(x=\"Methods\", y = \"Accuracy\", data=wrap)"
      ],
      "metadata": {
        "colab": {
          "base_uri": "https://localhost:8080/",
          "height": 466
        },
        "id": "REnOZxZyk4DS",
        "outputId": "40893ab3-f10a-460f-fd47-236274d7fc55"
      },
      "execution_count": null,
      "outputs": [
        {
          "output_type": "execute_result",
          "data": {
            "text/plain": [
              "<Axes: xlabel='Methods', ylabel='Accuracy'>"
            ]
          },
          "metadata": {},
          "execution_count": 23
        },
        {
          "output_type": "display_data",
          "data": {
            "text/plain": [
              "<Figure size 640x480 with 1 Axes>"
            ],
            "image/png": "[encoded data removed]"
          },
          "metadata": {}
        }
      ]
    },
    {
      "cell_type": "code",
      "source": [
        "sns.barplot(x=\"Classifier\", y = \"Accuracy\", data=wrap)"
      ],
      "metadata": {
        "colab": {
          "base_uri": "https://localhost:8080/",
          "height": 466
        },
        "id": "cq9SJOKnk4Hm",
        "outputId": "a52eebff-7d84-45db-bc28-c1791d8608e5"
      },
      "execution_count": null,
      "outputs": [
        {
          "output_type": "execute_result",
          "data": {
            "text/plain": [
              "<Axes: xlabel='Classifier', ylabel='Accuracy'>"
            ]
          },
          "metadata": {},
          "execution_count": 24
        },
        {
          "output_type": "display_data",
          "data": {
            "text/plain": [
              "<Figure size 640x480 with 1 Axes>"
            ],
            "image/png": "[encoded data removed]"
          },
          "metadata": {}
        }
      ]
    },
    {
      "cell_type": "code",
      "source": [],
      "metadata": {
        "id": "IJTmBqDHk4QS"
      },
      "execution_count": null,
      "outputs": []
    },
    {
      "cell_type": "markdown",
      "metadata": {
        "id": "j8YlxyMpP3Ct"
      },
      "source": [
        "# Great Job!!"
      ]
    }
  ],
  "metadata": {
    "colab": {
      "collapsed_sections": [
        "rF9rz3DRip41",
        "hACmOOAgeTcd",
        "GaN4wyhPyl6P",
        "-DsWr660ofzZ",
        "TDQVBQHlIEfi",
        "xJrdAuCHOg_B",
        "wWix4D98Ossj",
        "kgooyZqJPZin",
        "eooNzf6NQAxU",
        "irFt2jcnkBEL",
        "mwBqTOpFk0up"
      ],
      "provenance": []
    },
    "gpuClass": "standard",
    "kernelspec": {
      "display_name": "Python 3",
      "name": "python3"
    },
    "language_info": {
      "name": "python"
    }
  },
  "nbformat": 4,
  "nbformat_minor": 0
}