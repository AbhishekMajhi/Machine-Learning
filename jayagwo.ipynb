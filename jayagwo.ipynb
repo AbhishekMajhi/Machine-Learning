{
  "cells": [
    {
      "cell_type": "code",
      "execution_count": null,
      "metadata": {
        "colab": {
          "base_uri": "https://localhost:8080/"
        },
        "id": "HI6KD8QhZA_U",
        "outputId": "f469ad03-043a-47ee-b6c9-f19fbb2de2ab"
      },
      "outputs": [
        {
          "output_type": "stream",
          "name": "stdout",
          "text": [
            "Mounted at /content/drive\n"
          ]
        }
      ],
      "source": [
        "from google.colab import drive\n",
        "drive.mount('/content/drive')"
      ]
    },
    {
      "cell_type": "code",
      "execution_count": null,
      "metadata": {
        "colab": {
          "base_uri": "https://localhost:8080/"
        },
        "id": "mu433P5gY7aP",
        "outputId": "e04035a5-9f59-413a-aed2-3f184bacfb8b"
      },
      "outputs": [
        {
          "output_type": "stream",
          "name": "stdout",
          "text": [
            "/content/drive/MyDrive/Adv Machine Learning/Wrapper_Feature_Selection_Methods\n"
          ]
        }
      ],
      "source": [
        "# Path to directory provided.\n",
        "%cd \"/content/drive/MyDrive/Adv Machine Learning/Wrapper_Feature_Selection_Methods\""
      ]
    },
    {
      "cell_type": "code",
      "execution_count": null,
      "metadata": {
        "id": "PWJrQehbXnz3"
      },
      "outputs": [],
      "source": [
        "from FS.GWOJA import jfs   # change this to switch algorithm"
      ]
    },
    {
      "cell_type": "code",
      "execution_count": null,
      "metadata": {
        "id": "539LCiD6X_Xt"
      },
      "outputs": [],
      "source": [
        "import numpy as np\n",
        "import pandas as pd\n",
        "from numpy.random import rand\n",
        "from scipy.io import arff\n",
        "import matplotlib.pyplot as plt\n",
        "import seaborn as sns\n",
        "from numpy import mean\n",
        "from numpy import std\n",
        "from sklearn.model_selection import KFold\n",
        "from sklearn.model_selection import cross_val_score\n",
        "from sklearn.preprocessing import StandardScaler\n",
        "from sklearn.model_selection import train_test_split\n",
        "from sklearn.metrics import classification_report, confusion_matrix\n",
        "from sklearn.metrics import ConfusionMatrixDisplay, RocCurveDisplay, roc_curve, auc\n",
        "from sklearn.svm import SVC\n",
        "from sklearn.discriminant_analysis import LinearDiscriminantAnalysis\n",
        "from sklearn.neighbors import KNeighborsClassifier\n",
        "from sklearn.ensemble import RandomForestClassifier\n",
        "from sklearn.naive_bayes import GaussianNB\n",
        "from sklearn.tree import DecisionTreeClassifier\n",
        "sc = StandardScaler()"
      ]
    },
    {
      "cell_type": "code",
      "source": [
        "# here X is features and y is labels\n",
        "# k is the num_ of splits usally k = 3, k =5, or k = 10\n",
        "def kfold(k, model, X, y):\n",
        "\n",
        "  # prepare the cross-validation procedure\n",
        "  cv = KFold(n_splits=k, random_state=1, shuffle=True)  # 10-fold cross-validation\n",
        "  # evaluate model\n",
        "  scores = cross_val_score(model, X, y, scoring='accuracy', cv=cv, n_jobs=-1)\n",
        "  # report performance\n",
        "  acc = mean(scores)\n",
        "\n",
        "  return acc, scores.min(), scores.max()\n",
        "\n",
        "def k_evaluate(k,model,x , y):\n",
        "  acc_list = {}\n",
        "  for i in range(2, k+1):\n",
        "    acc,_,_ = kfold(i, model, x, y)\n",
        "    acc_list.update( {i : acc} )\n",
        "    print(f\"for fold: {i}, accuracy is: {acc_list.get(i)}\")\n",
        "  # get max\n",
        "  m_key = max(acc_list, key = acc_list.get)\n",
        "  print(\"Best fit\"             )\n",
        "  print(f\"{m_key} gives accuracy of {acc_list.get(m_key)}\")\n",
        "  return acc_list.get(m_key) # acc\n",
        "\n",
        "\n",
        "# error rate\n",
        "def error_rate(xtrain, ytrain, x, opts):\n",
        "    # parameters\n",
        "    k     = opts['k']\n",
        "    fold  = opts['fold']\n",
        "    xt    = fold['xt']\n",
        "    yt    = fold['yt']\n",
        "    xv    = fold['xv']\n",
        "    yv    = fold['yv']\n",
        "\n",
        "    # Number of instances\n",
        "    num_train = np.size(xt, 0)\n",
        "    num_valid = np.size(xv, 0)\n",
        "    # Define selected features\n",
        "    xtrain  = xt[:, x == 1]\n",
        "    ytrain  = yt.reshape(num_train)  # Solve bug\n",
        "    xvalid  = xv[:, x == 1]\n",
        "    yvalid  = yv.reshape(num_valid)  # Solve bug\n",
        "    # Training\n",
        "    mdl     = KNeighborsClassifier(n_neighbors = k)\n",
        "    mdl.fit(xtrain, ytrain)\n",
        "    # Prediction\n",
        "    ypred   = mdl.predict(xvalid)\n",
        "    acc     = np.sum(yvalid == ypred) / num_valid\n",
        "    error   = 1 - acc\n",
        "\n",
        "    return error\n",
        "\n",
        "# Error rate & Feature size\n",
        "def Fun(xtrain, ytrain, x, opts):\n",
        "    # Parameters\n",
        "    alpha    = 0.99\n",
        "    beta     = 1 - alpha\n",
        "    # Original feature size\n",
        "    max_feat = len(x)\n",
        "    # Number of selected features\n",
        "    num_feat = np.sum(x == 1)\n",
        "    # Solve if no feature selected\n",
        "    if num_feat == 0:\n",
        "        cost  = 1\n",
        "    else:\n",
        "        # Get error rate\n",
        "        error = error_rate(xtrain, ytrain, x, opts)\n",
        "        # Objective function\n",
        "        cost  = alpha * error + beta * (num_feat / max_feat)\n",
        "\n",
        "    return cost\n",
        "\n",
        "def evaluate_fn(Y_test,model_pred):\n",
        "    # cm = confusion_matrix(Y_test.argmax(), model_pred.argmax())\n",
        "    cm = confusion_matrix(Y_test.astype(int).tolist(), model_pred)\n",
        "\n",
        "    True_Positives = cm[0][0]\n",
        "    False_Positives = cm[0][1]\n",
        "\n",
        "    True_Negetives = cm[1][1]\n",
        "    False_Negetives = cm[1][0]\n",
        "\n",
        "    # return True_Positives,False_Positives,False_Negetives,True_Negetives\n",
        "\n",
        "    precision =  True_Positives / (True_Positives + False_Positives)\n",
        "    recall = True_Positives / (True_Positives + False_Negetives)\n",
        "    f1_score = 2*(precision * recall) / (precision + recall)\n",
        "\n",
        "    return precision,recall,f1_score"
      ],
      "metadata": {
        "id": "kI-vLTNl5Ftc"
      },
      "execution_count": null,
      "outputs": []
    },
    {
      "cell_type": "code",
      "execution_count": null,
      "metadata": {
        "id": "qLYvzvXHYU6B",
        "colab": {
          "base_uri": "https://localhost:8080/",
          "height": 342
        },
        "outputId": "88ec5f3a-d759-495a-86ba-cbcddbac9cce"
      },
      "outputs": [
        {
          "output_type": "execute_result",
          "data": {
            "text/plain": [
              "    Contig45645_RC  Contig44916_RC  D25272  J00129  Contig29982_RC  \\\n",
              "92           1.058          -0.037   0.053  -0.667           0.198   \n",
              "93           0.105           0.021   0.022  -0.527          -0.286   \n",
              "94          -0.167          -0.047  -0.146  -0.607          -0.482   \n",
              "95          -0.195          -0.097  -0.153  -0.731          -0.432   \n",
              "96           0.182          -0.081  -0.133  -0.731          -0.092   \n",
              "\n",
              "    Contig26811  D25274  Contig36292  Contig42854  Contig34839  ...  \\\n",
              "92       -0.028  -0.186       -0.005       -0.156        0.004  ...   \n",
              "93       -0.090   0.007       -0.060       -0.012       -0.005  ...   \n",
              "94       -0.148  -0.109       -0.081        0.006       -0.109  ...   \n",
              "95       -0.159   0.110       -0.106       -0.110       -0.052  ...   \n",
              "96       -0.134  -0.216       -0.009       -0.296       -0.027  ...   \n",
              "\n",
              "    NM_000898  NM_000899  Contig20164_RC  Contig8985_RC  Contig36062_RC  \\\n",
              "92     -0.236      0.058           0.018         -0.002           0.042   \n",
              "93     -0.814      0.164           0.199          0.040           0.045   \n",
              "94     -0.803      0.050           0.214          0.087           0.106   \n",
              "95     -0.583      0.052           0.200          0.079           0.071   \n",
              "96     -0.504     -0.039           0.059          0.353          -0.210   \n",
              "\n",
              "    Contig35333_RC  Contig62037_RC  AF067420  Contig15167_RC           Class  \n",
              "92           0.071           0.094    -0.193          -0.002  b'non-relapse'  \n",
              "93           0.028           0.190    -0.687           0.089  b'non-relapse'  \n",
              "94           0.075           0.314    -0.978           0.244  b'non-relapse'  \n",
              "95           0.040           0.198    -0.130           0.361  b'non-relapse'  \n",
              "96          -0.024           0.051    -0.031          -0.035  b'non-relapse'  \n",
              "\n",
              "[5 rows x 24482 columns]"
            ],
            "text/html": [
              "\n",
              "  <div id=\"df-27c39f74-06e1-4b89-af7f-1379154db657\" class=\"colab-df-container\">\n",
              "    <div>\n",
              "<style scoped>\n",
              "    .dataframe tbody tr th:only-of-type {\n",
              "        vertical-align: middle;\n",
              "    }\n",
              "\n",
              "    .dataframe tbody tr th {\n",
              "        vertical-align: top;\n",
              "    }\n",
              "\n",
              "    .dataframe thead th {\n",
              "        text-align: right;\n",
              "    }\n",
              "</style>\n",
              "<table border=\"1\" class=\"dataframe\">\n",
              "  <thead>\n",
              "    <tr style=\"text-align: right;\">\n",
              "      <th></th>\n",
              "      <th>Contig45645_RC</th>\n",
              "      <th>Contig44916_RC</th>\n",
              "      <th>D25272</th>\n",
              "      <th>J00129</th>\n",
              "      <th>Contig29982_RC</th>\n",
              "      <th>Contig26811</th>\n",
              "      <th>D25274</th>\n",
              "      <th>Contig36292</th>\n",
              "      <th>Contig42854</th>\n",
              "      <th>Contig34839</th>\n",
              "      <th>...</th>\n",
              "      <th>NM_000898</th>\n",
              "      <th>NM_000899</th>\n",
              "      <th>Contig20164_RC</th>\n",
              "      <th>Contig8985_RC</th>\n",
              "      <th>Contig36062_RC</th>\n",
              "      <th>Contig35333_RC</th>\n",
              "      <th>Contig62037_RC</th>\n",
              "      <th>AF067420</th>\n",
              "      <th>Contig15167_RC</th>\n",
              "      <th>Class</th>\n",
              "    </tr>\n",
              "  </thead>\n",
              "  <tbody>\n",
              "    <tr>\n",
              "      <th>92</th>\n",
              "      <td>1.058</td>\n",
              "      <td>-0.037</td>\n",
              "      <td>0.053</td>\n",
              "      <td>-0.667</td>\n",
              "      <td>0.198</td>\n",
              "      <td>-0.028</td>\n",
              "      <td>-0.186</td>\n",
              "      <td>-0.005</td>\n",
              "      <td>-0.156</td>\n",
              "      <td>0.004</td>\n",
              "      <td>...</td>\n",
              "      <td>-0.236</td>\n",
              "      <td>0.058</td>\n",
              "      <td>0.018</td>\n",
              "      <td>-0.002</td>\n",
              "      <td>0.042</td>\n",
              "      <td>0.071</td>\n",
              "      <td>0.094</td>\n",
              "      <td>-0.193</td>\n",
              "      <td>-0.002</td>\n",
              "      <td>b'non-relapse'</td>\n",
              "    </tr>\n",
              "    <tr>\n",
              "      <th>93</th>\n",
              "      <td>0.105</td>\n",
              "      <td>0.021</td>\n",
              "      <td>0.022</td>\n",
              "      <td>-0.527</td>\n",
              "      <td>-0.286</td>\n",
              "      <td>-0.090</td>\n",
              "      <td>0.007</td>\n",
              "      <td>-0.060</td>\n",
              "      <td>-0.012</td>\n",
              "      <td>-0.005</td>\n",
              "      <td>...</td>\n",
              "      <td>-0.814</td>\n",
              "      <td>0.164</td>\n",
              "      <td>0.199</td>\n",
              "      <td>0.040</td>\n",
              "      <td>0.045</td>\n",
              "      <td>0.028</td>\n",
              "      <td>0.190</td>\n",
              "      <td>-0.687</td>\n",
              "      <td>0.089</td>\n",
              "      <td>b'non-relapse'</td>\n",
              "    </tr>\n",
              "    <tr>\n",
              "      <th>94</th>\n",
              "      <td>-0.167</td>\n",
              "      <td>-0.047</td>\n",
              "      <td>-0.146</td>\n",
              "      <td>-0.607</td>\n",
              "      <td>-0.482</td>\n",
              "      <td>-0.148</td>\n",
              "      <td>-0.109</td>\n",
              "      <td>-0.081</td>\n",
              "      <td>0.006</td>\n",
              "      <td>-0.109</td>\n",
              "      <td>...</td>\n",
              "      <td>-0.803</td>\n",
              "      <td>0.050</td>\n",
              "      <td>0.214</td>\n",
              "      <td>0.087</td>\n",
              "      <td>0.106</td>\n",
              "      <td>0.075</td>\n",
              "      <td>0.314</td>\n",
              "      <td>-0.978</td>\n",
              "      <td>0.244</td>\n",
              "      <td>b'non-relapse'</td>\n",
              "    </tr>\n",
              "    <tr>\n",
              "      <th>95</th>\n",
              "      <td>-0.195</td>\n",
              "      <td>-0.097</td>\n",
              "      <td>-0.153</td>\n",
              "      <td>-0.731</td>\n",
              "      <td>-0.432</td>\n",
              "      <td>-0.159</td>\n",
              "      <td>0.110</td>\n",
              "      <td>-0.106</td>\n",
              "      <td>-0.110</td>\n",
              "      <td>-0.052</td>\n",
              "      <td>...</td>\n",
              "      <td>-0.583</td>\n",
              "      <td>0.052</td>\n",
              "      <td>0.200</td>\n",
              "      <td>0.079</td>\n",
              "      <td>0.071</td>\n",
              "      <td>0.040</td>\n",
              "      <td>0.198</td>\n",
              "      <td>-0.130</td>\n",
              "      <td>0.361</td>\n",
              "      <td>b'non-relapse'</td>\n",
              "    </tr>\n",
              "    <tr>\n",
              "      <th>96</th>\n",
              "      <td>0.182</td>\n",
              "      <td>-0.081</td>\n",
              "      <td>-0.133</td>\n",
              "      <td>-0.731</td>\n",
              "      <td>-0.092</td>\n",
              "      <td>-0.134</td>\n",
              "      <td>-0.216</td>\n",
              "      <td>-0.009</td>\n",
              "      <td>-0.296</td>\n",
              "      <td>-0.027</td>\n",
              "      <td>...</td>\n",
              "      <td>-0.504</td>\n",
              "      <td>-0.039</td>\n",
              "      <td>0.059</td>\n",
              "      <td>0.353</td>\n",
              "      <td>-0.210</td>\n",
              "      <td>-0.024</td>\n",
              "      <td>0.051</td>\n",
              "      <td>-0.031</td>\n",
              "      <td>-0.035</td>\n",
              "      <td>b'non-relapse'</td>\n",
              "    </tr>\n",
              "  </tbody>\n",
              "</table>\n",
              "<p>5 rows × 24482 columns</p>\n",
              "</div>\n",
              "    <div class=\"colab-df-buttons\">\n",
              "\n",
              "  <div class=\"colab-df-container\">\n",
              "    <button class=\"colab-df-convert\" onclick=\"convertToInteractive('df-27c39f74-06e1-4b89-af7f-1379154db657')\"\n",
              "            title=\"Convert this dataframe to an interactive table.\"\n",
              "            style=\"display:none;\">\n",
              "\n",
              "  <svg xmlns=\"http://www.w3.org/2000/svg\" height=\"24px\" viewBox=\"0 -960 960 960\">\n",
              "    <path d=\"M120-120v-720h720v720H120Zm60-500h600v-160H180v160Zm220 220h160v-160H400v160Zm0 220h160v-160H400v160ZM180-400h160v-160H180v160Zm440 0h160v-160H620v160ZM180-180h160v-160H180v160Zm440 0h160v-160H620v160Z\"/>\n",
              "  </svg>\n",
              "    </button>\n",
              "\n",
              "  <style>\n",
              "    .colab-df-container {\n",
              "      display:flex;\n",
              "      gap: 12px;\n",
              "    }\n",
              "\n",
              "    .colab-df-convert {\n",
              "      background-color: #E8F0FE;\n",
              "      border: none;\n",
              "      border-radius: 50%;\n",
              "      cursor: pointer;\n",
              "      display: none;\n",
              "      fill: #1967D2;\n",
              "      height: 32px;\n",
              "      padding: 0 0 0 0;\n",
              "      width: 32px;\n",
              "    }\n",
              "\n",
              "    .colab-df-convert:hover {\n",
              "      background-color: #E2EBFA;\n",
              "      box-shadow: 0px 1px 2px rgba(60, 64, 67, 0.3), 0px 1px 3px 1px rgba(60, 64, 67, 0.15);\n",
              "      fill: #174EA6;\n",
              "    }\n",
              "\n",
              "    .colab-df-buttons div {\n",
              "      margin-bottom: 4px;\n",
              "    }\n",
              "\n",
              "    [theme=dark] .colab-df-convert {\n",
              "      background-color: #3B4455;\n",
              "      fill: #D2E3FC;\n",
              "    }\n",
              "\n",
              "    [theme=dark] .colab-df-convert:hover {\n",
              "      background-color: #434B5C;\n",
              "      box-shadow: 0px 1px 3px 1px rgba(0, 0, 0, 0.15);\n",
              "      filter: drop-shadow(0px 1px 2px rgba(0, 0, 0, 0.3));\n",
              "      fill: #FFFFFF;\n",
              "    }\n",
              "  </style>\n",
              "\n",
              "    <script>\n",
              "      const buttonEl =\n",
              "        document.querySelector('#df-27c39f74-06e1-4b89-af7f-1379154db657 button.colab-df-convert');\n",
              "      buttonEl.style.display =\n",
              "        google.colab.kernel.accessAllowed ? 'block' : 'none';\n",
              "\n",
              "      async function convertToInteractive(key) {\n",
              "        const element = document.querySelector('#df-27c39f74-06e1-4b89-af7f-1379154db657');\n",
              "        const dataTable =\n",
              "          await google.colab.kernel.invokeFunction('convertToInteractive',\n",
              "                                                    [key], {});\n",
              "        if (!dataTable) return;\n",
              "\n",
              "        const docLinkHtml = 'Like what you see? Visit the ' +\n",
              "          '<a target=\"_blank\" href=https://colab.research.google.com/notebooks/data_table.ipynb>data table notebook</a>'\n",
              "          + ' to learn more about interactive tables.';\n",
              "        element.innerHTML = '';\n",
              "        dataTable['output_type'] = 'display_data';\n",
              "        await google.colab.output.renderOutput(dataTable, element);\n",
              "        const docLink = document.createElement('div');\n",
              "        docLink.innerHTML = docLinkHtml;\n",
              "        element.appendChild(docLink);\n",
              "      }\n",
              "    </script>\n",
              "  </div>\n",
              "\n",
              "\n",
              "<div id=\"df-43d5dd1c-3b0c-4abd-9a2c-e17b37dc3929\">\n",
              "  <button class=\"colab-df-quickchart\" onclick=\"quickchart('df-43d5dd1c-3b0c-4abd-9a2c-e17b37dc3929')\"\n",
              "            title=\"Suggest charts\"\n",
              "            style=\"display:none;\">\n",
              "\n",
              "<svg xmlns=\"http://www.w3.org/2000/svg\" height=\"24px\"viewBox=\"0 0 24 24\"\n",
              "     width=\"24px\">\n",
              "    <g>\n",
              "        <path d=\"M19 3H5c-1.1 0-2 .9-2 2v14c0 1.1.9 2 2 2h14c1.1 0 2-.9 2-2V5c0-1.1-.9-2-2-2zM9 17H7v-7h2v7zm4 0h-2V7h2v10zm4 0h-2v-4h2v4z\"/>\n",
              "    </g>\n",
              "</svg>\n",
              "  </button>\n",
              "\n",
              "<style>\n",
              "  .colab-df-quickchart {\n",
              "      --bg-color: #E8F0FE;\n",
              "      --fill-color: #1967D2;\n",
              "      --hover-bg-color: #E2EBFA;\n",
              "      --hover-fill-color: #174EA6;\n",
              "      --disabled-fill-color: #AAA;\n",
              "      --disabled-bg-color: #DDD;\n",
              "  }\n",
              "\n",
              "  [theme=dark] .colab-df-quickchart {\n",
              "      --bg-color: #3B4455;\n",
              "      --fill-color: #D2E3FC;\n",
              "      --hover-bg-color: #434B5C;\n",
              "      --hover-fill-color: #FFFFFF;\n",
              "      --disabled-bg-color: #3B4455;\n",
              "      --disabled-fill-color: #666;\n",
              "  }\n",
              "\n",
              "  .colab-df-quickchart {\n",
              "    background-color: var(--bg-color);\n",
              "    border: none;\n",
              "    border-radius: 50%;\n",
              "    cursor: pointer;\n",
              "    display: none;\n",
              "    fill: var(--fill-color);\n",
              "    height: 32px;\n",
              "    padding: 0;\n",
              "    width: 32px;\n",
              "  }\n",
              "\n",
              "  .colab-df-quickchart:hover {\n",
              "    background-color: var(--hover-bg-color);\n",
              "    box-shadow: 0 1px 2px rgba(60, 64, 67, 0.3), 0 1px 3px 1px rgba(60, 64, 67, 0.15);\n",
              "    fill: var(--button-hover-fill-color);\n",
              "  }\n",
              "\n",
              "  .colab-df-quickchart-complete:disabled,\n",
              "  .colab-df-quickchart-complete:disabled:hover {\n",
              "    background-color: var(--disabled-bg-color);\n",
              "    fill: var(--disabled-fill-color);\n",
              "    box-shadow: none;\n",
              "  }\n",
              "\n",
              "  .colab-df-spinner {\n",
              "    border: 2px solid var(--fill-color);\n",
              "    border-color: transparent;\n",
              "    border-bottom-color: var(--fill-color);\n",
              "    animation:\n",
              "      spin 1s steps(1) infinite;\n",
              "  }\n",
              "\n",
              "  @keyframes spin {\n",
              "    0% {\n",
              "      border-color: transparent;\n",
              "      border-bottom-color: var(--fill-color);\n",
              "      border-left-color: var(--fill-color);\n",
              "    }\n",
              "    20% {\n",
              "      border-color: transparent;\n",
              "      border-left-color: var(--fill-color);\n",
              "      border-top-color: var(--fill-color);\n",
              "    }\n",
              "    30% {\n",
              "      border-color: transparent;\n",
              "      border-left-color: var(--fill-color);\n",
              "      border-top-color: var(--fill-color);\n",
              "      border-right-color: var(--fill-color);\n",
              "    }\n",
              "    40% {\n",
              "      border-color: transparent;\n",
              "      border-right-color: var(--fill-color);\n",
              "      border-top-color: var(--fill-color);\n",
              "    }\n",
              "    60% {\n",
              "      border-color: transparent;\n",
              "      border-right-color: var(--fill-color);\n",
              "    }\n",
              "    80% {\n",
              "      border-color: transparent;\n",
              "      border-right-color: var(--fill-color);\n",
              "      border-bottom-color: var(--fill-color);\n",
              "    }\n",
              "    90% {\n",
              "      border-color: transparent;\n",
              "      border-bottom-color: var(--fill-color);\n",
              "    }\n",
              "  }\n",
              "</style>\n",
              "\n",
              "  <script>\n",
              "    async function quickchart(key) {\n",
              "      const quickchartButtonEl =\n",
              "        document.querySelector('#' + key + ' button');\n",
              "      quickchartButtonEl.disabled = true;  // To prevent multiple clicks.\n",
              "      quickchartButtonEl.classList.add('colab-df-spinner');\n",
              "      try {\n",
              "        const charts = await google.colab.kernel.invokeFunction(\n",
              "            'suggestCharts', [key], {});\n",
              "      } catch (error) {\n",
              "        console.error('Error during call to suggestCharts:', error);\n",
              "      }\n",
              "      quickchartButtonEl.classList.remove('colab-df-spinner');\n",
              "      quickchartButtonEl.classList.add('colab-df-quickchart-complete');\n",
              "    }\n",
              "    (() => {\n",
              "      let quickchartButtonEl =\n",
              "        document.querySelector('#df-43d5dd1c-3b0c-4abd-9a2c-e17b37dc3929 button');\n",
              "      quickchartButtonEl.style.display =\n",
              "        google.colab.kernel.accessAllowed ? 'block' : 'none';\n",
              "    })();\n",
              "  </script>\n",
              "</div>\n",
              "\n",
              "    </div>\n",
              "  </div>\n"
            ],
            "application/vnd.google.colaboratory.intrinsic+json": {
              "type": "dataframe"
            }
          },
          "metadata": {},
          "execution_count": 11
        }
      ],
      "source": [
        "# grab our features\n",
        "data = arff.loadarff(\"/content/drive/MyDrive/Breast.arff\")\n",
        "data = pd.DataFrame(data[0])\n",
        "data.tail()"
      ]
    },
    {
      "cell_type": "code",
      "source": [
        "data.columns"
      ],
      "metadata": {
        "colab": {
          "base_uri": "https://localhost:8080/"
        },
        "id": "2KWhXj8u0Sws",
        "outputId": "44463e10-470e-450a-f693-fce83ed5768a"
      },
      "execution_count": null,
      "outputs": [
        {
          "output_type": "execute_result",
          "data": {
            "text/plain": [
              "Index(['Contig45645_RC', 'Contig44916_RC', 'D25272', 'J00129',\n",
              "       'Contig29982_RC', 'Contig26811', 'D25274', 'Contig36292', 'Contig42854',\n",
              "       'Contig34839',\n",
              "       ...\n",
              "       'NM_000898', 'NM_000899', 'Contig20164_RC', 'Contig8985_RC',\n",
              "       'Contig36062_RC', 'Contig35333_RC', 'Contig62037_RC', 'AF067420',\n",
              "       'Contig15167_RC', 'Class'],\n",
              "      dtype='object', length=24482)"
            ]
          },
          "metadata": {},
          "execution_count": 24
        }
      ]
    },
    {
      "cell_type": "code",
      "source": [
        "# check for any null values\n",
        "data.isnull().sum()"
      ],
      "metadata": {
        "colab": {
          "base_uri": "https://localhost:8080/"
        },
        "id": "guUfvzK10bRF",
        "outputId": "ea543540-34e9-487a-c23e-67cf3b791643"
      },
      "execution_count": null,
      "outputs": [
        {
          "output_type": "execute_result",
          "data": {
            "text/plain": [
              "Contig45645_RC    0\n",
              "Contig44916_RC    0\n",
              "D25272            0\n",
              "J00129            0\n",
              "Contig29982_RC    0\n",
              "                 ..\n",
              "Contig35333_RC    0\n",
              "Contig62037_RC    0\n",
              "AF067420          0\n",
              "Contig15167_RC    0\n",
              "Class             0\n",
              "Length: 24482, dtype: int64"
            ]
          },
          "metadata": {},
          "execution_count": 16
        }
      ]
    },
    {
      "cell_type": "code",
      "source": [
        "# class values are in byte string format but we need them in integer format\n",
        "# Converting them into string first\n",
        "y = data.Class  # label\n",
        "# len(y)\n",
        "# y[0]\n",
        "def cvt(str):\n",
        "  return str.decode(\"utf-8\")\n",
        "\n",
        "for st in range(len(y)):\n",
        "  y[st] = cvt(y[st])\n",
        "# print(y)"
      ],
      "metadata": {
        "id": "X_ZGei1X0ker"
      },
      "execution_count": null,
      "outputs": []
    },
    {
      "cell_type": "code",
      "source": [
        "# Then convert them into integer\n",
        "y.replace({\"non-relapse\": 0, \"relapse\": 1}, inplace= True)"
      ],
      "metadata": {
        "id": "4G3xpJ2Y0rx7"
      },
      "execution_count": null,
      "outputs": []
    },
    {
      "cell_type": "code",
      "execution_count": null,
      "metadata": {
        "colab": {
          "base_uri": "https://localhost:8080/"
        },
        "id": "ikwOKwCWYVUi",
        "outputId": "b3e4e276-6d2b-4629-cb83-3b53eb523b3c"
      },
      "outputs": [
        {
          "output_type": "stream",
          "name": "stdout",
          "text": [
            "x_train shape:  (77, 24481)\n",
            "y_train shape:  (77,)\n",
            "x_text:  (20, 24481)\n",
            "y_test:  (20,)\n"
          ]
        }
      ],
      "source": [
        "# grab our features\n",
        "Y = y.values\n",
        "x = data.drop(['Class'], axis=1)\n",
        "X = x.to_numpy()\n",
        "from sklearn.model_selection import train_test_split\n",
        "x_train, x_test, y_train, y_test = train_test_split(X, Y, test_size = 0.2, random_state = 101)\n",
        "print(\"x_train shape: \", x_train.shape)\n",
        "print(\"y_train shape: \", y_train.shape)\n",
        "print(\"x_text: \",x_test.shape)\n",
        "print(\"y_test: \",y_test.shape)\n",
        "\n",
        "from sklearn.preprocessing import StandardScaler\n",
        "sc = StandardScaler()\n",
        "x_train = sc.fit_transform(x_train)\n",
        "x_test = sc.transform(x_test)"
      ]
    },
    {
      "cell_type": "code",
      "source": [
        "cols = (data.columns).to_list()\n",
        "col_dict = dict(enumerate((x.columns.to_numpy()).flatten(), 0))"
      ],
      "metadata": {
        "id": "ES_H5LeA2YTS"
      },
      "execution_count": null,
      "outputs": []
    },
    {
      "cell_type": "code",
      "execution_count": null,
      "metadata": {
        "id": "rhylIEPZZ_lA"
      },
      "outputs": [],
      "source": [
        "# parameter\n",
        "k    = 5     # k-value in KNN\n",
        "N    = 10    # number of chromosomes\n",
        "T    = 100   # maximum number of generations\n",
        "CR   = 0.8\n",
        "MR   = 0.01\n",
        "fold = {'xt':x_train, 'yt':y_train, 'xv':x_test, 'yv':y_test}\n",
        "\n",
        "opts = {'k':k, 'fold':fold, 'N':N, 'T':T, 'CR':CR, 'MR':MR}"
      ]
    },
    {
      "cell_type": "code",
      "execution_count": null,
      "metadata": {
        "colab": {
          "base_uri": "https://localhost:8080/"
        },
        "id": "azwUupY3aLPE",
        "outputId": "31101e8c-725a-4e13-dcd2-a2e6b6216573"
      },
      "outputs": [
        {
          "output_type": "stream",
          "name": "stdout",
          "text": [
            "<class 'numpy.ndarray'>\n",
            "<class 'numpy.ndarray'>\n"
          ]
        }
      ],
      "source": [
        "# Check for types of x and y wheather they are numpy.ndarray or not\n",
        "# y = y.values\n",
        "print(type(X))\n",
        "print(type(Y))"
      ]
    },
    {
      "cell_type": "code",
      "execution_count": null,
      "metadata": {
        "colab": {
          "base_uri": "https://localhost:8080/",
          "height": 1000
        },
        "id": "bMMx0ZYpaQIP",
        "outputId": "b1eed38b-8915-40bf-8e0c-e411f59936a0"
      },
      "outputs": [
        {
          "output_type": "stream",
          "name": "stdout",
          "text": [
            "Iteration: 1\n",
            "Best (GWO): 0.45047242759691186\n",
            "Iteration: 2\n",
            "Best (GWOJA): 0.4008310935010825\n",
            "Iteration: 3\n",
            "Best (GWOJA): 0.4008310935010825\n",
            "Iteration: 4\n",
            "Best (GWOJA): 0.40029802704137907\n",
            "Iteration: 5\n",
            "Best (GWOJA): 0.40029802704137907\n",
            "Iteration: 6\n",
            "Best (GWOJA): 0.40029802704137907\n",
            "Iteration: 7\n",
            "Best (GWOJA): 0.40029802704137907\n",
            "Iteration: 8\n",
            "Best (GWOJA): 0.40000024508802745\n",
            "Iteration: 9\n",
            "Best (GWOJA): 0.39987361627384505\n",
            "Iteration: 10\n",
            "Best (GWOJA): 0.39979477962501536\n",
            "Iteration: 11\n",
            "Best (GWOJA): 0.39974902985989136\n",
            "Iteration: 12\n",
            "Best (GWOJA): 0.3997171684163229\n",
            "Iteration: 13\n",
            "Best (GWOJA): 0.3996820391323884\n",
            "Iteration: 14\n",
            "Best (GWOJA): 0.39961096360442794\n",
            "Iteration: 15\n",
            "Best (GWOJA): 0.3994708549487358\n",
            "Iteration: 16\n",
            "Best (GWOJA): 0.39934749397491937\n",
            "Iteration: 17\n",
            "Best (GWOJA): 0.3992555859646256\n",
            "Iteration: 18\n",
            "Best (GWOJA): 0.39921351251991344\n",
            "Iteration: 19\n",
            "Best (GWOJA): 0.39915346595318824\n",
            "Iteration: 20\n",
            "Best (GWOJA): 0.3990488950614763\n",
            "Iteration: 21\n",
            "Best (GWOJA): 0.3989414648094441\n",
            "Iteration: 22\n",
            "Best (GWOJA): 0.3988471059188759\n",
            "Iteration: 23\n",
            "Best (GWOJA): 0.39875519790858216\n",
            "Iteration: 24\n",
            "Best (GWOJA): 0.398683713900576\n",
            "Iteration: 25\n",
            "Best (GWOJA): 0.3986187655733018\n",
            "Iteration: 26\n",
            "Best (GWOJA): 0.3985195049221846\n",
            "Iteration: 27\n",
            "Best (GWOJA): 0.39847661451738087\n",
            "Iteration: 28\n",
            "Best (GWOJA): 0.3984296393121196\n",
            "Iteration: 29\n",
            "Best (GWOJA): 0.3983908337077734\n",
            "Iteration: 30\n",
            "Best (GWOJA): 0.3983119970589437\n",
            "Iteration: 31\n",
            "Best (GWOJA): 0.39823683673052573\n",
            "Iteration: 32\n",
            "Best (GWOJA): 0.398167803602794\n",
            "Iteration: 33\n",
            "Best (GWOJA): 0.3981240962378988\n",
            "Iteration: 34\n",
            "Best (GWOJA): 0.3981093909562518\n",
            "Iteration: 35\n",
            "Best (GWOJA): 0.39806037335076183\n",
            "Iteration: 36\n",
            "Best (GWOJA): 0.3980060455046771\n",
            "Iteration: 37\n",
            "Best (GWOJA): 0.39797336710101716\n",
            "Iteration: 38\n",
            "Best (GWOJA): 0.39792557493566444\n",
            "Iteration: 39\n",
            "Best (GWOJA): 0.39790433397328545\n",
            "Iteration: 40\n",
            "Best (GWOJA): 0.3978745149299457\n",
            "Iteration: 41\n",
            "Best (GWOJA): 0.3978434704464687\n",
            "Iteration: 42\n",
            "Best (GWOJA): 0.39781773620358646\n",
            "Iteration: 43\n",
            "Best (GWOJA): 0.3977781136391487\n",
            "Iteration: 44\n",
            "Best (GWOJA): 0.397736857154528\n",
            "Iteration: 45\n",
            "Best (GWOJA): 0.397736857154528\n",
            "Iteration: 46\n",
            "Best (GWOJA): 0.3977013193905478\n",
            "Iteration: 47\n",
            "Best (GWOJA): 0.39768865650912955\n",
            "Iteration: 48\n",
            "Best (GWOJA): 0.3976682325068421\n",
            "Iteration: 49\n",
            "Best (GWOJA): 0.3976514848249663\n",
            "Iteration: 50\n",
            "Best (GWOJA): 0.3976192149013521\n",
            "Iteration: 51\n",
            "Best (GWOJA): 0.39759021281810386\n",
            "Iteration: 52\n",
            "Best (GWOJA): 0.39759021281810386\n",
            "Iteration: 53\n",
            "Best (GWOJA): 0.3975849025775091\n",
            "Iteration: 54\n",
            "Best (GWOJA): 0.39753996977247663\n",
            "Iteration: 55\n",
            "Best (GWOJA): 0.39753996977247663\n",
            "Iteration: 56\n",
            "Best (GWOJA): 0.3975346595318819\n",
            "Iteration: 57\n",
            "Best (GWOJA): 0.3975285323311956\n",
            "Iteration: 58\n",
            "Best (GWOJA): 0.39751301008945716\n",
            "Iteration: 59\n",
            "Best (GWOJA): 0.39749340304726116\n",
            "Iteration: 60\n",
            "Best (GWOJA): 0.39748850128671215\n",
            "Iteration: 61\n",
            "Best (GWOJA): 0.39747624688533967\n",
            "Iteration: 62\n",
            "Best (GWOJA): 0.3974746129651567\n",
            "Iteration: 63\n",
            "Best (GWOJA): 0.3974656264041502\n",
            "Iteration: 64\n",
            "Best (GWOJA): 0.3974554144030064\n",
            "Iteration: 65\n",
            "Best (GWOJA): 0.3974554144030064\n",
            "Iteration: 66\n",
            "Best (GWOJA): 0.3974492872023202\n",
            "Iteration: 67\n",
            "Best (GWOJA): 0.3974403006413137\n",
            "Iteration: 68\n",
            "Best (GWOJA): 0.397425186879621\n",
            "Iteration: 69\n",
            "Best (GWOJA): 0.39742191903925495\n",
            "Iteration: 70\n",
            "Best (GWOJA): 0.39742191903925495\n",
            "Iteration: 71\n",
            "Best (GWOJA): 0.39740721375760796\n",
            "Iteration: 72\n",
            "Best (GWOJA): 0.39740721375760796\n",
            "Iteration: 73\n",
            "Best (GWOJA): 0.39740067807687596\n",
            "Iteration: 74\n",
            "Best (GWOJA): 0.39739904415669297\n",
            "Iteration: 75\n",
            "Best (GWOJA): 0.3973937339160982\n",
            "Iteration: 76\n",
            "Best (GWOJA): 0.3973937339160982\n",
            "Iteration: 77\n",
            "Best (GWOJA): 0.39738147951472574\n",
            "Iteration: 78\n",
            "Best (GWOJA): 0.39738147951472574\n",
            "Iteration: 79\n",
            "Best (GWOJA): 0.3973806625546342\n",
            "Iteration: 80\n",
            "Best (GWOJA): 0.39737453535394796\n",
            "Iteration: 81\n",
            "Best (GWOJA): 0.39737085903353625\n",
            "Iteration: 82\n",
            "Best (GWOJA): 0.3973671827131245\n",
            "Iteration: 83\n",
            "Best (GWOJA): 0.39735778767207225\n",
            "Iteration: 84\n",
            "Best (GWOJA): 0.39735778767207225\n",
            "Iteration: 85\n",
            "Best (GWOJA): 0.39735778767207225\n",
            "Iteration: 86\n",
            "Best (GWOJA): 0.397356562231935\n",
            "Iteration: 87\n",
            "Best (GWOJA): 0.397356562231935\n",
            "Iteration: 88\n",
            "Best (GWOJA): 0.39735288591152323\n",
            "Iteration: 89\n",
            "Best (GWOJA): 0.3973426739103795\n",
            "Iteration: 90\n",
            "Best (GWOJA): 0.3973426739103795\n",
            "Iteration: 91\n",
            "Best (GWOJA): 0.3973426739103795\n",
            "Iteration: 92\n",
            "Best (GWOJA): 0.3973426739103795\n",
            "Iteration: 93\n",
            "Best (GWOJA): 0.3973426739103795\n",
            "Iteration: 94\n",
            "Best (GWOJA): 0.3973426739103795\n",
            "Iteration: 95\n",
            "Best (GWOJA): 0.39733654670969326\n",
            "Iteration: 96\n",
            "Best (GWOJA): 0.397333687349373\n",
            "Iteration: 97\n",
            "Best (GWOJA): 0.397333687349373\n",
            "Iteration: 98\n",
            "Best (GWOJA): 0.397333687349373\n",
            "Iteration: 99\n",
            "Best (GWOJA): 0.39733205342919\n",
            "Iteration: 100\n",
            "Best (GWOJA): 0.39733164494914425\n"
          ]
        },
        {
          "output_type": "error",
          "ename": "NameError",
          "evalue": "name 'sf' is not defined",
          "traceback": [
            "\u001b[0;31m---------------------------------------------------------------------------\u001b[0m",
            "\u001b[0;31mNameError\u001b[0m                                 Traceback (most recent call last)",
            "\u001b[0;32m<ipython-input-22-212be4855802>\u001b[0m in \u001b[0;36m<cell line: 2>\u001b[0;34m()\u001b[0m\n\u001b[1;32m      1\u001b[0m \u001b[0mfmdl\u001b[0m \u001b[0;34m=\u001b[0m \u001b[0mjfs\u001b[0m\u001b[0;34m(\u001b[0m\u001b[0mx_train\u001b[0m\u001b[0;34m,\u001b[0m\u001b[0my_train\u001b[0m\u001b[0;34m,\u001b[0m \u001b[0mopts\u001b[0m\u001b[0;34m)\u001b[0m\u001b[0;34m\u001b[0m\u001b[0;34m\u001b[0m\u001b[0m\n\u001b[0;32m----> 2\u001b[0;31m \u001b[0msf\u001b[0m   \u001b[0;34m=\u001b[0m \u001b[0mfmdl\u001b[0m\u001b[0;34m[\u001b[0m\u001b[0msf\u001b[0m\u001b[0;34m]\u001b[0m\u001b[0;34m\u001b[0m\u001b[0;34m\u001b[0m\u001b[0m\n\u001b[0m",
            "\u001b[0;31mNameError\u001b[0m: name 'sf' is not defined"
          ]
        }
      ],
      "source": [
        "fmdl = jfs(x_train,y_train, opts)"
      ]
    },
    {
      "cell_type": "code",
      "source": [
        "f = fmdl['sf']\n",
        "print(\"Lenght of features: \", len(f))\n",
        "# featching features\n",
        "features = []\n",
        "for key, val in col_dict.items():\n",
        "  if key in f:\n",
        "    features.append(col_dict.get(key))\n",
        "cor = data[features].corr()"
      ],
      "metadata": {
        "colab": {
          "base_uri": "https://localhost:8080/"
        },
        "id": "zN7hq4ET2I6v",
        "outputId": "5f0fe501-5447-4aad-a49b-5c6f7fbc83bd"
      },
      "execution_count": null,
      "outputs": [
        {
          "output_type": "stream",
          "name": "stdout",
          "text": [
            "Lenght of features:  3881\n"
          ]
        }
      ]
    },
    {
      "cell_type": "code",
      "source": [
        "new_X = x[features]\n",
        "new_X.head()"
      ],
      "metadata": {
        "colab": {
          "base_uri": "https://localhost:8080/",
          "height": 255
        },
        "id": "m07Sk2T62mFt",
        "outputId": "3428525a-a6a0-4227-c04f-112b14fadc65"
      },
      "execution_count": null,
      "outputs": [
        {
          "output_type": "execute_result",
          "data": {
            "text/plain": [
              "   D25274  Contig36292  Contig29373_RC  Contig19662_RC  Contig46366_RC  \\\n",
              "0   0.039       -0.409           0.146          -0.069           0.086   \n",
              "1   0.098       -0.090           0.101           0.077           0.058   \n",
              "2   0.102        0.023           0.108           0.021          -0.110   \n",
              "3  -0.145       -0.103           0.323           0.156          -0.040   \n",
              "4   0.101       -0.008           0.016           0.012          -0.036   \n",
              "\n",
              "   zero_barcode  one_barcode  Contig42006_RC  Contig732_RC  Contig34362_RC  \\\n",
              "0        -0.007        0.259           0.021         0.246           0.080   \n",
              "1        -0.086        0.122          -0.182         0.170           0.051   \n",
              "2         0.057       -0.010          -0.055         0.189           0.065   \n",
              "3         0.008        0.233           0.127         0.049          -0.067   \n",
              "4         0.063       -0.158          -0.216        -0.044          -0.013   \n",
              "\n",
              "   ...  Contig30718_RC  Contig28660_RC  NM_000878  NM_018990  NM_018996  \\\n",
              "0  ...          -0.038          -0.030      0.096      0.301      0.069   \n",
              "1  ...          -0.017           0.051     -0.182     -0.051      0.099   \n",
              "2  ...           0.035          -0.205     -0.132      0.079     -0.084   \n",
              "3  ...           0.033           0.246     -0.102     -0.049     -0.057   \n",
              "4  ...           0.033           0.138     -0.252     -0.001      0.191   \n",
              "\n",
              "   NM_000884  NM_000888  NM_000890  NM_000899  Contig36062_RC  \n",
              "0     -0.261     -0.442      0.399     -0.211          -0.025  \n",
              "1     -0.143     -0.126      0.358     -0.020           0.148  \n",
              "2     -0.267     -0.364      0.337     -0.159          -0.086  \n",
              "3     -0.413      0.415     -0.001     -0.096           0.076  \n",
              "4     -0.155     -0.405     -0.046     -0.088          -0.124  \n",
              "\n",
              "[5 rows x 3881 columns]"
            ],
            "text/html": [
              "\n",
              "  <div id=\"df-f5bce2e7-76a3-4423-9b48-cd1acc56affb\" class=\"colab-df-container\">\n",
              "    <div>\n",
              "<style scoped>\n",
              "    .dataframe tbody tr th:only-of-type {\n",
              "        vertical-align: middle;\n",
              "    }\n",
              "\n",
              "    .dataframe tbody tr th {\n",
              "        vertical-align: top;\n",
              "    }\n",
              "\n",
              "    .dataframe thead th {\n",
              "        text-align: right;\n",
              "    }\n",
              "</style>\n",
              "<table border=\"1\" class=\"dataframe\">\n",
              "  <thead>\n",
              "    <tr style=\"text-align: right;\">\n",
              "      <th></th>\n",
              "      <th>D25274</th>\n",
              "      <th>Contig36292</th>\n",
              "      <th>Contig29373_RC</th>\n",
              "      <th>Contig19662_RC</th>\n",
              "      <th>Contig46366_RC</th>\n",
              "      <th>zero_barcode</th>\n",
              "      <th>one_barcode</th>\n",
              "      <th>Contig42006_RC</th>\n",
              "      <th>Contig732_RC</th>\n",
              "      <th>Contig34362_RC</th>\n",
              "      <th>...</th>\n",
              "      <th>Contig30718_RC</th>\n",
              "      <th>Contig28660_RC</th>\n",
              "      <th>NM_000878</th>\n",
              "      <th>NM_018990</th>\n",
              "      <th>NM_018996</th>\n",
              "      <th>NM_000884</th>\n",
              "      <th>NM_000888</th>\n",
              "      <th>NM_000890</th>\n",
              "      <th>NM_000899</th>\n",
              "      <th>Contig36062_RC</th>\n",
              "    </tr>\n",
              "  </thead>\n",
              "  <tbody>\n",
              "    <tr>\n",
              "      <th>0</th>\n",
              "      <td>0.039</td>\n",
              "      <td>-0.409</td>\n",
              "      <td>0.146</td>\n",
              "      <td>-0.069</td>\n",
              "      <td>0.086</td>\n",
              "      <td>-0.007</td>\n",
              "      <td>0.259</td>\n",
              "      <td>0.021</td>\n",
              "      <td>0.246</td>\n",
              "      <td>0.080</td>\n",
              "      <td>...</td>\n",
              "      <td>-0.038</td>\n",
              "      <td>-0.030</td>\n",
              "      <td>0.096</td>\n",
              "      <td>0.301</td>\n",
              "      <td>0.069</td>\n",
              "      <td>-0.261</td>\n",
              "      <td>-0.442</td>\n",
              "      <td>0.399</td>\n",
              "      <td>-0.211</td>\n",
              "      <td>-0.025</td>\n",
              "    </tr>\n",
              "    <tr>\n",
              "      <th>1</th>\n",
              "      <td>0.098</td>\n",
              "      <td>-0.090</td>\n",
              "      <td>0.101</td>\n",
              "      <td>0.077</td>\n",
              "      <td>0.058</td>\n",
              "      <td>-0.086</td>\n",
              "      <td>0.122</td>\n",
              "      <td>-0.182</td>\n",
              "      <td>0.170</td>\n",
              "      <td>0.051</td>\n",
              "      <td>...</td>\n",
              "      <td>-0.017</td>\n",
              "      <td>0.051</td>\n",
              "      <td>-0.182</td>\n",
              "      <td>-0.051</td>\n",
              "      <td>0.099</td>\n",
              "      <td>-0.143</td>\n",
              "      <td>-0.126</td>\n",
              "      <td>0.358</td>\n",
              "      <td>-0.020</td>\n",
              "      <td>0.148</td>\n",
              "    </tr>\n",
              "    <tr>\n",
              "      <th>2</th>\n",
              "      <td>0.102</td>\n",
              "      <td>0.023</td>\n",
              "      <td>0.108</td>\n",
              "      <td>0.021</td>\n",
              "      <td>-0.110</td>\n",
              "      <td>0.057</td>\n",
              "      <td>-0.010</td>\n",
              "      <td>-0.055</td>\n",
              "      <td>0.189</td>\n",
              "      <td>0.065</td>\n",
              "      <td>...</td>\n",
              "      <td>0.035</td>\n",
              "      <td>-0.205</td>\n",
              "      <td>-0.132</td>\n",
              "      <td>0.079</td>\n",
              "      <td>-0.084</td>\n",
              "      <td>-0.267</td>\n",
              "      <td>-0.364</td>\n",
              "      <td>0.337</td>\n",
              "      <td>-0.159</td>\n",
              "      <td>-0.086</td>\n",
              "    </tr>\n",
              "    <tr>\n",
              "      <th>3</th>\n",
              "      <td>-0.145</td>\n",
              "      <td>-0.103</td>\n",
              "      <td>0.323</td>\n",
              "      <td>0.156</td>\n",
              "      <td>-0.040</td>\n",
              "      <td>0.008</td>\n",
              "      <td>0.233</td>\n",
              "      <td>0.127</td>\n",
              "      <td>0.049</td>\n",
              "      <td>-0.067</td>\n",
              "      <td>...</td>\n",
              "      <td>0.033</td>\n",
              "      <td>0.246</td>\n",
              "      <td>-0.102</td>\n",
              "      <td>-0.049</td>\n",
              "      <td>-0.057</td>\n",
              "      <td>-0.413</td>\n",
              "      <td>0.415</td>\n",
              "      <td>-0.001</td>\n",
              "      <td>-0.096</td>\n",
              "      <td>0.076</td>\n",
              "    </tr>\n",
              "    <tr>\n",
              "      <th>4</th>\n",
              "      <td>0.101</td>\n",
              "      <td>-0.008</td>\n",
              "      <td>0.016</td>\n",
              "      <td>0.012</td>\n",
              "      <td>-0.036</td>\n",
              "      <td>0.063</td>\n",
              "      <td>-0.158</td>\n",
              "      <td>-0.216</td>\n",
              "      <td>-0.044</td>\n",
              "      <td>-0.013</td>\n",
              "      <td>...</td>\n",
              "      <td>0.033</td>\n",
              "      <td>0.138</td>\n",
              "      <td>-0.252</td>\n",
              "      <td>-0.001</td>\n",
              "      <td>0.191</td>\n",
              "      <td>-0.155</td>\n",
              "      <td>-0.405</td>\n",
              "      <td>-0.046</td>\n",
              "      <td>-0.088</td>\n",
              "      <td>-0.124</td>\n",
              "    </tr>\n",
              "  </tbody>\n",
              "</table>\n",
              "<p>5 rows × 3881 columns</p>\n",
              "</div>\n",
              "    <div class=\"colab-df-buttons\">\n",
              "\n",
              "  <div class=\"colab-df-container\">\n",
              "    <button class=\"colab-df-convert\" onclick=\"convertToInteractive('df-f5bce2e7-76a3-4423-9b48-cd1acc56affb')\"\n",
              "            title=\"Convert this dataframe to an interactive table.\"\n",
              "            style=\"display:none;\">\n",
              "\n",
              "  <svg xmlns=\"http://www.w3.org/2000/svg\" height=\"24px\" viewBox=\"0 -960 960 960\">\n",
              "    <path d=\"M120-120v-720h720v720H120Zm60-500h600v-160H180v160Zm220 220h160v-160H400v160Zm0 220h160v-160H400v160ZM180-400h160v-160H180v160Zm440 0h160v-160H620v160ZM180-180h160v-160H180v160Zm440 0h160v-160H620v160Z\"/>\n",
              "  </svg>\n",
              "    </button>\n",
              "\n",
              "  <style>\n",
              "    .colab-df-container {\n",
              "      display:flex;\n",
              "      gap: 12px;\n",
              "    }\n",
              "\n",
              "    .colab-df-convert {\n",
              "      background-color: #E8F0FE;\n",
              "      border: none;\n",
              "      border-radius: 50%;\n",
              "      cursor: pointer;\n",
              "      display: none;\n",
              "      fill: #1967D2;\n",
              "      height: 32px;\n",
              "      padding: 0 0 0 0;\n",
              "      width: 32px;\n",
              "    }\n",
              "\n",
              "    .colab-df-convert:hover {\n",
              "      background-color: #E2EBFA;\n",
              "      box-shadow: 0px 1px 2px rgba(60, 64, 67, 0.3), 0px 1px 3px 1px rgba(60, 64, 67, 0.15);\n",
              "      fill: #174EA6;\n",
              "    }\n",
              "\n",
              "    .colab-df-buttons div {\n",
              "      margin-bottom: 4px;\n",
              "    }\n",
              "\n",
              "    [theme=dark] .colab-df-convert {\n",
              "      background-color: #3B4455;\n",
              "      fill: #D2E3FC;\n",
              "    }\n",
              "\n",
              "    [theme=dark] .colab-df-convert:hover {\n",
              "      background-color: #434B5C;\n",
              "      box-shadow: 0px 1px 3px 1px rgba(0, 0, 0, 0.15);\n",
              "      filter: drop-shadow(0px 1px 2px rgba(0, 0, 0, 0.3));\n",
              "      fill: #FFFFFF;\n",
              "    }\n",
              "  </style>\n",
              "\n",
              "    <script>\n",
              "      const buttonEl =\n",
              "        document.querySelector('#df-f5bce2e7-76a3-4423-9b48-cd1acc56affb button.colab-df-convert');\n",
              "      buttonEl.style.display =\n",
              "        google.colab.kernel.accessAllowed ? 'block' : 'none';\n",
              "\n",
              "      async function convertToInteractive(key) {\n",
              "        const element = document.querySelector('#df-f5bce2e7-76a3-4423-9b48-cd1acc56affb');\n",
              "        const dataTable =\n",
              "          await google.colab.kernel.invokeFunction('convertToInteractive',\n",
              "                                                    [key], {});\n",
              "        if (!dataTable) return;\n",
              "\n",
              "        const docLinkHtml = 'Like what you see? Visit the ' +\n",
              "          '<a target=\"_blank\" href=https://colab.research.google.com/notebooks/data_table.ipynb>data table notebook</a>'\n",
              "          + ' to learn more about interactive tables.';\n",
              "        element.innerHTML = '';\n",
              "        dataTable['output_type'] = 'display_data';\n",
              "        await google.colab.output.renderOutput(dataTable, element);\n",
              "        const docLink = document.createElement('div');\n",
              "        docLink.innerHTML = docLinkHtml;\n",
              "        element.appendChild(docLink);\n",
              "      }\n",
              "    </script>\n",
              "  </div>\n",
              "\n",
              "\n",
              "<div id=\"df-1afc9874-99b3-4bbf-b73d-8f2f28b081b6\">\n",
              "  <button class=\"colab-df-quickchart\" onclick=\"quickchart('df-1afc9874-99b3-4bbf-b73d-8f2f28b081b6')\"\n",
              "            title=\"Suggest charts\"\n",
              "            style=\"display:none;\">\n",
              "\n",
              "<svg xmlns=\"http://www.w3.org/2000/svg\" height=\"24px\"viewBox=\"0 0 24 24\"\n",
              "     width=\"24px\">\n",
              "    <g>\n",
              "        <path d=\"M19 3H5c-1.1 0-2 .9-2 2v14c0 1.1.9 2 2 2h14c1.1 0 2-.9 2-2V5c0-1.1-.9-2-2-2zM9 17H7v-7h2v7zm4 0h-2V7h2v10zm4 0h-2v-4h2v4z\"/>\n",
              "    </g>\n",
              "</svg>\n",
              "  </button>\n",
              "\n",
              "<style>\n",
              "  .colab-df-quickchart {\n",
              "      --bg-color: #E8F0FE;\n",
              "      --fill-color: #1967D2;\n",
              "      --hover-bg-color: #E2EBFA;\n",
              "      --hover-fill-color: #174EA6;\n",
              "      --disabled-fill-color: #AAA;\n",
              "      --disabled-bg-color: #DDD;\n",
              "  }\n",
              "\n",
              "  [theme=dark] .colab-df-quickchart {\n",
              "      --bg-color: #3B4455;\n",
              "      --fill-color: #D2E3FC;\n",
              "      --hover-bg-color: #434B5C;\n",
              "      --hover-fill-color: #FFFFFF;\n",
              "      --disabled-bg-color: #3B4455;\n",
              "      --disabled-fill-color: #666;\n",
              "  }\n",
              "\n",
              "  .colab-df-quickchart {\n",
              "    background-color: var(--bg-color);\n",
              "    border: none;\n",
              "    border-radius: 50%;\n",
              "    cursor: pointer;\n",
              "    display: none;\n",
              "    fill: var(--fill-color);\n",
              "    height: 32px;\n",
              "    padding: 0;\n",
              "    width: 32px;\n",
              "  }\n",
              "\n",
              "  .colab-df-quickchart:hover {\n",
              "    background-color: var(--hover-bg-color);\n",
              "    box-shadow: 0 1px 2px rgba(60, 64, 67, 0.3), 0 1px 3px 1px rgba(60, 64, 67, 0.15);\n",
              "    fill: var(--button-hover-fill-color);\n",
              "  }\n",
              "\n",
              "  .colab-df-quickchart-complete:disabled,\n",
              "  .colab-df-quickchart-complete:disabled:hover {\n",
              "    background-color: var(--disabled-bg-color);\n",
              "    fill: var(--disabled-fill-color);\n",
              "    box-shadow: none;\n",
              "  }\n",
              "\n",
              "  .colab-df-spinner {\n",
              "    border: 2px solid var(--fill-color);\n",
              "    border-color: transparent;\n",
              "    border-bottom-color: var(--fill-color);\n",
              "    animation:\n",
              "      spin 1s steps(1) infinite;\n",
              "  }\n",
              "\n",
              "  @keyframes spin {\n",
              "    0% {\n",
              "      border-color: transparent;\n",
              "      border-bottom-color: var(--fill-color);\n",
              "      border-left-color: var(--fill-color);\n",
              "    }\n",
              "    20% {\n",
              "      border-color: transparent;\n",
              "      border-left-color: var(--fill-color);\n",
              "      border-top-color: var(--fill-color);\n",
              "    }\n",
              "    30% {\n",
              "      border-color: transparent;\n",
              "      border-left-color: var(--fill-color);\n",
              "      border-top-color: var(--fill-color);\n",
              "      border-right-color: var(--fill-color);\n",
              "    }\n",
              "    40% {\n",
              "      border-color: transparent;\n",
              "      border-right-color: var(--fill-color);\n",
              "      border-top-color: var(--fill-color);\n",
              "    }\n",
              "    60% {\n",
              "      border-color: transparent;\n",
              "      border-right-color: var(--fill-color);\n",
              "    }\n",
              "    80% {\n",
              "      border-color: transparent;\n",
              "      border-right-color: var(--fill-color);\n",
              "      border-bottom-color: var(--fill-color);\n",
              "    }\n",
              "    90% {\n",
              "      border-color: transparent;\n",
              "      border-bottom-color: var(--fill-color);\n",
              "    }\n",
              "  }\n",
              "</style>\n",
              "\n",
              "  <script>\n",
              "    async function quickchart(key) {\n",
              "      const quickchartButtonEl =\n",
              "        document.querySelector('#' + key + ' button');\n",
              "      quickchartButtonEl.disabled = true;  // To prevent multiple clicks.\n",
              "      quickchartButtonEl.classList.add('colab-df-spinner');\n",
              "      try {\n",
              "        const charts = await google.colab.kernel.invokeFunction(\n",
              "            'suggestCharts', [key], {});\n",
              "      } catch (error) {\n",
              "        console.error('Error during call to suggestCharts:', error);\n",
              "      }\n",
              "      quickchartButtonEl.classList.remove('colab-df-spinner');\n",
              "      quickchartButtonEl.classList.add('colab-df-quickchart-complete');\n",
              "    }\n",
              "    (() => {\n",
              "      let quickchartButtonEl =\n",
              "        document.querySelector('#df-1afc9874-99b3-4bbf-b73d-8f2f28b081b6 button');\n",
              "      quickchartButtonEl.style.display =\n",
              "        google.colab.kernel.accessAllowed ? 'block' : 'none';\n",
              "    })();\n",
              "  </script>\n",
              "</div>\n",
              "\n",
              "    </div>\n",
              "  </div>\n"
            ],
            "application/vnd.google.colaboratory.intrinsic+json": {
              "type": "dataframe",
              "variable_name": "new_X"
            }
          },
          "metadata": {},
          "execution_count": 31
        }
      ]
    },
    {
      "cell_type": "code",
      "source": [
        "# from sklearn.model_selection import train_test_split\n",
        "X_train, X_test, y_train, y_test = train_test_split(new_X, Y, test_size = 0.3, random_state = 101)\n",
        "print(\"x_train shape: \", X_train.shape)\n",
        "print(\"y_train shape: \", y_train.shape)\n",
        "print(\"x_text: \",X_test.shape)\n",
        "print(\"y_test: \",y_test.shape)"
      ],
      "metadata": {
        "colab": {
          "base_uri": "https://localhost:8080/"
        },
        "id": "jEaaYJSm2-pT",
        "outputId": "406f2998-5f27-4f07-8bc1-464529a12515"
      },
      "execution_count": null,
      "outputs": [
        {
          "output_type": "stream",
          "name": "stdout",
          "text": [
            "x_train shape:  (67, 3881)\n",
            "y_train shape:  (67,)\n",
            "x_text:  (30, 3881)\n",
            "y_test:  (30,)\n"
          ]
        }
      ]
    },
    {
      "cell_type": "code",
      "source": [
        "from sklearn.preprocessing import StandardScaler\n",
        "\n",
        "sc  = StandardScaler()\n",
        "sc.fit_transform(X_train)\n",
        "sc.fit(X_test)"
      ],
      "metadata": {
        "colab": {
          "base_uri": "https://localhost:8080/",
          "height": 74
        },
        "id": "KcrPpNY84J7Z",
        "outputId": "c650b467-c647-4cb8-bbd6-8688f719ff66"
      },
      "execution_count": null,
      "outputs": [
        {
          "output_type": "execute_result",
          "data": {
            "text/plain": [
              "StandardScaler()"
            ],
            "text/html": [
              "<style>#sk-container-id-5 {color: black;background-color: white;}#sk-container-id-5 pre{padding: 0;}#sk-container-id-5 div.sk-toggleable {background-color: white;}#sk-container-id-5 label.sk-toggleable__label {cursor: pointer;display: block;width: 100%;margin-bottom: 0;padding: 0.3em;box-sizing: border-box;text-align: center;}#sk-container-id-5 label.sk-toggleable__label-arrow:before {content: \"▸\";float: left;margin-right: 0.25em;color: #696969;}#sk-container-id-5 label.sk-toggleable__label-arrow:hover:before {color: black;}#sk-container-id-5 div.sk-estimator:hover label.sk-toggleable__label-arrow:before {color: black;}#sk-container-id-5 div.sk-toggleable__content {max-height: 0;max-width: 0;overflow: hidden;text-align: left;background-color: #f0f8ff;}#sk-container-id-5 div.sk-toggleable__content pre {margin: 0.2em;color: black;border-radius: 0.25em;background-color: #f0f8ff;}#sk-container-id-5 input.sk-toggleable__control:checked~div.sk-toggleable__content {max-height: 200px;max-width: 100%;overflow: auto;}#sk-container-id-5 input.sk-toggleable__control:checked~label.sk-toggleable__label-arrow:before {content: \"▾\";}#sk-container-id-5 div.sk-estimator input.sk-toggleable__control:checked~label.sk-toggleable__label {background-color: #d4ebff;}#sk-container-id-5 div.sk-label input.sk-toggleable__control:checked~label.sk-toggleable__label {background-color: #d4ebff;}#sk-container-id-5 input.sk-hidden--visually {border: 0;clip: rect(1px 1px 1px 1px);clip: rect(1px, 1px, 1px, 1px);height: 1px;margin: -1px;overflow: hidden;padding: 0;position: absolute;width: 1px;}#sk-container-id-5 div.sk-estimator {font-family: monospace;background-color: #f0f8ff;border: 1px dotted black;border-radius: 0.25em;box-sizing: border-box;margin-bottom: 0.5em;}#sk-container-id-5 div.sk-estimator:hover {background-color: #d4ebff;}#sk-container-id-5 div.sk-parallel-item::after {content: \"\";width: 100%;border-bottom: 1px solid gray;flex-grow: 1;}#sk-container-id-5 div.sk-label:hover label.sk-toggleable__label {background-color: #d4ebff;}#sk-container-id-5 div.sk-serial::before {content: \"\";position: absolute;border-left: 1px solid gray;box-sizing: border-box;top: 0;bottom: 0;left: 50%;z-index: 0;}#sk-container-id-5 div.sk-serial {display: flex;flex-direction: column;align-items: center;background-color: white;padding-right: 0.2em;padding-left: 0.2em;position: relative;}#sk-container-id-5 div.sk-item {position: relative;z-index: 1;}#sk-container-id-5 div.sk-parallel {display: flex;align-items: stretch;justify-content: center;background-color: white;position: relative;}#sk-container-id-5 div.sk-item::before, #sk-container-id-5 div.sk-parallel-item::before {content: \"\";position: absolute;border-left: 1px solid gray;box-sizing: border-box;top: 0;bottom: 0;left: 50%;z-index: -1;}#sk-container-id-5 div.sk-parallel-item {display: flex;flex-direction: column;z-index: 1;position: relative;background-color: white;}#sk-container-id-5 div.sk-parallel-item:first-child::after {align-self: flex-end;width: 50%;}#sk-container-id-5 div.sk-parallel-item:last-child::after {align-self: flex-start;width: 50%;}#sk-container-id-5 div.sk-parallel-item:only-child::after {width: 0;}#sk-container-id-5 div.sk-dashed-wrapped {border: 1px dashed gray;margin: 0 0.4em 0.5em 0.4em;box-sizing: border-box;padding-bottom: 0.4em;background-color: white;}#sk-container-id-5 div.sk-label label {font-family: monospace;font-weight: bold;display: inline-block;line-height: 1.2em;}#sk-container-id-5 div.sk-label-container {text-align: center;}#sk-container-id-5 div.sk-container {/* jupyter's `normalize.less` sets `[hidden] { display: none; }` but bootstrap.min.css set `[hidden] { display: none !important; }` so we also need the `!important` here to be able to override the default hidden behavior on the sphinx rendered scikit-learn.org. See: https://github.com/scikit-learn/scikit-learn/issues/21755 */display: inline-block !important;position: relative;}#sk-container-id-5 div.sk-text-repr-fallback {display: none;}</style><div id=\"sk-container-id-5\" class=\"sk-top-container\"><div class=\"sk-text-repr-fallback\"><pre>StandardScaler()</pre><b>In a Jupyter environment, please rerun this cell to show the HTML representation or trust the notebook. <br />On GitHub, the HTML representation is unable to render, please try loading this page with nbviewer.org.</b></div><div class=\"sk-container\" hidden><div class=\"sk-item\"><div class=\"sk-estimator sk-toggleable\"><input class=\"sk-toggleable__control sk-hidden--visually\" id=\"sk-estimator-id-5\" type=\"checkbox\" checked><label for=\"sk-estimator-id-5\" class=\"sk-toggleable__label sk-toggleable__label-arrow\">StandardScaler</label><div class=\"sk-toggleable__content\"><pre>StandardScaler()</pre></div></div></div></div></div>"
            ]
          },
          "metadata": {},
          "execution_count": 58
        }
      ]
    },
    {
      "cell_type": "markdown",
      "source": [
        "# Classfication"
      ],
      "metadata": {
        "id": "z39q28Tt3kWT"
      }
    },
    {
      "cell_type": "markdown",
      "source": [
        "## SVM"
      ],
      "metadata": {
        "id": "FwJuK2Qn3mxm"
      }
    },
    {
      "cell_type": "code",
      "source": [
        "model_SVC= SVC()\n",
        "model_SVC.fit(X_train,y_train)\n",
        "model_pred = model_SVC.predict(X_test)\n",
        "cm = confusion_matrix(y_test,model_pred)\n",
        "print(cm)\n",
        "print('\\n')\n",
        "\n",
        "disp = ConfusionMatrixDisplay(confusion_matrix=cm,display_labels=model_SVC.classes_)\n",
        "disp.plot()\n",
        "print(classification_report(y_test,model_pred))"
      ],
      "metadata": {
        "colab": {
          "base_uri": "https://localhost:8080/",
          "height": 799
        },
        "id": "4tPpJXYK3BTD",
        "outputId": "a78e373d-6b92-4d91-b1b7-5fa626fd7e55"
      },
      "execution_count": null,
      "outputs": [
        {
          "output_type": "stream",
          "name": "stdout",
          "text": [
            "[[15  0]\n",
            " [15  0]]\n",
            "\n",
            "\n",
            "              precision    recall  f1-score   support\n",
            "\n",
            "           0       0.50      1.00      0.67        15\n",
            "           1       0.00      0.00      0.00        15\n",
            "\n",
            "    accuracy                           0.50        30\n",
            "   macro avg       0.25      0.50      0.33        30\n",
            "weighted avg       0.25      0.50      0.33        30\n",
            "\n"
          ]
        },
        {
          "output_type": "stream",
          "name": "stderr",
          "text": [
            "/usr/local/lib/python3.10/dist-packages/sklearn/metrics/_classification.py:1344: UndefinedMetricWarning: Precision and F-score are ill-defined and being set to 0.0 in labels with no predicted samples. Use `zero_division` parameter to control this behavior.\n",
            "  _warn_prf(average, modifier, msg_start, len(result))\n",
            "/usr/local/lib/python3.10/dist-packages/sklearn/metrics/_classification.py:1344: UndefinedMetricWarning: Precision and F-score are ill-defined and being set to 0.0 in labels with no predicted samples. Use `zero_division` parameter to control this behavior.\n",
            "  _warn_prf(average, modifier, msg_start, len(result))\n",
            "/usr/local/lib/python3.10/dist-packages/sklearn/metrics/_classification.py:1344: UndefinedMetricWarning: Precision and F-score are ill-defined and being set to 0.0 in labels with no predicted samples. Use `zero_division` parameter to control this behavior.\n",
            "  _warn_prf(average, modifier, msg_start, len(result))\n"
          ]
        },
        {
          "output_type": "display_data",
          "data": {
            "text/plain": [
              "<Figure size 640x480 with 2 Axes>"
            ],
            "image/png": "[encoded data removed]"
          },
          "metadata": {}
        }
      ]
    },
    {
      "cell_type": "code",
      "source": [
        "# Calculate all\n",
        "precision,recall,f1_score = evaluate_fn(y_test, model_pred)  # takes y_test and model pred\n",
        "print(\"precision : \",precision,'\\n',\"recall :\",recall,'\\n',\"f1_score :\",f1_score)\n",
        "\n",
        "# K-Fold\n",
        "\n",
        "acc = k_evaluate(10, model_SVC, new_X, y)"
      ],
      "metadata": {
        "colab": {
          "base_uri": "https://localhost:8080/"
        },
        "id": "N4HK3rLe4DnC",
        "outputId": "3a8e23fe-54cd-4e82-981c-7b6b84d8eb2e"
      },
      "execution_count": null,
      "outputs": [
        {
          "output_type": "stream",
          "name": "stdout",
          "text": [
            "precision :  1.0 \n",
            " recall : 0.5 \n",
            " f1_score : 0.6666666666666666\n",
            "for fold: 2, accuracy is: 0.39200680272108845\n",
            "for fold: 3, accuracy is: 0.4131944444444444\n",
            "for fold: 4, accuracy is: 0.42125\n",
            "for fold: 5, accuracy is: 0.4026315789473684\n",
            "for fold: 6, accuracy is: 0.44178921568627455\n",
            "for fold: 7, accuracy is: 0.5251177394034537\n",
            "for fold: 8, accuracy is: 0.421474358974359\n",
            "for fold: 9, accuracy is: 0.43131313131313126\n",
            "for fold: 10, accuracy is: 0.46111111111111114\n",
            "Best fit\n",
            "7 gives accuracy of 0.5251177394034537\n"
          ]
        }
      ]
    },
    {
      "cell_type": "code",
      "source": [
        "# find fpr(False positive rate), tpr(True positive rate)\n",
        "fpr, tpr, thresholds = roc_curve(y_test, model_pred)\n",
        "# calculate Area under ROC curve. If None, the roc_auc score is not shown.\n",
        "roc_auc = auc(fpr, tpr)\n",
        "\n",
        "display =RocCurveDisplay(fpr=fpr, tpr=tpr, roc_auc=roc_auc,estimator_name='example estimator')\n",
        "display.plot()"
      ],
      "metadata": {
        "colab": {
          "base_uri": "https://localhost:8080/",
          "height": 466
        },
        "id": "qdS0qcEd5M5s",
        "outputId": "03628e50-ef6c-4f93-a3ae-44741458b145"
      },
      "execution_count": null,
      "outputs": [
        {
          "output_type": "execute_result",
          "data": {
            "text/plain": [
              "<sklearn.metrics._plot.roc_curve.RocCurveDisplay at 0x7d71c90deef0>"
            ]
          },
          "metadata": {},
          "execution_count": 61
        },
        {
          "output_type": "display_data",
          "data": {
            "text/plain": [
              "<Figure size 640x480 with 1 Axes>"
            ],
            "image/png": "[encoded data removed]"
          },
          "metadata": {}
        }
      ]
    },
    {
      "cell_type": "markdown",
      "source": [
        "## Naive Bayes"
      ],
      "metadata": {
        "id": "utie-fC85lyP"
      }
    },
    {
      "cell_type": "code",
      "source": [
        "gnb = GaussianNB()\n",
        "gnb.fit(X_train, y_train)\n",
        "\n",
        "y_pred = gnb.predict(X_test)\n",
        "cm = confusion_matrix(y_test,y_pred)\n",
        "print(cm)\n",
        "print('\\n')\n",
        "disp = ConfusionMatrixDisplay(confusion_matrix=cm,display_labels=gnb.classes_)\n",
        "disp.plot()\n",
        "print(classification_report(y_test,y_pred))"
      ],
      "metadata": {
        "colab": {
          "base_uri": "https://localhost:8080/",
          "height": 675
        },
        "id": "Tgp0ks0E5h8c",
        "outputId": "d4fd4ea3-567b-4bd8-deda-bbc263575fbe"
      },
      "execution_count": null,
      "outputs": [
        {
          "output_type": "stream",
          "name": "stdout",
          "text": [
            "[[10  5]\n",
            " [13  2]]\n",
            "\n",
            "\n",
            "              precision    recall  f1-score   support\n",
            "\n",
            "           0       0.43      0.67      0.53        15\n",
            "           1       0.29      0.13      0.18        15\n",
            "\n",
            "    accuracy                           0.40        30\n",
            "   macro avg       0.36      0.40      0.35        30\n",
            "weighted avg       0.36      0.40      0.35        30\n",
            "\n"
          ]
        },
        {
          "output_type": "display_data",
          "data": {
            "text/plain": [
              "<Figure size 640x480 with 2 Axes>"
            ],
            "image/png": "[encoded data removed]"
          },
          "metadata": {}
        }
      ]
    },
    {
      "cell_type": "code",
      "source": [
        "# Calculate all\n",
        "precision,recall,f1_score = evaluate_fn(y_test, y_pred)  # takes y_test and model pred\n",
        "print(\"precision : \",precision,'\\n',\"recall :\",recall,'\\n',\"f1_score :\",f1_score)\n",
        "\n",
        "# K-Fold\n",
        "acc = k_evaluate(10, gnb, new_X, y)"
      ],
      "metadata": {
        "colab": {
          "base_uri": "https://localhost:8080/"
        },
        "id": "Gsjel4Ul5qHa",
        "outputId": "da06e0e5-0c78-4ba9-90e9-abb989950e7e"
      },
      "execution_count": null,
      "outputs": [
        {
          "output_type": "stream",
          "name": "stdout",
          "text": [
            "precision :  0.6666666666666666 \n",
            " recall : 0.43478260869565216 \n",
            " f1_score : 0.5263157894736841\n",
            "for fold: 2, accuracy is: 0.5671768707482994\n",
            "for fold: 3, accuracy is: 0.5154671717171717\n",
            "for fold: 4, accuracy is: 0.5054166666666666\n",
            "for fold: 5, accuracy is: 0.5136842105263157\n",
            "for fold: 6, accuracy is: 0.5055147058823529\n",
            "for fold: 7, accuracy is: 0.5039246467817896\n",
            "for fold: 8, accuracy is: 0.4959935897435898\n",
            "for fold: 9, accuracy is: 0.48989898989899\n",
            "for fold: 10, accuracy is: 0.4988888888888889\n",
            "Best fit\n",
            "2 gives accuracy of 0.5671768707482994\n"
          ]
        }
      ]
    },
    {
      "cell_type": "code",
      "source": [
        "# find fpr(False positive rate), tpr(True positive rate)\n",
        "fpr, tpr, thresholds = roc_curve(y_test, y_pred)\n",
        "# calculate Area under ROC curve. If None, the roc_auc score is not shown.\n",
        "roc_auc = auc(fpr, tpr)\n",
        "\n",
        "display =RocCurveDisplay(fpr=fpr, tpr=tpr, roc_auc=roc_auc,estimator_name='example estimator')\n",
        "display.plot()"
      ],
      "metadata": {
        "colab": {
          "base_uri": "https://localhost:8080/",
          "height": 466
        },
        "id": "TOOPld8M5tG1",
        "outputId": "397e4a7f-fd4a-4174-d3a1-4ff9e49fd91b"
      },
      "execution_count": null,
      "outputs": [
        {
          "output_type": "execute_result",
          "data": {
            "text/plain": [
              "<sklearn.metrics._plot.roc_curve.RocCurveDisplay at 0x7d71c9cf7070>"
            ]
          },
          "metadata": {},
          "execution_count": 64
        },
        {
          "output_type": "display_data",
          "data": {
            "text/plain": [
              "<Figure size 640x480 with 1 Axes>"
            ],
            "image/png": "[encoded data removed]"
          },
          "metadata": {}
        }
      ]
    },
    {
      "cell_type": "markdown",
      "source": [
        "## **DT**"
      ],
      "metadata": {
        "id": "7xBeAEl-6BKh"
      }
    },
    {
      "cell_type": "code",
      "source": [
        "dt = DecisionTreeClassifier()\n",
        "dt.fit(X_train, y_train)\n",
        "dt_pred = dt.predict(X_test)\n",
        "cm = confusion_matrix(y_test,dt_pred)\n",
        "print(cm)\n",
        "print('\\n')\n",
        "print(classification_report(y_test,dt_pred))\n",
        "disp = ConfusionMatrixDisplay(confusion_matrix=cm,display_labels=dt.classes_)\n",
        "disp.plot()"
      ],
      "metadata": {
        "colab": {
          "base_uri": "https://localhost:8080/",
          "height": 698
        },
        "id": "i17MfP1d5_dO",
        "outputId": "19d07134-aa4b-4abc-ed43-e06fcadb073e"
      },
      "execution_count": null,
      "outputs": [
        {
          "output_type": "stream",
          "name": "stdout",
          "text": [
            "[[ 7  8]\n",
            " [ 4 11]]\n",
            "\n",
            "\n",
            "              precision    recall  f1-score   support\n",
            "\n",
            "           0       0.64      0.47      0.54        15\n",
            "           1       0.58      0.73      0.65        15\n",
            "\n",
            "    accuracy                           0.60        30\n",
            "   macro avg       0.61      0.60      0.59        30\n",
            "weighted avg       0.61      0.60      0.59        30\n",
            "\n"
          ]
        },
        {
          "output_type": "execute_result",
          "data": {
            "text/plain": [
              "<sklearn.metrics._plot.confusion_matrix.ConfusionMatrixDisplay at 0x7d71c88a9600>"
            ]
          },
          "metadata": {},
          "execution_count": 65
        },
        {
          "output_type": "display_data",
          "data": {
            "text/plain": [
              "<Figure size 640x480 with 2 Axes>"
            ],
            "image/png": "[encoded data removed]"
          },
          "metadata": {}
        }
      ]
    },
    {
      "cell_type": "code",
      "source": [
        "# Calculate all\n",
        "precision,recall,f1_score = evaluate_fn(y_test, dt_pred)  # takes y_test and model pred\n",
        "print(\"precision : \",precision,'\\n',\"recall :\",recall,'\\n',\"f1_score :\",f1_score)\n",
        "print(\"\\n\")\n",
        "# K-Fold\n",
        "acc = k_evaluate(10, dt, new_X, y)"
      ],
      "metadata": {
        "colab": {
          "base_uri": "https://localhost:8080/"
        },
        "id": "oV_tF1Bq6MZN",
        "outputId": "c131b88a-258c-479b-f996-32a9ff4f21ea"
      },
      "execution_count": null,
      "outputs": [
        {
          "output_type": "stream",
          "name": "stdout",
          "text": [
            "precision :  0.4666666666666667 \n",
            " recall : 0.6363636363636364 \n",
            " f1_score : 0.5384615384615385\n",
            "\n",
            "\n",
            "for fold: 2, accuracy is: 0.5348639455782312\n",
            "for fold: 3, accuracy is: 0.514520202020202\n",
            "for fold: 4, accuracy is: 0.5458333333333333\n",
            "for fold: 5, accuracy is: 0.5268421052631578\n",
            "for fold: 6, accuracy is: 0.5147058823529412\n",
            "for fold: 7, accuracy is: 0.6067503924646782\n",
            "for fold: 8, accuracy is: 0.5849358974358975\n",
            "for fold: 9, accuracy is: 0.5454545454545454\n",
            "for fold: 10, accuracy is: 0.5555555555555556\n",
            "Best fit\n",
            "7 gives accuracy of 0.6067503924646782\n"
          ]
        }
      ]
    },
    {
      "cell_type": "code",
      "source": [
        "# find fpr(False positive rate), tpr(True positive rate)\n",
        "fpr, tpr, thresholds = roc_curve(y_test, dt_pred)\n",
        "# calculate Area under ROC curve. If None, the roc_auc score is not shown.\n",
        "roc_auc = auc(fpr, tpr)\n",
        "\n",
        "display =RocCurveDisplay(fpr=fpr, tpr=tpr, roc_auc=roc_auc,estimator_name='example estimator')\n",
        "display.plot()"
      ],
      "metadata": {
        "colab": {
          "base_uri": "https://localhost:8080/",
          "height": 466
        },
        "id": "HHiDvy1p6Qi1",
        "outputId": "cf4436cc-4c0e-4c22-d449-7703709a73a0"
      },
      "execution_count": null,
      "outputs": [
        {
          "output_type": "execute_result",
          "data": {
            "text/plain": [
              "<sklearn.metrics._plot.roc_curve.RocCurveDisplay at 0x7d71c8e1ebf0>"
            ]
          },
          "metadata": {},
          "execution_count": 67
        },
        {
          "output_type": "display_data",
          "data": {
            "text/plain": [
              "<Figure size 640x480 with 1 Axes>"
            ],
            "image/png": "[encoded data removed]"
          },
          "metadata": {}
        }
      ]
    },
    {
      "cell_type": "markdown",
      "source": [
        "## Random Forest"
      ],
      "metadata": {
        "id": "C7Cl936Y6Zw7"
      }
    },
    {
      "cell_type": "code",
      "source": [
        "rf_classifier = RandomForestClassifier(n_estimators=100, random_state=42)\n",
        "rf_classifier.fit(X_train, y_train)\n",
        "rf_pred = rf_classifier.predict(X_test)\n",
        "\n",
        "\n",
        "cm = confusion_matrix(y_test,rf_pred)\n",
        "print(cm)\n",
        "print('\\n')\n",
        "print(classification_report(y_test,rf_pred))\n",
        "disp = ConfusionMatrixDisplay(confusion_matrix=cm,display_labels=rf_classifier.classes_)\n",
        "disp.plot()"
      ],
      "metadata": {
        "colab": {
          "base_uri": "https://localhost:8080/",
          "height": 698
        },
        "id": "r_jvWAgB6YKX",
        "outputId": "2ad90d2d-c0aa-4b64-9cb9-a9e75e7ed476"
      },
      "execution_count": null,
      "outputs": [
        {
          "output_type": "stream",
          "name": "stdout",
          "text": [
            "[[ 9  6]\n",
            " [ 5 10]]\n",
            "\n",
            "\n",
            "              precision    recall  f1-score   support\n",
            "\n",
            "           0       0.64      0.60      0.62        15\n",
            "           1       0.62      0.67      0.65        15\n",
            "\n",
            "    accuracy                           0.63        30\n",
            "   macro avg       0.63      0.63      0.63        30\n",
            "weighted avg       0.63      0.63      0.63        30\n",
            "\n"
          ]
        },
        {
          "output_type": "execute_result",
          "data": {
            "text/plain": [
              "<sklearn.metrics._plot.confusion_matrix.ConfusionMatrixDisplay at 0x7d71c88c08e0>"
            ]
          },
          "metadata": {},
          "execution_count": 68
        },
        {
          "output_type": "display_data",
          "data": {
            "text/plain": [
              "<Figure size 640x480 with 2 Axes>"
            ],
            "image/png": "[encoded data removed]"
          },
          "metadata": {}
        }
      ]
    },
    {
      "cell_type": "code",
      "source": [
        "# Calculate all\n",
        "precision,recall,f1_score = evaluate_fn(y_test, rf_pred)  # takes y_test and model pred\n",
        "print(\"precision : \",precision,'\\n',\"recall :\",recall,'\\n',\"f1_score :\",f1_score)\n",
        "print(\"\\n\")\n",
        "# K-Fold\n",
        "acc = k_evaluate(10, rf_classifier,new_X, y)"
      ],
      "metadata": {
        "colab": {
          "base_uri": "https://localhost:8080/"
        },
        "id": "Ohi2pYKC622q",
        "outputId": "6a263a5f-84eb-4aa6-94b3-c4c12e0debd5"
      },
      "execution_count": null,
      "outputs": [
        {
          "output_type": "stream",
          "name": "stdout",
          "text": [
            "precision :  0.6 \n",
            " recall : 0.6428571428571429 \n",
            " f1_score : 0.6206896551724138\n",
            "\n",
            "\n",
            "for fold: 2, accuracy is: 0.5767431972789117\n",
            "for fold: 3, accuracy is: 0.6174242424242424\n",
            "for fold: 4, accuracy is: 0.71125\n",
            "for fold: 5, accuracy is: 0.5678947368421052\n",
            "for fold: 6, accuracy is: 0.6078431372549019\n",
            "for fold: 7, accuracy is: 0.6899529042386187\n",
            "for fold: 8, accuracy is: 0.6153846153846154\n",
            "for fold: 9, accuracy is: 0.5848484848484848\n",
            "for fold: 10, accuracy is: 0.6677777777777777\n",
            "Best fit\n",
            "4 gives accuracy of 0.71125\n"
          ]
        }
      ]
    },
    {
      "cell_type": "code",
      "source": [
        "# find fpr(False positive rate), tpr(True positive rate)\n",
        "fpr, tpr, thresholds = roc_curve(y_test, rf_pred)\n",
        "# calculate Area under ROC curve. If None, the roc_auc score is not shown.\n",
        "roc_auc = auc(fpr, tpr)\n",
        "\n",
        "display =RocCurveDisplay(fpr=fpr, tpr=tpr, roc_auc=roc_auc,estimator_name='example estimator')\n",
        "display.plot()"
      ],
      "metadata": {
        "colab": {
          "base_uri": "https://localhost:8080/",
          "height": 466
        },
        "id": "WLHk_SHl6-Up",
        "outputId": "5e24ba8f-d2e2-4067-a298-d2fca392ff95"
      },
      "execution_count": null,
      "outputs": [
        {
          "output_type": "execute_result",
          "data": {
            "text/plain": [
              "<sklearn.metrics._plot.roc_curve.RocCurveDisplay at 0x7d71c885f5b0>"
            ]
          },
          "metadata": {},
          "execution_count": 70
        },
        {
          "output_type": "display_data",
          "data": {
            "text/plain": [
              "<Figure size 640x480 with 1 Axes>"
            ],
            "image/png": "[encoded data removed]"
          },
          "metadata": {}
        }
      ]
    },
    {
      "cell_type": "markdown",
      "source": [
        "## LDA"
      ],
      "metadata": {
        "id": "HMvND4ih7MAZ"
      }
    },
    {
      "cell_type": "code",
      "source": [
        "lda = LinearDiscriminantAnalysis()\n",
        "lda.fit(X_train,y_train)\n",
        "lda_pred = lda.predict(X_test)\n",
        "confusion_matrix(y_test,lda_pred)\n",
        "print(cm)\n",
        "disp = ConfusionMatrixDisplay(confusion_matrix=cm,display_labels=lda.classes_)\n",
        "disp.plot()\n",
        "print('\\n')\n",
        "print(classification_report(y_test,lda_pred))"
      ],
      "metadata": {
        "colab": {
          "base_uri": "https://localhost:8080/",
          "height": 681
        },
        "id": "9RDJlU6-7GGS",
        "outputId": "55c125e3-9e60-437b-fe0a-c45c82b84da4"
      },
      "execution_count": null,
      "outputs": [
        {
          "output_type": "stream",
          "name": "stdout",
          "text": [
            "[[ 9  6]\n",
            " [ 5 10]]\n",
            "\n",
            "\n",
            "              precision    recall  f1-score   support\n",
            "\n",
            "           0       0.62      0.67      0.65        15\n",
            "           1       0.64      0.60      0.62        15\n",
            "\n",
            "    accuracy                           0.63        30\n",
            "   macro avg       0.63      0.63      0.63        30\n",
            "weighted avg       0.63      0.63      0.63        30\n",
            "\n"
          ]
        },
        {
          "output_type": "display_data",
          "data": {
            "text/plain": [
              "<Figure size 640x480 with 2 Axes>"
            ],
            "image/png": "[encoded data removed]"
          },
          "metadata": {}
        }
      ]
    },
    {
      "cell_type": "code",
      "source": [
        "# Calculate all\n",
        "precision,recall,f1_score = evaluate_fn(y_test, lda_pred)  # takes y_test and model pred\n",
        "print(\"precision : \",precision,'\\n',\"recall :\",recall,'\\n',\"f1_score :\",f1_score)\n",
        "\n",
        "#Kfold\n",
        "acc = k_evaluate(10,lda, new_X, y)  # here k 10"
      ],
      "metadata": {
        "colab": {
          "base_uri": "https://localhost:8080/"
        },
        "id": "Tv8knYdW7UzF",
        "outputId": "1415ed3e-9a2c-48c0-bef7-74762730f8a0"
      },
      "execution_count": null,
      "outputs": [
        {
          "output_type": "stream",
          "name": "stdout",
          "text": [
            "precision :  0.6666666666666666 \n",
            " recall : 0.625 \n",
            " f1_score : 0.6451612903225806\n",
            "for fold: 2, accuracy is: 0.6175595238095238\n",
            "for fold: 3, accuracy is: 0.5978535353535354\n",
            "for fold: 4, accuracy is: 0.6395833333333333\n",
            "for fold: 5, accuracy is: 0.5468421052631579\n",
            "for fold: 6, accuracy is: 0.6495098039215687\n",
            "for fold: 7, accuracy is: 0.6271585557299844\n",
            "for fold: 8, accuracy is: 0.6482371794871795\n",
            "for fold: 9, accuracy is: 0.6545454545454545\n",
            "for fold: 10, accuracy is: 0.6077777777777778\n",
            "Best fit\n",
            "9 gives accuracy of 0.6545454545454545\n"
          ]
        }
      ]
    },
    {
      "cell_type": "code",
      "source": [
        "# find fpr(False positive rate), tpr(True positive rate)\n",
        "fpr, tpr, thresholds = roc_curve(y_test, lda_pred)\n",
        "# calculate Area under ROC curve. If None, the roc_auc score is not shown.\n",
        "roc_auc = auc(fpr, tpr)\n",
        "\n",
        "display =RocCurveDisplay(fpr=fpr, tpr=tpr, roc_auc=roc_auc,estimator_name='example estimator')\n",
        "display.plot()"
      ],
      "metadata": {
        "colab": {
          "base_uri": "https://localhost:8080/",
          "height": 466
        },
        "id": "6X7WP0GW7b2l",
        "outputId": "8990c908-1b85-490c-fcee-0da9ee74a065"
      },
      "execution_count": null,
      "outputs": [
        {
          "output_type": "execute_result",
          "data": {
            "text/plain": [
              "<sklearn.metrics._plot.roc_curve.RocCurveDisplay at 0x7d71c8ec7040>"
            ]
          },
          "metadata": {},
          "execution_count": 75
        },
        {
          "output_type": "display_data",
          "data": {
            "text/plain": [
              "<Figure size 640x480 with 1 Axes>"
            ],
            "image/png": "[encoded data removed]"
          },
          "metadata": {}
        }
      ]
    }
  ],
  "metadata": {
    "colab": {
      "provenance": [],
      "collapsed_sections": [
        "7xBeAEl-6BKh",
        "C7Cl936Y6Zw7",
        "HMvND4ih7MAZ"
      ]
    },
    "kernelspec": {
      "display_name": "Python 3",
      "name": "python3"
    },
    "language_info": {
      "name": "python"
    }
  },
  "nbformat": 4,
  "nbformat_minor": 0
}