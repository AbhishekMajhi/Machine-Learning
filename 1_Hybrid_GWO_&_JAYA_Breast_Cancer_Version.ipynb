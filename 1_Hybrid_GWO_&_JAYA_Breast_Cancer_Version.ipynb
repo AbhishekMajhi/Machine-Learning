{
  "cells": [
    {
      "cell_type": "markdown",
      "metadata": {
        "id": "0TR4rapcK0PS"
      },
      "source": [
        "# Intoduction\n",
        "* **Gray-wolf optimizer is a new evolutionary computation technique which mimics the leadership hierarchy and hunting mechanism of gray wolves in nature.**\n",
        "* **The aim of the gray wolf optimization is find optimal regions of the complex search space through the interaction of individuals in the population.**\n",
        "* **Compared to PSO(particle swarm optimization) and GA(Genetic Algo) this gives better results with UCI machine learning data repository e.g UCI Breast Cancer dataset.**\n",
        "* **This proves better performance in both classification accuracy and feature size reduction.**\n",
        "* **And GWO is much more robust than GA & PSO.**"
      ]
    },
    {
      "cell_type": "markdown",
      "metadata": {
        "id": "bzFtBox2sX_a"
      },
      "source": [
        "**Just click here to instantly move to that place**<br>\n",
        "* [Utils](#utils)\n",
        "* [Data Preparation](#dataPreparation)\n",
        "* [Gray Wolf Optimization](#GWO)\n",
        "    - [Feature Extraction](#FE)\n",
        "    - [Data Preparation](#DP)\n",
        "    - [Classification](#classification)\n",
        "* [Genetic Algorithm](#GA)\n",
        "    - [Classification](#GC)\n",
        "* [Particle Swarm Optimizatioin](#PSO)\n",
        "    - [Classification](#PC)\n",
        "* [Hybrid GWO JAYA](#HGJ)\n",
        "    - [Classification](#HC)\n"
      ]
    },
    {
      "cell_type": "markdown",
      "metadata": {
        "id": "m5lgQQMzPXju"
      },
      "source": [
        "# Imports"
      ]
    },
    {
      "cell_type": "code",
      "execution_count": null,
      "metadata": {
        "colab": {
          "base_uri": "https://localhost:8080/"
        },
        "id": "0CgcI8fqD6Fp",
        "outputId": "62411c89-01ef-4e5c-b967-4f721e196650"
      },
      "outputs": [
        {
          "output_type": "stream",
          "name": "stdout",
          "text": [
            "Mounted at /content/drive\n"
          ]
        }
      ],
      "source": [
        "from google.colab import drive\n",
        "drive.mount('/content/drive')"
      ]
    },
    {
      "cell_type": "markdown",
      "metadata": {
        "id": "i__sDKTNPtDq"
      },
      "source": [
        "Installs"
      ]
    },
    {
      "cell_type": "code",
      "execution_count": null,
      "metadata": {
        "id": "wfvOhZ1MPwZ0"
      },
      "outputs": [],
      "source": [
        "# If these packages are not installed on your python env then install them by uncommenting them.\n",
        "!pip install zoofs\n",
        "# !pip install sklearn-genetic\n",
        "!pip install niapy --pre\n",
        "!pip install scikit-learn"
      ]
    },
    {
      "cell_type": "code",
      "execution_count": null,
      "metadata": {
        "id": "gEivYIJ0PWwd"
      },
      "outputs": [],
      "source": [
        "import numpy as np\n",
        "import pandas as pd\n",
        "import matplotlib.pyplot as plt\n",
        "import seaborn as sns\n",
        "import os\n",
        "import random\n",
        "from numpy import mean\n",
        "from numpy import std\n",
        "from sklearn.model_selection import KFold\n",
        "from niapy.problems import Problem\n",
        "from niapy.task import Task\n",
        "from sklearn.model_selection import cross_val_score\n",
        "from sklearn.preprocessing import StandardScaler\n",
        "from sklearn.model_selection import train_test_split\n",
        "from sklearn.metrics import classification_report, confusion_matrix\n",
        "from sklearn.metrics import plot_confusion_matrix, plot_roc_curve\n",
        "from niapy.algorithms.basic import ParticleSwarmOptimization\n",
        "from sklearn.svm import SVC\n",
        "from sklearn.discriminant_analysis import LinearDiscriminantAnalysis\n",
        "from sklearn.naive_bayes import GaussianNB\n",
        "from sklearn.tree import DecisionTreeClassifier\n",
        "# from genetic_selection import GeneticSelectionCV\n",
        "sc = StandardScaler()"
      ]
    },
    {
      "cell_type": "markdown",
      "metadata": {
        "id": "6bJ6GJqbENhq"
      },
      "source": [
        "<a name='utils'></a>\n",
        "# Utils"
      ]
    },
    {
      "cell_type": "code",
      "execution_count": null,
      "metadata": {
        "id": "I3y0BD24EPYm"
      },
      "outputs": [],
      "source": [
        "# To evaluate model performance\n",
        "\n",
        "def evaluate_fn(Y_test,model_pred):\n",
        "    # cm = confusion_matrix(Y_test.argmax(), model_pred.argmax())\n",
        "    cm = confusion_matrix(Y_test.astype(int).tolist(), model_pred)\n",
        "\n",
        "    True_Positives = cm[0][0]\n",
        "    False_Positives = cm[0][1]\n",
        "\n",
        "    True_Negetives = cm[1][1]\n",
        "    False_Negetives = cm[1][0]\n",
        "\n",
        "    # return True_Positives,False_Positives,False_Negetives,True_Negetives\n",
        "\n",
        "    precision =  True_Positives / (True_Positives + False_Positives)\n",
        "    recall = True_Positives / (True_Positives + False_Negetives)\n",
        "    f1_score = 2*(precision * recall) / (precision + recall)\n",
        "\n",
        "    return precision,recall,f1_score\n",
        "# here X is features and y is labels\n",
        "# k is the num_ of splits usally k = 3, k =5, or k = 10\n",
        "def kfold(k, model, X, y):\n",
        "\n",
        "  # prepare the cross-validation procedure\n",
        "  cv = KFold(n_splits=k, random_state=1, shuffle=True)  # 10-fold cross-validation\n",
        "  # evaluate model\n",
        "  scores = cross_val_score(model, X, y, scoring='accuracy', cv=cv, n_jobs=-1)\n",
        "  # report performance\n",
        "  acc = mean(scores)\n",
        "\n",
        "  return acc, scores.min(), scores.max()\n",
        "\n",
        "# K-fold cross validation\n",
        "\n",
        "def k_evaluate(k,model,x , y):\n",
        "  acc_list = {}\n",
        "  for i in range(2, k+1):\n",
        "    acc,_,_ = kfold(i, model, x, y)\n",
        "    acc_list.update( {i : acc} )\n",
        "    print(f\"for fold: {i}, accuracy is: {acc_list.get(i)}\")\n",
        "  # get max\n",
        "  m_key = max(acc_list, key = acc_list.get)\n",
        "  print(\"Best fit\")\n",
        "  print(f\"{m_key} gives accuracy of {acc_list.get(m_key)}\")\n",
        "  return acc_list.get(m_key) # acc"
      ]
    },
    {
      "cell_type": "markdown",
      "metadata": {
        "id": "poO2llthEW4-"
      },
      "source": [
        "<a name='dataPreparation'></a>\n",
        "# Data Preparation"
      ]
    },
    {
      "cell_type": "code",
      "execution_count": null,
      "metadata": {
        "colab": {
          "base_uri": "https://localhost:8080/",
          "height": 320
        },
        "id": "sKgwX-EePW5b",
        "outputId": "150e194b-25fd-4838-dabc-20e2dc7504ab"
      },
      "outputs": [
        {
          "output_type": "execute_result",
          "data": {
            "text/plain": [
              "   samples        V1        V2        V3        V4        V5        V6  \\\n",
              "0        1 -0.927178 -0.740039 -0.532016 -1.097891 -0.986673  0.018752   \n",
              "1        2 -0.835899 -0.835899 -0.585647 -0.835899 -0.329768 -0.835899   \n",
              "2        3  0.236073  0.252645 -1.154351 -0.372372 -0.338900  1.253467   \n",
              "3        4 -0.748623 -0.439165  0.790953 -1.033876  0.241115  1.216007   \n",
              "4        5  0.101239 -0.298285 -1.121519 -0.957714  0.342258  1.182937   \n",
              "\n",
              "         V7        V8        V9  ...     V6025     V6026     V6027     V6028  \\\n",
              "0 -0.863326  3.959997 -0.398219  ... -1.097891 -1.097891 -0.894733  0.850270   \n",
              "1 -0.835899  4.037788 -0.835899  ... -0.835899 -0.835899 -0.835899  0.038090   \n",
              "2  0.506325  3.868961  0.201932  ... -1.154351 -1.154351 -0.372372  0.899781   \n",
              "3  0.106282  3.976272  0.081755  ... -1.121534 -1.121534 -0.812076  1.230378   \n",
              "4  0.029325  4.575871 -0.196466  ... -1.121519 -1.121519 -0.454932  0.891627   \n",
              "\n",
              "      V6029     V6030     V6031     V6032     V6033  response  \n",
              "0 -1.097891 -0.302063 -0.767685 -0.452616  0.194001    normal  \n",
              "1 -0.835899 -0.835899 -0.835899 -0.835899  0.075500    normal  \n",
              "2 -0.867200  0.360426 -1.154351 -1.154351 -1.154351    normal  \n",
              "3 -0.355497  0.030647 -0.278810 -1.121534 -1.121534    normal  \n",
              "4 -0.593427  0.306316 -0.076496 -0.134480 -1.121519    normal  \n",
              "\n",
              "[5 rows x 6035 columns]"
            ],
            "text/html": [
              "\n",
              "  <div id=\"df-70a80674-b004-472a-8007-744ac59b3315\">\n",
              "    <div class=\"colab-df-container\">\n",
              "      <div>\n",
              "<style scoped>\n",
              "    .dataframe tbody tr th:only-of-type {\n",
              "        vertical-align: middle;\n",
              "    }\n",
              "\n",
              "    .dataframe tbody tr th {\n",
              "        vertical-align: top;\n",
              "    }\n",
              "\n",
              "    .dataframe thead th {\n",
              "        text-align: right;\n",
              "    }\n",
              "</style>\n",
              "<table border=\"1\" class=\"dataframe\">\n",
              "  <thead>\n",
              "    <tr style=\"text-align: right;\">\n",
              "      <th></th>\n",
              "      <th>samples</th>\n",
              "      <th>V1</th>\n",
              "      <th>V2</th>\n",
              "      <th>V3</th>\n",
              "      <th>V4</th>\n",
              "      <th>V5</th>\n",
              "      <th>V6</th>\n",
              "      <th>V7</th>\n",
              "      <th>V8</th>\n",
              "      <th>V9</th>\n",
              "      <th>...</th>\n",
              "      <th>V6025</th>\n",
              "      <th>V6026</th>\n",
              "      <th>V6027</th>\n",
              "      <th>V6028</th>\n",
              "      <th>V6029</th>\n",
              "      <th>V6030</th>\n",
              "      <th>V6031</th>\n",
              "      <th>V6032</th>\n",
              "      <th>V6033</th>\n",
              "      <th>response</th>\n",
              "    </tr>\n",
              "  </thead>\n",
              "  <tbody>\n",
              "    <tr>\n",
              "      <th>0</th>\n",
              "      <td>1</td>\n",
              "      <td>-0.927178</td>\n",
              "      <td>-0.740039</td>\n",
              "      <td>-0.532016</td>\n",
              "      <td>-1.097891</td>\n",
              "      <td>-0.986673</td>\n",
              "      <td>0.018752</td>\n",
              "      <td>-0.863326</td>\n",
              "      <td>3.959997</td>\n",
              "      <td>-0.398219</td>\n",
              "      <td>...</td>\n",
              "      <td>-1.097891</td>\n",
              "      <td>-1.097891</td>\n",
              "      <td>-0.894733</td>\n",
              "      <td>0.850270</td>\n",
              "      <td>-1.097891</td>\n",
              "      <td>-0.302063</td>\n",
              "      <td>-0.767685</td>\n",
              "      <td>-0.452616</td>\n",
              "      <td>0.194001</td>\n",
              "      <td>normal</td>\n",
              "    </tr>\n",
              "    <tr>\n",
              "      <th>1</th>\n",
              "      <td>2</td>\n",
              "      <td>-0.835899</td>\n",
              "      <td>-0.835899</td>\n",
              "      <td>-0.585647</td>\n",
              "      <td>-0.835899</td>\n",
              "      <td>-0.329768</td>\n",
              "      <td>-0.835899</td>\n",
              "      <td>-0.835899</td>\n",
              "      <td>4.037788</td>\n",
              "      <td>-0.835899</td>\n",
              "      <td>...</td>\n",
              "      <td>-0.835899</td>\n",
              "      <td>-0.835899</td>\n",
              "      <td>-0.835899</td>\n",
              "      <td>0.038090</td>\n",
              "      <td>-0.835899</td>\n",
              "      <td>-0.835899</td>\n",
              "      <td>-0.835899</td>\n",
              "      <td>-0.835899</td>\n",
              "      <td>0.075500</td>\n",
              "      <td>normal</td>\n",
              "    </tr>\n",
              "    <tr>\n",
              "      <th>2</th>\n",
              "      <td>3</td>\n",
              "      <td>0.236073</td>\n",
              "      <td>0.252645</td>\n",
              "      <td>-1.154351</td>\n",
              "      <td>-0.372372</td>\n",
              "      <td>-0.338900</td>\n",
              "      <td>1.253467</td>\n",
              "      <td>0.506325</td>\n",
              "      <td>3.868961</td>\n",
              "      <td>0.201932</td>\n",
              "      <td>...</td>\n",
              "      <td>-1.154351</td>\n",
              "      <td>-1.154351</td>\n",
              "      <td>-0.372372</td>\n",
              "      <td>0.899781</td>\n",
              "      <td>-0.867200</td>\n",
              "      <td>0.360426</td>\n",
              "      <td>-1.154351</td>\n",
              "      <td>-1.154351</td>\n",
              "      <td>-1.154351</td>\n",
              "      <td>normal</td>\n",
              "    </tr>\n",
              "    <tr>\n",
              "      <th>3</th>\n",
              "      <td>4</td>\n",
              "      <td>-0.748623</td>\n",
              "      <td>-0.439165</td>\n",
              "      <td>0.790953</td>\n",
              "      <td>-1.033876</td>\n",
              "      <td>0.241115</td>\n",
              "      <td>1.216007</td>\n",
              "      <td>0.106282</td>\n",
              "      <td>3.976272</td>\n",
              "      <td>0.081755</td>\n",
              "      <td>...</td>\n",
              "      <td>-1.121534</td>\n",
              "      <td>-1.121534</td>\n",
              "      <td>-0.812076</td>\n",
              "      <td>1.230378</td>\n",
              "      <td>-0.355497</td>\n",
              "      <td>0.030647</td>\n",
              "      <td>-0.278810</td>\n",
              "      <td>-1.121534</td>\n",
              "      <td>-1.121534</td>\n",
              "      <td>normal</td>\n",
              "    </tr>\n",
              "    <tr>\n",
              "      <th>4</th>\n",
              "      <td>5</td>\n",
              "      <td>0.101239</td>\n",
              "      <td>-0.298285</td>\n",
              "      <td>-1.121519</td>\n",
              "      <td>-0.957714</td>\n",
              "      <td>0.342258</td>\n",
              "      <td>1.182937</td>\n",
              "      <td>0.029325</td>\n",
              "      <td>4.575871</td>\n",
              "      <td>-0.196466</td>\n",
              "      <td>...</td>\n",
              "      <td>-1.121519</td>\n",
              "      <td>-1.121519</td>\n",
              "      <td>-0.454932</td>\n",
              "      <td>0.891627</td>\n",
              "      <td>-0.593427</td>\n",
              "      <td>0.306316</td>\n",
              "      <td>-0.076496</td>\n",
              "      <td>-0.134480</td>\n",
              "      <td>-1.121519</td>\n",
              "      <td>normal</td>\n",
              "    </tr>\n",
              "  </tbody>\n",
              "</table>\n",
              "<p>5 rows × 6035 columns</p>\n",
              "</div>\n",
              "      <button class=\"colab-df-convert\" onclick=\"convertToInteractive('df-70a80674-b004-472a-8007-744ac59b3315')\"\n",
              "              title=\"Convert this dataframe to an interactive table.\"\n",
              "              style=\"display:none;\">\n",
              "        \n",
              "  <svg xmlns=\"http://www.w3.org/2000/svg\" height=\"24px\"viewBox=\"0 0 24 24\"\n",
              "       width=\"24px\">\n",
              "    <path d=\"M0 0h24v24H0V0z\" fill=\"none\"/>\n",
              "    <path d=\"M18.56 5.44l.94 2.06.94-2.06 2.06-.94-2.06-.94-.94-2.06-.94 2.06-2.06.94zm-11 1L8.5 8.5l.94-2.06 2.06-.94-2.06-.94L8.5 2.5l-.94 2.06-2.06.94zm10 10l.94 2.06.94-2.06 2.06-.94-2.06-.94-.94-2.06-.94 2.06-2.06.94z\"/><path d=\"M17.41 7.96l-1.37-1.37c-.4-.4-.92-.59-1.43-.59-.52 0-1.04.2-1.43.59L10.3 9.45l-7.72 7.72c-.78.78-.78 2.05 0 2.83L4 21.41c.39.39.9.59 1.41.59.51 0 1.02-.2 1.41-.59l7.78-7.78 2.81-2.81c.8-.78.8-2.07 0-2.86zM5.41 20L4 18.59l7.72-7.72 1.47 1.35L5.41 20z\"/>\n",
              "  </svg>\n",
              "      </button>\n",
              "      \n",
              "  <style>\n",
              "    .colab-df-container {\n",
              "      display:flex;\n",
              "      flex-wrap:wrap;\n",
              "      gap: 12px;\n",
              "    }\n",
              "\n",
              "    .colab-df-convert {\n",
              "      background-color: #E8F0FE;\n",
              "      border: none;\n",
              "      border-radius: 50%;\n",
              "      cursor: pointer;\n",
              "      display: none;\n",
              "      fill: #1967D2;\n",
              "      height: 32px;\n",
              "      padding: 0 0 0 0;\n",
              "      width: 32px;\n",
              "    }\n",
              "\n",
              "    .colab-df-convert:hover {\n",
              "      background-color: #E2EBFA;\n",
              "      box-shadow: 0px 1px 2px rgba(60, 64, 67, 0.3), 0px 1px 3px 1px rgba(60, 64, 67, 0.15);\n",
              "      fill: #174EA6;\n",
              "    }\n",
              "\n",
              "    [theme=dark] .colab-df-convert {\n",
              "      background-color: #3B4455;\n",
              "      fill: #D2E3FC;\n",
              "    }\n",
              "\n",
              "    [theme=dark] .colab-df-convert:hover {\n",
              "      background-color: #434B5C;\n",
              "      box-shadow: 0px 1px 3px 1px rgba(0, 0, 0, 0.15);\n",
              "      filter: drop-shadow(0px 1px 2px rgba(0, 0, 0, 0.3));\n",
              "      fill: #FFFFFF;\n",
              "    }\n",
              "  </style>\n",
              "\n",
              "      <script>\n",
              "        const buttonEl =\n",
              "          document.querySelector('#df-70a80674-b004-472a-8007-744ac59b3315 button.colab-df-convert');\n",
              "        buttonEl.style.display =\n",
              "          google.colab.kernel.accessAllowed ? 'block' : 'none';\n",
              "\n",
              "        async function convertToInteractive(key) {\n",
              "          const element = document.querySelector('#df-70a80674-b004-472a-8007-744ac59b3315');\n",
              "          const dataTable =\n",
              "            await google.colab.kernel.invokeFunction('convertToInteractive',\n",
              "                                                     [key], {});\n",
              "          if (!dataTable) return;\n",
              "\n",
              "          const docLinkHtml = 'Like what you see? Visit the ' +\n",
              "            '<a target=\"_blank\" href=https://colab.research.google.com/notebooks/data_table.ipynb>data table notebook</a>'\n",
              "            + ' to learn more about interactive tables.';\n",
              "          element.innerHTML = '';\n",
              "          dataTable['output_type'] = 'display_data';\n",
              "          await google.colab.output.renderOutput(dataTable, element);\n",
              "          const docLink = document.createElement('div');\n",
              "          docLink.innerHTML = docLinkHtml;\n",
              "          element.appendChild(docLink);\n",
              "        }\n",
              "      </script>\n",
              "    </div>\n",
              "  </div>\n",
              "  "
            ]
          },
          "metadata": {},
          "execution_count": 5
        }
      ],
      "source": [
        "data = pd.read_csv(\"/content/drive/MyDrive/Work Space/cns.csv\")\n",
        "data.head()"
      ]
    },
    {
      "cell_type": "code",
      "execution_count": null,
      "metadata": {
        "colab": {
          "base_uri": "https://localhost:8080/"
        },
        "id": "dcP6gSjISaMY",
        "outputId": "980dc138-3662-4307-d00a-198bef3c0c24"
      },
      "outputs": [
        {
          "output_type": "execute_result",
          "data": {
            "text/plain": [
              "Index(['samples', 'V1', 'V2', 'V3', 'V4', 'V5', 'V6', 'V7', 'V8', 'V9',\n",
              "       ...\n",
              "       'V6025', 'V6026', 'V6027', 'V6028', 'V6029', 'V6030', 'V6031', 'V6032',\n",
              "       'V6033', 'response'],\n",
              "      dtype='object', length=6035)"
            ]
          },
          "metadata": {},
          "execution_count": 6
        }
      ],
      "source": [
        "data.columns"
      ]
    },
    {
      "cell_type": "code",
      "source": [
        "# Drop column samples\n",
        "data.drop([\"samples\"], axis = 1, inplace=True)\n",
        "# Now shuffle it\n",
        "data = data.sample(frac = 1)"
      ],
      "metadata": {
        "id": "v6T2I1QpuKwE"
      },
      "execution_count": null,
      "outputs": []
    },
    {
      "cell_type": "code",
      "source": [
        "data[\"response\"].unique()"
      ],
      "metadata": {
        "colab": {
          "base_uri": "https://localhost:8080/"
        },
        "id": "yTSG17VquP0t",
        "outputId": "2c380a72-15f6-40fe-b668-48a6547b8cce"
      },
      "execution_count": null,
      "outputs": [
        {
          "output_type": "execute_result",
          "data": {
            "text/plain": [
              "array(['tumer', 'normal'], dtype=object)"
            ]
          },
          "metadata": {},
          "execution_count": 8
        }
      ]
    },
    {
      "cell_type": "code",
      "execution_count": null,
      "metadata": {
        "colab": {
          "base_uri": "https://localhost:8080/"
        },
        "id": "j856xNTRou_v",
        "outputId": "5dcc706b-e6a2-4231-b09b-0b0f3857cbb2"
      },
      "outputs": [
        {
          "output_type": "stream",
          "name": "stdout",
          "text": [
            "Lenght of Dataset: 102\n",
            "Num of columns: 6034\n"
          ]
        }
      ],
      "source": [
        "print(\"Lenght of Dataset:\", len(data))\n",
        "print(\"Num of columns:\", len(data.columns))"
      ]
    },
    {
      "cell_type": "code",
      "execution_count": null,
      "metadata": {
        "colab": {
          "base_uri": "https://localhost:8080/"
        },
        "id": "JZ-Zp_2IEnMz",
        "outputId": "f84c0355-aa61-436f-e40e-53049cb1a62d"
      },
      "outputs": [
        {
          "output_type": "stream",
          "name": "stderr",
          "text": [
            "<ipython-input-10-afc1346df41b>:10: SettingWithCopyWarning: \n",
            "A value is trying to be set on a copy of a slice from a DataFrame\n",
            "\n",
            "See the caveats in the documentation: https://pandas.pydata.org/pandas-docs/stable/user_guide/indexing.html#returning-a-view-versus-a-copy\n",
            "  y[st] = y[st]\n"
          ]
        }
      ],
      "source": [
        "# class values are in byte string format but we need them in integer format\n",
        "# Converting them into string first\n",
        "y = data.response  # label\n",
        "# len(y)\n",
        "# y[0]\n",
        "def cvt(str):\n",
        "  return str.decode(\"utf-8\")\n",
        "\n",
        "for st in range(len(y)):\n",
        "  y[st] = y[st]\n",
        "# print(y)"
      ]
    },
    {
      "cell_type": "code",
      "execution_count": null,
      "metadata": {
        "id": "Vwurm9TJEnRJ"
      },
      "outputs": [],
      "source": [
        "# Then convert them into integer\n",
        "y.replace({\"normal\": 0, \"tumer\": 1}, inplace= True)\n",
        "# convert label type to float\n",
        "y = y.astype(float)"
      ]
    },
    {
      "cell_type": "code",
      "source": [
        "# grab our features\n",
        "x = data.drop(['response'], axis=1)\n",
        "# Fetch list of columns\n",
        "cols = (data.columns).to_list()\n",
        "len(cols)"
      ],
      "metadata": {
        "colab": {
          "base_uri": "https://localhost:8080/"
        },
        "id": "Nr0BNKZQuiJ2",
        "outputId": "df71fece-efff-4a56-f2f2-cafdec08f7fc"
      },
      "execution_count": null,
      "outputs": [
        {
          "output_type": "execute_result",
          "data": {
            "text/plain": [
              "6034"
            ]
          },
          "metadata": {},
          "execution_count": 12
        }
      ]
    },
    {
      "cell_type": "code",
      "source": [
        "# convert numpy array to dictionary\n",
        "col_dict = dict(enumerate((x.columns.to_numpy()).flatten(), 0))\n",
        "len(col_dict)"
      ],
      "metadata": {
        "colab": {
          "base_uri": "https://localhost:8080/"
        },
        "id": "1xAAMYV2uoT6",
        "outputId": "c26dd4f8-604e-4cf2-b4bf-352ff0362eae"
      },
      "execution_count": null,
      "outputs": [
        {
          "output_type": "execute_result",
          "data": {
            "text/plain": [
              "6033"
            ]
          },
          "metadata": {},
          "execution_count": 13
        }
      ]
    },
    {
      "cell_type": "markdown",
      "metadata": {
        "id": "h-KTfAnDGWVd"
      },
      "source": [
        "## Train Test Split"
      ]
    },
    {
      "cell_type": "code",
      "execution_count": null,
      "metadata": {
        "colab": {
          "base_uri": "https://localhost:8080/"
        },
        "id": "LUv8sQj_GU6N",
        "outputId": "d732361a-86b9-4f9b-f51d-af16e3616d66"
      },
      "outputs": [
        {
          "output_type": "stream",
          "name": "stdout",
          "text": [
            "x_train shape:  (81, 6033)\n",
            "y_train shape:  (81,)\n",
            "x_text:  (21, 6033)\n",
            "y_test:  (21,)\n"
          ]
        }
      ],
      "source": [
        "x_train, x_test, y_train, y_test = train_test_split(x, y, test_size = 0.2, random_state = 101)\n",
        "print(\"x_train shape: \", x_train.shape)\n",
        "print(\"y_train shape: \", y_train.shape)\n",
        "print(\"x_text: \",x_test.shape)\n",
        "print(\"y_test: \",y_test.shape)"
      ]
    },
    {
      "cell_type": "code",
      "execution_count": null,
      "metadata": {
        "id": "7X3vL721GfFb"
      },
      "outputs": [],
      "source": [
        "# Data scalling\n",
        "# sc = StandardScaler()\n",
        "# X_train = sc.fit_transform(x_train)\n",
        "# X_test = sc.transform(x_test)"
      ]
    },
    {
      "cell_type": "code",
      "execution_count": null,
      "metadata": {
        "colab": {
          "base_uri": "https://localhost:8080/"
        },
        "id": "4523TVGqHxSg",
        "outputId": "500845ea-0d39-4b41-c15e-6f681c4197e5"
      },
      "outputs": [
        {
          "output_type": "execute_result",
          "data": {
            "text/plain": [
              "pandas.core.frame.DataFrame"
            ]
          },
          "metadata": {},
          "execution_count": 16
        }
      ],
      "source": [
        "type(x_train)  # make sure x_train should be in pandas.core.frame.DataFrame format"
      ]
    },
    {
      "cell_type": "markdown",
      "metadata": {
        "id": "x66GyuY5QY9I"
      },
      "source": [
        "<a name=GWO></a>\n",
        "# GWO(Grey Wolf Optimization)"
      ]
    },
    {
      "cell_type": "markdown",
      "metadata": {
        "id": "TsW9p8HhLpto"
      },
      "source": [
        "<a name=FE></a>\n",
        "## Extracting Features"
      ]
    },
    {
      "cell_type": "code",
      "execution_count": null,
      "metadata": {
        "id": "mkZ9bVBlPW9J"
      },
      "outputs": [],
      "source": [
        "from zoofs import GreyWolfOptimization"
      ]
    },
    {
      "cell_type": "code",
      "execution_count": null,
      "metadata": {
        "id": "z72tlbtlPXBj"
      },
      "outputs": [],
      "source": [
        "# Set up objective function\n",
        "from sklearn.metrics import log_loss\n",
        "# make sure that objective fun shoud recieve 4 parameters\n",
        "# Now fit your model to return objective vaule\n",
        "def objective_function(model,X_train, y_train, X_valid, y_valid):\n",
        "    model.fit(X_train,y_train)\n",
        "    P=log_loss(y_valid,model.predict_proba(X_valid))\n",
        "    return P\n"
      ]
    },
    {
      "cell_type": "code",
      "execution_count": null,
      "metadata": {
        "id": "hXHqsVYsPXFN"
      },
      "outputs": [],
      "source": [
        "# create object of algorithm\n",
        "# population_size=? change this number if you want more features depending open your computation power\n",
        "algo_object=GreyWolfOptimization(objective_function,n_iteration=10,\n",
        "                                    population_size=100,minimize=True)"
      ]
    },
    {
      "cell_type": "code",
      "execution_count": null,
      "metadata": {
        "id": "r7tnGH0MsX_4"
      },
      "outputs": [],
      "source": [
        "# !pip install lightgbm"
      ]
    },
    {
      "cell_type": "code",
      "execution_count": null,
      "metadata": {
        "colab": {
          "base_uri": "https://localhost:8080/"
        },
        "id": "U4B1FbOVPXIS",
        "outputId": "e93b0aa8-c753-4015-bb48-2c18bb1d395b",
        "scrolled": true
      },
      "outputs": [
        {
          "output_type": "stream",
          "name": "stderr",
          "text": [
            "\u001b[32m [ 2023-02-17 14:04:42,228 ] \u001b[0mFinished iteration #0 with objective value 0.23593519480665326. Current best value is 0.23593519480665326 \u001b[0m\n",
            "\u001b[32m [ 2023-02-17 14:05:13,925 ] \u001b[0mFinished iteration #1 with objective value 0.2398758537652787. Current best value is 0.23593519480665326 \u001b[0m\n",
            "\u001b[32m [ 2023-02-17 14:05:47,562 ] \u001b[0mFinished iteration #2 with objective value 0.23649645608292613. Current best value is 0.23593519480665326 \u001b[0m\n",
            "\u001b[32m [ 2023-02-17 14:06:27,466 ] \u001b[0mFinished iteration #3 with objective value 0.2352478500740301. Current best value is 0.2352478500740301 \u001b[0m\n",
            "\u001b[32m [ 2023-02-17 14:07:02,727 ] \u001b[0mFinished iteration #4 with objective value 0.2473169863467661. Current best value is 0.2352478500740301 \u001b[0m\n",
            "\u001b[32m [ 2023-02-17 14:07:41,629 ] \u001b[0mFinished iteration #5 with objective value 0.2467571622727993. Current best value is 0.2352478500740301 \u001b[0m\n",
            "\u001b[32m [ 2023-02-17 14:08:19,203 ] \u001b[0mFinished iteration #6 with objective value 0.2514191403810528. Current best value is 0.2352478500740301 \u001b[0m\n",
            "\u001b[32m [ 2023-02-17 14:08:56,443 ] \u001b[0mFinished iteration #7 with objective value 0.24298272635523438. Current best value is 0.2352478500740301 \u001b[0m\n",
            "\u001b[32m [ 2023-02-17 14:09:35,582 ] \u001b[0mFinished iteration #8 with objective value 0.24404482508211361. Current best value is 0.2352478500740301 \u001b[0m\n",
            "\u001b[32m [ 2023-02-17 14:10:11,398 ] \u001b[0mFinished iteration #9 with objective value 0.24656232519793647. Current best value is 0.2352478500740301 \u001b[0m\n"
          ]
        }
      ],
      "source": [
        "# Import and initialize classifier\n",
        "# import lightgbm as lgb\n",
        "lgb_model = LinearDiscriminantAnalysis()\n",
        "\n",
        "# Fit the classifier\n",
        "features = algo_object.fit(lgb_model,x_train, y_train, x_test, y_test,verbose=True)"
      ]
    },
    {
      "cell_type": "code",
      "execution_count": null,
      "metadata": {
        "colab": {
          "base_uri": "https://localhost:8080/"
        },
        "id": "gmW9QV4MU816",
        "outputId": "12ea3c09-b76d-4c4d-d2f9-703edaf054f0"
      },
      "outputs": [
        {
          "output_type": "execute_result",
          "data": {
            "text/plain": [
              "5213"
            ]
          },
          "metadata": {},
          "execution_count": 21
        }
      ],
      "source": [
        "len(features)"
      ]
    },
    {
      "cell_type": "code",
      "execution_count": null,
      "metadata": {
        "colab": {
          "base_uri": "https://localhost:8080/",
          "height": 542
        },
        "id": "uF0ZNVkYKCxO",
        "outputId": "68b94612-dc88-4147-cfd0-9ad59483182d"
      },
      "outputs": [
        {
          "output_type": "display_data",
          "data": {
            "text/html": [
              "<html>\n",
              "<head><meta charset=\"utf-8\" /></head>\n",
              "<body>\n",
              "    <div>            <script src=\"https://cdnjs.cloudflare.com/ajax/libs/mathjax/2.7.5/MathJax.js?config=TeX-AMS-MML_SVG\"></script><script type=\"text/javascript\">if (window.MathJax && window.MathJax.Hub && window.MathJax.Hub.Config) {window.MathJax.Hub.Config({SVG: {font: \"STIX-Web\"}});}</script>                <script type=\"text/javascript\">window.PlotlyConfig = {MathJaxConfig: 'local'};</script>\n",
              "        <script src=\"https://cdn.plot.ly/plotly-2.18.0.min.js\"></script>                <div id=\"3d39f446-b43d-46b5-803e-5a9c011219c0\" class=\"plotly-graph-div\" style=\"height:525px; width:100%;\"></div>            <script type=\"text/javascript\">                                    window.PLOTLYENV=window.PLOTLYENV || {};                                    if (document.getElementById(\"3d39f446-b43d-46b5-803e-5a9c011219c0\")) {                    Plotly.newPlot(                        \"3d39f446-b43d-46b5-803e-5a9c011219c0\",                        [{\"mode\":\"markers\",\"name\":\"objective_score\",\"x\":[0,1,2,3,4,5,6,7,8,9],\"y\":[0.23593519480665326,0.2398758537652787,0.23649645608292613,0.2352478500740301,0.2473169863467661,0.2467571622727993,0.2514191403810528,0.24298272635523438,0.24404482508211361,0.24656232519793647],\"type\":\"scatter\"},{\"mode\":\"lines+markers\",\"name\":\"best_score\",\"x\":[0,1,2,3,4,5,6,7,8,9],\"y\":[0.23593519480665326,0.23593519480665326,0.23593519480665326,0.2352478500740301,0.2352478500740301,0.2352478500740301,0.2352478500740301,0.2352478500740301,0.2352478500740301,0.2352478500740301],\"type\":\"scatter\"}],                        {\"template\":{\"data\":{\"histogram2dcontour\":[{\"type\":\"histogram2dcontour\",\"colorbar\":{\"outlinewidth\":0,\"ticks\":\"\"},\"colorscale\":[[0.0,\"#0d0887\"],[0.1111111111111111,\"#46039f\"],[0.2222222222222222,\"#7201a8\"],[0.3333333333333333,\"#9c179e\"],[0.4444444444444444,\"#bd3786\"],[0.5555555555555556,\"#d8576b\"],[0.6666666666666666,\"#ed7953\"],[0.7777777777777778,\"#fb9f3a\"],[0.8888888888888888,\"#fdca26\"],[1.0,\"#f0f921\"]]}],\"choropleth\":[{\"type\":\"choropleth\",\"colorbar\":{\"outlinewidth\":0,\"ticks\":\"\"}}],\"histogram2d\":[{\"type\":\"histogram2d\",\"colorbar\":{\"outlinewidth\":0,\"ticks\":\"\"},\"colorscale\":[[0.0,\"#0d0887\"],[0.1111111111111111,\"#46039f\"],[0.2222222222222222,\"#7201a8\"],[0.3333333333333333,\"#9c179e\"],[0.4444444444444444,\"#bd3786\"],[0.5555555555555556,\"#d8576b\"],[0.6666666666666666,\"#ed7953\"],[0.7777777777777778,\"#fb9f3a\"],[0.8888888888888888,\"#fdca26\"],[1.0,\"#f0f921\"]]}],\"heatmap\":[{\"type\":\"heatmap\",\"colorbar\":{\"outlinewidth\":0,\"ticks\":\"\"},\"colorscale\":[[0.0,\"#0d0887\"],[0.1111111111111111,\"#46039f\"],[0.2222222222222222,\"#7201a8\"],[0.3333333333333333,\"#9c179e\"],[0.4444444444444444,\"#bd3786\"],[0.5555555555555556,\"#d8576b\"],[0.6666666666666666,\"#ed7953\"],[0.7777777777777778,\"#fb9f3a\"],[0.8888888888888888,\"#fdca26\"],[1.0,\"#f0f921\"]]}],\"heatmapgl\":[{\"type\":\"heatmapgl\",\"colorbar\":{\"outlinewidth\":0,\"ticks\":\"\"},\"colorscale\":[[0.0,\"#0d0887\"],[0.1111111111111111,\"#46039f\"],[0.2222222222222222,\"#7201a8\"],[0.3333333333333333,\"#9c179e\"],[0.4444444444444444,\"#bd3786\"],[0.5555555555555556,\"#d8576b\"],[0.6666666666666666,\"#ed7953\"],[0.7777777777777778,\"#fb9f3a\"],[0.8888888888888888,\"#fdca26\"],[1.0,\"#f0f921\"]]}],\"contourcarpet\":[{\"type\":\"contourcarpet\",\"colorbar\":{\"outlinewidth\":0,\"ticks\":\"\"}}],\"contour\":[{\"type\":\"contour\",\"colorbar\":{\"outlinewidth\":0,\"ticks\":\"\"},\"colorscale\":[[0.0,\"#0d0887\"],[0.1111111111111111,\"#46039f\"],[0.2222222222222222,\"#7201a8\"],[0.3333333333333333,\"#9c179e\"],[0.4444444444444444,\"#bd3786\"],[0.5555555555555556,\"#d8576b\"],[0.6666666666666666,\"#ed7953\"],[0.7777777777777778,\"#fb9f3a\"],[0.8888888888888888,\"#fdca26\"],[1.0,\"#f0f921\"]]}],\"surface\":[{\"type\":\"surface\",\"colorbar\":{\"outlinewidth\":0,\"ticks\":\"\"},\"colorscale\":[[0.0,\"#0d0887\"],[0.1111111111111111,\"#46039f\"],[0.2222222222222222,\"#7201a8\"],[0.3333333333333333,\"#9c179e\"],[0.4444444444444444,\"#bd3786\"],[0.5555555555555556,\"#d8576b\"],[0.6666666666666666,\"#ed7953\"],[0.7777777777777778,\"#fb9f3a\"],[0.8888888888888888,\"#fdca26\"],[1.0,\"#f0f921\"]]}],\"mesh3d\":[{\"type\":\"mesh3d\",\"colorbar\":{\"outlinewidth\":0,\"ticks\":\"\"}}],\"scatter\":[{\"fillpattern\":{\"fillmode\":\"overlay\",\"size\":10,\"solidity\":0.2},\"type\":\"scatter\"}],\"parcoords\":[{\"type\":\"parcoords\",\"line\":{\"colorbar\":{\"outlinewidth\":0,\"ticks\":\"\"}}}],\"scatterpolargl\":[{\"type\":\"scatterpolargl\",\"marker\":{\"colorbar\":{\"outlinewidth\":0,\"ticks\":\"\"}}}],\"bar\":[{\"error_x\":{\"color\":\"#2a3f5f\"},\"error_y\":{\"color\":\"#2a3f5f\"},\"marker\":{\"line\":{\"color\":\"#E5ECF6\",\"width\":0.5},\"pattern\":{\"fillmode\":\"overlay\",\"size\":10,\"solidity\":0.2}},\"type\":\"bar\"}],\"scattergeo\":[{\"type\":\"scattergeo\",\"marker\":{\"colorbar\":{\"outlinewidth\":0,\"ticks\":\"\"}}}],\"scatterpolar\":[{\"type\":\"scatterpolar\",\"marker\":{\"colorbar\":{\"outlinewidth\":0,\"ticks\":\"\"}}}],\"histogram\":[{\"marker\":{\"pattern\":{\"fillmode\":\"overlay\",\"size\":10,\"solidity\":0.2}},\"type\":\"histogram\"}],\"scattergl\":[{\"type\":\"scattergl\",\"marker\":{\"colorbar\":{\"outlinewidth\":0,\"ticks\":\"\"}}}],\"scatter3d\":[{\"type\":\"scatter3d\",\"line\":{\"colorbar\":{\"outlinewidth\":0,\"ticks\":\"\"}},\"marker\":{\"colorbar\":{\"outlinewidth\":0,\"ticks\":\"\"}}}],\"scattermapbox\":[{\"type\":\"scattermapbox\",\"marker\":{\"colorbar\":{\"outlinewidth\":0,\"ticks\":\"\"}}}],\"scatterternary\":[{\"type\":\"scatterternary\",\"marker\":{\"colorbar\":{\"outlinewidth\":0,\"ticks\":\"\"}}}],\"scattercarpet\":[{\"type\":\"scattercarpet\",\"marker\":{\"colorbar\":{\"outlinewidth\":0,\"ticks\":\"\"}}}],\"carpet\":[{\"aaxis\":{\"endlinecolor\":\"#2a3f5f\",\"gridcolor\":\"white\",\"linecolor\":\"white\",\"minorgridcolor\":\"white\",\"startlinecolor\":\"#2a3f5f\"},\"baxis\":{\"endlinecolor\":\"#2a3f5f\",\"gridcolor\":\"white\",\"linecolor\":\"white\",\"minorgridcolor\":\"white\",\"startlinecolor\":\"#2a3f5f\"},\"type\":\"carpet\"}],\"table\":[{\"cells\":{\"fill\":{\"color\":\"#EBF0F8\"},\"line\":{\"color\":\"white\"}},\"header\":{\"fill\":{\"color\":\"#C8D4E3\"},\"line\":{\"color\":\"white\"}},\"type\":\"table\"}],\"barpolar\":[{\"marker\":{\"line\":{\"color\":\"#E5ECF6\",\"width\":0.5},\"pattern\":{\"fillmode\":\"overlay\",\"size\":10,\"solidity\":0.2}},\"type\":\"barpolar\"}],\"pie\":[{\"automargin\":true,\"type\":\"pie\"}]},\"layout\":{\"autotypenumbers\":\"strict\",\"colorway\":[\"#636efa\",\"#EF553B\",\"#00cc96\",\"#ab63fa\",\"#FFA15A\",\"#19d3f3\",\"#FF6692\",\"#B6E880\",\"#FF97FF\",\"#FECB52\"],\"font\":{\"color\":\"#2a3f5f\"},\"hovermode\":\"closest\",\"hoverlabel\":{\"align\":\"left\"},\"paper_bgcolor\":\"white\",\"plot_bgcolor\":\"#E5ECF6\",\"polar\":{\"bgcolor\":\"#E5ECF6\",\"angularaxis\":{\"gridcolor\":\"white\",\"linecolor\":\"white\",\"ticks\":\"\"},\"radialaxis\":{\"gridcolor\":\"white\",\"linecolor\":\"white\",\"ticks\":\"\"}},\"ternary\":{\"bgcolor\":\"#E5ECF6\",\"aaxis\":{\"gridcolor\":\"white\",\"linecolor\":\"white\",\"ticks\":\"\"},\"baxis\":{\"gridcolor\":\"white\",\"linecolor\":\"white\",\"ticks\":\"\"},\"caxis\":{\"gridcolor\":\"white\",\"linecolor\":\"white\",\"ticks\":\"\"}},\"coloraxis\":{\"colorbar\":{\"outlinewidth\":0,\"ticks\":\"\"}},\"colorscale\":{\"sequential\":[[0.0,\"#0d0887\"],[0.1111111111111111,\"#46039f\"],[0.2222222222222222,\"#7201a8\"],[0.3333333333333333,\"#9c179e\"],[0.4444444444444444,\"#bd3786\"],[0.5555555555555556,\"#d8576b\"],[0.6666666666666666,\"#ed7953\"],[0.7777777777777778,\"#fb9f3a\"],[0.8888888888888888,\"#fdca26\"],[1.0,\"#f0f921\"]],\"sequentialminus\":[[0.0,\"#0d0887\"],[0.1111111111111111,\"#46039f\"],[0.2222222222222222,\"#7201a8\"],[0.3333333333333333,\"#9c179e\"],[0.4444444444444444,\"#bd3786\"],[0.5555555555555556,\"#d8576b\"],[0.6666666666666666,\"#ed7953\"],[0.7777777777777778,\"#fb9f3a\"],[0.8888888888888888,\"#fdca26\"],[1.0,\"#f0f921\"]],\"diverging\":[[0,\"#8e0152\"],[0.1,\"#c51b7d\"],[0.2,\"#de77ae\"],[0.3,\"#f1b6da\"],[0.4,\"#fde0ef\"],[0.5,\"#f7f7f7\"],[0.6,\"#e6f5d0\"],[0.7,\"#b8e186\"],[0.8,\"#7fbc41\"],[0.9,\"#4d9221\"],[1,\"#276419\"]]},\"xaxis\":{\"gridcolor\":\"white\",\"linecolor\":\"white\",\"ticks\":\"\",\"title\":{\"standoff\":15},\"zerolinecolor\":\"white\",\"automargin\":true,\"zerolinewidth\":2},\"yaxis\":{\"gridcolor\":\"white\",\"linecolor\":\"white\",\"ticks\":\"\",\"title\":{\"standoff\":15},\"zerolinecolor\":\"white\",\"automargin\":true,\"zerolinewidth\":2},\"scene\":{\"xaxis\":{\"backgroundcolor\":\"#E5ECF6\",\"gridcolor\":\"white\",\"linecolor\":\"white\",\"showbackground\":true,\"ticks\":\"\",\"zerolinecolor\":\"white\",\"gridwidth\":2},\"yaxis\":{\"backgroundcolor\":\"#E5ECF6\",\"gridcolor\":\"white\",\"linecolor\":\"white\",\"showbackground\":true,\"ticks\":\"\",\"zerolinecolor\":\"white\",\"gridwidth\":2},\"zaxis\":{\"backgroundcolor\":\"#E5ECF6\",\"gridcolor\":\"white\",\"linecolor\":\"white\",\"showbackground\":true,\"ticks\":\"\",\"zerolinecolor\":\"white\",\"gridwidth\":2}},\"shapedefaults\":{\"line\":{\"color\":\"#2a3f5f\"}},\"annotationdefaults\":{\"arrowcolor\":\"#2a3f5f\",\"arrowhead\":0,\"arrowwidth\":1},\"geo\":{\"bgcolor\":\"white\",\"landcolor\":\"#E5ECF6\",\"subunitcolor\":\"white\",\"showland\":true,\"showlakes\":true,\"lakecolor\":\"white\"},\"title\":{\"x\":0.05},\"mapbox\":{\"style\":\"light\"}}},\"xaxis\":{\"title\":{\"text\":\"Iteration\"}},\"yaxis\":{\"title\":{\"text\":\"objective_score\"}},\"title\":{\"text\":\"Optimization History Plot\"}},                        {\"responsive\": true}                    ).then(function(){\n",
              "                            \n",
              "var gd = document.getElementById('3d39f446-b43d-46b5-803e-5a9c011219c0');\n",
              "var x = new MutationObserver(function (mutations, observer) {{\n",
              "        var display = window.getComputedStyle(gd).display;\n",
              "        if (!display || display === 'none') {{\n",
              "            console.log([gd, 'removed!']);\n",
              "            Plotly.purge(gd);\n",
              "            observer.disconnect();\n",
              "        }}\n",
              "}});\n",
              "\n",
              "// Listen for the removal of the full notebook cells\n",
              "var notebookContainer = gd.closest('#notebook-container');\n",
              "if (notebookContainer) {{\n",
              "    x.observe(notebookContainer, {childList: true});\n",
              "}}\n",
              "\n",
              "// Listen for the clearing of the current output cell\n",
              "var outputEl = gd.closest('.output');\n",
              "if (outputEl) {{\n",
              "    x.observe(outputEl, {childList: true});\n",
              "}}\n",
              "\n",
              "                        })                };                            </script>        </div>\n",
              "</body>\n",
              "</html>"
            ]
          },
          "metadata": {}
        }
      ],
      "source": [
        "# Now plot the result\n",
        "algo_object.plot_history()"
      ]
    },
    {
      "cell_type": "markdown",
      "metadata": {
        "id": "yPe7B-waKObw"
      },
      "source": [
        "<a name=DP></a>\n",
        "## Data Preparation"
      ]
    },
    {
      "cell_type": "code",
      "execution_count": null,
      "metadata": {
        "colab": {
          "base_uri": "https://localhost:8080/",
          "height": 320
        },
        "id": "PYjo3h01WHW8",
        "outputId": "271c41b3-d1dc-40b0-ffcc-ab5bac351022"
      },
      "outputs": [
        {
          "output_type": "execute_result",
          "data": {
            "text/plain": [
              "          V1        V2        V4        V5        V6        V7        V8  \\\n",
              "66 -0.436655 -0.880366 -1.056411  0.478109 -1.056411 -0.340017  4.287616   \n",
              "35 -0.925287 -0.925287 -0.925287 -0.925287 -0.667220 -0.925287  4.845647   \n",
              "77 -0.838671 -0.838671 -0.838671 -0.662620 -0.662620 -0.838671  4.298436   \n",
              "11 -0.277425 -0.660388 -1.014288  0.720023  0.228375 -0.066664  3.813493   \n",
              "91 -0.714321 -1.206937 -1.206937  0.374589  1.106187  0.335601  3.837362   \n",
              "\n",
              "          V9       V10       V11  ...     V6022     V6024     V6025     V6026  \\\n",
              "66 -0.436655 -1.056411  0.153221  ... -0.803080  0.624133 -1.056411 -1.056411   \n",
              "35 -0.925287 -0.925287  0.334666  ... -0.347128 -0.195502 -0.925287 -0.925287   \n",
              "77 -0.838671 -0.838671  0.938577  ... -0.838671  0.046106 -0.838671 -0.838671   \n",
              "11 -0.549142 -1.104309  0.156606  ...  0.023357  0.078932 -1.104309 -1.104309   \n",
              "91  0.662006 -1.206937 -0.232117  ...  0.755697  1.090121 -1.206937 -1.206937   \n",
              "\n",
              "       V6027     V6028     V6029     V6031     V6032     V6033  \n",
              "66 -0.133796  0.986985 -0.602589 -0.880366  0.458200 -0.664905  \n",
              "35 -0.243493  0.438300 -0.925287 -0.745952 -0.106021  0.087468  \n",
              "77 -0.838671  0.189422  1.250250 -0.838671 -0.838671  0.083978  \n",
              "11 -0.932106  1.089198 -0.856505 -0.603128 -1.014288 -0.066664  \n",
              "91 -0.714321  1.523627 -1.206937 -1.206937 -1.206937 -0.924944  \n",
              "\n",
              "[5 rows x 5213 columns]"
            ],
            "text/html": [
              "\n",
              "  <div id=\"df-98d3a536-bfdb-4dad-ba5b-99f1d06c5c2d\">\n",
              "    <div class=\"colab-df-container\">\n",
              "      <div>\n",
              "<style scoped>\n",
              "    .dataframe tbody tr th:only-of-type {\n",
              "        vertical-align: middle;\n",
              "    }\n",
              "\n",
              "    .dataframe tbody tr th {\n",
              "        vertical-align: top;\n",
              "    }\n",
              "\n",
              "    .dataframe thead th {\n",
              "        text-align: right;\n",
              "    }\n",
              "</style>\n",
              "<table border=\"1\" class=\"dataframe\">\n",
              "  <thead>\n",
              "    <tr style=\"text-align: right;\">\n",
              "      <th></th>\n",
              "      <th>V1</th>\n",
              "      <th>V2</th>\n",
              "      <th>V4</th>\n",
              "      <th>V5</th>\n",
              "      <th>V6</th>\n",
              "      <th>V7</th>\n",
              "      <th>V8</th>\n",
              "      <th>V9</th>\n",
              "      <th>V10</th>\n",
              "      <th>V11</th>\n",
              "      <th>...</th>\n",
              "      <th>V6022</th>\n",
              "      <th>V6024</th>\n",
              "      <th>V6025</th>\n",
              "      <th>V6026</th>\n",
              "      <th>V6027</th>\n",
              "      <th>V6028</th>\n",
              "      <th>V6029</th>\n",
              "      <th>V6031</th>\n",
              "      <th>V6032</th>\n",
              "      <th>V6033</th>\n",
              "    </tr>\n",
              "  </thead>\n",
              "  <tbody>\n",
              "    <tr>\n",
              "      <th>66</th>\n",
              "      <td>-0.436655</td>\n",
              "      <td>-0.880366</td>\n",
              "      <td>-1.056411</td>\n",
              "      <td>0.478109</td>\n",
              "      <td>-1.056411</td>\n",
              "      <td>-0.340017</td>\n",
              "      <td>4.287616</td>\n",
              "      <td>-0.436655</td>\n",
              "      <td>-1.056411</td>\n",
              "      <td>0.153221</td>\n",
              "      <td>...</td>\n",
              "      <td>-0.803080</td>\n",
              "      <td>0.624133</td>\n",
              "      <td>-1.056411</td>\n",
              "      <td>-1.056411</td>\n",
              "      <td>-0.133796</td>\n",
              "      <td>0.986985</td>\n",
              "      <td>-0.602589</td>\n",
              "      <td>-0.880366</td>\n",
              "      <td>0.458200</td>\n",
              "      <td>-0.664905</td>\n",
              "    </tr>\n",
              "    <tr>\n",
              "      <th>35</th>\n",
              "      <td>-0.925287</td>\n",
              "      <td>-0.925287</td>\n",
              "      <td>-0.925287</td>\n",
              "      <td>-0.925287</td>\n",
              "      <td>-0.667220</td>\n",
              "      <td>-0.925287</td>\n",
              "      <td>4.845647</td>\n",
              "      <td>-0.925287</td>\n",
              "      <td>-0.925287</td>\n",
              "      <td>0.334666</td>\n",
              "      <td>...</td>\n",
              "      <td>-0.347128</td>\n",
              "      <td>-0.195502</td>\n",
              "      <td>-0.925287</td>\n",
              "      <td>-0.925287</td>\n",
              "      <td>-0.243493</td>\n",
              "      <td>0.438300</td>\n",
              "      <td>-0.925287</td>\n",
              "      <td>-0.745952</td>\n",
              "      <td>-0.106021</td>\n",
              "      <td>0.087468</td>\n",
              "    </tr>\n",
              "    <tr>\n",
              "      <th>77</th>\n",
              "      <td>-0.838671</td>\n",
              "      <td>-0.838671</td>\n",
              "      <td>-0.838671</td>\n",
              "      <td>-0.662620</td>\n",
              "      <td>-0.662620</td>\n",
              "      <td>-0.838671</td>\n",
              "      <td>4.298436</td>\n",
              "      <td>-0.838671</td>\n",
              "      <td>-0.838671</td>\n",
              "      <td>0.938577</td>\n",
              "      <td>...</td>\n",
              "      <td>-0.838671</td>\n",
              "      <td>0.046106</td>\n",
              "      <td>-0.838671</td>\n",
              "      <td>-0.838671</td>\n",
              "      <td>-0.838671</td>\n",
              "      <td>0.189422</td>\n",
              "      <td>1.250250</td>\n",
              "      <td>-0.838671</td>\n",
              "      <td>-0.838671</td>\n",
              "      <td>0.083978</td>\n",
              "    </tr>\n",
              "    <tr>\n",
              "      <th>11</th>\n",
              "      <td>-0.277425</td>\n",
              "      <td>-0.660388</td>\n",
              "      <td>-1.014288</td>\n",
              "      <td>0.720023</td>\n",
              "      <td>0.228375</td>\n",
              "      <td>-0.066664</td>\n",
              "      <td>3.813493</td>\n",
              "      <td>-0.549142</td>\n",
              "      <td>-1.104309</td>\n",
              "      <td>0.156606</td>\n",
              "      <td>...</td>\n",
              "      <td>0.023357</td>\n",
              "      <td>0.078932</td>\n",
              "      <td>-1.104309</td>\n",
              "      <td>-1.104309</td>\n",
              "      <td>-0.932106</td>\n",
              "      <td>1.089198</td>\n",
              "      <td>-0.856505</td>\n",
              "      <td>-0.603128</td>\n",
              "      <td>-1.014288</td>\n",
              "      <td>-0.066664</td>\n",
              "    </tr>\n",
              "    <tr>\n",
              "      <th>91</th>\n",
              "      <td>-0.714321</td>\n",
              "      <td>-1.206937</td>\n",
              "      <td>-1.206937</td>\n",
              "      <td>0.374589</td>\n",
              "      <td>1.106187</td>\n",
              "      <td>0.335601</td>\n",
              "      <td>3.837362</td>\n",
              "      <td>0.662006</td>\n",
              "      <td>-1.206937</td>\n",
              "      <td>-0.232117</td>\n",
              "      <td>...</td>\n",
              "      <td>0.755697</td>\n",
              "      <td>1.090121</td>\n",
              "      <td>-1.206937</td>\n",
              "      <td>-1.206937</td>\n",
              "      <td>-0.714321</td>\n",
              "      <td>1.523627</td>\n",
              "      <td>-1.206937</td>\n",
              "      <td>-1.206937</td>\n",
              "      <td>-1.206937</td>\n",
              "      <td>-0.924944</td>\n",
              "    </tr>\n",
              "  </tbody>\n",
              "</table>\n",
              "<p>5 rows × 5213 columns</p>\n",
              "</div>\n",
              "      <button class=\"colab-df-convert\" onclick=\"convertToInteractive('df-98d3a536-bfdb-4dad-ba5b-99f1d06c5c2d')\"\n",
              "              title=\"Convert this dataframe to an interactive table.\"\n",
              "              style=\"display:none;\">\n",
              "        \n",
              "  <svg xmlns=\"http://www.w3.org/2000/svg\" height=\"24px\"viewBox=\"0 0 24 24\"\n",
              "       width=\"24px\">\n",
              "    <path d=\"M0 0h24v24H0V0z\" fill=\"none\"/>\n",
              "    <path d=\"M18.56 5.44l.94 2.06.94-2.06 2.06-.94-2.06-.94-.94-2.06-.94 2.06-2.06.94zm-11 1L8.5 8.5l.94-2.06 2.06-.94-2.06-.94L8.5 2.5l-.94 2.06-2.06.94zm10 10l.94 2.06.94-2.06 2.06-.94-2.06-.94-.94-2.06-.94 2.06-2.06.94z\"/><path d=\"M17.41 7.96l-1.37-1.37c-.4-.4-.92-.59-1.43-.59-.52 0-1.04.2-1.43.59L10.3 9.45l-7.72 7.72c-.78.78-.78 2.05 0 2.83L4 21.41c.39.39.9.59 1.41.59.51 0 1.02-.2 1.41-.59l7.78-7.78 2.81-2.81c.8-.78.8-2.07 0-2.86zM5.41 20L4 18.59l7.72-7.72 1.47 1.35L5.41 20z\"/>\n",
              "  </svg>\n",
              "      </button>\n",
              "      \n",
              "  <style>\n",
              "    .colab-df-container {\n",
              "      display:flex;\n",
              "      flex-wrap:wrap;\n",
              "      gap: 12px;\n",
              "    }\n",
              "\n",
              "    .colab-df-convert {\n",
              "      background-color: #E8F0FE;\n",
              "      border: none;\n",
              "      border-radius: 50%;\n",
              "      cursor: pointer;\n",
              "      display: none;\n",
              "      fill: #1967D2;\n",
              "      height: 32px;\n",
              "      padding: 0 0 0 0;\n",
              "      width: 32px;\n",
              "    }\n",
              "\n",
              "    .colab-df-convert:hover {\n",
              "      background-color: #E2EBFA;\n",
              "      box-shadow: 0px 1px 2px rgba(60, 64, 67, 0.3), 0px 1px 3px 1px rgba(60, 64, 67, 0.15);\n",
              "      fill: #174EA6;\n",
              "    }\n",
              "\n",
              "    [theme=dark] .colab-df-convert {\n",
              "      background-color: #3B4455;\n",
              "      fill: #D2E3FC;\n",
              "    }\n",
              "\n",
              "    [theme=dark] .colab-df-convert:hover {\n",
              "      background-color: #434B5C;\n",
              "      box-shadow: 0px 1px 3px 1px rgba(0, 0, 0, 0.15);\n",
              "      filter: drop-shadow(0px 1px 2px rgba(0, 0, 0, 0.3));\n",
              "      fill: #FFFFFF;\n",
              "    }\n",
              "  </style>\n",
              "\n",
              "      <script>\n",
              "        const buttonEl =\n",
              "          document.querySelector('#df-98d3a536-bfdb-4dad-ba5b-99f1d06c5c2d button.colab-df-convert');\n",
              "        buttonEl.style.display =\n",
              "          google.colab.kernel.accessAllowed ? 'block' : 'none';\n",
              "\n",
              "        async function convertToInteractive(key) {\n",
              "          const element = document.querySelector('#df-98d3a536-bfdb-4dad-ba5b-99f1d06c5c2d');\n",
              "          const dataTable =\n",
              "            await google.colab.kernel.invokeFunction('convertToInteractive',\n",
              "                                                     [key], {});\n",
              "          if (!dataTable) return;\n",
              "\n",
              "          const docLinkHtml = 'Like what you see? Visit the ' +\n",
              "            '<a target=\"_blank\" href=https://colab.research.google.com/notebooks/data_table.ipynb>data table notebook</a>'\n",
              "            + ' to learn more about interactive tables.';\n",
              "          element.innerHTML = '';\n",
              "          dataTable['output_type'] = 'display_data';\n",
              "          await google.colab.output.renderOutput(dataTable, element);\n",
              "          const docLink = document.createElement('div');\n",
              "          docLink.innerHTML = docLinkHtml;\n",
              "          element.appendChild(docLink);\n",
              "        }\n",
              "      </script>\n",
              "    </div>\n",
              "  </div>\n",
              "  "
            ]
          },
          "metadata": {},
          "execution_count": 23
        }
      ],
      "source": [
        "# Fetching our new dataset with selected features\n",
        "new_data = data[features]\n",
        "new_data.head()"
      ]
    },
    {
      "cell_type": "code",
      "execution_count": null,
      "metadata": {
        "colab": {
          "base_uri": "https://localhost:8080/"
        },
        "id": "h9HV9V35Jj43",
        "outputId": "185ac1cb-f39b-4ab8-cd24-ca551870ed45"
      },
      "outputs": [
        {
          "output_type": "stream",
          "name": "stdout",
          "text": [
            "x_train shape:  (81, 5213)\n",
            "y_train shape:  (81,)\n"
          ]
        }
      ],
      "source": [
        "x_train, x_test, y_train, y_test = train_test_split(new_data, y, test_size = 0.2, random_state = 101)\n",
        "print(\"x_train shape: \", x_train.shape)\n",
        "print(\"y_train shape: \", y_train.shape)"
      ]
    },
    {
      "cell_type": "code",
      "execution_count": null,
      "metadata": {
        "id": "JEmEMy2LJ-LM"
      },
      "outputs": [],
      "source": [
        "# Data scalling\n",
        "sc = StandardScaler()\n",
        "x_train = sc.fit_transform(x_train)\n",
        "x_test = sc.transform(x_test)"
      ]
    },
    {
      "cell_type": "code",
      "source": [
        "import tensorflow as tf\n",
        "from tensorflow.keras import Model\n",
        "from tensorflow.keras.optimizers import Adam\n",
        "from tensorflow.keras.layers import LSTM, Activation, Dense, Dropout, Input"
      ],
      "metadata": {
        "id": "J7L0lxR3w1Ed"
      },
      "execution_count": null,
      "outputs": []
    },
    {
      "cell_type": "code",
      "source": [
        "# Model\n",
        "\n",
        "data = Input((x_train.shape[1],1),dtype= 'float32')\n",
        "\n",
        "X = LSTM(128,return_sequences =True)(data)\n",
        "X = Dropout(0.5)(X)\n",
        "X = LSTM(64,return_sequences = True)(X)\n",
        "X = Dropout(0.5)(X)\n",
        "X = LSTM(32,return_sequences = False)(X)\n",
        "X = Dropout(0.2)(X)\n",
        "X = Dense(units=4)(X)\n",
        "X = Dense(units=2)(X)\n",
        "# use sigmoid\n",
        "X = Activation('sigmoid')(X)   # sigmoid is for binary classification and softmax for multiclass classification.\n",
        "lstm = Model(data, X)"
      ],
      "metadata": {
        "id": "-WVszXrmw6l_"
      },
      "execution_count": null,
      "outputs": []
    },
    {
      "cell_type": "code",
      "source": [
        "lstm.summary()"
      ],
      "metadata": {
        "colab": {
          "base_uri": "https://localhost:8080/"
        },
        "id": "u2Y46yGiw6t6",
        "outputId": "58c4523c-2651-4698-b59b-df3067e1d75c"
      },
      "execution_count": null,
      "outputs": [
        {
          "output_type": "stream",
          "name": "stdout",
          "text": [
            "Model: \"model\"\n",
            "_________________________________________________________________\n",
            " Layer (type)                Output Shape              Param #   \n",
            "=================================================================\n",
            " input_1 (InputLayer)        [(None, 4538, 1)]         0         \n",
            "                                                                 \n",
            " lstm (LSTM)                 (None, 4538, 128)         66560     \n",
            "                                                                 \n",
            " dropout (Dropout)           (None, 4538, 128)         0         \n",
            "                                                                 \n",
            " lstm_1 (LSTM)               (None, 4538, 64)          49408     \n",
            "                                                                 \n",
            " dropout_1 (Dropout)         (None, 4538, 64)          0         \n",
            "                                                                 \n",
            " lstm_2 (LSTM)               (None, 32)                12416     \n",
            "                                                                 \n",
            " dropout_2 (Dropout)         (None, 32)                0         \n",
            "                                                                 \n",
            " dense (Dense)               (None, 4)                 132       \n",
            "                                                                 \n",
            " dense_1 (Dense)             (None, 2)                 10        \n",
            "                                                                 \n",
            " activation (Activation)     (None, 2)                 0         \n",
            "                                                                 \n",
            "=================================================================\n",
            "Total params: 128,526\n",
            "Trainable params: 128,526\n",
            "Non-trainable params: 0\n",
            "_________________________________________________________________\n"
          ]
        }
      ]
    },
    {
      "cell_type": "code",
      "source": [
        "lstm.compile(optimizer= Adam(learning_rate= 0.0001), loss= 'binary_crossentropy', metrics=['accuracy'])"
      ],
      "metadata": {
        "id": "6xMvyHG_w60O"
      },
      "execution_count": null,
      "outputs": []
    },
    {
      "cell_type": "code",
      "source": [
        "# fun for converting our target to one_hot vectior format.\n",
        "def convert_to_one_hot(Y, C):  # Y - target column and C- is the number of classes(here its is 2).\n",
        "    Y = np.eye(C)[Y.reshape(-1)]\n",
        "    return Y"
      ],
      "metadata": {
        "id": "v2ucdVasw65J"
      },
      "execution_count": null,
      "outputs": []
    },
    {
      "cell_type": "code",
      "source": [
        "type(y_train)"
      ],
      "metadata": {
        "colab": {
          "base_uri": "https://localhost:8080/"
        },
        "id": "kae_xhnIxv68",
        "outputId": "9a67b5ee-b768-4580-b01e-8522763a1057"
      },
      "execution_count": null,
      "outputs": [
        {
          "output_type": "execute_result",
          "data": {
            "text/plain": [
              "pandas.core.series.Series"
            ]
          },
          "metadata": {},
          "execution_count": 36
        }
      ]
    },
    {
      "cell_type": "code",
      "source": [
        "Y_train = y_train.to_numpy() # Y_train is series here so we converted into numpy array\n",
        "Y_train_oh = convert_to_one_hot(Y_train.astype(int),2)  # one_hot vec format\n",
        "type(Y_train)"
      ],
      "metadata": {
        "colab": {
          "base_uri": "https://localhost:8080/"
        },
        "id": "XPakK8Xmw6-w",
        "outputId": "8de01f59-3249-49c9-f3db-e96f58d3ec2c"
      },
      "execution_count": null,
      "outputs": [
        {
          "output_type": "execute_result",
          "data": {
            "text/plain": [
              "numpy.ndarray"
            ]
          },
          "metadata": {},
          "execution_count": 37
        }
      ]
    },
    {
      "cell_type": "code",
      "source": [
        "print(x_train.shape)\n",
        "print(Y_train_oh.shape)"
      ],
      "metadata": {
        "colab": {
          "base_uri": "https://localhost:8080/"
        },
        "id": "vo4NlVdUxOhn",
        "outputId": "aeb13bb2-8c85-4bd2-f1f0-abd4220a6c41"
      },
      "execution_count": null,
      "outputs": [
        {
          "output_type": "stream",
          "name": "stdout",
          "text": [
            "(81, 4538)\n",
            "(81, 2)\n"
          ]
        }
      ]
    },
    {
      "cell_type": "code",
      "source": [
        "hist = lstm.fit(x_train, Y_train_oh, epochs= 300, batch_size = 5, shuffle=True, verbose = 2)"
      ],
      "metadata": {
        "colab": {
          "base_uri": "https://localhost:8080/"
        },
        "id": "Lcw3OiWtxOm8",
        "outputId": "3ca3d7eb-5d4b-44fe-f510-26322162785f"
      },
      "execution_count": null,
      "outputs": [
        {
          "output_type": "stream",
          "name": "stdout",
          "text": [
            "Epoch 1/300\n",
            "17/17 - 16s - loss: 0.6921 - accuracy: 0.5062 - 16s/epoch - 953ms/step\n",
            "Epoch 2/300\n",
            "17/17 - 4s - loss: 0.6911 - accuracy: 0.5556 - 4s/epoch - 258ms/step\n",
            "Epoch 3/300\n",
            "17/17 - 6s - loss: 0.6869 - accuracy: 0.5432 - 6s/epoch - 327ms/step\n",
            "Epoch 4/300\n",
            "17/17 - 7s - loss: 0.6849 - accuracy: 0.5432 - 7s/epoch - 388ms/step\n",
            "Epoch 5/300\n",
            "17/17 - 7s - loss: 0.6841 - accuracy: 0.5309 - 7s/epoch - 400ms/step\n",
            "Epoch 6/300\n",
            "17/17 - 6s - loss: 0.6764 - accuracy: 0.5679 - 6s/epoch - 338ms/step\n",
            "Epoch 7/300\n",
            "17/17 - 6s - loss: 0.6741 - accuracy: 0.5679 - 6s/epoch - 352ms/step\n",
            "Epoch 8/300\n",
            "17/17 - 6s - loss: 0.6791 - accuracy: 0.5679 - 6s/epoch - 349ms/step\n",
            "Epoch 9/300\n",
            "17/17 - 5s - loss: 0.6708 - accuracy: 0.5679 - 5s/epoch - 282ms/step\n",
            "Epoch 10/300\n",
            "17/17 - 4s - loss: 0.6653 - accuracy: 0.5802 - 4s/epoch - 252ms/step\n",
            "Epoch 11/300\n",
            "17/17 - 5s - loss: 0.6676 - accuracy: 0.5802 - 5s/epoch - 295ms/step\n",
            "Epoch 12/300\n",
            "17/17 - 6s - loss: 0.6620 - accuracy: 0.5802 - 6s/epoch - 347ms/step\n",
            "Epoch 13/300\n",
            "17/17 - 6s - loss: 0.6541 - accuracy: 0.5926 - 6s/epoch - 329ms/step\n",
            "Epoch 14/300\n",
            "17/17 - 4s - loss: 0.6631 - accuracy: 0.6173 - 4s/epoch - 254ms/step\n",
            "Epoch 15/300\n",
            "17/17 - 4s - loss: 0.6613 - accuracy: 0.6049 - 4s/epoch - 254ms/step\n",
            "Epoch 16/300\n",
            "17/17 - 6s - loss: 0.6599 - accuracy: 0.6173 - 6s/epoch - 345ms/step\n",
            "Epoch 17/300\n",
            "17/17 - 6s - loss: 0.6607 - accuracy: 0.6296 - 6s/epoch - 382ms/step\n",
            "Epoch 18/300\n",
            "17/17 - 6s - loss: 0.6595 - accuracy: 0.6296 - 6s/epoch - 350ms/step\n",
            "Epoch 19/300\n",
            "17/17 - 5s - loss: 0.6574 - accuracy: 0.6296 - 5s/epoch - 267ms/step\n",
            "Epoch 20/300\n",
            "17/17 - 6s - loss: 0.6510 - accuracy: 0.6173 - 6s/epoch - 325ms/step\n",
            "Epoch 21/300\n",
            "17/17 - 6s - loss: 0.6529 - accuracy: 0.6173 - 6s/epoch - 348ms/step\n",
            "Epoch 22/300\n",
            "17/17 - 5s - loss: 0.6603 - accuracy: 0.5926 - 5s/epoch - 304ms/step\n",
            "Epoch 23/300\n",
            "17/17 - 4s - loss: 0.6495 - accuracy: 0.5802 - 4s/epoch - 256ms/step\n",
            "Epoch 24/300\n",
            "17/17 - 5s - loss: 0.6571 - accuracy: 0.6049 - 5s/epoch - 275ms/step\n",
            "Epoch 25/300\n",
            "17/17 - 6s - loss: 0.6457 - accuracy: 0.5926 - 6s/epoch - 345ms/step\n",
            "Epoch 26/300\n",
            "17/17 - 6s - loss: 0.6391 - accuracy: 0.6173 - 6s/epoch - 343ms/step\n",
            "Epoch 27/300\n",
            "17/17 - 4s - loss: 0.6480 - accuracy: 0.6173 - 4s/epoch - 260ms/step\n",
            "Epoch 28/300\n",
            "17/17 - 5s - loss: 0.6374 - accuracy: 0.6173 - 5s/epoch - 265ms/step\n",
            "Epoch 29/300\n",
            "17/17 - 7s - loss: 0.6477 - accuracy: 0.6049 - 7s/epoch - 400ms/step\n",
            "Epoch 30/300\n",
            "17/17 - 6s - loss: 0.6477 - accuracy: 0.6173 - 6s/epoch - 364ms/step\n",
            "Epoch 31/300\n",
            "17/17 - 5s - loss: 0.6423 - accuracy: 0.5926 - 5s/epoch - 311ms/step\n",
            "Epoch 32/300\n",
            "17/17 - 4s - loss: 0.6491 - accuracy: 0.5802 - 4s/epoch - 253ms/step\n",
            "Epoch 33/300\n",
            "17/17 - 4s - loss: 0.6392 - accuracy: 0.6049 - 4s/epoch - 257ms/step\n",
            "Epoch 34/300\n",
            "17/17 - 6s - loss: 0.6479 - accuracy: 0.5926 - 6s/epoch - 344ms/step\n",
            "Epoch 35/300\n",
            "17/17 - 6s - loss: 0.6353 - accuracy: 0.5926 - 6s/epoch - 342ms/step\n",
            "Epoch 36/300\n",
            "17/17 - 5s - loss: 0.6377 - accuracy: 0.5926 - 5s/epoch - 275ms/step\n",
            "Epoch 37/300\n",
            "17/17 - 4s - loss: 0.6354 - accuracy: 0.5926 - 4s/epoch - 254ms/step\n",
            "Epoch 38/300\n",
            "17/17 - 5s - loss: 0.6382 - accuracy: 0.5802 - 5s/epoch - 300ms/step\n",
            "Epoch 39/300\n",
            "17/17 - 6s - loss: 0.6327 - accuracy: 0.6420 - 6s/epoch - 342ms/step\n",
            "Epoch 40/300\n",
            "17/17 - 6s - loss: 0.6345 - accuracy: 0.6790 - 6s/epoch - 353ms/step\n",
            "Epoch 41/300\n",
            "17/17 - 6s - loss: 0.6345 - accuracy: 0.6049 - 6s/epoch - 346ms/step\n",
            "Epoch 42/300\n",
            "17/17 - 6s - loss: 0.6379 - accuracy: 0.6420 - 6s/epoch - 379ms/step\n",
            "Epoch 43/300\n",
            "17/17 - 7s - loss: 0.6274 - accuracy: 0.6914 - 7s/epoch - 408ms/step\n",
            "Epoch 44/300\n",
            "17/17 - 6s - loss: 0.6279 - accuracy: 0.6667 - 6s/epoch - 366ms/step\n",
            "Epoch 45/300\n",
            "17/17 - 5s - loss: 0.6351 - accuracy: 0.6420 - 5s/epoch - 281ms/step\n",
            "Epoch 46/300\n",
            "17/17 - 4s - loss: 0.6193 - accuracy: 0.6790 - 4s/epoch - 254ms/step\n",
            "Epoch 47/300\n",
            "17/17 - 6s - loss: 0.6270 - accuracy: 0.6667 - 6s/epoch - 343ms/step\n",
            "Epoch 48/300\n",
            "17/17 - 6s - loss: 0.6225 - accuracy: 0.6296 - 6s/epoch - 341ms/step\n",
            "Epoch 49/300\n",
            "17/17 - 5s - loss: 0.6165 - accuracy: 0.6296 - 5s/epoch - 276ms/step\n",
            "Epoch 50/300\n",
            "17/17 - 4s - loss: 0.6055 - accuracy: 0.6914 - 4s/epoch - 256ms/step\n",
            "Epoch 51/300\n",
            "17/17 - 5s - loss: 0.6041 - accuracy: 0.7901 - 5s/epoch - 295ms/step\n",
            "Epoch 52/300\n",
            "17/17 - 7s - loss: 0.6120 - accuracy: 0.7407 - 7s/epoch - 388ms/step\n",
            "Epoch 53/300\n",
            "17/17 - 6s - loss: 0.5901 - accuracy: 0.7284 - 6s/epoch - 355ms/step\n",
            "Epoch 54/300\n",
            "17/17 - 5s - loss: 0.6002 - accuracy: 0.7037 - 5s/epoch - 319ms/step\n",
            "Epoch 55/300\n",
            "17/17 - 5s - loss: 0.5985 - accuracy: 0.7778 - 5s/epoch - 286ms/step\n",
            "Epoch 56/300\n",
            "17/17 - 6s - loss: 0.5679 - accuracy: 0.7284 - 6s/epoch - 342ms/step\n",
            "Epoch 57/300\n",
            "17/17 - 6s - loss: 0.5896 - accuracy: 0.6296 - 6s/epoch - 335ms/step\n",
            "Epoch 58/300\n",
            "17/17 - 4s - loss: 0.5790 - accuracy: 0.6914 - 4s/epoch - 258ms/step\n",
            "Epoch 59/300\n",
            "17/17 - 4s - loss: 0.5491 - accuracy: 0.7160 - 4s/epoch - 256ms/step\n",
            "Epoch 60/300\n",
            "17/17 - 6s - loss: 0.5398 - accuracy: 0.7407 - 6s/epoch - 329ms/step\n",
            "Epoch 61/300\n",
            "17/17 - 6s - loss: 0.5296 - accuracy: 0.6914 - 6s/epoch - 347ms/step\n",
            "Epoch 62/300\n",
            "17/17 - 5s - loss: 0.5643 - accuracy: 0.6543 - 5s/epoch - 301ms/step\n",
            "Epoch 63/300\n",
            "17/17 - 4s - loss: 0.5225 - accuracy: 0.6790 - 4s/epoch - 253ms/step\n",
            "Epoch 64/300\n",
            "17/17 - 5s - loss: 0.5249 - accuracy: 0.7160 - 5s/epoch - 282ms/step\n",
            "Epoch 65/300\n",
            "17/17 - 6s - loss: 0.5271 - accuracy: 0.7160 - 6s/epoch - 367ms/step\n",
            "Epoch 66/300\n",
            "17/17 - 6s - loss: 0.5240 - accuracy: 0.7160 - 6s/epoch - 358ms/step\n",
            "Epoch 67/300\n",
            "17/17 - 5s - loss: 0.5023 - accuracy: 0.7407 - 5s/epoch - 310ms/step\n",
            "Epoch 68/300\n",
            "17/17 - 4s - loss: 0.4790 - accuracy: 0.7407 - 4s/epoch - 258ms/step\n",
            "Epoch 69/300\n",
            "17/17 - 5s - loss: 0.4999 - accuracy: 0.7284 - 5s/epoch - 277ms/step\n",
            "Epoch 70/300\n",
            "17/17 - 6s - loss: 0.4923 - accuracy: 0.7407 - 6s/epoch - 347ms/step\n",
            "Epoch 71/300\n",
            "17/17 - 6s - loss: 0.4718 - accuracy: 0.7654 - 6s/epoch - 351ms/step\n",
            "Epoch 72/300\n",
            "17/17 - 4s - loss: 0.4702 - accuracy: 0.7778 - 4s/epoch - 258ms/step\n",
            "Epoch 73/300\n",
            "17/17 - 4s - loss: 0.4714 - accuracy: 0.7407 - 4s/epoch - 256ms/step\n",
            "Epoch 74/300\n",
            "17/17 - 6s - loss: 0.4522 - accuracy: 0.7778 - 6s/epoch - 324ms/step\n",
            "Epoch 75/300\n",
            "17/17 - 6s - loss: 0.4715 - accuracy: 0.7407 - 6s/epoch - 351ms/step\n",
            "Epoch 76/300\n",
            "17/17 - 5s - loss: 0.4389 - accuracy: 0.7654 - 5s/epoch - 314ms/step\n",
            "Epoch 77/300\n",
            "17/17 - 6s - loss: 0.4340 - accuracy: 0.7901 - 6s/epoch - 355ms/step\n",
            "Epoch 78/300\n",
            "17/17 - 7s - loss: 0.4504 - accuracy: 0.7654 - 7s/epoch - 387ms/step\n",
            "Epoch 79/300\n",
            "17/17 - 6s - loss: 0.4551 - accuracy: 0.7531 - 6s/epoch - 356ms/step\n",
            "Epoch 80/300\n",
            "17/17 - 5s - loss: 0.4322 - accuracy: 0.7654 - 5s/epoch - 322ms/step\n",
            "Epoch 81/300\n",
            "17/17 - 4s - loss: 0.4509 - accuracy: 0.7778 - 4s/epoch - 256ms/step\n",
            "Epoch 82/300\n",
            "17/17 - 4s - loss: 0.4164 - accuracy: 0.7901 - 4s/epoch - 254ms/step\n",
            "Epoch 83/300\n",
            "17/17 - 6s - loss: 0.4166 - accuracy: 0.7778 - 6s/epoch - 349ms/step\n",
            "Epoch 84/300\n",
            "17/17 - 6s - loss: 0.4112 - accuracy: 0.7654 - 6s/epoch - 347ms/step\n",
            "Epoch 85/300\n",
            "17/17 - 5s - loss: 0.4050 - accuracy: 0.7531 - 5s/epoch - 280ms/step\n",
            "Epoch 86/300\n",
            "17/17 - 4s - loss: 0.4157 - accuracy: 0.7778 - 4s/epoch - 256ms/step\n",
            "Epoch 87/300\n",
            "17/17 - 5s - loss: 0.4155 - accuracy: 0.7778 - 5s/epoch - 298ms/step\n",
            "Epoch 88/300\n",
            "17/17 - 6s - loss: 0.4171 - accuracy: 0.7654 - 6s/epoch - 353ms/step\n",
            "Epoch 89/300\n",
            "17/17 - 7s - loss: 0.3788 - accuracy: 0.8025 - 7s/epoch - 386ms/step\n",
            "Epoch 90/300\n",
            "17/17 - 6s - loss: 0.4050 - accuracy: 0.7778 - 6s/epoch - 349ms/step\n",
            "Epoch 91/300\n",
            "17/17 - 6s - loss: 0.3872 - accuracy: 0.8272 - 6s/epoch - 338ms/step\n",
            "Epoch 92/300\n",
            "17/17 - 6s - loss: 0.3687 - accuracy: 0.8148 - 6s/epoch - 346ms/step\n",
            "Epoch 93/300\n",
            "17/17 - 5s - loss: 0.3971 - accuracy: 0.7654 - 5s/epoch - 317ms/step\n",
            "Epoch 94/300\n",
            "17/17 - 4s - loss: 0.3876 - accuracy: 0.8025 - 4s/epoch - 258ms/step\n",
            "Epoch 95/300\n",
            "17/17 - 4s - loss: 0.4197 - accuracy: 0.7778 - 4s/epoch - 257ms/step\n",
            "Epoch 96/300\n",
            "17/17 - 6s - loss: 0.3959 - accuracy: 0.7901 - 6s/epoch - 352ms/step\n",
            "Epoch 97/300\n",
            "17/17 - 6s - loss: 0.3660 - accuracy: 0.8519 - 6s/epoch - 351ms/step\n",
            "Epoch 98/300\n",
            "17/17 - 5s - loss: 0.3652 - accuracy: 0.8272 - 5s/epoch - 279ms/step\n",
            "Epoch 99/300\n",
            "17/17 - 4s - loss: 0.4065 - accuracy: 0.7778 - 4s/epoch - 254ms/step\n",
            "Epoch 100/300\n",
            "17/17 - 5s - loss: 0.3784 - accuracy: 0.8025 - 5s/epoch - 298ms/step\n",
            "Epoch 101/300\n",
            "17/17 - 6s - loss: 0.3682 - accuracy: 0.8272 - 6s/epoch - 345ms/step\n",
            "Epoch 102/300\n",
            "17/17 - 6s - loss: 0.3815 - accuracy: 0.7778 - 6s/epoch - 331ms/step\n",
            "Epoch 103/300\n",
            "17/17 - 6s - loss: 0.3772 - accuracy: 0.8395 - 6s/epoch - 345ms/step\n",
            "Epoch 104/300\n",
            "17/17 - 7s - loss: 0.3687 - accuracy: 0.7901 - 7s/epoch - 408ms/step\n",
            "Epoch 105/300\n",
            "17/17 - 7s - loss: 0.3873 - accuracy: 0.8395 - 7s/epoch - 391ms/step\n",
            "Epoch 106/300\n",
            "17/17 - 6s - loss: 0.3720 - accuracy: 0.7778 - 6s/epoch - 348ms/step\n",
            "Epoch 107/300\n",
            "17/17 - 4s - loss: 0.4165 - accuracy: 0.8025 - 4s/epoch - 261ms/step\n",
            "Epoch 108/300\n",
            "17/17 - 4s - loss: 0.3775 - accuracy: 0.7901 - 4s/epoch - 257ms/step\n",
            "Epoch 109/300\n",
            "17/17 - 5s - loss: 0.3889 - accuracy: 0.7901 - 5s/epoch - 322ms/step\n",
            "Epoch 110/300\n",
            "17/17 - 6s - loss: 0.3718 - accuracy: 0.8025 - 6s/epoch - 348ms/step\n",
            "Epoch 111/300\n",
            "17/17 - 5s - loss: 0.3598 - accuracy: 0.8148 - 5s/epoch - 310ms/step\n",
            "Epoch 112/300\n",
            "17/17 - 4s - loss: 0.3699 - accuracy: 0.8642 - 4s/epoch - 261ms/step\n",
            "Epoch 113/300\n",
            "17/17 - 5s - loss: 0.3506 - accuracy: 0.8395 - 5s/epoch - 271ms/step\n",
            "Epoch 114/300\n",
            "17/17 - 6s - loss: 0.3638 - accuracy: 0.8025 - 6s/epoch - 353ms/step\n",
            "Epoch 115/300\n",
            "17/17 - 7s - loss: 0.4280 - accuracy: 0.7654 - 7s/epoch - 388ms/step\n",
            "Epoch 116/300\n",
            "17/17 - 6s - loss: 0.3788 - accuracy: 0.8272 - 6s/epoch - 349ms/step\n",
            "Epoch 117/300\n",
            "17/17 - 5s - loss: 0.3709 - accuracy: 0.7901 - 5s/epoch - 306ms/step\n",
            "Epoch 118/300\n",
            "17/17 - 6s - loss: 0.3670 - accuracy: 0.8025 - 6s/epoch - 352ms/step\n",
            "Epoch 119/300\n",
            "17/17 - 6s - loss: 0.3637 - accuracy: 0.8519 - 6s/epoch - 350ms/step\n",
            "Epoch 120/300\n",
            "17/17 - 4s - loss: 0.3567 - accuracy: 0.8025 - 4s/epoch - 260ms/step\n",
            "Epoch 121/300\n",
            "17/17 - 4s - loss: 0.3580 - accuracy: 0.8395 - 4s/epoch - 252ms/step\n",
            "Epoch 122/300\n",
            "17/17 - 5s - loss: 0.3172 - accuracy: 0.8642 - 5s/epoch - 306ms/step\n",
            "Epoch 123/300\n",
            "17/17 - 6s - loss: 0.3682 - accuracy: 0.8395 - 6s/epoch - 342ms/step\n",
            "Epoch 124/300\n",
            "17/17 - 5s - loss: 0.3553 - accuracy: 0.8395 - 5s/epoch - 310ms/step\n",
            "Epoch 125/300\n",
            "17/17 - 4s - loss: 0.3584 - accuracy: 0.8148 - 4s/epoch - 253ms/step\n",
            "Epoch 126/300\n",
            "17/17 - 4s - loss: 0.4295 - accuracy: 0.7654 - 4s/epoch - 253ms/step\n",
            "Epoch 127/300\n",
            "17/17 - 6s - loss: 0.4301 - accuracy: 0.8519 - 6s/epoch - 374ms/step\n",
            "Epoch 128/300\n",
            "17/17 - 6s - loss: 0.4147 - accuracy: 0.7778 - 6s/epoch - 368ms/step\n",
            "Epoch 129/300\n",
            "17/17 - 6s - loss: 0.4110 - accuracy: 0.7901 - 6s/epoch - 335ms/step\n",
            "Epoch 130/300\n",
            "17/17 - 4s - loss: 0.3820 - accuracy: 0.8025 - 4s/epoch - 253ms/step\n",
            "Epoch 131/300\n",
            "17/17 - 5s - loss: 0.3479 - accuracy: 0.8272 - 5s/epoch - 304ms/step\n",
            "Epoch 132/300\n",
            "17/17 - 6s - loss: 0.3279 - accuracy: 0.8395 - 6s/epoch - 347ms/step\n",
            "Epoch 133/300\n",
            "17/17 - 6s - loss: 0.3192 - accuracy: 0.8642 - 6s/epoch - 325ms/step\n",
            "Epoch 134/300\n",
            "17/17 - 4s - loss: 0.3386 - accuracy: 0.8519 - 4s/epoch - 256ms/step\n",
            "Epoch 135/300\n",
            "17/17 - 4s - loss: 0.3481 - accuracy: 0.8272 - 4s/epoch - 255ms/step\n",
            "Epoch 136/300\n",
            "17/17 - 6s - loss: 0.3698 - accuracy: 0.8148 - 6s/epoch - 344ms/step\n",
            "Epoch 137/300\n",
            "17/17 - 6s - loss: 0.3230 - accuracy: 0.8519 - 6s/epoch - 343ms/step\n",
            "Epoch 138/300\n",
            "17/17 - 5s - loss: 0.3210 - accuracy: 0.8395 - 5s/epoch - 282ms/step\n",
            "Epoch 139/300\n",
            "17/17 - 5s - loss: 0.3392 - accuracy: 0.8642 - 5s/epoch - 283ms/step\n",
            "Epoch 140/300\n",
            "17/17 - 6s - loss: 0.3328 - accuracy: 0.8272 - 6s/epoch - 379ms/step\n",
            "Epoch 141/300\n",
            "17/17 - 6s - loss: 0.3216 - accuracy: 0.8395 - 6s/epoch - 371ms/step\n",
            "Epoch 142/300\n",
            "17/17 - 6s - loss: 0.3212 - accuracy: 0.8642 - 6s/epoch - 326ms/step\n",
            "Epoch 143/300\n",
            "17/17 - 4s - loss: 0.3223 - accuracy: 0.8272 - 4s/epoch - 257ms/step\n",
            "Epoch 144/300\n",
            "17/17 - 4s - loss: 0.3217 - accuracy: 0.8642 - 4s/epoch - 253ms/step\n",
            "Epoch 145/300\n",
            "17/17 - 6s - loss: 0.3538 - accuracy: 0.8395 - 6s/epoch - 341ms/step\n",
            "Epoch 146/300\n",
            "17/17 - 6s - loss: 0.3560 - accuracy: 0.8272 - 6s/epoch - 344ms/step\n",
            "Epoch 147/300\n",
            "17/17 - 5s - loss: 0.3113 - accuracy: 0.8765 - 5s/epoch - 287ms/step\n",
            "Epoch 148/300\n",
            "17/17 - 4s - loss: 0.3197 - accuracy: 0.8765 - 4s/epoch - 254ms/step\n",
            "Epoch 149/300\n",
            "17/17 - 5s - loss: 0.3192 - accuracy: 0.8395 - 5s/epoch - 289ms/step\n",
            "Epoch 150/300\n",
            "17/17 - 6s - loss: 0.3179 - accuracy: 0.8519 - 6s/epoch - 348ms/step\n",
            "Epoch 151/300\n",
            "17/17 - 6s - loss: 0.2967 - accuracy: 0.8889 - 6s/epoch - 339ms/step\n",
            "Epoch 152/300\n",
            "17/17 - 6s - loss: 0.2896 - accuracy: 0.8642 - 6s/epoch - 346ms/step\n",
            "Epoch 153/300\n",
            "17/17 - 6s - loss: 0.3148 - accuracy: 0.8889 - 6s/epoch - 378ms/step\n",
            "Epoch 154/300\n",
            "17/17 - 6s - loss: 0.2831 - accuracy: 0.9259 - 6s/epoch - 350ms/step\n",
            "Epoch 155/300\n",
            "17/17 - 6s - loss: 0.2994 - accuracy: 0.8765 - 6s/epoch - 335ms/step\n",
            "Epoch 156/300\n",
            "17/17 - 4s - loss: 0.3178 - accuracy: 0.8642 - 4s/epoch - 253ms/step\n",
            "Epoch 157/300\n",
            "17/17 - 4s - loss: 0.3029 - accuracy: 0.8395 - 4s/epoch - 257ms/step\n",
            "Epoch 158/300\n",
            "17/17 - 6s - loss: 0.3140 - accuracy: 0.8765 - 6s/epoch - 330ms/step\n",
            "Epoch 159/300\n",
            "17/17 - 6s - loss: 0.3269 - accuracy: 0.8519 - 6s/epoch - 350ms/step\n",
            "Epoch 160/300\n",
            "17/17 - 5s - loss: 0.3146 - accuracy: 0.8519 - 5s/epoch - 303ms/step\n",
            "Epoch 161/300\n",
            "17/17 - 4s - loss: 0.3127 - accuracy: 0.8889 - 4s/epoch - 257ms/step\n",
            "Epoch 162/300\n",
            "17/17 - 5s - loss: 0.3006 - accuracy: 0.9012 - 5s/epoch - 273ms/step\n",
            "Epoch 163/300\n",
            "17/17 - 6s - loss: 0.3105 - accuracy: 0.8519 - 6s/epoch - 357ms/step\n",
            "Epoch 164/300\n",
            "17/17 - 7s - loss: 0.3395 - accuracy: 0.8519 - 7s/epoch - 406ms/step\n",
            "Epoch 165/300\n",
            "17/17 - 6s - loss: 0.3328 - accuracy: 0.8519 - 6s/epoch - 342ms/step\n",
            "Epoch 166/300\n",
            "17/17 - 5s - loss: 0.3778 - accuracy: 0.8272 - 5s/epoch - 305ms/step\n",
            "Epoch 167/300\n",
            "17/17 - 6s - loss: 0.2947 - accuracy: 0.8889 - 6s/epoch - 363ms/step\n",
            "Epoch 168/300\n",
            "17/17 - 6s - loss: 0.3085 - accuracy: 0.8765 - 6s/epoch - 359ms/step\n",
            "Epoch 169/300\n",
            "17/17 - 5s - loss: 0.2709 - accuracy: 0.8889 - 5s/epoch - 308ms/step\n",
            "Epoch 170/300\n",
            "17/17 - 4s - loss: 0.2994 - accuracy: 0.8642 - 4s/epoch - 255ms/step\n",
            "Epoch 171/300\n",
            "17/17 - 5s - loss: 0.2894 - accuracy: 0.8642 - 5s/epoch - 297ms/step\n",
            "Epoch 172/300\n",
            "17/17 - 6s - loss: 0.2659 - accuracy: 0.8889 - 6s/epoch - 346ms/step\n",
            "Epoch 173/300\n",
            "17/17 - 6s - loss: 0.2802 - accuracy: 0.8642 - 6s/epoch - 333ms/step\n",
            "Epoch 174/300\n",
            "17/17 - 4s - loss: 0.2757 - accuracy: 0.8889 - 4s/epoch - 253ms/step\n",
            "Epoch 175/300\n",
            "17/17 - 5s - loss: 0.2550 - accuracy: 0.8889 - 5s/epoch - 287ms/step\n",
            "Epoch 176/300\n",
            "17/17 - 7s - loss: 0.2839 - accuracy: 0.8765 - 7s/epoch - 392ms/step\n",
            "Epoch 177/300\n",
            "17/17 - 6s - loss: 0.2918 - accuracy: 0.8519 - 6s/epoch - 368ms/step\n",
            "Epoch 178/300\n",
            "17/17 - 5s - loss: 0.3315 - accuracy: 0.8642 - 5s/epoch - 305ms/step\n",
            "Epoch 179/300\n",
            "17/17 - 4s - loss: 0.2974 - accuracy: 0.9012 - 4s/epoch - 256ms/step\n",
            "Epoch 180/300\n",
            "17/17 - 5s - loss: 0.2989 - accuracy: 0.8765 - 5s/epoch - 270ms/step\n",
            "Epoch 181/300\n",
            "17/17 - 6s - loss: 0.2611 - accuracy: 0.8765 - 6s/epoch - 346ms/step\n",
            "Epoch 182/300\n",
            "17/17 - 6s - loss: 0.2675 - accuracy: 0.8889 - 6s/epoch - 344ms/step\n",
            "Epoch 183/300\n",
            "17/17 - 4s - loss: 0.2845 - accuracy: 0.8642 - 4s/epoch - 263ms/step\n",
            "Epoch 184/300\n",
            "17/17 - 4s - loss: 0.2898 - accuracy: 0.8889 - 4s/epoch - 256ms/step\n",
            "Epoch 185/300\n",
            "17/17 - 5s - loss: 0.2791 - accuracy: 0.9012 - 5s/epoch - 316ms/step\n",
            "Epoch 186/300\n",
            "17/17 - 6s - loss: 0.2480 - accuracy: 0.9012 - 6s/epoch - 344ms/step\n",
            "Epoch 187/300\n",
            "17/17 - 5s - loss: 0.2384 - accuracy: 0.9136 - 5s/epoch - 311ms/step\n",
            "Epoch 188/300\n",
            "17/17 - 6s - loss: 0.2553 - accuracy: 0.8765 - 6s/epoch - 341ms/step\n",
            "Epoch 189/300\n",
            "17/17 - 6s - loss: 0.2468 - accuracy: 0.9012 - 6s/epoch - 379ms/step\n",
            "Epoch 190/300\n",
            "17/17 - 6s - loss: 0.2371 - accuracy: 0.8765 - 6s/epoch - 353ms/step\n",
            "Epoch 191/300\n",
            "17/17 - 6s - loss: 0.2181 - accuracy: 0.8889 - 6s/epoch - 327ms/step\n",
            "Epoch 192/300\n",
            "17/17 - 4s - loss: 0.2172 - accuracy: 0.9012 - 4s/epoch - 255ms/step\n",
            "Epoch 193/300\n",
            "17/17 - 4s - loss: 0.2052 - accuracy: 0.9136 - 4s/epoch - 255ms/step\n",
            "Epoch 194/300\n",
            "17/17 - 6s - loss: 0.2221 - accuracy: 0.8889 - 6s/epoch - 332ms/step\n",
            "Epoch 195/300\n",
            "17/17 - 6s - loss: 0.2240 - accuracy: 0.9012 - 6s/epoch - 346ms/step\n",
            "Epoch 196/300\n",
            "17/17 - 5s - loss: 0.2426 - accuracy: 0.9136 - 5s/epoch - 289ms/step\n",
            "Epoch 197/300\n",
            "17/17 - 4s - loss: 0.2419 - accuracy: 0.8642 - 4s/epoch - 258ms/step\n",
            "Epoch 198/300\n",
            "17/17 - 5s - loss: 0.3324 - accuracy: 0.8395 - 5s/epoch - 293ms/step\n",
            "Epoch 199/300\n",
            "17/17 - 6s - loss: 0.2731 - accuracy: 0.8765 - 6s/epoch - 352ms/step\n",
            "Epoch 200/300\n",
            "17/17 - 7s - loss: 0.2153 - accuracy: 0.9259 - 7s/epoch - 404ms/step\n",
            "Epoch 201/300\n",
            "17/17 - 6s - loss: 0.3444 - accuracy: 0.8395 - 6s/epoch - 343ms/step\n",
            "Epoch 202/300\n",
            "17/17 - 6s - loss: 0.2629 - accuracy: 0.8765 - 6s/epoch - 336ms/step\n",
            "Epoch 203/300\n",
            "17/17 - 6s - loss: 0.2426 - accuracy: 0.9012 - 6s/epoch - 346ms/step\n",
            "Epoch 204/300\n",
            "17/17 - 6s - loss: 0.1941 - accuracy: 0.9136 - 6s/epoch - 326ms/step\n",
            "Epoch 205/300\n",
            "17/17 - 4s - loss: 0.2668 - accuracy: 0.8889 - 4s/epoch - 258ms/step\n",
            "Epoch 206/300\n",
            "17/17 - 4s - loss: 0.2395 - accuracy: 0.9012 - 4s/epoch - 255ms/step\n",
            "Epoch 207/300\n",
            "17/17 - 6s - loss: 0.2554 - accuracy: 0.9012 - 6s/epoch - 348ms/step\n",
            "Epoch 208/300\n",
            "17/17 - 6s - loss: 0.2046 - accuracy: 0.9136 - 6s/epoch - 348ms/step\n",
            "Epoch 209/300\n",
            "17/17 - 5s - loss: 0.2139 - accuracy: 0.9012 - 5s/epoch - 284ms/step\n",
            "Epoch 210/300\n",
            "17/17 - 4s - loss: 0.2476 - accuracy: 0.8642 - 4s/epoch - 256ms/step\n",
            "Epoch 211/300\n",
            "17/17 - 6s - loss: 0.2314 - accuracy: 0.9012 - 6s/epoch - 329ms/step\n",
            "Epoch 212/300\n",
            "17/17 - 6s - loss: 0.1763 - accuracy: 0.9259 - 6s/epoch - 379ms/step\n",
            "Epoch 213/300\n",
            "17/17 - 6s - loss: 0.2363 - accuracy: 0.8889 - 6s/epoch - 372ms/step\n",
            "Epoch 214/300\n",
            "17/17 - 5s - loss: 0.2118 - accuracy: 0.9136 - 5s/epoch - 270ms/step\n",
            "Epoch 215/300\n",
            "17/17 - 4s - loss: 0.2011 - accuracy: 0.9259 - 4s/epoch - 254ms/step\n",
            "Epoch 216/300\n",
            "17/17 - 6s - loss: 0.2050 - accuracy: 0.9136 - 6s/epoch - 324ms/step\n",
            "Epoch 217/300\n",
            "17/17 - 6s - loss: 0.1966 - accuracy: 0.9383 - 6s/epoch - 352ms/step\n",
            "Epoch 218/300\n",
            "17/17 - 5s - loss: 0.1997 - accuracy: 0.9136 - 5s/epoch - 308ms/step\n",
            "Epoch 219/300\n",
            "17/17 - 4s - loss: 0.1939 - accuracy: 0.9012 - 4s/epoch - 256ms/step\n",
            "Epoch 220/300\n",
            "17/17 - 5s - loss: 0.2086 - accuracy: 0.8889 - 5s/epoch - 278ms/step\n",
            "Epoch 221/300\n",
            "17/17 - 6s - loss: 0.2638 - accuracy: 0.8642 - 6s/epoch - 349ms/step\n",
            "Epoch 222/300\n",
            "17/17 - 6s - loss: 0.1927 - accuracy: 0.9259 - 6s/epoch - 346ms/step\n",
            "Epoch 223/300\n",
            "17/17 - 5s - loss: 0.2152 - accuracy: 0.9259 - 5s/epoch - 316ms/step\n",
            "Epoch 224/300\n",
            "17/17 - 6s - loss: 0.2226 - accuracy: 0.8889 - 6s/epoch - 348ms/step\n",
            "Epoch 225/300\n",
            "17/17 - 7s - loss: 0.1911 - accuracy: 0.9259 - 7s/epoch - 390ms/step\n",
            "Epoch 226/300\n",
            "17/17 - 6s - loss: 0.2131 - accuracy: 0.9136 - 6s/epoch - 364ms/step\n",
            "Epoch 227/300\n",
            "17/17 - 6s - loss: 0.1961 - accuracy: 0.9012 - 6s/epoch - 361ms/step\n",
            "Epoch 228/300\n",
            "17/17 - 6s - loss: 0.1627 - accuracy: 0.9383 - 6s/epoch - 362ms/step\n",
            "Epoch 229/300\n",
            "17/17 - 6s - loss: 0.1937 - accuracy: 0.9012 - 6s/epoch - 355ms/step\n",
            "Epoch 230/300\n",
            "17/17 - 6s - loss: 0.1564 - accuracy: 0.9259 - 6s/epoch - 349ms/step\n",
            "Epoch 231/300\n",
            "17/17 - 5s - loss: 0.1707 - accuracy: 0.9259 - 5s/epoch - 268ms/step\n",
            "Epoch 232/300\n",
            "17/17 - 4s - loss: 0.1427 - accuracy: 0.9506 - 4s/epoch - 259ms/step\n",
            "Epoch 233/300\n",
            "17/17 - 5s - loss: 0.1324 - accuracy: 0.9506 - 5s/epoch - 313ms/step\n",
            "Epoch 234/300\n",
            "17/17 - 6s - loss: 0.1669 - accuracy: 0.9506 - 6s/epoch - 368ms/step\n",
            "Epoch 235/300\n",
            "17/17 - 6s - loss: 0.1660 - accuracy: 0.9136 - 6s/epoch - 372ms/step\n",
            "Epoch 236/300\n",
            "17/17 - 6s - loss: 0.1611 - accuracy: 0.9383 - 6s/epoch - 341ms/step\n",
            "Epoch 237/300\n",
            "17/17 - 5s - loss: 0.1941 - accuracy: 0.9259 - 5s/epoch - 321ms/step\n",
            "Epoch 238/300\n",
            "17/17 - 6s - loss: 0.1651 - accuracy: 0.9383 - 6s/epoch - 345ms/step\n",
            "Epoch 239/300\n",
            "17/17 - 5s - loss: 0.1520 - accuracy: 0.9506 - 5s/epoch - 310ms/step\n",
            "Epoch 240/300\n",
            "17/17 - 4s - loss: 0.1733 - accuracy: 0.9136 - 4s/epoch - 257ms/step\n",
            "Epoch 241/300\n",
            "17/17 - 5s - loss: 0.2534 - accuracy: 0.8889 - 5s/epoch - 275ms/step\n",
            "Epoch 242/300\n",
            "17/17 - 6s - loss: 0.2199 - accuracy: 0.9012 - 6s/epoch - 352ms/step\n",
            "Epoch 243/300\n",
            "17/17 - 6s - loss: 0.1594 - accuracy: 0.9259 - 6s/epoch - 353ms/step\n",
            "Epoch 244/300\n",
            "17/17 - 4s - loss: 0.1788 - accuracy: 0.9012 - 4s/epoch - 261ms/step\n",
            "Epoch 245/300\n",
            "17/17 - 4s - loss: 0.1393 - accuracy: 0.9506 - 4s/epoch - 258ms/step\n",
            "Epoch 246/300\n",
            "17/17 - 6s - loss: 0.1644 - accuracy: 0.9136 - 6s/epoch - 378ms/step\n",
            "Epoch 247/300\n",
            "17/17 - 7s - loss: 0.1494 - accuracy: 0.9506 - 7s/epoch - 383ms/step\n",
            "Epoch 248/300\n",
            "17/17 - 6s - loss: 0.1400 - accuracy: 0.9383 - 6s/epoch - 335ms/step\n",
            "Epoch 249/300\n",
            "17/17 - 4s - loss: 0.1293 - accuracy: 0.9506 - 4s/epoch - 259ms/step\n",
            "Epoch 250/300\n",
            "17/17 - 4s - loss: 0.1613 - accuracy: 0.9383 - 4s/epoch - 256ms/step\n",
            "Epoch 251/300\n",
            "17/17 - 6s - loss: 0.1715 - accuracy: 0.9012 - 6s/epoch - 343ms/step\n",
            "Epoch 252/300\n",
            "17/17 - 6s - loss: 0.1514 - accuracy: 0.9259 - 6s/epoch - 353ms/step\n",
            "Epoch 253/300\n",
            "17/17 - 5s - loss: 0.1280 - accuracy: 0.9506 - 5s/epoch - 281ms/step\n",
            "Epoch 254/300\n",
            "17/17 - 4s - loss: 0.1049 - accuracy: 0.9506 - 4s/epoch - 256ms/step\n",
            "Epoch 255/300\n",
            "17/17 - 5s - loss: 0.1252 - accuracy: 0.9506 - 5s/epoch - 294ms/step\n",
            "Epoch 256/300\n",
            "17/17 - 6s - loss: 0.1276 - accuracy: 0.9383 - 6s/epoch - 344ms/step\n",
            "Epoch 257/300\n",
            "17/17 - 6s - loss: 0.1611 - accuracy: 0.9136 - 6s/epoch - 355ms/step\n",
            "Epoch 258/300\n",
            "17/17 - 6s - loss: 0.1396 - accuracy: 0.9383 - 6s/epoch - 349ms/step\n",
            "Epoch 259/300\n",
            "17/17 - 6s - loss: 0.1458 - accuracy: 0.9259 - 6s/epoch - 375ms/step\n",
            "Epoch 260/300\n",
            "17/17 - 6s - loss: 0.1448 - accuracy: 0.9136 - 6s/epoch - 350ms/step\n",
            "Epoch 261/300\n",
            "17/17 - 6s - loss: 0.1151 - accuracy: 0.9506 - 6s/epoch - 329ms/step\n",
            "Epoch 262/300\n",
            "17/17 - 4s - loss: 0.0913 - accuracy: 0.9630 - 4s/epoch - 255ms/step\n",
            "Epoch 263/300\n",
            "17/17 - 4s - loss: 0.0957 - accuracy: 0.9630 - 4s/epoch - 255ms/step\n",
            "Epoch 264/300\n",
            "17/17 - 6s - loss: 0.1443 - accuracy: 0.9259 - 6s/epoch - 335ms/step\n",
            "Epoch 265/300\n",
            "17/17 - 6s - loss: 0.1347 - accuracy: 0.9383 - 6s/epoch - 346ms/step\n",
            "Epoch 266/300\n",
            "17/17 - 5s - loss: 0.1200 - accuracy: 0.9753 - 5s/epoch - 291ms/step\n",
            "Epoch 267/300\n",
            "17/17 - 4s - loss: 0.1688 - accuracy: 0.9259 - 4s/epoch - 256ms/step\n",
            "Epoch 268/300\n",
            "17/17 - 5s - loss: 0.1208 - accuracy: 0.9383 - 5s/epoch - 288ms/step\n",
            "Epoch 269/300\n",
            "17/17 - 7s - loss: 0.1328 - accuracy: 0.9506 - 7s/epoch - 394ms/step\n",
            "Epoch 270/300\n",
            "17/17 - 6s - loss: 0.1298 - accuracy: 0.9383 - 6s/epoch - 370ms/step\n",
            "Epoch 271/300\n",
            "17/17 - 6s - loss: 0.1007 - accuracy: 0.9630 - 6s/epoch - 330ms/step\n",
            "Epoch 272/300\n",
            "17/17 - 5s - loss: 0.0861 - accuracy: 0.9877 - 5s/epoch - 287ms/step\n",
            "Epoch 273/300\n",
            "17/17 - 6s - loss: 0.0767 - accuracy: 0.9877 - 6s/epoch - 350ms/step\n",
            "Epoch 274/300\n",
            "17/17 - 6s - loss: 0.0803 - accuracy: 0.9630 - 6s/epoch - 344ms/step\n",
            "Epoch 275/300\n",
            "17/17 - 4s - loss: 0.4292 - accuracy: 0.8765 - 4s/epoch - 257ms/step\n",
            "Epoch 276/300\n",
            "17/17 - 4s - loss: 0.5031 - accuracy: 0.8519 - 4s/epoch - 255ms/step\n",
            "Epoch 277/300\n",
            "17/17 - 6s - loss: 0.3944 - accuracy: 0.8642 - 6s/epoch - 331ms/step\n",
            "Epoch 278/300\n",
            "17/17 - 6s - loss: 0.3417 - accuracy: 0.9012 - 6s/epoch - 345ms/step\n",
            "Epoch 279/300\n",
            "17/17 - 5s - loss: 0.2218 - accuracy: 0.8889 - 5s/epoch - 299ms/step\n",
            "Epoch 280/300\n",
            "17/17 - 5s - loss: 0.4099 - accuracy: 0.8272 - 5s/epoch - 271ms/step\n",
            "Epoch 281/300\n",
            "17/17 - 6s - loss: 0.2779 - accuracy: 0.8889 - 6s/epoch - 371ms/step\n",
            "Epoch 282/300\n",
            "17/17 - 6s - loss: 0.1371 - accuracy: 0.9383 - 6s/epoch - 362ms/step\n",
            "Epoch 283/300\n",
            "17/17 - 6s - loss: 0.1594 - accuracy: 0.9506 - 6s/epoch - 335ms/step\n",
            "Epoch 284/300\n",
            "17/17 - 4s - loss: 0.1196 - accuracy: 0.9506 - 4s/epoch - 254ms/step\n",
            "Epoch 285/300\n",
            "17/17 - 6s - loss: 0.1260 - accuracy: 0.9259 - 6s/epoch - 344ms/step\n",
            "Epoch 286/300\n",
            "17/17 - 7s - loss: 0.1009 - accuracy: 0.9630 - 7s/epoch - 399ms/step\n",
            "Epoch 287/300\n",
            "17/17 - 6s - loss: 0.0983 - accuracy: 0.9630 - 6s/epoch - 350ms/step\n",
            "Epoch 288/300\n",
            "17/17 - 5s - loss: 0.1041 - accuracy: 0.9630 - 5s/epoch - 273ms/step\n",
            "Epoch 289/300\n",
            "17/17 - 4s - loss: 0.0893 - accuracy: 0.9506 - 4s/epoch - 254ms/step\n",
            "Epoch 290/300\n",
            "17/17 - 5s - loss: 0.0712 - accuracy: 0.9753 - 5s/epoch - 299ms/step\n",
            "Epoch 291/300\n",
            "17/17 - 6s - loss: 0.0791 - accuracy: 0.9877 - 6s/epoch - 353ms/step\n",
            "Epoch 292/300\n",
            "17/17 - 7s - loss: 0.0617 - accuracy: 1.0000 - 7s/epoch - 398ms/step\n",
            "Epoch 293/300\n",
            "17/17 - 6s - loss: 0.0953 - accuracy: 0.9753 - 6s/epoch - 345ms/step\n",
            "Epoch 294/300\n",
            "17/17 - 6s - loss: 0.0592 - accuracy: 0.9877 - 6s/epoch - 355ms/step\n",
            "Epoch 295/300\n",
            "17/17 - 6s - loss: 0.0788 - accuracy: 0.9753 - 6s/epoch - 348ms/step\n",
            "Epoch 296/300\n",
            "17/17 - 5s - loss: 0.0668 - accuracy: 0.9753 - 5s/epoch - 313ms/step\n",
            "Epoch 297/300\n",
            "17/17 - 4s - loss: 0.0679 - accuracy: 0.9877 - 4s/epoch - 255ms/step\n",
            "Epoch 298/300\n",
            "17/17 - 4s - loss: 0.0887 - accuracy: 0.9877 - 4s/epoch - 262ms/step\n",
            "Epoch 299/300\n",
            "17/17 - 6s - loss: 0.0504 - accuracy: 1.0000 - 6s/epoch - 352ms/step\n",
            "Epoch 300/300\n",
            "17/17 - 6s - loss: 0.0660 - accuracy: 0.9753 - 6s/epoch - 351ms/step\n"
          ]
        }
      ]
    },
    {
      "cell_type": "code",
      "source": [
        "# Y_test_oh = tf.one_hot(y_test.to_numpy(), 2)\n",
        "Y_test_oh = convert_to_one_hot((y_test.to_numpy()).astype(int),2)"
      ],
      "metadata": {
        "id": "wkXkDjiExOuV"
      },
      "execution_count": null,
      "outputs": []
    },
    {
      "cell_type": "code",
      "source": [
        "lstm.evaluate(x_test,Y_test_oh,batch_size=5)"
      ],
      "metadata": {
        "colab": {
          "base_uri": "https://localhost:8080/"
        },
        "id": "pNDxOiX14mbF",
        "outputId": "ecf1202c-997e-45ed-8bb2-556749b45e59"
      },
      "execution_count": null,
      "outputs": [
        {
          "output_type": "stream",
          "name": "stdout",
          "text": [
            "5/5 [==============================] - 2s 163ms/step - loss: 0.9863 - accuracy: 0.7619\n"
          ]
        },
        {
          "output_type": "execute_result",
          "data": {
            "text/plain": [
              "[0.9862530827522278, 0.761904776096344]"
            ]
          },
          "metadata": {},
          "execution_count": 42
        }
      ]
    },
    {
      "cell_type": "code",
      "source": [
        "lstm.save(\"Gwo&Jaya_lstm.h5\")"
      ],
      "metadata": {
        "id": "7A-1i4g74tH2"
      },
      "execution_count": null,
      "outputs": []
    },
    {
      "cell_type": "markdown",
      "metadata": {
        "id": "Kvf3Lka_kcf9"
      },
      "source": [
        "<a name=PSO></a>\n",
        "# PSO(Particle Swarm Optimization)"
      ]
    },
    {
      "cell_type": "code",
      "execution_count": null,
      "metadata": {
        "id": "h2H0yW9Ml2Gw"
      },
      "outputs": [],
      "source": [
        "class SVMFeatureSelection(Problem):\n",
        "    def __init__(self, X_train, y_train, alpha=0.99):\n",
        "        super().__init__(dimension=X_train.shape[1], lower=0, upper=1)\n",
        "        self.X_train = X_train\n",
        "        self.y_train = y_train\n",
        "        self.alpha = alpha\n",
        "\n",
        "    def _evaluate(self, x):\n",
        "        selected = x > 0.5\n",
        "        num_selected = selected.sum()\n",
        "        if num_selected == 0:\n",
        "            return 1.0\n",
        "        accuracy = cross_val_score(SVC(), self.X_train[:, selected], self.y_train, cv=2, n_jobs=-1).mean()\n",
        "        score = 1 - accuracy\n",
        "        num_features = self.X_train.shape[1]\n",
        "        return self.alpha * score + (1 - self.alpha) * (num_selected / num_features)"
      ]
    },
    {
      "cell_type": "code",
      "execution_count": null,
      "metadata": {
        "colab": {
          "base_uri": "https://localhost:8080/"
        },
        "id": "3QtpwRVtmHpt",
        "outputId": "70405a6a-51a9-454b-b972-72cf6ca42080"
      },
      "outputs": [
        {
          "name": "stdout",
          "output_type": "stream",
          "text": [
            "x_train shape:  (455, 30)\n",
            "y_train shape:  (455,)\n"
          ]
        },
        {
          "data": {
            "text/plain": [
              "Index(['radius_mean', 'texture_mean', 'perimeter_mean', 'area_mean',\n",
              "       'smoothness_mean', 'compactness_mean', 'concavity_mean',\n",
              "       'concave points_mean', 'symmetry_mean', 'fractal_dimension_mean',\n",
              "       'radius_se', 'texture_se', 'perimeter_se', 'area_se', 'smoothness_se',\n",
              "       'compactness_se', 'concavity_se', 'concave points_se', 'symmetry_se',\n",
              "       'fractal_dimension_se', 'radius_worst', 'texture_worst',\n",
              "       'perimeter_worst', 'area_worst', 'smoothness_worst',\n",
              "       'compactness_worst', 'concavity_worst', 'concave points_worst',\n",
              "       'symmetry_worst', 'fractal_dimension_worst'],\n",
              "      dtype='object')"
            ]
          },
          "execution_count": 53,
          "metadata": {},
          "output_type": "execute_result"
        }
      ],
      "source": [
        "from sklearn.model_selection import train_test_split\n",
        "X_train, X_test, y_train, y_test = train_test_split(x, y, test_size = 0.2, random_state = 101)\n",
        "X_train = X_train.to_numpy()\n",
        "X_test = X_test.to_numpy()\n",
        "\n",
        "print(\"x_train shape: \", X_train.shape)\n",
        "print(\"y_train shape: \", y_train.shape)\n",
        "feature_names = x.columns\n",
        "feature_names"
      ]
    },
    {
      "cell_type": "code",
      "execution_count": null,
      "metadata": {
        "id": "HVSfRzDymTBO"
      },
      "outputs": [],
      "source": [
        "problem = SVMFeatureSelection(X_train, y_train)\n",
        "task = Task(problem, max_iters=100)\n",
        "algorithm = ParticleSwarmOptimization(population_size=10, seed=101)\n",
        "best_features, best_fitness = algorithm.run(task)"
      ]
    },
    {
      "cell_type": "code",
      "execution_count": null,
      "metadata": {
        "colab": {
          "base_uri": "https://localhost:8080/"
        },
        "id": "e6IcsLkYmXcR",
        "outputId": "096ffa19-e86e-4500-9c8a-2b5ecd5cdf32"
      },
      "outputs": [
        {
          "name": "stdout",
          "output_type": "stream",
          "text": [
            "Number of selected features: 10\n",
            "Selected features: radius_mean, smoothness_mean, concavity_mean, area_se, compactness_se, concavity_se, concave points_se, texture_worst, perimeter_worst, concave points_worst\n"
          ]
        }
      ],
      "source": [
        "selected_features = best_features > 0.5\n",
        "print('Number of selected features:', selected_features.sum())\n",
        "print('Selected features:', ', '.join(feature_names[selected_features].tolist()))"
      ]
    },
    {
      "cell_type": "code",
      "execution_count": null,
      "metadata": {
        "colab": {
          "base_uri": "https://localhost:8080/",
          "height": 710
        },
        "id": "D3ZIgwjrmq_b",
        "outputId": "6a6dd9d0-e133-4737-c9bf-8a115c31787d"
      },
      "outputs": [
        {
          "data": {
            "text/plain": [
              "<AxesSubplot: >"
            ]
          },
          "execution_count": 56,
          "metadata": {},
          "output_type": "execute_result"
        },
        {
          "data": {
            "image/png": "[encoded data removed]",
            "text/plain": [
              "<Figure size 1200x1000 with 2 Axes>"
            ]
          },
          "metadata": {},
          "output_type": "display_data"
        }
      ],
      "source": [
        "# Co-relation matrix\n",
        "new_x = data[feature_names[selected_features]]\n",
        "cor = new_x.corr()\n",
        "plt.figure(figsize=(12,10))\n",
        "sns.heatmap(cor)"
      ]
    },
    {
      "cell_type": "markdown",
      "metadata": {
        "id": "0nZ8RyWKsYAS"
      },
      "source": [
        "<a name=PC></a>\n",
        "## Classification"
      ]
    },
    {
      "cell_type": "markdown",
      "metadata": {
        "id": "LcDdaOSlm2HT"
      },
      "source": [
        "## SVC"
      ]
    },
    {
      "cell_type": "code",
      "execution_count": null,
      "metadata": {
        "colab": {
          "base_uri": "https://localhost:8080/",
          "height": 594
        },
        "id": "t_2r08hlmy7W",
        "outputId": "888f5f0a-925c-4dae-db48-fdd96bfb3db5"
      },
      "outputs": [
        {
          "name": "stdout",
          "output_type": "stream",
          "text": [
            "Model accuracy: 0.9736842105263158\n",
            "[[72  0]\n",
            " [ 3 39]]\n",
            "\n",
            "\n",
            "              precision    recall  f1-score   support\n",
            "\n",
            "           0       0.96      1.00      0.98        72\n",
            "           1       1.00      0.93      0.96        42\n",
            "\n",
            "    accuracy                           0.97       114\n",
            "   macro avg       0.98      0.96      0.97       114\n",
            "weighted avg       0.97      0.97      0.97       114\n",
            "\n"
          ]
        },
        {
          "name": "stderr",
          "output_type": "stream",
          "text": [
            "/home/shadowdude/dude/lib/python3.10/site-packages/sklearn/utils/deprecation.py:87: FutureWarning:\n",
            "\n",
            "Function plot_confusion_matrix is deprecated; Function `plot_confusion_matrix` is deprecated in 1.0 and will be removed in 1.2. Use one of the class methods: ConfusionMatrixDisplay.from_predictions or ConfusionMatrixDisplay.from_estimator.\n",
            "\n"
          ]
        },
        {
          "data": {
            "text/plain": [
              "<sklearn.metrics._plot.confusion_matrix.ConfusionMatrixDisplay at 0x7faa6b462da0>"
            ]
          },
          "execution_count": 57,
          "metadata": {},
          "output_type": "execute_result"
        },
        {
          "data": {
            "image/png": "[encoded data removed]",
            "text/plain": [
              "<Figure size 640x480 with 2 Axes>"
            ]
          },
          "metadata": {},
          "output_type": "display_data"
        }
      ],
      "source": [
        "model = SVC()\n",
        "X_train = sc.fit_transform(X_train[:, selected_features])\n",
        "X_test = sc.transform(X_test[:, selected_features])\n",
        "model.fit(X_train, y_train)\n",
        "print('Model accuracy:', model.score(X_test, y_test))\n",
        "\n",
        "# plot confusion matrix\n",
        "model_pred = model.predict(X_test)\n",
        "print(confusion_matrix(y_test,model_pred))\n",
        "print('\\n')\n",
        "print(classification_report(y_test,model_pred))\n",
        "plot_confusion_matrix(model, X_test, y_test)\n"
      ]
    },
    {
      "cell_type": "code",
      "execution_count": null,
      "metadata": {
        "colab": {
          "base_uri": "https://localhost:8080/"
        },
        "id": "N88a2X5GnWH2",
        "outputId": "1a6188e4-1d97-4f4e-f259-44d17a1b053e"
      },
      "outputs": [
        {
          "name": "stdout",
          "output_type": "stream",
          "text": [
            "precision :  1.0 \n",
            " recall : 0.96 \n",
            " f1_score : 0.9795918367346939\n",
            "\n",
            "\n",
            "for fold: 2, accuracy is: 0.9261860637509266\n",
            "for fold: 3, accuracy is: 0.9297131718184349\n",
            "for fold: 4, accuracy is: 0.9297128927410617\n",
            "for fold: 5, accuracy is: 0.9279925477410339\n",
            "for fold: 6, accuracy is: 0.9332586786114221\n",
            "for fold: 7, accuracy is: 0.9367445261754205\n",
            "for fold: 8, accuracy is: 0.9332208528951487\n",
            "for fold: 9, accuracy is: 0.9332837301587301\n",
            "for fold: 10, accuracy is: 0.9349937343358397\n",
            "Best fit\n",
            "7 gives accuracy of 0.9367445261754205\n"
          ]
        }
      ],
      "source": [
        "# Calculate all\n",
        "model_pred = model.predict(X_test)\n",
        "precision,recall,f1_score = evaluate_fn(y_test, model_pred)  # takes y_test and model pred\n",
        "print(\"precision : \",precision,'\\n',\"recall :\",recall,'\\n',\"f1_score :\",f1_score)\n",
        "print(\"\\n\")\n",
        "#K-fold\n",
        "acc = k_evaluate(10,model, x[feature_names[selected_features]], y)  # here k 10"
      ]
    },
    {
      "cell_type": "markdown",
      "metadata": {
        "id": "VR38n_NPnxau"
      },
      "source": [
        "### LDA"
      ]
    },
    {
      "cell_type": "code",
      "execution_count": null,
      "metadata": {
        "colab": {
          "base_uri": "https://localhost:8080/",
          "height": 594
        },
        "id": "UOTtazAHnw84",
        "outputId": "d24f5a6b-af10-4969-f200-4f49e3531482"
      },
      "outputs": [
        {
          "name": "stdout",
          "output_type": "stream",
          "text": [
            "Subset accuracy: 0.956140350877193\n",
            "[[72  0]\n",
            " [ 5 37]]\n",
            "\n",
            "\n",
            "              precision    recall  f1-score   support\n",
            "\n",
            "           0       0.94      1.00      0.97        72\n",
            "           1       1.00      0.88      0.94        42\n",
            "\n",
            "    accuracy                           0.96       114\n",
            "   macro avg       0.97      0.94      0.95       114\n",
            "weighted avg       0.96      0.96      0.96       114\n",
            "\n"
          ]
        },
        {
          "name": "stderr",
          "output_type": "stream",
          "text": [
            "/home/shadowdude/dude/lib/python3.10/site-packages/sklearn/utils/deprecation.py:87: FutureWarning:\n",
            "\n",
            "Function plot_confusion_matrix is deprecated; Function `plot_confusion_matrix` is deprecated in 1.0 and will be removed in 1.2. Use one of the class methods: ConfusionMatrixDisplay.from_predictions or ConfusionMatrixDisplay.from_estimator.\n",
            "\n"
          ]
        },
        {
          "data": {
            "text/plain": [
              "<sklearn.metrics._plot.confusion_matrix.ConfusionMatrixDisplay at 0x7faa6b5ad8d0>"
            ]
          },
          "execution_count": 59,
          "metadata": {},
          "output_type": "execute_result"
        },
        {
          "data": {
            "image/png": "[encoded data removed]",
            "text/plain": [
              "<Figure size 640x480 with 2 Axes>"
            ]
          },
          "metadata": {},
          "output_type": "display_data"
        }
      ],
      "source": [
        "lda = LinearDiscriminantAnalysis()\n",
        "\n",
        "lda.fit(X_train, y_train)\n",
        "print('Subset accuracy:', lda.score(X_test, y_test))\n",
        "\n",
        "# plot confusion matrix\n",
        "model_pred = lda.predict(X_test)\n",
        "print(confusion_matrix(y_test,model_pred))\n",
        "print('\\n')\n",
        "print(classification_report(y_test,model_pred))\n",
        "plot_confusion_matrix(lda, X_test, y_test)\n"
      ]
    },
    {
      "cell_type": "code",
      "execution_count": null,
      "metadata": {
        "colab": {
          "base_uri": "https://localhost:8080/"
        },
        "id": "oUHEHSlGokk_",
        "outputId": "d37a4a44-45d8-477d-c6cb-f813fd90bf25"
      },
      "outputs": [
        {
          "name": "stdout",
          "output_type": "stream",
          "text": [
            "precision :  1.0 \n",
            " recall : 0.935064935064935 \n",
            " f1_score : 0.9664429530201343\n",
            "\n",
            "\n",
            "for fold: 2, accuracy is: 0.9543365455893255\n",
            "for fold: 3, accuracy is: 0.952548036758563\n",
            "for fold: 4, accuracy is: 0.9525632817886339\n",
            "for fold: 5, accuracy is: 0.9472752678155567\n",
            "for fold: 6, accuracy is: 0.9490481522956328\n",
            "for fold: 7, accuracy is: 0.9491117133393555\n",
            "for fold: 8, accuracy is: 0.9543231611893583\n",
            "for fold: 9, accuracy is: 0.9543375220458553\n",
            "for fold: 10, accuracy is: 0.9578320802005011\n",
            "Best fit\n",
            "10 gives accuracy of 0.9578320802005011\n"
          ]
        }
      ],
      "source": [
        "# Calculate all\n",
        "model_pred = lda.predict(X_test)\n",
        "precision,recall,f1_score = evaluate_fn(y_test, model_pred)  # takes y_test and model pred\n",
        "print(\"precision : \",precision,'\\n',\"recall :\",recall,'\\n',\"f1_score :\",f1_score)\n",
        "print(\"\\n\")\n",
        "\n",
        "#k-fold\n",
        "acc = k_evaluate(10, lda, x[feature_names[selected_features]], y)  # here k 10"
      ]
    },
    {
      "cell_type": "markdown",
      "metadata": {
        "id": "5H9Wk1sBnoHr"
      },
      "source": [
        "### Decision Tree"
      ]
    },
    {
      "cell_type": "code",
      "execution_count": null,
      "metadata": {
        "colab": {
          "base_uri": "https://localhost:8080/",
          "height": 594
        },
        "id": "jHOrx8OVnedy",
        "outputId": "d4ec60ac-e336-4b71-8c39-01d8e080c94e"
      },
      "outputs": [
        {
          "name": "stdout",
          "output_type": "stream",
          "text": [
            "Subset accuracy: 0.9473684210526315\n",
            "[[69  3]\n",
            " [ 3 39]]\n",
            "\n",
            "\n",
            "              precision    recall  f1-score   support\n",
            "\n",
            "           0       0.96      0.96      0.96        72\n",
            "           1       0.93      0.93      0.93        42\n",
            "\n",
            "    accuracy                           0.95       114\n",
            "   macro avg       0.94      0.94      0.94       114\n",
            "weighted avg       0.95      0.95      0.95       114\n",
            "\n"
          ]
        },
        {
          "name": "stderr",
          "output_type": "stream",
          "text": [
            "/home/shadowdude/dude/lib/python3.10/site-packages/sklearn/utils/deprecation.py:87: FutureWarning:\n",
            "\n",
            "Function plot_confusion_matrix is deprecated; Function `plot_confusion_matrix` is deprecated in 1.0 and will be removed in 1.2. Use one of the class methods: ConfusionMatrixDisplay.from_predictions or ConfusionMatrixDisplay.from_estimator.\n",
            "\n"
          ]
        },
        {
          "data": {
            "text/plain": [
              "<sklearn.metrics._plot.confusion_matrix.ConfusionMatrixDisplay at 0x7faa6b735480>"
            ]
          },
          "execution_count": 61,
          "metadata": {},
          "output_type": "execute_result"
        },
        {
          "data": {
            "image/png": "[encoded data removed]",
            "text/plain": [
              "<Figure size 640x480 with 2 Axes>"
            ]
          },
          "metadata": {},
          "output_type": "display_data"
        }
      ],
      "source": [
        "dt = DecisionTreeClassifier(criterion='entropy', random_state=0)\n",
        "\n",
        "# X_train = sc.fit_transform(X_train[:, selected_features])\n",
        "# X_test = sc.transform(X_test[:, selected_features])\n",
        "dt.fit(X_train, y_train)\n",
        "print('Subset accuracy:', dt.score(X_test, y_test))\n",
        "\n",
        "# plot confusion matrix\n",
        "model_pred = dt.predict(X_test)\n",
        "print(confusion_matrix(y_test,model_pred))\n",
        "print('\\n')\n",
        "print(classification_report(y_test,model_pred))\n",
        "plot_confusion_matrix(dt, X_test, y_test)\n"
      ]
    },
    {
      "cell_type": "code",
      "execution_count": null,
      "metadata": {
        "colab": {
          "base_uri": "https://localhost:8080/"
        },
        "id": "OXCREVCPoEig",
        "outputId": "e0fb1226-40c4-4e48-a415-074960262306"
      },
      "outputs": [
        {
          "name": "stdout",
          "output_type": "stream",
          "text": [
            "precision :  0.9583333333333334 \n",
            " recall : 0.9583333333333334 \n",
            " f1_score : 0.9583333333333334\n",
            "\n",
            "\n",
            "for fold: 2, accuracy is: 0.9262107734124042\n",
            "for fold: 3, accuracy is: 0.9139144156688017\n",
            "for fold: 4, accuracy is: 0.9420122131389737\n",
            "for fold: 5, accuracy is: 0.9262536873156343\n",
            "for fold: 6, accuracy is: 0.9403135498320269\n",
            "for fold: 7, accuracy is: 0.9315180453391835\n",
            "for fold: 8, accuracy is: 0.94552034428795\n",
            "for fold: 9, accuracy is: 0.9297288359788359\n",
            "for fold: 10, accuracy is: 0.9350250626566415\n",
            "Best fit\n",
            "8 gives accuracy of 0.94552034428795\n"
          ]
        }
      ],
      "source": [
        "# Calculate all\n",
        "model_pred = dt.predict(X_test)\n",
        "precision,recall,f1_score = evaluate_fn(y_test, model_pred)  # takes y_test and model pred\n",
        "print(\"precision : \",precision,'\\n',\"recall :\",recall,'\\n',\"f1_score :\",f1_score)\n",
        "print(\"\\n\")\n",
        "\n",
        "#k-fold\n",
        "acc = k_evaluate(10,dt, x[feature_names[selected_features]], y)  # here k 10"
      ]
    },
    {
      "cell_type": "markdown",
      "metadata": {
        "id": "nOjbf6I_oVJr"
      },
      "source": [
        "# Comparison\n",
        "\n",
        "See the Breast Cancer Report card."
      ]
    },
    {
      "cell_type": "markdown",
      "metadata": {
        "id": "4Z7NKLKRfIKa"
      },
      "source": [
        "<a name=HGJ></a>\n",
        "# Hybrid GWO with JAYA"
      ]
    },
    {
      "cell_type": "code",
      "execution_count": null,
      "metadata": {
        "id": "82CF7YmPl9bo"
      },
      "outputs": [],
      "source": [
        "# import os\n",
        "# os.chdir(\"/content/drive/MyDrive/Adv Machine Learning\")\n",
        "# os.listdir()"
      ]
    },
    {
      "cell_type": "code",
      "execution_count": null,
      "metadata": {
        "id": "Ubfco-I5nPP6"
      },
      "outputs": [],
      "source": [
        "# %cd 'Wrapper-Feature-Selection-Toolbox-Python-main'"
      ]
    },
    {
      "cell_type": "code",
      "execution_count": null,
      "metadata": {
        "id": "snBkVW3Dl7ZA"
      },
      "outputs": [],
      "source": [
        "from sklearn.neighbors import KNeighborsClassifier\n",
        "from FS.GWOJA import jfs   # change this to switch algorithm"
      ]
    },
    {
      "cell_type": "code",
      "execution_count": null,
      "metadata": {
        "colab": {
          "base_uri": "https://localhost:8080/"
        },
        "id": "gKvSfWb3nZ7O",
        "outputId": "d07fd8b6-a20b-4b0c-c198-3cd8c3a318dd"
      },
      "outputs": [
        {
          "name": "stdout",
          "output_type": "stream",
          "text": [
            "x_train shape:  (455, 30)\n",
            "y_train shape:  (455,)\n",
            "x_text:  (114, 30)\n",
            "y_test:  (114,)\n"
          ]
        }
      ],
      "source": [
        "\n",
        "# grab our features\n",
        "# y = data['diagnosis']\n",
        "x = data.drop(['diagnosis'], axis= 1)\n",
        "from sklearn.model_selection import train_test_split\n",
        "x_train, x_test, y_train, y_test = train_test_split(x, y, test_size = 0.2, random_state = 101)\n",
        "print(\"x_train shape: \", x_train.shape)\n",
        "print(\"y_train shape: \", y_train.shape)\n",
        "print(\"x_text: \",x_test.shape)\n",
        "print(\"y_test: \",y_test.shape)\n",
        "\n",
        "from sklearn.preprocessing import StandardScaler\n",
        "sc = StandardScaler()\n",
        "x_train = sc.fit_transform(x_train)\n",
        "x_test = sc.transform(x_test)"
      ]
    },
    {
      "cell_type": "code",
      "execution_count": null,
      "metadata": {
        "id": "dvVveyDPoEfQ"
      },
      "outputs": [],
      "source": [
        "# parameter\n",
        "k    = 5     # k-value in KNN\n",
        "N    = 10    # number of chromosomes\n",
        "T    = 100   # maximum number of generations\n",
        "CR   = 0.8\n",
        "MR   = 0.01\n",
        "fold = {'xt':x_train, 'yt':y_train, 'xv':x_test, 'yv':y_test}\n",
        "x = x.to_numpy()\n",
        "opts = {'k':k, 'fold':fold, 'N':N, 'T':T, 'CR':CR, 'MR':MR}\n"
      ]
    },
    {
      "cell_type": "code",
      "execution_count": null,
      "metadata": {
        "colab": {
          "base_uri": "https://localhost:8080/"
        },
        "id": "VnHbsIu3oQoj",
        "outputId": "f72f1661-328a-4084-c1fa-d709df3f5bac"
      },
      "outputs": [
        {
          "name": "stdout",
          "output_type": "stream",
          "text": [
            "<class 'numpy.ndarray'>\n",
            "<class 'numpy.ndarray'>\n"
          ]
        }
      ],
      "source": [
        "# y = y.values\n",
        "print(type(x))\n",
        "\n",
        "print(type(y))"
      ]
    },
    {
      "cell_type": "code",
      "execution_count": null,
      "metadata": {
        "colab": {
          "base_uri": "https://localhost:8080/"
        },
        "id": "kejiz6QhpKLS",
        "outputId": "c3ccc296-7fce-428a-d11f-03f1029928dc",
        "scrolled": true
      },
      "outputs": [
        {
          "name": "stdout",
          "output_type": "stream",
          "text": [
            "Iteration: 1\n",
            "Best (GWO): 0.03973684210526316\n",
            "Iteration: 2\n",
            "Best (GWOJA): 0.03840350877192983\n",
            "Iteration: 3\n",
            "Best (GWOJA): 0.02070175438596497\n",
            "Iteration: 4\n",
            "Best (GWOJA): 0.02070175438596497\n",
            "Iteration: 5\n",
            "Best (GWOJA): 0.02070175438596497\n",
            "Iteration: 6\n",
            "Best (GWOJA): 0.02070175438596497\n",
            "Iteration: 7\n",
            "Best (GWOJA): 0.02070175438596497\n",
            "Iteration: 8\n",
            "Best (GWOJA): 0.02070175438596497\n",
            "Iteration: 9\n",
            "Best (GWOJA): 0.02070175438596497\n",
            "Iteration: 10\n",
            "Best (GWOJA): 0.02070175438596497\n",
            "Iteration: 11\n",
            "Best (GWOJA): 0.02070175438596497\n",
            "Iteration: 12\n",
            "Best (GWOJA): 0.02070175438596497\n",
            "Iteration: 13\n",
            "Best (GWOJA): 0.012350877192982487\n",
            "Iteration: 14\n",
            "Best (GWOJA): 0.012350877192982487\n",
            "Iteration: 15\n",
            "Best (GWOJA): 0.012350877192982487\n",
            "Iteration: 16\n",
            "Best (GWOJA): 0.01168421052631582\n",
            "Iteration: 17\n",
            "Best (GWOJA): 0.01168421052631582\n",
            "Iteration: 18\n",
            "Best (GWOJA): 0.01168421052631582\n",
            "Iteration: 19\n",
            "Best (GWOJA): 0.01168421052631582\n",
            "Iteration: 20\n",
            "Best (GWOJA): 0.01168421052631582\n",
            "Iteration: 21\n",
            "Best (GWOJA): 0.01168421052631582\n",
            "Iteration: 22\n",
            "Best (GWOJA): 0.011350877192982486\n",
            "Iteration: 23\n",
            "Best (GWOJA): 0.011017543859649152\n",
            "Iteration: 24\n",
            "Best (GWOJA): 0.011017543859649152\n",
            "Iteration: 25\n",
            "Best (GWOJA): 0.011017543859649152\n",
            "Iteration: 26\n",
            "Best (GWOJA): 0.010684210526315819\n",
            "Iteration: 27\n",
            "Best (GWOJA): 0.0020000000000000018\n",
            "Iteration: 28\n",
            "Best (GWOJA): 0.0020000000000000018\n",
            "Iteration: 29\n",
            "Best (GWOJA): 0.0020000000000000018\n",
            "Iteration: 30\n",
            "Best (GWOJA): 0.0020000000000000018\n",
            "Iteration: 31\n",
            "Best (GWOJA): 0.0020000000000000018\n",
            "Iteration: 32\n",
            "Best (GWOJA): 0.0020000000000000018\n",
            "Iteration: 33\n",
            "Best (GWOJA): 0.0020000000000000018\n",
            "Iteration: 34\n",
            "Best (GWOJA): 0.0020000000000000018\n",
            "Iteration: 35\n",
            "Best (GWOJA): 0.0020000000000000018\n",
            "Iteration: 36\n",
            "Best (GWOJA): 0.0020000000000000018\n",
            "Iteration: 37\n",
            "Best (GWOJA): 0.0020000000000000018\n",
            "Iteration: 38\n",
            "Best (GWOJA): 0.0020000000000000018\n",
            "Iteration: 39\n",
            "Best (GWOJA): 0.0020000000000000018\n",
            "Iteration: 40\n",
            "Best (GWOJA): 0.0020000000000000018\n",
            "Iteration: 41\n",
            "Best (GWOJA): 0.0020000000000000018\n",
            "Iteration: 42\n",
            "Best (GWOJA): 0.0020000000000000018\n",
            "Iteration: 43\n",
            "Best (GWOJA): 0.0020000000000000018\n",
            "Iteration: 44\n",
            "Best (GWOJA): 0.0020000000000000018\n",
            "Iteration: 45\n",
            "Best (GWOJA): 0.0020000000000000018\n",
            "Iteration: 46\n",
            "Best (GWOJA): 0.0020000000000000018\n",
            "Iteration: 47\n",
            "Best (GWOJA): 0.0020000000000000018\n",
            "Iteration: 48\n",
            "Best (GWOJA): 0.0020000000000000018\n",
            "Iteration: 49\n",
            "Best (GWOJA): 0.0020000000000000018\n",
            "Iteration: 50\n",
            "Best (GWOJA): 0.0020000000000000018\n",
            "Iteration: 51\n",
            "Best (GWOJA): 0.0020000000000000018\n",
            "Iteration: 52\n",
            "Best (GWOJA): 0.0020000000000000018\n",
            "Iteration: 53\n",
            "Best (GWOJA): 0.0020000000000000018\n",
            "Iteration: 54\n",
            "Best (GWOJA): 0.0020000000000000018\n",
            "Iteration: 55\n",
            "Best (GWOJA): 0.0020000000000000018\n",
            "Iteration: 56\n",
            "Best (GWOJA): 0.0020000000000000018\n",
            "Iteration: 57\n",
            "Best (GWOJA): 0.0020000000000000018\n",
            "Iteration: 58\n",
            "Best (GWOJA): 0.0020000000000000018\n",
            "Iteration: 59\n",
            "Best (GWOJA): 0.0020000000000000018\n",
            "Iteration: 60\n",
            "Best (GWOJA): 0.0020000000000000018\n",
            "Iteration: 61\n",
            "Best (GWOJA): 0.0020000000000000018\n",
            "Iteration: 62\n",
            "Best (GWOJA): 0.0020000000000000018\n",
            "Iteration: 63\n",
            "Best (GWOJA): 0.0020000000000000018\n",
            "Iteration: 64\n",
            "Best (GWOJA): 0.0020000000000000018\n",
            "Iteration: 65\n",
            "Best (GWOJA): 0.0020000000000000018\n",
            "Iteration: 66\n",
            "Best (GWOJA): 0.0020000000000000018\n",
            "Iteration: 67\n",
            "Best (GWOJA): 0.0020000000000000018\n",
            "Iteration: 68\n",
            "Best (GWOJA): 0.0020000000000000018\n",
            "Iteration: 69\n",
            "Best (GWOJA): 0.0020000000000000018\n",
            "Iteration: 70\n",
            "Best (GWOJA): 0.0020000000000000018\n",
            "Iteration: 71\n",
            "Best (GWOJA): 0.0020000000000000018\n",
            "Iteration: 72\n",
            "Best (GWOJA): 0.0020000000000000018\n",
            "Iteration: 73\n",
            "Best (GWOJA): 0.0020000000000000018\n",
            "Iteration: 74\n",
            "Best (GWOJA): 0.0020000000000000018\n",
            "Iteration: 75\n",
            "Best (GWOJA): 0.0020000000000000018\n",
            "Iteration: 76\n",
            "Best (GWOJA): 0.0020000000000000018\n",
            "Iteration: 77\n",
            "Best (GWOJA): 0.0020000000000000018\n",
            "Iteration: 78\n",
            "Best (GWOJA): 0.0020000000000000018\n",
            "Iteration: 79\n",
            "Best (GWOJA): 0.0020000000000000018\n",
            "Iteration: 80\n",
            "Best (GWOJA): 0.0020000000000000018\n",
            "Iteration: 81\n",
            "Best (GWOJA): 0.0020000000000000018\n",
            "Iteration: 82\n",
            "Best (GWOJA): 0.0020000000000000018\n",
            "Iteration: 83\n",
            "Best (GWOJA): 0.0020000000000000018\n",
            "Iteration: 84\n",
            "Best (GWOJA): 0.0020000000000000018\n",
            "Iteration: 85\n",
            "Best (GWOJA): 0.0020000000000000018\n",
            "Iteration: 86\n",
            "Best (GWOJA): 0.0020000000000000018\n",
            "Iteration: 87\n",
            "Best (GWOJA): 0.0020000000000000018\n",
            "Iteration: 88\n",
            "Best (GWOJA): 0.0020000000000000018\n",
            "Iteration: 89\n",
            "Best (GWOJA): 0.0020000000000000018\n",
            "Iteration: 90\n",
            "Best (GWOJA): 0.0020000000000000018\n",
            "Iteration: 91\n",
            "Best (GWOJA): 0.0020000000000000018\n",
            "Iteration: 92\n",
            "Best (GWOJA): 0.0020000000000000018\n",
            "Iteration: 93\n",
            "Best (GWOJA): 0.0020000000000000018\n",
            "Iteration: 94\n",
            "Best (GWOJA): 0.0020000000000000018\n",
            "Iteration: 95\n",
            "Best (GWOJA): 0.0020000000000000018\n",
            "Iteration: 96\n",
            "Best (GWOJA): 0.0020000000000000018\n",
            "Iteration: 97\n",
            "Best (GWOJA): 0.0020000000000000018\n",
            "Iteration: 98\n",
            "Best (GWOJA): 0.0020000000000000018\n",
            "Iteration: 99\n",
            "Best (GWOJA): 0.0020000000000000018\n",
            "Iteration: 100\n",
            "Best (GWOJA): 0.0020000000000000018\n"
          ]
        }
      ],
      "source": [
        "fmdl = jfs(x, y, opts)\n",
        "sf   = fmdl['sf']"
      ]
    },
    {
      "cell_type": "code",
      "execution_count": null,
      "metadata": {
        "id": "3cjvaQUCAFlJ"
      },
      "outputs": [],
      "source": [
        "# model with selected features\n",
        "num_train = np.size(x_train, 0)\n",
        "num_valid = np.size(x_test, 0)\n",
        "x_train   = x_train[:, sf]\n",
        "y_train   = y_train.reshape(num_train)  # Solve bug\n",
        "x_valid   = x_test[:, sf]\n",
        "y_valid   = y_test.reshape(num_valid)  # Solve bug"
      ]
    },
    {
      "cell_type": "code",
      "execution_count": null,
      "metadata": {
        "colab": {
          "base_uri": "https://localhost:8080/",
          "height": 1000
        },
        "id": "POHxoPVkAFtY",
        "outputId": "b0bd5f4c-ed6f-489d-bd1d-874a01297181"
      },
      "outputs": [
        {
          "data": {
            "text/plain": [
              "<AxesSubplot: >"
            ]
          },
          "execution_count": 71,
          "metadata": {},
          "output_type": "execute_result"
        },
        {
          "data": {
            "image/png": "[encoded data removed]",
            "text/plain": [
              "<Figure size 1500x1600 with 2 Axes>"
            ]
          },
          "metadata": {},
          "output_type": "display_data"
        }
      ],
      "source": [
        "f = fmdl['sf']   ## its 11\n",
        "# featching features\n",
        "features = []\n",
        "for key, val in col_dict.items():\n",
        "  if key in f:\n",
        "    features.append(col_dict.get(key))\n",
        "cor = data[features].corr()\n",
        "plt.figure(figsize=(15,16))\n",
        "sns.heatmap(cor)"
      ]
    },
    {
      "cell_type": "code",
      "execution_count": null,
      "metadata": {
        "colab": {
          "base_uri": "https://localhost:8080/"
        },
        "id": "Er3cHZerKmB7",
        "outputId": "ab18da7a-798e-4c0d-e198-11a20d83a966"
      },
      "outputs": [
        {
          "data": {
            "text/plain": [
              "6"
            ]
          },
          "execution_count": 72,
          "metadata": {},
          "output_type": "execute_result"
        }
      ],
      "source": [
        "len(features)"
      ]
    },
    {
      "cell_type": "markdown",
      "metadata": {
        "id": "DhkokL2QsYAe"
      },
      "source": [
        "<a name=HC></a>\n",
        "## Classification"
      ]
    },
    {
      "cell_type": "markdown",
      "metadata": {
        "id": "vPIf7rTIFSKO"
      },
      "source": [
        "### SVM"
      ]
    },
    {
      "cell_type": "code",
      "execution_count": null,
      "metadata": {
        "id": "r6sZTn36FMId"
      },
      "outputs": [],
      "source": [
        "# Model\n",
        "model = SVC()\n",
        "model.fit(x_train,y_train)\n",
        "model_pred = model.predict(x_valid)"
      ]
    },
    {
      "cell_type": "code",
      "execution_count": null,
      "metadata": {
        "colab": {
          "base_uri": "https://localhost:8080/",
          "height": 632
        },
        "id": "h_UuschTFEsL",
        "outputId": "7ee572fb-a30a-45cf-c085-e940bf79b6e3"
      },
      "outputs": [
        {
          "name": "stdout",
          "output_type": "stream",
          "text": [
            "[[71  1]\n",
            " [ 2 40]]\n",
            "\n",
            "\n",
            "              precision    recall  f1-score   support\n",
            "\n",
            "           0       0.97      0.99      0.98        72\n",
            "           1       0.98      0.95      0.96        42\n",
            "\n",
            "    accuracy                           0.97       114\n",
            "   macro avg       0.97      0.97      0.97       114\n",
            "weighted avg       0.97      0.97      0.97       114\n",
            "\n"
          ]
        },
        {
          "name": "stderr",
          "output_type": "stream",
          "text": [
            "/home/shadowdude/dude/lib/python3.10/site-packages/sklearn/utils/deprecation.py:87: FutureWarning:\n",
            "\n",
            "Function plot_confusion_matrix is deprecated; Function `plot_confusion_matrix` is deprecated in 1.0 and will be removed in 1.2. Use one of the class methods: ConfusionMatrixDisplay.from_predictions or ConfusionMatrixDisplay.from_estimator.\n",
            "\n"
          ]
        },
        {
          "data": {
            "text/plain": [
              "<sklearn.metrics._plot.confusion_matrix.ConfusionMatrixDisplay at 0x7faa6b29ebf0>"
            ]
          },
          "execution_count": 74,
          "metadata": {},
          "output_type": "execute_result"
        },
        {
          "data": {
            "image/png": "[encoded data removed]",
            "text/plain": [
              "<Figure size 640x480 with 2 Axes>"
            ]
          },
          "metadata": {},
          "output_type": "display_data"
        }
      ],
      "source": [
        "print(confusion_matrix(y_valid,model_pred))\n",
        "print('\\n')\n",
        "print(classification_report(y_valid,model_pred))\n",
        "plot_confusion_matrix(model, x_valid, y_valid)"
      ]
    },
    {
      "cell_type": "code",
      "execution_count": null,
      "metadata": {
        "id": "fR9sHRg4FEwz"
      },
      "outputs": [],
      "source": [
        "# ROC curve\n",
        "# plot_roc_curve(model, x_valid, y_valid)"
      ]
    },
    {
      "cell_type": "code",
      "execution_count": null,
      "metadata": {
        "colab": {
          "base_uri": "https://localhost:8080/"
        },
        "id": "VS8JlsX8FbxP",
        "outputId": "d0ad7bea-2198-40b5-e7e9-887a2c473a20"
      },
      "outputs": [
        {
          "name": "stdout",
          "output_type": "stream",
          "text": [
            "precision :  0.9861111111111112 \n",
            " recall : 0.9726027397260274 \n",
            " f1_score : 0.9793103448275863\n"
          ]
        }
      ],
      "source": [
        "# Calculate all\n",
        "precision,recall,f1_score = evaluate_fn(y_valid, model_pred)  # takes y_test and model pred\n",
        "print(\"precision : \",precision,'\\n',\"recall :\",recall,'\\n',\"f1_score :\",f1_score)"
      ]
    },
    {
      "cell_type": "code",
      "execution_count": null,
      "metadata": {
        "colab": {
          "base_uri": "https://localhost:8080/"
        },
        "id": "6iUcyuzVFb4_",
        "outputId": "fed1bc61-b8b5-425a-fe4f-c7326a696348"
      },
      "outputs": [
        {
          "name": "stdout",
          "output_type": "stream",
          "text": [
            "for fold: 2, accuracy is: 0.8875092661230541\n",
            "for fold: 3, accuracy is: 0.8804696927503946\n",
            "for fold: 4, accuracy is: 0.8928149315473259\n",
            "for fold: 5, accuracy is: 0.8857165036485017\n",
            "for fold: 6, accuracy is: 0.8769130272489735\n",
            "for fold: 7, accuracy is: 0.8788015657934356\n",
            "for fold: 8, accuracy is: 0.883949530516432\n",
            "for fold: 9, accuracy is: 0.8840388007054673\n",
            "for fold: 10, accuracy is: 0.8855576441102757\n",
            "Best fit\n",
            "4 gives accuracy of 0.8928149315473259\n"
          ]
        }
      ],
      "source": [
        "#Kfold\n",
        "acc = k_evaluate(10,model, x[:, sf], y)  # here k 10"
      ]
    },
    {
      "cell_type": "markdown",
      "metadata": {
        "id": "yLXLDG9-Fnrk"
      },
      "source": [
        "### Decision Tree"
      ]
    },
    {
      "cell_type": "code",
      "execution_count": null,
      "metadata": {
        "colab": {
          "base_uri": "https://localhost:8080/",
          "height": 632
        },
        "id": "oeZyQoE4Fb-v",
        "outputId": "a2b2e556-49e2-445d-e6c1-11ae51387276"
      },
      "outputs": [
        {
          "name": "stdout",
          "output_type": "stream",
          "text": [
            "[[67  5]\n",
            " [ 2 40]]\n",
            "\n",
            "\n",
            "              precision    recall  f1-score   support\n",
            "\n",
            "           0       0.97      0.93      0.95        72\n",
            "           1       0.89      0.95      0.92        42\n",
            "\n",
            "    accuracy                           0.94       114\n",
            "   macro avg       0.93      0.94      0.93       114\n",
            "weighted avg       0.94      0.94      0.94       114\n",
            "\n"
          ]
        },
        {
          "name": "stderr",
          "output_type": "stream",
          "text": [
            "/home/shadowdude/dude/lib/python3.10/site-packages/sklearn/utils/deprecation.py:87: FutureWarning:\n",
            "\n",
            "Function plot_confusion_matrix is deprecated; Function `plot_confusion_matrix` is deprecated in 1.0 and will be removed in 1.2. Use one of the class methods: ConfusionMatrixDisplay.from_predictions or ConfusionMatrixDisplay.from_estimator.\n",
            "\n"
          ]
        },
        {
          "data": {
            "text/plain": [
              "<sklearn.metrics._plot.confusion_matrix.ConfusionMatrixDisplay at 0x7faa6b14cb20>"
            ]
          },
          "execution_count": 79,
          "metadata": {},
          "output_type": "execute_result"
        },
        {
          "data": {
            "image/png": "[encoded data removed]",
            "text/plain": [
              "<Figure size 640x480 with 2 Axes>"
            ]
          },
          "metadata": {},
          "output_type": "display_data"
        }
      ],
      "source": [
        "dt = DecisionTreeClassifier(criterion='entropy', random_state=0)\n",
        "dt.fit(x_train, y_train)\n",
        "dt_pred = dt.predict(x_valid)\n",
        "\n",
        "print(confusion_matrix(y_valid,dt_pred))\n",
        "print('\\n')\n",
        "print(classification_report(y_valid,dt_pred))\n",
        "plot_confusion_matrix(dt, x_valid, y_valid)"
      ]
    },
    {
      "cell_type": "code",
      "execution_count": null,
      "metadata": {
        "colab": {
          "base_uri": "https://localhost:8080/"
        },
        "id": "yBNWS4LDFrPL",
        "outputId": "3e2f86ec-d4f4-477d-cd37-b2fdbb3e4662"
      },
      "outputs": [
        {
          "name": "stdout",
          "output_type": "stream",
          "text": [
            "precision :  0.9305555555555556 \n",
            " recall : 0.9710144927536232 \n",
            " f1_score : 0.9503546099290779\n"
          ]
        }
      ],
      "source": [
        "# Calculate all\n",
        "precision,recall,f1_score = evaluate_fn(y_valid, dt_pred)  # takes y_test and model pred\n",
        "print(\"precision : \",precision,'\\n',\"recall :\",recall,'\\n',\"f1_score :\",f1_score)"
      ]
    },
    {
      "cell_type": "code",
      "execution_count": null,
      "metadata": {
        "colab": {
          "base_uri": "https://localhost:8080/"
        },
        "id": "Bbq5d2eZFrUx",
        "outputId": "1a3ee174-169a-4980-8b1d-eaefb9ba5e9b"
      },
      "outputs": [
        {
          "name": "stdout",
          "output_type": "stream",
          "text": [
            "for fold: 2, accuracy is: 0.9332592043489004\n",
            "for fold: 3, accuracy is: 0.922686345493363\n",
            "for fold: 4, accuracy is: 0.9367182113660987\n",
            "for fold: 5, accuracy is: 0.9385033379909953\n",
            "for fold: 6, accuracy is: 0.9419932810750279\n",
            "for fold: 7, accuracy is: 0.9420140233148363\n",
            "for fold: 8, accuracy is: 0.9402386541471048\n",
            "for fold: 9, accuracy is: 0.9437555114638447\n",
            "for fold: 10, accuracy is: 0.9402255639097744\n",
            "Best fit\n",
            "9 gives accuracy of 0.9437555114638447\n"
          ]
        }
      ],
      "source": [
        "#Kfold\n",
        "acc = k_evaluate(10,dt, x[:, sf], y)  # here k 10"
      ]
    },
    {
      "cell_type": "markdown",
      "metadata": {
        "id": "k9_SbASqGiP2"
      },
      "source": [
        "### LDA"
      ]
    },
    {
      "cell_type": "code",
      "execution_count": null,
      "metadata": {
        "colab": {
          "base_uri": "https://localhost:8080/",
          "height": 633
        },
        "id": "ReuU1yhDFraT",
        "outputId": "211a380e-2275-4c95-b131-aacc562b8b27"
      },
      "outputs": [
        {
          "name": "stdout",
          "output_type": "stream",
          "text": [
            "[[72  0]\n",
            " [ 5 37]]\n",
            "\n",
            "\n",
            "              precision    recall  f1-score   support\n",
            "\n",
            "           0       0.94      1.00      0.97        72\n",
            "           1       1.00      0.88      0.94        42\n",
            "\n",
            "    accuracy                           0.96       114\n",
            "   macro avg       0.97      0.94      0.95       114\n",
            "weighted avg       0.96      0.96      0.96       114\n",
            "\n"
          ]
        },
        {
          "name": "stderr",
          "output_type": "stream",
          "text": [
            "/home/shadowdude/dude/lib/python3.10/site-packages/sklearn/utils/deprecation.py:87: FutureWarning:\n",
            "\n",
            "Function plot_confusion_matrix is deprecated; Function `plot_confusion_matrix` is deprecated in 1.0 and will be removed in 1.2. Use one of the class methods: ConfusionMatrixDisplay.from_predictions or ConfusionMatrixDisplay.from_estimator.\n",
            "\n"
          ]
        },
        {
          "data": {
            "text/plain": [
              "<sklearn.metrics._plot.confusion_matrix.ConfusionMatrixDisplay at 0x7faa50791300>"
            ]
          },
          "execution_count": 82,
          "metadata": {},
          "output_type": "execute_result"
        },
        {
          "data": {
            "image/png": "[encoded data removed]",
            "text/plain": [
              "<Figure size 640x480 with 2 Axes>"
            ]
          },
          "metadata": {},
          "output_type": "display_data"
        }
      ],
      "source": [
        "lda = LinearDiscriminantAnalysis()\n",
        "lda.fit(x_train,y_train)\n",
        "lda_pred = lda.predict(x_valid)\n",
        "\n",
        "print(confusion_matrix(y_valid,lda_pred))\n",
        "print('\\n')\n",
        "print(classification_report(y_valid,lda_pred))\n",
        "plot_confusion_matrix(lda, x_valid, y_valid)"
      ]
    },
    {
      "cell_type": "code",
      "execution_count": null,
      "metadata": {
        "colab": {
          "base_uri": "https://localhost:8080/"
        },
        "id": "BZH_VkwxGzM_",
        "outputId": "295944dd-f75f-457d-9f88-63042012d675"
      },
      "outputs": [
        {
          "name": "stdout",
          "output_type": "stream",
          "text": [
            "precision :  1.0 \n",
            " recall : 0.935064935064935 \n",
            " f1_score : 0.9664429530201343\n"
          ]
        }
      ],
      "source": [
        "# Calculate all\n",
        "precision,recall,f1_score = evaluate_fn(y_valid, lda_pred)  # takes y_test and model pred\n",
        "print(\"precision : \",precision,'\\n',\"recall :\",recall,'\\n',\"f1_score :\",f1_score)"
      ]
    },
    {
      "cell_type": "code",
      "execution_count": null,
      "metadata": {
        "colab": {
          "base_uri": "https://localhost:8080/"
        },
        "id": "ftzp8bMyGzTS",
        "outputId": "538bdd05-08f2-4420-c720-a1d5bcecf419"
      },
      "outputs": [
        {
          "name": "stdout",
          "output_type": "stream",
          "text": [
            "for fold: 2, accuracy is: 0.9455584383493947\n",
            "for fold: 3, accuracy is: 0.9508029332590736\n",
            "for fold: 4, accuracy is: 0.9525879050526938\n",
            "for fold: 5, accuracy is: 0.9525694767893185\n",
            "for fold: 6, accuracy is: 0.9508212019410228\n",
            "for fold: 7, accuracy is: 0.9508753817696906\n",
            "for fold: 8, accuracy is: 0.9525870500782473\n",
            "for fold: 9, accuracy is: 0.9543650793650793\n",
            "for fold: 10, accuracy is: 0.9507832080200501\n",
            "Best fit\n",
            "9 gives accuracy of 0.9543650793650793\n"
          ]
        }
      ],
      "source": [
        "#Kfold\n",
        "acc = k_evaluate(10,lda, x[:, sf], y)  # here k 10"
      ]
    },
    {
      "cell_type": "markdown",
      "metadata": {
        "id": "zK32RcUZGzcG"
      },
      "source": [
        "# Great Job"
      ]
    }
  ],
  "metadata": {
    "colab": {
      "collapsed_sections": [
        "m5lgQQMzPXju",
        "6bJ6GJqbENhq",
        "gUmxgQyUExCb",
        "h-KTfAnDGWVd",
        "yPe7B-waKObw",
        "qmmWseqsL-TS",
        "y57poN5oMmVR",
        "Zzlr8Hu1g4u4",
        "Kvf3Lka_kcf9",
        "FxWGx405ljoQ",
        "WgxAWLy_I32y"
      ],
      "provenance": []
    },
    "kernelspec": {
      "display_name": "Python 3 (ipykernel)",
      "language": "python",
      "name": "python3"
    },
    "language_info": {
      "codemirror_mode": {
        "name": "ipython",
        "version": 3
      },
      "file_extension": ".py",
      "mimetype": "text/x-python",
      "name": "python",
      "nbconvert_exporter": "python",
      "pygments_lexer": "ipython3",
      "version": "3.10.7"
    },
    "accelerator": "GPU",
    "gpuClass": "standard"
  },
  "nbformat": 4,
  "nbformat_minor": 0
}